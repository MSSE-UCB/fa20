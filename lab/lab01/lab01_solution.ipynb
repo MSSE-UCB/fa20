{
 "cells": [
  {
   "cell_type": "code",
   "execution_count": 1,
   "metadata": {
    "deletable": false,
    "editable": false
   },
   "outputs": [],
   "source": [
    "# Initialize Otter\n",
    "import otter\n",
    "grader = otter.Notebook(\"lab01.ipynb\")"
   ]
  },
  {
   "cell_type": "markdown",
   "metadata": {
    "nbgrader": {
     "grade": false,
     "grade_id": "intro",
     "locked": true,
     "schema_version": 2,
     "solution": false
    }
   },
   "source": [
    "# Lab 1\n",
    "\n",
    "Welcome to the first lab of Data 100! This lab is meant to help you familiarize yourself with JupyterHub, review Python and NumPy, and introduce you to `matplotlib`, a Python visualization library. \n",
    "\n",
    "To receive credit for a lab, answer all questions correctly and submit before the deadline.\n",
    "\n",
    "**This lab is due Sunday, February 7th at 11:59 PM.**"
   ]
  },
  {
   "cell_type": "markdown",
   "metadata": {},
   "source": [
    "### Collaboration Policy\n",
    "\n",
    "Data science is a collaborative activity. While you may talk with others about the labs, we ask that you **write your solutions individually**. If you do discuss the assignments with others please **include their names** below. (That's a good way to learn your classmates' names.)"
   ]
  },
  {
   "cell_type": "markdown",
   "metadata": {},
   "source": [
    "**Collaborators**: *list collaborators here*"
   ]
  },
  {
   "cell_type": "markdown",
   "metadata": {
    "nbgrader": {
     "grade": false,
     "grade_id": "running-a-cell",
     "locked": true,
     "schema_version": 2,
     "solution": false
    }
   },
   "source": [
    "---\n",
    "## Part 1: Jupyter Tips\n"
   ]
  },
  {
   "cell_type": "markdown",
   "metadata": {},
   "source": [
    "### Viewing Documentation\n",
    "\n",
    "To output the documentation for a function, use the `help` function."
   ]
  },
  {
   "cell_type": "code",
   "execution_count": 2,
   "metadata": {
    "ExecuteTime": {
     "end_time": "2019-01-18T23:27:51.618364Z",
     "start_time": "2019-01-18T23:27:51.596329Z"
    }
   },
   "outputs": [
    {
     "name": "stdout",
     "output_type": "stream",
     "text": [
      "Help on built-in function print in module builtins:\n",
      "\n",
      "print(...)\n",
      "    print(value, ..., sep=' ', end='\\n', file=sys.stdout, flush=False)\n",
      "    \n",
      "    Prints the values to a stream, or to sys.stdout by default.\n",
      "    Optional keyword arguments:\n",
      "    file:  a file-like object (stream); defaults to the current sys.stdout.\n",
      "    sep:   string inserted between values, default a space.\n",
      "    end:   string appended after the last value, default a newline.\n",
      "    flush: whether to forcibly flush the stream.\n",
      "\n"
     ]
    }
   ],
   "source": [
    "help(print)"
   ]
  },
  {
   "cell_type": "markdown",
   "metadata": {},
   "source": [
    "You can also use Jupyter to view function documentation inside your notebook. The function must already be defined in the kernel for this to work.\n",
    "\n",
    "Below, click your mouse anywhere on `print()` and use `Shift` + `Tab` to view the function's documentation. "
   ]
  },
  {
   "cell_type": "code",
   "execution_count": 3,
   "metadata": {
    "ExecuteTime": {
     "end_time": "2019-01-18T23:27:51.642969Z",
     "start_time": "2019-01-18T23:27:51.620450Z"
    }
   },
   "outputs": [
    {
     "name": "stdout",
     "output_type": "stream",
     "text": [
      "Welcome to Data 100.\n"
     ]
    }
   ],
   "source": [
    "print('Welcome to Data 100.')"
   ]
  },
  {
   "cell_type": "markdown",
   "metadata": {},
   "source": [
    "### Importing Libraries and Magic Commands\n",
    "\n",
    "In Data 100, we will be using common Python libraries to help us process data. By convention, we import all libraries at the very top of the notebook. There are also a set of standard aliases that are used to shorten the library names. Below are some of the libraries that you may encounter throughout the course, along with their respective aliases."
   ]
  },
  {
   "cell_type": "code",
   "execution_count": 4,
   "metadata": {
    "ExecuteTime": {
     "end_time": "2019-01-18T23:27:53.746048Z",
     "start_time": "2019-01-18T23:27:51.644613Z"
    }
   },
   "outputs": [],
   "source": [
    "import pandas as pd\n",
    "import numpy as np\n",
    "import matplotlib.pyplot as plt\n",
    "plt.style.use('fivethirtyeight')\n",
    "%matplotlib inline"
   ]
  },
  {
   "cell_type": "markdown",
   "metadata": {},
   "source": [
    "`%matplotlib inline` is a [Jupyter magic command](https://ipython.readthedocs.io/en/stable/interactive/magics.html) that configures the notebook so that Matplotlib displays any plots that you draw directly in the notebook rather than to a file, allowing you to view the plots upon executing your code. (Note: In practice, this is no longer necessary, but we're showing it to you now anyway)\n",
    "\n",
    "Another useful magic command is `%%time`, which times the execution of that cell. You can use this by writing it as the first line of a cell. (Note that `%%` is used for *cell magic commands* that apply to the entire cell, whereas `%` is used for *line magic commands* that only apply to a single line.)"
   ]
  },
  {
   "cell_type": "code",
   "execution_count": 5,
   "metadata": {
    "ExecuteTime": {
     "end_time": "2019-01-18T23:27:53.755085Z",
     "start_time": "2019-01-18T23:27:53.749765Z"
    }
   },
   "outputs": [
    {
     "name": "stdout",
     "output_type": "stream",
     "text": [
      "CPU times: user 19 µs, sys: 6 µs, total: 25 µs\n",
      "Wall time: 28.4 µs\n"
     ]
    }
   ],
   "source": [
    "%%time\n",
    "\n",
    "lst = []\n",
    "for i in range(100):\n",
    "    lst.append(i)"
   ]
  },
  {
   "cell_type": "markdown",
   "metadata": {
    "nbgrader": {
     "grade": false,
     "grade_id": "shortcuts",
     "locked": true,
     "schema_version": 2,
     "solution": false
    }
   },
   "source": [
    "### Keyboard Shortcuts\n",
    "\n",
    "Even if you are familiar with Jupyter, we strongly encourage you to become proficient with keyboard shortcuts (this will save you time in the future). To learn about keyboard shortcuts, go to **Help --> Keyboard Shortcuts** in the menu above. \n",
    "\n",
    "Here are a few that we like:\n",
    "1. `Ctrl` + `Return` : *Evaluate the current cell*\n",
    "1. `Shift` + `Return`: *Evaluate the current cell and move to the next*\n",
    "1. `ESC` : *command mode* (may need to press before using any of the commands below)\n",
    "1. `a` : *create a cell above*\n",
    "1. `b` : *create a cell below*\n",
    "1. `dd` : *delete a cell*\n",
    "1. `z` : *undo the last cell operation*\n",
    "1. `m` : *convert a cell to markdown*\n",
    "1. `y` : *convert a cell to code*"
   ]
  },
  {
   "cell_type": "markdown",
   "metadata": {},
   "source": [
    "---\n",
    "## Part 2: Prerequisites\n",
    "\n",
    "It's time to answer some review questions. Each question has a response cell directly below it. Most response cells are followed by a test cell that runs automated tests to check your work. Please don't delete questions, response cells, or test cells. You won't get credit for your work if you do.\n",
    "\n",
    "If you have extra content in a response cell, such as an example call to a function you're implementing, that's fine.\n",
    "\n",
    "Note that for labs, ontime submissions that pass all the test cases will receive full credit. However for homeworks and projects, test cells don't always confirm that your response is correct. They are meant to give you some useful feedback, but it's your responsibility to answer the question. There may be other tests that we run when scoring your notebooks. We **strongly recommend** that you check your solutions yourself rather than just relying on the test cells."
   ]
  },
  {
   "cell_type": "markdown",
   "metadata": {},
   "source": [
    "### Python\n",
    "\n",
    "Python is the main programming language we'll use in the course. We expect that you've taken CS 61A, Data 8, or an equivalent class, so we will not be covering general Python syntax. If any of the following exercises are challenging (or if you would like to refresh your Python knowledge), please review one or more of the following materials.\n",
    "\n",
    "- **[Python Tutorial](https://docs.python.org/3.5/tutorial/)**: Introduction to Python from the creators of Python.\n",
    "- **[Composing Programs Chapter 1](http://composingprograms.com/pages/11-getting-started.html)**: This is more of a introduction to programming with Python.\n",
    "- **[Advanced Crash Course](http://cs231n.github.io/python-numpy-tutorial/)**: A fast crash course which assumes some programming background."
   ]
  },
  {
   "cell_type": "markdown",
   "metadata": {},
   "source": [
    "### Question 1"
   ]
  },
  {
   "cell_type": "markdown",
   "metadata": {
    "deletable": false,
    "editable": false
   },
   "source": [
    "#### Question 1a\n",
    "\n",
    "Write a function `summation` that evaluates the following summation for $n \\geq 1$:\n",
    "\n",
    "$$\\sum_{i=1}^{n} i^3 + 3 i^2$$\n",
    "\n",
    "<!--\n",
    "BEGIN QUESTION\n",
    "name: q1a\n",
    "-->"
   ]
  },
  {
   "cell_type": "code",
   "execution_count": 6,
   "metadata": {
    "ExecuteTime": {
     "end_time": "2019-01-18T23:27:53.778780Z",
     "start_time": "2019-01-18T23:27:53.758946Z"
    }
   },
   "outputs": [],
   "source": [
    "def summation(n):\n",
    "    \"\"\"Compute the summation i^3 + 3 * i^2 for 1 <= i <= n.\"\"\"\n",
    "    # BEGIN SOLUTION\n",
    "    if n < 1:\n",
    "        raise ValueError(\"n must be greater than or equal to 1\")\n",
    "    return sum([i ** 3 + 3 * i ** 2 for i in range(1, n + 1)])\n",
    "    # END SOLUTION"
   ]
  },
  {
   "cell_type": "code",
   "execution_count": 7,
   "metadata": {
    "deletable": false,
    "editable": false
   },
   "outputs": [
    {
     "data": {
      "text/html": [
       "\n",
       "    <p><strong>q1a</strong> passed!</p>\n",
       "    "
      ],
      "text/plain": [
       "q1a passed!"
      ]
     },
     "execution_count": 7,
     "metadata": {},
     "output_type": "execute_result"
    }
   ],
   "source": [
    "grader.check(\"q1a\")"
   ]
  },
  {
   "cell_type": "markdown",
   "metadata": {
    "deletable": false,
    "editable": false
   },
   "source": [
    "#### Question 1b\n",
    "\n",
    "Write a function `elementwise_list_sum` that computes the square of each value in `list_1`, the cube of each value in `list_2`, then returns a list containing the element-wise sum of these results. Assume that `list_1` and `list_2` have the same number of elements.\n",
    "\n",
    "**Hint:** The `zip` function may be useful here.\n",
    "\n",
    "<!--\n",
    "BEGIN QUESTION\n",
    "name: q1b\n",
    "-->"
   ]
  },
  {
   "cell_type": "code",
   "execution_count": 8,
   "metadata": {
    "ExecuteTime": {
     "end_time": "2019-01-18T23:27:53.847700Z",
     "start_time": "2019-01-18T23:27:53.812524Z"
    }
   },
   "outputs": [],
   "source": [
    "def elementwise_list_sum(list_1, list_2):\n",
    "    \"\"\"Compute x^2 + y^3 for each x, y in list_1, list_2. \n",
    "    \n",
    "    Assume list_1 and list_2 have the same length.\n",
    "    \"\"\"\n",
    "    assert len(list_1) == len(list_2), \"both args must have the same number of elements\"\n",
    "    # BEGIN SOLUTION\n",
    "    return [x ** 2 + y ** 3 for x, y in zip(list_1, list_2)]\n",
    "    # END SOLUTION"
   ]
  },
  {
   "cell_type": "code",
   "execution_count": 9,
   "metadata": {
    "deletable": false,
    "editable": false
   },
   "outputs": [
    {
     "data": {
      "text/html": [
       "\n",
       "    <p><strong>q1b</strong> passed!</p>\n",
       "    "
      ],
      "text/plain": [
       "q1b passed!"
      ]
     },
     "execution_count": 9,
     "metadata": {},
     "output_type": "execute_result"
    }
   ],
   "source": [
    "grader.check(\"q1b\")"
   ]
  },
  {
   "cell_type": "markdown",
   "metadata": {
    "deletable": false,
    "editable": false
   },
   "source": [
    "#### Question 1c\n",
    "Recall the formula for population variance below:\n",
    "\n",
    "$$\\sigma^2 = \\frac{\\sum_{i=1}^N (x_i - \\mu)^2}{N}$$\n",
    "\n",
    "Complete the functions below to compute the population variance of `population`, an array of numbers. For this question, **do not use built in NumPy functions; we will use NumPy to verify your code.** Don't worry if you're unfamiliar with what NumPy is, we discuss it in the next section.\n",
    "\n",
    "<!--\n",
    "BEGIN QUESTION\n",
    "name: q1c\n",
    "points: 1\n",
    "-->"
   ]
  },
  {
   "cell_type": "code",
   "execution_count": 10,
   "metadata": {},
   "outputs": [],
   "source": [
    "def mean(population):\n",
    "    \"\"\"\n",
    "    Returns the mean of population (mu)\n",
    "    \n",
    "    Keyword arguments:\n",
    "    population -- a numpy array of numbers\n",
    "    \"\"\"\n",
    "    # Calculate the mean of a population\n",
    "    return sum(population) / len(population) # SOLUTION\n",
    "\n",
    "def variance(population):\n",
    "    \"\"\"\n",
    "    Returns the variance of population (sigma squared)\n",
    "    \n",
    "    Keyword arguments:\n",
    "    population -- a numpy array of numbers\n",
    "    \"\"\"\n",
    "    # Calculate the variance of a population\n",
    "    # BEGIN SOLUTION\n",
    "    m = mean(population)\n",
    "    return sum((xi - m) ** 2 for xi in population) / len(population)\n",
    "    # END SOLUTION"
   ]
  },
  {
   "cell_type": "code",
   "execution_count": 11,
   "metadata": {
    "deletable": false,
    "editable": false
   },
   "outputs": [
    {
     "data": {
      "text/html": [
       "\n",
       "    <p><strong>q1c</strong> passed!</p>\n",
       "    "
      ],
      "text/plain": [
       "q1c passed!"
      ]
     },
     "execution_count": 11,
     "metadata": {},
     "output_type": "execute_result"
    }
   ],
   "source": [
    "grader.check(\"q1c\")"
   ]
  },
  {
   "cell_type": "markdown",
   "metadata": {},
   "source": [
    "### NumPy\n",
    "\n",
    "NumPy is the numerical computing module introduced in Data 8, which is a prerequisite for this course. Here's a quick recap of NumPy. For more review, read the following materials.\n",
    "\n",
    "- **[NumPy Quick Start Tutorial](https://numpy.org/doc/stable/user/quickstart.html)**\n",
    "- **[DS100 NumPy Review](http://ds100.org/fa17/assets/notebooks/numpy/Numpy_Review.html)**\n",
    "- **[Stanford CS231n NumPy Tutorial](http://cs231n.github.io/python-numpy-tutorial/#numpy)**\n",
    "- **[The Data 8 Textbook Chapter on NumPy](https://www.inferentialthinking.com/chapters/05/1/Arrays)**"
   ]
  },
  {
   "cell_type": "markdown",
   "metadata": {
    "deletable": false,
    "editable": false
   },
   "source": [
    "### Question 2\n",
    "\n",
    "The core of NumPy is the array. Like Python lists, arrays store data; however, they store data in a more efficient manner. In many cases, this allows for faster computation and data manipulation.\n",
    "\n",
    "In Data 8, we used `make_array` from the `datascience` module, but that's not the most typical way. Instead, use `np.array` to create an array. It takes a sequence, such as a list or range. \n",
    "\n",
    "Below, create an array `arr` containing the values 1, 2, 3, 4, and 5 (in that order).\n",
    "\n",
    "<!--\n",
    "BEGIN QUESTION\n",
    "name: q2\n",
    "-->"
   ]
  },
  {
   "cell_type": "code",
   "execution_count": 12,
   "metadata": {
    "ExecuteTime": {
     "end_time": "2019-01-18T23:27:53.985409Z",
     "start_time": "2019-01-18T23:27:53.949516Z"
    }
   },
   "outputs": [],
   "source": [
    "arr = np.array([1, 2, 3, 4, 5]) # SOLUTION"
   ]
  },
  {
   "cell_type": "code",
   "execution_count": 13,
   "metadata": {
    "deletable": false,
    "editable": false
   },
   "outputs": [
    {
     "data": {
      "text/html": [
       "\n",
       "    <p><strong>q2</strong> passed!</p>\n",
       "    "
      ],
      "text/plain": [
       "q2 passed!"
      ]
     },
     "execution_count": 13,
     "metadata": {},
     "output_type": "execute_result"
    }
   ],
   "source": [
    "grader.check(\"q2\")"
   ]
  },
  {
   "cell_type": "markdown",
   "metadata": {},
   "source": [
    "In addition to values in the array, we can access attributes such as shape and data type. A full list of attributes can be found [here](https://docs.scipy.org/doc/numpy-1.15.0/reference/arrays.ndarray.html#array-attributes)."
   ]
  },
  {
   "cell_type": "code",
   "execution_count": 14,
   "metadata": {
    "ExecuteTime": {
     "end_time": "2019-01-18T23:27:54.069669Z",
     "start_time": "2019-01-18T23:27:54.036105Z"
    }
   },
   "outputs": [
    {
     "data": {
      "text/plain": [
       "4"
      ]
     },
     "execution_count": 14,
     "metadata": {},
     "output_type": "execute_result"
    }
   ],
   "source": [
    "arr[3]"
   ]
  },
  {
   "cell_type": "code",
   "execution_count": 15,
   "metadata": {
    "ExecuteTime": {
     "end_time": "2019-01-18T23:27:54.099933Z",
     "start_time": "2019-01-18T23:27:54.072605Z"
    }
   },
   "outputs": [
    {
     "data": {
      "text/plain": [
       "array([3, 4])"
      ]
     },
     "execution_count": 15,
     "metadata": {},
     "output_type": "execute_result"
    }
   ],
   "source": [
    "arr[2:4]"
   ]
  },
  {
   "cell_type": "code",
   "execution_count": 16,
   "metadata": {
    "ExecuteTime": {
     "end_time": "2019-01-18T23:27:54.124874Z",
     "start_time": "2019-01-18T23:27:54.101938Z"
    }
   },
   "outputs": [
    {
     "data": {
      "text/plain": [
       "(5,)"
      ]
     },
     "execution_count": 16,
     "metadata": {},
     "output_type": "execute_result"
    }
   ],
   "source": [
    "arr.shape"
   ]
  },
  {
   "cell_type": "code",
   "execution_count": 17,
   "metadata": {
    "ExecuteTime": {
     "end_time": "2019-01-18T23:27:54.148914Z",
     "start_time": "2019-01-18T23:27:54.127372Z"
    },
    "scrolled": true
   },
   "outputs": [
    {
     "data": {
      "text/plain": [
       "dtype('int64')"
      ]
     },
     "execution_count": 17,
     "metadata": {},
     "output_type": "execute_result"
    }
   ],
   "source": [
    "arr.dtype"
   ]
  },
  {
   "cell_type": "markdown",
   "metadata": {},
   "source": [
    "Arrays, unlike Python lists, cannot store items of different data types."
   ]
  },
  {
   "cell_type": "code",
   "execution_count": 18,
   "metadata": {
    "ExecuteTime": {
     "end_time": "2019-01-18T23:27:54.173873Z",
     "start_time": "2019-01-18T23:27:54.150888Z"
    }
   },
   "outputs": [
    {
     "data": {
      "text/plain": [
       "[1, '3']"
      ]
     },
     "execution_count": 18,
     "metadata": {},
     "output_type": "execute_result"
    }
   ],
   "source": [
    "# A regular Python list can store items of different data types\n",
    "[1, '3']"
   ]
  },
  {
   "cell_type": "code",
   "execution_count": 19,
   "metadata": {
    "ExecuteTime": {
     "end_time": "2019-01-18T23:27:54.198281Z",
     "start_time": "2019-01-18T23:27:54.176631Z"
    }
   },
   "outputs": [
    {
     "data": {
      "text/plain": [
       "array(['1', '3'], dtype='<U21')"
      ]
     },
     "execution_count": 19,
     "metadata": {},
     "output_type": "execute_result"
    }
   ],
   "source": [
    "# Arrays will convert everything to the same data type\n",
    "np.array([1, '3'])"
   ]
  },
  {
   "cell_type": "code",
   "execution_count": 20,
   "metadata": {
    "ExecuteTime": {
     "end_time": "2019-01-18T23:27:54.227988Z",
     "start_time": "2019-01-18T23:27:54.200270Z"
    }
   },
   "outputs": [
    {
     "data": {
      "text/plain": [
       "array([5. , 8.3])"
      ]
     },
     "execution_count": 20,
     "metadata": {},
     "output_type": "execute_result"
    }
   ],
   "source": [
    "# Another example of array type conversion\n",
    "np.array([5, 8.3])"
   ]
  },
  {
   "cell_type": "markdown",
   "metadata": {},
   "source": [
    "Arrays are also useful in performing *vectorized operations*. Given two or more arrays of equal length, arithmetic will perform element-wise computations across the arrays. \n",
    "\n",
    "For example, observe the following:"
   ]
  },
  {
   "cell_type": "code",
   "execution_count": 21,
   "metadata": {
    "ExecuteTime": {
     "end_time": "2019-01-18T23:27:54.266157Z",
     "start_time": "2019-01-18T23:27:54.231648Z"
    }
   },
   "outputs": [
    {
     "data": {
      "text/plain": [
       "[1, 2, 3, 4, 5, 6]"
      ]
     },
     "execution_count": 21,
     "metadata": {},
     "output_type": "execute_result"
    }
   ],
   "source": [
    "# Python list addition will concatenate the two lists\n",
    "[1, 2, 3] + [4, 5, 6]"
   ]
  },
  {
   "cell_type": "code",
   "execution_count": 22,
   "metadata": {
    "ExecuteTime": {
     "end_time": "2019-01-18T23:27:54.299682Z",
     "start_time": "2019-01-18T23:27:54.269136Z"
    }
   },
   "outputs": [
    {
     "data": {
      "text/plain": [
       "array([5, 7, 9])"
      ]
     },
     "execution_count": 22,
     "metadata": {},
     "output_type": "execute_result"
    }
   ],
   "source": [
    "# NumPy array addition will add them element-wise\n",
    "np.array([1, 2, 3]) + np.array([4, 5, 6])"
   ]
  },
  {
   "cell_type": "markdown",
   "metadata": {
    "deletable": false,
    "editable": false
   },
   "source": [
    "### Question 3\n",
    "#### Question 3a\n",
    "\n",
    "Given the array `random_arr`, assign `valid_values` to an array containing all values $x$ such that $2x^4 > 1$.\n",
    "\n",
    "**Note**: You should not use `for` loops in your solution. Instead, look at `numpy`'s documentation on [Boolean Indexing](https://numpy.org/devdocs/reference/arrays.indexing.html). \n",
    "\n",
    "<!--\n",
    "BEGIN QUESTION\n",
    "name: q3a\n",
    "-->"
   ]
  },
  {
   "cell_type": "code",
   "execution_count": 23,
   "metadata": {
    "ExecuteTime": {
     "end_time": "2019-01-18T23:27:54.368504Z",
     "start_time": "2019-01-18T23:27:54.331370Z"
    }
   },
   "outputs": [],
   "source": [
    "np.random.seed(42)\n",
    "random_arr = np.random.rand(60)\n",
    "valid_values = random_arr[(2 * random_arr  ** 4 > 1)] # SOLUTION"
   ]
  },
  {
   "cell_type": "code",
   "execution_count": 24,
   "metadata": {
    "deletable": false,
    "editable": false
   },
   "outputs": [
    {
     "data": {
      "text/html": [
       "\n",
       "    <p><strong>q3a</strong> passed!</p>\n",
       "    "
      ],
      "text/plain": [
       "q3a passed!"
      ]
     },
     "execution_count": 24,
     "metadata": {},
     "output_type": "execute_result"
    }
   ],
   "source": [
    "grader.check(\"q3a\")"
   ]
  },
  {
   "cell_type": "markdown",
   "metadata": {
    "deletable": false,
    "editable": false
   },
   "source": [
    "#### Question 3b\n",
    "\n",
    "Use NumPy to recreate your answer to Question 1b. The input parameters will both be **python lists**, so you will need to convert the lists into arrays before performing your operations. The output should be a **numpy array.**\n",
    "\n",
    "**Hint:** Use the [NumPy documentation](https://docs.scipy.org/doc/numpy-1.15.1/reference/index.html). If you're stuck, try a search engine! Searching the web for examples of how to use modules is very common in data science.\n",
    "\n",
    "<!--\n",
    "BEGIN QUESTION\n",
    "name: q3b\n",
    "-->"
   ]
  },
  {
   "cell_type": "code",
   "execution_count": 25,
   "metadata": {
    "ExecuteTime": {
     "end_time": "2019-01-18T23:27:54.462427Z",
     "start_time": "2019-01-18T23:27:54.420148Z"
    }
   },
   "outputs": [],
   "source": [
    "def elementwise_array_sum(list_1, list_2):\n",
    "    \"\"\"Compute x^2 + y^3 for each x, y in list_1, list_2. \n",
    "    \n",
    "    Assume list_1 and list_2 have the same length.\n",
    "    \n",
    "    Return a NumPy array.\n",
    "    \"\"\"\n",
    "    assert len(list_1) == len(list_2), \"both args must have the same number of elements\"\n",
    "    # BEGIN SOLUTION\n",
    "    # Solution 1\n",
    "    return np.square(list_1) + np.power(list_2, 3)\n",
    "    # Solution 2\n",
    "    return np.array(list_1) ** 2 + np.array(list_2) ** 3\n",
    "    # END SOLUTION"
   ]
  },
  {
   "cell_type": "code",
   "execution_count": 26,
   "metadata": {
    "deletable": false,
    "editable": false
   },
   "outputs": [
    {
     "data": {
      "text/html": [
       "\n",
       "    <p><strong>q3b</strong> passed!</p>\n",
       "    "
      ],
      "text/plain": [
       "q3b passed!"
      ]
     },
     "execution_count": 26,
     "metadata": {},
     "output_type": "execute_result"
    }
   ],
   "source": [
    "grader.check(\"q3b\")"
   ]
  },
  {
   "cell_type": "markdown",
   "metadata": {},
   "source": [
    "You might have been told that Python is slow, but array arithmetic is carried out very fast, even for large arrays.\n",
    "\n",
    "For ten numbers, `list_sum` and `elementwise_array_sum` both take a similar amount of time."
   ]
  },
  {
   "cell_type": "code",
   "execution_count": 27,
   "metadata": {
    "ExecuteTime": {
     "end_time": "2019-01-18T23:27:54.532950Z",
     "start_time": "2019-01-18T23:27:54.499655Z"
    }
   },
   "outputs": [],
   "source": [
    "sample_list_1 = list(range(10))\n",
    "sample_array_1 = np.arange(10)"
   ]
  },
  {
   "cell_type": "code",
   "execution_count": 28,
   "metadata": {
    "ExecuteTime": {
     "end_time": "2019-01-18T23:27:54.565618Z",
     "start_time": "2019-01-18T23:27:54.537177Z"
    }
   },
   "outputs": [
    {
     "name": "stdout",
     "output_type": "stream",
     "text": [
      "CPU times: user 11 µs, sys: 3 µs, total: 14 µs\n",
      "Wall time: 17.4 µs\n"
     ]
    },
    {
     "data": {
      "text/plain": [
       "[0, 2, 12, 36, 80, 150, 252, 392, 576, 810]"
      ]
     },
     "execution_count": 28,
     "metadata": {},
     "output_type": "execute_result"
    }
   ],
   "source": [
    "%%time\n",
    "elementwise_list_sum(sample_list_1, sample_list_1)"
   ]
  },
  {
   "cell_type": "code",
   "execution_count": 29,
   "metadata": {
    "ExecuteTime": {
     "end_time": "2019-01-18T23:27:54.598741Z",
     "start_time": "2019-01-18T23:27:54.568363Z"
    }
   },
   "outputs": [
    {
     "name": "stdout",
     "output_type": "stream",
     "text": [
      "CPU times: user 25 µs, sys: 8 µs, total: 33 µs\n",
      "Wall time: 36.2 µs\n"
     ]
    },
    {
     "data": {
      "text/plain": [
       "array([  0,   2,  12,  36,  80, 150, 252, 392, 576, 810])"
      ]
     },
     "execution_count": 29,
     "metadata": {},
     "output_type": "execute_result"
    }
   ],
   "source": [
    "%%time\n",
    "elementwise_array_sum(sample_array_1, sample_array_1)"
   ]
  },
  {
   "cell_type": "markdown",
   "metadata": {},
   "source": [
    "The time difference seems negligible for a list/array of size 10; depending on your setup, you may even observe that `list_sum` executes faster than `elementwise_array_sum`! However, we will commonly be working with much larger datasets:"
   ]
  },
  {
   "cell_type": "code",
   "execution_count": 30,
   "metadata": {
    "ExecuteTime": {
     "end_time": "2019-01-18T23:27:54.639977Z",
     "start_time": "2019-01-18T23:27:54.604370Z"
    }
   },
   "outputs": [],
   "source": [
    "sample_list_2 = list(range(100000))\n",
    "sample_array_2 = np.arange(100000)"
   ]
  },
  {
   "cell_type": "code",
   "execution_count": 31,
   "metadata": {
    "ExecuteTime": {
     "end_time": "2019-01-18T23:27:54.822043Z",
     "start_time": "2019-01-18T23:27:54.643966Z"
    },
    "scrolled": true
   },
   "outputs": [
    {
     "name": "stdout",
     "output_type": "stream",
     "text": [
      "CPU times: user 76.7 ms, sys: 3.99 ms, total: 80.7 ms\n",
      "Wall time: 79.3 ms\n"
     ]
    },
    {
     "data": {
      "text/plain": [
       "'# The semicolon hides the output'"
      ]
     },
     "execution_count": 31,
     "metadata": {},
     "output_type": "execute_result"
    }
   ],
   "source": [
    "%%time\n",
    "elementwise_list_sum(sample_list_2, sample_list_2)\n",
    "; # The semicolon hides the output"
   ]
  },
  {
   "cell_type": "code",
   "execution_count": 32,
   "metadata": {
    "ExecuteTime": {
     "end_time": "2019-01-18T23:27:54.835570Z",
     "start_time": "2019-01-18T23:27:54.825798Z"
    }
   },
   "outputs": [
    {
     "name": "stdout",
     "output_type": "stream",
     "text": [
      "CPU times: user 0 ns, sys: 2.45 ms, total: 2.45 ms\n",
      "Wall time: 1.7 ms\n"
     ]
    },
    {
     "data": {
      "text/plain": [
       "''"
      ]
     },
     "execution_count": 32,
     "metadata": {},
     "output_type": "execute_result"
    }
   ],
   "source": [
    "%%time\n",
    "elementwise_array_sum(sample_array_2, sample_array_2)\n",
    ";"
   ]
  },
  {
   "cell_type": "markdown",
   "metadata": {},
   "source": [
    "With the larger dataset, we see that using NumPy results in code that executes over 50 times faster! Throughout this course (and in the real world), you will find that writing efficient code will be important; arrays and vectorized operations are the most common way of making Python programs run quickly."
   ]
  },
  {
   "cell_type": "markdown",
   "metadata": {},
   "source": [
    "---\n",
    "## Part 3: Plotting\n",
    "Here we explore plotting using `matplotlib` and `numpy`."
   ]
  },
  {
   "cell_type": "markdown",
   "metadata": {
    "deletable": false,
    "editable": false
   },
   "source": [
    "### Question 4 ###\n",
    "\n",
    "\n",
    "Consider the function $f(x) = x^2$ for $-\\infty < x < \\infty$.\n",
    "\n",
    "#### Question 4a) ####\n",
    "Find the equation of the tangent line to $f$ at $x = 0$.\n",
    "\n",
    "<!--\n",
    "BEGIN QUESTION\n",
    "name: q4a\n",
    "-->"
   ]
  },
  {
   "cell_type": "markdown",
   "metadata": {},
   "source": [
    "_Type your answer here, replacing this text._"
   ]
  },
  {
   "cell_type": "markdown",
   "metadata": {},
   "source": [
    "**SOLUTION:**\n",
    "\n",
    "Just by visualizing the graph of $f$ you can see this is the horizontal line $y = 0$."
   ]
  },
  {
   "cell_type": "markdown",
   "metadata": {
    "deletable": false,
    "editable": false
   },
   "source": [
    "#### Question 4b) ####\n",
    "Find the equation of the tangent line to $f$ at $x = 8$. \n",
    "\n",
    "<!--\n",
    "BEGIN QUESTION\n",
    "name: q4b\n",
    "-->"
   ]
  },
  {
   "cell_type": "markdown",
   "metadata": {},
   "source": [
    "_Type your answer here, replacing this text._"
   ]
  },
  {
   "cell_type": "markdown",
   "metadata": {},
   "source": [
    "**SOLUTION:**\n",
    "\n",
    "The tangent line passes through $(8, f(8))$ and has slope $\\frac{d}{dx}f(x) = 2x$ evaluated at $x=8$. So its equation is $y - 64 = 16(x - 8)$ which is $y = 16x - 64$."
   ]
  },
  {
   "cell_type": "markdown",
   "metadata": {
    "deletable": false,
    "editable": false
   },
   "source": [
    "#### Question 4c) #### \n",
    "\n",
    "Write code to plot the function $f$, the tangent line at $x=8$, and the tangent line at $x=0$. \n",
    "\n",
    "Set the range of the x-axis to (-15, 15) and the range of the y-axis to (-100, 300) and the figure size to (4,4).\n",
    "\n",
    "Your resulting plot should look like this:\n",
    "\n",
    "<img src=\"derivative.png\" align=\"center\"/>\n",
    "\n",
    "You should use the `plt.plot` function to plot lines. You may find the following functions useful:\n",
    "\n",
    "- [`plt.plot(..)`](https://matplotlib.org/api/_as_gen/matplotlib.pyplot.plot.html)\n",
    "- [`plt.figure(figsize=..)`](https://stackoverflow.com/questions/332289/how-do-you-change-the-size-of-figures-drawn-with-matplotlib)\n",
    "- [`plt.ylim(..)`](https://matplotlib.org/api/_as_gen/matplotlib.pyplot.ylim.html)\n",
    "- [`plt.axhline(..)`](https://matplotlib.org/api/_as_gen/matplotlib.pyplot.hlines.html)\n",
    "\n",
    "<!--\n",
    "BEGIN QUESTION\n",
    "name: q4c\n",
    "-->"
   ]
  },
  {
   "cell_type": "code",
   "execution_count": 33,
   "metadata": {},
   "outputs": [
    {
     "data": {
      "image/png": "[encoded data removed]",
      "text/plain": [
       "<Figure size 288x288 with 1 Axes>"
      ]
     },
     "metadata": {
      "needs_background": "light"
     },
     "output_type": "display_data"
    }
   ],
   "source": [
    "def f(x):\n",
    "    return x**2 # SOLUTION\n",
    "    \n",
    "def df(x):\n",
    "    return 2*x # SOLUTION\n",
    "\n",
    "def plot(f, df):              \n",
    "    # BEGIN SOLUTION\n",
    "    x = np.linspace(-15, 15, 100)\n",
    "\n",
    "    plt.figure(figsize=(4, 4))\n",
    "    plt.plot(x, f(x))\n",
    "    plt.plot(x, np.zeros(x.shape[0]))\n",
    "    plt.plot(x, df(8) * (x-8) + f(8))\n",
    "    \n",
    "    plt.xlim(-15, 15)\n",
    "    plt.ylim(-100,300)\n",
    "    # END SOLUTION\n",
    "\n",
    "plot(f, df)"
   ]
  },
  {
   "cell_type": "markdown",
   "metadata": {
    "deletable": false,
    "editable": false
   },
   "source": [
    "### Question 5 ##\n",
    "\n",
    "Data science is a rapidly expanding field and no degree program can hope to teach you everything that will be helpful to you as a data scientist. So it's important that you become familiar with looking up documentation and learning how to read it. \n",
    "\n",
    "Below is a section of code that plots a three-dimensional \"wireframe\" plot. You'll see what that means when you draw it. Replace each `# Your answer here` with a description of what the line above does, what the arguments being passed in are, and how the arguments are used in the function. For example,\n",
    "\n",
    "```\n",
    "np.arange(2, 5, 0.2)\n",
    "# This returns an array of numbers from 2 to 5 with an interval size of 0.2\n",
    "```\n",
    "\n",
    "**Hint:** The `Shift` + `Tab` tip from earlier in the notebook may help here. Remember that objects must be defined in order for the documentation shortcut to work; for example, all of the documentation will show for method calls from `np` since we've already executed `import numpy as np`. However, since `z` is not yet defined in the kernel, `z.reshape()` will not show documentation until you run the line `z = np.cos(squared)`.\n",
    "\n",
    "<!--\n",
    "BEGIN QUESTION\n",
    "name: q5\n",
    "-->"
   ]
  },
  {
   "cell_type": "code",
   "execution_count": 4,
   "metadata": {},
   "outputs": [],
   "source": [
    "import numpy as np\n",
    "import matplotlib.pyplot as plt"
   ]
  },
  {
   "cell_type": "code",
   "execution_count": 9,
   "metadata": {},
   "outputs": [
    {
     "data": {
      "image/png": "[encoded data removed]",
      "text/plain": [
       "<Figure size 432x432 with 1 Axes>"
      ]
     },
     "metadata": {
      "needs_background": "light"
     },
     "output_type": "display_data"
    }
   ],
   "source": [
    "from mpl_toolkits.mplot3d import axes3d\n",
    "\n",
    "u = np.linspace(1.5*np.pi, -1.5*np.pi, 100)\n",
    "# Your answer here\n",
    "[x,y] = np.meshgrid(u, u)\n",
    "# Your answer here\n",
    "squared = np.sqrt(x.flatten()**2 + y.flatten()**2)\n",
    "z = np.cos(squared)\n",
    "# Your answer here\n",
    "z = z.reshape(x.shape)\n",
    "# Your answer here\n",
    "\n",
    "fig = plt.figure(figsize=(6, 6))\n",
    "ax = fig.add_subplot(111, projection='3d')\n",
    "# Your answer here\n",
    "ax.plot_wireframe(x, y, z, rstride=50, cstride=50, lw=5)\n",
    "# Your answer here\n",
    "ax.view_init(elev=60, azim=25)\n",
    "# Your answer here\n",
    "plt.savefig(\"figure1.png\")\n",
    "# Your answer here"
   ]
  },
  {
   "cell_type": "markdown",
   "metadata": {
    "nbgrader": {
     "grade": false,
     "grade_id": "q3",
     "locked": true,
     "schema_version": 2,
     "solution": false
    }
   },
   "source": [
    "### Question 6 (ungraded)\n",
    "\n",
    "Do you think that eating french fries with mayonnaise is a crime?  \n",
    "Tell us what you think in the following Markdown cell. :)"
   ]
  },
  {
   "cell_type": "markdown",
   "metadata": {
    "nbgrader": {
     "grade": true,
     "grade_id": "q3-answer",
     "locked": false,
     "points": 0,
     "schema_version": 2,
     "solution": true
    }
   },
   "source": []
  },
  {
   "cell_type": "markdown",
   "metadata": {
    "deletable": false,
    "editable": false
   },
   "source": [
    "### Question 7 (ungraded)\n",
    "\n",
    "**This problem will not be graded, but you should still attempt it!**\n",
    "Suppose we want to visualize the function $g(t) = a \\cdot \\sin(2 \\pi f t)$ while varying the values $f, a$. Generate a 2 by 2 plot that plots the function $g(t)$ as a line plot with values $f = 2, 8$ and $a = 2, 8$. Since there are 2 values of $f$ and 2 values of $a$ there are a total of 4 combinations, hence a 2 by 2 plot. The rows should vary in $f$ and the columns should vary in $a$.\n",
    "\n",
    "Set the x limit of all figures to $[0, \\pi]$ and the y limit to $[-10, 10]$. The figure size should be 8 by 8. Make sure to label your x and y axes with the appropriate value of $f$ or $a$. Additionally, make sure the x ticks are labeled $[0, \\frac{\\pi}{2}, \\pi]$. Your overall plot should look something like this:\n",
    "\n",
    "![2by2](figure2.png)\n",
    "\n",
    "**Hint 1:** Modularize your code and use loops.\n",
    "\n",
    "**Hint 2:** Are your plots too close together such that the labels are overlapping with other plots? Look at the [`plt.subplots_adjust`](https://matplotlib.org/api/_as_gen/matplotlib.pyplot.subplots_adjust.html) function.\n",
    "\n",
    "**Hint 3:** Having trouble setting the x-axis ticks and ticklabels? Look at the [`plt.xticks`](https://matplotlib.org/api/_as_gen/matplotlib.pyplot.xticks.html) function.\n",
    "\n",
    "**Hint 4:** You can add title to overall plot with `plt.suptitle`.\n",
    "\n",
    "<!--\n",
    "BEGIN QUESTION\n",
    "name: q7\n",
    "-->"
   ]
  },
  {
   "cell_type": "code",
   "execution_count": 35,
   "metadata": {},
   "outputs": [
    {
     "data": {
      "image/png": "[encoded data removed]",
      "text/plain": [
       "<Figure size 576x576 with 4 Axes>"
      ]
     },
     "metadata": {
      "needs_background": "light"
     },
     "output_type": "display_data"
    }
   ],
   "source": [
    "# BEGIN SOLUTION\n",
    "def g(t):\n",
    "    return a * np.sin(2 * np.pi * f * t)\n",
    "\n",
    "f_values = [2, 8]\n",
    "a_values = [2, 8]\n",
    "t = np.linspace(0, np.pi, 1000)\n",
    "\n",
    "plt.figure(figsize=(8, 8))\n",
    "plt.subplots_adjust(wspace=0.5, hspace=0.5)\n",
    "plt.suptitle(\"Sine waves with varying a=[2,8], f=[2,8]\")\n",
    "subplot_index = 1\n",
    "for f in f_values:\n",
    "    for a in a_values:\n",
    "        plt.subplot(2, 2, subplot_index)\n",
    "        plt.axis([0, np.pi, -10, 10])\n",
    "        plt.plot(t, g(t))\n",
    "        plt.ylabel(\"f: {}\".format(f))\n",
    "        plt.xlabel(\"a: {}\".format(a))\n",
    "        plt.xticks([0, np.pi/2, np.pi], [r'$0$', r'$\\pi/2$', r'$\\pi$'])\n",
    "        subplot_index += 1\n",
    "# END SOLUTION"
   ]
  },
  {
   "cell_type": "markdown",
   "metadata": {
    "deletable": false,
    "editable": false
   },
   "source": [
    "---\n",
    "\n",
    "To double-check your work, the cell below will rerun all of the autograder tests."
   ]
  },
  {
   "cell_type": "code",
   "execution_count": 36,
   "metadata": {
    "deletable": false,
    "editable": false
   },
   "outputs": [
    {
     "data": {
      "text/html": [
       "\n",
       "    <p><strong>q1a</strong> passed!</p>\n",
       "    \n",
       "\n",
       "\n",
       "    <p><strong>q1b</strong> passed!</p>\n",
       "    \n",
       "\n",
       "\n",
       "    <p><strong>q1c</strong> passed!</p>\n",
       "    \n",
       "\n",
       "\n",
       "    <p><strong>q2</strong> passed!</p>\n",
       "    \n",
       "\n",
       "\n",
       "    <p><strong>q3a</strong> passed!</p>\n",
       "    \n",
       "\n",
       "\n",
       "    <p><strong>q3b</strong> passed!</p>\n",
       "    \n",
       "\n"
      ],
      "text/plain": [
       "q1a passed!\n",
       "\n",
       "q1b passed!\n",
       "\n",
       "q1c passed!\n",
       "\n",
       "q2 passed!\n",
       "\n",
       "q3a passed!\n",
       "\n",
       "q3b passed!\n"
      ]
     },
     "execution_count": 36,
     "metadata": {},
     "output_type": "execute_result"
    }
   ],
   "source": [
    "grader.check_all()"
   ]
  },
  {
   "cell_type": "markdown",
   "metadata": {
    "deletable": false,
    "editable": false
   },
   "source": [
    "## Submission\n",
    "\n",
    "Make sure you have run all cells in your notebook in order before running the cell below, so that all images/graphs appear in the output. The cell below will generate a zip file for you to submit. **Please save before exporting!**"
   ]
  },
  {
   "cell_type": "code",
   "execution_count": 37,
   "metadata": {
    "deletable": false,
    "editable": false
   },
   "outputs": [
    {
     "data": {
      "application/javascript": [
       "Jupyter.notebook.save_checkpoint();"
      ],
      "text/plain": [
       "<IPython.core.display.Javascript object>"
      ]
     },
     "metadata": {},
     "output_type": "display_data"
    },
    {
     "data": {
      "text/html": [
       "\n",
       "                <p>Your submission has been exported. Click <a href=\"lab01.zip\" target=\"_blank\">here</a>\n",
       "                to download the zip file.</p>\n",
       "                "
      ],
      "text/plain": [
       "<IPython.core.display.HTML object>"
      ]
     },
     "metadata": {},
     "output_type": "display_data"
    }
   ],
   "source": [
    "# Save your notebook first, then run this cell to export your submission.\n",
    "grader.export(pdf=False)"
   ]
  },
  {
   "cell_type": "markdown",
   "metadata": {},
   "source": [
    " "
   ]
  }
 ],
 "metadata": {
  "celltoolbar": "Create Assignment",
  "history": [
   {
    "code": "p_hat = 0.4 # SOLUTION\np_hat",
    "id": "70ba3e512daf4a4f90dc7223a0a6ac0f",
    "idx": 87,
    "time": "2021-01-30T23:39:27.730Z",
    "type": "execution"
   },
   {
    "id": "70ba3e512daf4a4f90dc7223a0a6ac0f",
    "time": "2021-01-30T23:39:27.811Z",
    "type": "completion"
   },
   {
    "code": "p = np.linspace(0, 1, 100) \nlikelihood = (p**4) * ((1-p)**6) \nplt.plot(p, likelihood, lw=2, color='darkblue') # lw is line width\nplt.plot([0, 1], [0, 0], lw=1, color='grey')    # horizontal axis\nplt.xlabel('$p$')\nplt.ylabel('$l(p)$', rotation=0)\nplt.title('Likelihood of TTTHTHHTTH')",
    "id": "20d3b0793db043468134cca9dc1ea469",
    "idx": 85,
    "time": "2021-01-30T23:39:36.494Z",
    "type": "execution"
   },
   {
    "id": "20d3b0793db043468134cca9dc1ea469",
    "time": "2021-01-30T23:39:36.634Z",
    "type": "completion"
   },
   {
    "code": "import numpy as np",
    "id": "20c6586b28734a188e8520b50b46285d",
    "idx": 85,
    "time": "2021-01-30T23:39:46.050Z",
    "type": "execution"
   },
   {
    "id": "20c6586b28734a188e8520b50b46285d",
    "time": "2021-01-30T23:39:46.228Z",
    "type": "completion"
   },
   {
    "code": "p = np.linspace(0, 1, 100) \nlikelihood = (p**4) * ((1-p)**6) \nplt.plot(p, likelihood, lw=2, color='darkblue') # lw is line width\nplt.plot([0, 1], [0, 0], lw=1, color='grey')    # horizontal axis\nplt.xlabel('$p$')\nplt.ylabel('$l(p)$', rotation=0)\nplt.title('Likelihood of TTTHTHHTTH')",
    "id": "20d3b0793db043468134cca9dc1ea469",
    "idx": 86,
    "time": "2021-01-30T23:39:49.995Z",
    "type": "execution"
   },
   {
    "id": "20d3b0793db043468134cca9dc1ea469",
    "time": "2021-01-30T23:39:50.099Z",
    "type": "completion"
   },
   {
    "code": "import numpy as np\nimport matplotlib.pyplot as plt",
    "id": "20c6586b28734a188e8520b50b46285d",
    "idx": 85,
    "time": "2021-01-30T23:39:58.168Z",
    "type": "execution"
   },
   {
    "id": "20c6586b28734a188e8520b50b46285d",
    "time": "2021-01-30T23:39:58.475Z",
    "type": "completion"
   },
   {
    "code": "p = np.linspace(0, 1, 100) \nlikelihood = (p**4) * ((1-p)**6) \nplt.plot(p, likelihood, lw=2, color='darkblue') # lw is line width\nplt.plot([0, 1], [0, 0], lw=1, color='grey')    # horizontal axis\nplt.xlabel('$p$')\nplt.ylabel('$l(p)$', rotation=0)\nplt.title('Likelihood of TTTHTHHTTH')",
    "id": "20d3b0793db043468134cca9dc1ea469",
    "idx": 86,
    "time": "2021-01-30T23:40:00.375Z",
    "type": "execution"
   },
   {
    "id": "20d3b0793db043468134cca9dc1ea469",
    "time": "2021-01-30T23:40:00.873Z",
    "type": "completion"
   },
   {
    "code": "p_hat = p[np.argmax(likelihood)]",
    "id": "278bbdf6d5ce4678877b1220c5f12538",
    "idx": 89,
    "time": "2021-01-30T23:40:31.575Z",
    "type": "execution"
   },
   {
    "id": "278bbdf6d5ce4678877b1220c5f12538",
    "time": "2021-01-30T23:40:31.641Z",
    "type": "completion"
   },
   {
    "code": "p_hat",
    "id": "1b1621484aff43aba7400ed5dd02452f",
    "idx": 90,
    "time": "2021-01-30T23:40:36.612Z",
    "type": "execution"
   },
   {
    "id": "1b1621484aff43aba7400ed5dd02452f",
    "time": "2021-01-30T23:40:36.677Z",
    "type": "completion"
   },
   {
    "code": "# TEST\nnp.isclose(p_hat, 0.4, atol=0.05)",
    "id": "4e0ed66c1424420fa0764864479f40d7",
    "idx": 91,
    "time": "2021-01-30T23:40:50.996Z",
    "type": "execution"
   },
   {
    "id": "4e0ed66c1424420fa0764864479f40d7",
    "time": "2021-01-30T23:40:51.070Z",
    "type": "completion"
   },
   {
    "code": "# TEST\nnp.isclose(p_hat, 0.4, atol=0.005)",
    "id": "4e0ed66c1424420fa0764864479f40d7",
    "idx": 91,
    "time": "2021-01-30T23:40:57.416Z",
    "type": "execution"
   },
   {
    "id": "4e0ed66c1424420fa0764864479f40d7",
    "time": "2021-01-30T23:40:57.502Z",
    "type": "completion"
   },
   {
    "code": "# Initialize Otter\nimport otter\ngrader = otter.Notebook(\"lab01.ipynb\")",
    "id": "50675c9405f5419e913d1ee0df8dfa5c",
    "idx": 0,
    "time": "2021-02-03T06:25:57.296Z",
    "type": "execution"
   },
   {
    "code": "help(print)",
    "id": "11a2e095278b4bf1be646bc53e8f41cc",
    "idx": 6,
    "time": "2021-02-03T06:25:57.311Z",
    "type": "execution"
   },
   {
    "code": "print('Welcome to Data 100.')",
    "id": "acb6c07a4dc5468e8cb8b3612316a422",
    "idx": 8,
    "time": "2021-02-03T06:25:57.315Z",
    "type": "execution"
   },
   {
    "code": "import pandas as pd\nimport numpy as np\nimport matplotlib.pyplot as plt\nplt.style.use('fivethirtyeight')\n%matplotlib inline",
    "id": "1ea6eca25cde47bb87a6daf1dc73bf4a",
    "idx": 10,
    "time": "2021-02-03T06:25:57.322Z",
    "type": "execution"
   },
   {
    "code": "%%time\n\nlst = []\nfor i in range(100):\n    lst.append(i)",
    "id": "196a8b25e7fe44c0999bce35fabce650",
    "idx": 12,
    "time": "2021-02-03T06:25:57.326Z",
    "type": "execution"
   },
   {
    "code": "def summation(n):\n    \"\"\"Compute the summation i^3 + 3 * i^2 for 1 <= i <= n.\"\"\"\n    # BEGIN SOLUTION\n    if n < 1:\n        raise ValueError(\"n must be greater than or equal to 1\")\n    return sum([i ** 3 + 3 * i ** 2 for i in range(1, n + 1)])\n    # END SOLUTION",
    "id": "1986061714d549318f4aa073c2ad2a98",
    "idx": 18,
    "time": "2021-02-03T06:25:57.331Z",
    "type": "execution"
   },
   {
    "code": "grader.check(\"q1a\")",
    "id": "215d7a41ef67433988b9172ac1cd9a0b",
    "idx": 19,
    "time": "2021-02-03T06:25:57.334Z",
    "type": "execution"
   },
   {
    "code": "def elementwise_list_sum(list_1, list_2):\n    \"\"\"Compute x^2 + y^3 for each x, y in list_1, list_2. \n    \n    Assume list_1 and list_2 have the same length.\n    \"\"\"\n    assert len(list_1) == len(list_2), \"both args must have the same number of elements\"\n    # BEGIN SOLUTION\n    return [x ** 2 + y ** 3 for x, y in zip(list_1, list_2)]\n    # END SOLUTION",
    "id": "b8e8c7d3144c4edd80244611f6074b73",
    "idx": 21,
    "time": "2021-02-03T06:25:57.338Z",
    "type": "execution"
   },
   {
    "code": "grader.check(\"q1b\")",
    "id": "6bc0e128dbbe488385460ae85f07ae59",
    "idx": 22,
    "time": "2021-02-03T06:25:57.340Z",
    "type": "execution"
   },
   {
    "code": "def mean(population):\n    \"\"\"\n    Returns the mean of population (mu)\n    \n    Keyword arguments:\n    population -- a numpy array of numbers\n    \"\"\"\n    # Calculate the mean of a population\n    return sum(population) / len(population) # SOLUTION\n\ndef variance(population):\n    \"\"\"\n    Returns the variance of population (sigma squared)\n    \n    Keyword arguments:\n    population -- a numpy array of numbers\n    \"\"\"\n    # Calculate the variance of a population\n    # BEGIN SOLUTION\n    m = mean(population)\n    return sum((xi - m) ** 2 for xi in population) / len(population)\n    # END SOLUTION",
    "id": "c8bd7b465a8d43618fafa7a93f22b3a4",
    "idx": 24,
    "time": "2021-02-03T06:25:57.344Z",
    "type": "execution"
   },
   {
    "code": "grader.check(\"q1c\")",
    "id": "be2bdaf8b8fb40778c2a63b3ff626273",
    "idx": 25,
    "time": "2021-02-03T06:25:57.346Z",
    "type": "execution"
   },
   {
    "code": "arr = np.array([1, 2, 3, 4, 5]) # SOLUTION",
    "id": "4a910b174e064ae28203ebf68736c17c",
    "idx": 28,
    "time": "2021-02-03T06:25:57.351Z",
    "type": "execution"
   },
   {
    "code": "grader.check(\"q2\")",
    "id": "fe51cadb2f6f406fb971edb4785327c5",
    "idx": 29,
    "time": "2021-02-03T06:25:57.356Z",
    "type": "execution"
   },
   {
    "code": "arr[3]",
    "id": "f5015684e1c84898bf9bce248bb77fda",
    "idx": 31,
    "time": "2021-02-03T06:25:57.359Z",
    "type": "execution"
   },
   {
    "code": "arr[2:4]",
    "id": "53d9e32ced10402381412cb78f3655eb",
    "idx": 32,
    "time": "2021-02-03T06:25:57.362Z",
    "type": "execution"
   },
   {
    "code": "arr.shape",
    "id": "b60a926dcb234ca78696555da80cf833",
    "idx": 33,
    "time": "2021-02-03T06:25:57.365Z",
    "type": "execution"
   },
   {
    "code": "arr.dtype",
    "id": "a0f03295fd234dce9430d167e577cfb5",
    "idx": 34,
    "time": "2021-02-03T06:25:57.369Z",
    "type": "execution"
   },
   {
    "code": "# A regular Python list can store items of different data types\n[1, '3']",
    "id": "aaa73965919a42f185a00226dfd0d9e4",
    "idx": 36,
    "time": "2021-02-03T06:25:57.374Z",
    "type": "execution"
   },
   {
    "code": "# Arrays will convert everything to the same data type\nnp.array([1, '3'])",
    "id": "3254f5a643d746778103b162b37d73dd",
    "idx": 37,
    "time": "2021-02-03T06:25:57.380Z",
    "type": "execution"
   },
   {
    "code": "# Another example of array type conversion\nnp.array([5, 8.3])",
    "id": "565e346687d54c02b02b14101b1a7015",
    "idx": 38,
    "time": "2021-02-03T06:25:57.383Z",
    "type": "execution"
   },
   {
    "code": "# Python list addition will concatenate the two lists\n[1, 2, 3] + [4, 5, 6]",
    "id": "5e0d4f46d03e477e88e69187d45da191",
    "idx": 40,
    "time": "2021-02-03T06:25:57.388Z",
    "type": "execution"
   },
   {
    "code": "# NumPy array addition will add them element-wise\nnp.array([1, 2, 3]) + np.array([4, 5, 6])",
    "id": "73e0978238224bb88874851cf282cd34",
    "idx": 41,
    "time": "2021-02-03T06:25:57.392Z",
    "type": "execution"
   },
   {
    "code": "np.random.seed(42)\nrandom_arr = np.random.rand(60)\nvalid_values = random_arr[(2 * random_arr  ** 4 > 1)] # SOLUTION",
    "id": "ae9b19ecdc014a348240bfc96570147e",
    "idx": 43,
    "time": "2021-02-03T06:25:57.395Z",
    "type": "execution"
   },
   {
    "code": "grader.check(\"q3a\")",
    "id": "787b780e71d749d08eb0cc9d97e40e9e",
    "idx": 44,
    "time": "2021-02-03T06:25:57.399Z",
    "type": "execution"
   },
   {
    "code": "def elementwise_array_sum(list_1, list_2):\n    \"\"\"Compute x^2 + y^3 for each x, y in list_1, list_2. \n    \n    Assume list_1 and list_2 have the same length.\n    \n    Return a NumPy array.\n    \"\"\"\n    assert len(list_1) == len(list_2), \"both args must have the same number of elements\"\n    # BEGIN SOLUTION\n    # Solution 1\n    return np.square(list_1) + np.power(list_2, 3)\n    # Solution 2\n    return np.array(list_1) ** 2 + np.array(list_2) ** 3\n    # END SOLUTION",
    "id": "bb490b7078bc4091b69a1d42d2ae4c69",
    "idx": 46,
    "time": "2021-02-03T06:25:57.404Z",
    "type": "execution"
   },
   {
    "code": "grader.check(\"q3b\")",
    "id": "c5b4b7410ddd4dd693251f16d65ae5c0",
    "idx": 47,
    "time": "2021-02-03T06:25:57.409Z",
    "type": "execution"
   },
   {
    "code": "sample_list_1 = list(range(10))\nsample_array_1 = np.arange(10)",
    "id": "a2e931dcf45c49b58a79eedd1ac7ca89",
    "idx": 49,
    "time": "2021-02-03T06:25:57.414Z",
    "type": "execution"
   },
   {
    "code": "%%time\nelementwise_list_sum(sample_list_1, sample_list_1)",
    "id": "6ed438dd0b6742f59158e01d3a9f0519",
    "idx": 50,
    "time": "2021-02-03T06:25:57.417Z",
    "type": "execution"
   },
   {
    "code": "%%time\nelementwise_array_sum(sample_array_1, sample_array_1)",
    "id": "38ef8b6e621f48ca92f4d46dd6e4f4ae",
    "idx": 51,
    "time": "2021-02-03T06:25:57.421Z",
    "type": "execution"
   },
   {
    "code": "sample_list_2 = list(range(100000))\nsample_array_2 = np.arange(100000)",
    "id": "7d410bf5bd6f4f88a534017063ba4c00",
    "idx": 53,
    "time": "2021-02-03T06:25:57.424Z",
    "type": "execution"
   },
   {
    "code": "%%time\nelementwise_list_sum(sample_list_2, sample_list_2)\n; # The semicolon hides the output",
    "id": "a60c97d82ca9482e89ed27ad7d53a3ae",
    "idx": 54,
    "time": "2021-02-03T06:25:57.427Z",
    "type": "execution"
   },
   {
    "code": "%%time\nelementwise_array_sum(sample_array_2, sample_array_2)\n;",
    "id": "dd917d5f5cce4ab7baf8c1c7761d1a5c",
    "idx": 55,
    "time": "2021-02-03T06:25:57.434Z",
    "type": "execution"
   },
   {
    "code": "def f(x):\n    return x**2 # SOLUTION\n    \ndef df(x):\n    return 2*x # SOLUTION\n\ndef plot(f, df):              \n    # BEGIN SOLUTION\n    x = np.linspace(-15, 15, 100)\n\n    plt.figure(figsize=(4, 4))\n    plt.plot(x, f(x))\n    plt.plot(x, np.zeros(x.shape[0]))\n    plt.plot(x, df(8) * (x-8) + f(8))\n    \n    plt.xlim(-15, 15)\n    plt.ylim(-100,300)\n    # END SOLUTION\n\nplot(f, df)",
    "id": "46671cca8cc243fd8064467d19a9408f",
    "idx": 65,
    "time": "2021-02-03T06:25:57.441Z",
    "type": "execution"
   },
   {
    "code": "from mpl_toolkits.mplot3d import axes3d\n\nu = np.linspace(1.5*np.pi, -1.5*np.pi, 100)\n# Your answer here\n[x,y] = np.meshgrid(u, u)\n# Your answer here\nsquared = np.sqrt(x.flatten()**2 + y.flatten()**2)\nz = np.cos(squared)\n# Your answer here\nz = z.reshape(x.shape)\n# Your answer here\n\nfig = plt.figure(figsize=(6, 6))\nax = fig.add_subplot(111, projection='3d')\n# Your answer here\nax.plot_wireframe(x, y, z, rstride=5, cstride=5, lw=2)\n# Your answer here\nax.view_init(elev=60, azim=25)\n# Your answer here\nplt.savefig(\"figure1.png\")\n# Your answer here",
    "id": "6ef962a9d77341778f7b8f5848c06237",
    "idx": 67,
    "time": "2021-02-03T06:25:57.445Z",
    "type": "execution"
   },
   {
    "code": "# BEGIN SOLUTION\ndef g(t):\n    return a * np.sin(2 * np.pi * f * t)\n\nf_values = [2, 8]\na_values = [2, 8]\nt = np.linspace(0, np.pi, 1000)\n\nplt.figure(figsize=(8, 8))\nplt.subplots_adjust(wspace=0.5, hspace=0.5)\nplt.suptitle(\"Sine waves with varying a=[2,8], f=[2,8]\")\nsubplot_index = 1\nfor f in f_values:\n    for a in a_values:\n        plt.subplot(2, 2, subplot_index)\n        plt.axis([0, np.pi, -10, 10])\n        plt.plot(t, g(t))\n        plt.ylabel(\"f: {}\".format(f))\n        plt.xlabel(\"a: {}\".format(a))\n        plt.xticks([0, np.pi/2, np.pi], [r'$0$', r'$\\pi/2$', r'$\\pi$'])\n        subplot_index += 1\n# END SOLUTION",
    "id": "470cd3a213c2420888cef1870728a62d",
    "idx": 71,
    "time": "2021-02-03T06:25:57.448Z",
    "type": "execution"
   },
   {
    "code": "grader.check_all()",
    "id": "2a93c5195f84436683b4609b80e09460",
    "idx": 73,
    "time": "2021-02-03T06:25:57.454Z",
    "type": "execution"
   },
   {
    "code": "# Save your notebook first, then run this cell to export your submission.\ngrader.export(pdf=False)",
    "id": "94c286227de0443980ec1f064b450ad1",
    "idx": 75,
    "time": "2021-02-03T06:25:57.460Z",
    "type": "execution"
   },
   {
    "id": "50675c9405f5419e913d1ee0df8dfa5c",
    "time": "2021-02-03T06:25:58.270Z",
    "type": "completion"
   },
   {
    "id": "11a2e095278b4bf1be646bc53e8f41cc",
    "time": "2021-02-03T06:25:58.284Z",
    "type": "completion"
   },
   {
    "id": "acb6c07a4dc5468e8cb8b3612316a422",
    "time": "2021-02-03T06:25:58.337Z",
    "type": "completion"
   },
   {
    "id": "1ea6eca25cde47bb87a6daf1dc73bf4a",
    "time": "2021-02-03T06:25:58.792Z",
    "type": "completion"
   },
   {
    "id": "196a8b25e7fe44c0999bce35fabce650",
    "time": "2021-02-03T06:25:58.797Z",
    "type": "completion"
   },
   {
    "id": "1986061714d549318f4aa073c2ad2a98",
    "time": "2021-02-03T06:25:58.842Z",
    "type": "completion"
   },
   {
    "id": "215d7a41ef67433988b9172ac1cd9a0b",
    "time": "2021-02-03T06:25:58.866Z",
    "type": "completion"
   },
   {
    "id": "b8e8c7d3144c4edd80244611f6074b73",
    "time": "2021-02-03T06:25:58.896Z",
    "type": "completion"
   },
   {
    "id": "6bc0e128dbbe488385460ae85f07ae59",
    "time": "2021-02-03T06:25:58.910Z",
    "type": "completion"
   },
   {
    "id": "c8bd7b465a8d43618fafa7a93f22b3a4",
    "time": "2021-02-03T06:25:58.956Z",
    "type": "completion"
   },
   {
    "id": "be2bdaf8b8fb40778c2a63b3ff626273",
    "time": "2021-02-03T06:25:59.020Z",
    "type": "completion"
   },
   {
    "id": "4a910b174e064ae28203ebf68736c17c",
    "time": "2021-02-03T06:25:59.032Z",
    "type": "completion"
   },
   {
    "id": "fe51cadb2f6f406fb971edb4785327c5",
    "time": "2021-02-03T06:25:59.062Z",
    "type": "completion"
   },
   {
    "id": "f5015684e1c84898bf9bce248bb77fda",
    "time": "2021-02-03T06:25:59.072Z",
    "type": "completion"
   },
   {
    "id": "53d9e32ced10402381412cb78f3655eb",
    "time": "2021-02-03T06:25:59.097Z",
    "type": "completion"
   },
   {
    "id": "b60a926dcb234ca78696555da80cf833",
    "time": "2021-02-03T06:25:59.125Z",
    "type": "completion"
   },
   {
    "id": "a0f03295fd234dce9430d167e577cfb5",
    "time": "2021-02-03T06:25:59.148Z",
    "type": "completion"
   },
   {
    "id": "aaa73965919a42f185a00226dfd0d9e4",
    "time": "2021-02-03T06:25:59.152Z",
    "type": "completion"
   },
   {
    "id": "3254f5a643d746778103b162b37d73dd",
    "time": "2021-02-03T06:25:59.177Z",
    "type": "completion"
   },
   {
    "id": "565e346687d54c02b02b14101b1a7015",
    "time": "2021-02-03T06:25:59.182Z",
    "type": "completion"
   },
   {
    "id": "5e0d4f46d03e477e88e69187d45da191",
    "time": "2021-02-03T06:25:59.207Z",
    "type": "completion"
   },
   {
    "id": "73e0978238224bb88874851cf282cd34",
    "time": "2021-02-03T06:25:59.214Z",
    "type": "completion"
   },
   {
    "id": "ae9b19ecdc014a348240bfc96570147e",
    "time": "2021-02-03T06:25:59.238Z",
    "type": "completion"
   },
   {
    "id": "787b780e71d749d08eb0cc9d97e40e9e",
    "time": "2021-02-03T06:25:59.243Z",
    "type": "completion"
   },
   {
    "id": "bb490b7078bc4091b69a1d42d2ae4c69",
    "time": "2021-02-03T06:25:59.266Z",
    "type": "completion"
   },
   {
    "id": "c5b4b7410ddd4dd693251f16d65ae5c0",
    "time": "2021-02-03T06:25:59.271Z",
    "type": "completion"
   },
   {
    "id": "a2e931dcf45c49b58a79eedd1ac7ca89",
    "time": "2021-02-03T06:25:59.273Z",
    "type": "completion"
   },
   {
    "id": "6ed438dd0b6742f59158e01d3a9f0519",
    "time": "2021-02-03T06:25:59.298Z",
    "type": "completion"
   },
   {
    "id": "38ef8b6e621f48ca92f4d46dd6e4f4ae",
    "time": "2021-02-03T06:25:59.317Z",
    "type": "completion"
   },
   {
    "id": "7d410bf5bd6f4f88a534017063ba4c00",
    "time": "2021-02-03T06:25:59.320Z",
    "type": "completion"
   },
   {
    "id": "a60c97d82ca9482e89ed27ad7d53a3ae",
    "time": "2021-02-03T06:25:59.326Z",
    "type": "completion"
   },
   {
    "id": "dd917d5f5cce4ab7baf8c1c7761d1a5c",
    "time": "2021-02-03T06:25:59.332Z",
    "type": "completion"
   },
   {
    "id": "46671cca8cc243fd8064467d19a9408f",
    "time": "2021-02-03T06:25:59.500Z",
    "type": "completion"
   },
   {
    "id": "6ef962a9d77341778f7b8f5848c06237",
    "time": "2021-02-03T06:26:00.094Z",
    "type": "completion"
   },
   {
    "id": "470cd3a213c2420888cef1870728a62d",
    "time": "2021-02-03T06:26:00.463Z",
    "type": "completion"
   },
   {
    "id": "2a93c5195f84436683b4609b80e09460",
    "time": "2021-02-03T06:26:00.467Z",
    "type": "completion"
   },
   {
    "id": "94c286227de0443980ec1f064b450ad1",
    "time": "2021-02-03T06:26:01.417Z",
    "type": "completion"
   },
   {
    "code": "from mpl_toolkits.mplot3d import axes3d\n\nu = np.linspace(1.5*np.pi, -1.5*np.pi, 100)\n# Your answer here\n[x,y] = np.meshgrid(u, u)\n# Your answer here\nsquared = np.sqrt(x.flatten()**2 + y.flatten()**2)\nz = np.cos(squared)\n# Your answer here\nz = z.reshape(x.shape)\n# Your answer here\n\nfig = plt.figure(figsize=(6, 6))\nax = fig.add_subplot(111, projection='3d')\n# Your answer here\nax.plot_wireframe(x, y, z, rstride=5, cstride=5, lw=2)\n# Your answer here\nax.view_init(elev=60, azim=25)\n# Your answer here\nplt.savefig(\"figure1.png\")\n# Your answer here",
    "id": "0c62a6ed2b1e4f5da64ca0aa41feccc1",
    "idx": 67,
    "time": "2021-02-05T02:49:26.007Z",
    "type": "execution"
   },
   {
    "id": "0c62a6ed2b1e4f5da64ca0aa41feccc1",
    "time": "2021-02-05T02:49:26.651Z",
    "type": "completion"
   },
   {
    "code": "import numpy as np",
    "id": "fa812c373f5242c38b050ebdc4622ac2",
    "idx": 67,
    "time": "2021-02-05T02:49:37.955Z",
    "type": "execution"
   },
   {
    "id": "fa812c373f5242c38b050ebdc4622ac2",
    "time": "2021-02-05T02:49:38.036Z",
    "type": "completion"
   },
   {
    "code": "from mpl_toolkits.mplot3d import axes3d\n\nu = np.linspace(1.5*np.pi, -1.5*np.pi, 100)\n# Your answer here\n[x,y] = np.meshgrid(u, u)\n# Your answer here\nsquared = np.sqrt(x.flatten()**2 + y.flatten()**2)\nz = np.cos(squared)\n# Your answer here\nz = z.reshape(x.shape)\n# Your answer here\n\nfig = plt.figure(figsize=(6, 6))\nax = fig.add_subplot(111, projection='3d')\n# Your answer here\nax.plot_wireframe(x, y, z, rstride=5, cstride=5, lw=2)\n# Your answer here\nax.view_init(elev=60, azim=25)\n# Your answer here\nplt.savefig(\"figure1.png\")\n# Your answer here",
    "id": "0c62a6ed2b1e4f5da64ca0aa41feccc1",
    "idx": 68,
    "time": "2021-02-05T02:49:45.001Z",
    "type": "execution"
   },
   {
    "id": "0c62a6ed2b1e4f5da64ca0aa41feccc1",
    "time": "2021-02-05T02:49:45.428Z",
    "type": "completion"
   },
   {
    "code": "import numpy as np\nimport matplotlib.pyplot as plt",
    "id": "fa812c373f5242c38b050ebdc4622ac2",
    "idx": 67,
    "time": "2021-02-05T02:49:55.346Z",
    "type": "execution"
   },
   {
    "id": "fa812c373f5242c38b050ebdc4622ac2",
    "time": "2021-02-05T02:49:55.448Z",
    "type": "completion"
   },
   {
    "code": "from mpl_toolkits.mplot3d import axes3d\n\nu = np.linspace(1.5*np.pi, -1.5*np.pi, 100)\n# Your answer here\n[x,y] = np.meshgrid(u, u)\n# Your answer here\nsquared = np.sqrt(x.flatten()**2 + y.flatten()**2)\nz = np.cos(squared)\n# Your answer here\nz = z.reshape(x.shape)\n# Your answer here\n\nfig = plt.figure(figsize=(6, 6))\nax = fig.add_subplot(111, projection='3d')\n# Your answer here\nax.plot_wireframe(x, y, z, rstride=5, cstride=5, lw=2)\n# Your answer here\nax.view_init(elev=60, azim=25)\n# Your answer here\nplt.savefig(\"figure1.png\")\n# Your answer here",
    "id": "0c62a6ed2b1e4f5da64ca0aa41feccc1",
    "idx": 68,
    "time": "2021-02-05T02:49:57.585Z",
    "type": "execution"
   },
   {
    "id": "0c62a6ed2b1e4f5da64ca0aa41feccc1",
    "time": "2021-02-05T02:49:58.630Z",
    "type": "completion"
   },
   {
    "code": "from mpl_toolkits.mplot3d import axes3d\n\nu = np.linspace(1.5*np.pi, -1.5*np.pi, 100)\n# Your answer here\n[x,y] = np.meshgrid(u, u)\n# Your answer here\nsquared = np.sqrt(x.flatten()**2 + y.flatten()**2)\nz = np.cos(squared)\n# Your answer here\nz = z.reshape(x.shape)\n# Your answer here\n\nfig = plt.figure(figsize=(6, 6))\nax = fig.add_subplot(111, projection='3d')\n# Your answer here\nax.plot_wireframe(x, y, z, rstride=10, cstride=5, lw=2)\n# Your answer here\nax.view_init(elev=60, azim=25)\n# Your answer here\nplt.savefig(\"figure1.png\")\n# Your answer here",
    "id": "0c62a6ed2b1e4f5da64ca0aa41feccc1",
    "idx": 68,
    "time": "2021-02-05T02:51:30.957Z",
    "type": "execution"
   },
   {
    "id": "0c62a6ed2b1e4f5da64ca0aa41feccc1",
    "time": "2021-02-05T02:51:31.659Z",
    "type": "completion"
   },
   {
    "code": "from mpl_toolkits.mplot3d import axes3d\n\nu = np.linspace(1.5*np.pi, -1.5*np.pi, 100)\n# Your answer here\n[x,y] = np.meshgrid(u, u)\n# Your answer here\nsquared = np.sqrt(x.flatten()**2 + y.flatten()**2)\nz = np.cos(squared)\n# Your answer here\nz = z.reshape(x.shape)\n# Your answer here\n\nfig = plt.figure(figsize=(6, 6))\nax = fig.add_subplot(111, projection='3d')\n# Your answer here\nax.plot_wireframe(x, y, z, rstride=50, cstride=5, lw=2)\n# Your answer here\nax.view_init(elev=60, azim=25)\n# Your answer here\nplt.savefig(\"figure1.png\")\n# Your answer here",
    "id": "0c62a6ed2b1e4f5da64ca0aa41feccc1",
    "idx": 68,
    "time": "2021-02-05T02:51:36.828Z",
    "type": "execution"
   },
   {
    "id": "0c62a6ed2b1e4f5da64ca0aa41feccc1",
    "time": "2021-02-05T02:51:37.663Z",
    "type": "completion"
   },
   {
    "code": "from mpl_toolkits.mplot3d import axes3d\n\nu = np.linspace(1.5*np.pi, -1.5*np.pi, 100)\n# Your answer here\n[x,y] = np.meshgrid(u, u)\n# Your answer here\nsquared = np.sqrt(x.flatten()**2 + y.flatten()**2)\nz = np.cos(squared)\n# Your answer here\nz = z.reshape(x.shape)\n# Your answer here\n\nfig = plt.figure(figsize=(6, 6))\nax = fig.add_subplot(111, projection='3d')\n# Your answer here\nax.plot_wireframe(x, y, z, rstride=50, cstride=50, lw=2)\n# Your answer here\nax.view_init(elev=60, azim=25)\n# Your answer here\nplt.savefig(\"figure1.png\")\n# Your answer here",
    "id": "0c62a6ed2b1e4f5da64ca0aa41feccc1",
    "idx": 68,
    "time": "2021-02-05T02:51:41.899Z",
    "type": "execution"
   },
   {
    "id": "0c62a6ed2b1e4f5da64ca0aa41feccc1",
    "time": "2021-02-05T02:51:42.490Z",
    "type": "completion"
   },
   {
    "code": "from mpl_toolkits.mplot3d import axes3d\n\nu = np.linspace(1.5*np.pi, -1.5*np.pi, 100)\n# Your answer here\n[x,y] = np.meshgrid(u, u)\n# Your answer here\nsquared = np.sqrt(x.flatten()**2 + y.flatten()**2)\nz = np.cos(squared)\n# Your answer here\nz = z.reshape(x.shape)\n# Your answer here\n\nfig = plt.figure(figsize=(6, 6))\nax = fig.add_subplot(111, projection='3d')\n# Your answer here\nax.plot_wireframe(x, y, z, rstride=50, cstride=50, lw=5)\n# Your answer here\nax.view_init(elev=60, azim=25)\n# Your answer here\nplt.savefig(\"figure1.png\")\n# Your answer here",
    "id": "0c62a6ed2b1e4f5da64ca0aa41feccc1",
    "idx": 68,
    "time": "2021-02-05T02:51:54.162Z",
    "type": "execution"
   },
   {
    "id": "0c62a6ed2b1e4f5da64ca0aa41feccc1",
    "time": "2021-02-05T02:51:54.671Z",
    "type": "completion"
   }
  ],
  "kernelspec": {
   "display_name": "Python 3",
   "language": "python",
   "name": "python3"
  },
  "language_info": {
   "codemirror_mode": {
    "name": "ipython",
    "version": 3
   },
   "file_extension": ".py",
   "mimetype": "text/x-python",
   "name": "python",
   "nbconvert_exporter": "python",
   "pygments_lexer": "ipython3",
   "version": "3.8.6"
  },
  "toc": {
   "colors": {
    "hover_highlight": "#DAA520",
    "running_highlight": "#FF0000",
    "selected_highlight": "#FFD700"
   },
   "moveMenuLeft": true,
   "nav_menu": {
    "height": "156px",
    "width": "252px"
   },
   "navigate_menu": true,
   "number_sections": true,
   "sideBar": true,
   "threshold": 4,
   "toc_cell": true,
   "toc_section_display": "block",
   "toc_window_display": true
  }
 },
 "nbformat": 4,
 "nbformat_minor": 2
}
