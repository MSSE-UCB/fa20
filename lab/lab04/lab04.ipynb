{
 "cells": [
  {
   "cell_type": "code",
   "execution_count": null,
   "metadata": {
    "deletable": false,
    "editable": false
   },
   "outputs": [],
   "source": [
    "# Initialize Otter\n",
    "import otter\n",
    "grader = otter.Notebook(\"lab04.ipynb\")"
   ]
  },
  {
   "cell_type": "markdown",
   "metadata": {
    "nbgrader": {
     "grade": false,
     "grade_id": "intro",
     "locked": true,
     "schema_version": 2,
     "solution": false
    }
   },
   "source": [
    "# Lab 4: Data Cleaning and Visualization\n",
    "\n",
    "In this lab you will be working on visualizing a dataset from the City of Berkeley containing data on calls to the Berkeley Police Department. Information about the dataset can be found [at this link](https://data.cityofberkeley.info/Public-Safety/Berkeley-PD-Calls-for-Service/k2nh-s5h5).\n",
    "\n",
    "Note: This lab will not work on older versions of Python; make sure to work on DataHub.\n",
    "\n",
    "**This assignment should be completed and submitted by 11:59 PM on Friday, February 19.**\n",
    "\n",
    "**Warning: This lab includes an analysis of crime in Berkeley. If you feel uncomfortable about the topic, please feel free to contact your GSI or the instructors.**"
   ]
  },
  {
   "cell_type": "markdown",
   "metadata": {
    "nbgrader": {
     "grade": false,
     "grade_id": "setup",
     "locked": true,
     "schema_version": 2,
     "solution": false
    }
   },
   "source": [
    "## Setup\n",
    "\n",
    "Note that we configure a custom default figure size. Virtually every default aspect of matplotlib [can be customized](https://matplotlib.org/users/customizing.html)."
   ]
  },
  {
   "cell_type": "code",
   "execution_count": 1,
   "metadata": {
    "nbgrader": {
     "grade": false,
     "grade_id": "imports",
     "locked": true,
     "schema_version": 2,
     "solution": false
    }
   },
   "outputs": [],
   "source": [
    "import pandas as pd\n",
    "import numpy as np\n",
    "import zipfile\n",
    "import matplotlib\n",
    "import matplotlib.pyplot as plt\n",
    "\n",
    "plt.rcParams['figure.figsize'] = (12, 9)"
   ]
  },
  {
   "cell_type": "markdown",
   "metadata": {
    "nbgrader": {
     "grade": false,
     "grade_id": "part1",
     "locked": true,
     "schema_version": 2,
     "solution": false
    }
   },
   "source": [
    "## Part 1: Cleaning and Exploring the Data\n",
    "\n",
    "To retrieve the dataset, we will use the `ds100_utils.fetch_and_cache` utility."
   ]
  },
  {
   "cell_type": "code",
   "execution_count": 2,
   "metadata": {},
   "outputs": [],
   "source": [
    "import ds100_utils\n",
    "\n",
    "data_dir = 'data'\n",
    "data_url = 'http://www.ds100.org/fa20/resources/assets/datasets/lab04_data_fa20.zip'\n",
    "file_name = 'lab04_data_fa20.zip'\n",
    "\n",
    "dest_path = ds100_utils.fetch_and_cache(data_url=data_url, file=file_name, data_dir=data_dir)\n",
    "print(f'Located at {dest_path}')"
   ]
  },
  {
   "cell_type": "markdown",
   "metadata": {
    "nbgrader": {
     "grade": false,
     "grade_id": "unzip-data-1",
     "locked": true,
     "schema_version": 2,
     "solution": false
    }
   },
   "source": [
    "We will now directly unzip the ZIP archive and start working with the uncompressed files.\n",
    "\n",
    "Note: There is no single right answer regarding whether to work with compressed files in their compressed state or to uncompress them on disk permanently. If you for example need to work with multiple tools on the same files, or write many notebooks to analyze them, and they are not too large, it may be more convenient to uncompress them once.  But you may also have situations where you find it preferable to work with the compressed data directly.  \n",
    "\n",
    "Python gives you tools for both approaches, and you should know how to perform both tasks in order to choose the one that best suits the problem at hand.\n",
    "\n",
    "---\n",
    "\n",
    "Run the cell below to extract the zip file into the data directory."
   ]
  },
  {
   "cell_type": "code",
   "execution_count": 3,
   "metadata": {},
   "outputs": [],
   "source": [
    "my_zip = zipfile.ZipFile(dest_path, 'r')\n",
    "my_zip.extractall(data_dir)"
   ]
  },
  {
   "cell_type": "markdown",
   "metadata": {
    "nbgrader": {
     "grade": false,
     "grade_id": "q0",
     "locked": true,
     "schema_version": 2,
     "solution": false
    }
   },
   "source": [
    "Now, we'll use a method of the `Pathlib.Path` class called `glob` to list all files in the `data` directory. You will find useful information in pathlib [docs](https://docs.python.org/3/library/pathlib.html).\n",
    "\n",
    "Below, we use pathlib's `glob` method to store the list of all files' names from the `data_dir` directory in the variable `file_names`. These names should be strings that contain only the file name (e.g. `dummy.txt` not `data/dummy.txt`). The asterisk (*) character is used with the `glob` method to match any string."
   ]
  },
  {
   "cell_type": "code",
   "execution_count": 4,
   "metadata": {},
   "outputs": [],
   "source": [
    "from pathlib import Path\n",
    "data_dir_path = Path('data') # creates a Path object that points to the data directory\n",
    "file_names = [x.name for x in data_dir_path.glob('*') if x.is_file()]\n",
    "file_names"
   ]
  },
  {
   "cell_type": "markdown",
   "metadata": {
    "nbgrader": {
     "grade": false,
     "grade_id": "explore-0",
     "locked": true,
     "schema_version": 2,
     "solution": false
    }
   },
   "source": [
    "Let's now load the CSV file we have into a `pandas.DataFrame` object."
   ]
  },
  {
   "cell_type": "code",
   "execution_count": 5,
   "metadata": {},
   "outputs": [],
   "source": [
    "calls = pd.read_csv(\"data/Berkeley_PD_-_Calls_for_Service.csv\")\n",
    "calls.head()"
   ]
  },
  {
   "cell_type": "markdown",
   "metadata": {},
   "source": [
    "We see that the fields include a case number, the offense type, the date and time of the offense, the \"CVLEGEND\" which appears to be related to the offense type, a \"CVDOW\" which has no apparent meaning, a date added to the database, and the location spread across four fields.\n",
    "\n",
    "Let's also check some basic information about these files using the `DataFrame.info` and `DataFrame.describe` methods."
   ]
  },
  {
   "cell_type": "code",
   "execution_count": 6,
   "metadata": {},
   "outputs": [],
   "source": [
    "calls.info()"
   ]
  },
  {
   "cell_type": "code",
   "execution_count": 7,
   "metadata": {},
   "outputs": [],
   "source": [
    "calls.describe()"
   ]
  },
  {
   "cell_type": "markdown",
   "metadata": {
    "nbgrader": {
     "grade": false,
     "grade_id": "explore-4",
     "locked": true,
     "schema_version": 2,
     "solution": false
    }
   },
   "source": [
    "Notice that the functions above reveal type information for the columns, as well as some basic statistics about the numerical columns found in the DataFrame. However, we still need more information about what each column represents. Let's explore the data further in Question 1.\n",
    "\n",
    "Before we go over the fields to see their meanings, the cell below will verify that all the events happened in Berkeley by grouping on the `City` and `State` columns. You should see that all of our data falls into one group."
   ]
  },
  {
   "cell_type": "code",
   "execution_count": 8,
   "metadata": {},
   "outputs": [],
   "source": [
    "calls.groupby([\"City\",\"State\"]).count()"
   ]
  },
  {
   "cell_type": "markdown",
   "metadata": {
    "nbgrader": {
     "grade": false,
     "grade_id": "q1",
     "locked": true,
     "schema_version": 2,
     "solution": false
    }
   },
   "source": [
    "### Question 1\n",
    "Above, when we called `head`, it seemed like `OFFENSE` and `CVLEGEND` both contained information about the type of event reported. What is the difference in meaning between the two columns? One way to probe this is to look at the `value_counts` for each Series."
   ]
  },
  {
   "cell_type": "code",
   "execution_count": 9,
   "metadata": {},
   "outputs": [],
   "source": [
    "calls['OFFENSE'].value_counts().head(10)"
   ]
  },
  {
   "cell_type": "code",
   "execution_count": 10,
   "metadata": {},
   "outputs": [],
   "source": [
    "calls['CVLEGEND'].value_counts().head(10)"
   ]
  },
  {
   "cell_type": "markdown",
   "metadata": {
    "deletable": false,
    "editable": false,
    "nbgrader": {
     "grade": false,
     "grade_id": "q1a",
     "locked": true,
     "schema_version": 2,
     "solution": false
    }
   },
   "source": [
    "#### Question 1a\n",
    "\n",
    "Above, it seems like `OFFENSE` is more specific than `CVLEGEND`, e.g. \"LARCENY\" vs. \"THEFT FELONY (OVER $950)\". If you're unfamiliar with the term, \"larceny\" is a legal term for theft of personal property.\n",
    "\n",
    "To get a sense of how many subcategories there are for each `OFFENSE`, set `calls_by_cvlegend_and_offense` equal to a multi-indexed series where the data is first indexed on the `CVLEGEND` and then on the `OFFENSE`, and the data is equal to the number of offenses in the database that match the respective `CVLEGEND` and `OFFENSE`. For example, calls_by_cvlegend_and_offense[\"LARCENY\", \"THEFT FROM PERSON\"] should return 24.\n",
    "\n",
    "<!--\n",
    "BEGIN QUESTION\n",
    "name: q1a\n",
    "-->"
   ]
  },
  {
   "cell_type": "code",
   "execution_count": 11,
   "metadata": {},
   "outputs": [],
   "source": [
    "calls_by_cvlegend_and_offense = ..."
   ]
  },
  {
   "cell_type": "code",
   "execution_count": null,
   "metadata": {
    "deletable": false,
    "editable": false
   },
   "outputs": [],
   "source": [
    "grader.check(\"q1a\")"
   ]
  },
  {
   "cell_type": "markdown",
   "metadata": {
    "deletable": false,
    "editable": false,
    "nbgrader": {
     "grade": false,
     "grade_id": "q1b",
     "locked": true,
     "schema_version": 2,
     "solution": false
    }
   },
   "source": [
    "### Question 1b\n",
    "\n",
    "In the cell below, set `answer1b` equal to a list of strings corresponding to the possible values for `OFFENSE` when `CVLEGEND` is \"LARCENY\". You can type the answer manually, or you can create an expression that automatically extracts the names.\n",
    "\n",
    "<!--\n",
    "BEGIN QUESTION\n",
    "name: q1b\n",
    "-->"
   ]
  },
  {
   "cell_type": "code",
   "execution_count": 16,
   "metadata": {},
   "outputs": [],
   "source": [
    "answer1b = ...\n",
    "answer1b"
   ]
  },
  {
   "cell_type": "code",
   "execution_count": null,
   "metadata": {
    "deletable": false,
    "editable": false
   },
   "outputs": [],
   "source": [
    "grader.check(\"q1b\")"
   ]
  },
  {
   "cell_type": "markdown",
   "metadata": {
    "deletable": false,
    "editable": false,
    "nbgrader": {
     "grade": false,
     "grade_id": "q2",
     "locked": true,
     "schema_version": 2,
     "solution": false
    }
   },
   "source": [
    "## Question 2\n",
    "\n",
    "What are the five crime types of CVLEGEND that have the most crime events? You may need to use `value_counts` to find the answer.\n",
    "Save your results into `answer2` as a list of strings.\n",
    "\n",
    "**Hint:** *The `keys` method of the Series class might be useful.*\n",
    "\n",
    "<!--\n",
    "BEGIN QUESTION\n",
    "name: q2\n",
    "-->"
   ]
  },
  {
   "cell_type": "code",
   "execution_count": 18,
   "metadata": {},
   "outputs": [],
   "source": [
    "answer2 = ...\n",
    "answer2"
   ]
  },
  {
   "cell_type": "code",
   "execution_count": null,
   "metadata": {
    "deletable": false,
    "editable": false
   },
   "outputs": [],
   "source": [
    "grader.check(\"q2\")"
   ]
  },
  {
   "cell_type": "markdown",
   "metadata": {
    "nbgrader": {
     "grade": false,
     "grade_id": "setup",
     "locked": true,
     "schema_version": 2,
     "solution": false
    }
   },
   "source": [
    "--- \n",
    "\n",
    "## Part 2: Visualization\n"
   ]
  },
  {
   "cell_type": "markdown",
   "metadata": {
    "nbgrader": {
     "grade": false,
     "grade_id": "part2",
     "locked": true,
     "schema_version": 2,
     "solution": false
    }
   },
   "source": [
    "## Pandas Examples\n",
    "\n",
    "Pandas offers basic functionality for plotting. For example, the `DataFrame` and `Series` classes both have a `plot` method. \n",
    "\n",
    "As you learn to do data visualization, you may find the [pandas plotting documentation](https://pandas.pydata.org/pandas-docs/stable/reference/api/pandas.DataFrame.plot.html)  helpful!"
   ]
  },
  {
   "cell_type": "markdown",
   "metadata": {
    "nbgrader": {
     "grade": false,
     "grade_id": "plot-demo",
     "locked": true,
     "schema_version": 2,
     "solution": false
    }
   },
   "source": [
    "As an example of the built-in plotting functionality of pandas, the following example uses `plot` method of the `Series` class to generate a `barh` plot type to visually display the value counts for `CVLEGEND`.\n",
    "\n",
    "There are also many other plots that we will explore throughout the lab."
   ]
  },
  {
   "cell_type": "code",
   "execution_count": 19,
   "metadata": {
    "nbgrader": {
     "grade": false,
     "grade_id": "plot-demo1",
     "locked": true,
     "schema_version": 2,
     "solution": false
    }
   },
   "outputs": [],
   "source": [
    "ax = calls['CVLEGEND'].value_counts().plot(kind='barh')\n",
    "ax.set_ylabel(\"Crime Category\")\n",
    "ax.set_xlabel(\"Number of Calls\")\n",
    "ax.set_title(\"Number of Calls By Crime Type\");\n",
    "ax2 = plt.gca()"
   ]
  },
  {
   "cell_type": "markdown",
   "metadata": {
    "nbgrader": {
     "grade": false,
     "grade_id": "plot-demo6",
     "locked": true,
     "schema_version": 2,
     "solution": false
    }
   },
   "source": [
    "\n",
    "\n",
    "## An Additional Note on Plotting in Jupyter Notebooks\n",
    "\n",
    "You may have noticed that many of our code cells involving plotting end with a semicolon (;). This prevents any extra output from the last line of the cell that we may not want to see. Try adding this to your own code in the following questions!"
   ]
  },
  {
   "cell_type": "markdown",
   "metadata": {
    "deletable": false,
    "editable": false,
    "nbgrader": {
     "grade": false,
     "grade_id": "q3",
     "locked": true,
     "schema_version": 2,
     "solution": false
    }
   },
   "source": [
    "### Question 3\n",
    "\n",
    "Now it is your turn to make some plots using `pandas`.  Let's start by transforming the data so that it is easier to work with. We then will look at some distributions of the data. \n",
    "\n",
    "The CVDOW field isn't named helpfully and it is hard to see the meaning from the data alone. According to the website linked at the top of this notebook, CVDOW is actually indicating the day that events happened. 0->Sunday, 1->Monday ... 6->Saturday. \n",
    "\n",
    "#### Question 3a\n",
    "\n",
    "Add a new column `Day` into the `calls` dataframe that has the string weekday (eg. 'Sunday') for the corresponding value in CVDOW. For example, if the first 3 values of `CVDOW` are `[3, 6, 0]`, then the first 3 values of the `Day` column should be `[\"Wednesday\", \"Saturday\", \"Sunday\"]`.\n",
    "\n",
    "**Hint:** *Try using the [Series.map](https://pandas.pydata.org/pandas-docs/stable/reference/api/pandas.Series.map.html) function on `calls[\"CVDOW\"]`.  Can you assign this to the new column `calls[\"Day\"]`?*\n",
    "\n",
    "<!--\n",
    "BEGIN QUESTION\n",
    "name: q3a\n",
    "-->"
   ]
  },
  {
   "cell_type": "code",
   "execution_count": 21,
   "metadata": {
    "nbgrader": {
     "grade": false,
     "grade_id": "q3a-answer",
     "locked": false,
     "schema_version": 2,
     "solution": true
    }
   },
   "outputs": [],
   "source": [
    "days = [\"Sunday\", \"Monday\", \"Tuesday\", \"Wednesday\", \"Thursday\", \"Friday\", \"Saturday\"]\n",
    "day_indices = range(7)\n",
    "indices_to_days_dict = dict(zip(day_indices, days)) # Should look like {0:\"Sunday\", 1:\"Monday\", ..., 6:\"Saturday\"}\n",
    "\n",
    "..."
   ]
  },
  {
   "cell_type": "code",
   "execution_count": null,
   "metadata": {
    "deletable": false,
    "editable": false
   },
   "outputs": [],
   "source": [
    "grader.check(\"q3a\")"
   ]
  },
  {
   "cell_type": "markdown",
   "metadata": {
    "deletable": false,
    "editable": false
   },
   "source": [
    "#### Question 3b\n",
    "\n",
    "Now let's look at the EVENTTM column which indicates the time for events. Since it contains hour and minute information, let's extract the hour info and create a new column named `Hour` in the `calls` dataframe. You should save the hour as an `int`.\n",
    "\n",
    "\n",
    "**Hint:** *Your code should only require one line*\n",
    "\n",
    "<!--\n",
    "BEGIN QUESTION\n",
    "name: q3b\n",
    "-->"
   ]
  },
  {
   "cell_type": "code",
   "execution_count": 23,
   "metadata": {},
   "outputs": [],
   "source": [
    "..."
   ]
  },
  {
   "cell_type": "code",
   "execution_count": null,
   "metadata": {
    "deletable": false,
    "editable": false
   },
   "outputs": [],
   "source": [
    "grader.check(\"q3b\")"
   ]
  },
  {
   "cell_type": "markdown",
   "metadata": {
    "deletable": false,
    "editable": false,
    "nbgrader": {
     "grade": false,
     "grade_id": "q3b-instructions",
     "locked": true,
     "schema_version": 2,
     "solution": false
    }
   },
   "source": [
    "#### Question 3c\n",
    "\n",
    "Using `pandas`, construct a vertical bar plot with the count of the number of calls (entries in the table) for each day of the week **ordered by the day of the week** (eg. `Sunday`, `Monday`, ...). Be sure that your axes are labeled and that your plot is titled.  There should be approximately 500 calls per day.\n",
    "\n",
    "**Hint:** *Given a series `s`, and an array `coolIndex` that has the same entries as in `s.index`, `s[coolIndex]` will return a copy of the series in the same order as `coolIndex`.*\n",
    "\n",
    "<!--\n",
    "BEGIN QUESTION\n",
    "name: q3c\n",
    "-->"
   ]
  },
  {
   "cell_type": "code",
   "execution_count": 27,
   "metadata": {
    "nbgrader": {
     "grade": false,
     "grade_id": "q3b-answer",
     "locked": false,
     "schema_version": 2,
     "solution": true
    }
   },
   "outputs": [],
   "source": [
    "...\n",
    "\n",
    "\n",
    "\n",
    "# Leave this for grading purposes\n",
    "ax_3c = plt.gca()"
   ]
  },
  {
   "cell_type": "code",
   "execution_count": null,
   "metadata": {
    "deletable": false,
    "editable": false
   },
   "outputs": [],
   "source": [
    "grader.check(\"q3c\")"
   ]
  },
  {
   "cell_type": "markdown",
   "metadata": {
    "deletable": false,
    "editable": false
   },
   "source": [
    "#### Question 3d\n",
    "\n",
    "\n",
    "Using `pandas`, construct a line plot with the count of the number of calls (entries in the table) for each hour of the day  **ordered by the time** (eg. `12:00 AM`, `1:00 AM`, ...). Please use the provided variable `hours` in your answer. Be sure that your axes are labeled and that your plot is titled. \n",
    "\n",
    "<!--\n",
    "BEGIN QUESTION\n",
    "name: q3d\n",
    "\n",
    "-->"
   ]
  },
  {
   "cell_type": "code",
   "execution_count": 28,
   "metadata": {},
   "outputs": [],
   "source": [
    "hours = list(range(24))\n",
    "...\n",
    "\n",
    "\n",
    "\n",
    "# Leave this for grading purposes\n",
    "ax_3d = plt.gca()"
   ]
  },
  {
   "cell_type": "code",
   "execution_count": null,
   "metadata": {
    "deletable": false,
    "editable": false
   },
   "outputs": [],
   "source": [
    "grader.check(\"q3d\")"
   ]
  },
  {
   "cell_type": "markdown",
   "metadata": {},
   "source": [
    "##### Why do you think this happens? Are there more calls in the day or night? What is the least popular time? Most? (Answer Below)"
   ]
  },
  {
   "cell_type": "markdown",
   "metadata": {},
   "source": []
  },
  {
   "cell_type": "markdown",
   "metadata": {
    "deletable": false,
    "editable": false,
    "nbgrader": {
     "grade": false,
     "grade_id": "q4",
     "locked": true,
     "schema_version": 2,
     "solution": false
    }
   },
   "source": [
    "### Question 4\n",
    "\n",
    "It seems weekdays generally have slightly more calls than Saturday or Sunday, but the difference does not look significant.  \n",
    "\n",
    "We can break down into some particular types of events to see their distribution. For example, let's make a bar plot for the CVLEGEND \"ROBBERY\". Which day is the peak for \"ROBBERY\"?\n",
    "\n",
    "#### Question 4a\n",
    "\n",
    "Use `pandas` to create a vertical bar plot of the number of total robberies reported on each day of the week, again ordered by the days of the week starting with Sunday. Please use the provided variable `filtered` in your answer.\n",
    "\n",
    "**Hint:** *This should be very similar to Question 3b*\n",
    "\n",
    "<!--\n",
    "BEGIN QUESTION\n",
    "name: q4a\n",
    "-->"
   ]
  },
  {
   "cell_type": "code",
   "execution_count": 29,
   "metadata": {
    "nbgrader": {
     "grade": false,
     "grade_id": "q4a-answer",
     "locked": false,
     "schema_version": 2,
     "solution": true
    }
   },
   "outputs": [],
   "source": [
    "filtered = calls[calls[\"CVLEGEND\"] == \"ROBBERY\"]\n",
    "...\n",
    "\n",
    "\n",
    "\n",
    "# Leave this for grading purposes\n",
    "ax_4a = plt.gca()"
   ]
  },
  {
   "cell_type": "code",
   "execution_count": null,
   "metadata": {
    "deletable": false,
    "editable": false
   },
   "outputs": [],
   "source": [
    "grader.check(\"q4a\")"
   ]
  },
  {
   "cell_type": "markdown",
   "metadata": {
    "nbgrader": {
     "grade": false,
     "grade_id": "q4b",
     "locked": true,
     "schema_version": 2,
     "solution": false
    }
   },
   "source": [
    "#### Question 4b\n",
    "\n",
    "Do you observe anything interesting about the distribution of ROBBERY calls over a week? Type a 1-sentence answer in the cell below."
   ]
  },
  {
   "cell_type": "markdown",
   "metadata": {
    "nbgrader": {
     "grade": true,
     "grade_id": "q4b-answer",
     "locked": false,
     "points": 1,
     "schema_version": 2,
     "solution": true
    }
   },
   "source": []
  },
  {
   "cell_type": "markdown",
   "metadata": {
    "deletable": false,
    "editable": false,
    "nbgrader": {
     "grade": false,
     "grade_id": "q7",
     "locked": true,
     "schema_version": 2,
     "solution": false
    }
   },
   "source": [
    "### Question 5\n",
    "\n",
    "In the cell below, generate a boxplot which examines the hour of day of each crime broken down by the `CVLEGEND` value.  To construct this plot use the [DataFrame.boxplot](https://pandas.pydata.org/pandas-docs/stable/reference/api/pandas.DataFrame.boxplot.html) documentation. You may want to rotate the `CVLEGEND` labels for better readability.\n",
    "\n",
    "##### Looking at your plot, which crime type appears to have the largest interquartile range? Put your results into `answer5` as a string.\n",
    "\n",
    "\n",
    "<!--\n",
    "BEGIN QUESTION\n",
    "name: q5\n",
    "-->"
   ]
  },
  {
   "cell_type": "code",
   "execution_count": 33,
   "metadata": {
    "nbgrader": {
     "grade": false,
     "grade_id": "q7-pandas-boxplot",
     "locked": true,
     "schema_version": 2,
     "solution": false
    },
    "tags": [
     "student"
    ]
   },
   "outputs": [],
   "source": [
    "answer5 = ...\n",
    "..."
   ]
  },
  {
   "cell_type": "code",
   "execution_count": null,
   "metadata": {
    "deletable": false,
    "editable": false
   },
   "outputs": [],
   "source": [
    "grader.check(\"q5\")"
   ]
  },
  {
   "cell_type": "markdown",
   "metadata": {},
   "source": [
    "**Important**: To make sure the test cases run correctly, click `Kernel>Restart & Run All` and make sure all of the test cases are still passing. Doing so will submit your code for you. \n",
    "\n",
    "If your test cases are no longer passing after restarting, it's likely because you're missing a variable, or the modifications that you'd previously made to your Data Frame are no longer taking place (perhaps because you deleted a cell). \n",
    "\n",
    "You may submit this assignment as many times as you'd like before the deadline.\n",
    "\n",
    "**You must restart and run all cells before submitting. Otherwise, you may pass test cases locally, but not on our servers. We will not entertain regrade requests of the form, “my code passed all of my local test cases, but failed the autograder”.**"
   ]
  },
  {
   "cell_type": "markdown",
   "metadata": {
    "nbgrader": {
     "grade": false,
     "grade_id": "finish",
     "locked": true,
     "schema_version": 2,
     "solution": false
    }
   },
   "source": [
    "## Congratulations\n",
    "\n",
    "Congrats! You are finished with this assignment."
   ]
  },
  {
   "cell_type": "markdown",
   "metadata": {
    "deletable": false,
    "editable": false
   },
   "source": [
    "---\n",
    "\n",
    "To double-check your work, the cell below will rerun all of the autograder tests."
   ]
  },
  {
   "cell_type": "code",
   "execution_count": null,
   "metadata": {
    "deletable": false,
    "editable": false
   },
   "outputs": [],
   "source": [
    "grader.check_all()"
   ]
  },
  {
   "cell_type": "markdown",
   "metadata": {
    "deletable": false,
    "editable": false
   },
   "source": [
    "## Submission\n",
    "\n",
    "Make sure you have run all cells in your notebook in order before running the cell below, so that all images/graphs appear in the output. The cell below will generate a zip file for you to submit. **Please save before exporting!**"
   ]
  },
  {
   "cell_type": "code",
   "execution_count": null,
   "metadata": {
    "deletable": false,
    "editable": false
   },
   "outputs": [],
   "source": [
    "# Save your notebook first, then run this cell to export your submission.\n",
    "grader.export(pdf=False)"
   ]
  },
  {
   "cell_type": "markdown",
   "metadata": {},
   "source": [
    " "
   ]
  }
 ],
 "metadata": {
  "celltoolbar": "Create Assignment",
  "history": [
   {
    "code": "import pandas as pd\nimport numpy as np\nimport zipfile\nimport matplotlib\nimport matplotlib.pyplot as plt\n\nplt.rcParams['figure.figsize'] = (12, 9)",
    "id": "bd79b65d580241c1a531a35b4e7e8cc0",
    "idx": 3,
    "time": "2021-02-13T00:08:32.000Z",
    "type": "execution"
   },
   {
    "id": "bd79b65d580241c1a531a35b4e7e8cc0",
    "time": "2021-02-13T00:08:32.847Z",
    "type": "completion"
   },
   {
    "code": "import ds100_utils\n\ndata_dir = 'data'\ndata_url = 'http://www.ds100.org/fa20/resources/assets/datasets/lab04_data_fa20.zip'\nfile_name = 'lab04_data_fa20.zip'\n\ndest_path = ds100_utils.fetch_and_cache(data_url=data_url, file=file_name, data_dir=data_dir)\nprint(f'Located at {dest_path}')",
    "id": "df5846b049f149af89b800bda4abe1ac",
    "idx": 5,
    "time": "2021-02-13T00:08:43.362Z",
    "type": "execution"
   },
   {
    "id": "df5846b049f149af89b800bda4abe1ac",
    "time": "2021-02-13T00:08:43.662Z",
    "type": "completion"
   },
   {
    "code": "my_zip = zipfile.ZipFile(dest_path, 'r')\nmy_zip.extractall(data_dir)",
    "id": "df51587183e842f28ec64c9e5bfdf1cd",
    "idx": 7,
    "time": "2021-02-13T00:09:18.779Z",
    "type": "execution"
   },
   {
    "id": "df51587183e842f28ec64c9e5bfdf1cd",
    "time": "2021-02-13T00:09:18.894Z",
    "type": "completion"
   },
   {
    "code": "from pathlib import Path\ndata_dir_path = Path('data') # creates a Path object that points to the data directory\nfile_names = [x.name for x in data_dir_path.glob('*') if x.is_file()]\nfile_names",
    "id": "2f977cf0172943ff805ac64cf794c8b3",
    "idx": 9,
    "time": "2021-02-13T00:10:07.142Z",
    "type": "execution"
   },
   {
    "id": "2f977cf0172943ff805ac64cf794c8b3",
    "time": "2021-02-13T00:10:07.249Z",
    "type": "completion"
   },
   {
    "code": "calls = pd.read_csv(\"data/Berkeley_PD_-_Calls_for_Service.csv\")\ncalls.head()",
    "id": "75d07018992645fd8b1b8a6057dd8755",
    "idx": 11,
    "time": "2021-02-13T00:10:24.472Z",
    "type": "execution"
   },
   {
    "id": "75d07018992645fd8b1b8a6057dd8755",
    "time": "2021-02-13T00:10:24.631Z",
    "type": "completion"
   },
   {
    "code": "calls.info()",
    "id": "88c6c1f8846d4489bab1c923f441968f",
    "idx": 13,
    "time": "2021-02-13T00:14:52.496Z",
    "type": "execution"
   },
   {
    "id": "88c6c1f8846d4489bab1c923f441968f",
    "time": "2021-02-13T00:14:52.604Z",
    "type": "completion"
   },
   {
    "code": "calls.describe()",
    "id": "5350d9d35543471e88a4bd69b6944f2d",
    "idx": 14,
    "time": "2021-02-13T00:15:22.703Z",
    "type": "execution"
   },
   {
    "id": "5350d9d35543471e88a4bd69b6944f2d",
    "time": "2021-02-13T00:15:22.812Z",
    "type": "completion"
   },
   {
    "code": "calls.groupby([\"City\",\"State\"]).count()",
    "id": "12ff2e8d9cea40b88250ace8a30d94ea",
    "idx": 16,
    "time": "2021-02-13T00:15:57.100Z",
    "type": "execution"
   },
   {
    "id": "12ff2e8d9cea40b88250ace8a30d94ea",
    "time": "2021-02-13T00:15:57.248Z",
    "type": "completion"
   },
   {
    "code": "calls['OFFENSE'].value_counts().head(10)",
    "id": "2a4df35e6885439d8de4d630ba719551",
    "idx": 18,
    "time": "2021-02-13T00:16:13.074Z",
    "type": "execution"
   },
   {
    "id": "2a4df35e6885439d8de4d630ba719551",
    "time": "2021-02-13T00:16:13.147Z",
    "type": "completion"
   },
   {
    "code": "calls['CVLEGEND'].value_counts().head(10)",
    "id": "03df0fa8d25d43ddbdb3ab54c9a33c73",
    "idx": 19,
    "time": "2021-02-13T00:16:15.297Z",
    "type": "execution"
   },
   {
    "id": "03df0fa8d25d43ddbdb3ab54c9a33c73",
    "time": "2021-02-13T00:16:15.369Z",
    "type": "completion"
   },
   {
    "code": "calls_by_cvlegend_and_offense = calls.groupby([\"CVLEGEND\", \"OFFENSE\"]).size() # SOLUTION",
    "id": "33afa5e1fe1d46538047cccba2c14b0e",
    "idx": 21,
    "time": "2021-02-13T00:17:33.130Z",
    "type": "execution"
   },
   {
    "id": "33afa5e1fe1d46538047cccba2c14b0e",
    "time": "2021-02-13T00:17:33.207Z",
    "type": "completion"
   },
   {
    "code": "# TEST\ncalls_by_cvlegend_and_offense[\"LARCENY\", \"THEFT FROM PERSON\"] == 24",
    "id": "308f2e756d90401083cda3fd6fb27c5b",
    "idx": 22,
    "time": "2021-02-13T00:17:40.929Z",
    "type": "execution"
   },
   {
    "id": "308f2e756d90401083cda3fd6fb27c5b",
    "time": "2021-02-13T00:17:41.002Z",
    "type": "completion"
   },
   {
    "code": "calls_by_cvlegend_and_offense",
    "id": "4ad30bf86efb4dc38260c031eba2b41c",
    "idx": 23,
    "time": "2021-02-13T00:17:45.548Z",
    "type": "execution"
   },
   {
    "id": "4ad30bf86efb4dc38260c031eba2b41c",
    "time": "2021-02-13T00:17:45.617Z",
    "type": "completion"
   },
   {
    "code": "answer1b = list(calls_by_cvlegend_and_offense['LARCENY'].index) # SOLUTION",
    "id": "b441811927734cf5916615b4ae054be0",
    "idx": 24,
    "time": "2021-02-13T00:18:24.838Z",
    "type": "execution"
   },
   {
    "id": "b441811927734cf5916615b4ae054be0",
    "time": "2021-02-13T00:18:24.909Z",
    "type": "completion"
   },
   {
    "code": "answer1b",
    "id": "1b5fdbe7078c42308ce630ea648061f3",
    "idx": 25,
    "time": "2021-02-13T00:18:35.438Z",
    "type": "execution"
   },
   {
    "id": "1b5fdbe7078c42308ce630ea648061f3",
    "time": "2021-02-13T00:18:35.530Z",
    "type": "completion"
   },
   {
    "code": "answer1b = list(calls_by_cvlegend_and_offense['LARCENY'].index) # SOLUTION\nanswer1b",
    "id": "b441811927734cf5916615b4ae054be0",
    "idx": 24,
    "time": "2021-02-13T00:18:44.333Z",
    "type": "execution"
   },
   {
    "id": "b441811927734cf5916615b4ae054be0",
    "time": "2021-02-13T00:18:44.404Z",
    "type": "completion"
   },
   {
    "code": "calls[\"CVLEGEND\"]",
    "id": "a542040420ac4554835c53c5a2f6bea4",
    "idx": 31,
    "time": "2021-02-13T00:19:12.837Z",
    "type": "execution"
   },
   {
    "id": "a542040420ac4554835c53c5a2f6bea4",
    "time": "2021-02-13T00:19:12.913Z",
    "type": "completion"
   },
   {
    "code": "answer2 = list(calls[\"CVLEGEND\"].value_counts().head(5).keys()) # SOLUTION\nanswer2",
    "id": "6b65ce6c53e84473b907a7e050c2081d",
    "idx": 31,
    "time": "2021-02-13T00:19:43.283Z",
    "type": "execution"
   },
   {
    "id": "6b65ce6c53e84473b907a7e050c2081d",
    "time": "2021-02-13T00:19:43.378Z",
    "type": "completion"
   },
   {
    "code": "ax = calls['CVLEGEND'].value_counts().plot(kind='barh')\nax.set_ylabel(\"Crime Category\")\nax.set_xlabel(\"Number of Calls\")\nax.set_title(\"Number of Calls By Crime Type\");\nax2 = plt.gca()",
    "id": "f25c3efe44e64dd4bc4e0415106cc2f6",
    "idx": 39,
    "time": "2021-02-13T00:20:25.253Z",
    "type": "execution"
   },
   {
    "id": "f25c3efe44e64dd4bc4e0415106cc2f6",
    "time": "2021-02-13T00:20:25.923Z",
    "type": "completion"
   },
   {
    "code": "calls['CVLEGEND'].value_counts()",
    "id": "d0a685e52ead4ae98438b60e54d06b73",
    "idx": 39,
    "time": "2021-02-13T00:20:52.492Z",
    "type": "execution"
   },
   {
    "id": "d0a685e52ead4ae98438b60e54d06b73",
    "time": "2021-02-13T00:20:52.563Z",
    "type": "completion"
   },
   {
    "code": "days = [\"Sunday\", \"Monday\", \"Tuesday\", \"Wednesday\", \"Thursday\", \"Friday\", \"Saturday\"]\nday_indices = range(7)\nindices_to_days_dict = dict(zip(day_indices, days)) # Should look like {0:\"Sunday\", 1:\"Monday\", ..., 6:\"Saturday\"}\n\ncalls[\"Day\"] = calls[\"CVDOW\"].map(indices_to_days_dict) # SOLUTION",
    "id": "619fc4fd057240368e87311a89fa7424",
    "idx": 42,
    "time": "2021-02-13T00:22:43.881Z",
    "type": "execution"
   },
   {
    "id": "619fc4fd057240368e87311a89fa7424",
    "time": "2021-02-13T00:22:43.965Z",
    "type": "completion"
   },
   {
    "code": "calls",
    "id": "177a99c352bf4fcfa3c5d5751b16f9e2",
    "idx": 43,
    "time": "2021-02-13T00:22:47.450Z",
    "type": "execution"
   },
   {
    "id": "177a99c352bf4fcfa3c5d5751b16f9e2",
    "time": "2021-02-13T00:22:47.559Z",
    "type": "completion"
   },
   {
    "code": "calls[\"Hour\"] = calls['EVENTTM'].str[0:2].astype(int) # SOLUTION",
    "id": "504b7e828ea34edd8292f744c33cfaed",
    "idx": 46,
    "time": "2021-02-13T00:23:10.506Z",
    "type": "execution"
   },
   {
    "id": "504b7e828ea34edd8292f744c33cfaed",
    "time": "2021-02-13T00:23:10.579Z",
    "type": "completion"
   },
   {
    "code": "# BEGIN SOLUTION\nax = calls['Day'].value_counts()[days].plot(kind='bar')\n# ax.set_xticklabels(ax.get_xticklabels(), rotation=90)\nax.set_xlabel(\"Day\")\nax.set_ylabel(\"Number of Calls\")\nax.set_title(\"Number of Calls For Each Day of the Week\");\n# END SOLUTION\n\n\n\n# Leave this for grading purposes\nax_3c = plt.gca()",
    "id": "9094cffc25564ded860cb0e4692468d3",
    "idx": 50,
    "time": "2021-02-13T00:24:34.897Z",
    "type": "execution"
   },
   {
    "id": "9094cffc25564ded860cb0e4692468d3",
    "time": "2021-02-13T00:24:35.284Z",
    "type": "completion"
   },
   {
    "code": "# BEGIN SOLUTION\nax = calls['Day'].value_counts()[days].plot(kind='hbar')\n# ax.set_xticklabels(ax.get_xticklabels(), rotation=90)\nax.set_xlabel(\"Day\")\nax.set_ylabel(\"Number of Calls\")\nax.set_title(\"Number of Calls For Each Day of the Week\");\n# END SOLUTION\n\n\n\n# Leave this for grading purposes\nax_3c = plt.gca()",
    "id": "9094cffc25564ded860cb0e4692468d3",
    "idx": 50,
    "time": "2021-02-13T00:24:53.471Z",
    "type": "execution"
   },
   {
    "id": "9094cffc25564ded860cb0e4692468d3",
    "time": "2021-02-13T00:24:53.689Z",
    "type": "completion"
   },
   {
    "code": "# BEGIN SOLUTION\nax = calls['Day'].value_counts()[days].plot(kind='barh')\n# ax.set_xticklabels(ax.get_xticklabels(), rotation=90)\nax.set_xlabel(\"Day\")\nax.set_ylabel(\"Number of Calls\")\nax.set_title(\"Number of Calls For Each Day of the Week\");\n# END SOLUTION\n\n\n\n# Leave this for grading purposes\nax_3c = plt.gca()",
    "id": "9094cffc25564ded860cb0e4692468d3",
    "idx": 50,
    "time": "2021-02-13T00:24:59.614Z",
    "type": "execution"
   },
   {
    "id": "9094cffc25564ded860cb0e4692468d3",
    "time": "2021-02-13T00:24:59.990Z",
    "type": "completion"
   },
   {
    "code": "# BEGIN SOLUTION\nax = calls['Day'].value_counts()[days].plot(kind='bar')\nax.set_xticklabels(ax.get_xticklabels(), rotation=90)\nax.set_xlabel(\"Day\")\nax.set_ylabel(\"Number of Calls\")\nax.set_title(\"Number of Calls For Each Day of the Week\");\n# END SOLUTION\n\n\n\n# Leave this for grading purposes\nax_3c = plt.gca()",
    "id": "9094cffc25564ded860cb0e4692468d3",
    "idx": 50,
    "time": "2021-02-13T00:25:21.831Z",
    "type": "execution"
   },
   {
    "id": "9094cffc25564ded860cb0e4692468d3",
    "time": "2021-02-13T00:25:22.220Z",
    "type": "completion"
   },
   {
    "code": "hours = list(range(24))\n# BEGIN SOLUTION\nax = calls[\"Hour\"].value_counts()[hours].plot(kind='line')\nax.set_xlabel(\"Time of day (Hour)\")\nax.set_ylabel(\"Number of Calls\")\nax.set_title(\"Number of Calls For Each Hour of the Day\");\n# END SOLUTION\n\n\n\n# Leave this for grading purposes\nax_3d = plt.gca()",
    "id": "1689f491d6724cc5a39effe1427c5758",
    "idx": 55,
    "time": "2021-02-13T00:26:16.173Z",
    "type": "execution"
   },
   {
    "id": "1689f491d6724cc5a39effe1427c5758",
    "time": "2021-02-13T00:26:18.219Z",
    "type": "completion"
   },
   {
    "code": "filtered = calls[calls[\"CVLEGEND\"] == \"ROBBERY\"]\n# BEGIN SOLUTION\nax = filtered['Day'].value_counts()[days].plot(kind='bar')\nax.set_xticklabels(ax.get_xticklabels(),rotation=90)\nax.set_xlabel(\"Day\")\nax.set_ylabel(\"Number of Calls\")\nax.set_title(\"Number of Robbery Calls For Each Day of the Week\");\n# END SOLUTION\n\n\n\n# Leave this for grading purposes\nax_4a = plt.gca()",
    "id": "905ee20193444c948fa13053ce5b12d7",
    "idx": 61,
    "time": "2021-02-13T00:27:17.133Z",
    "type": "execution"
   },
   {
    "id": "905ee20193444c948fa13053ce5b12d7",
    "time": "2021-02-13T00:27:18.098Z",
    "type": "completion"
   },
   {
    "code": "answer5 = \"SEX CRIME\" # SOLUTION\n# BEGIN SOLUTION\n# Note that medianprops is optional\ncalls.boxplot(column=\"Hour\", by='CVLEGEND', rot=90, medianprops=dict(linewidth=2.5));\n# END SOLUTION",
    "id": "0504f493b13b49e98e5c9e64d0b19860",
    "idx": 68,
    "time": "2021-02-13T00:28:27.917Z",
    "type": "execution"
   },
   {
    "id": "0504f493b13b49e98e5c9e64d0b19860",
    "time": "2021-02-13T00:28:28.855Z",
    "type": "completion"
   },
   {
    "code": "answer5 = \"SEX CRIME\" # SOLUTION\n# BEGIN SOLUTION\n# Note that medianprops is optional\ncalls.boxplot(column=\"Hour\", by='CVLEGEND');\n# END SOLUTION",
    "id": "0504f493b13b49e98e5c9e64d0b19860",
    "idx": 68,
    "time": "2021-02-13T00:28:49.835Z",
    "type": "execution"
   },
   {
    "id": "0504f493b13b49e98e5c9e64d0b19860",
    "time": "2021-02-13T00:28:50.685Z",
    "type": "completion"
   },
   {
    "code": "answer5 = \"SEX CRIME\" # SOLUTION\n# BEGIN SOLUTION\n# Note that medianprops is optional\ncalls.boxplot(column=\"Hour\", by='CVLEGEND', rot=90);\n# END SOLUTION",
    "id": "0504f493b13b49e98e5c9e64d0b19860",
    "idx": 68,
    "time": "2021-02-13T00:29:08.178Z",
    "type": "execution"
   },
   {
    "id": "0504f493b13b49e98e5c9e64d0b19860",
    "time": "2021-02-13T00:29:09.054Z",
    "type": "completion"
   },
   {
    "code": "answer5 = \"SEX CRIME\" # SOLUTION\n# BEGIN SOLUTION\n# Note that medianprops is optional\ncalls.boxplot(column=\"Hour\", by='CVLEGEND', rot=90, medianprops=dict(linewidth=2.5));\n# END SOLUTION",
    "id": "0504f493b13b49e98e5c9e64d0b19860",
    "idx": 68,
    "time": "2021-02-13T00:29:15.526Z",
    "type": "execution"
   },
   {
    "id": "0504f493b13b49e98e5c9e64d0b19860",
    "time": "2021-02-13T00:29:16.671Z",
    "type": "completion"
   }
  ],
  "kernelspec": {
   "display_name": "Python 3",
   "language": "python",
   "name": "python3"
  },
  "language_info": {
   "codemirror_mode": {
    "name": "ipython",
    "version": 3
   },
   "file_extension": ".py",
   "mimetype": "text/x-python",
   "name": "python",
   "nbconvert_exporter": "python",
   "pygments_lexer": "ipython3",
   "version": "3.8.6"
  }
 },
 "nbformat": 4,
 "nbformat_minor": 4
}
