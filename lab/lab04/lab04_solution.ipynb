{
 "cells": [
  {
   "cell_type": "code",
   "execution_count": 1,
   "metadata": {
    "deletable": false,
    "editable": false
   },
   "outputs": [],
   "source": [
    "# Initialize Otter\n",
    "import otter\n",
    "grader = otter.Notebook(\"lab04.ipynb\")"
   ]
  },
  {
   "cell_type": "markdown",
   "metadata": {
    "nbgrader": {
     "grade": false,
     "grade_id": "intro",
     "locked": true,
     "schema_version": 2,
     "solution": false
    }
   },
   "source": [
    "# Lab 4: Data Cleaning and Visualization\n",
    "\n",
    "In this lab you will be working on visualizing a dataset from the City of Berkeley containing data on calls to the Berkeley Police Department. Information about the dataset can be found [at this link](https://data.cityofberkeley.info/Public-Safety/Berkeley-PD-Calls-for-Service/k2nh-s5h5).\n",
    "\n",
    "Note: This lab will not work on older versions of Python; make sure to work on DataHub.\n",
    "\n",
    "**This assignment should be completed and submitted by 11:59 PM on Friday, February 19.**\n",
    "\n",
    "**Warning: This lab includes an analysis of crime in Berkeley. If you feel uncomfortable about the topic, please feel free to contact your GSI or the instructors.**"
   ]
  },
  {
   "cell_type": "markdown",
   "metadata": {
    "nbgrader": {
     "grade": false,
     "grade_id": "setup",
     "locked": true,
     "schema_version": 2,
     "solution": false
    }
   },
   "source": [
    "## Setup\n",
    "\n",
    "Note that we configure a custom default figure size. Virtually every default aspect of matplotlib [can be customized](https://matplotlib.org/users/customizing.html)."
   ]
  },
  {
   "cell_type": "code",
   "execution_count": 2,
   "metadata": {
    "nbgrader": {
     "grade": false,
     "grade_id": "imports",
     "locked": true,
     "schema_version": 2,
     "solution": false
    }
   },
   "outputs": [],
   "source": [
    "import pandas as pd\n",
    "import numpy as np\n",
    "import zipfile\n",
    "import matplotlib\n",
    "import matplotlib.pyplot as plt\n",
    "\n",
    "plt.rcParams['figure.figsize'] = (12, 9)"
   ]
  },
  {
   "cell_type": "markdown",
   "metadata": {
    "nbgrader": {
     "grade": false,
     "grade_id": "part1",
     "locked": true,
     "schema_version": 2,
     "solution": false
    }
   },
   "source": [
    "## Part 1: Cleaning and Exploring the Data\n",
    "\n",
    "To retrieve the dataset, we will use the `ds100_utils.fetch_and_cache` utility."
   ]
  },
  {
   "cell_type": "code",
   "execution_count": 3,
   "metadata": {},
   "outputs": [
    {
     "name": "stdout",
     "output_type": "stream",
     "text": [
      "Downloading... Done!\n",
      "Located at data/lab04_data_fa20.zip\n"
     ]
    }
   ],
   "source": [
    "import ds100_utils\n",
    "\n",
    "data_dir = 'data'\n",
    "data_url = 'http://www.ds100.org/fa20/resources/assets/datasets/lab04_data_fa20.zip'\n",
    "file_name = 'lab04_data_fa20.zip'\n",
    "\n",
    "dest_path = ds100_utils.fetch_and_cache(data_url=data_url, file=file_name, data_dir=data_dir)\n",
    "print(f'Located at {dest_path}')"
   ]
  },
  {
   "cell_type": "markdown",
   "metadata": {
    "nbgrader": {
     "grade": false,
     "grade_id": "unzip-data-1",
     "locked": true,
     "schema_version": 2,
     "solution": false
    }
   },
   "source": [
    "We will now directly unzip the ZIP archive and start working with the uncompressed files.\n",
    "\n",
    "Note: There is no single right answer regarding whether to work with compressed files in their compressed state or to uncompress them on disk permanently. If you for example need to work with multiple tools on the same files, or write many notebooks to analyze them, and they are not too large, it may be more convenient to uncompress them once.  But you may also have situations where you find it preferable to work with the compressed data directly.  \n",
    "\n",
    "Python gives you tools for both approaches, and you should know how to perform both tasks in order to choose the one that best suits the problem at hand.\n",
    "\n",
    "---\n",
    "\n",
    "Run the cell below to extract the zip file into the data directory."
   ]
  },
  {
   "cell_type": "code",
   "execution_count": 4,
   "metadata": {},
   "outputs": [],
   "source": [
    "my_zip = zipfile.ZipFile(dest_path, 'r')\n",
    "my_zip.extractall(data_dir)"
   ]
  },
  {
   "cell_type": "markdown",
   "metadata": {
    "nbgrader": {
     "grade": false,
     "grade_id": "q0",
     "locked": true,
     "schema_version": 2,
     "solution": false
    }
   },
   "source": [
    "Now, we'll use a method of the `Pathlib.Path` class called `glob` to list all files in the `data` directory. You will find useful information in pathlib [docs](https://docs.python.org/3/library/pathlib.html).\n",
    "\n",
    "Below, we use pathlib's `glob` method to store the list of all files' names from the `data_dir` directory in the variable `file_names`. These names should be strings that contain only the file name (e.g. `dummy.txt` not `data/dummy.txt`). The asterisk (*) character is used with the `glob` method to match any string."
   ]
  },
  {
   "cell_type": "code",
   "execution_count": 7,
   "metadata": {},
   "outputs": [
    {
     "data": {
      "text/plain": [
       "['lab04_data_fa20.zip',\n",
       " 'dummy.txt',\n",
       " 'do_not_readme.md',\n",
       " 'ben_kurtovic.py',\n",
       " 'Berkeley_PD_-_Calls_for_Service.csv',\n",
       " 'hello_world.py']"
      ]
     },
     "execution_count": 7,
     "metadata": {},
     "output_type": "execute_result"
    }
   ],
   "source": [
    "from pathlib import Path\n",
    "data_dir_path = Path('data') # creates a Path object that points to the data directory\n",
    "file_names = [x.name for x in data_dir_path.glob('*') if x.is_file()]\n",
    "file_names"
   ]
  },
  {
   "cell_type": "code",
   "execution_count": 12,
   "metadata": {},
   "outputs": [
    {
     "name": "stdout",
     "output_type": "stream",
     "text": [
      "data/do_not_readme.md\n"
     ]
    }
   ],
   "source": [
    "print(list(data_dir_path.glob('*'))[2])"
   ]
  },
  {
   "cell_type": "code",
   "execution_count": 13,
   "metadata": {},
   "outputs": [
    {
     "data": {
      "text/plain": [
       "'data/do_not_readme.md'"
      ]
     },
     "execution_count": 13,
     "metadata": {},
     "output_type": "execute_result"
    }
   ],
   "source": [
    "import glob\n",
    "glob.glob(\"data/*\")[2]"
   ]
  },
  {
   "cell_type": "markdown",
   "metadata": {
    "nbgrader": {
     "grade": false,
     "grade_id": "explore-0",
     "locked": true,
     "schema_version": 2,
     "solution": false
    }
   },
   "source": [
    "Let's now load the CSV file we have into a `pandas.DataFrame` object."
   ]
  },
  {
   "cell_type": "code",
   "execution_count": 14,
   "metadata": {},
   "outputs": [
    {
     "data": {
      "text/html": [
       "<div>\n",
       "<style scoped>\n",
       "    .dataframe tbody tr th:only-of-type {\n",
       "        vertical-align: middle;\n",
       "    }\n",
       "\n",
       "    .dataframe tbody tr th {\n",
       "        vertical-align: top;\n",
       "    }\n",
       "\n",
       "    .dataframe thead th {\n",
       "        text-align: right;\n",
       "    }\n",
       "</style>\n",
       "<table border=\"1\" class=\"dataframe\">\n",
       "  <thead>\n",
       "    <tr style=\"text-align: right;\">\n",
       "      <th></th>\n",
       "      <th>CASENO</th>\n",
       "      <th>OFFENSE</th>\n",
       "      <th>EVENTDT</th>\n",
       "      <th>EVENTTM</th>\n",
       "      <th>CVLEGEND</th>\n",
       "      <th>CVDOW</th>\n",
       "      <th>InDbDate</th>\n",
       "      <th>Block_Location</th>\n",
       "      <th>BLKADDR</th>\n",
       "      <th>City</th>\n",
       "      <th>State</th>\n",
       "    </tr>\n",
       "  </thead>\n",
       "  <tbody>\n",
       "    <tr>\n",
       "      <th>0</th>\n",
       "      <td>18022300</td>\n",
       "      <td>DISTURBANCE</td>\n",
       "      <td>04/18/2018 12:00:00 AM</td>\n",
       "      <td>22:17</td>\n",
       "      <td>DISORDERLY CONDUCT</td>\n",
       "      <td>3</td>\n",
       "      <td>09/06/2018 03:30:12 AM</td>\n",
       "      <td>OREGON STREET &amp;amp; MCGEE AVE\\nBerkeley, CA\\n(...</td>\n",
       "      <td>OREGON STREET &amp; MCGEE AVE</td>\n",
       "      <td>Berkeley</td>\n",
       "      <td>CA</td>\n",
       "    </tr>\n",
       "    <tr>\n",
       "      <th>1</th>\n",
       "      <td>18026683</td>\n",
       "      <td>THEFT MISD. (UNDER $950)</td>\n",
       "      <td>05/09/2018 12:00:00 AM</td>\n",
       "      <td>21:25</td>\n",
       "      <td>LARCENY</td>\n",
       "      <td>3</td>\n",
       "      <td>09/06/2018 03:30:13 AM</td>\n",
       "      <td>200 UNIVERSITY AVE\\nBerkeley, CA\\n(37.865511, ...</td>\n",
       "      <td>200 UNIVERSITY AVE</td>\n",
       "      <td>Berkeley</td>\n",
       "      <td>CA</td>\n",
       "    </tr>\n",
       "    <tr>\n",
       "      <th>2</th>\n",
       "      <td>18038550</td>\n",
       "      <td>THEFT MISD. (UNDER $950)</td>\n",
       "      <td>05/18/2018 12:00:00 AM</td>\n",
       "      <td>20:00</td>\n",
       "      <td>LARCENY</td>\n",
       "      <td>5</td>\n",
       "      <td>09/06/2018 03:30:09 AM</td>\n",
       "      <td>2200 MILVIA ST\\nBerkeley, CA\\n(37.868574, -122...</td>\n",
       "      <td>2200 MILVIA ST</td>\n",
       "      <td>Berkeley</td>\n",
       "      <td>CA</td>\n",
       "    </tr>\n",
       "    <tr>\n",
       "      <th>3</th>\n",
       "      <td>18014810</td>\n",
       "      <td>BURGLARY AUTO</td>\n",
       "      <td>03/13/2018 12:00:00 AM</td>\n",
       "      <td>08:50</td>\n",
       "      <td>BURGLARY - VEHICLE</td>\n",
       "      <td>2</td>\n",
       "      <td>09/06/2018 03:30:08 AM</td>\n",
       "      <td>1200 SIXTH ST\\nBerkeley, CA\\n(37.881142, -122....</td>\n",
       "      <td>1200 SIXTH ST</td>\n",
       "      <td>Berkeley</td>\n",
       "      <td>CA</td>\n",
       "    </tr>\n",
       "    <tr>\n",
       "      <th>4</th>\n",
       "      <td>18018643</td>\n",
       "      <td>ALCOHOL OFFENSE</td>\n",
       "      <td>03/31/2018 12:00:00 AM</td>\n",
       "      <td>13:29</td>\n",
       "      <td>LIQUOR LAW VIOLATION</td>\n",
       "      <td>6</td>\n",
       "      <td>09/06/2018 03:30:11 AM</td>\n",
       "      <td>CENTER STREET &amp;amp; SHATTUCK AVE\\nBerkeley, CA...</td>\n",
       "      <td>CENTER STREET &amp; SHATTUCK AVE</td>\n",
       "      <td>Berkeley</td>\n",
       "      <td>CA</td>\n",
       "    </tr>\n",
       "  </tbody>\n",
       "</table>\n",
       "</div>"
      ],
      "text/plain": [
       "     CASENO                   OFFENSE                 EVENTDT EVENTTM  \\\n",
       "0  18022300               DISTURBANCE  04/18/2018 12:00:00 AM   22:17   \n",
       "1  18026683  THEFT MISD. (UNDER $950)  05/09/2018 12:00:00 AM   21:25   \n",
       "2  18038550  THEFT MISD. (UNDER $950)  05/18/2018 12:00:00 AM   20:00   \n",
       "3  18014810             BURGLARY AUTO  03/13/2018 12:00:00 AM   08:50   \n",
       "4  18018643           ALCOHOL OFFENSE  03/31/2018 12:00:00 AM   13:29   \n",
       "\n",
       "               CVLEGEND  CVDOW                InDbDate  \\\n",
       "0    DISORDERLY CONDUCT      3  09/06/2018 03:30:12 AM   \n",
       "1               LARCENY      3  09/06/2018 03:30:13 AM   \n",
       "2               LARCENY      5  09/06/2018 03:30:09 AM   \n",
       "3    BURGLARY - VEHICLE      2  09/06/2018 03:30:08 AM   \n",
       "4  LIQUOR LAW VIOLATION      6  09/06/2018 03:30:11 AM   \n",
       "\n",
       "                                      Block_Location  \\\n",
       "0  OREGON STREET &amp; MCGEE AVE\\nBerkeley, CA\\n(...   \n",
       "1  200 UNIVERSITY AVE\\nBerkeley, CA\\n(37.865511, ...   \n",
       "2  2200 MILVIA ST\\nBerkeley, CA\\n(37.868574, -122...   \n",
       "3  1200 SIXTH ST\\nBerkeley, CA\\n(37.881142, -122....   \n",
       "4  CENTER STREET &amp; SHATTUCK AVE\\nBerkeley, CA...   \n",
       "\n",
       "                        BLKADDR      City State  \n",
       "0     OREGON STREET & MCGEE AVE  Berkeley    CA  \n",
       "1            200 UNIVERSITY AVE  Berkeley    CA  \n",
       "2                2200 MILVIA ST  Berkeley    CA  \n",
       "3                 1200 SIXTH ST  Berkeley    CA  \n",
       "4  CENTER STREET & SHATTUCK AVE  Berkeley    CA  "
      ]
     },
     "execution_count": 14,
     "metadata": {},
     "output_type": "execute_result"
    }
   ],
   "source": [
    "calls = pd.read_csv(\"data/Berkeley_PD_-_Calls_for_Service.csv\")\n",
    "calls.head()"
   ]
  },
  {
   "cell_type": "markdown",
   "metadata": {},
   "source": [
    "We see that the fields include a case number, the offense type, the date and time of the offense, the \"CVLEGEND\" which appears to be related to the offense type, a \"CVDOW\" which has no apparent meaning, a date added to the database, and the location spread across four fields.\n",
    "\n",
    "Let's also check some basic information about these files using the `DataFrame.info` and `DataFrame.describe` methods."
   ]
  },
  {
   "cell_type": "code",
   "execution_count": 15,
   "metadata": {},
   "outputs": [
    {
     "name": "stdout",
     "output_type": "stream",
     "text": [
      "<class 'pandas.core.frame.DataFrame'>\n",
      "RangeIndex: 3788 entries, 0 to 3787\n",
      "Data columns (total 11 columns):\n",
      " #   Column          Non-Null Count  Dtype \n",
      "---  ------          --------------  ----- \n",
      " 0   CASENO          3788 non-null   int64 \n",
      " 1   OFFENSE         3788 non-null   object\n",
      " 2   EVENTDT         3788 non-null   object\n",
      " 3   EVENTTM         3788 non-null   object\n",
      " 4   CVLEGEND        3788 non-null   object\n",
      " 5   CVDOW           3788 non-null   int64 \n",
      " 6   InDbDate        3788 non-null   object\n",
      " 7   Block_Location  3788 non-null   object\n",
      " 8   BLKADDR         3766 non-null   object\n",
      " 9   City            3788 non-null   object\n",
      " 10  State           3788 non-null   object\n",
      "dtypes: int64(2), object(9)\n",
      "memory usage: 325.7+ KB\n"
     ]
    }
   ],
   "source": [
    "calls.info()"
   ]
  },
  {
   "cell_type": "code",
   "execution_count": 16,
   "metadata": {},
   "outputs": [
    {
     "data": {
      "text/html": [
       "<div>\n",
       "<style scoped>\n",
       "    .dataframe tbody tr th:only-of-type {\n",
       "        vertical-align: middle;\n",
       "    }\n",
       "\n",
       "    .dataframe tbody tr th {\n",
       "        vertical-align: top;\n",
       "    }\n",
       "\n",
       "    .dataframe thead th {\n",
       "        text-align: right;\n",
       "    }\n",
       "</style>\n",
       "<table border=\"1\" class=\"dataframe\">\n",
       "  <thead>\n",
       "    <tr style=\"text-align: right;\">\n",
       "      <th></th>\n",
       "      <th>CASENO</th>\n",
       "      <th>CVDOW</th>\n",
       "    </tr>\n",
       "  </thead>\n",
       "  <tbody>\n",
       "    <tr>\n",
       "      <th>count</th>\n",
       "      <td>3.788000e+03</td>\n",
       "      <td>3788.000000</td>\n",
       "    </tr>\n",
       "    <tr>\n",
       "      <th>mean</th>\n",
       "      <td>1.804387e+07</td>\n",
       "      <td>2.997888</td>\n",
       "    </tr>\n",
       "    <tr>\n",
       "      <th>std</th>\n",
       "      <td>2.665970e+04</td>\n",
       "      <td>1.952160</td>\n",
       "    </tr>\n",
       "    <tr>\n",
       "      <th>min</th>\n",
       "      <td>1.801375e+07</td>\n",
       "      <td>0.000000</td>\n",
       "    </tr>\n",
       "    <tr>\n",
       "      <th>25%</th>\n",
       "      <td>1.802444e+07</td>\n",
       "      <td>1.000000</td>\n",
       "    </tr>\n",
       "    <tr>\n",
       "      <th>50%</th>\n",
       "      <td>1.803530e+07</td>\n",
       "      <td>3.000000</td>\n",
       "    </tr>\n",
       "    <tr>\n",
       "      <th>75%</th>\n",
       "      <td>1.804537e+07</td>\n",
       "      <td>5.000000</td>\n",
       "    </tr>\n",
       "    <tr>\n",
       "      <th>max</th>\n",
       "      <td>1.809135e+07</td>\n",
       "      <td>6.000000</td>\n",
       "    </tr>\n",
       "  </tbody>\n",
       "</table>\n",
       "</div>"
      ],
      "text/plain": [
       "             CASENO        CVDOW\n",
       "count  3.788000e+03  3788.000000\n",
       "mean   1.804387e+07     2.997888\n",
       "std    2.665970e+04     1.952160\n",
       "min    1.801375e+07     0.000000\n",
       "25%    1.802444e+07     1.000000\n",
       "50%    1.803530e+07     3.000000\n",
       "75%    1.804537e+07     5.000000\n",
       "max    1.809135e+07     6.000000"
      ]
     },
     "execution_count": 16,
     "metadata": {},
     "output_type": "execute_result"
    }
   ],
   "source": [
    "calls.describe()"
   ]
  },
  {
   "cell_type": "markdown",
   "metadata": {
    "nbgrader": {
     "grade": false,
     "grade_id": "explore-4",
     "locked": true,
     "schema_version": 2,
     "solution": false
    }
   },
   "source": [
    "Notice that the functions above reveal type information for the columns, as well as some basic statistics about the numerical columns found in the DataFrame. However, we still need more information about what each column represents. Let's explore the data further in Question 1.\n",
    "\n",
    "Before we go over the fields to see their meanings, the cell below will verify that all the events happened in Berkeley by grouping on the `City` and `State` columns. You should see that all of our data falls into one group."
   ]
  },
  {
   "cell_type": "code",
   "execution_count": 8,
   "metadata": {},
   "outputs": [
    {
     "data": {
      "text/html": [
       "<div>\n",
       "<style scoped>\n",
       "    .dataframe tbody tr th:only-of-type {\n",
       "        vertical-align: middle;\n",
       "    }\n",
       "\n",
       "    .dataframe tbody tr th {\n",
       "        vertical-align: top;\n",
       "    }\n",
       "\n",
       "    .dataframe thead th {\n",
       "        text-align: right;\n",
       "    }\n",
       "</style>\n",
       "<table border=\"1\" class=\"dataframe\">\n",
       "  <thead>\n",
       "    <tr style=\"text-align: right;\">\n",
       "      <th></th>\n",
       "      <th></th>\n",
       "      <th>CASENO</th>\n",
       "      <th>OFFENSE</th>\n",
       "      <th>EVENTDT</th>\n",
       "      <th>EVENTTM</th>\n",
       "      <th>CVLEGEND</th>\n",
       "      <th>CVDOW</th>\n",
       "      <th>InDbDate</th>\n",
       "      <th>Block_Location</th>\n",
       "      <th>BLKADDR</th>\n",
       "    </tr>\n",
       "    <tr>\n",
       "      <th>City</th>\n",
       "      <th>State</th>\n",
       "      <th></th>\n",
       "      <th></th>\n",
       "      <th></th>\n",
       "      <th></th>\n",
       "      <th></th>\n",
       "      <th></th>\n",
       "      <th></th>\n",
       "      <th></th>\n",
       "      <th></th>\n",
       "    </tr>\n",
       "  </thead>\n",
       "  <tbody>\n",
       "    <tr>\n",
       "      <th>Berkeley</th>\n",
       "      <th>CA</th>\n",
       "      <td>3788</td>\n",
       "      <td>3788</td>\n",
       "      <td>3788</td>\n",
       "      <td>3788</td>\n",
       "      <td>3788</td>\n",
       "      <td>3788</td>\n",
       "      <td>3788</td>\n",
       "      <td>3788</td>\n",
       "      <td>3766</td>\n",
       "    </tr>\n",
       "  </tbody>\n",
       "</table>\n",
       "</div>"
      ],
      "text/plain": [
       "                CASENO  OFFENSE  EVENTDT  EVENTTM  CVLEGEND  CVDOW  InDbDate  \\\n",
       "City     State                                                                 \n",
       "Berkeley CA       3788     3788     3788     3788      3788   3788      3788   \n",
       "\n",
       "                Block_Location  BLKADDR  \n",
       "City     State                           \n",
       "Berkeley CA               3788     3766  "
      ]
     },
     "execution_count": 8,
     "metadata": {},
     "output_type": "execute_result"
    }
   ],
   "source": [
    "calls.groupby([\"City\",\"State\"]).count()"
   ]
  },
  {
   "cell_type": "markdown",
   "metadata": {
    "nbgrader": {
     "grade": false,
     "grade_id": "q1",
     "locked": true,
     "schema_version": 2,
     "solution": false
    }
   },
   "source": [
    "### Question 1\n",
    "Above, when we called `head`, it seemed like `OFFENSE` and `CVLEGEND` both contained information about the type of event reported. What is the difference in meaning between the two columns? One way to probe this is to look at the `value_counts` for each Series."
   ]
  },
  {
   "cell_type": "code",
   "execution_count": 19,
   "metadata": {},
   "outputs": [
    {
     "data": {
      "text/plain": [
       "BURGLARY AUTO               658\n",
       "THEFT MISD. (UNDER $950)    633\n",
       "DISTURBANCE                 277\n",
       "VANDALISM                   248\n",
       "VEHICLE STOLEN              235\n",
       "THEFT FELONY (OVER $950)    214\n",
       "BURGLARY RESIDENTIAL        194\n",
       "ASSAULT/BATTERY MISD.       190\n",
       "ROBBERY                     168\n",
       "NARCOTICS                   118\n",
       "Name: OFFENSE, dtype: int64"
      ]
     },
     "execution_count": 19,
     "metadata": {},
     "output_type": "execute_result"
    }
   ],
   "source": [
    "calls['OFFENSE'].value_counts().head(10)"
   ]
  },
  {
   "cell_type": "code",
   "execution_count": 20,
   "metadata": {},
   "outputs": [
    {
     "data": {
      "text/plain": [
       "LARCENY                   871\n",
       "BURGLARY - VEHICLE        658\n",
       "DISORDERLY CONDUCT        279\n",
       "ASSAULT                   263\n",
       "VANDALISM                 248\n",
       "MOTOR VEHICLE THEFT       235\n",
       "FRAUD                     208\n",
       "BURGLARY - RESIDENTIAL    194\n",
       "ROBBERY                   168\n",
       "DRUG VIOLATION            118\n",
       "Name: CVLEGEND, dtype: int64"
      ]
     },
     "execution_count": 20,
     "metadata": {},
     "output_type": "execute_result"
    }
   ],
   "source": [
    "calls['CVLEGEND'].value_counts().head(10)"
   ]
  },
  {
   "cell_type": "markdown",
   "metadata": {
    "deletable": false,
    "editable": false,
    "nbgrader": {
     "grade": false,
     "grade_id": "q1a",
     "locked": true,
     "schema_version": 2,
     "solution": false
    }
   },
   "source": [
    "#### Question 1a\n",
    "\n",
    "Above, it seems like `OFFENSE` is more specific than `CVLEGEND`, e.g. \"LARCENY\" vs. \"THEFT FELONY (OVER $950)\". If you're unfamiliar with the term, \"larceny\" is a legal term for theft of personal property.\n",
    "\n",
    "To get a sense of how many subcategories there are for each `OFFENSE`, set `calls_by_cvlegend_and_offense` equal to a multi-indexed series where the data is first indexed on the `CVLEGEND` and then on the `OFFENSE`, and the data is equal to the number of offenses in the database that match the respective `CVLEGEND` and `OFFENSE`. For example, calls_by_cvlegend_and_offense[\"LARCENY\", \"THEFT FROM PERSON\"] should return 24.\n",
    "\n",
    "<!--\n",
    "BEGIN QUESTION\n",
    "name: q1a\n",
    "-->"
   ]
  },
  {
   "cell_type": "code",
   "execution_count": 23,
   "metadata": {},
   "outputs": [
    {
     "data": {
      "text/plain": [
       "CVLEGEND                OFFENSE                 \n",
       "ALL OTHER OFFENSES      MUNICIPAL CODE                3\n",
       "ARSON                   ARSON                        18\n",
       "ASSAULT                 ASSAULT/BATTERY FEL.         73\n",
       "                        ASSAULT/BATTERY MISD.       190\n",
       "BURGLARY - COMMERCIAL   BURGLARY COMMERCIAL         112\n",
       "BURGLARY - RESIDENTIAL  BURGLARY RESIDENTIAL        194\n",
       "BURGLARY - VEHICLE      BURGLARY AUTO               658\n",
       "DISORDERLY CONDUCT      DISTURBANCE                 277\n",
       "                        VICE                          2\n",
       "DRUG VIOLATION          NARCOTICS                   118\n",
       "FAMILY OFFENSE          DOMESTIC VIOLENCE           108\n",
       "FRAUD                   FRAUD/FORGERY                95\n",
       "                        IDENTITY THEFT              113\n",
       "HOMICIDE                HOMICIDE                      1\n",
       "KIDNAPPING              KIDNAPPING                    6\n",
       "LARCENY                 THEFT FELONY (OVER $950)    214\n",
       "                        THEFT FROM PERSON            24\n",
       "                        THEFT MISD. (UNDER $950)    633\n",
       "LARCENY - FROM VEHICLE  THEFT FROM AUTO              87\n",
       "LIQUOR LAW VIOLATION    ALCOHOL OFFENSE              53\n",
       "MISSING PERSON          MISSING ADULT                30\n",
       "                        MISSING JUVENILE              8\n",
       "MOTOR VEHICLE THEFT     VEHICLE STOLEN              235\n",
       "NOISE VIOLATION         2ND RESPONSE                  3\n",
       "                        DISTURBANCE - NOISE           1\n",
       "RECOVERED VEHICLE       VEHICLE RECOVERED            15\n",
       "ROBBERY                 ROBBERY                     168\n",
       "SEX CRIME               SEXUAL ASSAULT FEL.          23\n",
       "                        SEXUAL ASSAULT MISD.         12\n",
       "VANDALISM               VANDALISM                   248\n",
       "WEAPONS OFFENSE         BRANDISHING                  43\n",
       "                        GUN/WEAPON                   23\n",
       "dtype: int64"
      ]
     },
     "execution_count": 23,
     "metadata": {},
     "output_type": "execute_result"
    }
   ],
   "source": [
    "calls_by_cvlegend_and_offense = calls.groupby([\"CVLEGEND\", \"OFFENSE\"]).size() # SOLUTION\n",
    "calls_by_cvlegend_and_offense"
   ]
  },
  {
   "cell_type": "code",
   "execution_count": 22,
   "metadata": {
    "deletable": false,
    "editable": false
   },
   "outputs": [
    {
     "data": {
      "text/html": [
       "\n",
       "    <p><strong>q1a</strong> passed!</p>\n",
       "    "
      ],
      "text/plain": [
       "q1a passed!"
      ]
     },
     "execution_count": 22,
     "metadata": {},
     "output_type": "execute_result"
    }
   ],
   "source": [
    "grader.check(\"q1a\")"
   ]
  },
  {
   "cell_type": "markdown",
   "metadata": {
    "deletable": false,
    "editable": false,
    "nbgrader": {
     "grade": false,
     "grade_id": "q1b",
     "locked": true,
     "schema_version": 2,
     "solution": false
    }
   },
   "source": [
    "### Question 1b\n",
    "\n",
    "In the cell below, set `answer1b` equal to a list of strings corresponding to the possible values for `OFFENSE` when `CVLEGEND` is \"LARCENY\". You can type the answer manually, or you can create an expression that automatically extracts the names.\n",
    "\n",
    "<!--\n",
    "BEGIN QUESTION\n",
    "name: q1b\n",
    "-->"
   ]
  },
  {
   "cell_type": "code",
   "execution_count": 16,
   "metadata": {},
   "outputs": [
    {
     "data": {
      "text/plain": [
       "['THEFT FELONY (OVER $950)', 'THEFT FROM PERSON', 'THEFT MISD. (UNDER $950)']"
      ]
     },
     "execution_count": 16,
     "metadata": {},
     "output_type": "execute_result"
    }
   ],
   "source": [
    "answer1b = list(calls_by_cvlegend_and_offense['LARCENY'].index) # SOLUTION\n",
    "answer1b"
   ]
  },
  {
   "cell_type": "code",
   "execution_count": null,
   "metadata": {
    "deletable": false,
    "editable": false
   },
   "outputs": [],
   "source": [
    "grader.check(\"q1b\")"
   ]
  },
  {
   "cell_type": "markdown",
   "metadata": {
    "deletable": false,
    "editable": false,
    "nbgrader": {
     "grade": false,
     "grade_id": "q2",
     "locked": true,
     "schema_version": 2,
     "solution": false
    }
   },
   "source": [
    "## Question 2\n",
    "\n",
    "What are the five crime types of CVLEGEND that have the most crime events? You may need to use `value_counts` to find the answer.\n",
    "Save your results into `answer2` as a list of strings.\n",
    "\n",
    "**Hint:** *The `keys` method of the Series class might be useful.*\n",
    "\n",
    "<!--\n",
    "BEGIN QUESTION\n",
    "name: q2\n",
    "-->"
   ]
  },
  {
   "cell_type": "code",
   "execution_count": 18,
   "metadata": {},
   "outputs": [
    {
     "data": {
      "text/plain": [
       "['LARCENY', 'BURGLARY - VEHICLE', 'DISORDERLY CONDUCT', 'ASSAULT', 'VANDALISM']"
      ]
     },
     "execution_count": 18,
     "metadata": {},
     "output_type": "execute_result"
    }
   ],
   "source": [
    "answer2 = list(calls[\"CVLEGEND\"].value_counts().head(5).keys()) # SOLUTION\n",
    "answer2"
   ]
  },
  {
   "cell_type": "code",
   "execution_count": null,
   "metadata": {
    "deletable": false,
    "editable": false
   },
   "outputs": [],
   "source": [
    "grader.check(\"q2\")"
   ]
  },
  {
   "cell_type": "markdown",
   "metadata": {
    "nbgrader": {
     "grade": false,
     "grade_id": "setup",
     "locked": true,
     "schema_version": 2,
     "solution": false
    }
   },
   "source": [
    "--- \n",
    "\n",
    "## Part 2: Visualization\n"
   ]
  },
  {
   "cell_type": "markdown",
   "metadata": {
    "nbgrader": {
     "grade": false,
     "grade_id": "part2",
     "locked": true,
     "schema_version": 2,
     "solution": false
    }
   },
   "source": [
    "## Pandas Examples\n",
    "\n",
    "Pandas offers basic functionality for plotting. For example, the `DataFrame` and `Series` classes both have a `plot` method. \n",
    "\n",
    "As you learn to do data visualization, you may find the [pandas plotting documentation](https://pandas.pydata.org/pandas-docs/stable/reference/api/pandas.DataFrame.plot.html)  helpful!"
   ]
  },
  {
   "cell_type": "markdown",
   "metadata": {
    "nbgrader": {
     "grade": false,
     "grade_id": "plot-demo",
     "locked": true,
     "schema_version": 2,
     "solution": false
    }
   },
   "source": [
    "As an example of the built-in plotting functionality of pandas, the following example uses `plot` method of the `Series` class to generate a `barh` plot type to visually display the value counts for `CVLEGEND`.\n",
    "\n",
    "There are also many other plots that we will explore throughout the lab."
   ]
  },
  {
   "cell_type": "code",
   "execution_count": 26,
   "metadata": {
    "nbgrader": {
     "grade": false,
     "grade_id": "plot-demo1",
     "locked": true,
     "schema_version": 2,
     "solution": false
    }
   },
   "outputs": [
    {
     "data": {
      "image/png": "[encoded data removed]",
      "text/plain": [
       "<Figure size 864x648 with 1 Axes>"
      ]
     },
     "metadata": {
      "needs_background": "light"
     },
     "output_type": "display_data"
    }
   ],
   "source": [
    "ax = calls['CVLEGEND'].value_counts().plot(kind='barh')\n",
    "ax.set_ylabel(\"Crime Category\")\n",
    "ax.set_xlabel(\"Number of Calls\")\n",
    "ax.set_title(\"Number of Calls By Crime Type\");\n",
    "ax2 = plt.gca()"
   ]
  },
  {
   "cell_type": "markdown",
   "metadata": {
    "nbgrader": {
     "grade": false,
     "grade_id": "plot-demo6",
     "locked": true,
     "schema_version": 2,
     "solution": false
    }
   },
   "source": [
    "\n",
    "\n",
    "## An Additional Note on Plotting in Jupyter Notebooks\n",
    "\n",
    "You may have noticed that many of our code cells involving plotting end with a semicolon (;). This prevents any extra output from the last line of the cell that we may not want to see. Try adding this to your own code in the following questions!"
   ]
  },
  {
   "cell_type": "markdown",
   "metadata": {
    "deletable": false,
    "editable": false,
    "nbgrader": {
     "grade": false,
     "grade_id": "q3",
     "locked": true,
     "schema_version": 2,
     "solution": false
    }
   },
   "source": [
    "### Question 3\n",
    "\n",
    "Now it is your turn to make some plots using `pandas`.  Let's start by transforming the data so that it is easier to work with. We then will look at some distributions of the data. \n",
    "\n",
    "The CVDOW field isn't named helpfully and it is hard to see the meaning from the data alone. According to the website linked at the top of this notebook, CVDOW is actually indicating the day that events happened. 0->Sunday, 1->Monday ... 6->Saturday. \n",
    "\n",
    "#### Question 3a\n",
    "\n",
    "Add a new column `Day` into the `calls` dataframe that has the string weekday (eg. 'Sunday') for the corresponding value in CVDOW. For example, if the first 3 values of `CVDOW` are `[3, 6, 0]`, then the first 3 values of the `Day` column should be `[\"Wednesday\", \"Saturday\", \"Sunday\"]`.\n",
    "\n",
    "**Hint:** *Try using the [Series.map](https://pandas.pydata.org/pandas-docs/stable/reference/api/pandas.Series.map.html) function on `calls[\"CVDOW\"]`.  Can you assign this to the new column `calls[\"Day\"]`?*\n",
    "\n",
    "<!--\n",
    "BEGIN QUESTION\n",
    "name: q3a\n",
    "-->"
   ]
  },
  {
   "cell_type": "code",
   "execution_count": 27,
   "metadata": {
    "nbgrader": {
     "grade": false,
     "grade_id": "q3a-answer",
     "locked": false,
     "schema_version": 2,
     "solution": true
    }
   },
   "outputs": [],
   "source": [
    "days = [\"Sunday\", \"Monday\", \"Tuesday\", \"Wednesday\", \"Thursday\", \"Friday\", \"Saturday\"]\n",
    "day_indices = range(7)\n",
    "indices_to_days_dict = dict(zip(day_indices, days)) # Should look like {0:\"Sunday\", 1:\"Monday\", ..., 6:\"Saturday\"}\n",
    "\n",
    "calls[\"Day\"] = calls[\"CVDOW\"].map(indices_to_days_dict) # SOLUTION"
   ]
  },
  {
   "cell_type": "code",
   "execution_count": 28,
   "metadata": {
    "deletable": false,
    "editable": false
   },
   "outputs": [
    {
     "data": {
      "text/html": [
       "\n",
       "    <p><strong>q3a</strong> passed!</p>\n",
       "    "
      ],
      "text/plain": [
       "q3a passed!"
      ]
     },
     "execution_count": 28,
     "metadata": {},
     "output_type": "execute_result"
    }
   ],
   "source": [
    "grader.check(\"q3a\")"
   ]
  },
  {
   "cell_type": "markdown",
   "metadata": {
    "deletable": false,
    "editable": false
   },
   "source": [
    "#### Question 3b\n",
    "\n",
    "Now let's look at the EVENTTM column which indicates the time for events. Since it contains hour and minute information, let's extract the hour info and create a new column named `Hour` in the `calls` dataframe. You should save the hour as an `int`.\n",
    "\n",
    "\n",
    "**Hint:** *Your code should only require one line*\n",
    "\n",
    "<!--\n",
    "BEGIN QUESTION\n",
    "name: q3b\n",
    "-->"
   ]
  },
  {
   "cell_type": "code",
   "execution_count": 29,
   "metadata": {},
   "outputs": [],
   "source": [
    "calls[\"Hour\"] = calls['EVENTTM'].str[0:2].astype(int) # SOLUTION"
   ]
  },
  {
   "cell_type": "code",
   "execution_count": 30,
   "metadata": {
    "deletable": false,
    "editable": false
   },
   "outputs": [
    {
     "data": {
      "text/html": [
       "\n",
       "    <p><strong>q3b</strong> passed!</p>\n",
       "    "
      ],
      "text/plain": [
       "q3b passed!"
      ]
     },
     "execution_count": 30,
     "metadata": {},
     "output_type": "execute_result"
    }
   ],
   "source": [
    "grader.check(\"q3b\")"
   ]
  },
  {
   "cell_type": "markdown",
   "metadata": {
    "deletable": false,
    "editable": false,
    "nbgrader": {
     "grade": false,
     "grade_id": "q3b-instructions",
     "locked": true,
     "schema_version": 2,
     "solution": false
    }
   },
   "source": [
    "#### Question 3c\n",
    "\n",
    "Using `pandas`, construct a vertical bar plot with the count of the number of calls (entries in the table) for each day of the week **ordered by the day of the week** (eg. `Sunday`, `Monday`, ...). Be sure that your axes are labeled and that your plot is titled.  There should be approximately 500 calls per day.\n",
    "\n",
    "**Hint:** *Given a series `s`, and an array `coolIndex` that has the same entries as in `s.index`, `s[coolIndex]` will return a copy of the series in the same order as `coolIndex`.*\n",
    "\n",
    "<!--\n",
    "BEGIN QUESTION\n",
    "name: q3c\n",
    "-->"
   ]
  },
  {
   "cell_type": "code",
   "execution_count": 31,
   "metadata": {
    "nbgrader": {
     "grade": false,
     "grade_id": "q3b-answer",
     "locked": false,
     "schema_version": 2,
     "solution": true
    }
   },
   "outputs": [
    {
     "data": {
      "image/png": "[encoded data removed]",
      "text/plain": [
       "<Figure size 864x648 with 1 Axes>"
      ]
     },
     "metadata": {
      "needs_background": "light"
     },
     "output_type": "display_data"
    }
   ],
   "source": [
    "# BEGIN SOLUTION\n",
    "ax = calls['Day'].value_counts()[days].plot(kind='bar')\n",
    "ax.set_xticklabels(ax.get_xticklabels(), rotation=90)\n",
    "ax.set_xlabel(\"Day\")\n",
    "ax.set_ylabel(\"Number of Calls\")\n",
    "ax.set_title(\"Number of Calls For Each Day of the Week\");\n",
    "# END SOLUTION\n",
    "\n",
    "\n",
    "\n",
    "# Leave this for grading purposes\n",
    "ax_3c = plt.gca()"
   ]
  },
  {
   "cell_type": "code",
   "execution_count": 32,
   "metadata": {
    "deletable": false,
    "editable": false
   },
   "outputs": [
    {
     "data": {
      "text/html": [
       "\n",
       "    <p><strong>q3c</strong> passed!</p>\n",
       "    "
      ],
      "text/plain": [
       "q3c passed!"
      ]
     },
     "execution_count": 32,
     "metadata": {},
     "output_type": "execute_result"
    }
   ],
   "source": [
    "grader.check(\"q3c\")"
   ]
  },
  {
   "cell_type": "markdown",
   "metadata": {
    "deletable": false,
    "editable": false
   },
   "source": [
    "#### Question 3d\n",
    "\n",
    "\n",
    "Using `pandas`, construct a line plot with the count of the number of calls (entries in the table) for each hour of the day  **ordered by the time** (eg. `12:00 AM`, `1:00 AM`, ...). Please use the provided variable `hours` in your answer. Be sure that your axes are labeled and that your plot is titled. \n",
    "\n",
    "<!--\n",
    "BEGIN QUESTION\n",
    "name: q3d\n",
    "\n",
    "-->"
   ]
  },
  {
   "cell_type": "code",
   "execution_count": 33,
   "metadata": {},
   "outputs": [
    {
     "data": {
      "image/png": "[encoded data removed]",
      "text/plain": [
       "<Figure size 864x648 with 1 Axes>"
      ]
     },
     "metadata": {
      "needs_background": "light"
     },
     "output_type": "display_data"
    }
   ],
   "source": [
    "hours = list(range(24))\n",
    "# BEGIN SOLUTION\n",
    "ax = calls[\"Hour\"].value_counts()[hours].plot(kind='line')\n",
    "ax.set_xlabel(\"Time of day (Hour)\")\n",
    "ax.set_ylabel(\"Number of Calls\")\n",
    "ax.set_title(\"Number of Calls For Each Hour of the Day\");\n",
    "# END SOLUTION\n",
    "\n",
    "\n",
    "\n",
    "# Leave this for grading purposes\n",
    "ax_3d = plt.gca()"
   ]
  },
  {
   "cell_type": "code",
   "execution_count": null,
   "metadata": {
    "deletable": false,
    "editable": false
   },
   "outputs": [],
   "source": [
    "grader.check(\"q3d\")"
   ]
  },
  {
   "cell_type": "markdown",
   "metadata": {},
   "source": [
    "##### Why do you think this happens? Are there more calls in the day or night? What is the least popular time? Most? (Answer Below)"
   ]
  },
  {
   "cell_type": "markdown",
   "metadata": {},
   "source": []
  },
  {
   "cell_type": "markdown",
   "metadata": {
    "deletable": false,
    "editable": false,
    "nbgrader": {
     "grade": false,
     "grade_id": "q4",
     "locked": true,
     "schema_version": 2,
     "solution": false
    }
   },
   "source": [
    "### Question 4\n",
    "\n",
    "It seems weekdays generally have slightly more calls than Saturday or Sunday, but the difference does not look significant.  \n",
    "\n",
    "We can break down into some particular types of events to see their distribution. For example, let's make a bar plot for the CVLEGEND \"ROBBERY\". Which day is the peak for \"ROBBERY\"?\n",
    "\n",
    "#### Question 4a\n",
    "\n",
    "Use `pandas` to create a vertical bar plot of the number of total robberies reported on each day of the week, again ordered by the days of the week starting with Sunday. Please use the provided variable `filtered` in your answer.\n",
    "\n",
    "**Hint:** *This should be very similar to Question 3b*\n",
    "\n",
    "<!--\n",
    "BEGIN QUESTION\n",
    "name: q4a\n",
    "-->"
   ]
  },
  {
   "cell_type": "code",
   "execution_count": 29,
   "metadata": {
    "nbgrader": {
     "grade": false,
     "grade_id": "q4a-answer",
     "locked": false,
     "schema_version": 2,
     "solution": true
    }
   },
   "outputs": [
    {
     "data": {
      "image/png": "[encoded data removed]",
      "text/plain": [
       "<Figure size 864x648 with 1 Axes>"
      ]
     },
     "metadata": {
      "needs_background": "light"
     },
     "output_type": "display_data"
    }
   ],
   "source": [
    "filtered = calls[calls[\"CVLEGEND\"] == \"ROBBERY\"]\n",
    "# BEGIN SOLUTION\n",
    "ax = filtered['Day'].value_counts()[days].plot(kind='bar')\n",
    "ax.set_xticklabels(ax.get_xticklabels(),rotation=90)\n",
    "ax.set_xlabel(\"Day\")\n",
    "ax.set_ylabel(\"Number of Calls\")\n",
    "ax.set_title(\"Number of Robbery Calls For Each Day of the Week\");\n",
    "# END SOLUTION\n",
    "\n",
    "\n",
    "\n",
    "# Leave this for grading purposes\n",
    "ax_4a = plt.gca()"
   ]
  },
  {
   "cell_type": "code",
   "execution_count": null,
   "metadata": {
    "deletable": false,
    "editable": false
   },
   "outputs": [],
   "source": [
    "grader.check(\"q4a\")"
   ]
  },
  {
   "cell_type": "markdown",
   "metadata": {
    "nbgrader": {
     "grade": false,
     "grade_id": "q4b",
     "locked": true,
     "schema_version": 2,
     "solution": false
    }
   },
   "source": [
    "#### Question 4b\n",
    "\n",
    "Do you observe anything interesting about the distribution of ROBBERY calls over a week? Type a 1-sentence answer in the cell below."
   ]
  },
  {
   "cell_type": "markdown",
   "metadata": {
    "nbgrader": {
     "grade": true,
     "grade_id": "q4b-answer",
     "locked": false,
     "points": 1,
     "schema_version": 2,
     "solution": true
    }
   },
   "source": []
  },
  {
   "cell_type": "markdown",
   "metadata": {
    "deletable": false,
    "editable": false,
    "nbgrader": {
     "grade": false,
     "grade_id": "q7",
     "locked": true,
     "schema_version": 2,
     "solution": false
    }
   },
   "source": [
    "### Question 5\n",
    "\n",
    "In the cell below, generate a boxplot which examines the hour of day of each crime broken down by the `CVLEGEND` value.  To construct this plot use the [DataFrame.boxplot](https://pandas.pydata.org/pandas-docs/stable/reference/api/pandas.DataFrame.boxplot.html) documentation. You may want to rotate the `CVLEGEND` labels for better readability.\n",
    "\n",
    "##### Looking at your plot, which crime type appears to have the largest interquartile range? Put your results into `answer5` as a string.\n",
    "\n",
    "\n",
    "<!--\n",
    "BEGIN QUESTION\n",
    "name: q5\n",
    "-->"
   ]
  },
  {
   "cell_type": "code",
   "execution_count": 33,
   "metadata": {
    "nbgrader": {
     "grade": false,
     "grade_id": "q7-pandas-boxplot",
     "locked": true,
     "schema_version": 2,
     "solution": false
    },
    "tags": [
     "student"
    ]
   },
   "outputs": [
    {
     "data": {
      "image/png": "[encoded data removed]",
      "text/plain": [
       "<Figure size 864x648 with 1 Axes>"
      ]
     },
     "metadata": {
      "needs_background": "light"
     },
     "output_type": "display_data"
    }
   ],
   "source": [
    "answer5 = \"SEX CRIME\" # SOLUTION\n",
    "# BEGIN SOLUTION\n",
    "# Note that medianprops is optional\n",
    "calls.boxplot(column=\"Hour\", by='CVLEGEND', rot=90, medianprops=dict(linewidth=2.5));\n",
    "# END SOLUTION"
   ]
  },
  {
   "cell_type": "code",
   "execution_count": null,
   "metadata": {
    "deletable": false,
    "editable": false
   },
   "outputs": [],
   "source": [
    "grader.check(\"q5\")"
   ]
  },
  {
   "cell_type": "markdown",
   "metadata": {},
   "source": [
    "**Important**: To make sure the test cases run correctly, click `Kernel>Restart & Run All` and make sure all of the test cases are still passing. Doing so will submit your code for you. \n",
    "\n",
    "If your test cases are no longer passing after restarting, it's likely because you're missing a variable, or the modifications that you'd previously made to your Data Frame are no longer taking place (perhaps because you deleted a cell). \n",
    "\n",
    "You may submit this assignment as many times as you'd like before the deadline.\n",
    "\n",
    "**You must restart and run all cells before submitting. Otherwise, you may pass test cases locally, but not on our servers. We will not entertain regrade requests of the form, “my code passed all of my local test cases, but failed the autograder”.**"
   ]
  },
  {
   "cell_type": "markdown",
   "metadata": {
    "nbgrader": {
     "grade": false,
     "grade_id": "finish",
     "locked": true,
     "schema_version": 2,
     "solution": false
    }
   },
   "source": [
    "## Congratulations\n",
    "\n",
    "Congrats! You are finished with this assignment."
   ]
  },
  {
   "cell_type": "markdown",
   "metadata": {
    "deletable": false,
    "editable": false
   },
   "source": [
    "---\n",
    "\n",
    "To double-check your work, the cell below will rerun all of the autograder tests."
   ]
  },
  {
   "cell_type": "code",
   "execution_count": null,
   "metadata": {
    "deletable": false,
    "editable": false
   },
   "outputs": [],
   "source": [
    "grader.check_all()"
   ]
  },
  {
   "cell_type": "markdown",
   "metadata": {
    "deletable": false,
    "editable": false
   },
   "source": [
    "## Submission\n",
    "\n",
    "Make sure you have run all cells in your notebook in order before running the cell below, so that all images/graphs appear in the output. The cell below will generate a zip file for you to submit. **Please save before exporting!**"
   ]
  },
  {
   "cell_type": "code",
   "execution_count": null,
   "metadata": {
    "deletable": false,
    "editable": false
   },
   "outputs": [],
   "source": [
    "# Save your notebook first, then run this cell to export your submission.\n",
    "grader.export(pdf=False)"
   ]
  },
  {
   "cell_type": "markdown",
   "metadata": {},
   "source": [
    " "
   ]
  }
 ],
 "metadata": {
  "celltoolbar": "Create Assignment",
  "history": [
   {
    "code": "import pandas as pd\nimport numpy as np\nimport zipfile\nimport matplotlib\nimport matplotlib.pyplot as plt\n\nplt.rcParams['figure.figsize'] = (12, 9)",
    "id": "bd79b65d580241c1a531a35b4e7e8cc0",
    "idx": 3,
    "time": "2021-02-13T00:08:32.000Z",
    "type": "execution"
   },
   {
    "id": "bd79b65d580241c1a531a35b4e7e8cc0",
    "time": "2021-02-13T00:08:32.847Z",
    "type": "completion"
   },
   {
    "code": "import ds100_utils\n\ndata_dir = 'data'\ndata_url = 'http://www.ds100.org/fa20/resources/assets/datasets/lab04_data_fa20.zip'\nfile_name = 'lab04_data_fa20.zip'\n\ndest_path = ds100_utils.fetch_and_cache(data_url=data_url, file=file_name, data_dir=data_dir)\nprint(f'Located at {dest_path}')",
    "id": "df5846b049f149af89b800bda4abe1ac",
    "idx": 5,
    "time": "2021-02-13T00:08:43.362Z",
    "type": "execution"
   },
   {
    "id": "df5846b049f149af89b800bda4abe1ac",
    "time": "2021-02-13T00:08:43.662Z",
    "type": "completion"
   },
   {
    "code": "my_zip = zipfile.ZipFile(dest_path, 'r')\nmy_zip.extractall(data_dir)",
    "id": "df51587183e842f28ec64c9e5bfdf1cd",
    "idx": 7,
    "time": "2021-02-13T00:09:18.779Z",
    "type": "execution"
   },
   {
    "id": "df51587183e842f28ec64c9e5bfdf1cd",
    "time": "2021-02-13T00:09:18.894Z",
    "type": "completion"
   },
   {
    "code": "from pathlib import Path\ndata_dir_path = Path('data') # creates a Path object that points to the data directory\nfile_names = [x.name for x in data_dir_path.glob('*') if x.is_file()]\nfile_names",
    "id": "2f977cf0172943ff805ac64cf794c8b3",
    "idx": 9,
    "time": "2021-02-13T00:10:07.142Z",
    "type": "execution"
   },
   {
    "id": "2f977cf0172943ff805ac64cf794c8b3",
    "time": "2021-02-13T00:10:07.249Z",
    "type": "completion"
   },
   {
    "code": "calls = pd.read_csv(\"data/Berkeley_PD_-_Calls_for_Service.csv\")\ncalls.head()",
    "id": "75d07018992645fd8b1b8a6057dd8755",
    "idx": 11,
    "time": "2021-02-13T00:10:24.472Z",
    "type": "execution"
   },
   {
    "id": "75d07018992645fd8b1b8a6057dd8755",
    "time": "2021-02-13T00:10:24.631Z",
    "type": "completion"
   },
   {
    "code": "calls.info()",
    "id": "88c6c1f8846d4489bab1c923f441968f",
    "idx": 13,
    "time": "2021-02-13T00:14:52.496Z",
    "type": "execution"
   },
   {
    "id": "88c6c1f8846d4489bab1c923f441968f",
    "time": "2021-02-13T00:14:52.604Z",
    "type": "completion"
   },
   {
    "code": "calls.describe()",
    "id": "5350d9d35543471e88a4bd69b6944f2d",
    "idx": 14,
    "time": "2021-02-13T00:15:22.703Z",
    "type": "execution"
   },
   {
    "id": "5350d9d35543471e88a4bd69b6944f2d",
    "time": "2021-02-13T00:15:22.812Z",
    "type": "completion"
   },
   {
    "code": "calls.groupby([\"City\",\"State\"]).count()",
    "id": "12ff2e8d9cea40b88250ace8a30d94ea",
    "idx": 16,
    "time": "2021-02-13T00:15:57.100Z",
    "type": "execution"
   },
   {
    "id": "12ff2e8d9cea40b88250ace8a30d94ea",
    "time": "2021-02-13T00:15:57.248Z",
    "type": "completion"
   },
   {
    "code": "calls['OFFENSE'].value_counts().head(10)",
    "id": "2a4df35e6885439d8de4d630ba719551",
    "idx": 18,
    "time": "2021-02-13T00:16:13.074Z",
    "type": "execution"
   },
   {
    "id": "2a4df35e6885439d8de4d630ba719551",
    "time": "2021-02-13T00:16:13.147Z",
    "type": "completion"
   },
   {
    "code": "calls['CVLEGEND'].value_counts().head(10)",
    "id": "03df0fa8d25d43ddbdb3ab54c9a33c73",
    "idx": 19,
    "time": "2021-02-13T00:16:15.297Z",
    "type": "execution"
   },
   {
    "id": "03df0fa8d25d43ddbdb3ab54c9a33c73",
    "time": "2021-02-13T00:16:15.369Z",
    "type": "completion"
   },
   {
    "code": "calls_by_cvlegend_and_offense = calls.groupby([\"CVLEGEND\", \"OFFENSE\"]).size() # SOLUTION",
    "id": "33afa5e1fe1d46538047cccba2c14b0e",
    "idx": 21,
    "time": "2021-02-13T00:17:33.130Z",
    "type": "execution"
   },
   {
    "id": "33afa5e1fe1d46538047cccba2c14b0e",
    "time": "2021-02-13T00:17:33.207Z",
    "type": "completion"
   },
   {
    "code": "# TEST\ncalls_by_cvlegend_and_offense[\"LARCENY\", \"THEFT FROM PERSON\"] == 24",
    "id": "308f2e756d90401083cda3fd6fb27c5b",
    "idx": 22,
    "time": "2021-02-13T00:17:40.929Z",
    "type": "execution"
   },
   {
    "id": "308f2e756d90401083cda3fd6fb27c5b",
    "time": "2021-02-13T00:17:41.002Z",
    "type": "completion"
   },
   {
    "code": "calls_by_cvlegend_and_offense",
    "id": "4ad30bf86efb4dc38260c031eba2b41c",
    "idx": 23,
    "time": "2021-02-13T00:17:45.548Z",
    "type": "execution"
   },
   {
    "id": "4ad30bf86efb4dc38260c031eba2b41c",
    "time": "2021-02-13T00:17:45.617Z",
    "type": "completion"
   },
   {
    "code": "answer1b = list(calls_by_cvlegend_and_offense['LARCENY'].index) # SOLUTION",
    "id": "b441811927734cf5916615b4ae054be0",
    "idx": 24,
    "time": "2021-02-13T00:18:24.838Z",
    "type": "execution"
   },
   {
    "id": "b441811927734cf5916615b4ae054be0",
    "time": "2021-02-13T00:18:24.909Z",
    "type": "completion"
   },
   {
    "code": "answer1b",
    "id": "1b5fdbe7078c42308ce630ea648061f3",
    "idx": 25,
    "time": "2021-02-13T00:18:35.438Z",
    "type": "execution"
   },
   {
    "id": "1b5fdbe7078c42308ce630ea648061f3",
    "time": "2021-02-13T00:18:35.530Z",
    "type": "completion"
   },
   {
    "code": "answer1b = list(calls_by_cvlegend_and_offense['LARCENY'].index) # SOLUTION\nanswer1b",
    "id": "b441811927734cf5916615b4ae054be0",
    "idx": 24,
    "time": "2021-02-13T00:18:44.333Z",
    "type": "execution"
   },
   {
    "id": "b441811927734cf5916615b4ae054be0",
    "time": "2021-02-13T00:18:44.404Z",
    "type": "completion"
   },
   {
    "code": "calls[\"CVLEGEND\"]",
    "id": "a542040420ac4554835c53c5a2f6bea4",
    "idx": 31,
    "time": "2021-02-13T00:19:12.837Z",
    "type": "execution"
   },
   {
    "id": "a542040420ac4554835c53c5a2f6bea4",
    "time": "2021-02-13T00:19:12.913Z",
    "type": "completion"
   },
   {
    "code": "answer2 = list(calls[\"CVLEGEND\"].value_counts().head(5).keys()) # SOLUTION\nanswer2",
    "id": "6b65ce6c53e84473b907a7e050c2081d",
    "idx": 31,
    "time": "2021-02-13T00:19:43.283Z",
    "type": "execution"
   },
   {
    "id": "6b65ce6c53e84473b907a7e050c2081d",
    "time": "2021-02-13T00:19:43.378Z",
    "type": "completion"
   },
   {
    "code": "ax = calls['CVLEGEND'].value_counts().plot(kind='barh')\nax.set_ylabel(\"Crime Category\")\nax.set_xlabel(\"Number of Calls\")\nax.set_title(\"Number of Calls By Crime Type\");\nax2 = plt.gca()",
    "id": "f25c3efe44e64dd4bc4e0415106cc2f6",
    "idx": 39,
    "time": "2021-02-13T00:20:25.253Z",
    "type": "execution"
   },
   {
    "id": "f25c3efe44e64dd4bc4e0415106cc2f6",
    "time": "2021-02-13T00:20:25.923Z",
    "type": "completion"
   },
   {
    "code": "calls['CVLEGEND'].value_counts()",
    "id": "d0a685e52ead4ae98438b60e54d06b73",
    "idx": 39,
    "time": "2021-02-13T00:20:52.492Z",
    "type": "execution"
   },
   {
    "id": "d0a685e52ead4ae98438b60e54d06b73",
    "time": "2021-02-13T00:20:52.563Z",
    "type": "completion"
   },
   {
    "code": "days = [\"Sunday\", \"Monday\", \"Tuesday\", \"Wednesday\", \"Thursday\", \"Friday\", \"Saturday\"]\nday_indices = range(7)\nindices_to_days_dict = dict(zip(day_indices, days)) # Should look like {0:\"Sunday\", 1:\"Monday\", ..., 6:\"Saturday\"}\n\ncalls[\"Day\"] = calls[\"CVDOW\"].map(indices_to_days_dict) # SOLUTION",
    "id": "619fc4fd057240368e87311a89fa7424",
    "idx": 42,
    "time": "2021-02-13T00:22:43.881Z",
    "type": "execution"
   },
   {
    "id": "619fc4fd057240368e87311a89fa7424",
    "time": "2021-02-13T00:22:43.965Z",
    "type": "completion"
   },
   {
    "code": "calls",
    "id": "177a99c352bf4fcfa3c5d5751b16f9e2",
    "idx": 43,
    "time": "2021-02-13T00:22:47.450Z",
    "type": "execution"
   },
   {
    "id": "177a99c352bf4fcfa3c5d5751b16f9e2",
    "time": "2021-02-13T00:22:47.559Z",
    "type": "completion"
   },
   {
    "code": "calls[\"Hour\"] = calls['EVENTTM'].str[0:2].astype(int) # SOLUTION",
    "id": "504b7e828ea34edd8292f744c33cfaed",
    "idx": 46,
    "time": "2021-02-13T00:23:10.506Z",
    "type": "execution"
   },
   {
    "id": "504b7e828ea34edd8292f744c33cfaed",
    "time": "2021-02-13T00:23:10.579Z",
    "type": "completion"
   },
   {
    "code": "# BEGIN SOLUTION\nax = calls['Day'].value_counts()[days].plot(kind='bar')\n# ax.set_xticklabels(ax.get_xticklabels(), rotation=90)\nax.set_xlabel(\"Day\")\nax.set_ylabel(\"Number of Calls\")\nax.set_title(\"Number of Calls For Each Day of the Week\");\n# END SOLUTION\n\n\n\n# Leave this for grading purposes\nax_3c = plt.gca()",
    "id": "9094cffc25564ded860cb0e4692468d3",
    "idx": 50,
    "time": "2021-02-13T00:24:34.897Z",
    "type": "execution"
   },
   {
    "id": "9094cffc25564ded860cb0e4692468d3",
    "time": "2021-02-13T00:24:35.284Z",
    "type": "completion"
   },
   {
    "code": "# BEGIN SOLUTION\nax = calls['Day'].value_counts()[days].plot(kind='hbar')\n# ax.set_xticklabels(ax.get_xticklabels(), rotation=90)\nax.set_xlabel(\"Day\")\nax.set_ylabel(\"Number of Calls\")\nax.set_title(\"Number of Calls For Each Day of the Week\");\n# END SOLUTION\n\n\n\n# Leave this for grading purposes\nax_3c = plt.gca()",
    "id": "9094cffc25564ded860cb0e4692468d3",
    "idx": 50,
    "time": "2021-02-13T00:24:53.471Z",
    "type": "execution"
   },
   {
    "id": "9094cffc25564ded860cb0e4692468d3",
    "time": "2021-02-13T00:24:53.689Z",
    "type": "completion"
   },
   {
    "code": "# BEGIN SOLUTION\nax = calls['Day'].value_counts()[days].plot(kind='barh')\n# ax.set_xticklabels(ax.get_xticklabels(), rotation=90)\nax.set_xlabel(\"Day\")\nax.set_ylabel(\"Number of Calls\")\nax.set_title(\"Number of Calls For Each Day of the Week\");\n# END SOLUTION\n\n\n\n# Leave this for grading purposes\nax_3c = plt.gca()",
    "id": "9094cffc25564ded860cb0e4692468d3",
    "idx": 50,
    "time": "2021-02-13T00:24:59.614Z",
    "type": "execution"
   },
   {
    "id": "9094cffc25564ded860cb0e4692468d3",
    "time": "2021-02-13T00:24:59.990Z",
    "type": "completion"
   },
   {
    "code": "# BEGIN SOLUTION\nax = calls['Day'].value_counts()[days].plot(kind='bar')\nax.set_xticklabels(ax.get_xticklabels(), rotation=90)\nax.set_xlabel(\"Day\")\nax.set_ylabel(\"Number of Calls\")\nax.set_title(\"Number of Calls For Each Day of the Week\");\n# END SOLUTION\n\n\n\n# Leave this for grading purposes\nax_3c = plt.gca()",
    "id": "9094cffc25564ded860cb0e4692468d3",
    "idx": 50,
    "time": "2021-02-13T00:25:21.831Z",
    "type": "execution"
   },
   {
    "id": "9094cffc25564ded860cb0e4692468d3",
    "time": "2021-02-13T00:25:22.220Z",
    "type": "completion"
   },
   {
    "code": "hours = list(range(24))\n# BEGIN SOLUTION\nax = calls[\"Hour\"].value_counts()[hours].plot(kind='line')\nax.set_xlabel(\"Time of day (Hour)\")\nax.set_ylabel(\"Number of Calls\")\nax.set_title(\"Number of Calls For Each Hour of the Day\");\n# END SOLUTION\n\n\n\n# Leave this for grading purposes\nax_3d = plt.gca()",
    "id": "1689f491d6724cc5a39effe1427c5758",
    "idx": 55,
    "time": "2021-02-13T00:26:16.173Z",
    "type": "execution"
   },
   {
    "id": "1689f491d6724cc5a39effe1427c5758",
    "time": "2021-02-13T00:26:18.219Z",
    "type": "completion"
   },
   {
    "code": "filtered = calls[calls[\"CVLEGEND\"] == \"ROBBERY\"]\n# BEGIN SOLUTION\nax = filtered['Day'].value_counts()[days].plot(kind='bar')\nax.set_xticklabels(ax.get_xticklabels(),rotation=90)\nax.set_xlabel(\"Day\")\nax.set_ylabel(\"Number of Calls\")\nax.set_title(\"Number of Robbery Calls For Each Day of the Week\");\n# END SOLUTION\n\n\n\n# Leave this for grading purposes\nax_4a = plt.gca()",
    "id": "905ee20193444c948fa13053ce5b12d7",
    "idx": 61,
    "time": "2021-02-13T00:27:17.133Z",
    "type": "execution"
   },
   {
    "id": "905ee20193444c948fa13053ce5b12d7",
    "time": "2021-02-13T00:27:18.098Z",
    "type": "completion"
   },
   {
    "code": "answer5 = \"SEX CRIME\" # SOLUTION\n# BEGIN SOLUTION\n# Note that medianprops is optional\ncalls.boxplot(column=\"Hour\", by='CVLEGEND', rot=90, medianprops=dict(linewidth=2.5));\n# END SOLUTION",
    "id": "0504f493b13b49e98e5c9e64d0b19860",
    "idx": 68,
    "time": "2021-02-13T00:28:27.917Z",
    "type": "execution"
   },
   {
    "id": "0504f493b13b49e98e5c9e64d0b19860",
    "time": "2021-02-13T00:28:28.855Z",
    "type": "completion"
   },
   {
    "code": "answer5 = \"SEX CRIME\" # SOLUTION\n# BEGIN SOLUTION\n# Note that medianprops is optional\ncalls.boxplot(column=\"Hour\", by='CVLEGEND');\n# END SOLUTION",
    "id": "0504f493b13b49e98e5c9e64d0b19860",
    "idx": 68,
    "time": "2021-02-13T00:28:49.835Z",
    "type": "execution"
   },
   {
    "id": "0504f493b13b49e98e5c9e64d0b19860",
    "time": "2021-02-13T00:28:50.685Z",
    "type": "completion"
   },
   {
    "code": "answer5 = \"SEX CRIME\" # SOLUTION\n# BEGIN SOLUTION\n# Note that medianprops is optional\ncalls.boxplot(column=\"Hour\", by='CVLEGEND', rot=90);\n# END SOLUTION",
    "id": "0504f493b13b49e98e5c9e64d0b19860",
    "idx": 68,
    "time": "2021-02-13T00:29:08.178Z",
    "type": "execution"
   },
   {
    "id": "0504f493b13b49e98e5c9e64d0b19860",
    "time": "2021-02-13T00:29:09.054Z",
    "type": "completion"
   },
   {
    "code": "answer5 = \"SEX CRIME\" # SOLUTION\n# BEGIN SOLUTION\n# Note that medianprops is optional\ncalls.boxplot(column=\"Hour\", by='CVLEGEND', rot=90, medianprops=dict(linewidth=2.5));\n# END SOLUTION",
    "id": "0504f493b13b49e98e5c9e64d0b19860",
    "idx": 68,
    "time": "2021-02-13T00:29:15.526Z",
    "type": "execution"
   },
   {
    "id": "0504f493b13b49e98e5c9e64d0b19860",
    "time": "2021-02-13T00:29:16.671Z",
    "type": "completion"
   },
   {
    "code": "# Initialize Otter\nimport otter\ngrader = otter.Notebook(\"lab04.ipynb\")",
    "id": "eb9871b6f04a468e8b2fdce0dd56625e",
    "idx": 0,
    "time": "2021-02-17T01:24:14.300Z",
    "type": "execution"
   },
   {
    "id": "eb9871b6f04a468e8b2fdce0dd56625e",
    "time": "2021-02-17T01:24:15.412Z",
    "type": "completion"
   },
   {
    "code": "import pandas as pd\nimport numpy as np\nimport zipfile\nimport matplotlib\nimport matplotlib.pyplot as plt\n\nplt.rcParams['figure.figsize'] = (12, 9)",
    "id": "57d2871af9b349a3a3801aa1d5611f32",
    "idx": 3,
    "time": "2021-02-17T01:25:18.695Z",
    "type": "execution"
   },
   {
    "id": "57d2871af9b349a3a3801aa1d5611f32",
    "time": "2021-02-17T01:25:19.104Z",
    "type": "completion"
   },
   {
    "code": "import ds100_utils\n\ndata_dir = 'data'\ndata_url = 'http://www.ds100.org/fa20/resources/assets/datasets/lab04_data_fa20.zip'\nfile_name = 'lab04_data_fa20.zip'\n\ndest_path = ds100_utils.fetch_and_cache(data_url=data_url, file=file_name, data_dir=data_dir)\nprint(f'Located at {dest_path}')",
    "id": "e11b89153315455f8fef5881047da569",
    "idx": 5,
    "time": "2021-02-17T01:26:17.732Z",
    "type": "execution"
   },
   {
    "id": "e11b89153315455f8fef5881047da569",
    "time": "2021-02-17T01:26:17.943Z",
    "type": "completion"
   },
   {
    "code": "my_zip = zipfile.ZipFile(dest_path, 'r')\nmy_zip.extractall(data_dir)",
    "id": "83ab4559b2ba4292b74101475e53850f",
    "idx": 7,
    "time": "2021-02-17T01:27:04.858Z",
    "type": "execution"
   },
   {
    "id": "83ab4559b2ba4292b74101475e53850f",
    "time": "2021-02-17T01:27:04.991Z",
    "type": "completion"
   },
   {
    "code": "import glob\nglob.glob(\"data\")",
    "id": "fc7b66b6859a4c5a8bbee5747c1fc1c7",
    "idx": 10,
    "time": "2021-02-17T01:27:50.611Z",
    "type": "execution"
   },
   {
    "id": "fc7b66b6859a4c5a8bbee5747c1fc1c7",
    "time": "2021-02-17T01:27:50.693Z",
    "type": "completion"
   },
   {
    "code": "import glob\nglob.glob(\"data/*\")",
    "id": "fc7b66b6859a4c5a8bbee5747c1fc1c7",
    "idx": 10,
    "time": "2021-02-17T01:27:54.755Z",
    "type": "execution"
   },
   {
    "id": "fc7b66b6859a4c5a8bbee5747c1fc1c7",
    "time": "2021-02-17T01:27:54.832Z",
    "type": "completion"
   },
   {
    "code": "from pathlib import Path\ndata_dir_path = Path('data') # creates a Path object that points to the data directory\nfile_names = [x.name for x in data_dir_path.glob('*') if x.is_file()]\nfile_names",
    "id": "3fd0199bf5394f52854e9f3092c60182",
    "idx": 9,
    "time": "2021-02-17T01:28:21.108Z",
    "type": "execution"
   },
   {
    "id": "3fd0199bf5394f52854e9f3092c60182",
    "time": "2021-02-17T01:28:21.197Z",
    "type": "completion"
   },
   {
    "code": "data_dir_path.glob('*')[2]",
    "id": "d3dae8d1c4d24055b21ec29d9c9fc22a",
    "idx": 10,
    "time": "2021-02-17T01:28:30.435Z",
    "type": "execution"
   },
   {
    "id": "d3dae8d1c4d24055b21ec29d9c9fc22a",
    "time": "2021-02-17T01:28:30.659Z",
    "type": "completion"
   },
   {
    "code": "list(data_dir_path.glob('*'))[2]",
    "id": "d3dae8d1c4d24055b21ec29d9c9fc22a",
    "idx": 10,
    "time": "2021-02-17T01:28:42.253Z",
    "type": "execution"
   },
   {
    "id": "d3dae8d1c4d24055b21ec29d9c9fc22a",
    "time": "2021-02-17T01:28:42.325Z",
    "type": "completion"
   },
   {
    "code": "print(data_dir_path.glob('*'))[2]",
    "id": "d3dae8d1c4d24055b21ec29d9c9fc22a",
    "idx": 10,
    "time": "2021-02-17T01:28:53.157Z",
    "type": "execution"
   },
   {
    "id": "d3dae8d1c4d24055b21ec29d9c9fc22a",
    "time": "2021-02-17T01:28:53.237Z",
    "type": "completion"
   },
   {
    "code": "print(data_dir_path.glob('*')[2])",
    "id": "d3dae8d1c4d24055b21ec29d9c9fc22a",
    "idx": 10,
    "time": "2021-02-17T01:28:59.878Z",
    "type": "execution"
   },
   {
    "id": "d3dae8d1c4d24055b21ec29d9c9fc22a",
    "time": "2021-02-17T01:28:59.961Z",
    "type": "completion"
   },
   {
    "code": "print(list(data_dir_path.glob('*'))[2])",
    "id": "d3dae8d1c4d24055b21ec29d9c9fc22a",
    "idx": 10,
    "time": "2021-02-17T01:29:09.178Z",
    "type": "execution"
   },
   {
    "id": "d3dae8d1c4d24055b21ec29d9c9fc22a",
    "time": "2021-02-17T01:29:09.263Z",
    "type": "completion"
   },
   {
    "code": "import glob\nglob.glob(\"data/*\")[2]",
    "id": "fc7b66b6859a4c5a8bbee5747c1fc1c7",
    "idx": 11,
    "time": "2021-02-17T01:30:19.963Z",
    "type": "execution"
   },
   {
    "id": "fc7b66b6859a4c5a8bbee5747c1fc1c7",
    "time": "2021-02-17T01:30:21.994Z",
    "type": "completion"
   },
   {
    "code": "calls = pd.read_csv(\"data/Berkeley_PD_-_Calls_for_Service.csv\")\ncalls.head()",
    "id": "374301d277724c10936717fa6d354717",
    "idx": 13,
    "time": "2021-02-17T01:32:06.486Z",
    "type": "execution"
   },
   {
    "id": "374301d277724c10936717fa6d354717",
    "time": "2021-02-17T01:32:06.649Z",
    "type": "completion"
   },
   {
    "code": "calls.info()",
    "id": "6f229acf55414143b747ed96f3ca4f8f",
    "idx": 15,
    "time": "2021-02-17T01:32:56.053Z",
    "type": "execution"
   },
   {
    "id": "6f229acf55414143b747ed96f3ca4f8f",
    "time": "2021-02-17T01:32:56.152Z",
    "type": "completion"
   },
   {
    "code": "calls.describe()",
    "id": "5ef5e127829f468498376a4e3841d602",
    "idx": 16,
    "time": "2021-02-17T01:33:14.803Z",
    "type": "execution"
   },
   {
    "id": "5ef5e127829f468498376a4e3841d602",
    "time": "2021-02-17T01:33:14.948Z",
    "type": "completion"
   },
   {
    "code": "calls.City.value_counts()",
    "id": "56337fe92d50463a92019b814c4b3017",
    "idx": 19,
    "time": "2021-02-17T01:33:57.843Z",
    "type": "execution"
   },
   {
    "id": "56337fe92d50463a92019b814c4b3017",
    "time": "2021-02-17T01:33:57.936Z",
    "type": "completion"
   },
   {
    "code": "calls.State.value_counts()",
    "id": "56337fe92d50463a92019b814c4b3017",
    "idx": 19,
    "time": "2021-02-17T01:34:03.115Z",
    "type": "execution"
   },
   {
    "id": "56337fe92d50463a92019b814c4b3017",
    "time": "2021-02-17T01:34:03.198Z",
    "type": "completion"
   },
   {
    "code": "calls['OFFENSE'].value_counts().head(10)",
    "id": "f835e7fbb0084e49850c9ef1d71b7e47",
    "idx": 20,
    "time": "2021-02-17T01:34:31.524Z",
    "type": "execution"
   },
   {
    "id": "f835e7fbb0084e49850c9ef1d71b7e47",
    "time": "2021-02-17T01:34:31.620Z",
    "type": "completion"
   },
   {
    "code": "calls['CVLEGEND'].value_counts().head(10)",
    "id": "85f3a5ec694c4b9b8f673ec331cad939",
    "idx": 21,
    "time": "2021-02-17T01:34:33.190Z",
    "type": "execution"
   },
   {
    "id": "85f3a5ec694c4b9b8f673ec331cad939",
    "time": "2021-02-17T01:34:33.267Z",
    "type": "completion"
   },
   {
    "code": "calls_by_cvlegend_and_offense = calls.groupby([\"CVLEGEND\", \"OFFENSE\"]).size() # SOLUTION",
    "id": "f26d70e39fc440a681c3a186339f7da7",
    "idx": 23,
    "time": "2021-02-17T01:34:45.811Z",
    "type": "execution"
   },
   {
    "id": "f26d70e39fc440a681c3a186339f7da7",
    "time": "2021-02-17T01:34:45.889Z",
    "type": "completion"
   },
   {
    "code": "grader.check(\"q1a\")",
    "id": "4b4ec0514138473088862c592c342158",
    "idx": 24,
    "time": "2021-02-17T01:34:48.160Z",
    "type": "execution"
   },
   {
    "id": "4b4ec0514138473088862c592c342158",
    "time": "2021-02-17T01:34:48.294Z",
    "type": "completion"
   },
   {
    "code": "calls_by_cvlegend_and_offense = calls.groupby([\"CVLEGEND\", \"OFFENSE\"]).size() # SOLUTION\ncalls_by_cvlegend_and_offense",
    "id": "f26d70e39fc440a681c3a186339f7da7",
    "idx": 23,
    "time": "2021-02-17T01:34:52.390Z",
    "type": "execution"
   },
   {
    "id": "f26d70e39fc440a681c3a186339f7da7",
    "time": "2021-02-17T01:34:52.488Z",
    "type": "completion"
   },
   {
    "code": "ax = calls['CVLEGEND'].value_counts().plot(kind='barh')\nax.set_ylabel(\"Crime Category\")\nax.set_xlabel(\"Number of Calls\")\nax.set_title(\"Number of Calls By Crime Type\");\nax2 = plt.gca()",
    "id": "0c72002ff6ad4831857bb6bc3efd3cc4",
    "idx": 34,
    "time": "2021-02-17T01:36:20.709Z",
    "type": "execution"
   },
   {
    "id": "0c72002ff6ad4831857bb6bc3efd3cc4",
    "time": "2021-02-17T01:36:21.706Z",
    "type": "completion"
   },
   {
    "code": "ax = calls['CVLEGEND'].value_counts().plot(kind='barh')\nax.set_ylabel(\"Crime Category\")\nax.set_xlabel(\"Number of Calls\")\nax.set_title(\"Number of Calls By Crime Type\")\nax2 = plt.gca()",
    "id": "0c72002ff6ad4831857bb6bc3efd3cc4",
    "idx": 34,
    "time": "2021-02-17T01:36:56.694Z",
    "type": "execution"
   },
   {
    "id": "0c72002ff6ad4831857bb6bc3efd3cc4",
    "time": "2021-02-17T01:36:57.250Z",
    "type": "completion"
   },
   {
    "code": "ax = calls['CVLEGEND'].value_counts().plot(kind='barh')\nax.set_ylabel(\"Crime Category\")\nax.set_xlabel(\"Number of Calls\")\nax.set_title(\"Number of Calls By Crime Type\");\nax2 = plt.gca()",
    "id": "0c72002ff6ad4831857bb6bc3efd3cc4",
    "idx": 34,
    "time": "2021-02-17T01:37:04.253Z",
    "type": "execution"
   },
   {
    "id": "0c72002ff6ad4831857bb6bc3efd3cc4",
    "time": "2021-02-17T01:37:04.764Z",
    "type": "completion"
   },
   {
    "code": "days = [\"Sunday\", \"Monday\", \"Tuesday\", \"Wednesday\", \"Thursday\", \"Friday\", \"Saturday\"]\nday_indices = range(7)\nindices_to_days_dict = dict(zip(day_indices, days)) # Should look like {0:\"Sunday\", 1:\"Monday\", ..., 6:\"Saturday\"}\n\ncalls[\"Day\"] = calls[\"CVDOW\"].map(indices_to_days_dict) # SOLUTION",
    "id": "bb9060b19aa440288efbcc7db7a2189f",
    "idx": 37,
    "time": "2021-02-17T01:37:44.078Z",
    "type": "execution"
   },
   {
    "id": "bb9060b19aa440288efbcc7db7a2189f",
    "time": "2021-02-17T01:37:44.167Z",
    "type": "completion"
   },
   {
    "code": "grader.check(\"q3a\")",
    "id": "1d911c004bd84a2fbb91c0e676aea099",
    "idx": 38,
    "time": "2021-02-17T01:37:47.916Z",
    "type": "execution"
   },
   {
    "id": "1d911c004bd84a2fbb91c0e676aea099",
    "time": "2021-02-17T01:37:48.033Z",
    "type": "completion"
   },
   {
    "code": "calls[\"Hour\"] = calls['EVENTTM'].str[0:2].astype(int) # SOLUTION",
    "id": "1fe599726456413a94537cc3185a8599",
    "idx": 40,
    "time": "2021-02-17T01:37:52.214Z",
    "type": "execution"
   },
   {
    "id": "1fe599726456413a94537cc3185a8599",
    "time": "2021-02-17T01:37:52.294Z",
    "type": "completion"
   },
   {
    "code": "grader.check(\"q3b\")",
    "id": "8027dcde38ea45ab8fb343b428a4ecb1",
    "idx": 41,
    "time": "2021-02-17T01:37:54.891Z",
    "type": "execution"
   },
   {
    "id": "8027dcde38ea45ab8fb343b428a4ecb1",
    "time": "2021-02-17T01:37:54.982Z",
    "type": "completion"
   },
   {
    "code": "# BEGIN SOLUTION\nax = calls['Day'].value_counts()[days].plot(kind='bar')\nax.set_xticklabels(ax.get_xticklabels(), rotation=90)\nax.set_xlabel(\"Day\")\nax.set_ylabel(\"Number of Calls\")\nax.set_title(\"Number of Calls For Each Day of the Week\");\n# END SOLUTION\n\n\n\n# Leave this for grading purposes\nax_3c = plt.gca()",
    "id": "8fd35b50e92942ccbac6d35ac12fc51a",
    "idx": 43,
    "time": "2021-02-17T01:38:08.099Z",
    "type": "execution"
   },
   {
    "id": "8fd35b50e92942ccbac6d35ac12fc51a",
    "time": "2021-02-17T01:38:08.465Z",
    "type": "completion"
   },
   {
    "code": "grader.check(\"q3c\")",
    "id": "48d40abb7c98444681509dd9cc14f519",
    "idx": 44,
    "time": "2021-02-17T01:38:13.795Z",
    "type": "execution"
   },
   {
    "id": "48d40abb7c98444681509dd9cc14f519",
    "time": "2021-02-17T01:38:13.918Z",
    "type": "completion"
   },
   {
    "code": "hours = list(range(24))\n# BEGIN SOLUTION\nax = calls[\"Hour\"].value_counts()[hours].plot(kind='line')\nax.set_xlabel(\"Time of day (Hour)\")\nax.set_ylabel(\"Number of Calls\")\nax.set_title(\"Number of Calls For Each Hour of the Day\");\n# END SOLUTION\n\n\n\n# Leave this for grading purposes\nax_3d = plt.gca()",
    "id": "48785983ed2346208dde699e2ef94d2f",
    "idx": 46,
    "time": "2021-02-17T01:39:30.316Z",
    "type": "execution"
   },
   {
    "id": "48785983ed2346208dde699e2ef94d2f",
    "time": "2021-02-17T01:39:30.709Z",
    "type": "completion"
   },
   {
    "code": "calls[\"Hour\"].value_counts()",
    "id": "b0dd6c824d684b7daacd367d00b3d299",
    "idx": 46,
    "time": "2021-02-17T01:39:53.543Z",
    "type": "execution"
   },
   {
    "id": "b0dd6c824d684b7daacd367d00b3d299",
    "time": "2021-02-17T01:39:53.624Z",
    "type": "completion"
   }
  ],
  "kernelspec": {
   "display_name": "Python 3",
   "language": "python",
   "name": "python3"
  },
  "language_info": {
   "codemirror_mode": {
    "name": "ipython",
    "version": 3
   },
   "file_extension": ".py",
   "mimetype": "text/x-python",
   "name": "python",
   "nbconvert_exporter": "python",
   "pygments_lexer": "ipython3",
   "version": "3.8.6"
  }
 },
 "nbformat": 4,
 "nbformat_minor": 4
}
