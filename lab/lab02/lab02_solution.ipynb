{
 "cells": [
  {
   "cell_type": "code",
   "execution_count": 1,
   "metadata": {
    "deletable": false,
    "editable": false
   },
   "outputs": [],
   "source": [
    "# Initialize Otter\n",
    "import otter\n",
    "grader = otter.Notebook(\"lab02.ipynb\")"
   ]
  },
  {
   "cell_type": "markdown",
   "metadata": {
    "nbgrader": {
     "grade": false,
     "grade_id": "intro",
     "locked": true,
     "schema_version": 2,
     "solution": false
    }
   },
   "source": [
    "# Lab 2: SQL\n",
    "\n",
    "In this lab, we are going to practice viewing, sorting, grouping, and merging tables with SQL. We will explore the money donated during the 2016 election using the [Federal Election Commission's public records](https://www.fec.gov/data/). You will be connecting to a sqlite database containing the data. The data we will be working with in this lab is quite small (16MB); however, it's taken from a larger database that is more than few GBs.\n",
    "\n",
    "\n",
    "### Due Date\n",
    "\n",
    "This assignment is due at **Friday, February 12th** at 11:59 pm.\n",
    "\n",
    "### Collaboration Policy\n",
    "\n",
    "Data science is a collaborative activity. While you may talk with others about this assignment, we ask that you **write your solutions individually**. If you discuss the assignment with others, please **include their names** in the cell below."
   ]
  },
  {
   "cell_type": "markdown",
   "metadata": {},
   "source": [
    "**Collaborators:** *list names here*"
   ]
  },
  {
   "cell_type": "code",
   "execution_count": 2,
   "metadata": {
    "nbgrader": {
     "grade": false,
     "grade_id": "imports",
     "locked": true,
     "schema_version": 2,
     "solution": false
    }
   },
   "outputs": [],
   "source": [
    "import pandas as pd\n",
    "import sqlalchemy\n",
    "from ds100_utils import fetch_and_cache\n",
    "from pathlib import Path"
   ]
  },
  {
   "cell_type": "markdown",
   "metadata": {},
   "source": [
    "# Part I – SQL"
   ]
  },
  {
   "cell_type": "markdown",
   "metadata": {},
   "source": [
    "### Connecting to SQLite"
   ]
  },
  {
   "cell_type": "markdown",
   "metadata": {},
   "source": [
    "Download the database to local disk drive; this will take about a minute."
   ]
  },
  {
   "cell_type": "code",
   "execution_count": 3,
   "metadata": {
    "nbgrader": {
     "grade": false,
     "grade_id": "sql-setup1",
     "locked": true,
     "schema_version": 2,
     "solution": false
    }
   },
   "outputs": [
    {
     "name": "stdout",
     "output_type": "stream",
     "text": [
      "Downloading... Done!\n"
     ]
    }
   ],
   "source": [
    "db_url = 'https://s3.amazonaws.com/berkeley-ds100/fec_nyc.sqlite'\n",
    "db_filename = 'fec_nyc.db'\n",
    "data_dir = Path('data')\n",
    "fetch_and_cache(db_url, db_filename, data_dir=data_dir)\n",
    "db_path = data_dir / db_filename"
   ]
  },
  {
   "cell_type": "markdown",
   "metadata": {},
   "source": [
    "The following cell will connect to the above database using the SQL Alchemy library. This library is more general than the `sqlite3` module from the standard library because it can connect to several different database management systems, such as MySQL and PostgreSQL. It also supports an advanced feature for generating queries called an [object relational mapper](https://docs.sqlalchemy.org/en/latest/orm/tutorial.html) or ORM, which we won't discuss in this course but is quite useful for application development."
   ]
  },
  {
   "cell_type": "code",
   "execution_count": 4,
   "metadata": {},
   "outputs": [],
   "source": [
    "engine = sqlalchemy.create_engine(f\"sqlite:///{db_path}\")\n",
    "connection = engine.connect()"
   ]
  },
  {
   "cell_type": "markdown",
   "metadata": {},
   "source": [
    "To check that everything is working we will list the available tables."
   ]
  },
  {
   "cell_type": "code",
   "execution_count": 5,
   "metadata": {},
   "outputs": [
    {
     "data": {
      "text/plain": [
       "['cand', 'comm', 'indiv_sample_nyc']"
      ]
     },
     "execution_count": 5,
     "metadata": {},
     "output_type": "execute_result"
    }
   ],
   "source": [
    "engine.table_names()"
   ]
  },
  {
   "cell_type": "markdown",
   "metadata": {},
   "source": [
    "## Table Descriptions\n",
    "\n",
    "Here is a list of the tables in the database.  Each table links to the documentation on the [FEC page](https://www.fec.gov/data/browse-data/) for the dataset.\n",
    "\n",
    "If you'd like, you can consult the FEC page for the descriptions of the tables to find out what the correspondence is.\n",
    "\n",
    "- [`cand`](https://www.fec.gov/campaign-finance-data/candidate-summary-file-description/): Candidates table. Contains names and party affiliation.\n",
    "- [`comm`](https://www.fec.gov/campaign-finance-data/committee-summary-file-description/): Committees table. Contains committee names and types.\n",
    "- [`indiv_sample_nyc`](https://www.fec.gov/campaign-finance-data/contributions-individuals-file-description/): All individual contributions from New York City.\n",
    "\n",
    "We can see the schemas of these tables with the following code."
   ]
  },
  {
   "cell_type": "code",
   "execution_count": 6,
   "metadata": {},
   "outputs": [
    {
     "name": "stdout",
     "output_type": "stream",
     "text": [
      "CREATE TABLE \"cand\" (\n",
      "    cand_id character varying(9),\n",
      "    cand_name text,\n",
      "    cand_pty_affiliation character varying(3),\n",
      "    cand_election_yr integer,\n",
      "    cand_office_st character varying(2),\n",
      "    cand_office character(1),\n",
      "    cand_office_district integer,\n",
      "    cand_ici character(1),\n",
      "    cand_status character(1),\n",
      "    cand_pcc character varying(9),\n",
      "    cand_st1 text,\n",
      "    cand_st2 text,\n",
      "    cand_city text,\n",
      "    cand_st character varying(2),\n",
      "    cand_zip character varying(10)\n",
      ")\n",
      "CREATE TABLE \"comm\"(\n",
      "  \"cmte_id\" TEXT,\n",
      "  \"cmte_nm\" TEXT,\n",
      "  \"tres_nm\" TEXT,\n",
      "  \"cmte_st1\" TEXT,\n",
      "  \"cmte_st2\" TEXT,\n",
      "  \"cmte_city\" TEXT,\n",
      "  \"cmte_st\" TEXT,\n",
      "  \"cmte_zip\" TEXT,\n",
      "  \"cmte_dsgn\" TEXT,\n",
      "  \"cmte_tp\" TEXT,\n",
      "  \"cmte_pty_affiliation\" TEXT,\n",
      "  \"cmte_filing_freq\" TEXT,\n",
      "  \"org_tp\" TEXT,\n",
      "  \"connected_org_nm\" TEXT,\n",
      "  \"cand_id\" TEXT\n",
      ")\n",
      "CREATE TABLE indiv_sample_nyc (\n",
      "    cmte_id character varying(9),\n",
      "    amndt_ind character(1),\n",
      "    rpt_tp character varying(3),\n",
      "    transaction_pgi character(5),\n",
      "    image_num bigint,\n",
      "    transaction_tp character varying(3),\n",
      "    entity_tp character varying(3),\n",
      "    name text,\n",
      "    city text,\n",
      "    state character(2),\n",
      "    zip_code character varying(12),\n",
      "    employer text,\n",
      "    occupation text,\n",
      "    transaction_dt character varying(9),\n",
      "    transaction_amt integer,\n",
      "    other_id text,\n",
      "    tran_id text,\n",
      "    file_num bigint,\n",
      "    memo_cd text,\n",
      "    memo_text text,\n",
      "    sub_id bigint\n",
      ")\n"
     ]
    }
   ],
   "source": [
    "for exp in connection.execute('SELECT sql FROM sqlite_master;'):\n",
    "    print(exp[0])"
   ]
  },
  {
   "cell_type": "markdown",
   "metadata": {},
   "source": [
    "We can also look at the tables themselves.\n",
    "\n",
    "The individual donations made by NY residents are shown below."
   ]
  },
  {
   "cell_type": "code",
   "execution_count": 7,
   "metadata": {},
   "outputs": [
    {
     "data": {
      "text/html": [
       "<div>\n",
       "<style scoped>\n",
       "    .dataframe tbody tr th:only-of-type {\n",
       "        vertical-align: middle;\n",
       "    }\n",
       "\n",
       "    .dataframe tbody tr th {\n",
       "        vertical-align: top;\n",
       "    }\n",
       "\n",
       "    .dataframe thead th {\n",
       "        text-align: right;\n",
       "    }\n",
       "</style>\n",
       "<table border=\"1\" class=\"dataframe\">\n",
       "  <thead>\n",
       "    <tr style=\"text-align: right;\">\n",
       "      <th></th>\n",
       "      <th>cmte_id</th>\n",
       "      <th>amndt_ind</th>\n",
       "      <th>rpt_tp</th>\n",
       "      <th>transaction_pgi</th>\n",
       "      <th>image_num</th>\n",
       "      <th>transaction_tp</th>\n",
       "      <th>entity_tp</th>\n",
       "      <th>name</th>\n",
       "      <th>city</th>\n",
       "      <th>state</th>\n",
       "      <th>...</th>\n",
       "      <th>employer</th>\n",
       "      <th>occupation</th>\n",
       "      <th>transaction_dt</th>\n",
       "      <th>transaction_amt</th>\n",
       "      <th>other_id</th>\n",
       "      <th>tran_id</th>\n",
       "      <th>file_num</th>\n",
       "      <th>memo_cd</th>\n",
       "      <th>memo_text</th>\n",
       "      <th>sub_id</th>\n",
       "    </tr>\n",
       "  </thead>\n",
       "  <tbody>\n",
       "    <tr>\n",
       "      <th>0</th>\n",
       "      <td>C00445015</td>\n",
       "      <td>N</td>\n",
       "      <td>Q1</td>\n",
       "      <td>P</td>\n",
       "      <td>15951128130</td>\n",
       "      <td>15</td>\n",
       "      <td>IND</td>\n",
       "      <td>SINGER, TRIPP MR.</td>\n",
       "      <td>NEW YORK</td>\n",
       "      <td>NY</td>\n",
       "      <td>...</td>\n",
       "      <td>ATLANTIC MAILBOXES, INC.</td>\n",
       "      <td>OWNER</td>\n",
       "      <td>01302015</td>\n",
       "      <td>1000</td>\n",
       "      <td></td>\n",
       "      <td>A-CF13736</td>\n",
       "      <td>1002485</td>\n",
       "      <td></td>\n",
       "      <td></td>\n",
       "      <td>4041420151241812398</td>\n",
       "    </tr>\n",
       "    <tr>\n",
       "      <th>1</th>\n",
       "      <td>C00510461</td>\n",
       "      <td>N</td>\n",
       "      <td>Q1</td>\n",
       "      <td>P</td>\n",
       "      <td>15951129284</td>\n",
       "      <td>15E</td>\n",
       "      <td>IND</td>\n",
       "      <td>SIMON, DANIEL A</td>\n",
       "      <td>NEW YORK</td>\n",
       "      <td>NY</td>\n",
       "      <td>...</td>\n",
       "      <td>N/A</td>\n",
       "      <td>RETIRED</td>\n",
       "      <td>03292015</td>\n",
       "      <td>400</td>\n",
       "      <td>C00401224</td>\n",
       "      <td>VN8JBDDJBA8</td>\n",
       "      <td>1002590</td>\n",
       "      <td></td>\n",
       "      <td>* EARMARKED CONTRIBUTION: SEE BELOW</td>\n",
       "      <td>4041420151241813640</td>\n",
       "    </tr>\n",
       "    <tr>\n",
       "      <th>2</th>\n",
       "      <td>C00422410</td>\n",
       "      <td>N</td>\n",
       "      <td>Q1</td>\n",
       "      <td>P</td>\n",
       "      <td>15970352211</td>\n",
       "      <td>15</td>\n",
       "      <td>IND</td>\n",
       "      <td>ABDUL RAUF, FEISAL</td>\n",
       "      <td>NEW YORK</td>\n",
       "      <td>NY</td>\n",
       "      <td>...</td>\n",
       "      <td>THE CORDOBA INITIATIVE</td>\n",
       "      <td>CHAIRMAN</td>\n",
       "      <td>03042015</td>\n",
       "      <td>250</td>\n",
       "      <td></td>\n",
       "      <td>VN8A3DBSYG6</td>\n",
       "      <td>1003643</td>\n",
       "      <td></td>\n",
       "      <td></td>\n",
       "      <td>4041620151241914560</td>\n",
       "    </tr>\n",
       "    <tr>\n",
       "      <th>3</th>\n",
       "      <td>C00510461</td>\n",
       "      <td>N</td>\n",
       "      <td>Q1</td>\n",
       "      <td>P</td>\n",
       "      <td>15951129280</td>\n",
       "      <td>15</td>\n",
       "      <td>IND</td>\n",
       "      <td>SCHWARZER, FRANK</td>\n",
       "      <td>NEW YORK</td>\n",
       "      <td>NY</td>\n",
       "      <td>...</td>\n",
       "      <td>METRO HYDRAULIC JACK CO</td>\n",
       "      <td>SALES</td>\n",
       "      <td>01162015</td>\n",
       "      <td>100</td>\n",
       "      <td></td>\n",
       "      <td>VN8JBDAP4C4</td>\n",
       "      <td>1002590</td>\n",
       "      <td></td>\n",
       "      <td>* EARMARKED CONTRIBUTION: SEE BELOW</td>\n",
       "      <td>4041420151241813630</td>\n",
       "    </tr>\n",
       "    <tr>\n",
       "      <th>4</th>\n",
       "      <td>C00510461</td>\n",
       "      <td>N</td>\n",
       "      <td>Q1</td>\n",
       "      <td>P</td>\n",
       "      <td>15951129281</td>\n",
       "      <td>15</td>\n",
       "      <td>IND</td>\n",
       "      <td>SCHWARZER, FRANK</td>\n",
       "      <td>NEW YORK</td>\n",
       "      <td>NY</td>\n",
       "      <td>...</td>\n",
       "      <td>METRO HYDRAULIC JACK CO</td>\n",
       "      <td>SALES</td>\n",
       "      <td>02162015</td>\n",
       "      <td>100</td>\n",
       "      <td></td>\n",
       "      <td>VN8JBDBRDG3</td>\n",
       "      <td>1002590</td>\n",
       "      <td></td>\n",
       "      <td>* EARMARKED CONTRIBUTION: SEE BELOW</td>\n",
       "      <td>4041420151241813632</td>\n",
       "    </tr>\n",
       "  </tbody>\n",
       "</table>\n",
       "<p>5 rows × 21 columns</p>\n",
       "</div>"
      ],
      "text/plain": [
       "     cmte_id amndt_ind rpt_tp transaction_pgi    image_num transaction_tp  \\\n",
       "0  C00445015         N     Q1           P      15951128130             15   \n",
       "1  C00510461         N     Q1           P      15951129284            15E   \n",
       "2  C00422410         N     Q1           P      15970352211             15   \n",
       "3  C00510461         N     Q1           P      15951129280             15   \n",
       "4  C00510461         N     Q1           P      15951129281             15   \n",
       "\n",
       "  entity_tp                name      city state  ...  \\\n",
       "0       IND   SINGER, TRIPP MR.  NEW YORK    NY  ...   \n",
       "1       IND     SIMON, DANIEL A  NEW YORK    NY  ...   \n",
       "2       IND  ABDUL RAUF, FEISAL  NEW YORK    NY  ...   \n",
       "3       IND    SCHWARZER, FRANK  NEW YORK    NY  ...   \n",
       "4       IND    SCHWARZER, FRANK  NEW YORK    NY  ...   \n",
       "\n",
       "                   employer occupation transaction_dt transaction_amt  \\\n",
       "0  ATLANTIC MAILBOXES, INC.      OWNER       01302015            1000   \n",
       "1                       N/A    RETIRED       03292015             400   \n",
       "2    THE CORDOBA INITIATIVE   CHAIRMAN       03042015             250   \n",
       "3   METRO HYDRAULIC JACK CO      SALES       01162015             100   \n",
       "4   METRO HYDRAULIC JACK CO      SALES       02162015             100   \n",
       "\n",
       "    other_id      tran_id file_num  memo_cd  \\\n",
       "0               A-CF13736  1002485            \n",
       "1  C00401224  VN8JBDDJBA8  1002590            \n",
       "2             VN8A3DBSYG6  1003643            \n",
       "3             VN8JBDAP4C4  1002590            \n",
       "4             VN8JBDBRDG3  1002590            \n",
       "\n",
       "                             memo_text               sub_id  \n",
       "0                                       4041420151241812398  \n",
       "1  * EARMARKED CONTRIBUTION: SEE BELOW  4041420151241813640  \n",
       "2                                       4041620151241914560  \n",
       "3  * EARMARKED CONTRIBUTION: SEE BELOW  4041420151241813630  \n",
       "4  * EARMARKED CONTRIBUTION: SEE BELOW  4041420151241813632  \n",
       "\n",
       "[5 rows x 21 columns]"
      ]
     },
     "execution_count": 7,
     "metadata": {},
     "output_type": "execute_result"
    }
   ],
   "source": [
    "# We use `LIMIT 5` to avoid loading a huge table.\n",
    "# Although our tables shouldn't get too large to display,\n",
    "# this is generally good practice when working in the\n",
    "# notebook environment.  Jupyter notebooks don't handle\n",
    "# very large outputs well. \n",
    "query = \"\"\"\n",
    "SELECT * from indiv_sample_nyc LIMIT 5\n",
    "\"\"\"\n",
    "pd.read_sql(query, engine)"
   ]
  },
  {
   "cell_type": "markdown",
   "metadata": {},
   "source": [
    "Similarly, the database of candidates is given below."
   ]
  },
  {
   "cell_type": "code",
   "execution_count": 18,
   "metadata": {},
   "outputs": [
    {
     "data": {
      "text/html": [
       "<div>\n",
       "<style scoped>\n",
       "    .dataframe tbody tr th:only-of-type {\n",
       "        vertical-align: middle;\n",
       "    }\n",
       "\n",
       "    .dataframe tbody tr th {\n",
       "        vertical-align: top;\n",
       "    }\n",
       "\n",
       "    .dataframe thead th {\n",
       "        text-align: right;\n",
       "    }\n",
       "</style>\n",
       "<table border=\"1\" class=\"dataframe\">\n",
       "  <thead>\n",
       "    <tr style=\"text-align: right;\">\n",
       "      <th></th>\n",
       "      <th>cand_id</th>\n",
       "      <th>cand_name</th>\n",
       "      <th>cand_pty_affiliation</th>\n",
       "      <th>cand_election_yr</th>\n",
       "      <th>cand_office_st</th>\n",
       "      <th>cand_office</th>\n",
       "      <th>cand_office_district</th>\n",
       "      <th>cand_ici</th>\n",
       "      <th>cand_status</th>\n",
       "      <th>cand_pcc</th>\n",
       "      <th>cand_st1</th>\n",
       "      <th>cand_st2</th>\n",
       "      <th>cand_city</th>\n",
       "      <th>cand_st</th>\n",
       "      <th>cand_zip</th>\n",
       "    </tr>\n",
       "  </thead>\n",
       "  <tbody>\n",
       "    <tr>\n",
       "      <th>0</th>\n",
       "      <td>H0AK00097</td>\n",
       "      <td>COX, JOHN R.</td>\n",
       "      <td>REP</td>\n",
       "      <td>2014</td>\n",
       "      <td>AK</td>\n",
       "      <td>H</td>\n",
       "      <td>0</td>\n",
       "      <td>C</td>\n",
       "      <td>N</td>\n",
       "      <td>C00525261</td>\n",
       "      <td>P.O. BOX 1092</td>\n",
       "      <td></td>\n",
       "      <td>ANCHOR POINT</td>\n",
       "      <td>AK</td>\n",
       "      <td>99556</td>\n",
       "    </tr>\n",
       "    <tr>\n",
       "      <th>1</th>\n",
       "      <td>H0AL02087</td>\n",
       "      <td>ROBY, MARTHA</td>\n",
       "      <td>REP</td>\n",
       "      <td>2016</td>\n",
       "      <td>AL</td>\n",
       "      <td>H</td>\n",
       "      <td>2</td>\n",
       "      <td>I</td>\n",
       "      <td>C</td>\n",
       "      <td>C00462143</td>\n",
       "      <td>PO BOX 195</td>\n",
       "      <td></td>\n",
       "      <td>MONTGOMERY</td>\n",
       "      <td>AL</td>\n",
       "      <td>36101</td>\n",
       "    </tr>\n",
       "    <tr>\n",
       "      <th>2</th>\n",
       "      <td>H0AL02095</td>\n",
       "      <td>JOHN, ROBERT E JR</td>\n",
       "      <td>IND</td>\n",
       "      <td>2016</td>\n",
       "      <td>AL</td>\n",
       "      <td>H</td>\n",
       "      <td>2</td>\n",
       "      <td>C</td>\n",
       "      <td>N</td>\n",
       "      <td></td>\n",
       "      <td>1465 W OVERBROOK RD</td>\n",
       "      <td></td>\n",
       "      <td>MILLBROOK</td>\n",
       "      <td>AL</td>\n",
       "      <td>36054</td>\n",
       "    </tr>\n",
       "    <tr>\n",
       "      <th>3</th>\n",
       "      <td>H0AL05049</td>\n",
       "      <td>CRAMER, ROBERT E \"BUD\" JR</td>\n",
       "      <td>DEM</td>\n",
       "      <td>2008</td>\n",
       "      <td>AL</td>\n",
       "      <td>H</td>\n",
       "      <td>5</td>\n",
       "      <td></td>\n",
       "      <td>P</td>\n",
       "      <td>C00239038</td>\n",
       "      <td>PO BOX 2621</td>\n",
       "      <td></td>\n",
       "      <td>HUNTSVILLE</td>\n",
       "      <td>AL</td>\n",
       "      <td>35804</td>\n",
       "    </tr>\n",
       "    <tr>\n",
       "      <th>4</th>\n",
       "      <td>H0AL05163</td>\n",
       "      <td>BROOKS, MO</td>\n",
       "      <td>REP</td>\n",
       "      <td>2016</td>\n",
       "      <td>AL</td>\n",
       "      <td>H</td>\n",
       "      <td>5</td>\n",
       "      <td>I</td>\n",
       "      <td>C</td>\n",
       "      <td>C00464149</td>\n",
       "      <td>7610 FOXFIRE DRIVE</td>\n",
       "      <td></td>\n",
       "      <td>HUNTSVILLE</td>\n",
       "      <td>AL</td>\n",
       "      <td>35802</td>\n",
       "    </tr>\n",
       "  </tbody>\n",
       "</table>\n",
       "</div>"
      ],
      "text/plain": [
       "     cand_id                  cand_name cand_pty_affiliation  \\\n",
       "0  H0AK00097               COX, JOHN R.                  REP   \n",
       "1  H0AL02087               ROBY, MARTHA                  REP   \n",
       "2  H0AL02095          JOHN, ROBERT E JR                  IND   \n",
       "3  H0AL05049  CRAMER, ROBERT E \"BUD\" JR                  DEM   \n",
       "4  H0AL05163                 BROOKS, MO                  REP   \n",
       "\n",
       "   cand_election_yr cand_office_st cand_office  cand_office_district cand_ici  \\\n",
       "0              2014             AK           H                     0        C   \n",
       "1              2016             AL           H                     2        I   \n",
       "2              2016             AL           H                     2        C   \n",
       "3              2008             AL           H                     5            \n",
       "4              2016             AL           H                     5        I   \n",
       "\n",
       "  cand_status   cand_pcc             cand_st1 cand_st2     cand_city cand_st  \\\n",
       "0           N  C00525261       P.O. BOX 1092            ANCHOR POINT      AK   \n",
       "1           C  C00462143           PO BOX 195             MONTGOMERY      AL   \n",
       "2           N             1465 W OVERBROOK RD              MILLBROOK      AL   \n",
       "3           P  C00239038          PO BOX 2621             HUNTSVILLE      AL   \n",
       "4           C  C00464149   7610 FOXFIRE DRIVE             HUNTSVILLE      AL   \n",
       "\n",
       "  cand_zip  \n",
       "0    99556  \n",
       "1    36101  \n",
       "2    36054  \n",
       "3    35804  \n",
       "4    35802  "
      ]
     },
     "execution_count": 18,
     "metadata": {},
     "output_type": "execute_result"
    }
   ],
   "source": [
    "query = '''\n",
    "SELECT *\n",
    "FROM cand\n",
    "LIMIT 5\n",
    "'''\n",
    "pd.read_sql(query,engine)"
   ]
  },
  {
   "cell_type": "markdown",
   "metadata": {},
   "source": [
    "And lastly, the table of committees is given below."
   ]
  },
  {
   "cell_type": "code",
   "execution_count": 19,
   "metadata": {},
   "outputs": [
    {
     "data": {
      "text/html": [
       "<div>\n",
       "<style scoped>\n",
       "    .dataframe tbody tr th:only-of-type {\n",
       "        vertical-align: middle;\n",
       "    }\n",
       "\n",
       "    .dataframe tbody tr th {\n",
       "        vertical-align: top;\n",
       "    }\n",
       "\n",
       "    .dataframe thead th {\n",
       "        text-align: right;\n",
       "    }\n",
       "</style>\n",
       "<table border=\"1\" class=\"dataframe\">\n",
       "  <thead>\n",
       "    <tr style=\"text-align: right;\">\n",
       "      <th></th>\n",
       "      <th>cmte_id</th>\n",
       "      <th>cmte_nm</th>\n",
       "      <th>tres_nm</th>\n",
       "      <th>cmte_st1</th>\n",
       "      <th>cmte_st2</th>\n",
       "      <th>cmte_city</th>\n",
       "      <th>cmte_st</th>\n",
       "      <th>cmte_zip</th>\n",
       "      <th>cmte_dsgn</th>\n",
       "      <th>cmte_tp</th>\n",
       "      <th>cmte_pty_affiliation</th>\n",
       "      <th>cmte_filing_freq</th>\n",
       "      <th>org_tp</th>\n",
       "      <th>connected_org_nm</th>\n",
       "      <th>cand_id</th>\n",
       "    </tr>\n",
       "  </thead>\n",
       "  <tbody>\n",
       "    <tr>\n",
       "      <th>0</th>\n",
       "      <td>C00000059</td>\n",
       "      <td>HALLMARK CARDS PAC</td>\n",
       "      <td>ERIN BROWER</td>\n",
       "      <td>2501 MCGEE</td>\n",
       "      <td>MD#288</td>\n",
       "      <td>KANSAS CITY</td>\n",
       "      <td>MO</td>\n",
       "      <td>64108</td>\n",
       "      <td>U</td>\n",
       "      <td>Q</td>\n",
       "      <td>UNK</td>\n",
       "      <td>M</td>\n",
       "      <td>C</td>\n",
       "      <td></td>\n",
       "      <td></td>\n",
       "    </tr>\n",
       "    <tr>\n",
       "      <th>1</th>\n",
       "      <td>C00000422</td>\n",
       "      <td>AMERICAN MEDICAL ASSOCIATION POLITICAL ACTION ...</td>\n",
       "      <td>WALKER, KEVIN</td>\n",
       "      <td>25 MASSACHUSETTS AVE, NW</td>\n",
       "      <td>SUITE 600</td>\n",
       "      <td>WASHINGTON</td>\n",
       "      <td>DC</td>\n",
       "      <td>20001</td>\n",
       "      <td>B</td>\n",
       "      <td>Q</td>\n",
       "      <td></td>\n",
       "      <td>M</td>\n",
       "      <td>M</td>\n",
       "      <td>AMERICAN MEDICAL ASSOCIATION</td>\n",
       "      <td></td>\n",
       "    </tr>\n",
       "    <tr>\n",
       "      <th>2</th>\n",
       "      <td>C00000489</td>\n",
       "      <td>D R I V E POLITICAL FUND CHAPTER 886</td>\n",
       "      <td>TOM RITTER</td>\n",
       "      <td>3528 W RENO</td>\n",
       "      <td></td>\n",
       "      <td>OKLAHOMA CITY</td>\n",
       "      <td>OK</td>\n",
       "      <td>73107</td>\n",
       "      <td>U</td>\n",
       "      <td>N</td>\n",
       "      <td></td>\n",
       "      <td>Q</td>\n",
       "      <td>L</td>\n",
       "      <td>TEAMSTERS LOCAL UNION 886</td>\n",
       "      <td></td>\n",
       "    </tr>\n",
       "    <tr>\n",
       "      <th>3</th>\n",
       "      <td>C00000547</td>\n",
       "      <td>KANSAS MEDICAL SOCIETY POLITICAL ACTION COMMITTEE</td>\n",
       "      <td>C. RICHARD BONEBRAKE, M.D.</td>\n",
       "      <td>623 SW 10TH AVE</td>\n",
       "      <td></td>\n",
       "      <td>TOPEKA</td>\n",
       "      <td>KS</td>\n",
       "      <td>66612</td>\n",
       "      <td>U</td>\n",
       "      <td>Q</td>\n",
       "      <td>UNK</td>\n",
       "      <td>Q</td>\n",
       "      <td>T</td>\n",
       "      <td></td>\n",
       "      <td></td>\n",
       "    </tr>\n",
       "    <tr>\n",
       "      <th>4</th>\n",
       "      <td>C00000638</td>\n",
       "      <td>INDIANA STATE MEDICAL ASSOCIATION POLITICAL AC...</td>\n",
       "      <td>VIDYA KORA, M.D.</td>\n",
       "      <td>322 CANAL WALK, CANAL LEVEL</td>\n",
       "      <td></td>\n",
       "      <td>INDIANAPOLIS</td>\n",
       "      <td>IN</td>\n",
       "      <td>46202</td>\n",
       "      <td>U</td>\n",
       "      <td>Q</td>\n",
       "      <td></td>\n",
       "      <td>Q</td>\n",
       "      <td>M</td>\n",
       "      <td></td>\n",
       "      <td></td>\n",
       "    </tr>\n",
       "  </tbody>\n",
       "</table>\n",
       "</div>"
      ],
      "text/plain": [
       "     cmte_id                                            cmte_nm  \\\n",
       "0  C00000059                                 HALLMARK CARDS PAC   \n",
       "1  C00000422  AMERICAN MEDICAL ASSOCIATION POLITICAL ACTION ...   \n",
       "2  C00000489               D R I V E POLITICAL FUND CHAPTER 886   \n",
       "3  C00000547  KANSAS MEDICAL SOCIETY POLITICAL ACTION COMMITTEE   \n",
       "4  C00000638  INDIANA STATE MEDICAL ASSOCIATION POLITICAL AC...   \n",
       "\n",
       "                      tres_nm                     cmte_st1   cmte_st2  \\\n",
       "0                 ERIN BROWER                   2501 MCGEE     MD#288   \n",
       "1               WALKER, KEVIN     25 MASSACHUSETTS AVE, NW  SUITE 600   \n",
       "2                  TOM RITTER                  3528 W RENO              \n",
       "3  C. RICHARD BONEBRAKE, M.D.              623 SW 10TH AVE              \n",
       "4            VIDYA KORA, M.D.  322 CANAL WALK, CANAL LEVEL              \n",
       "\n",
       "       cmte_city cmte_st cmte_zip cmte_dsgn cmte_tp cmte_pty_affiliation  \\\n",
       "0    KANSAS CITY      MO    64108         U       Q                  UNK   \n",
       "1     WASHINGTON      DC    20001         B       Q                        \n",
       "2  OKLAHOMA CITY      OK    73107         U       N                        \n",
       "3         TOPEKA      KS    66612         U       Q                  UNK   \n",
       "4   INDIANAPOLIS      IN    46202         U       Q                        \n",
       "\n",
       "  cmte_filing_freq org_tp              connected_org_nm cand_id  \n",
       "0                M      C                                        \n",
       "1                M      M  AMERICAN MEDICAL ASSOCIATION          \n",
       "2                Q      L     TEAMSTERS LOCAL UNION 886          \n",
       "3                Q      T                                        \n",
       "4                Q      M                                        "
      ]
     },
     "execution_count": 19,
     "metadata": {},
     "output_type": "execute_result"
    }
   ],
   "source": [
    "query = '''\n",
    "SELECT *\n",
    "FROM comm\n",
    "LIMIT 5\n",
    "'''\n",
    "pd.read_sql(query,engine)"
   ]
  },
  {
   "cell_type": "markdown",
   "metadata": {},
   "source": [
    "In CS61A or CS88, we saw basic queries similar to what we see below, which gives only the id and name of candidates from the Democratic party."
   ]
  },
  {
   "cell_type": "code",
   "execution_count": 20,
   "metadata": {},
   "outputs": [
    {
     "data": {
      "text/html": [
       "<div>\n",
       "<style scoped>\n",
       "    .dataframe tbody tr th:only-of-type {\n",
       "        vertical-align: middle;\n",
       "    }\n",
       "\n",
       "    .dataframe tbody tr th {\n",
       "        vertical-align: top;\n",
       "    }\n",
       "\n",
       "    .dataframe thead th {\n",
       "        text-align: right;\n",
       "    }\n",
       "</style>\n",
       "<table border=\"1\" class=\"dataframe\">\n",
       "  <thead>\n",
       "    <tr style=\"text-align: right;\">\n",
       "      <th></th>\n",
       "      <th>cand_id</th>\n",
       "      <th>cand_name</th>\n",
       "    </tr>\n",
       "  </thead>\n",
       "  <tbody>\n",
       "    <tr>\n",
       "      <th>0</th>\n",
       "      <td>H0AL05049</td>\n",
       "      <td>CRAMER, ROBERT E \"BUD\" JR</td>\n",
       "    </tr>\n",
       "    <tr>\n",
       "      <th>1</th>\n",
       "      <td>H0AL07086</td>\n",
       "      <td>SEWELL, TERRYCINA ANDREA</td>\n",
       "    </tr>\n",
       "    <tr>\n",
       "      <th>2</th>\n",
       "      <td>H0AL07094</td>\n",
       "      <td>HILLIARD, EARL FREDERICK JR</td>\n",
       "    </tr>\n",
       "    <tr>\n",
       "      <th>3</th>\n",
       "      <td>H0AR01091</td>\n",
       "      <td>GREGORY, JAMES CHRISTOPHER</td>\n",
       "    </tr>\n",
       "    <tr>\n",
       "      <th>4</th>\n",
       "      <td>H0AR01109</td>\n",
       "      <td>CAUSEY, CHAD</td>\n",
       "    </tr>\n",
       "  </tbody>\n",
       "</table>\n",
       "</div>"
      ],
      "text/plain": [
       "     cand_id                    cand_name\n",
       "0  H0AL05049    CRAMER, ROBERT E \"BUD\" JR\n",
       "1  H0AL07086     SEWELL, TERRYCINA ANDREA\n",
       "2  H0AL07094  HILLIARD, EARL FREDERICK JR\n",
       "3  H0AR01091   GREGORY, JAMES CHRISTOPHER\n",
       "4  H0AR01109                 CAUSEY, CHAD"
      ]
     },
     "execution_count": 20,
     "metadata": {},
     "output_type": "execute_result"
    }
   ],
   "source": [
    "query = '''\n",
    "SELECT cand_id, cand_name\n",
    "FROM cand\n",
    "WHERE cand_pty_affiliation = 'DEM'\n",
    "LIMIT 5\n",
    "'''\n",
    "pd.read_sql(query,engine)"
   ]
  },
  {
   "cell_type": "markdown",
   "metadata": {
    "nbgrader": {
     "grade": false,
     "grade_id": "q3",
     "locked": true,
     "schema_version": 2,
     "solution": false
    }
   },
   "source": [
    "---\n",
    "## Question 1\n",
    "\n",
    "For this question we will use SQL to extract data out of the `indiv_sample_nyc` table. The schema for this table is given below."
   ]
  },
  {
   "cell_type": "code",
   "execution_count": 21,
   "metadata": {},
   "outputs": [
    {
     "name": "stdout",
     "output_type": "stream",
     "text": [
      "CREATE TABLE indiv_sample_nyc (\n",
      "    cmte_id character varying(9),\n",
      "    amndt_ind character(1),\n",
      "    rpt_tp character varying(3),\n",
      "    transaction_pgi character(5),\n",
      "    image_num bigint,\n",
      "    transaction_tp character varying(3),\n",
      "    entity_tp character varying(3),\n",
      "    name text,\n",
      "    city text,\n",
      "    state character(2),\n",
      "    zip_code character varying(12),\n",
      "    employer text,\n",
      "    occupation text,\n",
      "    transaction_dt character varying(9),\n",
      "    transaction_amt integer,\n",
      "    other_id text,\n",
      "    tran_id text,\n",
      "    file_num bigint,\n",
      "    memo_cd text,\n",
      "    memo_text text,\n",
      "    sub_id bigint\n",
      ")\n"
     ]
    }
   ],
   "source": [
    "for exp in connection.execute('SELECT sql FROM sqlite_master WHERE name=\"indiv_sample_nyc\";'):\n",
    "    print(exp[0])"
   ]
  },
  {
   "cell_type": "markdown",
   "metadata": {
    "deletable": false,
    "editable": false
   },
   "source": [
    "### Question 1a\n",
    "\n",
    "Let's start by looking at 2016 election contributions made by Donald Trump, who was a NY resident during that year. Write a SQL statement that will return the cmte_id, transaction_amt, and name for every contribution made by any donor with \"DONALD\" and \"TRUMP\" in their name.\n",
    "\n",
    "\n",
    "Hint: You'll need to use `WHERE name LIKE '%TRUMP%' AND name LIKE '%DONALD%'`.\n",
    "\n",
    "<!--\n",
    "BEGIN QUESTION\n",
    "name: q1a\n",
    "-->"
   ]
  },
  {
   "cell_type": "code",
   "execution_count": 22,
   "metadata": {},
   "outputs": [
    {
     "data": {
      "text/html": [
       "<div>\n",
       "<style scoped>\n",
       "    .dataframe tbody tr th:only-of-type {\n",
       "        vertical-align: middle;\n",
       "    }\n",
       "\n",
       "    .dataframe tbody tr th {\n",
       "        vertical-align: top;\n",
       "    }\n",
       "\n",
       "    .dataframe thead th {\n",
       "        text-align: right;\n",
       "    }\n",
       "</style>\n",
       "<table border=\"1\" class=\"dataframe\">\n",
       "  <thead>\n",
       "    <tr style=\"text-align: right;\">\n",
       "      <th></th>\n",
       "      <th>cmte_id</th>\n",
       "      <th>transaction_amt</th>\n",
       "      <th>name</th>\n",
       "    </tr>\n",
       "  </thead>\n",
       "  <tbody>\n",
       "    <tr>\n",
       "      <th>0</th>\n",
       "      <td>C00230482</td>\n",
       "      <td>2600</td>\n",
       "      <td>DONALD, TRUMP</td>\n",
       "    </tr>\n",
       "    <tr>\n",
       "      <th>1</th>\n",
       "      <td>C00230482</td>\n",
       "      <td>2600</td>\n",
       "      <td>DONALD, TRUMP</td>\n",
       "    </tr>\n",
       "    <tr>\n",
       "      <th>2</th>\n",
       "      <td>C00014498</td>\n",
       "      <td>9000</td>\n",
       "      <td>TRUMP, DONALD</td>\n",
       "    </tr>\n",
       "    <tr>\n",
       "      <th>3</th>\n",
       "      <td>C00494229</td>\n",
       "      <td>2000</td>\n",
       "      <td>TRUMP, DONALD MR</td>\n",
       "    </tr>\n",
       "    <tr>\n",
       "      <th>4</th>\n",
       "      <td>C00571869</td>\n",
       "      <td>2700</td>\n",
       "      <td>TRUMP, DONALD J.</td>\n",
       "    </tr>\n",
       "    <tr>\n",
       "      <th>...</th>\n",
       "      <td>...</td>\n",
       "      <td>...</td>\n",
       "      <td>...</td>\n",
       "    </tr>\n",
       "    <tr>\n",
       "      <th>152</th>\n",
       "      <td>C00608489</td>\n",
       "      <td>5</td>\n",
       "      <td>DONALD J TRUMP FOR PRESIDENT INC</td>\n",
       "    </tr>\n",
       "    <tr>\n",
       "      <th>153</th>\n",
       "      <td>C00608489</td>\n",
       "      <td>5</td>\n",
       "      <td>DONALD J TRUMP FOR PRESIDENT INC</td>\n",
       "    </tr>\n",
       "    <tr>\n",
       "      <th>154</th>\n",
       "      <td>C00608489</td>\n",
       "      <td>5</td>\n",
       "      <td>DONALD J TRUMP FOR PRESIDENT INC</td>\n",
       "    </tr>\n",
       "    <tr>\n",
       "      <th>155</th>\n",
       "      <td>C00608489</td>\n",
       "      <td>5</td>\n",
       "      <td>DONALD J TRUMP FOR PRESIDENT INC</td>\n",
       "    </tr>\n",
       "    <tr>\n",
       "      <th>156</th>\n",
       "      <td>C00608489</td>\n",
       "      <td>5</td>\n",
       "      <td>DONALD J TRUMP FOR PRESIDENT INC</td>\n",
       "    </tr>\n",
       "  </tbody>\n",
       "</table>\n",
       "<p>157 rows × 3 columns</p>\n",
       "</div>"
      ],
      "text/plain": [
       "       cmte_id  transaction_amt                              name\n",
       "0    C00230482             2600                     DONALD, TRUMP\n",
       "1    C00230482             2600                     DONALD, TRUMP\n",
       "2    C00014498             9000                     TRUMP, DONALD\n",
       "3    C00494229             2000                  TRUMP, DONALD MR\n",
       "4    C00571869             2700                  TRUMP, DONALD J.\n",
       "..         ...              ...                               ...\n",
       "152  C00608489                5  DONALD J TRUMP FOR PRESIDENT INC\n",
       "153  C00608489                5  DONALD J TRUMP FOR PRESIDENT INC\n",
       "154  C00608489                5  DONALD J TRUMP FOR PRESIDENT INC\n",
       "155  C00608489                5  DONALD J TRUMP FOR PRESIDENT INC\n",
       "156  C00608489                5  DONALD J TRUMP FOR PRESIDENT INC\n",
       "\n",
       "[157 rows x 3 columns]"
      ]
     },
     "execution_count": 22,
     "metadata": {},
     "output_type": "execute_result"
    }
   ],
   "source": [
    "query_q1a='''\n",
    "SELECT\n",
    "    ... \n",
    "    ... \n",
    "    ...\n",
    "FROM indiv_sample_nyc\n",
    "WHERE ...\n",
    "'''\n",
    "\n",
    "# BEGIN SOLUTION NO PROMPT\n",
    "query_q1a='''\n",
    "SELECT \n",
    "    cmte_id,\n",
    "    transaction_amt,\n",
    "    name\n",
    "FROM indiv_sample_nyc\n",
    "WHERE name LIKE '%TRUMP%' AND name LIKE '%DONALD%'\n",
    "'''\n",
    "# END SOLUTION\n",
    "\n",
    "res_q1a = pd.read_sql(query_q1a, engine)\n",
    "res_q1a"
   ]
  },
  {
   "cell_type": "code",
   "execution_count": null,
   "metadata": {
    "deletable": false,
    "editable": false
   },
   "outputs": [],
   "source": [
    "grader.check(\"q1a\")"
   ]
  },
  {
   "cell_type": "markdown",
   "metadata": {},
   "source": [
    "### Question 1b"
   ]
  },
  {
   "cell_type": "markdown",
   "metadata": {},
   "source": [
    "If we look at the list above, it appears that some donations were not by Donald Trump himself, but instead by an entity called \"DONALD J TRUMP FOR PRESIDENT INC\". If we look at the list of donors, we see that our query only seems to have picked up one such anomalous name."
   ]
  },
  {
   "cell_type": "code",
   "execution_count": 25,
   "metadata": {
    "scrolled": true
   },
   "outputs": [
    {
     "data": {
      "text/plain": [
       "TRUMP, DONALD J.                    133\n",
       "DONALD J TRUMP FOR PRESIDENT INC     15\n",
       "TRUMP, DONALD                         4\n",
       "DONALD, TRUMP                         2\n",
       "TRUMP, DONALD J MR                    1\n",
       "TRUMP, DONALD J MR.                   1\n",
       "TRUMP, DONALD MR                      1\n",
       "Name: name, dtype: int64"
      ]
     },
     "execution_count": 25,
     "metadata": {},
     "output_type": "execute_result"
    }
   ],
   "source": [
    "res_q1a['name'].value_counts()"
   ]
  },
  {
   "cell_type": "markdown",
   "metadata": {
    "deletable": false,
    "editable": false
   },
   "source": [
    "Revise your query from above so that the 15 donations made by \"DONALD J TRUMP FOR PRESIDENT INC\" do not appear. Your resulting table should have 142 rows. \n",
    "\n",
    "Hint: Consider using `NOT LIKE`\n",
    "\n",
    "<!--\n",
    "BEGIN QUESTION\n",
    "name: q1b\n",
    "-->"
   ]
  },
  {
   "cell_type": "code",
   "execution_count": 26,
   "metadata": {},
   "outputs": [
    {
     "data": {
      "text/html": [
       "<div>\n",
       "<style scoped>\n",
       "    .dataframe tbody tr th:only-of-type {\n",
       "        vertical-align: middle;\n",
       "    }\n",
       "\n",
       "    .dataframe tbody tr th {\n",
       "        vertical-align: top;\n",
       "    }\n",
       "\n",
       "    .dataframe thead th {\n",
       "        text-align: right;\n",
       "    }\n",
       "</style>\n",
       "<table border=\"1\" class=\"dataframe\">\n",
       "  <thead>\n",
       "    <tr style=\"text-align: right;\">\n",
       "      <th></th>\n",
       "      <th>cmte_id</th>\n",
       "      <th>transaction_amt</th>\n",
       "      <th>name</th>\n",
       "    </tr>\n",
       "  </thead>\n",
       "  <tbody>\n",
       "    <tr>\n",
       "      <th>0</th>\n",
       "      <td>C00230482</td>\n",
       "      <td>2600</td>\n",
       "      <td>DONALD, TRUMP</td>\n",
       "    </tr>\n",
       "    <tr>\n",
       "      <th>1</th>\n",
       "      <td>C00230482</td>\n",
       "      <td>2600</td>\n",
       "      <td>DONALD, TRUMP</td>\n",
       "    </tr>\n",
       "    <tr>\n",
       "      <th>2</th>\n",
       "      <td>C00014498</td>\n",
       "      <td>9000</td>\n",
       "      <td>TRUMP, DONALD</td>\n",
       "    </tr>\n",
       "    <tr>\n",
       "      <th>3</th>\n",
       "      <td>C00494229</td>\n",
       "      <td>2000</td>\n",
       "      <td>TRUMP, DONALD MR</td>\n",
       "    </tr>\n",
       "    <tr>\n",
       "      <th>4</th>\n",
       "      <td>C00571869</td>\n",
       "      <td>2700</td>\n",
       "      <td>TRUMP, DONALD J.</td>\n",
       "    </tr>\n",
       "    <tr>\n",
       "      <th>...</th>\n",
       "      <td>...</td>\n",
       "      <td>...</td>\n",
       "      <td>...</td>\n",
       "    </tr>\n",
       "    <tr>\n",
       "      <th>137</th>\n",
       "      <td>C00580100</td>\n",
       "      <td>9752</td>\n",
       "      <td>TRUMP, DONALD J.</td>\n",
       "    </tr>\n",
       "    <tr>\n",
       "      <th>138</th>\n",
       "      <td>C00580100</td>\n",
       "      <td>2574</td>\n",
       "      <td>TRUMP, DONALD J.</td>\n",
       "    </tr>\n",
       "    <tr>\n",
       "      <th>139</th>\n",
       "      <td>C00580100</td>\n",
       "      <td>23775</td>\n",
       "      <td>TRUMP, DONALD J.</td>\n",
       "    </tr>\n",
       "    <tr>\n",
       "      <th>140</th>\n",
       "      <td>C00580100</td>\n",
       "      <td>2000000</td>\n",
       "      <td>TRUMP, DONALD J.</td>\n",
       "    </tr>\n",
       "    <tr>\n",
       "      <th>141</th>\n",
       "      <td>C00580100</td>\n",
       "      <td>2574</td>\n",
       "      <td>TRUMP, DONALD J.</td>\n",
       "    </tr>\n",
       "  </tbody>\n",
       "</table>\n",
       "<p>142 rows × 3 columns</p>\n",
       "</div>"
      ],
      "text/plain": [
       "       cmte_id  transaction_amt              name\n",
       "0    C00230482             2600     DONALD, TRUMP\n",
       "1    C00230482             2600     DONALD, TRUMP\n",
       "2    C00014498             9000     TRUMP, DONALD\n",
       "3    C00494229             2000  TRUMP, DONALD MR\n",
       "4    C00571869             2700  TRUMP, DONALD J.\n",
       "..         ...              ...               ...\n",
       "137  C00580100             9752  TRUMP, DONALD J.\n",
       "138  C00580100             2574  TRUMP, DONALD J.\n",
       "139  C00580100            23775  TRUMP, DONALD J.\n",
       "140  C00580100          2000000  TRUMP, DONALD J.\n",
       "141  C00580100             2574  TRUMP, DONALD J.\n",
       "\n",
       "[142 rows x 3 columns]"
      ]
     },
     "execution_count": 26,
     "metadata": {},
     "output_type": "execute_result"
    }
   ],
   "source": [
    "query_q1b = '''\n",
    "SELECT\n",
    "    ... \n",
    "    ... \n",
    "    ...\n",
    "FROM indiv_sample_nyc\n",
    "WHERE ...\n",
    "'''\n",
    "# BEGIN SOLUTION NO PROMPT\n",
    "query_q1b = '''\n",
    "SELECT \n",
    "    cmte_id,\n",
    "    transaction_amt,\n",
    "    name\n",
    "FROM indiv_sample_nyc\n",
    "WHERE name LIKE '%TRUMP%' AND name LIKE '%DONALD%' AND name NOT LIKE '%INC%'\n",
    "'''\n",
    "# END SOLUTION\n",
    "\n",
    "res_q1b = pd.read_sql(query_q1b, engine)\n",
    "res_q1b"
   ]
  },
  {
   "cell_type": "code",
   "execution_count": null,
   "metadata": {
    "deletable": false,
    "editable": false
   },
   "outputs": [],
   "source": [
    "grader.check(\"q1b\")"
   ]
  },
  {
   "cell_type": "markdown",
   "metadata": {},
   "source": [
    "### Question 1c"
   ]
  },
  {
   "cell_type": "markdown",
   "metadata": {
    "deletable": false,
    "editable": false
   },
   "source": [
    "As a review of some of the key ideas from CS61A/CS88, let's refine our query above.\n",
    "\n",
    "We see that many of the contributions above were to the same committee. Create a new SQL query that returns the total amount that Donald Trump contributed to each committee. Your table should have three columns `cmte_id`, `total_amount`, and `num_donations`, where `total_amount` is the total amount contributed to that committee, and `num_donations` is the total number of donations. Your table should be sorted in decreased order of `total_amount`.\n",
    "\n",
    "Hint: Use `GROUP BY` as covered in CS61A and CS88.\n",
    "\n",
    "Hint: Use `COUNT(*)` as covered in CS61A and CS88.\n",
    "\n",
    "Hint: Use `SUM()` as covered in CS61A and CS88.\n",
    "\n",
    "Hint: Use `ORDER BY` as covered in CS61A and CS88.\n",
    "\n",
    "Hint: Use `DESC` as covered in CS61A and CS88.\n",
    "\n",
    "Hint: Your `WHERE` clause should be the same as question 1b.\n",
    "\n",
    "<!--\n",
    "BEGIN QUESTION\n",
    "name: q1c\n",
    "-->"
   ]
  },
  {
   "cell_type": "code",
   "execution_count": 43,
   "metadata": {
    "scrolled": true
   },
   "outputs": [
    {
     "data": {
      "text/html": [
       "<div>\n",
       "<style scoped>\n",
       "    .dataframe tbody tr th:only-of-type {\n",
       "        vertical-align: middle;\n",
       "    }\n",
       "\n",
       "    .dataframe tbody tr th {\n",
       "        vertical-align: top;\n",
       "    }\n",
       "\n",
       "    .dataframe thead th {\n",
       "        text-align: right;\n",
       "    }\n",
       "</style>\n",
       "<table border=\"1\" class=\"dataframe\">\n",
       "  <thead>\n",
       "    <tr style=\"text-align: right;\">\n",
       "      <th></th>\n",
       "      <th>cmte_id</th>\n",
       "      <th>total_amount</th>\n",
       "      <th>num_donations</th>\n",
       "    </tr>\n",
       "  </thead>\n",
       "  <tbody>\n",
       "    <tr>\n",
       "      <th>0</th>\n",
       "      <td>C00580100</td>\n",
       "      <td>18633157</td>\n",
       "      <td>131</td>\n",
       "    </tr>\n",
       "    <tr>\n",
       "      <th>1</th>\n",
       "      <td>C00055582</td>\n",
       "      <td>10000</td>\n",
       "      <td>1</td>\n",
       "    </tr>\n",
       "    <tr>\n",
       "      <th>2</th>\n",
       "      <td>C00014498</td>\n",
       "      <td>9000</td>\n",
       "      <td>1</td>\n",
       "    </tr>\n",
       "    <tr>\n",
       "      <th>3</th>\n",
       "      <td>C00571869</td>\n",
       "      <td>5400</td>\n",
       "      <td>2</td>\n",
       "    </tr>\n",
       "    <tr>\n",
       "      <th>4</th>\n",
       "      <td>C00230482</td>\n",
       "      <td>5200</td>\n",
       "      <td>2</td>\n",
       "    </tr>\n",
       "    <tr>\n",
       "      <th>5</th>\n",
       "      <td>C00136457</td>\n",
       "      <td>5000</td>\n",
       "      <td>1</td>\n",
       "    </tr>\n",
       "    <tr>\n",
       "      <th>6</th>\n",
       "      <td>C00034033</td>\n",
       "      <td>5000</td>\n",
       "      <td>1</td>\n",
       "    </tr>\n",
       "    <tr>\n",
       "      <th>7</th>\n",
       "      <td>C00554949</td>\n",
       "      <td>2600</td>\n",
       "      <td>1</td>\n",
       "    </tr>\n",
       "    <tr>\n",
       "      <th>8</th>\n",
       "      <td>C00494229</td>\n",
       "      <td>2000</td>\n",
       "      <td>1</td>\n",
       "    </tr>\n",
       "    <tr>\n",
       "      <th>9</th>\n",
       "      <td>C00369033</td>\n",
       "      <td>1000</td>\n",
       "      <td>1</td>\n",
       "    </tr>\n",
       "  </tbody>\n",
       "</table>\n",
       "</div>"
      ],
      "text/plain": [
       "     cmte_id  total_amount  num_donations\n",
       "0  C00580100      18633157            131\n",
       "1  C00055582         10000              1\n",
       "2  C00014498          9000              1\n",
       "3  C00571869          5400              2\n",
       "4  C00230482          5200              2\n",
       "5  C00136457          5000              1\n",
       "6  C00034033          5000              1\n",
       "7  C00554949          2600              1\n",
       "8  C00494229          2000              1\n",
       "9  C00369033          1000              1"
      ]
     },
     "execution_count": 43,
     "metadata": {},
     "output_type": "execute_result"
    }
   ],
   "source": [
    "query_q1c = '''\n",
    "SELECT\n",
    "    ... \n",
    "    ... \n",
    "    ...\n",
    "FROM indiv_sample_nyc\n",
    "WHERE ...\n",
    "...\n",
    "...\n",
    "'''\n",
    "\n",
    "# BEGIN SOLUTION NO PROMPT\n",
    "query_q1c = '''\n",
    "SELECT \n",
    "    cmte_id,\n",
    "    SUM(transaction_amt) as total_amount,\n",
    "    COUNT(*) as num_donations\n",
    "FROM indiv_sample_nyc\n",
    "WHERE name LIKE '%TRUMP%' AND name LIKE '%DONALD%' AND name NOT LIKE '%INC%'\n",
    "GROUP BY cmte_id\n",
    "ORDER BY total_amount DESC\n",
    "'''\n",
    "# END SOLUTION\n",
    "\n",
    "res_q1c = pd.read_sql(query_q1c, engine)\n",
    "res_q1c"
   ]
  },
  {
   "cell_type": "code",
   "execution_count": null,
   "metadata": {
    "deletable": false,
    "editable": false
   },
   "outputs": [],
   "source": [
    "grader.check(\"q1c\")"
   ]
  },
  {
   "cell_type": "markdown",
   "metadata": {},
   "source": [
    "### Question 1d"
   ]
  },
  {
   "cell_type": "markdown",
   "metadata": {
    "deletable": false,
    "editable": false
   },
   "source": [
    "Now we'd like to know the name of each committee, i.e. we want to know the name of the identity that Donald Trump was making contributions to. Modify your query from question 1c so that it also shows the name of each committee. That is, your table should have four columns `cmte_id`, `total_amount`, `num_donations`, and `cmte_nm`.\n",
    "\n",
    "The names of the committees are given in the `cmte_nm` column of the `comm` table.\n",
    "\n",
    "Hint: You'll need to join the `indiv_sample_nyc` and `comm` tables.\n",
    "\n",
    "Hint: One approach is a nested select statement (a.k.a. subquery) as discussed in lecture.\n",
    "\n",
    "<!--\n",
    "BEGIN QUESTION\n",
    "name: q1d\n",
    "-->"
   ]
  },
  {
   "cell_type": "code",
   "execution_count": 33,
   "metadata": {},
   "outputs": [
    {
     "data": {
      "text/html": [
       "<div>\n",
       "<style scoped>\n",
       "    .dataframe tbody tr th:only-of-type {\n",
       "        vertical-align: middle;\n",
       "    }\n",
       "\n",
       "    .dataframe tbody tr th {\n",
       "        vertical-align: top;\n",
       "    }\n",
       "\n",
       "    .dataframe thead th {\n",
       "        text-align: right;\n",
       "    }\n",
       "</style>\n",
       "<table border=\"1\" class=\"dataframe\">\n",
       "  <thead>\n",
       "    <tr style=\"text-align: right;\">\n",
       "      <th></th>\n",
       "      <th>cmte_id</th>\n",
       "      <th>total_amount</th>\n",
       "      <th>num_donations</th>\n",
       "      <th>cmte_nm</th>\n",
       "    </tr>\n",
       "  </thead>\n",
       "  <tbody>\n",
       "    <tr>\n",
       "      <th>0</th>\n",
       "      <td>C00580100</td>\n",
       "      <td>18633157</td>\n",
       "      <td>131</td>\n",
       "      <td>DONALD J. TRUMP FOR PRESIDENT, INC.</td>\n",
       "    </tr>\n",
       "    <tr>\n",
       "      <th>1</th>\n",
       "      <td>C00055582</td>\n",
       "      <td>10000</td>\n",
       "      <td>1</td>\n",
       "      <td>NY REPUBLICAN FEDERAL CAMPAIGN COMMITTEE</td>\n",
       "    </tr>\n",
       "    <tr>\n",
       "      <th>2</th>\n",
       "      <td>C00014498</td>\n",
       "      <td>9000</td>\n",
       "      <td>1</td>\n",
       "      <td>REPUBLICAN PARTY OF IOWA</td>\n",
       "    </tr>\n",
       "    <tr>\n",
       "      <th>3</th>\n",
       "      <td>C00571869</td>\n",
       "      <td>5400</td>\n",
       "      <td>2</td>\n",
       "      <td>DONOVAN FOR CONGRESS</td>\n",
       "    </tr>\n",
       "    <tr>\n",
       "      <th>4</th>\n",
       "      <td>C00230482</td>\n",
       "      <td>5200</td>\n",
       "      <td>2</td>\n",
       "      <td>GRASSLEY COMMITTEE INC</td>\n",
       "    </tr>\n",
       "    <tr>\n",
       "      <th>5</th>\n",
       "      <td>C00136457</td>\n",
       "      <td>5000</td>\n",
       "      <td>1</td>\n",
       "      <td>NEW HAMPSHIRE REPUBLICAN STATE COMMITTEE</td>\n",
       "    </tr>\n",
       "    <tr>\n",
       "      <th>6</th>\n",
       "      <td>C00034033</td>\n",
       "      <td>5000</td>\n",
       "      <td>1</td>\n",
       "      <td>SOUTH CAROLINA REPUBLICAN PARTY</td>\n",
       "    </tr>\n",
       "    <tr>\n",
       "      <th>7</th>\n",
       "      <td>C00554949</td>\n",
       "      <td>2600</td>\n",
       "      <td>1</td>\n",
       "      <td>FRIENDS OF DAVE BRAT INC.</td>\n",
       "    </tr>\n",
       "    <tr>\n",
       "      <th>8</th>\n",
       "      <td>C00494229</td>\n",
       "      <td>2000</td>\n",
       "      <td>1</td>\n",
       "      <td>HELLER FOR SENATE</td>\n",
       "    </tr>\n",
       "    <tr>\n",
       "      <th>9</th>\n",
       "      <td>C00369033</td>\n",
       "      <td>1000</td>\n",
       "      <td>1</td>\n",
       "      <td>TEXANS FOR SENATOR JOHN CORNYN INC</td>\n",
       "    </tr>\n",
       "  </tbody>\n",
       "</table>\n",
       "</div>"
      ],
      "text/plain": [
       "     cmte_id  total_amount  num_donations  \\\n",
       "0  C00580100      18633157            131   \n",
       "1  C00055582         10000              1   \n",
       "2  C00014498          9000              1   \n",
       "3  C00571869          5400              2   \n",
       "4  C00230482          5200              2   \n",
       "5  C00136457          5000              1   \n",
       "6  C00034033          5000              1   \n",
       "7  C00554949          2600              1   \n",
       "8  C00494229          2000              1   \n",
       "9  C00369033          1000              1   \n",
       "\n",
       "                                    cmte_nm  \n",
       "0       DONALD J. TRUMP FOR PRESIDENT, INC.  \n",
       "1  NY REPUBLICAN FEDERAL CAMPAIGN COMMITTEE  \n",
       "2                  REPUBLICAN PARTY OF IOWA  \n",
       "3                      DONOVAN FOR CONGRESS  \n",
       "4                    GRASSLEY COMMITTEE INC  \n",
       "5  NEW HAMPSHIRE REPUBLICAN STATE COMMITTEE  \n",
       "6           SOUTH CAROLINA REPUBLICAN PARTY  \n",
       "7                 FRIENDS OF DAVE BRAT INC.  \n",
       "8                         HELLER FOR SENATE  \n",
       "9        TEXANS FOR SENATOR JOHN CORNYN INC  "
      ]
     },
     "execution_count": 33,
     "metadata": {},
     "output_type": "execute_result"
    }
   ],
   "source": [
    "query_q1d = '''\n",
    "...\n",
    "'''\n",
    "\n",
    "# BEGIN SOLUTION NO PROMPT\n",
    "# Solution 1\n",
    "query_q1d = '''\n",
    "SELECT \n",
    "    cmte_id,\n",
    "    SUM(transaction_amt) as total_amount,\n",
    "    COUNT(*) as num_donations,\n",
    "    cmte_nm\n",
    "FROM \n",
    "        (SELECT *\n",
    "        FROM indiv_sample_nyc, comm\n",
    "        WHERE indiv_sample_nyc.cmte_id == comm.cmte_id)\n",
    "WHERE name LIKE '%TRUMP%' AND name LIKE '%DONALD%' AND name NOT LIKE '%INC%'\n",
    "GROUP BY cmte_id\n",
    "ORDER BY total_amount DESC\n",
    "'''\n",
    "\n",
    "# Solution 2\n",
    "query_q1d = '''\n",
    "SELECT \n",
    "    indiv_sample_nyc.cmte_id,\n",
    "    SUM(transaction_amt) as total_amount,\n",
    "    COUNT(*) as num_donations,\n",
    "    cmte_nm\n",
    "FROM \n",
    "    indiv_sample_nyc JOIN comm ON indiv_sample_nyc.cmte_id = comm.cmte_id\n",
    "WHERE name LIKE '%TRUMP%' AND name LIKE '%DONALD%' AND name NOT LIKE '%INC%'\n",
    "GROUP BY indiv_sample_nyc.cmte_id\n",
    "ORDER BY total_amount DESC\n",
    "'''\n",
    "# END SOLUTION\n",
    "\n",
    "res_q1d = pd.read_sql(query_q1d, engine)\n",
    "res_q1d"
   ]
  },
  {
   "cell_type": "code",
   "execution_count": null,
   "metadata": {
    "deletable": false,
    "editable": false
   },
   "outputs": [],
   "source": [
    "grader.check(\"q1d\")"
   ]
  },
  {
   "cell_type": "markdown",
   "metadata": {
    "nbgrader": {
     "grade": false,
     "grade_id": "q3",
     "locked": true,
     "schema_version": 2,
     "solution": false
    }
   },
   "source": [
    "## Question 2"
   ]
  },
  {
   "cell_type": "markdown",
   "metadata": {
    "deletable": false,
    "editable": false
   },
   "source": [
    "### Question 2a\n",
    "\n",
    "Let's select transactions in the `indiv_sample_nyc` table with a `cmte_id` (committee id) that ends in 5. Then, groupby the transactions in the `indiv_sample_nyc` table with the `cmte_id` column, and count how many transactions and how much total amount of contribution there are for each `cmte_id`. Select the top 5 committees ordered by the transaction count.\n",
    "\n",
    "Your output should look similar to:\n",
    "\n",
    "<table border=\"1\" class=\"dataframe\">\n",
    "  <thead>\n",
    "    <tr style=\"text-align: right;\">\n",
    "      <th></th>\n",
    "      <th>committee_id</th>\n",
    "      <th>total_amount</th>\n",
    "      <th>count</th>\n",
    "    </tr>\n",
    "  </thead>\n",
    "  <tbody>\n",
    "    <tr>\n",
    "      <th>0</th>\n",
    "      <td>C00575795</td>\n",
    "      <td>25099091</td>\n",
    "      <td>110657</td>\n",
    "    </tr>\n",
    "    <tr>\n",
    "      <th>1</th>\n",
    "      <td>C00000935</td>\n",
    "      <td>6989835</td>\n",
    "      <td>36237</td>\n",
    "    </tr>\n",
    "    <tr>\n",
    "      <th>2</th>\n",
    "      <td>C00035675</td>\n",
    "      <td>316019</td>\n",
    "      <td>3417</td>\n",
    "    </tr>\n",
    "    <tr>\n",
    "      <th>3</th>\n",
    "      <td>C00040535</td>\n",
    "      <td>492567</td>\n",
    "      <td>3277</td>\n",
    "    </tr>\n",
    "    <tr>\n",
    "      <th>4</th>\n",
    "      <td>C00012245</td>\n",
    "      <td>499659</td>\n",
    "      <td>2128</td>\n",
    "    </tr>\n",
    "  </tbody>\n",
    "</table>\n",
    "\n",
    "<!--\n",
    "BEGIN QUESTION\n",
    "name: q2a\n",
    "-->"
   ]
  },
  {
   "cell_type": "code",
   "execution_count": 44,
   "metadata": {},
   "outputs": [
    {
     "data": {
      "text/html": [
       "<div>\n",
       "<style scoped>\n",
       "    .dataframe tbody tr th:only-of-type {\n",
       "        vertical-align: middle;\n",
       "    }\n",
       "\n",
       "    .dataframe tbody tr th {\n",
       "        vertical-align: top;\n",
       "    }\n",
       "\n",
       "    .dataframe thead th {\n",
       "        text-align: right;\n",
       "    }\n",
       "</style>\n",
       "<table border=\"1\" class=\"dataframe\">\n",
       "  <thead>\n",
       "    <tr style=\"text-align: right;\">\n",
       "      <th></th>\n",
       "      <th>committee_id</th>\n",
       "      <th>total_amount</th>\n",
       "      <th>count</th>\n",
       "    </tr>\n",
       "  </thead>\n",
       "  <tbody>\n",
       "    <tr>\n",
       "      <th>0</th>\n",
       "      <td>C00575795</td>\n",
       "      <td>25099091</td>\n",
       "      <td>110657</td>\n",
       "    </tr>\n",
       "    <tr>\n",
       "      <th>1</th>\n",
       "      <td>C00000935</td>\n",
       "      <td>6989835</td>\n",
       "      <td>36237</td>\n",
       "    </tr>\n",
       "    <tr>\n",
       "      <th>2</th>\n",
       "      <td>C00035675</td>\n",
       "      <td>316019</td>\n",
       "      <td>3417</td>\n",
       "    </tr>\n",
       "    <tr>\n",
       "      <th>3</th>\n",
       "      <td>C00040535</td>\n",
       "      <td>492567</td>\n",
       "      <td>3277</td>\n",
       "    </tr>\n",
       "    <tr>\n",
       "      <th>4</th>\n",
       "      <td>C00012245</td>\n",
       "      <td>499659</td>\n",
       "      <td>2128</td>\n",
       "    </tr>\n",
       "  </tbody>\n",
       "</table>\n",
       "</div>"
      ],
      "text/plain": [
       "  committee_id  total_amount   count\n",
       "0    C00575795      25099091  110657\n",
       "1    C00000935       6989835   36237\n",
       "2    C00035675        316019    3417\n",
       "3    C00040535        492567    3277\n",
       "4    C00012245        499659    2128"
      ]
     },
     "execution_count": 44,
     "metadata": {},
     "output_type": "execute_result"
    }
   ],
   "source": [
    "query_q2a='''\n",
    "SELECT\n",
    "    ... AS committee_id,\n",
    "    ... AS total_amount,\n",
    "    ... AS count\n",
    "FROM indiv_sample_nyc\n",
    "...\n",
    "...\n",
    "...\n",
    "...\n",
    "'''\n",
    "\n",
    "# BEGIN SOLUTION NO PROMPT\n",
    "query_q2a='''\n",
    "SELECT\n",
    "    cmte_id AS committee_id,\n",
    "    sum(transaction_amt) AS total_amount,\n",
    "    count(*) AS count\n",
    "FROM indiv_sample_nyc\n",
    "WHERE cmte_id LIKE '%5'\n",
    "GROUP BY cmte_id\n",
    "ORDER BY count DESC\n",
    "LIMIT 5\n",
    "'''\n",
    "# END SOLUTION\n",
    "\n",
    "res_q2a = pd.read_sql(query_q2a, engine)\n",
    "res_q2a"
   ]
  },
  {
   "cell_type": "code",
   "execution_count": null,
   "metadata": {
    "deletable": false,
    "editable": false
   },
   "outputs": [],
   "source": [
    "grader.check(\"q2a\")"
   ]
  },
  {
   "cell_type": "markdown",
   "metadata": {
    "deletable": false,
    "editable": false
   },
   "source": [
    "### Question 2b\n",
    "\n",
    "When you printed the schema for the tables, you may have noticed that both the `cand` and `comm` tables have a `cand_id` column. Let's try joining these two tables on this column.\n",
    "\n",
    "List the first 5 candidate names (`cand_name`) in reverse lexicographic order by `cand_name`, along with their corresponding committee names. Only select rows that have a matching `cand_id` in both tables.\n",
    "\n",
    "Your output should look similar to:\n",
    "\n",
    "<table border=\"1\" class=\"dataframe\">\n",
    "  <thead>\n",
    "    <tr style=\"text-align: right;\">\n",
    "      <th></th>\n",
    "      <th>cand_name</th>\n",
    "      <th>cmte_nm</th>\n",
    "    </tr>\n",
    "  </thead>\n",
    "  <tbody>\n",
    "    <tr>\n",
    "      <th>0</th>\n",
    "      <td>ZUTLER, DANIEL PAUL MR</td>\n",
    "      <td>CITIZENS TO ELECT DANIEL P ZUTLER FOR PRESIDENT</td>\n",
    "    </tr>\n",
    "    <tr>\n",
    "      <th>1</th>\n",
    "      <td>ZUMWALT, JAMES</td>\n",
    "      <td>ZUMWALT FOR CONGRESS</td>\n",
    "    </tr>\n",
    "    <tr>\n",
    "      <th>2</th>\n",
    "      <td>ZUKOWSKI, ANDREW GEORGE</td>\n",
    "      <td>ZUKOWSKI FOR CONGRESS</td>\n",
    "    </tr>\n",
    "    <tr>\n",
    "      <th>3</th>\n",
    "      <td>ZUCCOLO, JOE</td>\n",
    "      <td>JOE ZUCCOLO FOR CONGRESS</td>\n",
    "    </tr>\n",
    "    <tr>\n",
    "      <th>4</th>\n",
    "      <td>ZORN, ROBERT ERWIN</td>\n",
    "      <td>CONSTITUTIONAL COMMITTEE</td>\n",
    "    </tr>\n",
    "  </tbody>\n",
    "</table>\n",
    "\n",
    "<!--\n",
    "BEGIN QUESTION\n",
    "name: q2b\n",
    "-->"
   ]
  },
  {
   "cell_type": "code",
   "execution_count": 50,
   "metadata": {},
   "outputs": [
    {
     "data": {
      "text/html": [
       "<div>\n",
       "<style scoped>\n",
       "    .dataframe tbody tr th:only-of-type {\n",
       "        vertical-align: middle;\n",
       "    }\n",
       "\n",
       "    .dataframe tbody tr th {\n",
       "        vertical-align: top;\n",
       "    }\n",
       "\n",
       "    .dataframe thead th {\n",
       "        text-align: right;\n",
       "    }\n",
       "</style>\n",
       "<table border=\"1\" class=\"dataframe\">\n",
       "  <thead>\n",
       "    <tr style=\"text-align: right;\">\n",
       "      <th></th>\n",
       "      <th>cand_name</th>\n",
       "      <th>cmte_nm</th>\n",
       "    </tr>\n",
       "  </thead>\n",
       "  <tbody>\n",
       "    <tr>\n",
       "      <th>0</th>\n",
       "      <td>ZUTLER, DANIEL PAUL MR</td>\n",
       "      <td>CITIZENS TO ELECT DANIEL P ZUTLER FOR PRESIDENT</td>\n",
       "    </tr>\n",
       "    <tr>\n",
       "      <th>1</th>\n",
       "      <td>ZUMWALT, JAMES</td>\n",
       "      <td>ZUMWALT FOR CONGRESS</td>\n",
       "    </tr>\n",
       "    <tr>\n",
       "      <th>2</th>\n",
       "      <td>ZUKOWSKI, ANDREW GEORGE</td>\n",
       "      <td>ZUKOWSKI FOR CONGRESS</td>\n",
       "    </tr>\n",
       "    <tr>\n",
       "      <th>3</th>\n",
       "      <td>ZUCCOLO, JOE</td>\n",
       "      <td>JOE ZUCCOLO FOR CONGRESS</td>\n",
       "    </tr>\n",
       "    <tr>\n",
       "      <th>4</th>\n",
       "      <td>ZORN, ROBERT ERWIN</td>\n",
       "      <td>CONSTITUTIONAL COMMITTEE</td>\n",
       "    </tr>\n",
       "  </tbody>\n",
       "</table>\n",
       "</div>"
      ],
      "text/plain": [
       "                 cand_name                                          cmte_nm\n",
       "0   ZUTLER, DANIEL PAUL MR  CITIZENS TO ELECT DANIEL P ZUTLER FOR PRESIDENT\n",
       "1           ZUMWALT, JAMES                             ZUMWALT FOR CONGRESS\n",
       "2  ZUKOWSKI, ANDREW GEORGE                            ZUKOWSKI FOR CONGRESS\n",
       "3             ZUCCOLO, JOE                         JOE ZUCCOLO FOR CONGRESS\n",
       "4       ZORN, ROBERT ERWIN                         CONSTITUTIONAL COMMITTEE"
      ]
     },
     "execution_count": 50,
     "metadata": {},
     "output_type": "execute_result"
    }
   ],
   "source": [
    "query_q2b='''\n",
    "SELECT ..., ...\n",
    "FROM cand c1 ... JOIN comm c2 ON ...\n",
    "...\n",
    "...\n",
    "'''\n",
    "\n",
    "# BEGIN SOLUTION NO PROMPT\n",
    "# Solution 1\n",
    "query_q2b='''\n",
    "SELECT c1.cand_name, c2.cmte_nm\n",
    "FROM cand c1 INNER JOIN comm c2 ON c1.cand_id = c2.cand_id\n",
    "ORDER BY c1.cand_name DESC\n",
    "LIMIT 5\n",
    "'''\n",
    "\n",
    "# Solution 2\n",
    "query_q2b='''\n",
    "SELECT cand.cand_name, comm.cmte_nm\n",
    "FROM cand INNER JOIN comm ON cand.cand_id = comm.cand_id\n",
    "ORDER BY cand.cand_name DESC\n",
    "LIMIT 5\n",
    "'''\n",
    "# END SOLUTION\n",
    "\n",
    "res_q2b = pd.read_sql(query_q2b, engine)\n",
    "res_q2b"
   ]
  },
  {
   "cell_type": "code",
   "execution_count": null,
   "metadata": {
    "deletable": false,
    "editable": false
   },
   "outputs": [],
   "source": [
    "grader.check(\"q2b\")"
   ]
  },
  {
   "cell_type": "markdown",
   "metadata": {
    "deletable": false,
    "editable": false
   },
   "source": [
    "### Question 2c\n",
    "\n",
    "As in the previous part, list the first 5 candidate names (`cand_name`) by reverse lexicographic order and their corresponding committee names (`cmte_nm`). This time, include all candidate names. If there is no matching `cand_id` in the `comm` table, then `cmte_nm` should be NULL.\n",
    "\n",
    "Your output should look similar to:\n",
    "\n",
    "<table border=\"1\" class=\"dataframe\">\n",
    "  <thead>\n",
    "    <tr style=\"text-align: right;\">\n",
    "      <th></th>\n",
    "      <th>cand_name</th>\n",
    "      <th>cmte_nm</th>\n",
    "    </tr>\n",
    "  </thead>\n",
    "  <tbody>\n",
    "    <tr>\n",
    "      <th>0</th>\n",
    "      <td>ZUTLER, DANIEL PAUL MR</td>\n",
    "      <td>CITIZENS TO ELECT DANIEL P ZUTLER FOR PRESIDENT</td>\n",
    "    </tr>\n",
    "    <tr>\n",
    "      <th>1</th>\n",
    "      <td>ZUMWALT, JAMES</td>\n",
    "      <td>ZUMWALT FOR CONGRESS</td>\n",
    "    </tr>\n",
    "    <tr>\n",
    "      <th>2</th>\n",
    "      <td>ZUKOWSKI, ANDREW GEORGE</td>\n",
    "      <td>ZUKOWSKI FOR CONGRESS</td>\n",
    "    </tr>\n",
    "    <tr>\n",
    "      <th>3</th>\n",
    "      <td>ZUCCOLO, JOE</td>\n",
    "      <td>JOE ZUCCOLO FOR CONGRESS</td>\n",
    "    </tr>\n",
    "    <tr>\n",
    "      <th>4</th>\n",
    "      <td>ZORNOW, TODD MR</td>\n",
    "      <td>None</td>\n",
    "    </tr>\n",
    "  </tbody>\n",
    "</table>\n",
    "\n",
    "<!--\n",
    "BEGIN QUESTION\n",
    "name: q2c\n",
    "-->"
   ]
  },
  {
   "cell_type": "code",
   "execution_count": 51,
   "metadata": {},
   "outputs": [
    {
     "data": {
      "text/html": [
       "<div>\n",
       "<style scoped>\n",
       "    .dataframe tbody tr th:only-of-type {\n",
       "        vertical-align: middle;\n",
       "    }\n",
       "\n",
       "    .dataframe tbody tr th {\n",
       "        vertical-align: top;\n",
       "    }\n",
       "\n",
       "    .dataframe thead th {\n",
       "        text-align: right;\n",
       "    }\n",
       "</style>\n",
       "<table border=\"1\" class=\"dataframe\">\n",
       "  <thead>\n",
       "    <tr style=\"text-align: right;\">\n",
       "      <th></th>\n",
       "      <th>cand_name</th>\n",
       "      <th>cmte_nm</th>\n",
       "    </tr>\n",
       "  </thead>\n",
       "  <tbody>\n",
       "    <tr>\n",
       "      <th>0</th>\n",
       "      <td>ZUTLER, DANIEL PAUL MR</td>\n",
       "      <td>CITIZENS TO ELECT DANIEL P ZUTLER FOR PRESIDENT</td>\n",
       "    </tr>\n",
       "    <tr>\n",
       "      <th>1</th>\n",
       "      <td>ZUMWALT, JAMES</td>\n",
       "      <td>ZUMWALT FOR CONGRESS</td>\n",
       "    </tr>\n",
       "    <tr>\n",
       "      <th>2</th>\n",
       "      <td>ZUKOWSKI, ANDREW GEORGE</td>\n",
       "      <td>ZUKOWSKI FOR CONGRESS</td>\n",
       "    </tr>\n",
       "    <tr>\n",
       "      <th>3</th>\n",
       "      <td>ZUCCOLO, JOE</td>\n",
       "      <td>JOE ZUCCOLO FOR CONGRESS</td>\n",
       "    </tr>\n",
       "    <tr>\n",
       "      <th>4</th>\n",
       "      <td>ZORNOW, TODD MR</td>\n",
       "      <td>None</td>\n",
       "    </tr>\n",
       "  </tbody>\n",
       "</table>\n",
       "</div>"
      ],
      "text/plain": [
       "                 cand_name                                          cmte_nm\n",
       "0   ZUTLER, DANIEL PAUL MR  CITIZENS TO ELECT DANIEL P ZUTLER FOR PRESIDENT\n",
       "1           ZUMWALT, JAMES                             ZUMWALT FOR CONGRESS\n",
       "2  ZUKOWSKI, ANDREW GEORGE                            ZUKOWSKI FOR CONGRESS\n",
       "3             ZUCCOLO, JOE                         JOE ZUCCOLO FOR CONGRESS\n",
       "4          ZORNOW, TODD MR                                             None"
      ]
     },
     "execution_count": 51,
     "metadata": {},
     "output_type": "execute_result"
    }
   ],
   "source": [
    "query_q2c='''\n",
    "SELECT ..., ...\n",
    "FROM cand c1 ... JOIN comm c2 ON ...\n",
    "...\n",
    "...\n",
    "'''\n",
    "\n",
    "# BEGIN SOLUTION NO PROMPT\n",
    "query_q2c='''\n",
    "SELECT c1.cand_name, c2.cmte_nm\n",
    "FROM cand c1 LEFT OUTER JOIN comm c2 ON c1.cand_id = c2.cand_id\n",
    "ORDER BY c1.cand_name DESC\n",
    "LIMIT 5\n",
    "'''\n",
    "# just change \"INNER JOIN\" to \"LEFT OUTER JOIN\"\n",
    "# END SOLUTION\n",
    "\n",
    "res_q2c = pd.read_sql(query_q2c, engine)\n",
    "res_q2c"
   ]
  },
  {
   "cell_type": "code",
   "execution_count": null,
   "metadata": {
    "deletable": false,
    "editable": false
   },
   "outputs": [],
   "source": [
    "grader.check(\"q2c\")"
   ]
  },
  {
   "cell_type": "markdown",
   "metadata": {
    "deletable": false,
    "editable": false
   },
   "source": [
    "---\n",
    "\n",
    "To double-check your work, the cell below will rerun all of the autograder tests."
   ]
  },
  {
   "cell_type": "code",
   "execution_count": null,
   "metadata": {
    "deletable": false,
    "editable": false
   },
   "outputs": [],
   "source": [
    "grader.check_all()"
   ]
  },
  {
   "cell_type": "markdown",
   "metadata": {
    "deletable": false,
    "editable": false
   },
   "source": [
    "## Submission\n",
    "\n",
    "Make sure you have run all cells in your notebook in order before running the cell below, so that all images/graphs appear in the output. The cell below will generate a zip file for you to submit. **Please save before exporting!**"
   ]
  },
  {
   "cell_type": "code",
   "execution_count": null,
   "metadata": {
    "deletable": false,
    "editable": false
   },
   "outputs": [],
   "source": [
    "# Save your notebook first, then run this cell to export your submission.\n",
    "grader.export(pdf=False)"
   ]
  },
  {
   "cell_type": "markdown",
   "metadata": {},
   "source": [
    " "
   ]
  }
 ],
 "metadata": {
  "celltoolbar": "Create Assignment",
  "history": [
   {
    "code": "import pandas as pd\nimport sqlalchemy\nfrom ds100_utils import fetch_and_cache\nfrom pathlib import Path",
    "id": "d50ab72cf9eb426581b157fa62a74405",
    "idx": 3,
    "time": "2021-02-05T07:23:03.875Z",
    "type": "execution"
   },
   {
    "id": "d50ab72cf9eb426581b157fa62a74405",
    "time": "2021-02-05T07:23:04.614Z",
    "type": "completion"
   },
   {
    "code": "db_url = 'https://s3.amazonaws.com/berkeley-ds100/fec_nyc.sqlite'\ndb_filename = 'fec_nyc.db'\ndata_dir = Path('data')\nfetch_and_cache(db_url, db_filename, data_dir=data_dir)\ndb_path = data_dir / db_filename",
    "id": "a2ee583955524d2fbd36b5f3105c93ff",
    "idx": 7,
    "time": "2021-02-05T07:23:14.944Z",
    "type": "execution"
   },
   {
    "id": "a2ee583955524d2fbd36b5f3105c93ff",
    "time": "2021-02-05T07:23:17.548Z",
    "type": "completion"
   },
   {
    "code": "engine = sqlalchemy.create_engine(f\"sqlite:///{db_path}\")\nconnection = engine.connect()",
    "id": "79b5aa127b30439e838a56aaf6f6f32d",
    "idx": 9,
    "time": "2021-02-05T07:23:46.452Z",
    "type": "execution"
   },
   {
    "id": "79b5aa127b30439e838a56aaf6f6f32d",
    "time": "2021-02-05T07:23:46.534Z",
    "type": "completion"
   },
   {
    "code": "engine.table_names()",
    "id": "e0bfa0b8dac54884875600cb1e375098",
    "idx": 11,
    "time": "2021-02-05T07:23:50.834Z",
    "type": "execution"
   },
   {
    "id": "e0bfa0b8dac54884875600cb1e375098",
    "time": "2021-02-05T07:23:50.980Z",
    "type": "completion"
   },
   {
    "code": "for exp in connection.execute('SELECT sql FROM sqlite_master;'):\n    print(exp[0])",
    "id": "dacb5ae0653e4d9f83cfdfc768259341",
    "idx": 13,
    "time": "2021-02-05T07:24:34.063Z",
    "type": "execution"
   },
   {
    "id": "dacb5ae0653e4d9f83cfdfc768259341",
    "time": "2021-02-05T07:24:34.159Z",
    "type": "completion"
   },
   {
    "code": "for exp in connection.execute('SELECT sql FROM sqlite_master;'):\n    print(exp)",
    "id": "dacb5ae0653e4d9f83cfdfc768259341",
    "idx": 13,
    "time": "2021-02-05T07:24:41.686Z",
    "type": "execution"
   },
   {
    "id": "dacb5ae0653e4d9f83cfdfc768259341",
    "time": "2021-02-05T07:24:41.789Z",
    "type": "completion"
   },
   {
    "code": "for exp in connection.execute('SELECT sql FROM sqlite_master;'):\n    print(exp[0])",
    "id": "dacb5ae0653e4d9f83cfdfc768259341",
    "idx": 13,
    "time": "2021-02-05T07:24:53.574Z",
    "type": "execution"
   },
   {
    "id": "dacb5ae0653e4d9f83cfdfc768259341",
    "time": "2021-02-05T07:24:53.661Z",
    "type": "completion"
   },
   {
    "code": "connection.execute('SELECT sql FROM sqlite_master;')",
    "id": "6624d12762f8482f88a008d6147c8628",
    "idx": 14,
    "time": "2021-02-05T07:25:01.679Z",
    "type": "execution"
   },
   {
    "id": "6624d12762f8482f88a008d6147c8628",
    "time": "2021-02-05T07:25:01.755Z",
    "type": "completion"
   },
   {
    "code": "connection.execute('SELECT sql FROM sqlite_master;')[0]",
    "id": "6624d12762f8482f88a008d6147c8628",
    "idx": 14,
    "time": "2021-02-05T07:25:05.278Z",
    "type": "execution"
   },
   {
    "id": "6624d12762f8482f88a008d6147c8628",
    "time": "2021-02-05T07:25:05.480Z",
    "type": "completion"
   },
   {
    "code": "list(connection.execute('SELECT sql FROM sqlite_master;'))",
    "id": "6624d12762f8482f88a008d6147c8628",
    "idx": 14,
    "time": "2021-02-05T07:25:22.544Z",
    "type": "execution"
   },
   {
    "id": "6624d12762f8482f88a008d6147c8628",
    "time": "2021-02-05T07:25:22.633Z",
    "type": "completion"
   },
   {
    "code": "list(connection.execute('SELECT sql FROM sqlite_master;'))[0]",
    "id": "6624d12762f8482f88a008d6147c8628",
    "idx": 14,
    "time": "2021-02-05T07:25:25.993Z",
    "type": "execution"
   },
   {
    "id": "6624d12762f8482f88a008d6147c8628",
    "time": "2021-02-05T07:25:26.082Z",
    "type": "completion"
   },
   {
    "code": "type(list(connection.execute('SELECT sql FROM sqlite_master;'))[0])",
    "id": "6624d12762f8482f88a008d6147c8628",
    "idx": 14,
    "time": "2021-02-05T07:25:40.153Z",
    "type": "execution"
   },
   {
    "id": "6624d12762f8482f88a008d6147c8628",
    "time": "2021-02-05T07:25:40.262Z",
    "type": "completion"
   },
   {
    "code": "len(list(connection.execute('SELECT sql FROM sqlite_master;'))[0])",
    "id": "6624d12762f8482f88a008d6147c8628",
    "idx": 14,
    "time": "2021-02-05T07:25:47.638Z",
    "type": "execution"
   },
   {
    "id": "6624d12762f8482f88a008d6147c8628",
    "time": "2021-02-05T07:25:47.738Z",
    "type": "completion"
   },
   {
    "code": "print(list(connection.execute('SELECT sql FROM sqlite_master;'))[0])",
    "id": "6624d12762f8482f88a008d6147c8628",
    "idx": 14,
    "time": "2021-02-05T07:25:52.574Z",
    "type": "execution"
   },
   {
    "id": "6624d12762f8482f88a008d6147c8628",
    "time": "2021-02-05T07:25:52.661Z",
    "type": "completion"
   },
   {
    "code": "list(connection.execute('SELECT sql FROM sqlite_master;'))[0][0]",
    "id": "6624d12762f8482f88a008d6147c8628",
    "idx": 14,
    "time": "2021-02-05T07:26:07.093Z",
    "type": "execution"
   },
   {
    "id": "6624d12762f8482f88a008d6147c8628",
    "time": "2021-02-05T07:26:07.192Z",
    "type": "completion"
   },
   {
    "code": "print(list(connection.execute('SELECT sql FROM sqlite_master;'))[0][0])",
    "id": "6624d12762f8482f88a008d6147c8628",
    "idx": 14,
    "time": "2021-02-05T07:26:15.537Z",
    "type": "execution"
   },
   {
    "id": "6624d12762f8482f88a008d6147c8628",
    "time": "2021-02-05T07:26:15.634Z",
    "type": "completion"
   },
   {
    "code": "# We use `LIMIT 5` to avoid loading a huge table.\n# Although our tables shouldn't get too large to display,\n# this is generally good practice when working in the\n# notebook environment.  Jupyter notebooks don't handle\n# very large outputs well.\nquery = \"\"\"\nSELECT * from indiv_sample_nyc LIMIT 5\n\"\"\"\npd.read_sql(query, engine)",
    "id": "1870e99581164765b738d4683f489f66",
    "idx": 15,
    "time": "2021-02-05T07:26:44.887Z",
    "type": "execution"
   },
   {
    "id": "1870e99581164765b738d4683f489f66",
    "time": "2021-02-05T07:26:45.060Z",
    "type": "completion"
   },
   {
    "code": "query = '''\nSELECT *\nFROM cand\nLIMIT 5\n'''\npd.read_sql(query,engine)",
    "id": "9cd5cd560f904259a326e88e7f126b0a",
    "idx": 17,
    "time": "2021-02-05T07:26:57.852Z",
    "type": "execution"
   },
   {
    "id": "9cd5cd560f904259a326e88e7f126b0a",
    "time": "2021-02-05T07:26:57.956Z",
    "type": "completion"
   },
   {
    "code": "query = '''\nSELECT *\nFROM comm\nLIMIT 5\n'''\npd.read_sql(query,engine)",
    "id": "136aae26be394193883be3607ed11cfa",
    "idx": 19,
    "time": "2021-02-05T07:27:02.025Z",
    "type": "execution"
   },
   {
    "id": "136aae26be394193883be3607ed11cfa",
    "time": "2021-02-05T07:27:02.155Z",
    "type": "completion"
   },
   {
    "code": "query = '''\nSELECT cand_id, cand_name\nFROM cand\nWHERE cand_pty_affiliation = 'DEM'\nLIMIT 5\n'''\npd.read_sql(query,engine)",
    "id": "afa1370e16644e1fabff3f7686e3071c",
    "idx": 21,
    "time": "2021-02-05T07:27:17.594Z",
    "type": "execution"
   },
   {
    "id": "afa1370e16644e1fabff3f7686e3071c",
    "time": "2021-02-05T07:27:17.678Z",
    "type": "completion"
   },
   {
    "code": "for exp in connection.execute('SELECT sql FROM sqlite_master WHERE name=\"indiv_sample_nyc\";'):\n    print(exp[0])",
    "id": "69aeeb8fd7b34d9081e1f51b54f1fc97",
    "idx": 23,
    "time": "2021-02-05T07:27:46.406Z",
    "type": "execution"
   },
   {
    "id": "69aeeb8fd7b34d9081e1f51b54f1fc97",
    "time": "2021-02-05T07:27:46.489Z",
    "type": "completion"
   },
   {
    "code": "query_q1a='''\nSELECT\n    ... \n    ... \n    ...\nFROM indiv_sample_nyc\nWHERE ...\n'''\n\n# BEGIN SOLUTION NO PROMPT\nquery_q1a='''\nSELECT \n    cmte_id,\n    transaction_amt,\n    name\nFROM indiv_sample_nyc\nWHERE name LIKE '%TRUMP%' AND name LIKE '%DONALD%'\n'''\n# END SOLUTION\n\nres_q1a = pd.read_sql(query_q1a, engine)\nres_q1a",
    "id": "56b52231d28b4e058c52a2d227ff4791",
    "idx": 25,
    "time": "2021-02-05T07:29:12.457Z",
    "type": "execution"
   },
   {
    "id": "56b52231d28b4e058c52a2d227ff4791",
    "time": "2021-02-05T07:29:12.872Z",
    "type": "completion"
   },
   {
    "code": "# TEST\nres_q1a.shape == (157, 3)",
    "id": "53de34cfa22441f89ce773320d269526",
    "idx": 26,
    "time": "2021-02-05T07:29:17.229Z",
    "type": "execution"
   },
   {
    "id": "53de34cfa22441f89ce773320d269526",
    "time": "2021-02-05T07:29:17.316Z",
    "type": "completion"
   },
   {
    "code": "# TEST\nsorted(res_q1a['transaction_amt'].unique()) == [5, 224, 514, 1000, 1029, 1216, 1713, 2000, 2426, 2460, 2529, 2531, 2536, 2544, 2574, 2587, 2600, 2620, 2679, 2692, 2693, 2700, 2991, 3063, 3347, 3360, 3371, 3499, 3548, 3706, 3954, 4049, 4127, 4164, 4591, 4931, 4958, 5000, 5297, 5574, 6197, 6250, 6990, 7401, 7519, 7990, 8735, 8896, 9000, 9013, 9106, 9651, 9752, 10000, 10418, 11023, 15000, 23775, 2000000, 10000000]",
    "id": "aec7d70ff30448e19b4cc7c47972733e",
    "idx": 27,
    "time": "2021-02-05T07:29:26.566Z",
    "type": "execution"
   },
   {
    "id": "aec7d70ff30448e19b4cc7c47972733e",
    "time": "2021-02-05T07:29:26.662Z",
    "type": "completion"
   },
   {
    "code": "res_q1a['name'].value_counts()",
    "id": "6e886815577742c68687df6707973dd1",
    "idx": 30,
    "time": "2021-02-05T07:29:49.103Z",
    "type": "execution"
   },
   {
    "id": "6e886815577742c68687df6707973dd1",
    "time": "2021-02-05T07:29:49.181Z",
    "type": "completion"
   },
   {
    "code": "query_q1b = '''\nSELECT\n    ... \n    ... \n    ...\nFROM indiv_sample_nyc\nWHERE ...\n'''\n# BEGIN SOLUTION NO PROMPT\nquery_q1b = '''\nSELECT \n    cmte_id,\n    transaction_amt,\n    name\nFROM indiv_sample_nyc\nWHERE name LIKE '%TRUMP%' AND name LIKE '%DONALD%' AND name NOT LIKE '%INC%'\n'''\n# END SOLUTION\n\nres_q1b = pd.read_sql(query_q1b, engine)\nres_q1b",
    "id": "443d818eaf744aa99e28c850c82b0b4c",
    "idx": 32,
    "time": "2021-02-05T07:30:13.069Z",
    "type": "execution"
   },
   {
    "id": "443d818eaf744aa99e28c850c82b0b4c",
    "time": "2021-02-05T07:30:13.413Z",
    "type": "completion"
   },
   {
    "code": "# TEST\nres_q1b.shape == (142, 3)",
    "id": "ec6fd9f5e34e43de8713912082be748f",
    "idx": 33,
    "time": "2021-02-05T07:30:16.328Z",
    "type": "execution"
   },
   {
    "id": "ec6fd9f5e34e43de8713912082be748f",
    "time": "2021-02-05T07:30:16.405Z",
    "type": "completion"
   },
   {
    "code": "# TEST\nsorted(res_q1b['transaction_amt'].unique()) == [224, 514, 1000, 1029, 1216, 1713, 2000, 2426, 2460, 2529, 2531, 2536, 2544, 2574, 2587, 2600, 2620, 2679, 2692, 2693, 2700, 2991, 3063, 3347, 3360, 3371, 3499, 3548, 3706, 3954, 4049, 4127, 4164, 4591, 4931, 4958, 5000, 5297, 5574, 6197, 6250, 6990, 7401, 7519, 7990, 8735, 8896, 9000, 9013, 9106, 9651, 9752, 10000, 10418, 11023, 15000, 23775, 2000000, 10000000]",
    "id": "a91f987dba694fd08f2a86a044ffcd82",
    "idx": 34,
    "time": "2021-02-05T07:30:17.997Z",
    "type": "execution"
   },
   {
    "id": "a91f987dba694fd08f2a86a044ffcd82",
    "time": "2021-02-05T07:30:18.106Z",
    "type": "completion"
   },
   {
    "code": "query_q1c = '''\nSELECT\n    ... \n    ... \n    ...\nFROM indiv_sample_nyc\nWHERE ...\n...\n...\n'''\n\n# BEGIN SOLUTION NO PROMPT\nquery_q1c = '''\nSELECT \n    cmte_id,\n    SUM(transaction_amt) as total_amount,\n    COUNT(*) as num_donations\nFROM indiv_sample_nyc\nWHERE name LIKE '%TRUMP%' AND name LIKE '%DONALD%' AND name NOT LIKE '%INC%'\nGROUP BY cmte_id\nORDER BY total_amount DESC\n'''\n# END SOLUTION\n\nres_q1c = pd.read_sql(query_q1c, engine)\nres_q1c",
    "id": "2171af1a67504cbc820d42675e925254",
    "idx": 37,
    "time": "2021-02-05T07:31:35.155Z",
    "type": "execution"
   },
   {
    "id": "2171af1a67504cbc820d42675e925254",
    "time": "2021-02-05T07:31:35.516Z",
    "type": "completion"
   },
   {
    "code": "# TEST\nres_q1c.shape == (10, 3)",
    "id": "dc901e15a3a94a40bc7a262b63ff3033",
    "idx": 38,
    "time": "2021-02-05T07:31:38.366Z",
    "type": "execution"
   },
   {
    "id": "dc901e15a3a94a40bc7a262b63ff3033",
    "time": "2021-02-05T07:31:38.437Z",
    "type": "completion"
   },
   {
    "code": "# TEST\nsorted(res_q1c['total_amount']) == [1000, 2000, 2600, 5000, 5000, 5200, 5400, 9000, 10000, 18633157]",
    "id": "e66af78e0fd0467ba5e68e0945c04ff5",
    "idx": 39,
    "time": "2021-02-05T07:31:40.004Z",
    "type": "execution"
   },
   {
    "id": "e66af78e0fd0467ba5e68e0945c04ff5",
    "time": "2021-02-05T07:31:40.086Z",
    "type": "completion"
   },
   {
    "code": "# TEST\nsorted(res_q1c['num_donations']) == [1, 1, 1, 1, 1, 1, 1, 2, 2, 131]",
    "id": "23d8118cf241480f8cdfa0f222530f4f",
    "idx": 40,
    "time": "2021-02-05T07:31:43.644Z",
    "type": "execution"
   },
   {
    "id": "23d8118cf241480f8cdfa0f222530f4f",
    "time": "2021-02-05T07:31:43.725Z",
    "type": "completion"
   },
   {
    "code": "query_q1d = '''\n...\n'''\n\n# BEGIN SOLUTION NO PROMPT\nquery_q1d = '''\nSELECT \n    cmte_id,\n    SUM(transaction_amt) as total_amount,\n    COUNT(*) as num_donations,\n    cmte_nm\nFROM \n        (SELECT *\n        FROM indiv_sample_nyc, comm\n        WHERE indiv_sample_nyc.cmte_id == comm.cmte_id)\nWHERE name LIKE '%TRUMP%' AND name LIKE '%DONALD%' AND name NOT LIKE '%INC%'\nGROUP BY cmte_id\nORDER BY total_amount DESC\n'''\n# END SOLUTION\n\nres_q1d = pd.read_sql(query_q1d, engine)\nres_q1d",
    "id": "769c65ec13dd4037847e0766c3f5b0fd",
    "idx": 43,
    "time": "2021-02-05T07:32:54.293Z",
    "type": "execution"
   },
   {
    "id": "769c65ec13dd4037847e0766c3f5b0fd",
    "time": "2021-02-05T07:32:54.610Z",
    "type": "completion"
   },
   {
    "code": "query_q1d = '''\n...\n'''\n\n# BEGIN SOLUTION NO PROMPT\nquery_q1d = '''\nSELECT \n    cmte_id,\n    SUM(transaction_amt) as total_amount,\n    COUNT(*) as num_donations,\n    cmte_nm\nFROM \n    indiv_sample_nyc LEFT JOIN comm ON cmte_id\nWHERE name LIKE '%TRUMP%' AND name LIKE '%DONALD%' AND name NOT LIKE '%INC%'\nGROUP BY cmte_id\nORDER BY total_amount DESC\n'''\n# END SOLUTION\n\nres_q1d = pd.read_sql(query_q1d, engine)\nres_q1d",
    "id": "8ff60ad1480844dd8d4dd664e939e939",
    "idx": 44,
    "time": "2021-02-05T07:33:50.860Z",
    "type": "execution"
   },
   {
    "id": "8ff60ad1480844dd8d4dd664e939e939",
    "time": "2021-02-05T07:33:51.094Z",
    "type": "completion"
   },
   {
    "code": "query_q1d = '''\n...\n'''\n\n# BEGIN SOLUTION NO PROMPT\nquery_q1d = '''\nSELECT \n    cmte_id,\n    SUM(transaction_amt) as total_amount,\n    COUNT(*) as num_donations,\n    cmte_nm\nFROM \n    indiv_sample_nyc JOIN comm ON indiv_sample_nyc.cmte_id = comm.cmte_id\nWHERE name LIKE '%TRUMP%' AND name LIKE '%DONALD%' AND name NOT LIKE '%INC%'\nGROUP BY cmte_id\nORDER BY total_amount DESC\n'''\n# END SOLUTION\n\nres_q1d = pd.read_sql(query_q1d, engine)\nres_q1d",
    "id": "8ff60ad1480844dd8d4dd664e939e939",
    "idx": 44,
    "time": "2021-02-05T07:35:36.691Z",
    "type": "execution"
   },
   {
    "id": "8ff60ad1480844dd8d4dd664e939e939",
    "time": "2021-02-05T07:35:36.899Z",
    "type": "completion"
   },
   {
    "code": "query_q1d = '''\n...\n'''\n\n# BEGIN SOLUTION NO PROMPT\nquery_q1d = '''\nSELECT \n    cmte_id,\n    SUM(transaction_amt) as total_amount,\n    COUNT(*) as num_donations,\n    indiv_sample_nyc.cmte_nm\nFROM \n    indiv_sample_nyc JOIN comm ON indiv_sample_nyc.cmte_id = comm.cmte_id\nWHERE name LIKE '%TRUMP%' AND name LIKE '%DONALD%' AND name NOT LIKE '%INC%'\nGROUP BY cmte_id\nORDER BY total_amount DESC\n'''\n# END SOLUTION\n\nres_q1d = pd.read_sql(query_q1d, engine)\nres_q1d",
    "id": "8ff60ad1480844dd8d4dd664e939e939",
    "idx": 44,
    "time": "2021-02-05T07:36:09.386Z",
    "type": "execution"
   },
   {
    "id": "8ff60ad1480844dd8d4dd664e939e939",
    "time": "2021-02-05T07:36:09.566Z",
    "type": "completion"
   },
   {
    "code": "query_q1d = '''\n...\n'''\n\n# BEGIN SOLUTION NO PROMPT\nquery_q1d = '''\nSELECT \n    indiv_sample_nyc.cmte_id,\n    SUM(transaction_amt) as total_amount,\n    COUNT(*) as num_donations,\n    cmte_nm\nFROM \n    indiv_sample_nyc JOIN comm ON indiv_sample_nyc.cmte_id = comm.cmte_id\nWHERE name LIKE '%TRUMP%' AND name LIKE '%DONALD%' AND name NOT LIKE '%INC%'\nGROUP BY cmte_id\nORDER BY total_amount DESC\n'''\n# END SOLUTION\n\nres_q1d = pd.read_sql(query_q1d, engine)\nres_q1d",
    "id": "8ff60ad1480844dd8d4dd664e939e939",
    "idx": 44,
    "time": "2021-02-05T07:36:35.593Z",
    "type": "execution"
   },
   {
    "id": "8ff60ad1480844dd8d4dd664e939e939",
    "time": "2021-02-05T07:36:35.784Z",
    "type": "completion"
   },
   {
    "code": "query_q1d = '''\n...\n'''\n\n# BEGIN SOLUTION NO PROMPT\nquery_q1d = '''\nSELECT \n    indiv_sample_nyc.cmte_id,\n    SUM(transaction_amt) as total_amount,\n    COUNT(*) as num_donations,\n    cmte_nm\nFROM \n    indiv_sample_nyc JOIN comm ON indiv_sample_nyc.cmte_id = comm.cmte_id\nWHERE name LIKE '%TRUMP%' AND name LIKE '%DONALD%' AND name NOT LIKE '%INC%'\nGROUP BY indiv_sample_nyc.cmte_id\nORDER BY total_amount DESC\n'''\n# END SOLUTION\n\nres_q1d = pd.read_sql(query_q1d, engine)\nres_q1d",
    "id": "8ff60ad1480844dd8d4dd664e939e939",
    "idx": 44,
    "time": "2021-02-05T07:37:11.512Z",
    "type": "execution"
   },
   {
    "id": "8ff60ad1480844dd8d4dd664e939e939",
    "time": "2021-02-05T07:37:11.819Z",
    "type": "completion"
   },
   {
    "code": "# TEST\nres_q1d.shape",
    "id": "3f688bb3334c464ea9a55cb425f28394",
    "idx": 45,
    "time": "2021-02-05T07:37:18.162Z",
    "type": "execution"
   },
   {
    "id": "3f688bb3334c464ea9a55cb425f28394",
    "time": "2021-02-05T07:37:18.233Z",
    "type": "completion"
   },
   {
    "code": "# TEST\nprint(sorted(res_q1d['total_amount']))",
    "id": "47bfd1a9639f4e5d883034b49b8e9849",
    "idx": 46,
    "time": "2021-02-05T07:37:23.408Z",
    "type": "execution"
   },
   {
    "id": "47bfd1a9639f4e5d883034b49b8e9849",
    "time": "2021-02-05T07:37:23.476Z",
    "type": "completion"
   },
   {
    "code": "# TEST\nprint(sorted(res_q1d['num_donations']))",
    "id": "5163c3df72a346be8b281be1eab2ceba",
    "idx": 47,
    "time": "2021-02-05T07:37:26.226Z",
    "type": "execution"
   },
   {
    "id": "5163c3df72a346be8b281be1eab2ceba",
    "time": "2021-02-05T07:37:26.292Z",
    "type": "completion"
   },
   {
    "code": "# TEST\nprint(sorted(res_q1d['cmte_nm']))",
    "id": "b08bf798e91e42b5845546e6fa7c7ebd",
    "idx": 48,
    "time": "2021-02-05T07:37:29.857Z",
    "type": "execution"
   },
   {
    "id": "b08bf798e91e42b5845546e6fa7c7ebd",
    "time": "2021-02-05T07:37:29.927Z",
    "type": "completion"
   },
   {
    "code": "query_q1c = '''\nSELECT\n    ... \n    ... \n    ...\nFROM indiv_sample_nyc\nWHERE ...\n...\n...\n'''\n\n# BEGIN SOLUTION NO PROMPT\nquery_q1c = '''\nSELECT \n    cmte_id,\n    SUM(transaction_amt) as total_amount,\n    COUNT(*) as num_donations\nFROM indiv_sample_nyc\nWHERE name LIKE '%TRUMP%' AND name LIKE '%DONALD%' AND name NOT LIKE '%INC%'\nGROUP BY cmte_id\nORDER BY total_amount DESC\n'''\n# END SOLUTION\n\nres_q1c = pd.read_sql(query_q1c, engine)\nres_q1c",
    "id": "2171af1a67504cbc820d42675e925254",
    "idx": 37,
    "time": "2021-02-05T07:39:26.186Z",
    "type": "execution"
   },
   {
    "id": "2171af1a67504cbc820d42675e925254",
    "time": "2021-02-05T07:39:26.434Z",
    "type": "completion"
   },
   {
    "code": "query_q2a='''\nSELECT\n    ... AS committee_id,\n    ... AS total_amount,\n    ... AS count\nFROM indiv_sample_nyc\n...\n...\n...\n...\n'''\n\n# BEGIN SOLUTION NO PROMPT\nquery_q2a='''\nSELECT\n    cmte_id AS committee_id,\n    sum(transaction_amt) AS total_amount,\n    count(*) AS count\nFROM indiv_sample_nyc\nWHERE cmte_id LIKE '%5'\nGROUP BY cmte_id\nORDER BY count DESC\nLIMIT 5\n'''\n# END SOLUTION\n\nres_q2a = pd.read_sql(query_q2a, engine)\nres_q2a",
    "id": "43e58166b09c43248ac101813c0437a3",
    "idx": 50,
    "time": "2021-02-05T07:41:22.819Z",
    "type": "execution"
   },
   {
    "id": "43e58166b09c43248ac101813c0437a3",
    "time": "2021-02-05T07:41:23.230Z",
    "type": "completion"
   },
   {
    "code": "query_q2b='''\nSELECT ..., ...\nFROM cand c1 ... JOIN comm c2 ON ...\n...\n...\n'''\n\n# BEGIN SOLUTION NO PROMPT\nquery_q2b='''\nSELECT c1.cand_name, c2.cmte_nm\nFROM cand c1 INNER JOIN comm c2 ON c1.cand_id = c2.cand_id\nORDER BY c1.cand_name DESC\nLIMIT 5\n'''\n# END SOLUTION\n\nres_q2b = pd.read_sql(query_q2b, engine)\nres_q2b",
    "id": "bcb5b433f4d84155b3cca0d55d2ce01d",
    "idx": 55,
    "time": "2021-02-05T07:42:47.883Z",
    "type": "execution"
   },
   {
    "id": "bcb5b433f4d84155b3cca0d55d2ce01d",
    "time": "2021-02-05T07:42:48.015Z",
    "type": "completion"
   },
   {
    "code": "query_q2b='''\nSELECT ..., ...\nFROM cand c1 ... JOIN comm c2 ON ...\n...\n...\n'''\n\n# BEGIN SOLUTION NO PROMPT\nquery_q2b='''\nSELECT c1.cand_name, c2.cmte_nm\nFROM cand c1 INNER JOIN comm c2 ON c1.cand_id = c2.cand_id\nORDER BY c1.cand_name DESC\nLIMIT 5\n'''\n\nquery_q2b='''\nSELECT cand.cand_name, comm.cmte_nm\nFROM cand INNER JOIN comm ON cand.cand_id = comm.cand_id\nORDER BY cand.cand_name DESC\nLIMIT 5\n'''\n# END SOLUTION\n\nres_q2b = pd.read_sql(query_q2b, engine)\nres_q2b",
    "id": "bcb5b433f4d84155b3cca0d55d2ce01d",
    "idx": 55,
    "time": "2021-02-05T07:43:22.127Z",
    "type": "execution"
   },
   {
    "id": "bcb5b433f4d84155b3cca0d55d2ce01d",
    "time": "2021-02-05T07:43:22.264Z",
    "type": "completion"
   },
   {
    "code": "# TEST\nres_q2b.shape == (5, 2)",
    "id": "2474e73d17da476d952959f1b6086dcc",
    "idx": 56,
    "time": "2021-02-05T07:43:26.071Z",
    "type": "execution"
   },
   {
    "id": "2474e73d17da476d952959f1b6086dcc",
    "time": "2021-02-05T07:43:26.141Z",
    "type": "completion"
   },
   {
    "code": "# TEST\nall(res_q2b == res_q2b.sort_values('cand_name', ascending=False))",
    "id": "3352a273c0884ff8863bc3cc8a607af6",
    "idx": 57,
    "time": "2021-02-05T07:43:27.555Z",
    "type": "execution"
   },
   {
    "id": "3352a273c0884ff8863bc3cc8a607af6",
    "time": "2021-02-05T07:43:27.629Z",
    "type": "completion"
   },
   {
    "code": "# TEST\nsorted(res_q2b['cmte_nm'].unique()) == ['CITIZENS TO ELECT DANIEL P ZUTLER FOR PRESIDENT', 'CONSTITUTIONAL COMMITTEE', 'JOE ZUCCOLO FOR CONGRESS', 'ZUKOWSKI FOR CONGRESS', 'ZUMWALT FOR CONGRESS']",
    "id": "473d89e815e044128a9543477648e813",
    "idx": 58,
    "time": "2021-02-05T07:43:29.099Z",
    "type": "execution"
   },
   {
    "id": "473d89e815e044128a9543477648e813",
    "time": "2021-02-05T07:43:29.170Z",
    "type": "completion"
   },
   {
    "code": "query_q2b='''\nSELECT ..., ...\nFROM cand c1 ... JOIN comm c2 ON ...\n...\n...\n'''\n\n# BEGIN SOLUTION NO PROMPT\n# Solution 1\nquery_q2b='''\nSELECT c1.cand_name, c2.cmte_nm\nFROM cand c1 INNER JOIN comm c2 ON c1.cand_id = c2.cand_id\nORDER BY c1.cand_name DESC\nLIMIT 5\n'''\n\n# Solution 2\nquery_q2b='''\nSELECT cand.cand_name, comm.cmte_nm\nFROM cand INNER JOIN comm ON cand.cand_id = comm.cand_id\nORDER BY cand.cand_name DESC\nLIMIT 5\n'''\n# END SOLUTION\n\nres_q2b = pd.read_sql(query_q2b, engine)\nres_q2b",
    "id": "bcb5b433f4d84155b3cca0d55d2ce01d",
    "idx": 55,
    "time": "2021-02-05T07:43:41.285Z",
    "type": "execution"
   },
   {
    "id": "bcb5b433f4d84155b3cca0d55d2ce01d",
    "time": "2021-02-05T07:43:41.420Z",
    "type": "completion"
   },
   {
    "code": "query_q2c='''\nSELECT ..., ...\nFROM cand c1 ... JOIN comm c2 ON ...\n...\n...\n'''\n\n# BEGIN SOLUTION NO PROMPT\nquery_q2c='''\nSELECT c1.cand_name, c2.cmte_nm\nFROM cand c1 LEFT OUTER JOIN comm c2 ON c1.cand_id = c2.cand_id\nORDER BY c1.cand_name DESC\nLIMIT 5\n'''\n# just change \"INNER JOIN\" to \"LEFT OUTER JOIN\"\n# END SOLUTION\n\nres_q2c = pd.read_sql(query_q2c, engine)\nres_q2c",
    "id": "559792efbc1e46d2a9498461fbc1917e",
    "idx": 60,
    "time": "2021-02-05T07:45:23.221Z",
    "type": "execution"
   },
   {
    "id": "559792efbc1e46d2a9498461fbc1917e",
    "time": "2021-02-05T07:45:23.346Z",
    "type": "completion"
   },
   {
    "code": "# TEST\nres_q2c.shape == (5, 2)",
    "id": "1f3734518e8748599419dccb878b0447",
    "idx": 61,
    "time": "2021-02-05T07:45:25.335Z",
    "type": "execution"
   },
   {
    "id": "1f3734518e8748599419dccb878b0447",
    "time": "2021-02-05T07:45:25.406Z",
    "type": "completion"
   },
   {
    "code": "# TEST\nall(res_q2c == res_q2c.sort_values('cand_name', ascending=False))",
    "id": "da593878d1994cab8fcbe5e06e6cc147",
    "idx": 62,
    "time": "2021-02-05T07:45:27.015Z",
    "type": "execution"
   },
   {
    "id": "da593878d1994cab8fcbe5e06e6cc147",
    "time": "2021-02-05T07:45:27.091Z",
    "type": "completion"
   },
   {
    "code": "# TEST\nsorted(map(str, res_q2c['cmte_nm'].unique())) == ['CITIZENS TO ELECT DANIEL P ZUTLER FOR PRESIDENT', 'JOE ZUCCOLO FOR CONGRESS', 'None', 'ZUKOWSKI FOR CONGRESS', 'ZUMWALT FOR CONGRESS']",
    "id": "f4df58c91daa4bee864d7adfd0a8b928",
    "idx": 63,
    "time": "2021-02-05T07:45:30.183Z",
    "type": "execution"
   },
   {
    "id": "f4df58c91daa4bee864d7adfd0a8b928",
    "time": "2021-02-05T07:45:30.253Z",
    "type": "completion"
   },
   {
    "code": "# Initialize Otter\nimport otter\ngrader = otter.Notebook(\"lab02.ipynb\")",
    "id": "d03117d2bb4e434b804570ed2f9eb1b2",
    "idx": 0,
    "time": "2021-02-10T00:22:20.809Z",
    "type": "execution"
   },
   {
    "id": "d03117d2bb4e434b804570ed2f9eb1b2",
    "time": "2021-02-10T00:22:22.062Z",
    "type": "completion"
   },
   {
    "code": "import pandas as pd\nimport sqlalchemy\nfrom ds100_utils import fetch_and_cache\nfrom pathlib import Path",
    "id": "6bd39d173dac433ea4e6a39bc0672cca",
    "idx": 3,
    "time": "2021-02-10T00:22:23.549Z",
    "type": "execution"
   },
   {
    "id": "6bd39d173dac433ea4e6a39bc0672cca",
    "time": "2021-02-10T00:22:23.747Z",
    "type": "completion"
   },
   {
    "code": "db_url = 'https://s3.amazonaws.com/berkeley-ds100/fec_nyc.sqlite'\ndb_filename = 'fec_nyc.db'\ndata_dir = Path('data')\nfetch_and_cache(db_url, db_filename, data_dir=data_dir)\ndb_path = data_dir / db_filename",
    "id": "8ebed6edf1db45ba8afcc60beaaedf19",
    "idx": 7,
    "time": "2021-02-10T00:22:25.934Z",
    "type": "execution"
   },
   {
    "id": "8ebed6edf1db45ba8afcc60beaaedf19",
    "time": "2021-02-10T00:22:29.803Z",
    "type": "completion"
   },
   {
    "code": "engine = sqlalchemy.create_engine(f\"sqlite:///{db_path}\")\nconnection = engine.connect()",
    "id": "e53e5540a4a944439a7c6b9648666d15",
    "idx": 9,
    "time": "2021-02-10T00:22:31.997Z",
    "type": "execution"
   },
   {
    "id": "e53e5540a4a944439a7c6b9648666d15",
    "time": "2021-02-10T00:22:32.174Z",
    "type": "completion"
   },
   {
    "code": "engine.table_names()",
    "id": "284a21affe5046af8131e7401c81603d",
    "idx": 11,
    "time": "2021-02-10T00:22:34.478Z",
    "type": "execution"
   },
   {
    "id": "284a21affe5046af8131e7401c81603d",
    "time": "2021-02-10T00:22:34.582Z",
    "type": "completion"
   },
   {
    "code": "for exp in connection.execute('SELECT sql FROM sqlite_master;'):\n    print(exp[0])",
    "id": "7a94c4f437e14f778a9df03285d85544",
    "idx": 13,
    "time": "2021-02-10T00:22:40.445Z",
    "type": "execution"
   },
   {
    "id": "7a94c4f437e14f778a9df03285d85544",
    "time": "2021-02-10T00:22:40.521Z",
    "type": "completion"
   },
   {
    "code": "# We use `LIMIT 5` to avoid loading a huge table.\n# Although our tables shouldn't get too large to display,\n# this is generally good practice when working in the\n# notebook environment.  Jupyter notebooks don't handle\n# very large outputs well.\nquery = \"\"\"\nSELECT * from indiv_sample_nyc LIMIT 5\n\"\"\"\npd.read_sql(query, engine)",
    "id": "b93faafd7c634f288a1c4924d7fd2fd8",
    "idx": 15,
    "time": "2021-02-10T00:22:45.278Z",
    "type": "execution"
   },
   {
    "id": "b93faafd7c634f288a1c4924d7fd2fd8",
    "time": "2021-02-10T00:22:45.428Z",
    "type": "completion"
   },
   {
    "code": "# We use `LIMIT 5` to avoid loading a huge table.\n# Although our tables shouldn't get too large to display,\n# this is generally good practice when working in the\n# notebook environment.  Jupyter notebooks don't handle\n# very large outputs well.\nquery = \"\"\"\nselect * from indiv_sample_nyc limit 5\n\"\"\"\npd.read_sql(query, engine)",
    "id": "ff398911ed32405d9fab0e3e2ccb9b04",
    "idx": 16,
    "time": "2021-02-10T00:22:56.040Z",
    "type": "execution"
   },
   {
    "id": "ff398911ed32405d9fab0e3e2ccb9b04",
    "time": "2021-02-10T00:22:56.166Z",
    "type": "completion"
   },
   {
    "code": "# We use `LIMIT 5` to avoid loading a huge table.\n# Although our tables shouldn't get too large to display,\n# this is generally good practice when working in the\n# notebook environment.  Jupyter notebooks don't handle\n# very large outputs well.\nquery = \"\"\"\nselect * \nfrom indiv_sample_nyc limit 5\n\"\"\"\npd.read_sql(query, engine)",
    "id": "ff398911ed32405d9fab0e3e2ccb9b04",
    "idx": 16,
    "time": "2021-02-10T00:23:02.804Z",
    "type": "execution"
   },
   {
    "id": "ff398911ed32405d9fab0e3e2ccb9b04",
    "time": "2021-02-10T00:23:02.926Z",
    "type": "completion"
   }
  ],
  "kernelspec": {
   "display_name": "Python 3",
   "language": "python",
   "name": "python3"
  },
  "language_info": {
   "codemirror_mode": {
    "name": "ipython",
    "version": 3
   },
   "file_extension": ".py",
   "mimetype": "text/x-python",
   "name": "python",
   "nbconvert_exporter": "python",
   "pygments_lexer": "ipython3",
   "version": "3.8.6"
  }
 },
 "nbformat": 4,
 "nbformat_minor": 4
}
