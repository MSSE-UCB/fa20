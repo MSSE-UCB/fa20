{
 "cells": [
  {
   "cell_type": "code",
   "execution_count": null,
   "metadata": {
    "deletable": false,
    "editable": false
   },
   "outputs": [],
   "source": [
    "# Initialize Otter\n",
    "import otter\n",
    "grader = otter.Notebook(\"lab03.ipynb\")"
   ]
  },
  {
   "cell_type": "markdown",
   "metadata": {
    "nbgrader": {
     "grade": false,
     "grade_id": "title-cell",
     "locked": true,
     "schema_version": 2,
     "solution": false
    }
   },
   "source": [
    "## Lab 3: Pandas Overview"
   ]
  },
  {
   "cell_type": "markdown",
   "metadata": {},
   "source": [
    "To receive credit for a lab, answer all questions correctly and submit before the deadline.\n",
    "\n",
    "**This lab is due Sunday, February 14th at 11:59 PM.**"
   ]
  },
  {
   "cell_type": "markdown",
   "metadata": {
    "nbgrader": {
     "grade": false,
     "grade_id": "outline-cell",
     "locked": true,
     "schema_version": 2,
     "solution": false
    }
   },
   "source": [
    "[Pandas](https://pandas.pydata.org/) is one of the most widely used Python libraries in data science. In this lab, you will learn commonly used data wrangling operations/tools in Pandas. We aim to give you familiarity with:\n",
    "\n",
    "* Creating dataframes\n",
    "* Slicing data frames (i.e. selecting rows and columns)\n",
    "* Filtering data (using boolean arrays)\n",
    "\n",
    "In this lab you are going to use several pandas methods, such as `drop` and `loc`. You may press `shift+tab` on the method parameters to see the documentation for that method. If you are familar with the `datascience` library used in Data 8, this [conversion notebook](https://github.com/data-8/materials-x19/blob/master/reference/Datascience%20to%20Pandas%20Conversion%20Notebook.ipynb) may serve as a useful guide.\n"
   ]
  },
  {
   "cell_type": "markdown",
   "metadata": {
    "nbgrader": {
     "grade": false,
     "grade_id": "cell-03ce8b2a12c5589d",
     "locked": true,
     "schema_version": 2,
     "solution": false
    }
   },
   "source": [
    "**Note**: The Pandas interface is notoriously confusing, and the documentation is not consistently great. Throughout the semester, you will have to search through Pandas documentation and experiment, but remember it is part of the learning experience and will help shape you as a data scientist!"
   ]
  },
  {
   "cell_type": "code",
   "execution_count": 1,
   "metadata": {
    "nbgrader": {
     "grade": false,
     "grade_id": "imports",
     "locked": true,
     "schema_version": 2,
     "solution": false
    },
    "scrolled": true
   },
   "outputs": [],
   "source": [
    "import numpy as np\n",
    "import matplotlib.pyplot as plt\n",
    "import pandas as pd\n",
    "%matplotlib inline"
   ]
  },
  {
   "cell_type": "markdown",
   "metadata": {
    "nbgrader": {
     "grade": false,
     "grade_id": "basic_intro",
     "locked": true,
     "schema_version": 2,
     "solution": false
    }
   },
   "source": [
    "## Creating DataFrames & Basic Manipulations\n",
    "\n",
    "A [dataframe](http://pandas.pydata.org/pandas-docs/stable/dsintro.html#dataframe) is a table in which each column has a type; there is an index over the columns (typically string labels) and an index over the rows (typically ordinal numbers).\n",
    "\n",
    "The [docs](https://pandas.pydata.org/pandas-docs/stable/generated/pandas.DataFrame.html) for the pandas `DataFrame` class  provide at least two syntaxes to create a data frame."
   ]
  },
  {
   "cell_type": "markdown",
   "metadata": {
    "nbgrader": {
     "grade": false,
     "grade_id": "basic_method1",
     "locked": true,
     "schema_version": 2,
     "solution": false
    }
   },
   "source": [
    "**Syntax 1: ** You can create a data frame by specifying the columns and values using a dictionary as shown below. \n",
    "\n",
    "The keys of the dictionary are the column names, and the values of the dictionary are lists containing the row entries."
   ]
  },
  {
   "cell_type": "code",
   "execution_count": 2,
   "metadata": {
    "nbgrader": {
     "grade": false,
     "grade_id": "basic_method1_code",
     "locked": true,
     "schema_version": 2,
     "solution": false
    }
   },
   "outputs": [],
   "source": [
    "fruit_info = pd.DataFrame(\n",
    "    data={'fruit': ['apple', 'orange', 'banana', 'raspberry'],\n",
    "          'color': ['red', 'orange', 'yellow', 'pink']\n",
    "          })\n",
    "fruit_info"
   ]
  },
  {
   "cell_type": "markdown",
   "metadata": {
    "nbgrader": {
     "grade": false,
     "grade_id": "basic_method2",
     "locked": true,
     "schema_version": 2,
     "solution": false
    }
   },
   "source": [
    "**Syntax 2: ** You can also define a dataframe by specifying the rows like below. \n",
    "\n",
    "Each row corresponds to a distinct tuple, and the columns are specified separately."
   ]
  },
  {
   "cell_type": "code",
   "execution_count": 3,
   "metadata": {
    "nbgrader": {
     "grade": false,
     "grade_id": "basic_method2_code",
     "locked": true,
     "schema_version": 2,
     "solution": false
    }
   },
   "outputs": [],
   "source": [
    "fruit_info2 = pd.DataFrame(\n",
    "    [(\"red\", \"apple\"), (\"orange\", \"orange\"), (\"yellow\", \"banana\"),\n",
    "     (\"pink\", \"raspberry\")], \n",
    "    columns = [\"color\", \"fruit\"])\n",
    "fruit_info2"
   ]
  },
  {
   "cell_type": "markdown",
   "metadata": {
    "nbgrader": {
     "grade": false,
     "grade_id": "basic_shape",
     "locked": true,
     "schema_version": 2,
     "solution": false
    }
   },
   "source": [
    "You can obtain the dimensions of a dataframe by using the shape attribute `dataframe.shape`."
   ]
  },
  {
   "cell_type": "code",
   "execution_count": 4,
   "metadata": {
    "nbgrader": {
     "grade": false,
     "grade_id": "basic_shape_code",
     "locked": true,
     "schema_version": 2,
     "solution": false
    }
   },
   "outputs": [],
   "source": [
    "fruit_info.shape"
   ]
  },
  {
   "cell_type": "markdown",
   "metadata": {},
   "source": [
    "You can also convert the entire dataframe into a two-dimensional numpy array."
   ]
  },
  {
   "cell_type": "code",
   "execution_count": 5,
   "metadata": {},
   "outputs": [],
   "source": [
    "fruit_info.values"
   ]
  },
  {
   "cell_type": "markdown",
   "metadata": {
    "deletable": false,
    "editable": false,
    "nbgrader": {
     "grade": false,
     "grade_id": "q1",
     "locked": true,
     "schema_version": 2,
     "solution": false
    }
   },
   "source": [
    "### Question 1(a)\n",
    "\n",
    "For a DataFrame `d`, you can add a column with `d['new column name'] = ...` and assign a list or array of values to the column. Add a column of integers containing 1, 2, 3, and 4 called `rank1` to the `fruit_info` table which expresses your personal preference about the taste ordering for each fruit (1 is tastiest; 4 is least tasty). \n",
    "\n",
    "<!--\n",
    "BEGIN QUESTION\n",
    "name: q1a\n",
    "-->"
   ]
  },
  {
   "cell_type": "code",
   "execution_count": 7,
   "metadata": {
    "nbgrader": {
     "grade": false,
     "grade_id": "q1_answer",
     "locked": false,
     "schema_version": 2,
     "solution": true
    },
    "tags": [
     "solution"
    ]
   },
   "outputs": [],
   "source": [
    "...\n",
    "fruit_info"
   ]
  },
  {
   "cell_type": "code",
   "execution_count": null,
   "metadata": {
    "deletable": false,
    "editable": false
   },
   "outputs": [],
   "source": [
    "grader.check(\"q1a\")"
   ]
  },
  {
   "cell_type": "markdown",
   "metadata": {
    "deletable": false,
    "editable": false
   },
   "source": [
    "### Question 1(b)\n",
    "\n",
    "You can also add a column to `d` with `d.loc[:, 'new column name'] = ...`. As discussed in lecture, the first parameter is for the rows and second is for columns. The `:` means change all rows and the `new column name` indicates the column you are modifying (or in this case, adding). \n",
    "\n",
    "Add a column called `rank2` to the `fruit_info` table which contains the same values in the same order as the `rank1` column, using `.loc` functionality.\n",
    "\n",
    "<!--\n",
    "BEGIN QUESTION\n",
    "name: q1b\n",
    "-->"
   ]
  },
  {
   "cell_type": "code",
   "execution_count": 10,
   "metadata": {
    "nbgrader": {
     "grade": false,
     "grade_id": "cell-ef625b2f6154e9b2",
     "locked": false,
     "schema_version": 2,
     "solution": true
    }
   },
   "outputs": [],
   "source": [
    "...\n",
    "fruit_info"
   ]
  },
  {
   "cell_type": "code",
   "execution_count": null,
   "metadata": {
    "deletable": false,
    "editable": false
   },
   "outputs": [],
   "source": [
    "grader.check(\"q1b\")"
   ]
  },
  {
   "cell_type": "markdown",
   "metadata": {
    "deletable": false,
    "editable": false,
    "nbgrader": {
     "grade": false,
     "grade_id": "q2",
     "locked": true,
     "schema_version": 2,
     "solution": false
    }
   },
   "source": [
    "### Question 2\n",
    "\n",
    "Use the `.drop()` method to [drop](https://pandas.pydata.org/pandas-docs/stable/generated/pandas.DataFrame.drop.html) both the `rank1` and `rank2` columns you created. (Make sure to use the `axis` parameter correctly.) Note that `drop` does not change a table, but instead returns a new table with fewer columns or rows unless you set the optional `inplace` parameter.\n",
    "\n",
    "*Hint*: Look through the documentation to see how you can drop multiple columns of a Pandas dataframe at once using a list of column names.\n",
    "\n",
    "<!--\n",
    "BEGIN QUESTION\n",
    "name: q2\n",
    "-->"
   ]
  },
  {
   "cell_type": "code",
   "execution_count": 13,
   "metadata": {
    "nbgrader": {
     "grade": false,
     "grade_id": "q2_answer",
     "locked": false,
     "schema_version": 2,
     "solution": true
    },
    "tags": [
     "solution"
    ]
   },
   "outputs": [],
   "source": [
    "fruit_info_original = ...\n",
    "fruit_info_original"
   ]
  },
  {
   "cell_type": "code",
   "execution_count": null,
   "metadata": {
    "deletable": false,
    "editable": false
   },
   "outputs": [],
   "source": [
    "grader.check(\"q2\")"
   ]
  },
  {
   "cell_type": "markdown",
   "metadata": {
    "deletable": false,
    "editable": false,
    "nbgrader": {
     "grade": false,
     "grade_id": "q3",
     "locked": true,
     "schema_version": 2,
     "solution": false
    }
   },
   "source": [
    "### Question 3\n",
    "\n",
    "Use the `.rename()` method to [rename](https://pandas.pydata.org/pandas-docs/stable/generated/pandas.DataFrame.rename.html) the columns of `fruit_info_original` so they begin with capital letters. Set this new dataframe to `fruit_info_caps`.\n",
    "<!--\n",
    "BEGIN QUESTION\n",
    "name: q3\n",
    "-->"
   ]
  },
  {
   "cell_type": "code",
   "execution_count": 17,
   "metadata": {
    "nbgrader": {
     "grade": false,
     "grade_id": "q3_answer",
     "locked": false,
     "schema_version": 2,
     "solution": true
    },
    "tags": [
     "solution"
    ]
   },
   "outputs": [],
   "source": [
    "...\n",
    "fruit_info_caps"
   ]
  },
  {
   "cell_type": "code",
   "execution_count": null,
   "metadata": {
    "deletable": false,
    "editable": false
   },
   "outputs": [],
   "source": [
    "grader.check(\"q3\")"
   ]
  },
  {
   "cell_type": "markdown",
   "metadata": {
    "nbgrader": {
     "grade": false,
     "grade_id": "babyname_dataset",
     "locked": true,
     "schema_version": 2,
     "solution": false
    }
   },
   "source": [
    "### Babyname dataset\n",
    "Now that we have learned the basics, let's move on to the babynames dataset. The babynames dataset contains a record of the given names of babies born in the United States each year.\n",
    "\n",
    "First let's run the following cells to build the dataframe `baby_names`.\n",
    "The cells below download the data from the web and extract the data into a dataframe. There should be a total of 6028151 records."
   ]
  },
  {
   "cell_type": "markdown",
   "metadata": {
    "nbgrader": {
     "grade": false,
     "grade_id": "fetch_and_cache",
     "locked": true,
     "schema_version": 2,
     "solution": false
    }
   },
   "source": [
    "### `fetch_and_cache` Helper\n",
    "\n",
    "The following function downloads and caches data in the `data/` directory and returns the `Path` to the downloaded file. The cell below the function describes how it works. "
   ]
  },
  {
   "cell_type": "code",
   "execution_count": 20,
   "metadata": {
    "nbgrader": {
     "grade": false,
     "grade_id": "fetch_and_cache_code",
     "locked": true,
     "schema_version": 2,
     "solution": false
    }
   },
   "outputs": [],
   "source": [
    "import requests\n",
    "from pathlib import Path\n",
    "\n",
    "def fetch_and_cache(data_url, file, data_dir=\"data\", force=False):\n",
    "    \"\"\"\n",
    "    Download and cache a url and return the file object.\n",
    "    \n",
    "    data_url: the web address to download\n",
    "    file: the file in which to save the results.\n",
    "    data_dir: (default=\"data\") the location to save the data\n",
    "    force: if true the file is always re-downloaded \n",
    "    \n",
    "    return: The pathlib.Path to the file.\n",
    "    \"\"\"\n",
    "    data_dir = Path(data_dir)\n",
    "    data_dir.mkdir(exist_ok=True)\n",
    "    file_path = data_dir/Path(file)\n",
    "    if force and file_path.exists():\n",
    "        file_path.unlink()\n",
    "    if force or not file_path.exists():\n",
    "        print('Downloading...', end=' ')\n",
    "        resp = requests.get(data_url)\n",
    "        with file_path.open('wb') as f:\n",
    "            f.write(resp.content)\n",
    "        print('Done!')\n",
    "    else:\n",
    "        import time \n",
    "        created = time.ctime(file_path.stat().st_ctime)\n",
    "        print(\"Using cached version downloaded at\", created)\n",
    "    return file_path"
   ]
  },
  {
   "cell_type": "markdown",
   "metadata": {
    "nbgrader": {
     "grade": false,
     "grade_id": "cell-18d54d536c23da04",
     "locked": true,
     "schema_version": 2,
     "solution": false
    }
   },
   "source": [
    "In Python, a `Path` object represents the filesystem paths to files (and other resources). The `pathlib` module is effective for writing code that works on different operating systems and filesystems. \n",
    "\n",
    "To check if a file exists at a path, use `.exists()`. To create a directory for a path, use `.mkdir()`. To remove a file that might be a [symbolic link](https://en.wikipedia.org/wiki/Symbolic_link), use `.unlink()`. \n",
    "\n",
    "This function creates a path to a directory that will contain data files. It ensures that the directory exists (which is required to write files in that directory), then proceeds to download the file based on its URL.\n",
    "\n",
    "The benefit of this function is that not only can you force when you want a new file to be downloaded using the `force` parameter, but in cases when you don't need the file to be re-downloaded, you can use the cached version and save download time."
   ]
  },
  {
   "cell_type": "markdown",
   "metadata": {
    "nbgrader": {
     "grade": false,
     "grade_id": "download_data",
     "locked": true,
     "schema_version": 2,
     "solution": false
    }
   },
   "source": [
    "Below we use `fetch_and_cache` to download the `namesbystate.zip` zip file, which is a compressed directory of CSV files. \n",
    "\n",
    "**This might take a little while! Consider stretching.**"
   ]
  },
  {
   "cell_type": "code",
   "execution_count": 21,
   "metadata": {
    "nbgrader": {
     "grade": false,
     "grade_id": "download_data_code",
     "locked": true,
     "schema_version": 2,
     "solution": false
    }
   },
   "outputs": [],
   "source": [
    "data_url = 'https://www.ssa.gov/oact/babynames/state/namesbystate.zip'\n",
    "namesbystate_path = fetch_and_cache(data_url, 'namesbystate.zip')"
   ]
  },
  {
   "cell_type": "markdown",
   "metadata": {},
   "source": [
    "*Optional Hacking Challenge:* Use the `zipfile` module, `pd.read_csv`, and `pd.concat` to build a single dateframe called `baby_names` containing all of the data from each state with the `column_labels` below. A `ZipFile` object has an attribute `filelist` and a method `open`. Each `.TXT` file inside `namesbystate.zip` is a CSV file for the names of babies born in one state.\n",
    "\n",
    "This task is pretty tricky, especially if you haven't taken 61A. Feel free to scroll down and use the cell where we've done it for you."
   ]
  },
  {
   "cell_type": "code",
   "execution_count": 21,
   "metadata": {},
   "outputs": [],
   "source": [
    "import zipfile\n",
    "zf = zipfile.ZipFile(namesbystate_path, 'r')\n",
    "\n",
    "column_labels = ['State', 'Sex', 'Year', 'Name', 'Count']\n",
    "\n",
    "..."
   ]
  },
  {
   "cell_type": "markdown",
   "metadata": {
    "nbgrader": {
     "grade": false,
     "grade_id": "build_df",
     "locked": true,
     "schema_version": 2,
     "solution": false
    }
   },
   "source": [
    "The following cell builds the final full `baby_names` DataFrame. It first builds one dataframe per state, because that's how the data are stored in the zip file. Here is documentation for [pd.concat](https://pandas.pydata.org/pandas-docs/version/0.22/generated/pandas.concat.html) if you want to know more about its functionality. "
   ]
  },
  {
   "cell_type": "code",
   "execution_count": 22,
   "metadata": {
    "nbgrader": {
     "grade": false,
     "grade_id": "build_df_code",
     "locked": true,
     "schema_version": 2,
     "solution": false
    }
   },
   "outputs": [],
   "source": [
    "import zipfile\n",
    "zf = zipfile.ZipFile(namesbystate_path, 'r')\n",
    "\n",
    "column_labels = ['State', 'Sex', 'Year', 'Name', 'Count']\n",
    "\n",
    "def load_dataframe_from_zip(zf, f):\n",
    "    with zf.open(f) as fh: \n",
    "        return pd.read_csv(fh, header=None, names=column_labels)\n",
    "\n",
    "states = [\n",
    "    load_dataframe_from_zip(zf, f)\n",
    "    for f in sorted(zf.filelist, key=lambda x:x.filename) \n",
    "    if f.filename.endswith('.TXT')\n",
    "]\n",
    "\n",
    "baby_names = states[0]\n",
    "for state_df in states[1:]:\n",
    "    baby_names = pd.concat([baby_names, state_df])\n",
    "baby_names = baby_names.reset_index().iloc[:, 1:]"
   ]
  },
  {
   "cell_type": "code",
   "execution_count": 23,
   "metadata": {
    "nbgrader": {
     "grade": false,
     "grade_id": "build_df_check_len",
     "locked": true,
     "schema_version": 2,
     "solution": false
    }
   },
   "outputs": [],
   "source": [
    "len(baby_names)"
   ]
  },
  {
   "cell_type": "code",
   "execution_count": 24,
   "metadata": {},
   "outputs": [],
   "source": [
    "baby_names.head()"
   ]
  },
  {
   "cell_type": "markdown",
   "metadata": {
    "nbgrader": {
     "grade": false,
     "grade_id": "slicing",
     "locked": true,
     "schema_version": 2,
     "solution": false
    }
   },
   "source": [
    "## Slicing Data Frames - selecting rows and columns\n"
   ]
  },
  {
   "cell_type": "markdown",
   "metadata": {
    "nbgrader": {
     "grade": false,
     "grade_id": "slicing_text",
     "locked": true,
     "schema_version": 2,
     "solution": false
    }
   },
   "source": [
    "### Selection Using Label/Index (using loc)\n",
    "\n",
    "**Column Selection** \n",
    "\n",
    "To select a column of a `DataFrame` by column label, the safest and fastest way is to use the `.loc` [method](https://pandas.pydata.org/pandas-docs/stable/generated/pandas.DataFrame.loc.html). General usage of `.loc` looks like `df.loc[rowname, colname]`. (Reminder that the colon `:` means \"everything.\")  For example, if we want the `color` column of the `ex` data frame, we would use: `ex.loc[:, 'color']`\n",
    "\n",
    "- You can also slice across columns. For example, `baby_names.loc[:, 'Name':]` would select the column `Name` and all columns after `Name`.\n",
    "\n",
    "- *Alternative:* While `.loc` is invaluable when writing production code, it may be a little too verbose for interactive use. One recommended alternative is the `[]` method, which takes on the form `df['colname']`.\n",
    "\n",
    "**Row Selection**\n",
    "\n",
    "Similarly, if we want to select a row by its label, we can use the same `.loc` method. In this case, the \"label\" of each row refers to the index (ie. primary key) of the dataframe."
   ]
  },
  {
   "cell_type": "code",
   "execution_count": 26,
   "metadata": {
    "nbgrader": {
     "grade": false,
     "grade_id": "slicing_e1",
     "locked": true,
     "schema_version": 2,
     "solution": false
    }
   },
   "outputs": [],
   "source": [
    "#Example:\n",
    "baby_names.loc[2:5, 'Name']"
   ]
  },
  {
   "cell_type": "code",
   "execution_count": 27,
   "metadata": {
    "nbgrader": {
     "grade": false,
     "grade_id": "slicing_e2",
     "locked": true,
     "schema_version": 2,
     "solution": false
    }
   },
   "outputs": [],
   "source": [
    "#Example:  Notice the difference between these two methods\n",
    "#Just passing in 'Name' returns a Series while ['Name'] returns a Dataframe\n",
    "baby_names.loc[2:5, ['Name']]"
   ]
  },
  {
   "cell_type": "markdown",
   "metadata": {
    "nbgrader": {
     "grade": false,
     "grade_id": "slicing_loc_iloc",
     "locked": true,
     "schema_version": 2,
     "solution": false
    }
   },
   "source": [
    "The `.loc` actually uses the Pandas row index rather than row id/position of rows in the dataframe to perform the selection. Also, notice that if you write `2:5` with `loc[]`, contrary to normal Python slicing functionality, the end index is included, so you get the row with index 5. \n"
   ]
  },
  {
   "cell_type": "markdown",
   "metadata": {},
   "source": [
    "### Selection using Integer location (using iloc)"
   ]
  },
  {
   "cell_type": "markdown",
   "metadata": {
    "nbgrader": {
     "grade": false,
     "grade_id": "cell-463dfc0b4ae2e39d",
     "locked": true,
     "schema_version": 2,
     "solution": false
    }
   },
   "source": [
    "In lecture we discussed another pandas feature `iloc[]` which lets you slice the dataframe by row position and column position instead of by row index and column label (which is the case for `loc[]`). This is really the main difference between the 2 functions and it is **important** that you remember the difference and why you might want to use one over the other. In addition, with `iloc[]`, the end index is NOT included, like with normal Python slicing.\n",
    "\n",
    "As a mnemonic, remember that the i in `iloc` means \"integer\". \n",
    "\n",
    "Below, we have sorted the `baby_names` dataframe. Notice how the *position* of a row is not necessarily equal to the *index* of a row. For example, the first row is not necessarily the row associated with index 1. This distinction is important in understanding the different between `loc[]` and `iloc[]`."
   ]
  },
  {
   "cell_type": "code",
   "execution_count": 28,
   "metadata": {},
   "outputs": [],
   "source": [
    "sorted_baby_names = baby_names.sort_values(by=['Name'])\n",
    "sorted_baby_names.head()"
   ]
  },
  {
   "cell_type": "markdown",
   "metadata": {},
   "source": [
    "Here is an example of how we would get the 2nd, 3rd, and 4th rows with only the `Name` column of the `baby_names` dataframe using both `iloc[]` and `loc[]`. Observe the difference, especially after sorting `baby_names` by name."
   ]
  },
  {
   "cell_type": "code",
   "execution_count": 29,
   "metadata": {
    "nbgrader": {
     "grade": false,
     "grade_id": "cell-1292533181dbd2eb",
     "locked": true,
     "schema_version": 2,
     "solution": false
    }
   },
   "outputs": [],
   "source": [
    "sorted_baby_names.iloc[1:4, 3]"
   ]
  },
  {
   "cell_type": "markdown",
   "metadata": {},
   "source": [
    "Notice that using `loc[]` with 1:4 gives different results, since it selects using the *index*."
   ]
  },
  {
   "cell_type": "code",
   "execution_count": 30,
   "metadata": {
    "nbgrader": {
     "grade": false,
     "grade_id": "cell-31c9d32586d65565",
     "locked": true,
     "schema_version": 2,
     "solution": false
    }
   },
   "outputs": [],
   "source": [
    "sorted_baby_names.loc[1:4, \"Name\"]"
   ]
  },
  {
   "cell_type": "markdown",
   "metadata": {
    "nbgrader": {
     "grade": false,
     "grade_id": "cell-17ca8e630cf2d4bd",
     "locked": true,
     "schema_version": 2,
     "solution": false
    }
   },
   "source": [
    "Lastly, we can change the index of a dataframe using the `set_index` method."
   ]
  },
  {
   "cell_type": "code",
   "execution_count": 31,
   "metadata": {
    "nbgrader": {
     "grade": false,
     "grade_id": "slicing_e3",
     "locked": true,
     "schema_version": 2,
     "solution": false
    }
   },
   "outputs": [],
   "source": [
    "#Example: We change the index from 0,1,2... to the Name column\n",
    "df = baby_names[:5].set_index(\"Name\") \n",
    "df"
   ]
  },
  {
   "cell_type": "markdown",
   "metadata": {
    "nbgrader": {
     "grade": false,
     "grade_id": "slicing_loc_index",
     "locked": true,
     "schema_version": 2,
     "solution": false
    }
   },
   "source": [
    "We can now lookup rows by name directly:"
   ]
  },
  {
   "cell_type": "code",
   "execution_count": 32,
   "metadata": {
    "nbgrader": {
     "grade": false,
     "grade_id": "slicing_loc_index_code",
     "locked": true,
     "schema_version": 2,
     "solution": false
    }
   },
   "outputs": [],
   "source": [
    "df.loc[['Mary', 'Anna'], :]"
   ]
  },
  {
   "cell_type": "markdown",
   "metadata": {
    "nbgrader": {
     "grade": false,
     "grade_id": "slicing_iloc",
     "locked": true,
     "schema_version": 2,
     "solution": false
    }
   },
   "source": [
    "However, if we still want to access rows by location we will need to use the integer loc (`iloc`) accessor:"
   ]
  },
  {
   "cell_type": "code",
   "execution_count": 33,
   "metadata": {
    "nbgrader": {
     "grade": false,
     "grade_id": "slicing_iloc_code",
     "locked": true,
     "schema_version": 2,
     "solution": false
    }
   },
   "outputs": [],
   "source": [
    "#Example: \n",
    "#df.loc[2:5,\"Year\"] You can't do this\n",
    "df.iloc[1:4, 2:3]"
   ]
  },
  {
   "cell_type": "markdown",
   "metadata": {
    "deletable": false,
    "editable": false,
    "nbgrader": {
     "grade": false,
     "grade_id": "q4",
     "locked": true,
     "schema_version": 2,
     "solution": false
    }
   },
   "source": [
    "### Question 4\n",
    "\n",
    "Selecting multiple columns is easy.  You just need to supply a list of column names.  Select the `Name` and `Year` **in that order** from the `baby_names` table.\n",
    "\n",
    "<!--\n",
    "BEGIN QUESTION\n",
    "name: q4\n",
    "-->"
   ]
  },
  {
   "cell_type": "code",
   "execution_count": 34,
   "metadata": {
    "nbgrader": {
     "grade": false,
     "grade_id": "q4_answer",
     "locked": false,
     "schema_version": 2,
     "solution": true
    }
   },
   "outputs": [],
   "source": [
    "name_and_year = ...\n",
    "name_and_year[:5]"
   ]
  },
  {
   "cell_type": "code",
   "execution_count": null,
   "metadata": {
    "deletable": false,
    "editable": false
   },
   "outputs": [],
   "source": [
    "grader.check(\"q4\")"
   ]
  },
  {
   "cell_type": "markdown",
   "metadata": {
    "nbgrader": {
     "grade": false,
     "grade_id": "q4_hint",
     "locked": true,
     "schema_version": 2,
     "solution": false
    }
   },
   "source": [
    "Note that `.loc[]` can be used to re-order the columns within a dataframe."
   ]
  },
  {
   "cell_type": "markdown",
   "metadata": {
    "nbgrader": {
     "grade": false,
     "grade_id": "filter_data",
     "locked": true,
     "schema_version": 2,
     "solution": false
    }
   },
   "source": [
    "## Filtering Data"
   ]
  },
  {
   "cell_type": "markdown",
   "metadata": {
    "nbgrader": {
     "grade": false,
     "grade_id": "filter_data_op",
     "locked": true,
     "schema_version": 2,
     "solution": false
    }
   },
   "source": [
    "### Filtering with boolean arrays\n",
    "\n",
    "Filtering is the process of removing unwanted material.  In your quest for cleaner data, you will undoubtedly filter your data at some point: whether it be for clearing up cases with missing values, for culling out fishy outliers, or for analyzing subgroups of your data set.  Note that compound expressions have to be grouped with parentheses. Example usage looks like `df[df['column name'] < 5]`.\n",
    "\n",
    "For your reference, some commonly used comparison operators are given below.\n",
    "\n",
    "Symbol | Usage      | Meaning \n",
    "------ | ---------- | -------------------------------------\n",
    "==   | a == b   | Does a equal b?\n",
    "<=   | a <= b   | Is a less than or equal to b?\n",
    ">=   | a >= b   | Is a greater than or equal to b?\n",
    "<    | a < b    | Is a less than b?\n",
    "&#62;    | a &#62; b    | Is a greater than b?\n",
    "~    | ~p       | Returns negation of p\n",
    "&#124; | p &#124; q | p OR q\n",
    "&    | p & q    | p AND q\n",
    "^  | p ^ q | p XOR q (exclusive or)"
   ]
  },
  {
   "cell_type": "markdown",
   "metadata": {
    "nbgrader": {
     "grade": false,
     "grade_id": "filter_ca",
     "locked": true,
     "schema_version": 2,
     "solution": false
    }
   },
   "source": [
    "In the following we construct the DataFrame containing only names registered in California"
   ]
  },
  {
   "cell_type": "code",
   "execution_count": 38,
   "metadata": {
    "nbgrader": {
     "grade": false,
     "grade_id": "filter_ca_code",
     "locked": true,
     "schema_version": 2,
     "solution": false
    }
   },
   "outputs": [],
   "source": [
    "ca = baby_names[baby_names['State'] == 'CA']"
   ]
  },
  {
   "cell_type": "markdown",
   "metadata": {
    "deletable": false,
    "editable": false,
    "nbgrader": {
     "grade": false,
     "grade_id": "q5a",
     "locked": true,
     "schema_version": 2,
     "solution": false
    }
   },
   "source": [
    "### Question 5\n",
    "Using a boolean array, select the names in Year 2000 (from `baby_names`) that have larger than 3000 counts. Keep all columns from the original `baby_names` dataframe.\n",
    "\n",
    "Note: Any time you use `p & q` to filter the dataframe, make sure to use `df[(df[p]) & (df[q])]` or `df.loc[(df[p]) & (df[q])]`. That is, make sure to wrap conditions with parentheses.\n",
    "\n",
    "**Remember** that both slicing and `loc` will achieve the same result, it is just that `loc` is typically faster in production. You are free to use whichever one you would like.\n",
    "\n",
    "<!--\n",
    "BEGIN QUESTION\n",
    "name: q5\n",
    "-->"
   ]
  },
  {
   "cell_type": "code",
   "execution_count": 39,
   "metadata": {
    "nbgrader": {
     "grade": false,
     "grade_id": "q5a_answer",
     "locked": false,
     "schema_version": 2,
     "solution": true
    }
   },
   "outputs": [],
   "source": [
    "result = ...\n",
    "result.head()"
   ]
  },
  {
   "cell_type": "code",
   "execution_count": null,
   "metadata": {
    "deletable": false,
    "editable": false
   },
   "outputs": [],
   "source": [
    "grader.check(\"q5\")"
   ]
  },
  {
   "cell_type": "markdown",
   "metadata": {},
   "source": [
    "Optionally, repeat the exercise from above, but this time using the `query` command from lecture."
   ]
  },
  {
   "cell_type": "code",
   "execution_count": 43,
   "metadata": {},
   "outputs": [],
   "source": [
    "result_using_query = ..."
   ]
  },
  {
   "cell_type": "markdown",
   "metadata": {},
   "source": [
    "### Question 6\n",
    "\n",
    "Some names gain/lose popularity because of cultural phenomena such as a political figure coming to power. Below, we plot the popularity of the female name Hillary in Calfiornia over time. What do you notice about this plot? What might be the cause of the steep drop?"
   ]
  },
  {
   "cell_type": "code",
   "execution_count": 44,
   "metadata": {},
   "outputs": [],
   "source": [
    "hillary_baby_name = baby_names[(baby_names['Name'] == 'Hillary') & (baby_names['State'] == 'CA') & (baby_names['Sex'] == 'F')]\n",
    "plt.plot(hillary_baby_name['Year'], hillary_baby_name['Count'])\n",
    "plt.title(\"Hillary Popularity Over Time\")\n",
    "plt.xlabel('Year')\n",
    "plt.ylabel('Count');"
   ]
  },
  {
   "cell_type": "markdown",
   "metadata": {},
   "source": [
    "_Type your answer here, replacing this text._"
   ]
  },
  {
   "cell_type": "markdown",
   "metadata": {},
   "source": [
    "Optional: Below, we see code that aggregates across all 50 states. Try other names, including world leaders. \n",
    "\n",
    "For the curious: The syntax here is more advanced than before, but all of it was covered in Lecture 5, with the exception of `groupby`, `reset_index` and the usage of `@name_of_interest`. `groupby` is semantically equivalent to the `GROUP BY` operator in SQL. `reset_index` changes the index into a sequence of numbers from 0 to N - 1. `@name_of_interest` inside the query argument tells `query` to use the Python variable called `name_of_interest`. Advanced pandas syntax will be covered in Lecture 6. The title is generated using [Python f-strings](https://realpython.com/python-f-strings/)."
   ]
  },
  {
   "cell_type": "code",
   "execution_count": 45,
   "metadata": {},
   "outputs": [],
   "source": [
    "counts_aggregated_by_name_and_year = baby_names.groupby([\"Name\", \"Year\"])[\"Count\"].sum().reset_index()"
   ]
  },
  {
   "cell_type": "code",
   "execution_count": 57,
   "metadata": {},
   "outputs": [],
   "source": [
    "name_of_interest = 'Hillary'\n",
    "chosen_baby_name = counts_aggregated_by_name_and_year.query(\"Name == @name_of_interest\")\n",
    "plt.plot(chosen_baby_name['Year'], chosen_baby_name['Count'])\n",
    "plt.title(f\"Popularity Of {name_of_interest} Over Time\")\n",
    "plt.xlabel('Year')\n",
    "plt.ylabel('Count');"
   ]
  },
  {
   "cell_type": "markdown",
   "metadata": {
    "deletable": false,
    "editable": false
   },
   "source": [
    "---\n",
    "\n",
    "To double-check your work, the cell below will rerun all of the autograder tests."
   ]
  },
  {
   "cell_type": "code",
   "execution_count": null,
   "metadata": {
    "deletable": false,
    "editable": false
   },
   "outputs": [],
   "source": [
    "grader.check_all()"
   ]
  },
  {
   "cell_type": "markdown",
   "metadata": {
    "deletable": false,
    "editable": false
   },
   "source": [
    "## Submission\n",
    "\n",
    "Make sure you have run all cells in your notebook in order before running the cell below, so that all images/graphs appear in the output. The cell below will generate a zip file for you to submit. **Please save before exporting!**"
   ]
  },
  {
   "cell_type": "code",
   "execution_count": null,
   "metadata": {
    "deletable": false,
    "editable": false
   },
   "outputs": [],
   "source": [
    "# Save your notebook first, then run this cell to export your submission.\n",
    "grader.export(pdf=False)"
   ]
  },
  {
   "cell_type": "markdown",
   "metadata": {},
   "source": [
    " "
   ]
  }
 ],
 "metadata": {
  "anaconda-cloud": {},
  "celltoolbar": "Create Assignment",
  "history": [
   {
    "code": "import numpy as np\nimport matplotlib.pyplot as plt\nimport pandas as pd\n%matplotlib inline",
    "id": "88acf6bbb10d4f5f8a2ee747fa685059",
    "idx": 5,
    "time": "2021-02-06T01:35:58.570Z",
    "type": "execution"
   },
   {
    "id": "88acf6bbb10d4f5f8a2ee747fa685059",
    "time": "2021-02-06T01:35:59.287Z",
    "type": "completion"
   },
   {
    "code": "fruit_info = pd.DataFrame(\n    data={'fruit': ['apple', 'orange', 'banana', 'raspberry'],\n          'color': ['red', 'orange', 'yellow', 'pink']\n          })\nfruit_info",
    "id": "8b9fe34014bb4cb380d158b0a8ddd02b",
    "idx": 8,
    "time": "2021-02-06T01:36:23.287Z",
    "type": "execution"
   },
   {
    "id": "8b9fe34014bb4cb380d158b0a8ddd02b",
    "time": "2021-02-06T01:36:23.402Z",
    "type": "completion"
   },
   {
    "code": "fruit_info2 = pd.DataFrame(\n    [(\"red\", \"apple\"), (\"orange\", \"orange\"), (\"yellow\", \"banana\"),\n     (\"pink\", \"raspberry\")], \n    columns = [\"color\", \"fruit\"])\nfruit_info2",
    "id": "21b818fa2ab84e34906c08a835deec62",
    "idx": 10,
    "time": "2021-02-06T01:36:42.184Z",
    "type": "execution"
   },
   {
    "id": "21b818fa2ab84e34906c08a835deec62",
    "time": "2021-02-06T01:36:42.285Z",
    "type": "completion"
   },
   {
    "code": "fruit_info.shape",
    "id": "af4b01ff077443ffa0627797c21592bd",
    "idx": 12,
    "time": "2021-02-06T01:36:51.676Z",
    "type": "execution"
   },
   {
    "id": "af4b01ff077443ffa0627797c21592bd",
    "time": "2021-02-06T01:36:51.767Z",
    "type": "completion"
   },
   {
    "code": "fruit_info.values",
    "id": "18b296257319419599d33b42a6f053a1",
    "idx": 14,
    "time": "2021-02-06T01:36:59.690Z",
    "type": "execution"
   },
   {
    "id": "18b296257319419599d33b42a6f053a1",
    "time": "2021-02-06T01:36:59.788Z",
    "type": "completion"
   },
   {
    "code": "# BEGIN SOLUTION\nfruit_info[\"rank1\"] = [2, 1, 4, 3]\n# END SOLUTION\nfruit_info",
    "id": "93e7606d1f2040e1882c84a0a2596c89",
    "idx": 16,
    "time": "2021-02-06T01:37:34.127Z",
    "type": "execution"
   },
   {
    "id": "93e7606d1f2040e1882c84a0a2596c89",
    "time": "2021-02-06T01:37:34.214Z",
    "type": "completion"
   },
   {
    "code": "# BEGIN SOLUTION\nfruit_info[\"rank1\"] = [2, 1, 4, 3]\n# END SOLUTION\nfruit_info",
    "id": "93e7606d1f2040e1882c84a0a2596c89",
    "idx": 16,
    "time": "2021-02-06T01:38:08.769Z",
    "type": "execution"
   },
   {
    "id": "93e7606d1f2040e1882c84a0a2596c89",
    "time": "2021-02-06T01:38:08.875Z",
    "type": "completion"
   },
   {
    "code": "# TEST \nfruit_info[\"rank1\"].dtype",
    "id": "aff0c3df4d354395b903b70329175dfb",
    "idx": 17,
    "time": "2021-02-06T01:38:15.579Z",
    "type": "execution"
   },
   {
    "id": "aff0c3df4d354395b903b70329175dfb",
    "time": "2021-02-06T01:38:15.659Z",
    "type": "completion"
   },
   {
    "code": "# TEST\nsorted(fruit_info[\"rank1\"].dropna())",
    "id": "349264100c0741078838cfc5010095bd",
    "idx": 18,
    "time": "2021-02-06T01:38:17.374Z",
    "type": "execution"
   },
   {
    "id": "349264100c0741078838cfc5010095bd",
    "time": "2021-02-06T01:38:17.450Z",
    "type": "completion"
   },
   {
    "code": "# BEGIN SOLUTION\nfruit_info.loc[:, \"rank2\"] = [2, 1, 4, 3]\n# END SOLUTION\nfruit_info",
    "id": "b74b949181fc4f35882b27cd31cda91f",
    "idx": 20,
    "time": "2021-02-06T01:39:17.101Z",
    "type": "execution"
   },
   {
    "id": "b74b949181fc4f35882b27cd31cda91f",
    "time": "2021-02-06T01:39:17.182Z",
    "type": "completion"
   },
   {
    "code": "# TEST \nfruit_info[\"rank2\"].dtype",
    "id": "e526403a5f184a11b00ff245b9247089",
    "idx": 21,
    "time": "2021-02-06T01:39:19.472Z",
    "type": "execution"
   },
   {
    "id": "e526403a5f184a11b00ff245b9247089",
    "time": "2021-02-06T01:39:19.549Z",
    "type": "completion"
   },
   {
    "code": "# TEST\nfruit_info[\"rank2\"] == fruit_info[\"rank1\"]",
    "id": "786347b6971f49788860e2dfe7c3da89",
    "idx": 22,
    "time": "2021-02-06T01:39:22.320Z",
    "type": "execution"
   },
   {
    "id": "786347b6971f49788860e2dfe7c3da89",
    "time": "2021-02-06T01:39:22.401Z",
    "type": "completion"
   },
   {
    "code": "fruit_info_original = fruit_info.drop([\"rank1\", \"rank2\"], axis = 1) # SOLUTION\nfruit_info_original",
    "id": "93f2474161cb445e8ef1f8f2eddb1042",
    "idx": 24,
    "time": "2021-02-06T01:39:41.958Z",
    "type": "execution"
   },
   {
    "id": "93f2474161cb445e8ef1f8f2eddb1042",
    "time": "2021-02-06T01:39:42.051Z",
    "type": "completion"
   },
   {
    "code": "# TEST\nfruit_info_original.shape",
    "id": "6567441bc70445f08bd9c5cb0a6de3ae",
    "idx": 25,
    "time": "2021-02-06T01:39:44.689Z",
    "type": "execution"
   },
   {
    "id": "6567441bc70445f08bd9c5cb0a6de3ae",
    "time": "2021-02-06T01:39:44.773Z",
    "type": "completion"
   },
   {
    "code": "# TEST\nfruit_info.shape",
    "id": "234aa23418db4f0383ba52a41db3cfe7",
    "idx": 26,
    "time": "2021-02-06T01:39:48.768Z",
    "type": "execution"
   },
   {
    "id": "234aa23418db4f0383ba52a41db3cfe7",
    "time": "2021-02-06T01:39:48.839Z",
    "type": "completion"
   },
   {
    "code": "# TEST\nfruit_info_original.columns",
    "id": "45834134707b4e8ab534386197596d25",
    "idx": 27,
    "time": "2021-02-06T01:39:52.929Z",
    "type": "execution"
   },
   {
    "id": "45834134707b4e8ab534386197596d25",
    "time": "2021-02-06T01:39:53.218Z",
    "type": "completion"
   },
   {
    "code": "# BEGIN SOLUTION\nfruit_info_caps = fruit_info_original.rename(columns = {\"color\":\"Color\", \"fruit\":\"Fruit\"})\n# END SOLUTION\nfruit_info_caps",
    "id": "bb5583703b444050bc252cddaa0d4c4d",
    "idx": 29,
    "time": "2021-02-06T01:40:11.284Z",
    "type": "execution"
   },
   {
    "id": "bb5583703b444050bc252cddaa0d4c4d",
    "time": "2021-02-06T01:40:11.363Z",
    "type": "completion"
   },
   {
    "code": "# TEST\nfruit_info_caps.columns",
    "id": "a5524095fe2a45fd8a70e04774f29c11",
    "idx": 30,
    "time": "2021-02-06T01:40:16.336Z",
    "type": "execution"
   },
   {
    "id": "a5524095fe2a45fd8a70e04774f29c11",
    "time": "2021-02-06T01:40:16.414Z",
    "type": "completion"
   },
   {
    "code": "# TEST\nfruit_info.columns",
    "id": "9397b2bf8902480c8b3bd657e8a1dcec",
    "idx": 31,
    "time": "2021-02-06T01:40:18.734Z",
    "type": "execution"
   },
   {
    "id": "9397b2bf8902480c8b3bd657e8a1dcec",
    "time": "2021-02-06T01:40:18.857Z",
    "type": "completion"
   },
   {
    "code": "import requests\nfrom pathlib import Path\n\ndef fetch_and_cache(data_url, file, data_dir=\"data\", force=False):\n    \"\"\"\n    Download and cache a url and return the file object.\n    \n    data_url: the web address to download\n    file: the file in which to save the results.\n    data_dir: (default=\"data\") the location to save the data\n    force: if true the file is always re-downloaded \n    \n    return: The pathlib.Path to the file.\n    \"\"\"\n    data_dir = Path(data_dir)\n    data_dir.mkdir(exist_ok=True)\n    file_path = data_dir/Path(file)\n    if force and file_path.exists():\n        file_path.unlink()\n    if force or not file_path.exists():\n        print('Downloading...', end=' ')\n        resp = requests.get(data_url)\n        with file_path.open('wb') as f:\n            f.write(resp.content)\n        print('Done!')\n    else:\n        import time \n        created = time.ctime(file_path.stat().st_ctime)\n        print(\"Using cached version downloaded at\", created)\n    return file_path",
    "id": "5c85f23c61f746cd8531bb84e807cf12",
    "idx": 34,
    "time": "2021-02-06T01:41:04.953Z",
    "type": "execution"
   },
   {
    "id": "5c85f23c61f746cd8531bb84e807cf12",
    "time": "2021-02-06T01:41:05.209Z",
    "type": "completion"
   },
   {
    "code": "data_url = 'https://www.ssa.gov/oact/babynames/state/namesbystate.zip'\nnamesbystate_path = fetch_and_cache(data_url, 'namesbystate.zip')",
    "id": "9d101dd012604dfd8819e570883a9040",
    "idx": 37,
    "time": "2021-02-06T01:42:06.621Z",
    "type": "execution"
   },
   {
    "id": "9d101dd012604dfd8819e570883a9040",
    "time": "2021-02-06T01:42:06.715Z",
    "type": "completion"
   },
   {
    "code": "import zipfile\nzf = zipfile.ZipFile(namesbystate_path, 'r')\n\ncolumn_labels = ['State', 'Sex', 'Year', 'Name', 'Count']\n\ndef load_dataframe_from_zip(zf, f):\n    with zf.open(f) as fh: \n        return pd.read_csv(fh, header=None, names=column_labels)\n\nstates = [\n    load_dataframe_from_zip(zf, f)\n    for f in sorted(zf.filelist, key=lambda x:x.filename) \n    if f.filename.endswith('.TXT')\n]\n\nbaby_names = states[0]\nfor state_df in states[1:]:\n    baby_names = pd.concat([baby_names, state_df])\nbaby_names = baby_names.reset_index().iloc[:, 1:]",
    "id": "1685346521844c7c88e9a4943b000e30",
    "idx": 41,
    "time": "2021-02-06T01:43:36.513Z",
    "type": "execution"
   },
   {
    "id": "1685346521844c7c88e9a4943b000e30",
    "time": "2021-02-06T01:44:19.084Z",
    "type": "completion"
   },
   {
    "code": "len(baby_names)",
    "id": "0dddef5feb2249049061602b228c481c",
    "idx": 42,
    "time": "2021-02-06T01:44:33.598Z",
    "type": "execution"
   },
   {
    "id": "0dddef5feb2249049061602b228c481c",
    "time": "2021-02-06T01:44:33.664Z",
    "type": "completion"
   },
   {
    "code": "baby_names.head()",
    "id": "c9d842ecafc14554a367a4e92eb77b20",
    "idx": 43,
    "time": "2021-02-06T01:44:37.228Z",
    "type": "execution"
   },
   {
    "id": "c9d842ecafc14554a367a4e92eb77b20",
    "time": "2021-02-06T01:44:37.325Z",
    "type": "completion"
   },
   {
    "code": "#Example:\nbaby_names.loc[2:5, 'Name']",
    "id": "16eda7585cf34409a409575e08a2cdd4",
    "idx": 46,
    "time": "2021-02-06T01:45:53.521Z",
    "type": "execution"
   },
   {
    "id": "16eda7585cf34409a409575e08a2cdd4",
    "time": "2021-02-06T01:45:53.596Z",
    "type": "completion"
   },
   {
    "code": "#Example:\nbaby_names.loc[2:5, 'Name']",
    "id": "16eda7585cf34409a409575e08a2cdd4",
    "idx": 46,
    "time": "2021-02-06T01:46:09.954Z",
    "type": "execution"
   },
   {
    "id": "16eda7585cf34409a409575e08a2cdd4",
    "time": "2021-02-06T01:46:10.030Z",
    "type": "completion"
   },
   {
    "code": "#Example:  Notice the difference between these two methods\n#Just passing in 'Name' returns a Series while ['Name'] returns a Dataframe\nbaby_names.loc[2:5, ['Name']]",
    "id": "bdd7b2c5e84248a2857b0d969ffbd9cf",
    "idx": 47,
    "time": "2021-02-06T01:46:16.633Z",
    "type": "execution"
   },
   {
    "id": "bdd7b2c5e84248a2857b0d969ffbd9cf",
    "time": "2021-02-06T01:46:16.710Z",
    "type": "completion"
   },
   {
    "code": "sorted_baby_names = baby_names.sort_values(by=['Name'])\nsorted_baby_names.head()",
    "id": "c7a1443e25d4485c967107c13e0d43f4",
    "idx": 51,
    "time": "2021-02-06T01:47:36.071Z",
    "type": "execution"
   },
   {
    "id": "c7a1443e25d4485c967107c13e0d43f4",
    "time": "2021-02-06T01:47:49.070Z",
    "type": "completion"
   },
   {
    "code": "sorted_baby_names.iloc[1:4, 3]",
    "id": "78077f2a895249c8932451b974054569",
    "idx": 53,
    "time": "2021-02-06T01:48:05.818Z",
    "type": "execution"
   },
   {
    "id": "78077f2a895249c8932451b974054569",
    "time": "2021-02-06T01:48:05.895Z",
    "type": "completion"
   },
   {
    "code": "sorted_baby_names.loc[1:4, \"Name\"]",
    "id": "2fc0343e06b347f392c685da74c5c3dc",
    "idx": 55,
    "time": "2021-02-06T01:48:22.182Z",
    "type": "execution"
   },
   {
    "id": "2fc0343e06b347f392c685da74c5c3dc",
    "time": "2021-02-06T01:48:23.274Z",
    "type": "completion"
   },
   {
    "code": "#Example: We change the index from 0,1,2... to the Name column\ndf = baby_names[:5].set_index(\"Name\") \ndf",
    "id": "cfa15364f9864e7286d054de56362f41",
    "idx": 57,
    "time": "2021-02-06T01:48:45.342Z",
    "type": "execution"
   },
   {
    "id": "cfa15364f9864e7286d054de56362f41",
    "time": "2021-02-06T01:48:45.439Z",
    "type": "completion"
   },
   {
    "code": "df.loc[['Mary', 'Anna'], :]",
    "id": "7f000d44288a47c18b940493e377ff68",
    "idx": 59,
    "time": "2021-02-06T01:48:56.653Z",
    "type": "execution"
   },
   {
    "id": "7f000d44288a47c18b940493e377ff68",
    "time": "2021-02-06T01:48:56.724Z",
    "type": "completion"
   },
   {
    "code": "#Example: \n#df.loc[2:5,\"Year\"] You can't do this\ndf.iloc[1:4, 2:3]",
    "id": "1e737982b4d54d038faba7ce609eb2c8",
    "idx": 61,
    "time": "2021-02-06T01:49:07.393Z",
    "type": "execution"
   },
   {
    "id": "1e737982b4d54d038faba7ce609eb2c8",
    "time": "2021-02-06T01:49:07.467Z",
    "type": "completion"
   },
   {
    "code": "name_and_year = baby_names.loc[:, ['Name', 'Year']] # SOLUTION\nname_and_year[:5]",
    "id": "379fb7a547a4457e9f24f41c98fef598",
    "idx": 63,
    "time": "2021-02-06T01:49:46.885Z",
    "type": "execution"
   },
   {
    "id": "379fb7a547a4457e9f24f41c98fef598",
    "time": "2021-02-06T01:49:47.186Z",
    "type": "completion"
   },
   {
    "code": "# TEST\nname_and_year.shape",
    "id": "7fd31c784c8e4275892839bd9769d093",
    "idx": 64,
    "time": "2021-02-06T01:49:51.612Z",
    "type": "execution"
   },
   {
    "id": "7fd31c784c8e4275892839bd9769d093",
    "time": "2021-02-06T01:49:51.679Z",
    "type": "completion"
   },
   {
    "code": "# TEST\nname_and_year.loc[0,\"Name\"]",
    "id": "4f44262a932546428a41a1feba2cbcc8",
    "idx": 65,
    "time": "2021-02-06T01:49:53.831Z",
    "type": "execution"
   },
   {
    "id": "4f44262a932546428a41a1feba2cbcc8",
    "time": "2021-02-06T01:49:53.903Z",
    "type": "completion"
   },
   {
    "code": "# TEST\nname_and_year.loc[0,\"Year\"]",
    "id": "b9dace07a4e2475798cd2b123caadf88",
    "idx": 66,
    "time": "2021-02-06T01:49:56.156Z",
    "type": "execution"
   },
   {
    "id": "b9dace07a4e2475798cd2b123caadf88",
    "time": "2021-02-06T01:49:56.219Z",
    "type": "completion"
   },
   {
    "code": "ca = baby_names[baby_names['State'] == 'CA']",
    "id": "2ff977a3f84f46d695ff3a2b3ec3b1f1",
    "idx": 71,
    "time": "2021-02-06T01:51:03.236Z",
    "type": "execution"
   },
   {
    "id": "2ff977a3f84f46d695ff3a2b3ec3b1f1",
    "time": "2021-02-06T01:51:03.672Z",
    "type": "completion"
   },
   {
    "code": "result = baby_names[(baby_names[\"Year\"] == 2000) & (baby_names[\"Count\"] > 3000)] # SOLUTION\nresult.head()",
    "id": "39e81db25382461c80a1ef30b390b5ce",
    "idx": 73,
    "time": "2021-02-06T01:51:24.550Z",
    "type": "execution"
   },
   {
    "id": "39e81db25382461c80a1ef30b390b5ce",
    "time": "2021-02-06T01:51:24.640Z",
    "type": "completion"
   },
   {
    "code": "# TEST\nlen(result)",
    "id": "b3998d62fa244a0688256803b4195773",
    "idx": 74,
    "time": "2021-02-06T01:51:29.290Z",
    "type": "execution"
   },
   {
    "id": "b3998d62fa244a0688256803b4195773",
    "time": "2021-02-06T01:51:29.361Z",
    "type": "completion"
   },
   {
    "code": "# TEST\nresult[\"Count\"].sum()",
    "id": "7cdd17e1505f4f09b7d698e70699211a",
    "idx": 75,
    "time": "2021-02-06T01:51:32.281Z",
    "type": "execution"
   },
   {
    "id": "7cdd17e1505f4f09b7d698e70699211a",
    "time": "2021-02-06T01:51:32.346Z",
    "type": "completion"
   },
   {
    "code": "# TEST\nresult[\"Count\"].iloc[0]",
    "id": "c890c09e55c04b438623dceb0dbb1843",
    "idx": 76,
    "time": "2021-02-06T01:51:34.406Z",
    "type": "execution"
   },
   {
    "id": "c890c09e55c04b438623dceb0dbb1843",
    "time": "2021-02-06T01:51:34.472Z",
    "type": "completion"
   },
   {
    "code": "result_using_query = baby_names.query('Year == 2000 and Count > 3000') # SOLUTION",
    "id": "c17b807ee4c84fa0bac651491a6a50c6",
    "idx": 78,
    "time": "2021-02-06T01:51:39.248Z",
    "type": "execution"
   },
   {
    "id": "c17b807ee4c84fa0bac651491a6a50c6",
    "time": "2021-02-06T01:51:39.407Z",
    "type": "completion"
   },
   {
    "code": "hillary_baby_name = baby_names[(baby_names['Name'] == 'Hillary') & (baby_names['State'] == 'CA') & (baby_names['Sex'] == 'F')]\nplt.plot(hillary_baby_name['Year'], hillary_baby_name['Count'])\nplt.title(\"Hillary Popularity Over Time\")\nplt.xlabel('Year')\nplt.ylabel('Count');",
    "id": "b90ac48bd22041d594da1a528a160911",
    "idx": 80,
    "time": "2021-02-06T01:52:20.923Z",
    "type": "execution"
   },
   {
    "id": "b90ac48bd22041d594da1a528a160911",
    "time": "2021-02-06T01:52:22.309Z",
    "type": "completion"
   },
   {
    "code": "counts_aggregated_by_name_and_year = baby_names.groupby([\"Name\", \"Year\"])[\"Count\"].sum().reset_index()",
    "id": "ed35ea6d716444c58c9d70a949b3e6bd",
    "idx": 84,
    "time": "2021-02-06T01:54:06.294Z",
    "type": "execution"
   },
   {
    "id": "ed35ea6d716444c58c9d70a949b3e6bd",
    "time": "2021-02-06T01:54:08.008Z",
    "type": "completion"
   },
   {
    "code": "name_of_interest = 'Hillary'\nchosen_baby_name = counts_aggregated_by_name_and_year.query(\"Name == @name_of_interest\")\nplt.plot(chosen_baby_name['Year'], chosen_baby_name['Count'])\nplt.title(f\"Popularity Of {name_of_interest} Over Time\")\nplt.xlabel('Year')\nplt.ylabel('Count');",
    "id": "de35af9442004b1f8ace7106cc5c469f",
    "idx": 85,
    "time": "2021-02-06T01:54:15.312Z",
    "type": "execution"
   },
   {
    "id": "de35af9442004b1f8ace7106cc5c469f",
    "time": "2021-02-06T01:54:15.617Z",
    "type": "completion"
   },
   {
    "code": "name_of_interest = 'Obama'\nchosen_baby_name = counts_aggregated_by_name_and_year.query(\"Name == @name_of_interest\")\nplt.plot(chosen_baby_name['Year'], chosen_baby_name['Count'])\nplt.title(f\"Popularity Of {name_of_interest} Over Time\")\nplt.xlabel('Year')\nplt.ylabel('Count');",
    "id": "de35af9442004b1f8ace7106cc5c469f",
    "idx": 85,
    "time": "2021-02-06T01:54:21.733Z",
    "type": "execution"
   },
   {
    "id": "de35af9442004b1f8ace7106cc5c469f",
    "time": "2021-02-06T01:54:21.983Z",
    "type": "completion"
   },
   {
    "code": "name_of_interest = 'Robert'\nchosen_baby_name = counts_aggregated_by_name_and_year.query(\"Name == @name_of_interest\")\nplt.plot(chosen_baby_name['Year'], chosen_baby_name['Count'])\nplt.title(f\"Popularity Of {name_of_interest} Over Time\")\nplt.xlabel('Year')\nplt.ylabel('Count');",
    "id": "de35af9442004b1f8ace7106cc5c469f",
    "idx": 85,
    "time": "2021-02-06T01:54:36.220Z",
    "type": "execution"
   },
   {
    "id": "de35af9442004b1f8ace7106cc5c469f",
    "time": "2021-02-06T01:54:36.549Z",
    "type": "completion"
   },
   {
    "code": "name_of_interest = 'Jerry'\nchosen_baby_name = counts_aggregated_by_name_and_year.query(\"Name == @name_of_interest\")\nplt.plot(chosen_baby_name['Year'], chosen_baby_name['Count'])\nplt.title(f\"Popularity Of {name_of_interest} Over Time\")\nplt.xlabel('Year')\nplt.ylabel('Count');",
    "id": "de35af9442004b1f8ace7106cc5c469f",
    "idx": 85,
    "time": "2021-02-06T01:54:43.298Z",
    "type": "execution"
   },
   {
    "id": "de35af9442004b1f8ace7106cc5c469f",
    "time": "2021-02-06T01:54:43.617Z",
    "type": "completion"
   },
   {
    "code": "name_of_interest = 'Mojtaba'\nchosen_baby_name = counts_aggregated_by_name_and_year.query(\"Name == @name_of_interest\")\nplt.plot(chosen_baby_name['Year'], chosen_baby_name['Count'])\nplt.title(f\"Popularity Of {name_of_interest} Over Time\")\nplt.xlabel('Year')\nplt.ylabel('Count');",
    "id": "de35af9442004b1f8ace7106cc5c469f",
    "idx": 85,
    "time": "2021-02-06T01:54:57.878Z",
    "type": "execution"
   },
   {
    "id": "de35af9442004b1f8ace7106cc5c469f",
    "time": "2021-02-06T01:54:58.101Z",
    "type": "completion"
   },
   {
    "code": "name_of_interest = 'Silvia'\nchosen_baby_name = counts_aggregated_by_name_and_year.query(\"Name == @name_of_interest\")\nplt.plot(chosen_baby_name['Year'], chosen_baby_name['Count'])\nplt.title(f\"Popularity Of {name_of_interest} Over Time\")\nplt.xlabel('Year')\nplt.ylabel('Count');",
    "id": "de35af9442004b1f8ace7106cc5c469f",
    "idx": 85,
    "time": "2021-02-06T01:55:21.320Z",
    "type": "execution"
   },
   {
    "id": "de35af9442004b1f8ace7106cc5c469f",
    "time": "2021-02-06T01:55:21.662Z",
    "type": "completion"
   },
   {
    "code": "name_of_interest = 'Jie'\nchosen_baby_name = counts_aggregated_by_name_and_year.query(\"Name == @name_of_interest\")\nplt.plot(chosen_baby_name['Year'], chosen_baby_name['Count'])\nplt.title(f\"Popularity Of {name_of_interest} Over Time\")\nplt.xlabel('Year')\nplt.ylabel('Count');",
    "id": "de35af9442004b1f8ace7106cc5c469f",
    "idx": 85,
    "time": "2021-02-06T01:55:30.791Z",
    "type": "execution"
   },
   {
    "id": "de35af9442004b1f8ace7106cc5c469f",
    "time": "2021-02-06T01:55:31.052Z",
    "type": "completion"
   },
   {
    "code": "name_of_interest = 'Anna'\nchosen_baby_name = counts_aggregated_by_name_and_year.query(\"Name == @name_of_interest\")\nplt.plot(chosen_baby_name['Year'], chosen_baby_name['Count'])\nplt.title(f\"Popularity Of {name_of_interest} Over Time\")\nplt.xlabel('Year')\nplt.ylabel('Count');",
    "id": "de35af9442004b1f8ace7106cc5c469f",
    "idx": 85,
    "time": "2021-02-06T01:55:40.103Z",
    "type": "execution"
   },
   {
    "id": "de35af9442004b1f8ace7106cc5c469f",
    "time": "2021-02-06T01:55:40.421Z",
    "type": "completion"
   },
   {
    "code": "name_of_interest = 'Jack'\nchosen_baby_name = counts_aggregated_by_name_and_year.query(\"Name == @name_of_interest\")\nplt.plot(chosen_baby_name['Year'], chosen_baby_name['Count'])\nplt.title(f\"Popularity Of {name_of_interest} Over Time\")\nplt.xlabel('Year')\nplt.ylabel('Count');",
    "id": "de35af9442004b1f8ace7106cc5c469f",
    "idx": 85,
    "time": "2021-02-06T01:55:47.668Z",
    "type": "execution"
   },
   {
    "id": "de35af9442004b1f8ace7106cc5c469f",
    "time": "2021-02-06T01:55:47.994Z",
    "type": "completion"
   },
   {
    "code": "name_of_interest = 'Trump'\nchosen_baby_name = counts_aggregated_by_name_and_year.query(\"Name == @name_of_interest\")\nplt.plot(chosen_baby_name['Year'], chosen_baby_name['Count'])\nplt.title(f\"Popularity Of {name_of_interest} Over Time\")\nplt.xlabel('Year')\nplt.ylabel('Count');",
    "id": "de35af9442004b1f8ace7106cc5c469f",
    "idx": 85,
    "time": "2021-02-06T01:56:11.198Z",
    "type": "execution"
   },
   {
    "id": "de35af9442004b1f8ace7106cc5c469f",
    "time": "2021-02-06T01:56:11.445Z",
    "type": "completion"
   },
   {
    "code": "name_of_interest = 'Donald'\nchosen_baby_name = counts_aggregated_by_name_and_year.query(\"Name == @name_of_interest\")\nplt.plot(chosen_baby_name['Year'], chosen_baby_name['Count'])\nplt.title(f\"Popularity Of {name_of_interest} Over Time\")\nplt.xlabel('Year')\nplt.ylabel('Count');",
    "id": "de35af9442004b1f8ace7106cc5c469f",
    "idx": 85,
    "time": "2021-02-06T01:56:22.507Z",
    "type": "execution"
   },
   {
    "id": "de35af9442004b1f8ace7106cc5c469f",
    "time": "2021-02-06T01:56:22.832Z",
    "type": "completion"
   },
   {
    "code": "name_of_interest = 'Hillary'\nchosen_baby_name = counts_aggregated_by_name_and_year.query(\"Name == @name_of_interest\")\nplt.plot(chosen_baby_name['Year'], chosen_baby_name['Count'])\nplt.title(f\"Popularity Of {name_of_interest} Over Time\")\nplt.xlabel('Year')\nplt.ylabel('Count');",
    "id": "de35af9442004b1f8ace7106cc5c469f",
    "idx": 85,
    "time": "2021-02-06T01:56:33.472Z",
    "type": "execution"
   },
   {
    "id": "de35af9442004b1f8ace7106cc5c469f",
    "time": "2021-02-06T01:56:33.782Z",
    "type": "completion"
   }
  ],
  "kernelspec": {
   "display_name": "Python 3",
   "language": "python",
   "name": "python3"
  },
  "language_info": {
   "codemirror_mode": {
    "name": "ipython",
    "version": 3
   },
   "file_extension": ".py",
   "mimetype": "text/x-python",
   "name": "python",
   "nbconvert_exporter": "python",
   "pygments_lexer": "ipython3",
   "version": "3.8.6"
  }
 },
 "nbformat": 4,
 "nbformat_minor": 2
}
