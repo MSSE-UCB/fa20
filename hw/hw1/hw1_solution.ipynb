{
 "cells": [
  {
   "cell_type": "code",
   "execution_count": 1,
   "metadata": {
    "deletable": false,
    "editable": false
   },
   "outputs": [],
   "source": [
    "# Initialize Otter\n",
    "import otter\n",
    "grader = otter.Notebook(\"hw1.ipynb\")"
   ]
  },
  {
   "cell_type": "markdown",
   "metadata": {
    "nbgrader": {
     "grade": false,
     "grade_id": "introduction",
     "locked": true,
     "schema_version": 2,
     "solution": false
    }
   },
   "source": [
    "# Homework 1: Sampling Error and Bias\n",
    "## Due Date: Thursday, February 11th, 11:59PM\n",
    "\n",
    "## Collaboration Policy\n",
    "\n",
    "Data science is a collaborative activity. While you may talk with others about\n",
    "the homework, we ask that you **write your solutions individually**. If you do\n",
    "discuss the assignments with others please **include their names** below."
   ]
  },
  {
   "cell_type": "markdown",
   "metadata": {},
   "source": [
    "**Collaborators**: *list  collaborators here*"
   ]
  },
  {
   "cell_type": "markdown",
   "metadata": {},
   "source": [
    "## Grading\n",
    "\n",
    "Grading is broken down into autograded answers and free response. \n",
    "\n",
    "For autograded answers, the results of your code are compared to provided and/or hidden tests. **For autograded probability questions, the provided tests will only check that your answer is within a reasonable range.**\n",
    "\n",
    "For free response, readers will evaluate how well you answered the question and/or fulfilled the requirements of the question.\n",
    "\n",
    "For plots, make sure to be as descriptive as possible: include titles, axes labels, and units wherever applicable."
   ]
  },
  {
   "cell_type": "markdown",
   "metadata": {},
   "source": [
    "### Please make sure to save regularly; do not rely on autosave to save your work for you!"
   ]
  },
  {
   "cell_type": "markdown",
   "metadata": {},
   "source": [
    "## Scoring Breakdown\n",
    "\n",
    "|Question|Points|\n",
    "|---|---|\n",
    "|1.1|1|\n",
    "|1.2|1|\n",
    "|1.3|1|\n",
    "|2.1|1|\n",
    "|2.2|1|\n",
    "|2.3|2|\n",
    "|3.1|1|\n",
    "|3.2|1|\n",
    "|3.3|1|\n",
    "|3.4|1|\n",
    "|4.1|1|\n",
    "|4.2|1|\n",
    "|5.1|2|\n",
    "|5.2|1|\n",
    "|5.3|1|\n",
    "|5.4|1|\n",
    "|5.5|2|\n",
    "|5.6|1|\n",
    "|6.1|1|\n",
    "|6.2|1|\n",
    "|6.3|2|\n",
    "|6.4|1|\n",
    "|**Total**|26|\n"
   ]
  },
  {
   "cell_type": "markdown",
   "metadata": {},
   "source": [
    "## Introduction\n",
    "\n",
    "The outcome of the US presidential election in 2016 took many people and many pollsters by surprise. In this assignment we will carry out a simulation study / post mortem in an attempt to understand what happened. Doing such an analysis can also help us understand more about the 2020 election just happened."
   ]
  },
  {
   "cell_type": "code",
   "execution_count": 2,
   "metadata": {},
   "outputs": [],
   "source": [
    "import numpy as np\n",
    "import matplotlib\n",
    "import matplotlib.pyplot as plt\n",
    "import seaborn as sns\n",
    "\n",
    "plt.style.use('fivethirtyeight')\n",
    "\n",
    "# Default plot configurations\n",
    "%matplotlib inline\n",
    "plt.rcParams['figure.figsize'] = (16,8)\n",
    "plt.rcParams['figure.dpi'] = 150\n",
    "sns.set()\n",
    "\n",
    "from IPython.display import display, Latex, Markdown"
   ]
  },
  {
   "cell_type": "markdown",
   "metadata": {},
   "source": [
    "## `SciPy` and `special` ##"
   ]
  },
  {
   "cell_type": "markdown",
   "metadata": {},
   "source": [
    "Factorials and the *binomial coefficients* $\\binom{n}{k} = \\frac{n!}{k!(n-k)!}$ get large very quickly as $n$ gets large. One way to compute them is to use the `SciPy` module `special`. `SciPy` is a collection of Python-based software for math, probability, statistics, science, and engineering."
   ]
  },
  {
   "cell_type": "code",
   "execution_count": 3,
   "metadata": {},
   "outputs": [],
   "source": [
    "from scipy import special"
   ]
  },
  {
   "cell_type": "markdown",
   "metadata": {},
   "source": [
    "Below are some examples of `special.factorial`:"
   ]
  },
  {
   "cell_type": "code",
   "execution_count": 4,
   "metadata": {},
   "outputs": [
    {
     "data": {
      "text/plain": [
       "(120.0, array([  1.,   2.,   6.,  24., 120.]))"
      ]
     },
     "execution_count": 4,
     "metadata": {},
     "output_type": "execute_result"
    }
   ],
   "source": [
    "special.factorial(5), special.factorial(range(1, 6))"
   ]
  },
  {
   "cell_type": "markdown",
   "metadata": {},
   "source": [
    "Traditionally, subsets of $k$ individuals out of a population of $n$ individuals are called *combinations*, and so `special.comb(n, k)` evaluates to $\\binom{n}{k}$. \n",
    "\n",
    "Note that we will always use the term *subsets* to mean un-ordered sets. We will use *permutations* in situations where we need to keep track of the order in which the elements appear.\n",
    "\n",
    "Look at the code and output below carefully (including types) before starting Question 1."
   ]
  },
  {
   "cell_type": "code",
   "execution_count": 5,
   "metadata": {},
   "outputs": [
    {
     "data": {
      "text/plain": [
       "(10.0, 10.0)"
      ]
     },
     "execution_count": 5,
     "metadata": {},
     "output_type": "execute_result"
    }
   ],
   "source": [
    "special.comb(5, 3), special.factorial(5) / (special.factorial(3) * special.factorial(2))"
   ]
  },
  {
   "cell_type": "code",
   "execution_count": 6,
   "metadata": {},
   "outputs": [
    {
     "data": {
      "text/plain": [
       "array([ 1.,  5., 10., 10.,  5.,  1.])"
      ]
     },
     "execution_count": 6,
     "metadata": {},
     "output_type": "execute_result"
    }
   ],
   "source": [
    "special.comb(5, range(6))"
   ]
  },
  {
   "cell_type": "code",
   "execution_count": 7,
   "metadata": {},
   "outputs": [
    {
     "data": {
      "text/plain": [
       "(1.0089134454556415e+29, 100891344545564193334812497256)"
      ]
     },
     "execution_count": 7,
     "metadata": {},
     "output_type": "execute_result"
    }
   ],
   "source": [
    "special.comb(100, 50), special.comb(100, 50, exact=True)"
   ]
  },
  {
   "cell_type": "markdown",
   "metadata": {},
   "source": [
    "### Question 1"
   ]
  },
  {
   "cell_type": "markdown",
   "metadata": {},
   "source": [
    "Consider a population in which a proportion $p$ of individuals are called \"successes\" (or 1, if you prefer) and the remaining proportion are rudely called \"failures\" (or 0).\n",
    "\n",
    "As we saw in lecture, if you draw a sample of size $n$ (where $n$ is some positive integer) at random with replacement from the population, then the number of successes is a random variable that follows the binomial distribution. The probability of drawing $k$ successes and $n-k$ failures is $\\binom{n}{k}p^k(1-p)^{n-k}$, for $0 \\leq k \\leq n$. To reduce writing, we will shorten \"$k$ successes and $n-k$ failures\" to \"$k$ successes\". In other words, \"$k$ successes\" means \"exactly $k$ successes\".\n",
    "\n",
    "To formalize notation: if $X$ is the number of successes we draw, then $P(X = k) = \\binom{n}{k}p^k(1-p)^{n-k}$."
   ]
  },
  {
   "cell_type": "markdown",
   "metadata": {
    "deletable": false,
    "editable": false
   },
   "source": [
    "### Question 1a) ###\n",
    "Suppose you sample 100 times at random with replacement from a population in which 26% of the individuals are successes. Write a Python expression that evaluates to the chance that the sample has 20 successes. \n",
    "\n",
    "**Computational note:** Don't import any other libraries; just use the ones already imported and plug into the formula above. It's far from the best way numerically, but it is fine for the numbers involved in this Homework. \n",
    "\n",
    "<!--\n",
    "BEGIN QUESTION\n",
    "name: q1a\n",
    "manual: false\n",
    "points: 1\n",
    "-->"
   ]
  },
  {
   "cell_type": "code",
   "execution_count": 8,
   "metadata": {},
   "outputs": [
    {
     "data": {
      "text/plain": [
       "0.036911003560024636"
      ]
     },
     "execution_count": 8,
     "metadata": {},
     "output_type": "execute_result"
    }
   ],
   "source": [
    "prob_1a = special.comb(100, 20)*(0.26**20)*(0.74**80) # SOLUTION\n",
    "prob_1a"
   ]
  },
  {
   "cell_type": "code",
   "execution_count": 9,
   "metadata": {
    "deletable": false,
    "editable": false
   },
   "outputs": [
    {
     "data": {
      "text/html": [
       "\n",
       "    <p><strong>q1a</strong> passed!</p>\n",
       "    "
      ],
      "text/plain": [
       "q1a passed!"
      ]
     },
     "execution_count": 9,
     "metadata": {},
     "output_type": "execute_result"
    }
   ],
   "source": [
    "grader.check(\"q1a\")"
   ]
  },
  {
   "cell_type": "markdown",
   "metadata": {
    "deletable": false,
    "editable": false
   },
   "source": [
    "### Question 1b) ###\n",
    "Complete the cell with a Python expression that evaluates to an array whose elements are the chances of $k$ successes for $k = 0, 1, 2, \\ldots, 100$. That is, `all_probs[k]` should contain $P(X = k)$, where $X$ is the random variable describing the number of successes drawn from the scenario outlined above.\n",
    "\n",
    "<!--\n",
    "BEGIN QUESTION\n",
    "name: q1b\n",
    "points: 1\n",
    "-->"
   ]
  },
  {
   "cell_type": "code",
   "execution_count": 10,
   "metadata": {},
   "outputs": [
    {
     "data": {
      "text/plain": [
       "(array([0.    , 0.    , 0.    , 0.    , 0.    , 0.    , 0.    , 0.    ,\n",
       "        0.    , 0.    , 0.    , 0.0001, 0.0003, 0.0007, 0.0016, 0.0033,\n",
       "        0.0061, 0.0106, 0.0171, 0.0259, 0.0369, 0.0494, 0.0623, 0.0743,\n",
       "        0.0837, 0.0894, 0.0906, 0.0873, 0.0799, 0.0697, 0.058 , 0.046 ,\n",
       "        0.0349, 0.0252, 0.0175, 0.0116, 0.0073, 0.0045, 0.0026, 0.0015,\n",
       "        0.0008, 0.0004, 0.0002, 0.0001, 0.    , 0.    , 0.    , 0.    ,\n",
       "        0.    , 0.    , 0.    , 0.    , 0.    , 0.    , 0.    , 0.    ,\n",
       "        0.    , 0.    , 0.    , 0.    , 0.    , 0.    , 0.    , 0.    ,\n",
       "        0.    , 0.    , 0.    , 0.    , 0.    , 0.    , 0.    , 0.    ,\n",
       "        0.    , 0.    , 0.    , 0.    , 0.    , 0.    , 0.    , 0.    ,\n",
       "        0.    , 0.    , 0.    , 0.    , 0.    , 0.    , 0.    , 0.    ,\n",
       "        0.    , 0.    , 0.    , 0.    , 0.    , 0.    , 0.    , 0.    ,\n",
       "        0.    , 0.    , 0.    , 0.    , 0.    ]),\n",
       " 0.9999999999999996)"
      ]
     },
     "execution_count": 10,
     "metadata": {},
     "output_type": "execute_result"
    }
   ],
   "source": [
    "k = np.arange(101)\n",
    "all_probs = special.comb(100, k)*(0.26**k)*(0.74**(100-k)) # SOLUTION\n",
    "np.round(all_probs, 4), sum(all_probs)"
   ]
  },
  {
   "cell_type": "code",
   "execution_count": 11,
   "metadata": {
    "deletable": false,
    "editable": false
   },
   "outputs": [
    {
     "data": {
      "text/html": [
       "\n",
       "    <p><strong>q1b</strong> passed!</p>\n",
       "    "
      ],
      "text/plain": [
       "q1b passed!"
      ]
     },
     "execution_count": 11,
     "metadata": {},
     "output_type": "execute_result"
    }
   ],
   "source": [
    "grader.check(\"q1b\")"
   ]
  },
  {
   "cell_type": "markdown",
   "metadata": {
    "deletable": false,
    "editable": false
   },
   "source": [
    "### Question 1c) ###\n",
    "\n",
    "\n",
    "Complete the cell with an expression that evaluates to the chance that the number of successes in the sample is in the interval $26 \\pm 10$ (inclusive on both sides). In other words, determine $P(16 \\leq X \\leq 36)$. **Hint: You might want to apply your Python indexing knowledge here.**\n",
    "\n",
    "**Note: Please assign your answer to `prob_1c`. Because we use an autograder, please make sure your answer is a proportion between 0 and 1, not a percent between 0 and 100.**\n",
    "\n",
    "<!--\n",
    "BEGIN QUESTION\n",
    "name: q1c\n",
    "manual: false\n",
    "points: 1\n",
    "-->"
   ]
  },
  {
   "cell_type": "code",
   "execution_count": 12,
   "metadata": {},
   "outputs": [],
   "source": [
    "prob_1c = sum(all_probs[16:37]) # SOLUTION"
   ]
  },
  {
   "cell_type": "code",
   "execution_count": 13,
   "metadata": {
    "deletable": false,
    "editable": false
   },
   "outputs": [
    {
     "data": {
      "text/html": [
       "\n",
       "    <p><strong>q1c</strong> passed!</p>\n",
       "    "
      ],
      "text/plain": [
       "q1c passed!"
      ]
     },
     "execution_count": 13,
     "metadata": {},
     "output_type": "execute_result"
    }
   ],
   "source": [
    "grader.check(\"q1c\")"
   ]
  },
  {
   "cell_type": "markdown",
   "metadata": {},
   "source": [
    "### Question 2"
   ]
  },
  {
   "cell_type": "markdown",
   "metadata": {},
   "source": [
    "Consider (once again) a sample of size $n$ drawn at random with replacement from a population in which a proportion $p$ of the individuals are called successes.\n",
    "\n",
    "Let $S$ be the random variable that denotes the number of successes in our sample. (As stated above, $S$ follows the binomial distribution.) Then, the probability that the number of successes in our sample is **at most** $s$ (where $0 \\leq s \\leq n$) is\n",
    "\n",
    "$$P(S \\leq s) = P(S = 0) + P(S = 1) + ... + P(S = s) = \\sum_{k=0}^s \\binom{n}{k}p^k(1-p)^{n-k}$$\n",
    "\n",
    "We obtain this by summing the probability that the number of successes is exactly $k$, for each value of $k = 0, 1, 2, ..., s$."
   ]
  },
  {
   "cell_type": "markdown",
   "metadata": {
    "deletable": false,
    "editable": false
   },
   "source": [
    "### Question 2a) ###\n",
    "\n",
    "Please fill in the function `prob_at_most` which takes $n$, $p$, and $s$ and returns $P(S \\le s)$ as defined above. If the inputs are invalid: for instance, if $p > 1$ OR $s > n$ then return 0.\" \n",
    "\n",
    "It might help to refer to the calculation in Question 1b.\n",
    "\n",
    "<!--\n",
    "BEGIN QUESTION\n",
    "name: q2a\n",
    "manual: false\n",
    "points: 1\n",
    "-->"
   ]
  },
  {
   "cell_type": "code",
   "execution_count": 14,
   "metadata": {},
   "outputs": [],
   "source": [
    "def prob_at_most(n, p, s):\n",
    "    \"\"\" \n",
    "    returns the probability of S <= s\n",
    "    Input n: sample size; p : proportion; s: number of successes at most\"\"\"\n",
    "    # BEGIN SOLUTION\n",
    "    if 0 <= p and p <= 1 and s <= n:\n",
    "        k = np.arange(n+1)\n",
    "        all_probs = special.comb(n, k)*(p**k)*((1-p)**(n-k))\n",
    "        return sum(all_probs[:s+1])\n",
    "    else:\n",
    "        return 0\n",
    "    # END SOLUTION"
   ]
  },
  {
   "cell_type": "code",
   "execution_count": 15,
   "metadata": {
    "deletable": false,
    "editable": false
   },
   "outputs": [
    {
     "data": {
      "text/html": [
       "\n",
       "    <p><strong>q2a</strong> passed!</p>\n",
       "    "
      ],
      "text/plain": [
       "q2a passed!"
      ]
     },
     "execution_count": 15,
     "metadata": {},
     "output_type": "execute_result"
    }
   ],
   "source": [
    "grader.check(\"q2a\")"
   ]
  },
  {
   "cell_type": "markdown",
   "metadata": {
    "deletable": false,
    "editable": false
   },
   "source": [
    "### Question 2b) ###\n",
    "In an election, supporters of Candidate C are in a minority. Only 45% of the voters in the population favor the candidate.\n",
    "\n",
    "Suppose a survey organization takes a sample of 200 voters at random with replacement from this population. Use `prob_at_most` to write an expression that evaluates to the chance that a majority (more than half) of the sampled voters favor Candidate C.\n",
    "\n",
    "<!--\n",
    "BEGIN QUESTION\n",
    "name: q2b\n",
    "manual: false\n",
    "points: 1\n",
    "-->"
   ]
  },
  {
   "cell_type": "code",
   "execution_count": 16,
   "metadata": {},
   "outputs": [
    {
     "data": {
      "text/plain": [
       "0.06807524986263847"
      ]
     },
     "execution_count": 16,
     "metadata": {},
     "output_type": "execute_result"
    }
   ],
   "source": [
    "p_majority = 1 - prob_at_most(200, 0.45, 100) # SOLUTION \n",
    "p_majority"
   ]
  },
  {
   "cell_type": "code",
   "execution_count": 17,
   "metadata": {
    "deletable": false,
    "editable": false
   },
   "outputs": [
    {
     "data": {
      "text/html": [
       "\n",
       "    <p><strong>q2b</strong> passed!</p>\n",
       "    "
      ],
      "text/plain": [
       "q2b passed!"
      ]
     },
     "execution_count": 17,
     "metadata": {},
     "output_type": "execute_result"
    }
   ],
   "source": [
    "grader.check(\"q2b\")"
   ]
  },
  {
   "cell_type": "markdown",
   "metadata": {
    "deletable": false,
    "editable": false
   },
   "source": [
    "### Question 2c) ###\n",
    "Suppose each of five survey organizations takes a sample of voters at random with replacement from the population of voters in Part **b**, independently of the samples drawn by the other organizations. \n",
    "\n",
    "- Three of the organizations use a sample size of 200\n",
    "- One organization uses a sample size of 300\n",
    "- One organization uses a sample size of 400\n",
    "\n",
    "Write an expression that evaluates to the chance that in at least one of the five samples the majority of voters favor Candidate C. You can use any quantity or function defined earlier in this exercise.\n",
    "\n",
    "<!--\n",
    "BEGIN QUESTION\n",
    "name: q2c\n",
    "manual: false\n",
    "points: 2\n",
    "-->"
   ]
  },
  {
   "cell_type": "code",
   "execution_count": 18,
   "metadata": {},
   "outputs": [
    {
     "data": {
      "text/plain": [
       "0.23550361568442357"
      ]
     },
     "execution_count": 18,
     "metadata": {},
     "output_type": "execute_result"
    }
   ],
   "source": [
    "prob_2c = 1 - (prob_at_most(200, 0.45, 100)**3)*prob_at_most(300, 0.45, 150)*prob_at_most(400, 0.45, 200) # SOLUTION\n",
    "prob_2c"
   ]
  },
  {
   "cell_type": "code",
   "execution_count": 19,
   "metadata": {
    "deletable": false,
    "editable": false
   },
   "outputs": [
    {
     "data": {
      "text/html": [
       "\n",
       "    <p><strong>q2c</strong> passed!</p>\n",
       "    "
      ],
      "text/plain": [
       "q2c passed!"
      ]
     },
     "execution_count": 19,
     "metadata": {},
     "output_type": "execute_result"
    }
   ],
   "source": [
    "grader.check(\"q2c\")"
   ]
  },
  {
   "cell_type": "markdown",
   "metadata": {},
   "source": [
    "### Question 3"
   ]
  },
  {
   "cell_type": "markdown",
   "metadata": {},
   "source": [
    "In Pennsylvania, 6,165,478 people voted in the 2016 Presidential election.\n",
    "Trump received 48.18% of the vote and Clinton recieved 47.46%.\n",
    "This doesn't add up to 100% because other candidates received votes.\n",
    "All together these other candidates received 100% - 48.18% - 47.46% = 4.36% of the vote.\n",
    "\n",
    "The table below displays the counts and proportions.\n",
    "\n",
    "\n",
    "|   Voted for   |  Trump|    Clinton|    Other|\n",
    "|-----------|-----------|-----------|---------|\n",
    "| Probability      |   0.4818   | 0.4746  |   0.0436 |\n",
    "| Number of people | 2,970,733  | 2,926,441 | 268,304 |"
   ]
  },
  {
   "cell_type": "markdown",
   "metadata": {
    "deletable": false,
    "editable": false
   },
   "source": [
    "### Question 3a) ###\n",
    "Suppose we pick a simple random sample of 20 of the 6,165,478 Pennsylvania (PA) voters. \n",
    "\n",
    "In the sample, let $N_T$ be the number of Trump voters, $N_C$ the number of Clinton voters, and $N_O$ the number of \"other\" voters. Then $N_T$, $N_C$, and $N_O$ are random: they depend on how the sample comes out. In Data 8 we called such quantities \"statistics\".\n",
    "\n",
    "Pick the correct option: $N_T + N_C + N_O$ is equal to\n",
    "\n",
    "(a) 3\n",
    "\n",
    "(b) 20\n",
    "\n",
    "(c) 6,165,478\n",
    "\n",
    "(d) a random quantity\n",
    "\n",
    "*Note*: if your answer is (d), put  **ans_3a = 'd'**  for the purpose of grading. Passing the test **does NOT** mean you answer is correct. The test only checks if your answer is in the correct format.\n",
    "\n",
    "<!--\n",
    "BEGIN QUESTION\n",
    "name: q3a\n",
    "manual: false\n",
    "points: 1\n",
    "-->"
   ]
  },
  {
   "cell_type": "code",
   "execution_count": 20,
   "metadata": {},
   "outputs": [],
   "source": [
    "ans_3a = 'b' # SOLUTION"
   ]
  },
  {
   "cell_type": "code",
   "execution_count": 21,
   "metadata": {
    "deletable": false,
    "editable": false
   },
   "outputs": [
    {
     "data": {
      "text/html": [
       "\n",
       "    <p><strong>q3a</strong> passed!</p>\n",
       "    "
      ],
      "text/plain": [
       "q3a passed!"
      ]
     },
     "execution_count": 21,
     "metadata": {},
     "output_type": "execute_result"
    }
   ],
   "source": [
    "grader.check(\"q3a\")"
   ]
  },
  {
   "cell_type": "markdown",
   "metadata": {
    "deletable": false,
    "editable": false
   },
   "source": [
    "### Question 3b) ###\n",
    "Pick the correct option.\n",
    "\n",
    "A simple random sample of 20 PA voters is like a sample drawn at random with replacement, because\n",
    "\n",
    "(a) that's the definition of \"simple random sample\"\n",
    "\n",
    "(b) there are only 3 categories of voters, which is small in comparison to 20\n",
    "\n",
    "(c) there are only 20 people in the sample, which is small in comparison to the total number of PA voters\n",
    "\n",
    "(d) all PA voters are equally likely to be selected\n",
    "\n",
    "*Note*: if your answer is (d), put **ans_3a = 'd'**  for the purpose of grading. Passing the test **does NOT** mean you answer is correct. The test only checks if your answer is in the correct format.\n",
    "\n",
    "<!--\n",
    "BEGIN QUESTION\n",
    "name: q3b\n",
    "manual: false\n",
    "points: 1\n",
    "-->"
   ]
  },
  {
   "cell_type": "code",
   "execution_count": 22,
   "metadata": {},
   "outputs": [],
   "source": [
    "ans_3b = 'c' # SOLUTION"
   ]
  },
  {
   "cell_type": "code",
   "execution_count": 23,
   "metadata": {
    "deletable": false,
    "editable": false
   },
   "outputs": [
    {
     "data": {
      "text/html": [
       "\n",
       "    <p><strong>q3b</strong> passed!</p>\n",
       "    "
      ],
      "text/plain": [
       "q3b passed!"
      ]
     },
     "execution_count": 23,
     "metadata": {},
     "output_type": "execute_result"
    }
   ],
   "source": [
    "grader.check(\"q3b\")"
   ]
  },
  {
   "cell_type": "markdown",
   "metadata": {
    "deletable": false,
    "editable": false
   },
   "source": [
    "### Question 3c) ###\n",
    "\n",
    "Let $t$, $c$, and $o$ be any three non-negative integers. For the sample defined in Part **a**, the probability that the sample contains $t$ Trump voters, $c$ Clinton voters and $o$ \"other\" voters is denoted by $P(N_T = t, N_C = c, N_O = o)$.\n",
    "\n",
    "Define a function `prob_sample_counts` that takes any three non-negative integers $t$, $c$, and $o$, and returns $P(N_T = t, N_C = c, N_O = o)$. The probability is 0 for some choices of the arguments, and your function should return 0 in those cases.\n",
    "\n",
    "Remember that Part **b** implies you can use results for sampling with replacement.\n",
    "\n",
    "What should `prob_sample_counts(31, 8, 1)` evaluate to? Check that your function returns the right value (No extra code/cells required).\n",
    "\n",
    "<!--\n",
    "BEGIN QUESTION\n",
    "name: q3c\n",
    "manual: false\n",
    "points: 1\n",
    "-->"
   ]
  },
  {
   "cell_type": "code",
   "execution_count": 24,
   "metadata": {},
   "outputs": [],
   "source": [
    "def prob_sample_counts(t, c, o):\n",
    "    \"\"\"\n",
    "    Input:\n",
    "    t - number of votes for Trump\n",
    "    c - number of votes for Clinton\n",
    "    o - number of votes for Other\n",
    "    Return: The probability of getting a such sample\n",
    "    \"\"\"\n",
    "    # BEGIN SOLUTION\n",
    "    if t+c+o == 20:\n",
    "        p_T = 0.4818\n",
    "        p_C = 0.4746\n",
    "        p_O = 0.0436\n",
    "        return (special.factorial(20)/(special.factorial(t)*special.factorial(c)*special.factorial(o)))*(p_T**t)*(p_C**c)*(p_O**o)\n",
    "    else:\n",
    "        return 0\n",
    "    # END SOLUTION"
   ]
  },
  {
   "cell_type": "code",
   "execution_count": 25,
   "metadata": {
    "deletable": false,
    "editable": false
   },
   "outputs": [
    {
     "data": {
      "text/html": [
       "\n",
       "    <p><strong>q3c</strong> passed!</p>\n",
       "    "
      ],
      "text/plain": [
       "q3c passed!"
      ]
     },
     "execution_count": 25,
     "metadata": {},
     "output_type": "execute_result"
    }
   ],
   "source": [
    "grader.check(\"q3c\")"
   ]
  },
  {
   "cell_type": "markdown",
   "metadata": {
    "deletable": false,
    "editable": false
   },
   "source": [
    "### Question 3d) ###\n",
    "\n",
    "Check that your function determines a probability distribution by summing all the positive terms. You know what the sum should be. **Hint: You might need to iterate through certain values of c and t to compute the sum of all positive probabilities.**\n",
    "\n",
    "<!--\n",
    "BEGIN QUESTION\n",
    "name: q3d\n",
    "manual: false\n",
    "points: 1\n",
    "-->"
   ]
  },
  {
   "cell_type": "code",
   "execution_count": 26,
   "metadata": {},
   "outputs": [
    {
     "data": {
      "text/plain": [
       "1.0000000000000007"
      ]
     },
     "execution_count": 26,
     "metadata": {},
     "output_type": "execute_result"
    }
   ],
   "source": [
    "prob_3d = sum(prob_sample_counts(t, c, 20-(t+c)) for t in range(21) for c in range(0, 21-t)) # SOLUTION\n",
    "prob_3d"
   ]
  },
  {
   "cell_type": "code",
   "execution_count": 27,
   "metadata": {
    "deletable": false,
    "editable": false
   },
   "outputs": [
    {
     "data": {
      "text/html": [
       "\n",
       "    <p><strong>q3d</strong> passed!</p>\n",
       "    "
      ],
      "text/plain": [
       "q3d passed!"
      ]
     },
     "execution_count": 27,
     "metadata": {},
     "output_type": "execute_result"
    }
   ],
   "source": [
    "grader.check(\"q3d\")"
   ]
  },
  {
   "cell_type": "markdown",
   "metadata": {
    "nbgrader": {
     "grade": false,
     "grade_id": "codebook",
     "locked": true,
     "schema_version": 2,
     "solution": false
    }
   },
   "source": [
    "## Election Polling\n",
    "\n",
    "Political polling is a type of public opinion polling that can at best represent a snapshot of public opinion at the particular moment in time. Voter opinion shifts from week to week, even day to day, as candidates battle it out on the campaign field.\n",
    "\n",
    "Polls usually start with a \"horse-race\" question, where respondents are asked whom they would vote for in a head-to-head race if the election were tomorrow: Candidate A or Candidate B. The survey begins with this question so that the respondent is not influenced by any of the other questions asked in the survey. Some of these other questions are asked to help assess how likely is it that the respondent will vote. Other questions are asked about age, education, and sex in order to adjust the findings if one group appears overly represented in the sample.\n",
    "\n",
    "Pollsters typically use [random digit dialing](https://en.wikipedia.org/wiki/Random_digit_dialing) to contact people."
   ]
  },
  {
   "cell_type": "markdown",
   "metadata": {},
   "source": [
    "### Question 4"
   ]
  },
  {
   "cell_type": "markdown",
   "metadata": {
    "deletable": false,
    "editable": false
   },
   "source": [
    "<!-- BEGIN QUESTION -->\n",
    "\n",
    "#### Part 1 ####\n",
    "\n",
    "If we're trying to predict the results of the Clinton vs. Trump presidential race, what is the population of interest? \n",
    "\n",
    "<!--\n",
    "BEGIN QUESTION\n",
    "name: q4a\n",
    "manual: true\n",
    "points: 1\n",
    "-->"
   ]
  },
  {
   "cell_type": "markdown",
   "metadata": {},
   "source": [
    "_Type your answer here, replacing this text._"
   ]
  },
  {
   "cell_type": "markdown",
   "metadata": {},
   "source": [
    "**SOLUTION:**\n",
    "The population is all people who will vote/ voted in the 2016 US presidential election."
   ]
  },
  {
   "cell_type": "markdown",
   "metadata": {
    "deletable": false,
    "editable": false,
    "nbgrader": {
     "grade": false,
     "grade_id": "cell-5a5f851db609367a",
     "locked": true,
     "schema_version": 2,
     "solution": false
    }
   },
   "source": [
    "<!-- END QUESTION -->\n",
    "\n",
    "<!-- BEGIN QUESTION -->\n",
    "\n",
    "#### Part 2 ####\n",
    "\n",
    "What is the sampling frame?\n",
    "\n",
    "<!--\n",
    "BEGIN QUESTION\n",
    "name: q4b\n",
    "manual: true\n",
    "points: 1\n",
    "-->"
   ]
  },
  {
   "cell_type": "markdown",
   "metadata": {},
   "source": [
    "_Type your answer here, replacing this text._"
   ]
  },
  {
   "cell_type": "markdown",
   "metadata": {},
   "source": [
    "**SOLUTION:**\n",
    "Anyone who has a phone (they need to be reached by random digit dialing).\n",
    "In addition, survey respondents are excluded if they are deemed unlikely to vote or not elligible for voting in the upcoming election."
   ]
  },
  {
   "cell_type": "markdown",
   "metadata": {
    "nbgrader": {
     "grade": false,
     "grade_id": "examine-contents",
     "locked": true,
     "schema_version": 2,
     "solution": false
    }
   },
   "source": [
    "<!-- END QUESTION -->\n",
    "\n",
    "\n",
    "\n",
    "### How might the sampling frame differ from the population?\n",
    "\n",
    "After the fact, many experts have studied the 2016 election results. For example, according to the American Association for Public Opinion Research (AAPOR), predictions made before the election were flawed for three key reasons:\n",
    "\n",
    "1. voters changed their preferences a few days before the election\n",
    "2. those sampled were not representative of the voting population, e.g., some said that there was an overrepresentation of college graduates in some poll samples \n",
    "3. voters kept their support for Trump to themselves (hidden from the pollsters)\n",
    "\n",
    "In Questions 5 and 6, we will do two things:\n",
    "\n",
    "+ Question 5: We will carry out a study of the sampling error when there is no bias. In other words, we will try to compute the chance that we get the election result wrong even if we collect our sample in a manner that is completely correct. In this case, any failure of our prediction is due entirely to random chance.\n",
    "+ Question 6: We will carry out a study of the sampling error when there is bias of the second type from the list above. In other words, we will try to compute the chance that we get the election result wrong if we have a small systematic bias. In this case, any failure of our prediction is due to a combination of random chance and our bias.\n"
   ]
  },
  {
   "cell_type": "markdown",
   "metadata": {
    "nbgrader": {
     "grade": false,
     "grade_id": "examine-size",
     "locked": true,
     "schema_version": 2,
     "solution": false
    }
   },
   "source": [
    "### How large was the sampling error?\n",
    "\n",
    "In some states the race was very close, and it may have been simply sampling error, i.e., random chance that the majority of the voters chosen for the sample voted for Clinton.\n",
    "\n",
    "A 2- or 3-point polling error in Trump’s favor (typical error historically) would likely be enough to tip the Electoral College to him.\n",
    "\n",
    "One year after the 2016 election, Nate Silver wrote in\n",
    "*The Media Has A Probability Problem* that\n",
    "the \"media’s demand for certainty -- and its lack of statistical rigor -- is a bad match for our complex world.\"\n",
    "FiveThirtyEight forecasted that Clinton had about a 70 percent chance of winning.  \n",
    "\n",
    "We will first carry out a simulation study to assess the impact of the sampling error on the predictions.\n"
   ]
  },
  {
   "cell_type": "markdown",
   "metadata": {
    "nbgrader": {
     "grade": false,
     "grade_id": "load-data",
     "locked": true,
     "schema_version": 2,
     "solution": false
    }
   },
   "source": [
    "## The Electoral College\n",
    "\n",
    "The US president is chosen by the Electoral College, not by the\n",
    "popular vote. Each state is alotted a certain number of \n",
    "electoral college votes, as a function of their population.\n",
    "Whomever wins in the state gets all of the electoral college votes for that state.\n",
    "\n",
    "There are 538 electoral college votes (hence the name of the Nate Silver's site, FiveThirtyEight).\n",
    "\n",
    "Pollsters correctly predicted the election outcome in 46 of the 50 states. \n",
    "For these 46 states Trump received 231 and Clinton received 232 electoral college votes.\n",
    "\n",
    "The remaining 4 states accounted for a total of 75 votes, and \n",
    "whichever candidate received the majority of the electoral college votes in these states would win the election. \n",
    "\n",
    "These states were Florida, Michigan, Pennsylvania, and Wisconsin.\n",
    "\n",
    "|State |Electoral College Votes|\n",
    "| --- | --- |\n",
    "|Florida | 29 |\n",
    "|Michigan | 16 |\n",
    "|Pennsylvania | 20 |\n",
    "|Wisconsin | 10|\n",
    "\n",
    "For Donald Trump to win the election, he had to win either:\n",
    "* Florida + one (or more) other states\n",
    "* Michigan, Pennsylvania, and Wisconsin\n",
    "\n",
    "\n",
    "The electoral margins were very narrow in these four states, as seen below:\n",
    "\n",
    "\n",
    "|State | Trump |   Clinton | Total Voters |\n",
    "| --- | --- |  --- |  --- |\n",
    "|Florida | 49.02 | 47.82 | 9,419,886  | \n",
    "|Michigan | 47.50 | 47.27  |  4,799,284|\n",
    "|Pennsylvania | 48.18 | 47.46 |  6,165,478|\n",
    "|Wisconsin | 47.22 | 46.45  |  2,976,150|\n",
    "\n",
    "Those narrow electoral margins can make it hard to predict the outcome given the sample sizes that the polls used. "
   ]
  },
  {
   "cell_type": "markdown",
   "metadata": {
    "nbgrader": {
     "grade": false,
     "grade_id": "q1",
     "locked": true,
     "schema_version": 2,
     "solution": false
    }
   },
   "source": [
    "---\n",
    "## Simulation Study of the Sampling Error\n",
    "\n",
    "Now that we know how people actually voted, we can carry\n",
    "out a simulation study that imitates the polling.\n",
    "\n",
    "Our ultimate goal in this problem is to understand the chance that we will incorrectly call the election for Hillary Clinton even if our sample was collected with absolutely no bias."
   ]
  },
  {
   "cell_type": "markdown",
   "metadata": {
    "deletable": false,
    "editable": false,
    "nbgrader": {
     "grade": false,
     "grade_id": "q1a",
     "locked": true,
     "schema_version": 2,
     "solution": false
    }
   },
   "source": [
    "### Question 5\n",
    "\n",
    "#### Part 1 \n",
    "\n",
    "For your convenience, the results of the vote in the four pivotal states is repeated below:\n",
    "\n",
    "|State | Trump |   Clinton | Total Voters |\n",
    "| --- | --- |  --- |  --- |\n",
    "|Florida | 49.02 | 47.82 | 9,419,886  | \n",
    "|Michigan | 47.50 | 47.27  |  4,799,284|\n",
    "|Pennsylvania | 48.18 | 47.46 |  6,165,478|\n",
    "|Wisconsin | 47.22 | 46.45  |  2,976,150|\n",
    "\n",
    "\n",
    "Using the table above, write a function `draw_state_sample(N, state)` that returns a sample with replacement of N voters from the given state. Your result should be returned as a list, where the first element is the number of Trump votes, the second element is the number of Clinton votes, and the third is the number of Other votes. For example, `draw_state_sample(1500, \"florida\")` could return `[727, 692, 81]`. You may assume that the state name is given in all lower case.\n",
    "\n",
    "You might find `np.random.multinomial` useful.\n",
    "\n",
    "<!--\n",
    "BEGIN QUESTION\n",
    "name: q6a\n",
    "points: 2\n",
    "-->"
   ]
  },
  {
   "cell_type": "code",
   "execution_count": 28,
   "metadata": {},
   "outputs": [],
   "source": [
    "def draw_state_sample(N, state):\n",
    "    # BEGIN SOLUTION \n",
    "    if state == \"florida\":\n",
    "        return np.random.multinomial(N, [0.4902, 0.4782, 1 - (0.4902 + 0.4782)])\n",
    "    \n",
    "    if state == \"michigan\": \n",
    "        return np.random.multinomial(N, [0.475, 0.4727, 1 - (0.475 + 0.4727)])\n",
    "\n",
    "    if state == \"pennsylvania\":\n",
    "        return np.random.multinomial(N, [0.4818, 0.4746, 1 - (0.4818 + 0.4746)])\n",
    "  \n",
    "    if state == \"wisconsin\":\n",
    "        return np.random.multinomial(N, [0.4722, 0.4645, 1 - (0.4722 + 0.4645)])\n",
    "\n",
    "    raise(\"invalid state\")\n",
    "    # END SOLUTION"
   ]
  },
  {
   "cell_type": "code",
   "execution_count": 29,
   "metadata": {
    "deletable": false,
    "editable": false
   },
   "outputs": [
    {
     "data": {
      "text/html": [
       "\n",
       "    <p><strong>q6a</strong> passed!</p>\n",
       "    "
      ],
      "text/plain": [
       "q6a passed!"
      ]
     },
     "execution_count": 29,
     "metadata": {},
     "output_type": "execute_result"
    }
   ],
   "source": [
    "grader.check(\"q6a\")"
   ]
  },
  {
   "cell_type": "markdown",
   "metadata": {
    "deletable": false,
    "editable": false
   },
   "source": [
    "#### Part 2\n",
    "\n",
    "Now, create a function `trump_advantage` that takes in a sample of votes (like the one returned by `draw_state_sample`) and returns the difference in the proportion of votes between Trump and Clinton. For example `trump_advantage([100, 60, 40])` would return `0.2`, since Trump had 50% of the votes in this sample and Clinton had 30%.\n",
    "\n",
    "<!--\n",
    "BEGIN QUESTION\n",
    "name: q6b\n",
    "points: 1\n",
    "-->"
   ]
  },
  {
   "cell_type": "code",
   "execution_count": 30,
   "metadata": {},
   "outputs": [],
   "source": [
    "def trump_advantage(voter_sample):\n",
    "    # BEGIN SOLUTION \n",
    "    N = sum(voter_sample)\n",
    "    percentage_trump = voter_sample[0]/N \n",
    "    percentage_clinton = voter_sample[1]/N \n",
    "    return percentage_trump - percentage_clinton\n",
    "    # END SOLUTION"
   ]
  },
  {
   "cell_type": "code",
   "execution_count": 31,
   "metadata": {
    "deletable": false,
    "editable": false
   },
   "outputs": [
    {
     "data": {
      "text/html": [
       "\n",
       "    <p><strong>q6b</strong> passed!</p>\n",
       "    "
      ],
      "text/plain": [
       "q6b passed!"
      ]
     },
     "execution_count": 31,
     "metadata": {},
     "output_type": "execute_result"
    }
   ],
   "source": [
    "grader.check(\"q6b\")"
   ]
  },
  {
   "cell_type": "markdown",
   "metadata": {
    "deletable": false,
    "editable": false
   },
   "source": [
    "#### Part 3\n",
    "\n",
    "Simulate Trump's advantage across 100,000 simple random samples of 1500 voters for the state of Pennsylvania and store the results of each simulation in a list called `simulations`. \n",
    "\n",
    "That is, `simulations[i]` should be Trump's proportion advantage for the `i+1`th simple random sample.\n",
    "\n",
    "<!--\n",
    "BEGIN QUESTION\n",
    "name: q6c\n",
    "points: 1\n",
    "-->"
   ]
  },
  {
   "cell_type": "code",
   "execution_count": 32,
   "metadata": {},
   "outputs": [],
   "source": [
    "simulations = [trump_advantage(draw_state_sample(1500, \"pennsylvania\")) for i in range(100000)] # SOLUTION"
   ]
  },
  {
   "cell_type": "code",
   "execution_count": 33,
   "metadata": {
    "deletable": false,
    "editable": false
   },
   "outputs": [
    {
     "data": {
      "text/html": [
       "\n",
       "    <p><strong>q6c</strong> passed!</p>\n",
       "    "
      ],
      "text/plain": [
       "q6c passed!"
      ]
     },
     "execution_count": 33,
     "metadata": {},
     "output_type": "execute_result"
    }
   ],
   "source": [
    "grader.check(\"q6c\")"
   ]
  },
  {
   "cell_type": "markdown",
   "metadata": {
    "deletable": false,
    "editable": false,
    "nbgrader": {
     "grade": false,
     "grade_id": "q1c",
     "locked": true,
     "schema_version": 2,
     "solution": false
    }
   },
   "source": [
    "<!-- BEGIN QUESTION -->\n",
    "\n",
    "#### Part 4\n",
    "\n",
    "Make a histogram of the sampling distribution of Trump's proportion advantage in Pennsylvania. Make sure to give your plot a title and add labels where appropriate.\n",
    "Hint: You should use the [`plt.hist`](https://matplotlib.org/3.1.1/api/_as_gen/matplotlib.pyplot.hist.html) function in your code.\n",
    "\n",
    "Make sure to include a title as well as axis labels. You can do this using `plt.title`, `plt.xlabel`, and `plt.ylabel`.\n",
    "\n",
    "<!--\n",
    "BEGIN QUESTION\n",
    "name: q6d\n",
    "manual: true\n",
    "points: 1\n",
    "-->"
   ]
  },
  {
   "cell_type": "code",
   "execution_count": 34,
   "metadata": {
    "scrolled": false
   },
   "outputs": [
    {
     "data": {
      "image/png": "[encoded data removed]",
      "text/plain": [
       "<Figure size 2400x1200 with 1 Axes>"
      ]
     },
     "metadata": {},
     "output_type": "display_data"
    }
   ],
   "source": [
    "# BEGIN SOLUTION\n",
    "plt.hist(simulations) ;\n",
    "plt.title('Pennsylvania');\n",
    "plt.ylabel('# of Simulations');\n",
    "plt.xlabel('Sampling Distribution Advantage');\n",
    "# END SOLUTION"
   ]
  },
  {
   "cell_type": "markdown",
   "metadata": {
    "deletable": false,
    "editable": false
   },
   "source": [
    "<!-- END QUESTION -->\n",
    "\n",
    "#### Part 5\n",
    "\n",
    "Now write a function `trump_wins(N)` that creates a sample of N voters for each of the four crucial states (Florida, Michigan, Pennsylvania, and Wisconsin) and returns 1 if Trump is predicted to win based on these samples and 0 if Trump is predicted to lose.\n",
    "\n",
    "Recall that for Trump to win the election, he must either:\n",
    "* Win the state of Florida and 1 or more other states\n",
    "* Win Michigan, Pennsylvania, and Wisconsin\n",
    "\n",
    "<!--\n",
    "BEGIN QUESTION\n",
    "name: q6e\n",
    "manual: false\n",
    "points: 2\n",
    "-->"
   ]
  },
  {
   "cell_type": "code",
   "execution_count": 35,
   "metadata": {},
   "outputs": [],
   "source": [
    "def trump_wins(N):\n",
    "    # BEGIN SOLUTION \n",
    "    wins_florida = trump_advantage(draw_state_sample(N, \"florida\")) > 0\n",
    "    wins_michigan = trump_advantage(draw_state_sample(N, \"michigan\")) > 0\n",
    "    wins_pennsylvania = trump_advantage(draw_state_sample(N, \"pennsylvania\")) > 0\n",
    "    wins_wisconsin = trump_advantage(draw_state_sample(N, \"wisconsin\")) > 0\n",
    "    if wins_michigan and wins_pennsylvania and wins_wisconsin:\n",
    "        return 1\n",
    "    if wins_florida and (wins_michigan or wins_pennsylvania or wins_wisconsin):\n",
    "        return 1\n",
    "    return 0\n",
    "    # END SOLUTION"
   ]
  },
  {
   "cell_type": "code",
   "execution_count": 36,
   "metadata": {
    "deletable": false,
    "editable": false
   },
   "outputs": [
    {
     "data": {
      "text/html": [
       "\n",
       "    <p><strong>q6e</strong> passed!</p>\n",
       "    "
      ],
      "text/plain": [
       "q6e passed!"
      ]
     },
     "execution_count": 36,
     "metadata": {},
     "output_type": "execute_result"
    }
   ],
   "source": [
    "grader.check(\"q6e\")"
   ]
  },
  {
   "cell_type": "markdown",
   "metadata": {
    "deletable": false,
    "editable": false
   },
   "source": [
    "#### Part 6\n",
    "\n",
    "If we repeat 100,000 simulations of the election, i.e. we call `trump_wins(1500)` 100,000 times, what proportion of these simulations predict a Trump victory? Give your answer as `proportion_trump`.\n",
    "\n",
    "This number represents the percent chance that a given sample will correctly predict Trump's victory *even if the sample was collected with absolutely no bias*. \n",
    "\n",
    "**Note: Many laypeople, even well educated ones, assume that this number should be 1. After all, how could a non-biased sample be wrong? This is the type of incredibly important intuition we hope to develop in you throughout this class and your future data science coursework.**\n",
    "\n",
    "<!--\n",
    "BEGIN QUESTION\n",
    "name: q6f\n",
    "manual: false\n",
    "points: 1\n",
    "-->"
   ]
  },
  {
   "cell_type": "code",
   "execution_count": 37,
   "metadata": {},
   "outputs": [
    {
     "data": {
      "text/plain": [
       "0.69157"
      ]
     },
     "execution_count": 37,
     "metadata": {},
     "output_type": "execute_result"
    }
   ],
   "source": [
    "proportion_trump = np.mean([trump_wins(1500) for i in range(100000)]) # SOLUTION\n",
    "proportion_trump"
   ]
  },
  {
   "cell_type": "code",
   "execution_count": 38,
   "metadata": {
    "deletable": false,
    "editable": false
   },
   "outputs": [
    {
     "data": {
      "text/html": [
       "\n",
       "    <p><strong>q6f</strong> passed!</p>\n",
       "    "
      ],
      "text/plain": [
       "q6f passed!"
      ]
     },
     "execution_count": 38,
     "metadata": {},
     "output_type": "execute_result"
    }
   ],
   "source": [
    "grader.check(\"q6f\")"
   ]
  },
  {
   "cell_type": "markdown",
   "metadata": {},
   "source": [
    "We have just studied the sampling error, and found how \n",
    "our predictions might look if there was no bias in our \n",
    "sampling process. \n",
    "Essentially, we assumed that the people surveyed didn't change their minds, \n",
    "didn't hide who they voted for, and were representative\n",
    "of those who voted on election day."
   ]
  },
  {
   "cell_type": "markdown",
   "metadata": {
    "nbgrader": {
     "grade": false,
     "grade_id": "q2",
     "locked": true,
     "schema_version": 2,
     "solution": false
    }
   },
   "source": [
    "---\n",
    "## Simulation Study of Selection Bias\n",
    "\n",
    "According to an article by Grotenhuis, Subramanian, Nieuwenhuis, Pelzer and Eisinga (https://blogs.lse.ac.uk/usappblog/2018/02/01/better-poll-sampling-would-have-cast-more-doubt-on-the-potential-for-hillary-clinton-to-win-the-2016-election/#Author):\n",
    "\n",
    "\"In a perfect world, polls sample from the population of voters, who would state their political preference perfectly clearly and then vote accordingly.\"\n",
    "\n",
    "That's the simulation study that we just performed. \n",
    "\n",
    "\n",
    "It's difficult to control for every source of selection bias.\n",
    "And, it's not possible to control for some of the other sources of bias.\n",
    "\n",
    "Next we investigate the effect of small sampling bias on the polling results in these four battleground states.  \n",
    "\n",
    "Throughout this problem, we'll examine the impacts of a 0.5 percent bias in favor of Clinton in each state. Such a bias has been suggested because highly educated voters tend to be more willing to participate in polls."
   ]
  },
  {
   "cell_type": "markdown",
   "metadata": {
    "deletable": false,
    "editable": false,
    "nbgrader": {
     "grade": false,
     "grade_id": "q2a",
     "locked": true,
     "schema_version": 2,
     "solution": false
    }
   },
   "source": [
    "### Question 6\n",
    "\n",
    "Throughout this problem, adjust the selection of voters so that there is a 0.5% bias in favor of Clinton in each of these states. \n",
    "\n",
    "For example, in Pennsylvania, Clinton received 47.46 percent of the votes and Trump 48.18 percent. Increase the population of Clinton voters to 47.46 + 0.5  percent and correspondingly decrease the percent of Trump voters. \n",
    "\n",
    "#### Part 1\n",
    "\n",
    "Simulate Trump's advantage across 100,000 simple random samples of 1500 voters for the state of Pennsylvania and store the results of each simulation in a list called `biased_simulations`.\n",
    "\n",
    "That is, `biased_simulation[i]` should hold the result of the `i+1`th simulation.\n",
    "\n",
    "That is, your answer to this problem should be just like your answer from Question 6 part 3, but now using samples that are biased as described above.\n",
    "\n",
    "<!--\n",
    "BEGIN QUESTION\n",
    "name: q7a\n",
    "points: 1\n",
    "-->"
   ]
  },
  {
   "cell_type": "code",
   "execution_count": 39,
   "metadata": {},
   "outputs": [],
   "source": [
    "def draw_biased_state_sample(N, state):\n",
    "    \n",
    "    # BEGIN SOLUTION \n",
    "    if state == \"florida\":\n",
    "        return np.random.multinomial(N, [0.4902 - 0.005, 0.4782 + 0.005, 1 - (0.4902 + 0.4782)])\n",
    "    \n",
    "    if state == \"michigan\": \n",
    "        return np.random.multinomial(N, [0.475 - 0.005, 0.4727 + 0.005, 1 - (0.475 + 0.4727)])\n",
    "\n",
    "    if state == \"pennsylvania\":\n",
    "        return np.random.multinomial(N, [0.4818 - 0.005, 0.4746 + 0.005, 1 - (0.4818 + 0.4746)])\n",
    "  \n",
    "    if state == \"wisconsin\":\n",
    "        return np.random.multinomial(N, [0.4722 - 0.005, 0.4645 + 0.005, 1 - (0.4722 + 0.4645)])\n",
    "\n",
    "    raise(\"invalid state\")\n",
    "    # END SOLUTION\n",
    "    \n",
    "biased_simulations = [trump_advantage(draw_biased_state_sample(1500, \"pennsylvania\")) for i in range(100000)] # SOLUTION"
   ]
  },
  {
   "cell_type": "code",
   "execution_count": 40,
   "metadata": {
    "deletable": false,
    "editable": false
   },
   "outputs": [
    {
     "data": {
      "text/html": [
       "\n",
       "    <p><strong>q7a</strong> passed!</p>\n",
       "    "
      ],
      "text/plain": [
       "q7a passed!"
      ]
     },
     "execution_count": 40,
     "metadata": {},
     "output_type": "execute_result"
    }
   ],
   "source": [
    "grader.check(\"q7a\")"
   ]
  },
  {
   "cell_type": "markdown",
   "metadata": {
    "deletable": false,
    "editable": false
   },
   "source": [
    "<!-- BEGIN QUESTION -->\n",
    "\n",
    "#### Part 2\n",
    "\n",
    "Make a histogram of the new sampling distribution of Trump's proportion advantage now using these biased samples. That is, your histogram should be the same as in Q6.4, but now using the biased samples.\n",
    "\n",
    "Make sure to give your plot a title and add labels where appropriate.\n",
    "\n",
    "\n",
    "<!--\n",
    "BEGIN QUESTION\n",
    "name: q7b\n",
    "manual: true\n",
    "points: 1\n",
    "-->"
   ]
  },
  {
   "cell_type": "code",
   "execution_count": 41,
   "metadata": {},
   "outputs": [
    {
     "data": {
      "image/png": "[encoded data removed]",
      "text/plain": [
       "<Figure size 2400x1200 with 1 Axes>"
      ]
     },
     "metadata": {},
     "output_type": "display_data"
    }
   ],
   "source": [
    "# BEGIN SOLUTION\n",
    "plt.hist(biased_simulations) ;\n",
    "plt.title('Biased Sampling of Pennsylvania') ;\n",
    "plt.ylabel('# of Simulations');\n",
    "plt.xlabel('Sampling Distribution Advantage');\n",
    "# END SOLUTION"
   ]
  },
  {
   "cell_type": "markdown",
   "metadata": {
    "deletable": false,
    "editable": false
   },
   "source": [
    "<!-- END QUESTION -->\n",
    "\n",
    "<!-- BEGIN QUESTION -->\n",
    "\n",
    "#### Part 3\n",
    "\n",
    "Compare the histogram you created in Q7.2 to that in Q6.4. \n",
    "\n",
    "<!--\n",
    "BEGIN QUESTION\n",
    "name: q7c\n",
    "manual: true\n",
    "points: 2\n",
    "-->"
   ]
  },
  {
   "cell_type": "markdown",
   "metadata": {},
   "source": [
    "_Type your answer here, replacing this text._"
   ]
  },
  {
   "cell_type": "markdown",
   "metadata": {},
   "source": [
    "**SOLUTION:**\n",
    "Both histograms are similar in shape. They are nearly symmetric with reasonable length tails.\n",
    "The second histogram is shifted slightly to the left, which shows the bias introduced in the sampling process."
   ]
  },
  {
   "cell_type": "markdown",
   "metadata": {
    "deletable": false,
    "editable": false
   },
   "source": [
    "<!-- END QUESTION -->\n",
    "\n",
    "#### Part 4\n",
    "\n",
    "Now perform 100,000 simulations of all four states and return the proportion of these simulations that result in a Trump victory. This is the same fraction that you computed in Question 6 Part 6, but now using your biased samples.\n",
    "\n",
    "Give your answer as `proportion_trump_biased`.\n",
    "\n",
    "This number represents the chance that a sample biased 0.5% in Hillary Clinton's favor will correctly predict Trump's victory. You should observe that the chance is signficantly lower than with an unbiased sample, i.e. your answer in Q6.6.\n",
    "\n",
    "<!--\n",
    "BEGIN QUESTION\n",
    "name: q7d\n",
    "manual: false\n",
    "points: 1\n",
    "-->"
   ]
  },
  {
   "cell_type": "code",
   "execution_count": 42,
   "metadata": {},
   "outputs": [
    {
     "data": {
      "text/plain": [
       "0.46811"
      ]
     },
     "execution_count": 42,
     "metadata": {},
     "output_type": "execute_result"
    }
   ],
   "source": [
    "def trump_wins_biased(N): \n",
    "    # BEGIN SOLUTION \n",
    "    wins_florida = trump_advantage(draw_biased_state_sample(N, \"florida\")) > 0\n",
    "    wins_michigan = trump_advantage(draw_biased_state_sample(N, \"michigan\")) > 0\n",
    "    wins_pennsylvania = trump_advantage(draw_biased_state_sample(N, \"pennsylvania\")) > 0\n",
    "    wins_wisconsin = trump_advantage(draw_biased_state_sample(N, \"wisconsin\")) > 0\n",
    "    if wins_michigan and wins_pennsylvania and wins_wisconsin:\n",
    "        return 1\n",
    "    if wins_florida and (wins_michigan or wins_pennsylvania or wins_wisconsin):\n",
    "        return 1\n",
    "    return 0\n",
    "    # END SOLUTION\n",
    "\n",
    "proportion_trump_biased = np.mean([trump_wins_biased(1500) for i in range(100000)]) # SOLUTION\n",
    "proportion_trump_biased"
   ]
  },
  {
   "cell_type": "code",
   "execution_count": 43,
   "metadata": {
    "deletable": false,
    "editable": false
   },
   "outputs": [
    {
     "data": {
      "text/html": [
       "\n",
       "    <p><strong>q7d</strong> passed!</p>\n",
       "    "
      ],
      "text/plain": [
       "q7d passed!"
      ]
     },
     "execution_count": 43,
     "metadata": {},
     "output_type": "execute_result"
    }
   ],
   "source": [
    "grader.check(\"q7d\")"
   ]
  },
  {
   "cell_type": "markdown",
   "metadata": {},
   "source": [
    "Congratulations on finishing homework 1! Please submit your finished homework before **Thursday, February 11th, 11:59PM**\n",
    "\n",
    "**Important**: To make sure the test cases run correctly, click `Kernel>Restart & Run All` and make sure all of the test cases are still passing."
   ]
  },
  {
   "cell_type": "markdown",
   "metadata": {
    "deletable": false,
    "editable": false
   },
   "source": [
    "---\n",
    "\n",
    "To double-check your work, the cell below will rerun all of the autograder tests."
   ]
  },
  {
   "cell_type": "code",
   "execution_count": 44,
   "metadata": {
    "deletable": false,
    "editable": false
   },
   "outputs": [
    {
     "data": {
      "text/html": [
       "\n",
       "    <p><strong>q1a</strong> passed!</p>\n",
       "    \n",
       "\n",
       "\n",
       "    <p><strong>q1b</strong> passed!</p>\n",
       "    \n",
       "\n",
       "\n",
       "    <p><strong>q1c</strong> passed!</p>\n",
       "    \n",
       "\n",
       "\n",
       "    <p><strong>q2a</strong> passed!</p>\n",
       "    \n",
       "\n",
       "\n",
       "    <p><strong>q2b</strong> passed!</p>\n",
       "    \n",
       "\n",
       "\n",
       "    <p><strong>q2c</strong> passed!</p>\n",
       "    \n",
       "\n",
       "\n",
       "    <p><strong>q3a</strong> passed!</p>\n",
       "    \n",
       "\n",
       "\n",
       "    <p><strong>q3b</strong> passed!</p>\n",
       "    \n",
       "\n",
       "\n",
       "    <p><strong>q3c</strong> passed!</p>\n",
       "    \n",
       "\n",
       "\n",
       "    <p><strong>q3d</strong> passed!</p>\n",
       "    \n",
       "\n",
       "\n",
       "    <p><strong>q6a</strong> passed!</p>\n",
       "    \n",
       "\n",
       "\n",
       "    <p><strong>q6b</strong> passed!</p>\n",
       "    \n",
       "\n",
       "\n",
       "    <p><strong>q6c</strong> passed!</p>\n",
       "    \n",
       "\n",
       "\n",
       "    <p><strong>q6e</strong> passed!</p>\n",
       "    \n",
       "\n",
       "\n",
       "    <p><strong>q6f</strong> passed!</p>\n",
       "    \n",
       "\n",
       "\n",
       "    <p><strong>q7a</strong> passed!</p>\n",
       "    \n",
       "\n",
       "\n",
       "    <p><strong>q7d</strong> passed!</p>\n",
       "    \n",
       "\n"
      ],
      "text/plain": [
       "q1a passed!\n",
       "\n",
       "q1b passed!\n",
       "\n",
       "q1c passed!\n",
       "\n",
       "q2a passed!\n",
       "\n",
       "q2b passed!\n",
       "\n",
       "q2c passed!\n",
       "\n",
       "q3a passed!\n",
       "\n",
       "q3b passed!\n",
       "\n",
       "q3c passed!\n",
       "\n",
       "q3d passed!\n",
       "\n",
       "q6a passed!\n",
       "\n",
       "q6b passed!\n",
       "\n",
       "q6c passed!\n",
       "\n",
       "q6e passed!\n",
       "\n",
       "q6f passed!\n",
       "\n",
       "q7a passed!\n",
       "\n",
       "q7d passed!\n"
      ]
     },
     "execution_count": 44,
     "metadata": {},
     "output_type": "execute_result"
    }
   ],
   "source": [
    "grader.check_all()"
   ]
  },
  {
   "cell_type": "markdown",
   "metadata": {
    "deletable": false,
    "editable": false
   },
   "source": [
    "## Submission\n",
    "\n",
    "Make sure you have run all cells in your notebook in order before running the cell below, so that all images/graphs appear in the output. The cell below will generate a zip file for you to submit. **Please save before exporting!**"
   ]
  },
  {
   "cell_type": "code",
   "execution_count": 45,
   "metadata": {
    "deletable": false,
    "editable": false
   },
   "outputs": [
    {
     "data": {
      "application/javascript": [
       "Jupyter.notebook.save_checkpoint();"
      ],
      "text/plain": [
       "<IPython.core.display.Javascript object>"
      ]
     },
     "metadata": {},
     "output_type": "display_data"
    },
    {
     "data": {
      "text/html": [
       "\n",
       "                <p>Your submission has been exported. Click <a href=\"hw1.zip\" target=\"_blank\">here</a>\n",
       "                to download the zip file.</p>\n",
       "                "
      ],
      "text/plain": [
       "<IPython.core.display.HTML object>"
      ]
     },
     "metadata": {},
     "output_type": "display_data"
    }
   ],
   "source": [
    "# Save your notebook first, then run this cell to export your submission.\n",
    "grader.export()"
   ]
  },
  {
   "cell_type": "markdown",
   "metadata": {},
   "source": [
    " "
   ]
  }
 ],
 "metadata": {
  "celltoolbar": "Create Assignment",
  "history": [
   {
    "code": "import numpy as np\nimport matplotlib\nimport matplotlib.pyplot as plt\nimport seaborn as sns\n\nplt.style.use('fivethirtyeight')\n\n# Default plot configurations\n%matplotlib inline\nplt.rcParams['figure.figsize'] = (16,8)\nplt.rcParams['figure.dpi'] = 150\nsns.set()\n\nfrom IPython.display import display, Latex, Markdown",
    "id": "e0f26d87269e45c0bfb6b36fceedf6b6",
    "idx": 7,
    "time": "2021-01-31T00:00:44.943Z",
    "type": "execution"
   },
   {
    "id": "e0f26d87269e45c0bfb6b36fceedf6b6",
    "time": "2021-01-31T00:00:46.022Z",
    "type": "completion"
   },
   {
    "code": "from scipy import special",
    "id": "66ec80ea61534b03a73e54656c40d22e",
    "idx": 10,
    "time": "2021-01-31T00:01:03.899Z",
    "type": "execution"
   },
   {
    "id": "66ec80ea61534b03a73e54656c40d22e",
    "time": "2021-01-31T00:01:03.967Z",
    "type": "completion"
   },
   {
    "code": "special.factorial(5), special.factorial(range(1, 6))",
    "id": "74218be2faf14b3f87ecd4e68d7dcc59",
    "idx": 12,
    "time": "2021-01-31T00:01:10.271Z",
    "type": "execution"
   },
   {
    "id": "74218be2faf14b3f87ecd4e68d7dcc59",
    "time": "2021-01-31T00:01:10.385Z",
    "type": "completion"
   },
   {
    "code": "special.comb(5, 3), special.factorial(5) / (special.factorial(3) * special.factorial(2))",
    "id": "a2e280ffca8b4e3e8055c0c6f5e8597b",
    "idx": 14,
    "time": "2021-01-31T00:01:49.372Z",
    "type": "execution"
   },
   {
    "id": "a2e280ffca8b4e3e8055c0c6f5e8597b",
    "time": "2021-01-31T00:01:49.491Z",
    "type": "completion"
   },
   {
    "code": "special.comb(5, range(6))",
    "id": "8ab33c5a67904e8187b33beb9b4b163f",
    "idx": 15,
    "time": "2021-01-31T00:01:54.230Z",
    "type": "execution"
   },
   {
    "id": "8ab33c5a67904e8187b33beb9b4b163f",
    "time": "2021-01-31T00:01:54.327Z",
    "type": "completion"
   },
   {
    "code": "special.comb(100, 50), special.comb(100, 50, exact=True)",
    "id": "110bff796296429f9d68f4657e584e5a",
    "idx": 16,
    "time": "2021-01-31T00:02:03.306Z",
    "type": "execution"
   },
   {
    "id": "110bff796296429f9d68f4657e584e5a",
    "time": "2021-01-31T00:02:03.397Z",
    "type": "completion"
   },
   {
    "code": "prob_1a = special.comb(100, 20)*(0.26**20)*(0.74**80) # SOLUTION\nprob_1a",
    "id": "11b967c112d24318a000327ae0a15b11",
    "idx": 20,
    "time": "2021-01-31T00:03:06.585Z",
    "type": "execution"
   },
   {
    "id": "11b967c112d24318a000327ae0a15b11",
    "time": "2021-01-31T00:03:06.698Z",
    "type": "completion"
   },
   {
    "code": "# TEST\nprob_1a >= 0 and prob_1a <= 1",
    "id": "c0df665e2fa746ce8fe9327cda88c9af",
    "idx": 21,
    "time": "2021-01-31T00:03:11.543Z",
    "type": "execution"
   },
   {
    "id": "c0df665e2fa746ce8fe9327cda88c9af",
    "time": "2021-01-31T00:03:11.615Z",
    "type": "completion"
   },
   {
    "code": "# HIDDEN TEST\nnp.isclose(prob_1a, 0.0369, atol = 1e-4)",
    "id": "2ba4b5fd38e147fa87fe90c536634998",
    "idx": 22,
    "time": "2021-01-31T00:03:21.174Z",
    "type": "execution"
   },
   {
    "id": "2ba4b5fd38e147fa87fe90c536634998",
    "time": "2021-01-31T00:03:21.269Z",
    "type": "completion"
   },
   {
    "code": "k = np.arange(101)\nall_probs = special.comb(100, k)*(0.26**k)*(0.74**(100-k)) # SOLUTION\nnp.round(all_probs, 4), sum(all_probs)",
    "id": "680b580a3df143f081f249b683d30dd8",
    "idx": 24,
    "time": "2021-01-31T00:03:53.452Z",
    "type": "execution"
   },
   {
    "id": "680b580a3df143f081f249b683d30dd8",
    "time": "2021-01-31T00:03:53.523Z",
    "type": "completion"
   },
   {
    "code": "# TEST\nnp.all(all_probs >= 0) and np.all(all_probs <= 1)",
    "id": "9aae8eac2ccb4d8c8a75226cb5f5585d",
    "idx": 25,
    "time": "2021-01-31T00:03:58.150Z",
    "type": "execution"
   },
   {
    "id": "9aae8eac2ccb4d8c8a75226cb5f5585d",
    "time": "2021-01-31T00:03:58.247Z",
    "type": "completion"
   },
   {
    "code": "# HIDDEN TEST\nk = np.arange(101)\ntest_1b = special.comb(100, k)*(0.26**k)*(0.74**(100-k))\nnp.all(np.isclose(test_1b, all_probs, atol = 1e-5))",
    "id": "040a151e6fe64bc1be31522ff6f23df0",
    "idx": 26,
    "time": "2021-01-31T00:04:04.752Z",
    "type": "execution"
   },
   {
    "id": "040a151e6fe64bc1be31522ff6f23df0",
    "time": "2021-01-31T00:04:04.856Z",
    "type": "completion"
   },
   {
    "code": "prob_1c = sum(all_probs[16:37]) # SOLUTION",
    "id": "4562fc3eb3bf4e8097097af998fc2091",
    "idx": 28,
    "time": "2021-01-31T00:04:23.696Z",
    "type": "execution"
   },
   {
    "id": "4562fc3eb3bf4e8097097af998fc2091",
    "time": "2021-01-31T00:04:23.768Z",
    "type": "completion"
   },
   {
    "code": "# TEST\nprob_1c >= 0 and prob_1c <= 1",
    "id": "c5cef1c6c12f4346b36754d237180fcb",
    "idx": 29,
    "time": "2021-01-31T00:04:25.736Z",
    "type": "execution"
   },
   {
    "id": "c5cef1c6c12f4346b36754d237180fcb",
    "time": "2021-01-31T00:04:25.826Z",
    "type": "completion"
   },
   {
    "code": "# HIDDEN TEST\nnp.isclose(prob_1c, 0.9838, atol = 1e-4)",
    "id": "8f4567fb9b3446fe97c7b3138c339f2d",
    "idx": 30,
    "time": "2021-01-31T00:04:28.672Z",
    "type": "execution"
   },
   {
    "id": "8f4567fb9b3446fe97c7b3138c339f2d",
    "time": "2021-01-31T00:04:28.736Z",
    "type": "completion"
   },
   {
    "code": "def prob_at_most(n, p, s):\n    \"\"\" \n    returns the probability of S <= s\n    Input n: sample size; p : proportion; s: number of successes at most\"\"\"\n    # BEGIN SOLUTION\n    if 0 <= p and p <= 1 and s <= n:\n        k = np.arange(n+1)\n        all_probs = special.comb(n, k)*(p**k)*((1-p)**(n-k))\n        return sum(all_probs[:s+1])\n    else:\n        return 0\n    # END SOLUTION",
    "id": "3c460f7a60d14e1f8e2e0ee0c4b4fa0a",
    "idx": 34,
    "time": "2021-01-31T00:05:16.508Z",
    "type": "execution"
   },
   {
    "id": "3c460f7a60d14e1f8e2e0ee0c4b4fa0a",
    "time": "2021-01-31T00:05:16.583Z",
    "type": "completion"
   },
   {
    "code": "# TEST\nprob_at_most(3, 0.4, 1) >= 0",
    "id": "2353d1be827e4a9c85db6ed88432b1e9",
    "idx": 35,
    "time": "2021-01-31T00:05:21.251Z",
    "type": "execution"
   },
   {
    "id": "2353d1be827e4a9c85db6ed88432b1e9",
    "time": "2021-01-31T00:05:21.336Z",
    "type": "completion"
   },
   {
    "code": "# TEST\nprob_at_most(5, 0.6, 3) <= 1",
    "id": "bb01ea1c941448c09e031bb04729410e",
    "idx": 36,
    "time": "2021-01-31T00:05:23.319Z",
    "type": "execution"
   },
   {
    "id": "bb01ea1c941448c09e031bb04729410e",
    "time": "2021-01-31T00:05:23.404Z",
    "type": "completion"
   },
   {
    "code": "# TEST\nprob_at_most(2, 3, 4) == 0",
    "id": "a2536c9fedf945cfae586126404b973c",
    "idx": 37,
    "time": "2021-01-31T00:05:25.270Z",
    "type": "execution"
   },
   {
    "id": "a2536c9fedf945cfae586126404b973c",
    "time": "2021-01-31T00:05:25.361Z",
    "type": "completion"
   },
   {
    "code": "# HIDDEN TEST\nnp.isclose(prob_at_most(10, 0.7, 4), 0.0473, atol = 1e-4)",
    "id": "9580ba3089d3423982cdc471707a6530",
    "idx": 38,
    "time": "2021-01-31T00:05:27.597Z",
    "type": "execution"
   },
   {
    "id": "9580ba3089d3423982cdc471707a6530",
    "time": "2021-01-31T00:05:27.688Z",
    "type": "completion"
   },
   {
    "code": "# HIDDEN TEST\nnp.isclose(prob_at_most(10, 0.7, 4), 0.0473, atol = 1e-4)",
    "id": "680526becbd2443380c4723e80992be2",
    "idx": 39,
    "time": "2021-01-31T00:05:29.994Z",
    "type": "execution"
   },
   {
    "id": "680526becbd2443380c4723e80992be2",
    "time": "2021-01-31T00:05:30.067Z",
    "type": "completion"
   },
   {
    "code": "# HIDDEN TEST\nnp.isclose(prob_at_most(5, 1, 1), 0, atol = 1e-4)",
    "id": "68cb538112984b1ab9ae11222f3d6507",
    "idx": 40,
    "time": "2021-01-31T00:05:31.765Z",
    "type": "execution"
   },
   {
    "id": "68cb538112984b1ab9ae11222f3d6507",
    "time": "2021-01-31T00:05:31.862Z",
    "type": "completion"
   },
   {
    "code": "# HIDDEN TEST\nnp.isclose(prob_at_most(8, 0.7, 3), 0.05797, atol = 1e-4)",
    "id": "2b4efd4c1129412f86f02e92a26ebd5d",
    "idx": 41,
    "time": "2021-01-31T00:05:33.608Z",
    "type": "execution"
   },
   {
    "id": "2b4efd4c1129412f86f02e92a26ebd5d",
    "time": "2021-01-31T00:05:33.683Z",
    "type": "completion"
   },
   {
    "code": "p_majority = 1 - prob_at_most(200, 0.45, 100) # SOLUTION \np_majority",
    "id": "c2241aebeece43e185d7f4ca7780ff86",
    "idx": 43,
    "time": "2021-01-31T00:06:18.594Z",
    "type": "execution"
   },
   {
    "id": "c2241aebeece43e185d7f4ca7780ff86",
    "time": "2021-01-31T00:06:18.673Z",
    "type": "completion"
   },
   {
    "code": "# TEST\np_majority >= 0 and p_majority <= 1",
    "id": "ef40c29343dc44e6a2c5d52489fc8b7b",
    "idx": 44,
    "time": "2021-01-31T00:06:20.917Z",
    "type": "execution"
   },
   {
    "id": "ef40c29343dc44e6a2c5d52489fc8b7b",
    "time": "2021-01-31T00:06:20.995Z",
    "type": "completion"
   },
   {
    "code": "# HIDDEN TEST\nnp.isclose(p_majority, 0.06807, atol = 1e-4)",
    "id": "ecabc906b2ef44ab86a0990b6aae4141",
    "idx": 45,
    "time": "2021-01-31T00:06:22.936Z",
    "type": "execution"
   },
   {
    "id": "ecabc906b2ef44ab86a0990b6aae4141",
    "time": "2021-01-31T00:06:23.015Z",
    "type": "completion"
   },
   {
    "code": "prob_2c = 1 - (prob_at_most(200, 0.45, 100)**3)*prob_at_most(300, 0.45, 150)*prob_at_most(400, 0.45, 200) # SOLUTION\nprob_2c",
    "id": "d87251d5fc4f4d6ca589847a8751a35a",
    "idx": 47,
    "time": "2021-01-31T00:07:40.930Z",
    "type": "execution"
   },
   {
    "id": "d87251d5fc4f4d6ca589847a8751a35a",
    "time": "2021-01-31T00:07:41.039Z",
    "type": "completion"
   },
   {
    "code": "# TEST\nprob_2c >= 0 and prob_2c <= 1",
    "id": "6a16827237c940a192047a7771a08dd4",
    "idx": 48,
    "time": "2021-01-31T00:07:47.093Z",
    "type": "execution"
   },
   {
    "id": "6a16827237c940a192047a7771a08dd4",
    "time": "2021-01-31T00:07:47.176Z",
    "type": "completion"
   },
   {
    "code": "# HIDDEN TEST\nnp.isclose(prob_2c, 0.2355, atol = 1e-4)",
    "id": "3d3d58e755334c9e90b58cb5e07b733e",
    "idx": 49,
    "time": "2021-01-31T00:07:49.945Z",
    "type": "execution"
   },
   {
    "id": "3d3d58e755334c9e90b58cb5e07b733e",
    "time": "2021-01-31T00:07:50.029Z",
    "type": "completion"
   },
   {
    "code": "ans_3a = 'b' # SOLUTION",
    "id": "50640dfb9319477e84fe6aac0992e990",
    "idx": 53,
    "time": "2021-01-31T00:09:15.284Z",
    "type": "execution"
   },
   {
    "id": "50640dfb9319477e84fe6aac0992e990",
    "time": "2021-01-31T00:09:15.368Z",
    "type": "completion"
   },
   {
    "code": "# TEST\nans_3a in ['a', 'b', 'c', 'd']",
    "id": "6fc97225e5ab42a4bbe1630e535ac8b8",
    "idx": 54,
    "time": "2021-01-31T00:09:18.686Z",
    "type": "execution"
   },
   {
    "id": "6fc97225e5ab42a4bbe1630e535ac8b8",
    "time": "2021-01-31T00:09:18.772Z",
    "type": "completion"
   },
   {
    "code": "# HIDDEN TEST\nans_3a == 'b'",
    "id": "a85aea181e8b4aa78d1c7509848a4218",
    "idx": 55,
    "time": "2021-01-31T00:09:24.718Z",
    "type": "execution"
   },
   {
    "id": "a85aea181e8b4aa78d1c7509848a4218",
    "time": "2021-01-31T00:09:24.790Z",
    "type": "completion"
   },
   {
    "code": "def draw_state_sample(N, state):\n    # BEGIN SOLUTION \n    if state == \"florida\":\n        return np.random.multinomial(N, [0.4902, 0.4782, 1 - (0.4902 + 0.4782)])\n    \n    if state == \"michigan\": \n        return np.random.multinomial(N, [0.475, 0.4727, 1 - (0.475 + 0.4727)])\n\n    if state == \"pennsylvania\":\n        return np.random.multinomial(N, [0.4818, 0.4746, 1 - (0.4818 + 0.4746)])\n  \n    if state == \"wisconsin\":\n        return np.random.multinomial(N, [0.4722, 0.4645, 1 - (0.4722 + 0.4645)])\n\n    raise(\"invalid state\")\n    # END SOLUTION",
    "id": "7d38f2368ee948c58e72299bae8d0eb6",
    "idx": 88,
    "time": "2021-01-31T00:29:31.030Z",
    "type": "execution"
   },
   {
    "id": "7d38f2368ee948c58e72299bae8d0eb6",
    "time": "2021-01-31T00:29:31.127Z",
    "type": "completion"
   },
   {
    "code": "def trump_advantage(voter_sample):\n    # BEGIN SOLUTION \n    N = sum(voter_sample)\n    percentage_trump = voter_sample[0]/N \n    percentage_clinton = voter_sample[1]/N \n    return percentage_trump - percentage_clinton\n    # END SOLUTION",
    "id": "642411d462f5441d833ab36326f2c6cb",
    "idx": 93,
    "time": "2021-01-31T00:29:36.478Z",
    "type": "execution"
   },
   {
    "id": "642411d462f5441d833ab36326f2c6cb",
    "time": "2021-01-31T00:29:36.540Z",
    "type": "completion"
   },
   {
    "code": "simulations = [trump_advantage(draw_state_sample(1500, \"pennsylvania\")) for i in range(100000)] # SOLUTION",
    "id": "b40208d1e63847148280f055f7fde1a1",
    "idx": 98,
    "time": "2021-01-31T00:29:39.562Z",
    "type": "execution"
   },
   {
    "id": "b40208d1e63847148280f055f7fde1a1",
    "time": "2021-01-31T00:29:41.773Z",
    "type": "completion"
   },
   {
    "code": "# TEST\nlen(simulations) == 100000",
    "id": "9325f4e258b640ddbe69422db931019c",
    "idx": 99,
    "time": "2021-01-31T00:29:46.453Z",
    "type": "execution"
   },
   {
    "id": "9325f4e258b640ddbe69422db931019c",
    "time": "2021-01-31T00:29:46.555Z",
    "type": "completion"
   },
   {
    "code": "# TEST\nsum([-1 < x < 1 for x in simulations]) == len(simulations)",
    "id": "f6f085b9552848de809c1015ead34f6a",
    "idx": 100,
    "time": "2021-01-31T00:29:48.277Z",
    "type": "execution"
   },
   {
    "id": "f6f085b9552848de809c1015ead34f6a",
    "time": "2021-01-31T00:29:48.650Z",
    "type": "completion"
   },
   {
    "code": "# TEST\nabs(np.mean(simulations) - 0.007) <= 0.016",
    "id": "4fd366b367c2453b9b4d833bdf31cb4d",
    "idx": 101,
    "time": "2021-01-31T00:29:51.065Z",
    "type": "execution"
   },
   {
    "id": "4fd366b367c2453b9b4d833bdf31cb4d",
    "time": "2021-01-31T00:29:51.149Z",
    "type": "completion"
   },
   {
    "code": "# BEGIN SOLUTION\nplt.hist(simulations) ;\nplt.title('Pennsylvania');\nplt.ylabel('# of Simulations');\nplt.xlabel('Sampling Distribution Advantage');\n# END SOLUTION",
    "id": "2a3eb285b37c4b4498b2f31db353a0bc",
    "idx": 103,
    "time": "2021-01-31T00:30:09.378Z",
    "type": "execution"
   },
   {
    "id": "2a3eb285b37c4b4498b2f31db353a0bc",
    "time": "2021-01-31T00:30:10.367Z",
    "type": "completion"
   },
   {
    "code": "def trump_wins(N):\n    # BEGIN SOLUTION \n    wins_florida = trump_advantage(draw_state_sample(N, \"florida\")) > 0\n    wins_michigan = trump_advantage(draw_state_sample(N, \"michigan\")) > 0\n    wins_pennsylvania = trump_advantage(draw_state_sample(N, \"pennsylvania\")) > 0\n    wins_wisconsin = trump_advantage(draw_state_sample(N, \"wisconsin\")) > 0\n    if wins_michigan and wins_pennsylvania and wins_wisconsin:\n        return 1\n    if wins_florida and (wins_michigan or wins_pennsylvania or wins_wisconsin):\n        return 1\n    return 0\n    # END SOLUTION",
    "id": "998c18d0266340d88b01c0d0d4c8c689",
    "idx": 105,
    "time": "2021-01-31T00:30:57.813Z",
    "type": "execution"
   },
   {
    "id": "998c18d0266340d88b01c0d0d4c8c689",
    "time": "2021-01-31T00:30:57.878Z",
    "type": "completion"
   },
   {
    "code": "# TEST\ntrump_wins(1000) in [0, 1]",
    "id": "ecadaaed11094930b8e9dae7453c68b3",
    "idx": 106,
    "time": "2021-01-31T00:31:03.407Z",
    "type": "execution"
   },
   {
    "id": "ecadaaed11094930b8e9dae7453c68b3",
    "time": "2021-01-31T00:31:03.475Z",
    "type": "completion"
   },
   {
    "code": "proportion_trump = np.mean([trump_wins(1500) for i in range(100000)]) # SOLUTION\nproportion_trump",
    "id": "4024d9e3516e46449fb5dafafd3e1712",
    "idx": 108,
    "time": "2021-01-31T00:31:55.539Z",
    "type": "execution"
   },
   {
    "id": "4024d9e3516e46449fb5dafafd3e1712",
    "time": "2021-01-31T00:32:04.593Z",
    "type": "completion"
   },
   {
    "code": "# TEST\n0 < proportion_trump < 1",
    "id": "980e883e9ba44216a7c58a6d795125fb",
    "idx": 109,
    "time": "2021-01-31T00:32:12.954Z",
    "type": "execution"
   },
   {
    "id": "980e883e9ba44216a7c58a6d795125fb",
    "time": "2021-01-31T00:32:13.026Z",
    "type": "completion"
   },
   {
    "code": "# TEST\nabs(proportion_trump - 0.695) <= 0.02",
    "id": "253eac61ff22445aae7914732a657932",
    "idx": 110,
    "time": "2021-01-31T00:32:15.008Z",
    "type": "execution"
   },
   {
    "id": "253eac61ff22445aae7914732a657932",
    "time": "2021-01-31T00:32:15.081Z",
    "type": "completion"
   },
   {
    "code": "def draw_biased_state_sample(N, state):\n    \n    # BEGIN SOLUTION \n    if state == \"florida\":\n        return np.random.multinomial(N, [0.4902 - 0.005, 0.4782 + 0.005, 1 - (0.4902 + 0.4782)])\n    \n    if state == \"michigan\": \n        return np.random.multinomial(N, [0.475 - 0.005, 0.4727 + 0.005, 1 - (0.475 + 0.4727)])\n\n    if state == \"pennsylvania\":\n        return np.random.multinomial(N, [0.4818 - 0.005, 0.4746 + 0.005, 1 - (0.4818 + 0.4746)])\n  \n    if state == \"wisconsin\":\n        return np.random.multinomial(N, [0.4722 - 0.005, 0.4645 + 0.005, 1 - (0.4722 + 0.4645)])\n\n    raise(\"invalid state\")\n    # END SOLUTION\n    \nbiased_simulations = [trump_advantage(draw_biased_state_sample(1500, \"pennsylvania\")) for i in range(100000)] # SOLUTION",
    "id": "5fcabc3ae76845dd9ece53a5cbb18abb",
    "idx": 114,
    "time": "2021-01-31T00:34:06.937Z",
    "type": "execution"
   },
   {
    "id": "5fcabc3ae76845dd9ece53a5cbb18abb",
    "time": "2021-01-31T00:34:09.338Z",
    "type": "completion"
   },
   {
    "code": "# TEST\nlen(draw_biased_state_sample(1000, \"wisconsin\")) == 3",
    "id": "1de2975f387f482d8fe4ff027219735e",
    "idx": 115,
    "time": "2021-01-31T00:34:16.150Z",
    "type": "execution"
   },
   {
    "id": "1de2975f387f482d8fe4ff027219735e",
    "time": "2021-01-31T00:34:16.244Z",
    "type": "completion"
   },
   {
    "code": "biased_simulations",
    "id": "e3d08d5287e7439d898537c98e9082a3",
    "idx": 115,
    "time": "2021-01-31T00:34:30.430Z",
    "type": "execution"
   },
   {
    "id": "e3d08d5287e7439d898537c98e9082a3",
    "time": "2021-01-31T00:34:30.634Z",
    "type": "completion"
   },
   {
    "code": "# BEGIN SOLUTION\nplt.hist(biased_simulations) ;\nplt.title('Biased Sampling of Pennsylvania') ;\nplt.ylabel('# of Simulations');\nplt.xlabel('Sampling Distribution Advantage');\n# END SOLUTION",
    "id": "08d9d5c15dfc4d05a8effdb32a09fc47",
    "idx": 122,
    "time": "2021-01-31T00:34:40.659Z",
    "type": "execution"
   },
   {
    "id": "08d9d5c15dfc4d05a8effdb32a09fc47",
    "time": "2021-01-31T00:34:41.638Z",
    "type": "completion"
   },
   {
    "code": "def trump_wins_biased(N): \n    # BEGIN SOLUTION \n    wins_florida = trump_advantage(draw_biased_state_sample(N, \"florida\")) > 0\n    wins_michigan = trump_advantage(draw_biased_state_sample(N, \"michigan\")) > 0\n    wins_pennsylvania = trump_advantage(draw_biased_state_sample(N, \"pennsylvania\")) > 0\n    wins_wisconsin = trump_advantage(draw_biased_state_sample(N, \"wisconsin\")) > 0\n    if wins_michigan and wins_pennsylvania and wins_wisconsin:\n        return 1\n    if wins_florida and (wins_michigan or wins_pennsylvania or wins_wisconsin):\n        return 1\n    return 0\n    # END SOLUTION\n\nproportion_trump_biased = np.mean([trump_wins_biased(1500) for i in range(100000)]) # SOLUTION\nproportion_trump_biased",
    "id": "4c153187bb6c4b658b8aee13f5c086e2",
    "idx": 126,
    "time": "2021-01-31T00:37:09.180Z",
    "type": "execution"
   },
   {
    "id": "4c153187bb6c4b658b8aee13f5c086e2",
    "time": "2021-01-31T00:37:18.306Z",
    "type": "completion"
   },
   {
    "code": "# TEST\n0 < proportion_trump_biased < 1",
    "id": "939b51c4ee9e457d85890cebe1baa229",
    "idx": 127,
    "time": "2021-01-31T00:37:26.486Z",
    "type": "execution"
   },
   {
    "id": "939b51c4ee9e457d85890cebe1baa229",
    "time": "2021-01-31T00:37:26.560Z",
    "type": "completion"
   },
   {
    "code": "# TEST\nabs(proportion_trump_biased - 0.466) <= 0.04",
    "id": "9aafa2a279664cb68bd2f7878c5f9a11",
    "idx": 128,
    "time": "2021-01-31T00:37:29.480Z",
    "type": "execution"
   },
   {
    "id": "9aafa2a279664cb68bd2f7878c5f9a11",
    "time": "2021-01-31T00:37:29.546Z",
    "type": "completion"
   },
   {
    "code": "# Initialize Otter\nimport otter\ngrader = otter.Notebook(\"hw1.ipynb\")",
    "id": "5ae9d128109548a380c546d7ee724da9",
    "idx": 0,
    "time": "2021-02-07T21:47:40.145Z",
    "type": "execution"
   },
   {
    "code": "import numpy as np\nimport matplotlib\nimport matplotlib.pyplot as plt\nimport seaborn as sns\n\nplt.style.use('fivethirtyeight')\n\n# Default plot configurations\n%matplotlib inline\nplt.rcParams['figure.figsize'] = (16,8)\nplt.rcParams['figure.dpi'] = 150\nsns.set()\n\nfrom IPython.display import display, Latex, Markdown",
    "id": "1c5be06bcfa540f489e81de15dfb0c1f",
    "idx": 7,
    "time": "2021-02-07T21:47:40.166Z",
    "type": "execution"
   },
   {
    "code": "from scipy import special",
    "id": "529232a6874348d5857c8c7e845e6be1",
    "idx": 10,
    "time": "2021-02-07T21:47:40.171Z",
    "type": "execution"
   },
   {
    "code": "special.factorial(5), special.factorial(range(1, 6))",
    "id": "dd8ad4b6b54e4fdc8bb2b7d92f667c96",
    "idx": 12,
    "time": "2021-02-07T21:47:40.175Z",
    "type": "execution"
   },
   {
    "code": "special.comb(5, 3), special.factorial(5) / (special.factorial(3) * special.factorial(2))",
    "id": "da42616a1fbc48fba168153738b9f6ff",
    "idx": 14,
    "time": "2021-02-07T21:47:40.186Z",
    "type": "execution"
   },
   {
    "code": "special.comb(5, range(6))",
    "id": "f6ab2ddd3d3a42368e695721b6adda51",
    "idx": 15,
    "time": "2021-02-07T21:47:40.190Z",
    "type": "execution"
   },
   {
    "code": "special.comb(100, 50), special.comb(100, 50, exact=True)",
    "id": "c72cec9af31e46498797339ff8c52024",
    "idx": 16,
    "time": "2021-02-07T21:47:40.193Z",
    "type": "execution"
   },
   {
    "code": "prob_1a = special.comb(100, 20)*(0.26**20)*(0.74**80) # SOLUTION\nprob_1a",
    "id": "bd9ce30c36e14ca1b1e14112fd8bff9d",
    "idx": 20,
    "time": "2021-02-07T21:47:40.201Z",
    "type": "execution"
   },
   {
    "code": "grader.check(\"q1a\")",
    "id": "3c421ec56d504a1280700dd834eb65fa",
    "idx": 21,
    "time": "2021-02-07T21:47:40.204Z",
    "type": "execution"
   },
   {
    "code": "k = np.arange(101)\nall_probs = special.comb(100, k)*(0.26**k)*(0.74**(100-k)) # SOLUTION\nnp.round(all_probs, 4), sum(all_probs)",
    "id": "d091c531575e4f71b05c49b6c5ff2996",
    "idx": 23,
    "time": "2021-02-07T21:47:40.209Z",
    "type": "execution"
   },
   {
    "code": "grader.check(\"q1b\")",
    "id": "53d0dbe9762a4ffe92aaa6c9b15dc728",
    "idx": 24,
    "time": "2021-02-07T21:47:40.212Z",
    "type": "execution"
   },
   {
    "code": "prob_1c = sum(all_probs[16:37]) # SOLUTION",
    "id": "fd2e5354bd2e49dc8d68f2ba49be88d4",
    "idx": 26,
    "time": "2021-02-07T21:47:40.219Z",
    "type": "execution"
   },
   {
    "code": "grader.check(\"q1c\")",
    "id": "d3f3d90126014aa29e59493f3f1b11bd",
    "idx": 27,
    "time": "2021-02-07T21:47:40.223Z",
    "type": "execution"
   },
   {
    "code": "def prob_at_most(n, p, s):\n    \"\"\" \n    returns the probability of S <= s\n    Input n: sample size; p : proportion; s: number of successes at most\"\"\"\n    # BEGIN SOLUTION\n    if 0 <= p and p <= 1 and s <= n:\n        k = np.arange(n+1)\n        all_probs = special.comb(n, k)*(p**k)*((1-p)**(n-k))\n        return sum(all_probs[:s+1])\n    else:\n        return 0\n    # END SOLUTION",
    "id": "821bfe7d8e424b9c801f115549237a73",
    "idx": 31,
    "time": "2021-02-07T21:47:40.227Z",
    "type": "execution"
   },
   {
    "code": "grader.check(\"q2a\")",
    "id": "61e4f7796ca8471f8ced7b97105b30c7",
    "idx": 32,
    "time": "2021-02-07T21:47:40.232Z",
    "type": "execution"
   },
   {
    "code": "p_majority = 1 - prob_at_most(200, 0.45, 100) # SOLUTION \np_majority",
    "id": "dd9265dbd7cb4e9488d5325b35e5101d",
    "idx": 34,
    "time": "2021-02-07T21:47:40.236Z",
    "type": "execution"
   },
   {
    "code": "grader.check(\"q2b\")",
    "id": "285b2259dff64f0492d7cbf77f5265c2",
    "idx": 35,
    "time": "2021-02-07T21:47:40.239Z",
    "type": "execution"
   },
   {
    "code": "prob_2c = 1 - (prob_at_most(200, 0.45, 100)**3)*prob_at_most(300, 0.45, 150)*prob_at_most(400, 0.45, 200) # SOLUTION\nprob_2c",
    "id": "50430b141dd24a318a0a82232075ef1c",
    "idx": 37,
    "time": "2021-02-07T21:47:40.244Z",
    "type": "execution"
   },
   {
    "code": "grader.check(\"q2c\")",
    "id": "06ede66b7ada4e488cc20cc4ea2b4d52",
    "idx": 38,
    "time": "2021-02-07T21:47:40.250Z",
    "type": "execution"
   },
   {
    "code": "ans_3a = 'b' # SOLUTION",
    "id": "8e79608e2f1446408d2fee7b7176863c",
    "idx": 42,
    "time": "2021-02-07T21:47:40.254Z",
    "type": "execution"
   },
   {
    "code": "grader.check(\"q3a\")",
    "id": "818949e8669445cd8c793812366d29fd",
    "idx": 43,
    "time": "2021-02-07T21:47:40.258Z",
    "type": "execution"
   },
   {
    "code": "ans_3b = 'c' # SOLUTION",
    "id": "f25c77c3dc07478881170f1094b9888b",
    "idx": 45,
    "time": "2021-02-07T21:47:40.262Z",
    "type": "execution"
   },
   {
    "code": "grader.check(\"q3b\")",
    "id": "85d1469011474be4b3ca889fb20163c2",
    "idx": 46,
    "time": "2021-02-07T21:47:40.268Z",
    "type": "execution"
   },
   {
    "code": "def prob_sample_counts(t, c, o):\n    \"\"\"\n    Input:\n    t - number of votes for Trump\n    c - number of votes for Clinton\n    o - number of votes for Other\n    Return: The probability of getting a such sample\n    \"\"\"\n    # BEGIN SOLUTION\n    if t+c+o == 20:\n        p_T = 0.4818\n        p_C = 0.4746\n        p_O = 0.0436\n        return (special.factorial(20)/(special.factorial(t)*special.factorial(c)*special.factorial(o)))*(p_T**t)*(p_C**c)*(p_O**o)\n    else:\n        return 0\n    # END SOLUTION",
    "id": "fb8bec8bbe544a91b67816a810de102b",
    "idx": 48,
    "time": "2021-02-07T21:47:40.271Z",
    "type": "execution"
   },
   {
    "code": "grader.check(\"q3c\")",
    "id": "49543796f8544aec854662ee718c1557",
    "idx": 49,
    "time": "2021-02-07T21:47:40.276Z",
    "type": "execution"
   },
   {
    "code": "prob_3d = sum(prob_sample_counts(t, c, 20-(t+c)) for t in range(21) for c in range(0, 21-t)) # SOLUTION\nprob_3d",
    "id": "1e7553e912b849658dc23fb9ca426332",
    "idx": 51,
    "time": "2021-02-07T21:47:40.280Z",
    "type": "execution"
   },
   {
    "code": "grader.check(\"q3d\")",
    "id": "f14a6ec87fdd4a278a092f1bbf2b2591",
    "idx": 52,
    "time": "2021-02-07T21:47:40.284Z",
    "type": "execution"
   },
   {
    "code": "def draw_state_sample(N, state):\n    # BEGIN SOLUTION \n    if state == \"florida\":\n        return np.random.multinomial(N, [0.4902, 0.4782, 1 - (0.4902 + 0.4782)])\n    \n    if state == \"michigan\": \n        return np.random.multinomial(N, [0.475, 0.4727, 1 - (0.475 + 0.4727)])\n\n    if state == \"pennsylvania\":\n        return np.random.multinomial(N, [0.4818, 0.4746, 1 - (0.4818 + 0.4746)])\n  \n    if state == \"wisconsin\":\n        return np.random.multinomial(N, [0.4722, 0.4645, 1 - (0.4722 + 0.4645)])\n\n    raise(\"invalid state\")\n    # END SOLUTION",
    "id": "0ad38b42b0f44e898abc1b8bcbbaca80",
    "idx": 66,
    "time": "2021-02-07T21:47:40.293Z",
    "type": "execution"
   },
   {
    "code": "grader.check(\"q6a\")",
    "id": "bfb0cf5a6206425591420ed17f59c0f4",
    "idx": 67,
    "time": "2021-02-07T21:47:40.296Z",
    "type": "execution"
   },
   {
    "code": "def trump_advantage(voter_sample):\n    # BEGIN SOLUTION \n    N = sum(voter_sample)\n    percentage_trump = voter_sample[0]/N \n    percentage_clinton = voter_sample[1]/N \n    return percentage_trump - percentage_clinton\n    # END SOLUTION",
    "id": "98bcf320900b4b8d8928a3649b943cdb",
    "idx": 69,
    "time": "2021-02-07T21:47:40.301Z",
    "type": "execution"
   },
   {
    "code": "grader.check(\"q6b\")",
    "id": "576b77b3f680459189657c5e409606af",
    "idx": 70,
    "time": "2021-02-07T21:47:40.305Z",
    "type": "execution"
   },
   {
    "code": "simulations = [trump_advantage(draw_state_sample(1500, \"pennsylvania\")) for i in range(100000)] # SOLUTION",
    "id": "5206f1955c4241f684b1a3bae50b4a73",
    "idx": 72,
    "time": "2021-02-07T21:47:40.309Z",
    "type": "execution"
   },
   {
    "code": "grader.check(\"q6c\")",
    "id": "9ea562ee24714150aad687cae02df6eb",
    "idx": 73,
    "time": "2021-02-07T21:47:40.312Z",
    "type": "execution"
   },
   {
    "code": "# BEGIN SOLUTION\nplt.hist(simulations) ;\nplt.title('Pennsylvania');\nplt.ylabel('# of Simulations');\nplt.xlabel('Sampling Distribution Advantage');\n# END SOLUTION",
    "id": "e6f4168397d046bc8229e607a4daae49",
    "idx": 75,
    "time": "2021-02-07T21:47:40.317Z",
    "type": "execution"
   },
   {
    "code": "def trump_wins(N):\n    # BEGIN SOLUTION \n    wins_florida = trump_advantage(draw_state_sample(N, \"florida\")) > 0\n    wins_michigan = trump_advantage(draw_state_sample(N, \"michigan\")) > 0\n    wins_pennsylvania = trump_advantage(draw_state_sample(N, \"pennsylvania\")) > 0\n    wins_wisconsin = trump_advantage(draw_state_sample(N, \"wisconsin\")) > 0\n    if wins_michigan and wins_pennsylvania and wins_wisconsin:\n        return 1\n    if wins_florida and (wins_michigan or wins_pennsylvania or wins_wisconsin):\n        return 1\n    return 0\n    # END SOLUTION",
    "id": "111928c198f7461c818c27c3d62e8718",
    "idx": 77,
    "time": "2021-02-07T21:47:40.329Z",
    "type": "execution"
   },
   {
    "code": "grader.check(\"q6e\")",
    "id": "9825387d8b484c7a97cbfc5a663ca61b",
    "idx": 78,
    "time": "2021-02-07T21:47:40.336Z",
    "type": "execution"
   },
   {
    "code": "proportion_trump = np.mean([trump_wins(1500) for i in range(100000)]) # SOLUTION\nproportion_trump",
    "id": "6f464c1a905c4f8e81b7aac4335b7cba",
    "idx": 80,
    "time": "2021-02-07T21:47:40.344Z",
    "type": "execution"
   },
   {
    "code": "grader.check(\"q6f\")",
    "id": "2f4b7120e77244e6bde2e0c0556e9773",
    "idx": 81,
    "time": "2021-02-07T21:47:40.349Z",
    "type": "execution"
   },
   {
    "code": "def draw_biased_state_sample(N, state):\n    \n    # BEGIN SOLUTION \n    if state == \"florida\":\n        return np.random.multinomial(N, [0.4902 - 0.005, 0.4782 + 0.005, 1 - (0.4902 + 0.4782)])\n    \n    if state == \"michigan\": \n        return np.random.multinomial(N, [0.475 - 0.005, 0.4727 + 0.005, 1 - (0.475 + 0.4727)])\n\n    if state == \"pennsylvania\":\n        return np.random.multinomial(N, [0.4818 - 0.005, 0.4746 + 0.005, 1 - (0.4818 + 0.4746)])\n  \n    if state == \"wisconsin\":\n        return np.random.multinomial(N, [0.4722 - 0.005, 0.4645 + 0.005, 1 - (0.4722 + 0.4645)])\n\n    raise(\"invalid state\")\n    # END SOLUTION\n    \nbiased_simulations = [trump_advantage(draw_biased_state_sample(1500, \"pennsylvania\")) for i in range(100000)] # SOLUTION",
    "id": "7291231821ce4bc7af14300aca5d9d8a",
    "idx": 85,
    "time": "2021-02-07T21:47:40.357Z",
    "type": "execution"
   },
   {
    "code": "grader.check(\"q7a\")",
    "id": "3fc1ed816c6d400d838c49b6878f76d8",
    "idx": 86,
    "time": "2021-02-07T21:47:40.361Z",
    "type": "execution"
   },
   {
    "code": "# BEGIN SOLUTION\nplt.hist(biased_simulations) ;\nplt.title('Biased Sampling of Pennsylvania') ;\nplt.ylabel('# of Simulations');\nplt.xlabel('Sampling Distribution Advantage');\n# END SOLUTION",
    "id": "8d6691aaff634e308080e4f479e89206",
    "idx": 88,
    "time": "2021-02-07T21:47:40.368Z",
    "type": "execution"
   },
   {
    "code": "def trump_wins_biased(N): \n    # BEGIN SOLUTION \n    wins_florida = trump_advantage(draw_biased_state_sample(N, \"florida\")) > 0\n    wins_michigan = trump_advantage(draw_biased_state_sample(N, \"michigan\")) > 0\n    wins_pennsylvania = trump_advantage(draw_biased_state_sample(N, \"pennsylvania\")) > 0\n    wins_wisconsin = trump_advantage(draw_biased_state_sample(N, \"wisconsin\")) > 0\n    if wins_michigan and wins_pennsylvania and wins_wisconsin:\n        return 1\n    if wins_florida and (wins_michigan or wins_pennsylvania or wins_wisconsin):\n        return 1\n    return 0\n    # END SOLUTION\n\nproportion_trump_biased = np.mean([trump_wins_biased(1500) for i in range(100000)]) # SOLUTION\nproportion_trump_biased",
    "id": "91919b7c5b7c44e6b20bcc88f0f8b163",
    "idx": 93,
    "time": "2021-02-07T21:47:40.374Z",
    "type": "execution"
   },
   {
    "code": "grader.check(\"q7d\")",
    "id": "2e071b804f4f4beea9afc73f7232369a",
    "idx": 94,
    "time": "2021-02-07T21:47:40.379Z",
    "type": "execution"
   },
   {
    "code": "grader.check_all()",
    "id": "40620b4f21a247bc8422c08e5e921c62",
    "idx": 97,
    "time": "2021-02-07T21:47:40.385Z",
    "type": "execution"
   },
   {
    "code": "# Save your notebook first, then run this cell to export your submission.\ngrader.export()",
    "id": "f942a0679c814dfe83d701efadf0e860",
    "idx": 99,
    "time": "2021-02-07T21:47:40.389Z",
    "type": "execution"
   },
   {
    "id": "5ae9d128109548a380c546d7ee724da9",
    "time": "2021-02-07T21:47:41.222Z",
    "type": "completion"
   },
   {
    "id": "1c5be06bcfa540f489e81de15dfb0c1f",
    "time": "2021-02-07T21:47:42.002Z",
    "type": "completion"
   },
   {
    "id": "529232a6874348d5857c8c7e845e6be1",
    "time": "2021-02-07T21:47:42.004Z",
    "type": "completion"
   },
   {
    "id": "dd8ad4b6b54e4fdc8bb2b7d92f667c96",
    "time": "2021-02-07T21:47:42.067Z",
    "type": "completion"
   },
   {
    "id": "da42616a1fbc48fba168153738b9f6ff",
    "time": "2021-02-07T21:47:42.087Z",
    "type": "completion"
   },
   {
    "id": "f6ab2ddd3d3a42368e695721b6adda51",
    "time": "2021-02-07T21:47:42.131Z",
    "type": "completion"
   },
   {
    "id": "c72cec9af31e46498797339ff8c52024",
    "time": "2021-02-07T21:47:42.140Z",
    "type": "completion"
   },
   {
    "id": "bd9ce30c36e14ca1b1e14112fd8bff9d",
    "time": "2021-02-07T21:47:42.227Z",
    "type": "completion"
   },
   {
    "id": "3c421ec56d504a1280700dd834eb65fa",
    "time": "2021-02-07T21:47:42.264Z",
    "type": "completion"
   },
   {
    "id": "d091c531575e4f71b05c49b6c5ff2996",
    "time": "2021-02-07T21:47:42.299Z",
    "type": "completion"
   },
   {
    "id": "53d0dbe9762a4ffe92aaa6c9b15dc728",
    "time": "2021-02-07T21:47:42.332Z",
    "type": "completion"
   },
   {
    "id": "fd2e5354bd2e49dc8d68f2ba49be88d4",
    "time": "2021-02-07T21:47:42.339Z",
    "type": "completion"
   },
   {
    "id": "d3f3d90126014aa29e59493f3f1b11bd",
    "time": "2021-02-07T21:47:42.380Z",
    "type": "completion"
   },
   {
    "id": "821bfe7d8e424b9c801f115549237a73",
    "time": "2021-02-07T21:47:42.383Z",
    "type": "completion"
   },
   {
    "id": "61e4f7796ca8471f8ced7b97105b30c7",
    "time": "2021-02-07T21:47:42.413Z",
    "type": "completion"
   },
   {
    "id": "dd9265dbd7cb4e9488d5325b35e5101d",
    "time": "2021-02-07T21:47:42.421Z",
    "type": "completion"
   },
   {
    "id": "285b2259dff64f0492d7cbf77f5265c2",
    "time": "2021-02-07T21:47:42.515Z",
    "type": "completion"
   },
   {
    "id": "50430b141dd24a318a0a82232075ef1c",
    "time": "2021-02-07T21:47:42.521Z",
    "type": "completion"
   },
   {
    "id": "06ede66b7ada4e488cc20cc4ea2b4d52",
    "time": "2021-02-07T21:47:42.526Z",
    "type": "completion"
   },
   {
    "id": "8e79608e2f1446408d2fee7b7176863c",
    "time": "2021-02-07T21:47:42.528Z",
    "type": "completion"
   },
   {
    "id": "818949e8669445cd8c793812366d29fd",
    "time": "2021-02-07T21:47:42.563Z",
    "type": "completion"
   },
   {
    "id": "f25c77c3dc07478881170f1094b9888b",
    "time": "2021-02-07T21:47:42.567Z",
    "type": "completion"
   },
   {
    "id": "85d1469011474be4b3ca889fb20163c2",
    "time": "2021-02-07T21:47:42.581Z",
    "type": "completion"
   },
   {
    "id": "fb8bec8bbe544a91b67816a810de102b",
    "time": "2021-02-07T21:47:42.607Z",
    "type": "completion"
   },
   {
    "id": "49543796f8544aec854662ee718c1557",
    "time": "2021-02-07T21:47:42.631Z",
    "type": "completion"
   },
   {
    "id": "1e7553e912b849658dc23fb9ca426332",
    "time": "2021-02-07T21:47:42.638Z",
    "type": "completion"
   },
   {
    "id": "f14a6ec87fdd4a278a092f1bbf2b2591",
    "time": "2021-02-07T21:47:42.726Z",
    "type": "completion"
   },
   {
    "id": "0ad38b42b0f44e898abc1b8bcbbaca80",
    "time": "2021-02-07T21:47:42.729Z",
    "type": "completion"
   },
   {
    "id": "bfb0cf5a6206425591420ed17f59c0f4",
    "time": "2021-02-07T21:47:42.733Z",
    "type": "completion"
   },
   {
    "id": "98bcf320900b4b8d8928a3649b943cdb",
    "time": "2021-02-07T21:47:42.755Z",
    "type": "completion"
   },
   {
    "id": "576b77b3f680459189657c5e409606af",
    "time": "2021-02-07T21:47:42.771Z",
    "type": "completion"
   },
   {
    "id": "5206f1955c4241f684b1a3bae50b4a73",
    "time": "2021-02-07T21:47:45.592Z",
    "type": "completion"
   },
   {
    "id": "9ea562ee24714150aad687cae02df6eb",
    "time": "2021-02-07T21:47:45.940Z",
    "type": "completion"
   },
   {
    "id": "e6f4168397d046bc8229e607a4daae49",
    "time": "2021-02-07T21:47:46.983Z",
    "type": "completion"
   },
   {
    "id": "111928c198f7461c818c27c3d62e8718",
    "time": "2021-02-07T21:47:46.989Z",
    "type": "completion"
   },
   {
    "id": "9825387d8b484c7a97cbfc5a663ca61b",
    "time": "2021-02-07T21:47:46.995Z",
    "type": "completion"
   },
   {
    "id": "6f464c1a905c4f8e81b7aac4335b7cba",
    "time": "2021-02-07T21:47:58.424Z",
    "type": "completion"
   },
   {
    "id": "2f4b7120e77244e6bde2e0c0556e9773",
    "time": "2021-02-07T21:47:58.440Z",
    "type": "completion"
   },
   {
    "id": "7291231821ce4bc7af14300aca5d9d8a",
    "time": "2021-02-07T21:48:01.229Z",
    "type": "completion"
   },
   {
    "id": "3fc1ed816c6d400d838c49b6878f76d8",
    "time": "2021-02-07T21:48:01.570Z",
    "type": "completion"
   },
   {
    "id": "8d6691aaff634e308080e4f479e89206",
    "time": "2021-02-07T21:48:02.528Z",
    "type": "completion"
   },
   {
    "id": "91919b7c5b7c44e6b20bcc88f0f8b163",
    "time": "2021-02-07T21:48:13.841Z",
    "type": "completion"
   },
   {
    "id": "2e071b804f4f4beea9afc73f7232369a",
    "time": "2021-02-07T21:48:13.885Z",
    "type": "completion"
   },
   {
    "id": "40620b4f21a247bc8422c08e5e921c62",
    "time": "2021-02-07T21:48:14.711Z",
    "type": "completion"
   },
   {
    "id": "f942a0679c814dfe83d701efadf0e860",
    "time": "2021-02-07T21:48:22.158Z",
    "type": "completion"
   }
  ],
  "kernelspec": {
   "display_name": "Python 3",
   "language": "python",
   "name": "python3"
  },
  "language_info": {
   "codemirror_mode": {
    "name": "ipython",
    "version": 3
   },
   "file_extension": ".py",
   "mimetype": "text/x-python",
   "name": "python",
   "nbconvert_exporter": "python",
   "pygments_lexer": "ipython3",
   "version": "3.8.6"
  }
 },
 "nbformat": 4,
 "nbformat_minor": 4
}
