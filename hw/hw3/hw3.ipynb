{
 "cells": [
  {
   "cell_type": "code",
   "execution_count": null,
   "metadata": {
    "deletable": false,
    "editable": false
   },
   "outputs": [],
   "source": [
    "# Initialize Otter\n",
    "import otter\n",
    "grader = otter.Notebook(\"hw3.ipynb\")"
   ]
  },
  {
   "cell_type": "markdown",
   "metadata": {
    "nbgrader": {
     "grade": false,
     "grade_id": "introduction",
     "locked": true,
     "schema_version": 2,
     "solution": false
    }
   },
   "source": [
    "# Homework 3: Bike Sharing\n",
    "## Exploratory Data Analysis (EDA) and Visualization\n",
    "## Due Date: Tuesday 2/23 by 11:59 PM PST\n",
    "\n",
    "**Collaboration Policy**\n",
    "\n",
    "Data science is a collaborative activity. While you may talk with others about\n",
    "the homework, we ask that you **write your solutions individually**. If you do\n",
    "discuss the assignments with others please **include their names** below."
   ]
  },
  {
   "cell_type": "markdown",
   "metadata": {},
   "source": [
    "**Collaborators**: *list collaborators here*"
   ]
  },
  {
   "cell_type": "markdown",
   "metadata": {},
   "source": [
    "## Introduction\n",
    "\n",
    "Bike sharing systems are a new generation of traditional bike rentals where the process of signing up, renting and returning is automated. Through these systems, users are able to easily rent a bike from one location and return them to another. We will be analyzing bike sharing data from Washington D.C. \n",
    "\n",
    "In this assignment, you will perform tasks to clean, visualize, and explore the bike sharing data. You will also investigate open-ended questions. These open-ended questions ask you to think critically about how the plots you have created provide insight into the data.\n",
    "\n",
    "After completing this assignment, you should be comfortable with:\n",
    "\n",
    "* reading plaintext delimited data into `pandas`\n",
    "* wrangling data for analysis\n",
    "* using EDA to learn about your data \n",
    "* making informative plots\n",
    "\n",
    "## Grading\n",
    "Grading is broken down into autograded answers and free response. \n",
    "\n",
    "For autograded answers, the results of your code are compared to provided and/or hidden tests.\n",
    "\n",
    "For free response, readers will evaluate how well you answered the question and/or fulfilled the requirements of the question.\n",
    "\n",
    "For plots, your plots should be *similar* to the given examples. We will tolerate small variations such as color differences or slight variations in scale. However it is in your best interest to make the plots as similar as possible, as similarity is subject to the readers.\n",
    "\n",
    "**Note that for ALL plotting questions from here on out, we will expect appropriate titles, axis labels, legends, etc. The following question serves as a good guideline on what is \"enough\": If I directly downloaded the plot and viewed it, would I be able to tell what was being visualized without knowing the question?** \n",
    "\n",
    "### Score breakdown\n",
    "\n",
    "\n",
    "\n",
    "Question | Points\n",
    "--- | ---\n",
    "Question 0a | 1\n",
    "Question 0b | 1\n",
    "Question 1a | 2\n",
    "Question 1b | 1\n",
    "Question 1c | 2\n",
    "Question 2a | 2\n",
    "Question 2b | 2\n",
    "Question 2c | 2\n",
    "Question 2d | 2\n",
    "Question 3a | 5\n",
    "Question 3b | 3\n",
    "Question 4  | 2\n",
    "Question 5a | 2\n",
    "Question 5b | 2\n",
    "Question 6a | 1\n",
    "Question 6b | 4\n",
    "Question 6c | 2\n",
    "Question 7a | 2\n",
    "Question 7b | 3\n",
    "Total | 41"
   ]
  },
  {
   "cell_type": "code",
   "execution_count": 1,
   "metadata": {
    "ExecuteTime": {
     "end_time": "2018-09-12T05:50:17.975391Z",
     "start_time": "2018-09-12T05:50:17.067217Z"
    },
    "nbgrader": {
     "grade": false,
     "grade_id": "setup",
     "locked": true,
     "schema_version": 2,
     "solution": false
    }
   },
   "outputs": [],
   "source": [
    "# Run this cell to set up your notebook.  Make sure ds100_utils.py is in this assignment's folder\n",
    "import seaborn as sns\n",
    "import csv\n",
    "import numpy as np\n",
    "import pandas as pd\n",
    "import matplotlib.pyplot as plt\n",
    "import zipfile\n",
    "from pathlib import Path\n",
    "import ds100_utils\n",
    "\n",
    "# Default plot configurations\n",
    "%matplotlib inline\n",
    "plt.rcParams['figure.figsize'] = (16,8)\n",
    "plt.rcParams['figure.dpi'] = 150\n",
    "sns.set()\n",
    "\n",
    "from IPython.display import display, Latex, Markdown"
   ]
  },
  {
   "cell_type": "markdown",
   "metadata": {
    "nbgrader": {
     "grade": false,
     "grade_id": "codebook",
     "locked": true,
     "schema_version": 2,
     "solution": false
    }
   },
   "source": [
    "## Loading Bike Sharing Data\n",
    "The data we are exploring is collected from a bike sharing system in Washington D.C.\n",
    "\n",
    "The variables in this data frame are defined as:\n",
    "\n",
    "Variable       | Description\n",
    "-------------- | ------------------------------------------------------------------\n",
    "instant | record index\n",
    "dteday | date\n",
    "season | 1. spring <br> 2. summer <br> 3. fall <br> 4. winter\n",
    "yr | year (0: 2011, 1:2012)\n",
    "mnth | month ( 1 to 12)\n",
    "hr | hour (0 to 23)\n",
    "holiday | whether day is holiday or not\n",
    "weekday | day of the week\n",
    "workingday | if day is neither weekend nor holiday\n",
    "weathersit | 1. clear or partly cloudy <br> 2. mist and clouds <br> 3. light snow or rain <br> 4. heavy rain or snow\n",
    "temp | normalized temperature in Celsius (divided by 41)\n",
    "atemp | normalized \"feels-like\" temperature in Celsius (divided by 50)\n",
    "hum | normalized percent humidity (divided by 100)\n",
    "windspeed| normalized wind speed (divided by 67)\n",
    "casual | count of casual users\n",
    "registered | count of registered users\n",
    "cnt | count of total rental bikes including casual and registered  "
   ]
  },
  {
   "cell_type": "markdown",
   "metadata": {
    "nbgrader": {
     "grade": false,
     "grade_id": "cell-5a5f851db609367a",
     "locked": true,
     "schema_version": 2,
     "solution": false
    }
   },
   "source": [
    "### Download the Data"
   ]
  },
  {
   "cell_type": "code",
   "execution_count": 2,
   "metadata": {
    "ExecuteTime": {
     "end_time": "2018-09-12T05:50:18.077074Z",
     "start_time": "2018-09-12T05:50:17.976817Z"
    },
    "nbgrader": {
     "grade": false,
     "grade_id": "download_data",
     "locked": true,
     "schema_version": 2,
     "solution": false
    }
   },
   "outputs": [],
   "source": [
    "# Run this cell to download the data.  No further action is needed\n",
    "\n",
    "data_url = 'https://github.com/DS-100/fa20/raw/gh-pages/resources/assets/datasets/hw3-bikeshare.zip'\n",
    "file_name = 'data.zip'\n",
    "data_dir = '.'\n",
    "\n",
    "dest_path = ds100_utils.fetch_and_cache(data_url=data_url, data_dir=data_dir, file=file_name)\n",
    "print('Saved at {}'.format(dest_path))\n",
    "\n",
    "zipped_data = zipfile.ZipFile(dest_path, 'r')\n",
    "\n",
    "data_dir = Path('data')\n",
    "zipped_data.extractall(data_dir)\n",
    "\n",
    "\n",
    "print(\"Extracted Files:\")\n",
    "for f in data_dir.glob(\"*\"):\n",
    "    print(\"\\t\",f)"
   ]
  },
  {
   "cell_type": "markdown",
   "metadata": {
    "nbgrader": {
     "grade": false,
     "grade_id": "examine-contents",
     "locked": true,
     "schema_version": 2,
     "solution": false
    }
   },
   "source": [
    "### Examining the file contents\n",
    "\n",
    "Can you identify the file format? (No answer required.)"
   ]
  },
  {
   "cell_type": "code",
   "execution_count": 3,
   "metadata": {
    "ExecuteTime": {
     "end_time": "2018-09-12T05:50:18.082153Z",
     "start_time": "2018-09-12T05:50:18.078562Z"
    },
    "nbgrader": {
     "grade": false,
     "grade_id": "examine-content-code",
     "locked": true,
     "schema_version": 2,
     "solution": false
    }
   },
   "outputs": [],
   "source": [
    "# Run this cell to look at the top of the file.  No further action is needed\n",
    "for line in ds100_utils.head(data_dir/'bikeshare.txt'):\n",
    "    print(line,end=\"\")"
   ]
  },
  {
   "cell_type": "markdown",
   "metadata": {
    "nbgrader": {
     "grade": false,
     "grade_id": "examine-size",
     "locked": true,
     "schema_version": 2,
     "solution": false
    }
   },
   "source": [
    "### Size\n",
    "Is the file big?  How many records do we expect to find? (No answers required.)"
   ]
  },
  {
   "cell_type": "code",
   "execution_count": 4,
   "metadata": {
    "ExecuteTime": {
     "end_time": "2018-09-12T05:50:18.092524Z",
     "start_time": "2018-09-12T05:50:18.083535Z"
    },
    "nbgrader": {
     "grade": false,
     "grade_id": "examine-size-code",
     "locked": true,
     "schema_version": 2,
     "solution": false
    }
   },
   "outputs": [],
   "source": [
    "# Run this cell to view some metadata.  No further action is needed\n",
    "print(\"Size:\", (data_dir/\"bikeshare.txt\").stat().st_size, \"bytes\")\n",
    "print(\"Line Count:\", ds100_utils.line_count(data_dir/\"bikeshare.txt\"), \"lines\")"
   ]
  },
  {
   "cell_type": "markdown",
   "metadata": {
    "nbgrader": {
     "grade": false,
     "grade_id": "load-data",
     "locked": true,
     "schema_version": 2,
     "solution": false
    }
   },
   "source": [
    "### Loading the data\n",
    "\n",
    "The following code loads the data into a Pandas DataFrame."
   ]
  },
  {
   "cell_type": "code",
   "execution_count": 5,
   "metadata": {
    "ExecuteTime": {
     "end_time": "2018-09-12T05:50:18.144004Z",
     "start_time": "2018-09-12T05:50:18.094479Z"
    },
    "nbgrader": {
     "grade": false,
     "grade_id": "load-data-code",
     "locked": true,
     "schema_version": 2,
     "solution": false
    },
    "scrolled": true
   },
   "outputs": [],
   "source": [
    "# Run this cell to load the data.  No further action is needed\n",
    "bike = pd.read_csv(data_dir/'bikeshare.txt')\n",
    "bike.head()"
   ]
  },
  {
   "cell_type": "markdown",
   "metadata": {
    "nbgrader": {
     "grade": false,
     "grade_id": "cell-a0f8e3c0cc106c97",
     "locked": true,
     "schema_version": 2,
     "solution": false
    }
   },
   "source": [
    "Below, we show the shape of the file. You should see that the size of the DataFrame matches the number of lines in the file, minus the header row."
   ]
  },
  {
   "cell_type": "code",
   "execution_count": 6,
   "metadata": {
    "nbgrader": {
     "grade": false,
     "grade_id": "cell-ffa02efc2941b30c",
     "locked": true,
     "schema_version": 2,
     "solution": false
    }
   },
   "outputs": [],
   "source": [
    "bike.shape"
   ]
  },
  {
   "cell_type": "markdown",
   "metadata": {},
   "source": [
    "## 0: Examining the Data\n",
    "\n",
    "Before we start working with the data, let's examine its granularity."
   ]
  },
  {
   "cell_type": "markdown",
   "metadata": {
    "deletable": false,
    "editable": false
   },
   "source": [
    "<!-- BEGIN QUESTION -->\n",
    "\n",
    "### Question 0\n",
    "#### Question 0A\n",
    "What is the granularity of the data (i.e. what does each row represent)?\n",
    "\n",
    "<!--\n",
    "BEGIN QUESTION\n",
    "name: q0a\n",
    "points: 1\n",
    "manual: true\n",
    "-->"
   ]
  },
  {
   "cell_type": "markdown",
   "metadata": {},
   "source": [
    "_Type your answer here, replacing this text._"
   ]
  },
  {
   "cell_type": "markdown",
   "metadata": {
    "deletable": false,
    "editable": false
   },
   "source": [
    "<!-- END QUESTION -->"
   ]
  },
  {
   "cell_type": "code",
   "execution_count": 8,
   "metadata": {},
   "outputs": [],
   "source": [
    "# Use this cell for scratch work. If you need to add more cells for scratch work, add them BELOW this cell."
   ]
  },
  {
   "cell_type": "markdown",
   "metadata": {
    "deletable": false,
    "editable": false
   },
   "source": [
    "<!-- BEGIN QUESTION -->\n",
    "\n",
    "#### Question 0B\n",
    "For this assignment, we'll be using this data to study bike usage in Washington D.C. Based on the granularity and the variables present in the data, what might some limitations of using this data be? What are two additional data categories/variables that you can collect to address some of these limitations?\n",
    "\n",
    "<!--\n",
    "BEGIN QUESTION\n",
    "name: q0b\n",
    "points: 1\n",
    "manual: true\n",
    "-->"
   ]
  },
  {
   "cell_type": "markdown",
   "metadata": {},
   "source": [
    "_Type your answer here, replacing this text._"
   ]
  },
  {
   "cell_type": "markdown",
   "metadata": {
    "deletable": false,
    "editable": false
   },
   "source": [
    "<!-- END QUESTION -->"
   ]
  },
  {
   "cell_type": "code",
   "execution_count": 9,
   "metadata": {},
   "outputs": [],
   "source": [
    "# Use this cell for scratch work. If you need to add more cells for scratch work, add them BELOW this cell."
   ]
  },
  {
   "cell_type": "markdown",
   "metadata": {
    "nbgrader": {
     "grade": false,
     "grade_id": "q1",
     "locked": true,
     "schema_version": 2,
     "solution": false
    }
   },
   "source": [
    "---\n",
    "## 1: Data Preparation\n",
    "A few of the variables that are numeric/integer actually encode categorical data. These include `holiday`, `weekday`, `workingday`, and `weathersit`. In the following problem, we will convert these four variables to strings specifying the categories. In particular, use 3-letter labels (`Sun`, `Mon`, `Tue`, `Wed`, `Thu`, `Fri`, and `Sat`) for `weekday`. You may simply use `yes`/`no` for `holiday` and `workingday`. \n",
    "\n",
    "In this exercise we will *mutate* the data frame, **overwriting the corresponding variables in the data frame.** However, our notebook will effectively document this in-place data transformation for future readers. Make sure to leave the underlying datafile `bikeshare.txt` unmodified."
   ]
  },
  {
   "cell_type": "markdown",
   "metadata": {
    "deletable": false,
    "editable": false,
    "nbgrader": {
     "grade": false,
     "grade_id": "q1a",
     "locked": true,
     "schema_version": 2,
     "solution": false
    }
   },
   "source": [
    "### Question 1\n",
    "#### Question 1a (Decoding `weekday`, `workingday`, and `weathersit`)\n",
    "\n",
    "\n",
    "Decode the `holiday`, `weekday`, `workingday`, and `weathersit` fields:\n",
    "\n",
    "1. `holiday`: Convert to `yes` and `no`.  Hint: There are fewer holidays...\n",
    "1. `weekday`: It turns out that Monday is the day with the most holidays.  Mutate the `'weekday'` column to use the 3-letter label (`'Sun'`, `'Mon'`, `'Tue'`, `'Wed'`, `'Thu'`, `'Fri'`, and `'Sat'` ...) instead of its current numerical values. Assume `0` corresponds to `Sun`, `1` to `Mon` and so on.\n",
    "1. `workingday`: Convert to `yes` and `no`.\n",
    "1. `weathersit`: You should replace each value with one of `Clear`, `Mist`, `Light`, or `Heavy`. Assume `1` corresponds to `Clear`, `2` corresponds to `Mist`, and so on.\n",
    "\n",
    "**Note:** If you want to revert changes, run the cell that reloads the csv.\n",
    "\n",
    "**Hint:**  One approach is to use the [replace](https://pandas.pydata.org/pandas-docs/stable/reference/api/pandas.DataFrame.replace.html) method of the pandas DataFrame class. We haven't discussed how to do this so you'll need to look at the documentation. The most concise way is with the approach described in the documentation as \"nested-dictonaries\", though there are many possible solutions.\n",
    "<!--\n",
    "BEGIN QUESTION\n",
    "name: q1a\n",
    "points: 2\n",
    "-->"
   ]
  },
  {
   "cell_type": "code",
   "execution_count": 7,
   "metadata": {
    "ExecuteTime": {
     "end_time": "2018-09-12T05:50:18.179751Z",
     "start_time": "2018-09-12T05:50:18.145438Z"
    },
    "nbgrader": {
     "grade": false,
     "grade_id": "q1a-answer",
     "locked": false,
     "schema_version": 2,
     "solution": true
    },
    "tags": [
     "student"
    ]
   },
   "outputs": [],
   "source": [
    "# Modify holiday weekday, workingday, and weathersit here\n",
    "..."
   ]
  },
  {
   "cell_type": "code",
   "execution_count": null,
   "metadata": {
    "deletable": false,
    "editable": false
   },
   "outputs": [],
   "source": [
    "grader.check(\"q1a\")"
   ]
  },
  {
   "cell_type": "markdown",
   "metadata": {
    "deletable": false,
    "editable": false,
    "nbgrader": {
     "grade": false,
     "grade_id": "q1b",
     "locked": true,
     "schema_version": 2,
     "solution": false
    }
   },
   "source": [
    "#### Question 1b (Holidays)\n",
    "\n",
    "How many entries in the data correspond to holidays?  Set the variable `num_holidays` to this value.\n",
    "<!--\n",
    "BEGIN QUESTION\n",
    "name: q1b\n",
    "points: 1\n",
    "-->"
   ]
  },
  {
   "cell_type": "code",
   "execution_count": 18,
   "metadata": {
    "ExecuteTime": {
     "end_time": "2018-09-12T05:50:18.192975Z",
     "start_time": "2018-09-12T05:50:18.188135Z"
    },
    "nbgrader": {
     "grade": false,
     "grade_id": "q1b-answer",
     "locked": false,
     "schema_version": 2,
     "solution": true
    }
   },
   "outputs": [],
   "source": [
    "num_holidays = ...\n",
    "num_holidays"
   ]
  },
  {
   "cell_type": "code",
   "execution_count": null,
   "metadata": {
    "deletable": false,
    "editable": false
   },
   "outputs": [],
   "source": [
    "grader.check(\"q1b\")"
   ]
  },
  {
   "cell_type": "markdown",
   "metadata": {
    "deletable": false,
    "editable": false,
    "nbgrader": {
     "grade": false,
     "grade_id": "q1c",
     "locked": true,
     "schema_version": 2,
     "solution": false
    }
   },
   "source": [
    "#### Question 1c (Computing Daily Total Counts)\n",
    "In the next few questions we will be analyzing the daily number of registered and unregistered users.\n",
    "\n",
    "Construct a data frame named `daily_counts` indexed by `dteday` with the following columns:\n",
    "* `casual`: total number of casual riders for each day\n",
    "* `registered`: total number of registered riders for each day\n",
    "* `workingday`: whether that day is a working day or not (`yes` or `no`)\n",
    "\n",
    "**Hint**: `groupby` and `agg`. For the `agg` method, please check the [documentation](https://pandas.pydata.org/pandas-docs/stable/reference/api/pandas.core.groupby.DataFrameGroupBy.aggregate.html#pandas.core.groupby.DataFrameGroupBy.aggregate) for examples on applying different aggregations per column. If you use the capability to do different aggregations by column, you can do this task with a single call to `groupby` and `agg`. For the `workingday` column we can take any of the values since we are grouping by the day, thus the value will be the same within each group. Take a look at the `'first'` or `'last'` aggregation functions.\n",
    "<!--\n",
    "BEGIN QUESTION\n",
    "name: q1c\n",
    "points: 2\n",
    "-->"
   ]
  },
  {
   "cell_type": "code",
   "execution_count": 21,
   "metadata": {
    "ExecuteTime": {
     "end_time": "2018-09-12T05:50:18.215897Z",
     "start_time": "2018-09-12T05:50:18.198322Z"
    },
    "nbgrader": {
     "grade": false,
     "grade_id": "q1c-answer",
     "locked": false,
     "schema_version": 2,
     "solution": true
    },
    "tags": [
     "student"
    ]
   },
   "outputs": [],
   "source": [
    "daily_counts = ..."
   ]
  },
  {
   "cell_type": "code",
   "execution_count": null,
   "metadata": {
    "deletable": false,
    "editable": false
   },
   "outputs": [],
   "source": [
    "grader.check(\"q1c\")"
   ]
  },
  {
   "cell_type": "markdown",
   "metadata": {
    "nbgrader": {
     "grade": false,
     "grade_id": "q2",
     "locked": true,
     "schema_version": 2,
     "solution": false
    }
   },
   "source": [
    "---\n",
    "## 2: Exploring the Distribution of Riders\n",
    "\n",
    "Let's begin by comparing the distribution of the daily counts of casual and registered riders.  "
   ]
  },
  {
   "cell_type": "markdown",
   "metadata": {
    "deletable": false,
    "editable": false,
    "nbgrader": {
     "grade": false,
     "grade_id": "q2a",
     "locked": true,
     "schema_version": 2,
     "solution": false
    }
   },
   "source": [
    "<!-- BEGIN QUESTION -->\n",
    "\n",
    "### Question 2\n",
    "#### Question 2a\n",
    "\n",
    "Use the [`sns.distplot`](https://seaborn.pydata.org/generated/seaborn.distplot.html) function to create a plot that overlays the distribution of the daily counts of bike users, using blue to represent `casual` riders, and green to represent `registered` riders. The temporal granularity of the records should be daily counts, which you should have after completing question 1c. **You can ignore all warnings that say `distplot` is a deprecated function.**\n",
    "\n",
    "Include a legend, xlabel, ylabel, and title. Read the [seaborn plotting tutorial](https://seaborn.pydata.org/tutorial/distributions.html) if you're not sure how to add these. After creating the plot, look at it and make sure you understand what the plot is actually telling us, e.g on a given day, the most likely number of registered riders we expect is ~4000, but it could be anywhere from nearly 0 to 7000.\n",
    "\n",
    "<img src='images/casual_v_registered.png' width=\"600px\" />\n",
    "\n",
    "<!--\n",
    "BEGIN QUESTION\n",
    "name: q2a\n",
    "points: 2\n",
    "manual: true\n",
    "-->"
   ]
  },
  {
   "cell_type": "code",
   "execution_count": 27,
   "metadata": {
    "ExecuteTime": {
     "end_time": "2018-09-12T05:50:18.436723Z",
     "start_time": "2018-09-12T05:50:18.223712Z"
    },
    "nbgrader": {
     "grade": true,
     "grade_id": "q2a-answer",
     "locked": false,
     "points": 2,
     "schema_version": 2,
     "solution": true
    },
    "tags": [
     "student"
    ]
   },
   "outputs": [],
   "source": [
    "..."
   ]
  },
  {
   "cell_type": "markdown",
   "metadata": {
    "deletable": false,
    "editable": false,
    "nbgrader": {
     "grade": false,
     "grade_id": "q2b",
     "locked": true,
     "schema_version": 2,
     "solution": false
    }
   },
   "source": [
    "<!-- END QUESTION -->\n",
    "\n",
    "<!-- BEGIN QUESTION -->\n",
    "\n",
    "### Question 2b\n",
    "\n",
    "In the cell below, descibe the differences you notice between the density curves for casual and registered riders.  Consider concepts such as modes, symmetry, skewness, tails, gaps and outliers.  Include a comment on the spread of the distributions. \n",
    "<!--\n",
    "BEGIN QUESTION\n",
    "name: q2b\n",
    "points: 2\n",
    "manual: true\n",
    "-->"
   ]
  },
  {
   "cell_type": "markdown",
   "metadata": {},
   "source": [
    "_Type your answer here, replacing this text._"
   ]
  },
  {
   "cell_type": "markdown",
   "metadata": {
    "deletable": false,
    "editable": false,
    "nbgrader": {
     "grade": false,
     "grade_id": "q2c",
     "locked": true,
     "schema_version": 2,
     "solution": false
    }
   },
   "source": [
    "<!-- END QUESTION -->\n",
    "\n",
    "<!-- BEGIN QUESTION -->\n",
    "\n",
    "### Question 2c\n",
    "\n",
    "The density plots do not show us how the counts for registered and casual riders vary together. Use [`sns.lmplot`](https://seaborn.pydata.org/generated/seaborn.lmplot.html) to make a scatter plot to investigate the relationship between casual and registered counts. This time, let's use the `bike` DataFrame to plot hourly counts instead of daily counts.\n",
    "\n",
    "The `lmplot` function will also try to draw a linear regression line (just as you saw in Data 8). Color the points in the scatterplot according to whether or not the day is a working day (your colors do not have to match ours exactly, but they should be different based on whether the day is a working day). \n",
    "\n",
    "There are many points in the scatter plot, so make them small to help reduce overplotting. Also make sure to set `fit_reg=True` to generate the linear regression line. You can set the `height` parameter if you want to adjust the size of the `lmplot`. \n",
    "\n",
    "<img src='images/casual_registered_working_nonworking.png' width=\"600px\" />\n",
    "\n",
    "**Hints:** \n",
    "* Checkout this helpful [tutorial on `lmplot`](https://seaborn.pydata.org/tutorial/regression.html).\n",
    "\n",
    "* You will need to set `x`, `y`, and `hue` and the `scatter_kws`.\n",
    "\n",
    "<!--\n",
    "BEGIN QUESTION\n",
    "name: q2c\n",
    "points: 2\n",
    "manual: true\n",
    "-->"
   ]
  },
  {
   "cell_type": "code",
   "execution_count": 28,
   "metadata": {
    "ExecuteTime": {
     "end_time": "2018-09-12T05:50:19.737393Z",
     "start_time": "2018-09-12T05:50:18.438733Z"
    },
    "nbgrader": {
     "grade": true,
     "grade_id": "q2c-answer",
     "locked": false,
     "points": 2,
     "schema_version": 2,
     "solution": true
    },
    "tags": [
     "student",
     "written"
    ]
   },
   "outputs": [],
   "source": [
    "# Make the font size a bit bigger\n",
    "sns.set(font_scale=1)\n",
    "..."
   ]
  },
  {
   "cell_type": "markdown",
   "metadata": {
    "deletable": false,
    "editable": false,
    "nbgrader": {
     "grade": false,
     "grade_id": "q2d",
     "locked": true,
     "schema_version": 2,
     "solution": false
    }
   },
   "source": [
    "<!-- END QUESTION -->\n",
    "\n",
    "<!-- BEGIN QUESTION -->\n",
    "\n",
    "### Question 2d\n",
    "\n",
    "What does this scatterplot seem to reveal about the relationship (if any) between casual and registered riders and whether or not the day is on the weekend? What effect does [overplotting](http://www.textbook.ds100.org/ch/06/viz_principles_2.html) have on your ability to describe this relationship?\n",
    "\n",
    "<!--\n",
    "BEGIN QUESTION\n",
    "name: q2d\n",
    "points: 2\n",
    "manual: true\n",
    "-->"
   ]
  },
  {
   "cell_type": "markdown",
   "metadata": {},
   "source": [
    "_Type your answer here, replacing this text._"
   ]
  },
  {
   "cell_type": "markdown",
   "metadata": {
    "nbgrader": {
     "grade": false,
     "grade_id": "q3a",
     "locked": true,
     "schema_version": 2,
     "solution": false
    }
   },
   "source": [
    "<!-- END QUESTION -->\n",
    "\n",
    "\n",
    "\n",
    "---\n",
    "## 3: Visualization\n",
    "\n",
    "### Question 3\n",
    "\n",
    "#### Question 3a Bivariate Kernel Density Plot\n",
    " \n",
    "To address overplotting, let's try visualizing the data with another technique, the bivariate kernel density estimate.\n",
    "\n",
    "You will want to read up on the documentation for `sns.kdeplot` which can be found at https://seaborn.pydata.org/generated/seaborn.kdeplot.html\n",
    "\n",
    "The result we wish to achieve should be a plot that looks like this:\n",
    "\n",
    "<img src='images/bivariate_kde_of_daily_rider_types.png' width=\"600px\" />\n",
    "\n",
    "You can think of this plot as an overhead countour or topographical map, where the \"high\" regions are those with more data points, and \"low\" regions are those with fewer data points."
   ]
  },
  {
   "cell_type": "markdown",
   "metadata": {
    "nbgrader": {
     "grade": false,
     "grade_id": "cell-1572ce18192a0036",
     "locked": true,
     "schema_version": 2,
     "solution": false
    }
   },
   "source": [
    "A basic kde plot of all the data is quite easy to generate. However, this plot includes both weekend and weekday data, which isn't what we want (see example figure above)."
   ]
  },
  {
   "cell_type": "code",
   "execution_count": 29,
   "metadata": {
    "nbgrader": {
     "grade": false,
     "grade_id": "cell-e177fd6f517469dd",
     "locked": true,
     "schema_version": 2,
     "solution": false
    },
    "scrolled": false
   },
   "outputs": [],
   "source": [
    "sns.kdeplot(x=daily_counts['casual'], y=daily_counts['registered'])\n",
    "plt.title('KDE Plot Comparison of Registered vs Casual Riders');"
   ]
  },
  {
   "cell_type": "markdown",
   "metadata": {
    "deletable": false,
    "editable": false,
    "nbgrader": {
     "grade": false,
     "grade_id": "cell-8e328952573d49dc",
     "locked": true,
     "schema_version": 2,
     "solution": false
    }
   },
   "source": [
    "<!-- BEGIN QUESTION -->\n",
    "\n",
    "Generating the plot with weekend and weekday separated can be complicated so we will provide a walkthrough below, feel free to use whatever method you wish if you do not want to follow the walkthrough.\n",
    "\n",
    "**Hints:** \n",
    "* You can use `loc` with a boolean array and column names at the same time\n",
    "* You will need to call kdeplot twice.\n",
    "* Check out this [guide](https://matplotlib.org/3.1.1/tutorials/introductory/usage.html#matplotlib-pyplot-and-pylab-how-are-they-related) to see an example of how to create a legend. In particular, look at how the example in the guide makes use of the `label` argument in the call to `plt.plot()` and what the `plt.legend()` call does. This is a good exercise to learn how to use examples to get the look you want.\n",
    "* You will want to set the `cmap` parameter of `kdeplot` to `\"Reds\"` and `\"Blues\"` (or whatever two contrasting colors you'd like). You are required for this question to use two sets of contrasting colors for your plots.\n",
    "\n",
    "After you get your plot working, experiment by setting `shade=True` in `kdeplot` to see the difference between the shaded and unshaded version. Please submit your work with `shade=False`. \n",
    "<!--\n",
    "BEGIN QUESTION\n",
    "name: q3a\n",
    "points: 5\n",
    "manual: true\n",
    "-->"
   ]
  },
  {
   "cell_type": "code",
   "execution_count": 30,
   "metadata": {
    "ExecuteTime": {
     "end_time": "2018-09-12T05:50:21.836604Z",
     "start_time": "2018-09-12T05:50:19.739067Z"
    },
    "nbgrader": {
     "grade": true,
     "grade_id": "q3a-answer",
     "locked": false,
     "points": 5,
     "schema_version": 2,
     "solution": true
    },
    "tags": [
     "student",
     "written"
    ]
   },
   "outputs": [],
   "source": [
    "# Set 'is_workingday' to a boolean array that is true for all working_days\n",
    "is_workingday = ...\n",
    "\n",
    "# Bivariate KDEs require two data inputs. \n",
    "# In this case, we will need the daily counts for casual and registered riders on workdays\n",
    "casual_workday = ...\n",
    "registered_workday = ...\n",
    "\n",
    "# Use sns.kdeplot on the two variables above to plot the bivariate KDE for weekday rides\n",
    "...\n",
    "\n",
    "# Repeat the same steps above but for rows corresponding to non-workingdays\n",
    "casual_non_workday = ...\n",
    "registered_non_workday = ...\n",
    "\n",
    "# Use sns.kdeplot on the two variables above to plot the bivariate KDE for non-workingday rides\n",
    "..."
   ]
  },
  {
   "cell_type": "markdown",
   "metadata": {
    "deletable": false,
    "editable": false,
    "nbgrader": {
     "grade": false,
     "grade_id": "q3b",
     "locked": true,
     "schema_version": 2,
     "solution": false
    }
   },
   "source": [
    "<!-- END QUESTION -->\n",
    "\n",
    "<!-- BEGIN QUESTION -->\n",
    "\n",
    "#### Question 3b\n",
    "\n",
    "What additional details can you identify from this contour plot that were difficult to determine from the scatter plot?\n",
    "\n",
    "<!--\n",
    "BEGIN QUESTION\n",
    "name: q3b\n",
    "points: 3\n",
    "manual: true\n",
    "-->"
   ]
  },
  {
   "cell_type": "markdown",
   "metadata": {},
   "source": [
    "_Type your answer here, replacing this text._"
   ]
  },
  {
   "cell_type": "markdown",
   "metadata": {
    "deletable": false,
    "editable": false,
    "nbgrader": {
     "grade": false,
     "grade_id": "q3c",
     "locked": true,
     "schema_version": 2,
     "solution": false
    }
   },
   "source": [
    "<!-- END QUESTION -->\n",
    "\n",
    "<!-- BEGIN QUESTION -->\n",
    "\n",
    "## 4: Joint Plot\n",
    "\n",
    "As an alternative approach to visualizing the data, construct the following set of three plots where the main plot shows the contours of the kernel density estimate of daily counts for registered and casual riders plotted together, and the two \"margin\" plots (at the top and right of the figure) provide the univariate kernel density estimate of each of these variables. Note that this plot makes it harder see the linear relationships between casual and registered for the two different conditions (weekday vs. weekend).\n",
    "\n",
    "<img src=\"images/joint_distribution_of_daily_rider_types.png\" width=\"600px\" />\n",
    "\n",
    "**Hints**:\n",
    "* The [seaborn plotting tutorial](https://seaborn.pydata.org/tutorial/distributions.html) has examples that may be helpful.\n",
    "* Take a look at `sns.jointplot` and its `kind` parameter.\n",
    "* `set_axis_labels` can be used to rename axes on the contour plot.\n",
    "* `plt.suptitle` from lab 1 can be handy for setting the title where you want.\n",
    "* `plt.subplots_adjust(top=0.9)` can help if your title overlaps with your plot\n",
    "\n",
    "<!--\n",
    "BEGIN QUESTION\n",
    "name: q4\n",
    "points: 2\n",
    "manual: true\n",
    "-->"
   ]
  },
  {
   "cell_type": "code",
   "execution_count": 31,
   "metadata": {
    "ExecuteTime": {
     "end_time": "2018-09-12T05:50:23.660490Z",
     "start_time": "2018-09-12T05:50:21.838925Z"
    },
    "nbgrader": {
     "grade": true,
     "grade_id": "q3c-answer",
     "locked": false,
     "points": 2,
     "schema_version": 2,
     "solution": true
    },
    "tags": [
     "student",
     "written"
    ]
   },
   "outputs": [],
   "source": [
    "..."
   ]
  },
  {
   "cell_type": "markdown",
   "metadata": {
    "deletable": false,
    "editable": false,
    "nbgrader": {
     "grade": false,
     "grade_id": "q5a",
     "locked": true,
     "schema_version": 2,
     "solution": false
    }
   },
   "source": [
    "<!-- END QUESTION -->\n",
    "\n",
    "<!-- BEGIN QUESTION -->\n",
    "\n",
    "---\n",
    "## 5: Understanding Daily Patterns\n",
    "\n",
    "### Question 5\n",
    "\n",
    "#### Question 5a\n",
    "Let's examine the behavior of riders by plotting the average number of riders for each hour of the day over the **entire dataset**, stratified by rider type.  \n",
    "\n",
    "Your plot should look like the plot below. While we don't expect your plot's colors to match ours exactly, your plot should have different colored lines for different kinds of riders.\n",
    "\n",
    "<img src=\"images/diurnal_bikes.png\" width=\"600px\"/>\n",
    "\n",
    "<!--\n",
    "BEGIN QUESTION\n",
    "name: q5a\n",
    "points: 2\n",
    "manual: true\n",
    "-->"
   ]
  },
  {
   "cell_type": "code",
   "execution_count": 32,
   "metadata": {
    "ExecuteTime": {
     "end_time": "2018-09-12T05:50:26.768572Z",
     "start_time": "2018-09-12T05:50:25.371208Z"
    },
    "nbgrader": {
     "grade": true,
     "grade_id": "q5a-answer",
     "locked": false,
     "points": 2,
     "schema_version": 2,
     "solution": true
    },
    "tags": [
     "student",
     "written"
    ]
   },
   "outputs": [],
   "source": [
    "..."
   ]
  },
  {
   "cell_type": "markdown",
   "metadata": {
    "deletable": false,
    "editable": false,
    "nbgrader": {
     "grade": false,
     "grade_id": "q5b",
     "locked": true,
     "schema_version": 2,
     "solution": false
    }
   },
   "source": [
    "<!-- END QUESTION -->\n",
    "\n",
    "<!-- BEGIN QUESTION -->\n",
    "\n",
    "#### Question 5b\n",
    "\n",
    "What can you observe from the plot?  Hypothesize about the meaning of the peaks in the registered riders' distribution.\n",
    "<!--\n",
    "BEGIN QUESTION\n",
    "name: q5b\n",
    "points: 2\n",
    "manual: true\n",
    "-->"
   ]
  },
  {
   "cell_type": "markdown",
   "metadata": {},
   "source": [
    "_Type your answer here, replacing this text._"
   ]
  },
  {
   "cell_type": "markdown",
   "metadata": {
    "deletable": false,
    "editable": false,
    "nbgrader": {
     "grade": false,
     "grade_id": "q6a",
     "locked": true,
     "schema_version": 2,
     "solution": false
    }
   },
   "source": [
    "<!-- END QUESTION -->\n",
    "\n",
    "---\n",
    "## 6: Exploring Ride Sharing and Weather\n",
    "Now let's examine how the weather is affecting rider's behavior. First let's look at how the proportion of casual riders changes as weather changes.\n",
    "\n",
    "### Question 6\n",
    "\n",
    "#### Question 6a\n",
    "Create a new column `prop_casual` in the `bike` DataFrame representing the proportion of casual riders out of all riders for each record.\n",
    "<!--\n",
    "BEGIN QUESTION\n",
    "name: q6a\n",
    "points: 1\n",
    "-->"
   ]
  },
  {
   "cell_type": "code",
   "execution_count": 34,
   "metadata": {
    "ExecuteTime": {
     "end_time": "2018-09-12T05:50:26.774129Z",
     "start_time": "2018-09-12T05:50:26.770558Z"
    },
    "nbgrader": {
     "grade": false,
     "grade_id": "q6a-answer",
     "locked": false,
     "schema_version": 2,
     "solution": true
    },
    "tags": [
     "student"
    ]
   },
   "outputs": [],
   "source": [
    "..."
   ]
  },
  {
   "cell_type": "code",
   "execution_count": null,
   "metadata": {
    "deletable": false,
    "editable": false
   },
   "outputs": [],
   "source": [
    "grader.check(\"q6a\")"
   ]
  },
  {
   "cell_type": "markdown",
   "metadata": {
    "nbgrader": {
     "grade": false,
     "grade_id": "q6b",
     "locked": true,
     "schema_version": 2,
     "solution": false
    }
   },
   "source": [
    "#### Question 6b\n",
    "In order to examine the relationship between proportion of casual riders and temperature, we can create a scatterplot using `sns.scatterplot`. We can even use color/hue to encode the information about day of week. Run the cell below, and you'll see we end up with a big mess that is impossible to interpret."
   ]
  },
  {
   "cell_type": "code",
   "execution_count": 37,
   "metadata": {
    "nbgrader": {
     "grade": false,
     "grade_id": "cell-728459bdb0b60604",
     "locked": true,
     "schema_version": 2,
     "solution": false
    },
    "scrolled": false
   },
   "outputs": [],
   "source": [
    "plt.figure(figsize=(10, 7))\n",
    "sns.scatterplot(data=bike, x=\"temp\", y=\"prop_casual\", hue=\"weekday\");"
   ]
  },
  {
   "cell_type": "markdown",
   "metadata": {
    "nbgrader": {
     "grade": false,
     "grade_id": "cell-1afe9e99d20a4374",
     "locked": true,
     "schema_version": 2,
     "solution": false
    }
   },
   "source": [
    "We could attempt linear regression using `sns.lmplot` as shown below, which hint at some relationships between temperature and proportional casual, but the plot is still fairly unconvincing. "
   ]
  },
  {
   "cell_type": "code",
   "execution_count": 38,
   "metadata": {
    "ExecuteTime": {
     "end_time": "2018-09-12T05:50:28.645562Z",
     "start_time": "2018-09-12T05:50:26.781870Z"
    },
    "nbgrader": {
     "grade": false,
     "grade_id": "q6b-lmplot",
     "locked": true,
     "schema_version": 2,
     "solution": false
    }
   },
   "outputs": [],
   "source": [
    "sns.lmplot(data=bike, x=\"temp\", y=\"prop_casual\", hue=\"weekday\", scatter_kws={\"s\": 20}, height=10)\n",
    "plt.title(\"Proportion of Casual Riders by Weekday\");"
   ]
  },
  {
   "cell_type": "markdown",
   "metadata": {
    "nbgrader": {
     "grade": false,
     "grade_id": "cell-980b34b254817347",
     "locked": true,
     "schema_version": 2,
     "solution": false
    }
   },
   "source": [
    "A better approach is to use local smoothing. The basic idea is that for each x value, we compute some sort of representative y value that captures the data close to that x value. One technique for local smoothing is \"Locally Weighted Scatterplot Smoothing\" or LOWESS. An example is below. The red curve shown is a smoothed version of the scatterplot."
   ]
  },
  {
   "cell_type": "code",
   "execution_count": 39,
   "metadata": {
    "ExecuteTime": {
     "end_time": "2018-09-12T05:50:28.793327Z",
     "start_time": "2018-09-12T05:50:28.646991Z"
    },
    "nbgrader": {
     "grade": false,
     "grade_id": "cell-fae506cbd94f98bc",
     "locked": true,
     "schema_version": 2,
     "solution": false
    }
   },
   "outputs": [],
   "source": [
    "from statsmodels.nonparametric.smoothers_lowess import lowess\n",
    "# Make noisy data\n",
    "xobs = np.sort(np.random.rand(100)*4.0 - 2)\n",
    "yobs = np.exp(xobs) + np.random.randn(100) / 2.0\n",
    "sns.scatterplot(xobs, yobs, label=\"Raw Data\")\n",
    "\n",
    "# Predict 'smoothed' valued for observations\n",
    "ysmooth = lowess(yobs, xobs, return_sorted=False)\n",
    "sns.lineplot(xobs, ysmooth, label=\"Smoothed Estimator\", color='red')\n",
    "plt.legend();"
   ]
  },
  {
   "cell_type": "markdown",
   "metadata": {
    "deletable": false,
    "editable": false,
    "nbgrader": {
     "grade": false,
     "grade_id": "q6b-lowess-plot",
     "locked": true,
     "schema_version": 2,
     "solution": false
    }
   },
   "source": [
    "<!-- BEGIN QUESTION -->\n",
    "\n",
    "In our case with the bike ridership data, we want 7 curves, one for each day of the week. The x-axis will be the temperature and the y-axis will be a smoothed version of the proportion of casual riders.\n",
    "\n",
    "<img src=\"images/curveplot_temp_prop_casual.png\" width=\"600px\" />\n",
    "\n",
    "You should use [`statsmodels.nonparametric.smoothers_lowess.lowess`](http://www.statsmodels.org/dev/generated/statsmodels.nonparametric.smoothers_lowess.lowess.html) just like the example above. Unlike the example above, plot ONLY the lowess curve. Do not plot the actual data, which would result in overplotting. For this problem, the simplest way is to use a loop.\n",
    "\n",
    "You do not need to match the colors on our sample plot as long as the colors in your plot make it easy to distinguish which day they represent.\n",
    "\n",
    "**Hints:** \n",
    "* Start by just plotting only one day of the week to make sure you can do that first.\n",
    "\n",
    "* The `lowess` function expects y coordinate first, then x coordinate.\n",
    "\n",
    "* Look at the top of this homework notebook for a description of the temperature field to know how to convert to Fahrenheit. By default, the temperature field ranges from 0.0 to 1.0. In case you need it, $\\text{Fahrenheit} = \\text{Celsius} * \\frac{9}{5} + 32$.\n",
    "\n",
    "Note: If you prefer plotting temperatures in Celsius, that's fine as well!\n",
    "<!--\n",
    "BEGIN QUESTION\n",
    "name: q6b\n",
    "points: 4\n",
    "manual: true\n",
    "-->"
   ]
  },
  {
   "cell_type": "code",
   "execution_count": 40,
   "metadata": {
    "nbgrader": {
     "grade": true,
     "grade_id": "cell-831d12249d05ea2c",
     "locked": false,
     "points": 4,
     "schema_version": 2,
     "solution": true
    },
    "scrolled": false
   },
   "outputs": [],
   "source": [
    "from statsmodels.nonparametric.smoothers_lowess import lowess\n",
    "\n",
    "plt.figure(figsize=(10,8))\n",
    "..."
   ]
  },
  {
   "cell_type": "markdown",
   "metadata": {
    "deletable": false,
    "editable": false,
    "nbgrader": {
     "grade": false,
     "grade_id": "q6c",
     "locked": true,
     "schema_version": 2,
     "solution": false
    }
   },
   "source": [
    "<!-- END QUESTION -->\n",
    "\n",
    "<!-- BEGIN QUESTION -->\n",
    "\n",
    "#### Question 6c\n",
    "What do you see from the curve plot? How is `prop_casual` changing as a function of temperature? Do you notice anything else interesting?\n",
    "<!--\n",
    "BEGIN QUESTION\n",
    "name: q6c\n",
    "points: 2\n",
    "manual: true\n",
    "-->"
   ]
  },
  {
   "cell_type": "markdown",
   "metadata": {},
   "source": [
    "_Type your answer here, replacing this text._"
   ]
  },
  {
   "cell_type": "markdown",
   "metadata": {},
   "source": [
    "<!-- END QUESTION -->\n",
    "\n",
    "\n",
    "\n",
    "## Question 7: Expanding our Analysis"
   ]
  },
  {
   "cell_type": "markdown",
   "metadata": {
    "deletable": false,
    "editable": false
   },
   "source": [
    "<!-- BEGIN QUESTION -->\n",
    "\n",
    "### Question 7\n",
    "#### Question 7A\n",
    "\n",
    "Imagine you are working for a Bike Sharing Company that collaborates with city planners, transportation agencies, and policy makers in order to implement bike sharing in a city. These stakeholders would like to reduce congestion and lower transportation costs. They also want to ensure the bike sharing program is implemented equitably. In this sense, equity is a social value that is informing the deployment and assessment of your bike sharing technology. \n",
    "\n",
    "Equity in transportation includes: improving the ability of people of different socio-economic classes, genders, races, and neighborhoods to access and afford the transportation services, and assessing how inclusive transportation systems are over time. \n",
    "\n",
    "Do you think the `bike` data as it is can help you assess equity? If so, please explain. If not, how would you change the dataset? You may discuss how you would change the granularity, what other kinds of variables you'd introduce to it, or anything else that might help you answer this question.\n",
    "\n",
    "<!--\n",
    "BEGIN QUESTION\n",
    "name: q7a\n",
    "points: 2\n",
    "manual: true\n",
    "-->"
   ]
  },
  {
   "cell_type": "markdown",
   "metadata": {},
   "source": [
    "_Type your answer here, replacing this text._"
   ]
  },
  {
   "cell_type": "markdown",
   "metadata": {
    "deletable": false,
    "editable": false
   },
   "source": [
    "<!-- END QUESTION -->"
   ]
  },
  {
   "cell_type": "code",
   "execution_count": null,
   "metadata": {},
   "outputs": [],
   "source": [
    "# Use this cell for scratch work. If you need to add more cells for scratch work, add them BELOW this cell."
   ]
  },
  {
   "cell_type": "markdown",
   "metadata": {
    "deletable": false,
    "editable": false
   },
   "source": [
    "<!-- BEGIN QUESTION -->\n",
    "\n",
    "#### Question 7B\n",
    "[Bike sharing is growing in popularity](https://www.bts.gov/newsroom/bike-share-stations-us) and new cities and regions are making efforts to implement bike sharing systems that complement their other transportation offerings. The [goals of these efforts](https://www.wired.com/story/americans-falling-in-love-bike-share/) are to have bike sharing serve as an alternate form of transportation in order to alleviate congestion, provide geographic connectivity, reduce carbon emissions, and promote inclusion among communities.\n",
    "\n",
    "Bike sharing systems have spread to many cities across the country. The company you work for asks you to determine the feasibility of expanding bike sharing to additional cities of the U.S. \n",
    "\n",
    "Based on your plots in this assignment, what would you recommend and why? Please list at least two reasons why, and mention which plot(s) you drew you analysis from. \n",
    "\n",
    "**Note**: There isn't a set right or wrong answer for this question, feel free to come up with your own conclusions based on evidence from your plots! \n",
    "\n",
    "<!--\n",
    "BEGIN QUESTION\n",
    "name: q7b\n",
    "points: 2\n",
    "manual: true\n",
    "-->"
   ]
  },
  {
   "cell_type": "markdown",
   "metadata": {},
   "source": [
    "_Type your answer here, replacing this text._"
   ]
  },
  {
   "cell_type": "markdown",
   "metadata": {
    "deletable": false,
    "editable": false
   },
   "source": [
    "<!-- END QUESTION -->"
   ]
  },
  {
   "cell_type": "code",
   "execution_count": null,
   "metadata": {},
   "outputs": [],
   "source": [
    "# Use this cell for scratch work. If you need to add more cells for scratch work, add them BELOW this cell."
   ]
  },
  {
   "cell_type": "markdown",
   "metadata": {
    "deletable": false,
    "editable": false
   },
   "source": [
    "---\n",
    "\n",
    "To double-check your work, the cell below will rerun all of the autograder tests."
   ]
  },
  {
   "cell_type": "code",
   "execution_count": null,
   "metadata": {
    "deletable": false,
    "editable": false
   },
   "outputs": [],
   "source": [
    "grader.check_all()"
   ]
  },
  {
   "cell_type": "markdown",
   "metadata": {
    "deletable": false,
    "editable": false
   },
   "source": [
    "## Submission\n",
    "\n",
    "Make sure you have run all cells in your notebook in order before running the cell below, so that all images/graphs appear in the output. The cell below will generate a zip file for you to submit. **Please save before exporting!**"
   ]
  },
  {
   "cell_type": "code",
   "execution_count": null,
   "metadata": {
    "deletable": false,
    "editable": false
   },
   "outputs": [],
   "source": [
    "# Save your notebook first, then run this cell to export your submission.\n",
    "grader.export()"
   ]
  },
  {
   "cell_type": "markdown",
   "metadata": {},
   "source": [
    " "
   ]
  }
 ],
 "metadata": {
  "celltoolbar": "Create Assignment",
  "history": [
   {
    "code": "# Run this cell to set up your notebook.  Make sure ds100_utils.py is in this assignment's folder\nimport seaborn as sns\nimport csv\nimport numpy as np\nimport pandas as pd\nimport matplotlib.pyplot as plt\nimport zipfile\nfrom pathlib import Path\nimport ds100_utils\n\n# Default plot configurations\n%matplotlib inline\nplt.rcParams['figure.figsize'] = (16,8)\nplt.rcParams['figure.dpi'] = 150\nsns.set()\n\nfrom IPython.display import display, Latex, Markdown",
    "id": "21947424cafb4a679b1c0a4925d4fe71",
    "idx": 4,
    "time": "2021-02-13T19:04:48.994Z",
    "type": "execution"
   },
   {
    "id": "21947424cafb4a679b1c0a4925d4fe71",
    "time": "2021-02-13T19:04:50.643Z",
    "type": "completion"
   },
   {
    "code": "# Run this cell to download the data.  No further action is needed\n\ndata_url = 'https://github.com/DS-100/fa20/raw/gh-pages/resources/assets/datasets/hw3-bikeshare.zip'\nfile_name = 'data.zip'\ndata_dir = '.'\n\ndest_path = ds100_utils.fetch_and_cache(data_url=data_url, data_dir=data_dir, file=file_name)\nprint('Saved at {}'.format(dest_path))\n\nzipped_data = zipfile.ZipFile(dest_path, 'r')\n\ndata_dir = Path('data')\nzipped_data.extractall(data_dir)\n\n\nprint(\"Extracted Files:\")\nfor f in data_dir.glob(\"*\"):\n    print(\"\\t\",f)",
    "id": "4bde3ddc1d654d58881e8ff053013e7c",
    "idx": 7,
    "time": "2021-02-13T19:06:41.989Z",
    "type": "execution"
   },
   {
    "id": "4bde3ddc1d654d58881e8ff053013e7c",
    "time": "2021-02-13T19:06:42.336Z",
    "type": "completion"
   },
   {
    "code": "# Run this cell to look at the top of the file.  No further action is needed\nfor line in ds100_utils.head(data_dir/'bikeshare.txt'):\n    print(line,end=\"\")",
    "id": "86251d5cc4e94fac8318d21d510da0af",
    "idx": 9,
    "time": "2021-02-13T19:07:05.531Z",
    "type": "execution"
   },
   {
    "id": "86251d5cc4e94fac8318d21d510da0af",
    "time": "2021-02-13T19:07:05.726Z",
    "type": "completion"
   },
   {
    "code": "# Run this cell to view some metadata.  No further action is needed\nprint(\"Size:\", (data_dir/\"bikeshare.txt\").stat().st_size, \"bytes\")\nprint(\"Line Count:\", ds100_utils.line_count(data_dir/\"bikeshare.txt\"), \"lines\")",
    "id": "0b948017de7140deac03525a97df7f73",
    "idx": 11,
    "time": "2021-02-13T19:07:53.441Z",
    "type": "execution"
   },
   {
    "id": "0b948017de7140deac03525a97df7f73",
    "time": "2021-02-13T19:07:53.600Z",
    "type": "completion"
   },
   {
    "code": "# Run this cell to load the data.  No further action is needed\nbike = pd.read_csv(data_dir/'bikeshare.txt')\nbike.head()",
    "id": "6b3d3311bf5f47cb8b9227fdbc4336e4",
    "idx": 13,
    "time": "2021-02-13T19:08:08.021Z",
    "type": "execution"
   },
   {
    "id": "6b3d3311bf5f47cb8b9227fdbc4336e4",
    "time": "2021-02-13T19:08:08.189Z",
    "type": "completion"
   },
   {
    "code": "bike.shape",
    "id": "552edb17e8ae444e8cd7c2efb8bc2d34",
    "idx": 15,
    "time": "2021-02-13T19:08:38.020Z",
    "type": "execution"
   },
   {
    "id": "552edb17e8ae444e8cd7c2efb8bc2d34",
    "time": "2021-02-13T19:08:38.095Z",
    "type": "completion"
   },
   {
    "code": "# Modify holiday weekday, workingday, and weathersit here\n# BEGIN SOLUTION\nfactor_dict = {\n    'holiday': {\n        0:'no', \n        1:'yes'\n    },\n    'weekday': {\n        0: 'Sun', \n        1: 'Mon', \n        2: 'Tue', \n        3: 'Wed', \n        4: 'Thu', \n        5: 'Fri', \n        6: 'Sat'\n    },\n    'workingday': {\n        0: 'no',\n        1: 'yes'\n    },\n    'weathersit': {\n        1: 'Clear',\n        2: 'Mist',\n        3: 'Light',\n        4: 'Heavy'\n    }\n}\n\nbike.replace(factor_dict, inplace=True)\nbike#.head()\n# END SOLUTION",
    "id": "15bcf4cf4c4a48bd9674433f6f1b318c",
    "idx": 25,
    "time": "2021-02-13T19:11:28.028Z",
    "type": "execution"
   },
   {
    "id": "15bcf4cf4c4a48bd9674433f6f1b318c",
    "time": "2021-02-13T19:11:28.170Z",
    "type": "completion"
   },
   {
    "code": "# TEST\nisinstance(bike, pd.DataFrame)",
    "id": "dc14b37365e54be28ced40d684952121",
    "idx": 26,
    "time": "2021-02-13T19:11:51.426Z",
    "type": "execution"
   },
   {
    "id": "dc14b37365e54be28ced40d684952121",
    "time": "2021-02-13T19:11:51.527Z",
    "type": "completion"
   },
   {
    "code": "# TEST\nbike['holiday'].dtype == np.dtype('O')",
    "id": "01a5090726144536831008a04591bd1d",
    "idx": 27,
    "time": "2021-02-13T19:11:53.467Z",
    "type": "execution"
   },
   {
    "id": "01a5090726144536831008a04591bd1d",
    "time": "2021-02-13T19:11:53.675Z",
    "type": "completion"
   },
   {
    "code": "# TEST\nlist(bike['holiday'].iloc[370:375]) == ['no', 'no', 'yes', 'yes', 'yes']",
    "id": "3874c69103f843848d4fa72e9791c9e5",
    "idx": 28,
    "time": "2021-02-13T19:11:55.659Z",
    "type": "execution"
   },
   {
    "id": "3874c69103f843848d4fa72e9791c9e5",
    "time": "2021-02-13T19:11:55.801Z",
    "type": "completion"
   },
   {
    "code": "# TEST\nbike['weekday'].dtype == np.dtype('O')",
    "id": "a6ccadf2436f48468ad7133054335ee1",
    "idx": 29,
    "time": "2021-02-13T19:11:58.161Z",
    "type": "execution"
   },
   {
    "id": "a6ccadf2436f48468ad7133054335ee1",
    "time": "2021-02-13T19:11:58.245Z",
    "type": "completion"
   },
   {
    "code": "# TEST\nbike['workingday'].dtype == np.dtype('O')",
    "id": "1709d50b2de6435d8ad5512218322fb0",
    "idx": 30,
    "time": "2021-02-13T19:12:00.758Z",
    "type": "execution"
   },
   {
    "id": "1709d50b2de6435d8ad5512218322fb0",
    "time": "2021-02-13T19:12:00.832Z",
    "type": "completion"
   },
   {
    "code": "# TEST\nbike['weathersit'].dtype == np.dtype('O')",
    "id": "f338b1fde0f4441c83d45d5d4243d5d4",
    "idx": 31,
    "time": "2021-02-13T19:12:02.981Z",
    "type": "execution"
   },
   {
    "id": "f338b1fde0f4441c83d45d5d4243d5d4",
    "time": "2021-02-13T19:12:03.057Z",
    "type": "completion"
   },
   {
    "code": "# HIDDEN TEST\nbike.shape == (17379, 17) or bike.shape == (17379, 18)",
    "id": "9f4c00ce06db402ea1ba674b92fcc630",
    "idx": 32,
    "time": "2021-02-13T19:12:06.127Z",
    "type": "execution"
   },
   {
    "id": "9f4c00ce06db402ea1ba674b92fcc630",
    "time": "2021-02-13T19:12:06.246Z",
    "type": "completion"
   },
   {
    "code": "# HIDDEN TEST\nlist(bike['weekday'].iloc[::2000])",
    "id": "b2fbbb9ced2c4b5899bc4070eee676ef",
    "idx": 33,
    "time": "2021-02-13T19:12:09.997Z",
    "type": "execution"
   },
   {
    "id": "b2fbbb9ced2c4b5899bc4070eee676ef",
    "time": "2021-02-13T19:12:10.078Z",
    "type": "completion"
   },
   {
    "code": "# HIDDEN TEST\nlist(bike['workingday'].iloc[::2000])",
    "id": "859f923a9ca24e3da2ac89ace9bdd3a0",
    "idx": 34,
    "time": "2021-02-13T19:12:16.582Z",
    "type": "execution"
   },
   {
    "id": "859f923a9ca24e3da2ac89ace9bdd3a0",
    "time": "2021-02-13T19:12:16.650Z",
    "type": "completion"
   },
   {
    "code": "# HIDDEN TEST\nlist(bike['weathersit'].iloc[::2000]) == ['Clear'] * 9",
    "id": "40cec4c8138545329777c05b4f86b77b",
    "idx": 35,
    "time": "2021-02-13T19:12:23.091Z",
    "type": "execution"
   },
   {
    "id": "40cec4c8138545329777c05b4f86b77b",
    "time": "2021-02-13T19:12:23.253Z",
    "type": "completion"
   },
   {
    "code": "num_holidays = bike['holiday'].value_counts()['yes'] # SOLUTION\nnum_holidays",
    "id": "5b5c204dc7e2482c989ffdb9e3f1da4d",
    "idx": 37,
    "time": "2021-02-13T19:12:46.445Z",
    "type": "execution"
   },
   {
    "id": "5b5c204dc7e2482c989ffdb9e3f1da4d",
    "time": "2021-02-13T19:12:46.543Z",
    "type": "completion"
   },
   {
    "code": "# TEST\n1 <= num_holidays <= 10000",
    "id": "2c9d16fac5414a5b8eb7485caca31ff9",
    "idx": 38,
    "time": "2021-02-13T19:12:48.908Z",
    "type": "execution"
   },
   {
    "id": "2c9d16fac5414a5b8eb7485caca31ff9",
    "time": "2021-02-13T19:12:49.041Z",
    "type": "completion"
   },
   {
    "code": "# HIDDEN TEST\nnum_holidays == 500",
    "id": "1ad5e6ed2f77483686ff1b1cc355cb30",
    "idx": 39,
    "time": "2021-02-13T19:12:50.689Z",
    "type": "execution"
   },
   {
    "id": "1ad5e6ed2f77483686ff1b1cc355cb30",
    "time": "2021-02-13T19:12:50.756Z",
    "type": "completion"
   },
   {
    "code": "daily_counts = ...\n# BEGIN SOLUTION NO PROMPT\ndaily_counts = (\n    bike\n    .groupby(['dteday'])\n    .agg(\n        {\n        \"casual\": sum, \n        \"registered\": sum, \n        \"workingday\": 'last'\n        }\n    )\n)\ndaily_counts.head()\n# END SOLUTION",
    "id": "2c796ee6f6234c799d1df113a0c084f7",
    "idx": 41,
    "time": "2021-02-13T19:14:16.339Z",
    "type": "execution"
   },
   {
    "id": "2c796ee6f6234c799d1df113a0c084f7",
    "time": "2021-02-13T19:14:16.570Z",
    "type": "completion"
   },
   {
    "code": "# TEST\nnp.round(daily_counts['casual'].mean())",
    "id": "183e5a894235455aa51b31f11b2e0ccc",
    "idx": 42,
    "time": "2021-02-13T19:14:25.431Z",
    "type": "execution"
   },
   {
    "id": "183e5a894235455aa51b31f11b2e0ccc",
    "time": "2021-02-13T19:14:25.508Z",
    "type": "completion"
   },
   {
    "code": "# TEST\nnp.round(daily_counts['casual'].var())",
    "id": "c685911424ac41ca8b273f1b034114a3",
    "idx": 43,
    "time": "2021-02-13T19:14:27.936Z",
    "type": "execution"
   },
   {
    "id": "c685911424ac41ca8b273f1b034114a3",
    "time": "2021-02-13T19:14:28.061Z",
    "type": "completion"
   },
   {
    "code": "# HIDDEN TEST\nnp.round(daily_counts['registered'].mean())",
    "id": "61ef184d15864f1c88800176c4aabf79",
    "idx": 44,
    "time": "2021-02-13T19:14:33.693Z",
    "type": "execution"
   },
   {
    "id": "61ef184d15864f1c88800176c4aabf79",
    "time": "2021-02-13T19:14:33.788Z",
    "type": "completion"
   },
   {
    "code": "# HIDDEN TEST\nnp.round(daily_counts['registered'].var())",
    "id": "462d001e2524432fae11a344be0858d2",
    "idx": 45,
    "time": "2021-02-13T19:14:36.273Z",
    "type": "execution"
   },
   {
    "id": "462d001e2524432fae11a344be0858d2",
    "time": "2021-02-13T19:14:36.355Z",
    "type": "completion"
   },
   {
    "code": "# HIDDEN TEST\nsorted(list(daily_counts['workingday'].value_counts()))",
    "id": "2bf59d0a9bf54332876a7a9838e97585",
    "idx": 46,
    "time": "2021-02-13T19:14:39.981Z",
    "type": "execution"
   },
   {
    "id": "2bf59d0a9bf54332876a7a9838e97585",
    "time": "2021-02-13T19:14:40.050Z",
    "type": "completion"
   },
   {
    "code": "# BEGIN SOLUTION\nsns.distplot(daily_counts['casual'], label='casual')\nsns.distplot(daily_counts['registered'],  label='registered', color='green')\nplt.legend()\nplt.title(\"Distribution Comparison of Casual vs Registered Riders\")\nplt.xlabel(\"Rider Count\")\nplt.ylabel(\"Density\");\n# plt.savefig(\"images/casual_v_registered.png\", bbox_inches='tight', dpi=300);\n# END SOLUTION",
    "id": "cc175df2f00547a18915408696510bbc",
    "idx": 49,
    "time": "2021-02-13T19:15:57.249Z",
    "type": "execution"
   },
   {
    "id": "cc175df2f00547a18915408696510bbc",
    "time": "2021-02-13T19:15:58.773Z",
    "type": "completion"
   },
   {
    "code": "# Make the font size a bit bigger\nsns.set(font_scale=1)\n# BEGIN SOLUTION\nsns.lmplot(x=\"casual\", y=\"registered\", hue=\"workingday\",\n           data=bike, fit_reg=True, height=8, scatter_kws={\"s\": 10})\nplt.title(\"Comparison of Casual vs Registered Riders on Working and Non-working Days\");\n# plt.savefig(\"images/casual_registered_working_nonworking.png\", bbox_inches='tight', dpi=300);\n# END SOLUTION",
    "id": "516848201918458d80e75c836f86fd15",
    "idx": 53,
    "time": "2021-02-13T19:18:42.611Z",
    "type": "execution"
   },
   {
    "id": "516848201918458d80e75c836f86fd15",
    "time": "2021-02-13T19:18:46.271Z",
    "type": "completion"
   },
   {
    "code": "sns.kdeplot(x=daily_counts['casual'], y=daily_counts['registered'])\nplt.title('KDE Plot Comparison of Registered vs Casual Riders');",
    "id": "2b9d859ebefa40cba8e302311a0ac4b8",
    "idx": 58,
    "time": "2021-02-13T19:20:22.531Z",
    "type": "execution"
   },
   {
    "id": "2b9d859ebefa40cba8e302311a0ac4b8",
    "time": "2021-02-13T19:20:24.283Z",
    "type": "completion"
   },
   {
    "code": "# Set 'is_workingday' to a boolean array that is true for all working_days\nis_workingday = ...\n\n# Bivariate KDEs require two data inputs. \n# In this case, we will need the daily counts for casual and registered riders on workdays\ncasual_workday = ...\nregistered_workday = ...\n\n# Use sns.kdeplot on the two variables above to plot the bivariate KDE for weekday rides\n...\n\n# Repeat the same steps above but for rows corresponding to non-workingdays\ncasual_non_workday = ...\nregistered_non_workday = ...\n\n# Use sns.kdeplot on the two variables above to plot the bivariate KDE for non-workingday rides\n# BEGIN SOLUTION\nplt.figure(figsize=(12,8))\nis_workingday = daily_counts['workingday'] == 'yes'\ncasual_workday = daily_counts.loc[is_workingday, 'casual']\nregistered_workday = daily_counts.loc[is_workingday, 'registered']\n\nsns.kdeplot(casual_workday, registered_workday, cmap=\"Reds\", label=\"Workday\")\n\nnot_workingday = ~is_workingday\ncasual_non_workday = daily_counts.loc[not_workingday, 'casual']\nregistered_non_workday = daily_counts.loc[not_workingday, 'registered']\n\nsns.kdeplot(casual_non_workday, registered_non_workday, cmap=\"Blues\", label=\"Non-Workday\")\n\nplt.legend();\n# plt.savefig(\"images/bivariate_kde_of_daily_rider_types.png\", bbox_inches='tight', dpi=300);\n# END SOLUTION",
    "id": "d8e5ec27f2594d44923434602fce4b2f",
    "idx": 60,
    "time": "2021-02-13T19:21:40.142Z",
    "type": "execution"
   },
   {
    "id": "d8e5ec27f2594d44923434602fce4b2f",
    "time": "2021-02-13T19:21:41.790Z",
    "type": "completion"
   },
   {
    "code": "# BEGIN SOLUTION\ng = sns.jointplot(x=\"casual\", y=\"registered\", data=daily_counts, kind=\"kde\");\ng.set_axis_labels(\"Daily Count Casual Riders\", \"Daily Count Registered Riders\")\nplt.suptitle(\"KDE Contours of Casual vs Registered Rider Count\")\nplt.subplots_adjust(top=0.9);\n# plt.savefig(\"images/joint_distribution_of_daily_rider_types\", bbox_inches='tight', dpi=300);\n# END SOLUTION",
    "id": "5923e0b0b2a14f9c958d468067df5416",
    "idx": 64,
    "time": "2021-02-13T19:23:22.547Z",
    "type": "execution"
   },
   {
    "id": "5923e0b0b2a14f9c958d468067df5416",
    "time": "2021-02-13T19:23:24.186Z",
    "type": "completion"
   },
   {
    "code": "# BEGIN SOLUTION\nplt.figure(figsize=(10, 7))\nhourly_means = bike.groupby('hr').mean()\nsns.lineplot(x = hourly_means.index, y = hourly_means['casual'], label = 'casual')\nsns.lineplot(x = hourly_means.index, y = hourly_means['registered'], label = 'registered')\nplt.xlabel('Hour of the Day')\nplt.ylabel('Average Count')\nplt.title('Average Count of Casual vs. Registered by Hour');\n# END SOLUTION",
    "id": "381bf7b1e49d4bf28fa42ea65e92c29a",
    "idx": 66,
    "time": "2021-02-13T19:24:19.064Z",
    "type": "execution"
   },
   {
    "id": "381bf7b1e49d4bf28fa42ea65e92c29a",
    "time": "2021-02-13T19:24:19.946Z",
    "type": "completion"
   },
   {
    "code": "hourly_means",
    "id": "c0f081b51d7548b18688f6c140632b37",
    "idx": 66,
    "time": "2021-02-13T19:24:27.237Z",
    "type": "execution"
   },
   {
    "id": "c0f081b51d7548b18688f6c140632b37",
    "time": "2021-02-13T19:24:27.442Z",
    "type": "completion"
   },
   {
    "code": "# BEGIN SOLUTION\nbike['prop_casual'] = bike['casual'] / (bike['casual'] + bike['registered'])\n# END SOLUTION",
    "id": "3da8cfe32ea54f0b86c8584edc823373",
    "idx": 70,
    "time": "2021-02-13T19:26:18.462Z",
    "type": "execution"
   },
   {
    "id": "3da8cfe32ea54f0b86c8584edc823373",
    "time": "2021-02-13T19:26:18.533Z",
    "type": "completion"
   },
   {
    "code": "# TEST\nint(bike[\"prop_casual\"].sum())",
    "id": "1200e7a09f9448c986cff96856cb7e82",
    "idx": 71,
    "time": "2021-02-13T19:26:21.117Z",
    "type": "execution"
   },
   {
    "id": "1200e7a09f9448c986cff96856cb7e82",
    "time": "2021-02-13T19:26:21.306Z",
    "type": "completion"
   },
   {
    "code": "# HIDDEN TEST\nnp.round(bike[\"prop_casual\"].mean(), 2)",
    "id": "9bdaf23f25e94bff8fb50a17c6ea773c",
    "idx": 72,
    "time": "2021-02-13T19:26:26.394Z",
    "type": "execution"
   },
   {
    "id": "9bdaf23f25e94bff8fb50a17c6ea773c",
    "time": "2021-02-13T19:26:26.463Z",
    "type": "completion"
   },
   {
    "code": "plt.figure(figsize=(10, 7))\nsns.scatterplot(data=bike, x=\"temp\", y=\"prop_casual\", hue=\"weekday\");",
    "id": "f45d953d066c407f8203608a1c99a557",
    "idx": 74,
    "time": "2021-02-13T19:26:46.510Z",
    "type": "execution"
   },
   {
    "id": "f45d953d066c407f8203608a1c99a557",
    "time": "2021-02-13T19:26:49.022Z",
    "type": "completion"
   },
   {
    "code": "sns.lmplot(data=bike, x=\"temp\", y=\"prop_casual\", hue=\"weekday\", scatter_kws={\"s\": 20}, height=10)\nplt.title(\"Proportion of Casual Riders by Weekday\");",
    "id": "4dd2aaf97c2a439b874be615ec59789f",
    "idx": 76,
    "time": "2021-02-13T19:27:25.316Z",
    "type": "execution"
   },
   {
    "id": "4dd2aaf97c2a439b874be615ec59789f",
    "time": "2021-02-13T19:27:29.872Z",
    "type": "completion"
   },
   {
    "code": "from statsmodels.nonparametric.smoothers_lowess import lowess\n# Make noisy data\nxobs = np.sort(np.random.rand(100)*4.0 - 2)\nyobs = np.exp(xobs) + np.random.randn(100) / 2.0\nsns.scatterplot(xobs, yobs, label=\"Raw Data\")\n\n# Predict 'smoothed' valued for observations\nysmooth = lowess(yobs, xobs, return_sorted=False)\nsns.lineplot(xobs, ysmooth, label=\"Smoothed Estimator\", color='red')\nplt.legend();",
    "id": "9c6ea771be7c4ed18dacba8632ed326a",
    "idx": 78,
    "time": "2021-02-13T19:28:35.924Z",
    "type": "execution"
   },
   {
    "id": "9c6ea771be7c4ed18dacba8632ed326a",
    "time": "2021-02-13T19:28:36.685Z",
    "type": "completion"
   },
   {
    "code": "from statsmodels.nonparametric.smoothers_lowess import lowess\n\nplt.figure(figsize=(10,8))\n# BEGIN SOLUTION\nfor day in bike['weekday'].unique():\n    this_day = bike[bike['weekday'] == day].copy()\n    this_day['temp'] = this_day['temp'] * 41 * 9 / 5 + 32 \n    ysmooth = lowess(this_day['prop_casual'], this_day['temp'], return_sorted=False)\n    sns.lineplot(x=this_day['temp'], y=ysmooth, label=day)\n\nplt.title(\"Temperature vs Casual Rider Proportion by Weekday\")\nplt.xlabel(\"Temperature (Fahrenheit)\")\nplt.ylabel(\"Casual Rider Proportion\")\nplt.legend();\n# plt.savefig(\"images/curveplot_temp_prop_casual\", bbox_inches='tight', dpi=300);\n# END SOLUTION",
    "id": "845fff6ad4894f6cb842ca9d09656aef",
    "idx": 80,
    "time": "2021-02-13T19:29:50.649Z",
    "type": "execution"
   },
   {
    "id": "845fff6ad4894f6cb842ca9d09656aef",
    "time": "2021-02-13T19:30:01.563Z",
    "type": "completion"
   },
   {
    "code": "plt.figure()\nplt.scatter(this_day['temp'],this_day['prop_casual'])",
    "id": "7fadd2bea0ef4aec8720dcba8654f80b",
    "idx": 81,
    "time": "2021-02-13T19:30:51.235Z",
    "type": "execution"
   },
   {
    "id": "7fadd2bea0ef4aec8720dcba8654f80b",
    "time": "2021-02-13T19:30:51.995Z",
    "type": "completion"
   },
   {
    "code": "plt.figure()\nplt.scatter(this_day['temp'],this_day['prop_casual'])\nplt.plot(this_day['temp'],ysmooth)",
    "id": "7fadd2bea0ef4aec8720dcba8654f80b",
    "idx": 81,
    "time": "2021-02-13T19:31:28.448Z",
    "type": "execution"
   },
   {
    "id": "7fadd2bea0ef4aec8720dcba8654f80b",
    "time": "2021-02-13T19:31:29.421Z",
    "type": "completion"
   }
  ],
  "kernelspec": {
   "display_name": "Python 3",
   "language": "python",
   "name": "python3"
  },
  "language_info": {
   "codemirror_mode": {
    "name": "ipython",
    "version": 3
   },
   "file_extension": ".py",
   "mimetype": "text/x-python",
   "name": "python",
   "nbconvert_exporter": "python",
   "pygments_lexer": "ipython3",
   "version": "3.8.6"
  }
 },
 "nbformat": 4,
 "nbformat_minor": 2
}
