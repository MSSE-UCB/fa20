{
 "cells": [
  {
   "cell_type": "code",
   "execution_count": 1,
   "metadata": {
    "deletable": false,
    "editable": false
   },
   "outputs": [],
   "source": [
    "# Initialize Otter\n",
    "import otter\n",
    "grader = otter.Notebook(\"hw2.ipynb\")"
   ]
  },
  {
   "cell_type": "markdown",
   "metadata": {
    "nbgrader": {
     "grade": false,
     "grade_id": "intro-hw2",
     "locked": true,
     "schema_version": 2,
     "solution": false
    }
   },
   "source": [
    "# Homework 2: Food Safety\n",
    "## Cleaning and Exploring Data with Pandas\n",
    "## Due Date: Tuesday, February 16, 11:59 PM\n",
    "## Collaboration Policy\n",
    "\n",
    "Data science is a collaborative activity. While you may talk with others about\n",
    "the project, we ask that you **write your solutions individually**. If you do\n",
    "discuss the assignments with others please **include their names** at the top\n",
    "of your notebook."
   ]
  },
  {
   "cell_type": "markdown",
   "metadata": {},
   "source": [
    "**Collaborators**: *list collaborators here*"
   ]
  },
  {
   "cell_type": "markdown",
   "metadata": {},
   "source": [
    "\n",
    "## This Assignment\n",
    "\n",
    "In this project, we will investigate restaurant food safety scores for restaurants in San Francisco. The scores and violation information have been [made available by the San Francisco Department of Public Health](https://data.sfgov.org/Health-and-Social-Services/Restaurant-Scores-LIVES-Standard/pyih-qa8i). The main goal for this assignment is to walk through the process of Data Cleaning and EDA. \n",
    "\n",
    "\n",
    "As we clean and explore these data, you will gain practice with:\n",
    "* Reading simple csv files and using Pandas\n",
    "* Working with data at different levels of granularity\n",
    "* Identifying the type of data collected, missing values, anomalies, etc.\n",
    "* Exploring characteristics and distributions of individual variables\n",
    "\n",
    "## Score Breakdown \n",
    "Question | Points\n",
    "--- | ---\n",
    "1a | 1\n",
    "1b | 0\n",
    "1c | 0\n",
    "1d | 3\n",
    "1e | 1\n",
    "2a | 1\n",
    "2b | 1\n",
    "2ci | 1\n",
    "2cii | 1\n",
    "3a | 1\n",
    "3b | 2\n",
    "3ci | 1\n",
    "3cii | 1\n",
    "3d | 3\n",
    "3e | 2\n",
    "3f | 2\n",
    "4a | 1\n",
    "4bi | 1\n",
    "4bii | 1\n",
    "4biii | 1\n",
    "4ci | 1\n",
    "4cii | 1\n",
    "4ciii | 1\n",
    "4civ | 1\n",
    "4di | 2\n",
    "4dii | 2\n",
    "4e | 2\n",
    "5a | 2\n",
    "5b | 3\n",
    "5c | 2\n",
    "5d | 2\n",
    "6a|1\n",
    "6b|2\n",
    "Total | 47"
   ]
  },
  {
   "cell_type": "markdown",
   "metadata": {},
   "source": [
    "## Before You Start\n",
    "\n",
    "For each question in the assignment, please write down your answer in the answer cell(s) right below the question. \n",
    "\n",
    "We understand that it is helpful to have extra cells breaking down the process towards reaching your final answer. If you happen to create new cells below your answer to run codes, **NEVER** add cells between a question cell and the answer cell below it. It will cause errors when we run the autograder, and it will sometimes cause a failure to generate the PDF file.\n",
    "\n",
    "**Important note: The local autograder tests will not be comprehensive. You can pass the automated tests in your notebook but still fail tests in the autograder.** Please be sure to check your results carefully.\n",
    "\n",
    "Finally, unless we state otherwise, try to avoid using python for loops or list comprehensions.  The majority of this assignment can be done using builtin commands in Pandas and numpy.  \n"
   ]
  },
  {
   "cell_type": "code",
   "execution_count": 2,
   "metadata": {
    "nbgrader": {
     "grade": false,
     "grade_id": "import",
     "locked": true,
     "schema_version": 2,
     "solution": false
    }
   },
   "outputs": [],
   "source": [
    "import numpy as np\n",
    "import pandas as pd\n",
    "\n",
    "import matplotlib\n",
    "import matplotlib.pyplot as plt\n",
    "import seaborn as sns\n",
    "sns.set()\n",
    "plt.style.use('fivethirtyeight')\n",
    "\n",
    "import zipfile\n",
    "import os # Used to interact with the file system"
   ]
  },
  {
   "cell_type": "markdown",
   "metadata": {
    "nbgrader": {
     "grade": false,
     "grade_id": "download",
     "locked": true,
     "schema_version": 2,
     "solution": false
    }
   },
   "source": [
    "## Obtaining the Data\n",
    "\n",
    "### File Systems and I/O\n",
    "\n"
   ]
  },
  {
   "cell_type": "markdown",
   "metadata": {},
   "source": [
    "In general, we will focus on using python commands to investigate files.  However, it can sometimes be easier to use shell commands in your local operating system.  The following cells demonstrate how to do this."
   ]
  },
  {
   "cell_type": "code",
   "execution_count": 3,
   "metadata": {},
   "outputs": [],
   "source": [
    "from pathlib import Path\n",
    "data_dir = Path('.')\n",
    "data_dir.mkdir(exist_ok = True)\n",
    "file_path = data_dir / Path('data.zip')\n",
    "dest_path = file_path"
   ]
  },
  {
   "cell_type": "markdown",
   "metadata": {},
   "source": [
    "After running the cell above, if you list the contents of the directory containing this notebook, you should see `data.zip`.\n",
    "\n",
    "*Note*: The command below starts with an `!`. This tells our Jupyter notebook to pass this command to the operating system. In this case, the command is the `ls` Unix command which lists files in the current directory."
   ]
  },
  {
   "cell_type": "code",
   "execution_count": 4,
   "metadata": {},
   "outputs": [
    {
     "name": "stdout",
     "output_type": "stream",
     "text": [
      "autograder.zip\tds100_utils.py\totter_config.json  requirements.txt\r\n",
      "data.zip\thw2.ipynb\tpics\t\t   tests\r\n"
     ]
    }
   ],
   "source": [
    "!ls "
   ]
  },
  {
   "cell_type": "markdown",
   "metadata": {},
   "source": [
    "## 1: Loading Food Safety Data\n",
    "\n",
    "We have data, but we don't have any specific questions about the data yet. Let's focus on understanding the structure of the data; this involves answering questions such as:\n",
    "\n",
    "* Is the data in a standard format or encoding?\n",
    "* Is the data organized in records?\n",
    "* What are the fields in each record?\n",
    "\n",
    "Let's start by looking at the contents of `data.zip`. It's not a just single file but rather a compressed directory of multiple files. We could inspect it by uncompressing it using a shell command such as `!unzip data.zip`, but in this project we're going to do almost everything in Python for maximum portability."
   ]
  },
  {
   "cell_type": "markdown",
   "metadata": {
    "deletable": false,
    "editable": false
   },
   "source": [
    "## Question 1a: Looking Inside and Extracting the Zip Files\n",
    "\n",
    "Assign `my_zip` to a `zipfile.Zipfile` object representing `data.zip`, and assign `list_names` to a list of all the names of the contents in `data.zip`.\n",
    "\n",
    "Hint: The [Python docs](https://docs.python.org/3/library/zipfile.html) describe how to create a `zipfile.ZipFile` object.\n",
    "\n",
    "<!--\n",
    "BEGIN QUESTION\n",
    "name: q1a\n",
    "points: 1\n",
    "-->"
   ]
  },
  {
   "cell_type": "code",
   "execution_count": 5,
   "metadata": {},
   "outputs": [
    {
     "data": {
      "text/plain": [
       "['data/',\n",
       " 'data/bus.csv',\n",
       " 'data/ins.csv',\n",
       " 'data/ins2vio.csv',\n",
       " 'data/vio.csv',\n",
       " 'data/sf_zipcodes.json',\n",
       " 'data/legend.csv']"
      ]
     },
     "execution_count": 5,
     "metadata": {},
     "output_type": "execute_result"
    }
   ],
   "source": [
    "my_zip = zipfile.ZipFile(dest_path, 'r') # SOLUTION\n",
    "list_names = [f.filename for f in my_zip.filelist] # SOLUTION\n",
    "list_names"
   ]
  },
  {
   "cell_type": "code",
   "execution_count": 6,
   "metadata": {
    "deletable": false,
    "editable": false
   },
   "outputs": [
    {
     "data": {
      "text/html": [
       "\n",
       "    <p><strong>q1a</strong> passed!</p>\n",
       "    "
      ],
      "text/plain": [
       "q1a passed!"
      ]
     },
     "execution_count": 6,
     "metadata": {},
     "output_type": "execute_result"
    }
   ],
   "source": [
    "grader.check(\"q1a\")"
   ]
  },
  {
   "cell_type": "markdown",
   "metadata": {},
   "source": [
    "In your answer above, if you have written something like `zipfile.ZipFile('data.zip', ...)`, we suggest changing it to read `zipfile.ZipFile(dest_path, ...)`. In general, we **strongly suggest having your filenames hard coded as string literals only once** in a notebook. It is very dangerous to hard code things twice because if you change one but forget to change the other, you can end up with bugs that are very hard to find."
   ]
  },
  {
   "cell_type": "markdown",
   "metadata": {},
   "source": [
    "Now display the files' names and their sizes. Format your solution by printing each file and its size on a new line.\n",
    "\n",
    "If you're not sure how to proceed, read about the attributes of a `ZipFile` object in the Python docs linked above."
   ]
  },
  {
   "cell_type": "code",
   "execution_count": 7,
   "metadata": {},
   "outputs": [
    {
     "name": "stdout",
     "output_type": "stream",
     "text": [
      "data/\t0\n",
      "data/bus.csv\t665365\n",
      "data/ins.csv\t1860919\n",
      "data/ins2vio.csv\t1032799\n",
      "data/vio.csv\t4213\n",
      "data/sf_zipcodes.json\t474\n",
      "data/legend.csv\t120\n"
     ]
    }
   ],
   "source": [
    "# BEGIN SOLUTION\n",
    "my_zip = zipfile.ZipFile(dest_path, 'r')\n",
    "for file in my_zip.filelist:\n",
    "    print('{}\\t{}'.format(file.filename, file.file_size))\n",
    "# END SOLUTION"
   ]
  },
  {
   "cell_type": "markdown",
   "metadata": {},
   "source": [
    "Often when working with zipped data, we'll never unzip the actual zipfile. This saves space on our local computer. However, for this project the files are small, so we're just going to unzip everything. This has the added benefit that you can look inside the csv files using a text editor, which might be handy for understanding the structure of the files. The cell below will unzip the csv files into a subdirectory called `data`. Simply run this cell, i.e. don't modify it."
   ]
  },
  {
   "cell_type": "code",
   "execution_count": 8,
   "metadata": {},
   "outputs": [
    {
     "name": "stdout",
     "output_type": "stream",
     "text": [
      "bus.csv  ins2vio.csv  ins.csv  legend.csv  sf_zipcodes.json  vio.csv\r\n"
     ]
    }
   ],
   "source": [
    "data_dir = Path('.')\n",
    "my_zip.extractall(data_dir)\n",
    "!ls {data_dir / Path(\"data\")}"
   ]
  },
  {
   "cell_type": "markdown",
   "metadata": {},
   "source": [
    "The cell above created a folder called `data`, and in it there should be five CSV files. Let's open up `legend.csv` to see its contents. To do this, click on 'Jupyter' in the top left, then navigate to `fa20/proj/proj1/data/` and click on `legend.csv`. The file will open up in another tab. You should see something that looks like:\n",
    "\n",
    "    \"Minimum_Score\",\"Maximum_Score\",\"Description\"\n",
    "    0,70,\"Poor\"\n",
    "    71,85,\"Needs Improvement\"\n",
    "    86,90,\"Adequate\"\n",
    "    91,100,\"Good\""
   ]
  },
  {
   "cell_type": "markdown",
   "metadata": {},
   "source": [
    "## Question 1b\n",
    "\n",
    "The `legend.csv` file does indeed look like a well-formed CSV file. Let's check the other three files. Rather than opening up each file manually, let's use Python to print out the first 5 lines of each. The `ds100_utils` library has a method called `head` that will allow you to retrieve the first N lines of a file as a list. For example `ds100_utils.head('data/legend.csv', 5)` will return the first 5 lines of \"data/legend.csv\". Try using this function to print out the first 5 lines of all six files that we just extracted from the zipfile."
   ]
  },
  {
   "cell_type": "code",
   "execution_count": 9,
   "metadata": {},
   "outputs": [
    {
     "name": "stdout",
     "output_type": "stream",
     "text": [
      "['\"business id column\",\"name\",\"address\",\"city\",\"state\",\"postal_code\",\"latitude\",\"longitude\",\"phone_number\"\\n', '\"1000\",\"HEUNG YUEN RESTAURANT\",\"3279 22nd St\",\"San Francisco\",\"CA\",\"94110\",\"37.755282\",\"-122.420493\",\"-9999\"\\n', '\"100010\",\"ILLY CAFFE SF_PIER 39\",\"PIER 39  K-106-B\",\"San Francisco\",\"CA\",\"94133\",\"-9999\",\"-9999\",\"+14154827284\"\\n', '\"100017\",\"AMICI\\'S EAST COAST PIZZERIA\",\"475 06th St\",\"San Francisco\",\"CA\",\"94103\",\"-9999\",\"-9999\",\"+14155279839\"\\n', '\"100026\",\"LOCAL CATERING\",\"1566 CARROLL AVE\",\"San Francisco\",\"CA\",\"94124\",\"-9999\",\"-9999\",\"+14155860315\"\\n'] \n",
      "\n",
      "['\"iid\",\"date\",\"score\",\"type\"\\n', '\"100010_20190329\",\"03/29/2019 12:00:00 AM\",\"-1\",\"New Construction\"\\n', '\"100010_20190403\",\"04/03/2019 12:00:00 AM\",\"100\",\"Routine - Unscheduled\"\\n', '\"100017_20190417\",\"04/17/2019 12:00:00 AM\",\"-1\",\"New Ownership\"\\n', '\"100017_20190816\",\"08/16/2019 12:00:00 AM\",\"91\",\"Routine - Unscheduled\"\\n'] \n",
      "\n",
      "['\"iid\",\"vid\"\\n', '\"97975_20190725\",\"103124\"\\n', '\"85986_20161011\",\"103114\"\\n', '\"95754_20190327\",\"103124\"\\n', '\"77005_20170429\",\"103120\"\\n'] \n",
      "\n",
      "['\"description\",\"risk_category\",\"vid\"\\n', '\"Consumer advisory not provided for raw or undercooked foods\",\"Moderate Risk\",103128\\n', '\"Contaminated or adulterated food\",\"High Risk\",103108\\n', '\"Discharge from employee nose mouth or eye\",\"Moderate Risk\",103117\\n', '\"Employee eating or smoking\",\"Moderate Risk\",103118\\n'] \n",
      "\n",
      "['{\"zip_codes\": [\"94102\", \"94103\", \"94104\", \"94105\", \"94107\", \"94108\", \"94109\", \"94110\", \"94111\", \"94112\", \"94114\", \"94115\", \"94116\", \"94117\", \"94118\", \"94119\", \"94120\", \"94121\", \"94122\", \"94123\", \"94124\", \"94125\", \"94126\", \"94127\", \"94128\", \"94129\", \"94130\", \"94131\", \"94132\", \"94133\", \"94134\", \"94137\", \"94139\", \"94140\", \"94141\", \"94142\", \"94143\", \"94144\", \"94145\", \"94146\", \"94147\", \"94151\", \"94158\", \"94159\", \"94160\", \"94161\", \"94163\", \"94164\", \"94172\", \"94177\", \"94188\"]}'] \n",
      "\n",
      "['\"Minimum_Score\",\"Maximum_Score\",\"Description\"\\n', '0,70,\"Poor\"\\n', '71,85,\"Needs Improvement\"\\n', '86,90,\"Adequate\"\\n', '91,100,\"Good\"\\n'] \n",
      "\n"
     ]
    }
   ],
   "source": [
    "import ds100_utils\n",
    "# BEGIN SOLUTION\n",
    "data_dir = \"./\"\n",
    "for f in list_names:\n",
    "    if not os.path.isdir(f):\n",
    "        print(ds100_utils.head(data_dir + f, 5), \"\\n\")\n",
    "# END SOLUTION"
   ]
  },
  {
   "cell_type": "markdown",
   "metadata": {},
   "source": [
    "## Question 1c: Reading in the Files\n",
    "\n",
    "Based on the above information, let's attempt to load `bus.csv`, `ins2vio.csv`, `ins.csv`, and `vio.csv` into pandas dataframes with the following names: `bus`, `ins2vio`, `ins`, and `vio` respectively.\n",
    "\n",
    "*Note:* Because of character encoding issues one of the files (`bus`) will require an additional argument `encoding='ISO-8859-1'` when calling `pd.read_csv`. At some point in your future, you should read all about [character encodings](https://diveintopython3.problemsolving.io/strings.html). We won't discuss these in detail in DS100."
   ]
  },
  {
   "cell_type": "code",
   "execution_count": 10,
   "metadata": {},
   "outputs": [],
   "source": [
    "# path to directory containing data\n",
    "dsDir = Path('data')\n",
    "\n",
    "bus = pd.read_csv(dsDir/'bus.csv', encoding='ISO-8859-1') # SOLUTION\n",
    "ins2vio = pd.read_csv(dsDir/'ins2vio.csv') # SOLUTION\n",
    "ins = pd.read_csv(dsDir/'ins.csv') # SOLUTION\n",
    "vio = pd.read_csv(dsDir/'vio.csv') # SOLUTION\n",
    "\n",
    "\n",
    "#This code is essential for the autograder to function properly. Do not edit\n",
    "ins_test = ins"
   ]
  },
  {
   "cell_type": "markdown",
   "metadata": {},
   "source": [
    "Now that you've read in the files, let's try some `pd.DataFrame` methods ([docs](https://pandas.pydata.org/pandas-docs/version/0.21/generated/pandas.DataFrame.html)).\n",
    "Use the `DataFrame.head` method to show the top few lines of the `bus`, `ins`, and `vio` dataframes. To show multiple return outputs in one single cell, you can use `display()`. "
   ]
  },
  {
   "cell_type": "code",
   "execution_count": 11,
   "metadata": {},
   "outputs": [
    {
     "data": {
      "text/html": [
       "<div>\n",
       "<style scoped>\n",
       "    .dataframe tbody tr th:only-of-type {\n",
       "        vertical-align: middle;\n",
       "    }\n",
       "\n",
       "    .dataframe tbody tr th {\n",
       "        vertical-align: top;\n",
       "    }\n",
       "\n",
       "    .dataframe thead th {\n",
       "        text-align: right;\n",
       "    }\n",
       "</style>\n",
       "<table border=\"1\" class=\"dataframe\">\n",
       "  <thead>\n",
       "    <tr style=\"text-align: right;\">\n",
       "      <th></th>\n",
       "      <th>business id column</th>\n",
       "      <th>name</th>\n",
       "      <th>address</th>\n",
       "      <th>city</th>\n",
       "      <th>state</th>\n",
       "      <th>postal_code</th>\n",
       "      <th>latitude</th>\n",
       "      <th>longitude</th>\n",
       "      <th>phone_number</th>\n",
       "    </tr>\n",
       "  </thead>\n",
       "  <tbody>\n",
       "    <tr>\n",
       "      <th>0</th>\n",
       "      <td>1000</td>\n",
       "      <td>HEUNG YUEN RESTAURANT</td>\n",
       "      <td>3279 22nd St</td>\n",
       "      <td>San Francisco</td>\n",
       "      <td>CA</td>\n",
       "      <td>94110</td>\n",
       "      <td>37.755282</td>\n",
       "      <td>-122.420493</td>\n",
       "      <td>-9999</td>\n",
       "    </tr>\n",
       "    <tr>\n",
       "      <th>1</th>\n",
       "      <td>100010</td>\n",
       "      <td>ILLY CAFFE SF_PIER 39</td>\n",
       "      <td>PIER 39  K-106-B</td>\n",
       "      <td>San Francisco</td>\n",
       "      <td>CA</td>\n",
       "      <td>94133</td>\n",
       "      <td>-9999.000000</td>\n",
       "      <td>-9999.000000</td>\n",
       "      <td>14154827284</td>\n",
       "    </tr>\n",
       "    <tr>\n",
       "      <th>2</th>\n",
       "      <td>100017</td>\n",
       "      <td>AMICI'S EAST COAST PIZZERIA</td>\n",
       "      <td>475 06th St</td>\n",
       "      <td>San Francisco</td>\n",
       "      <td>CA</td>\n",
       "      <td>94103</td>\n",
       "      <td>-9999.000000</td>\n",
       "      <td>-9999.000000</td>\n",
       "      <td>14155279839</td>\n",
       "    </tr>\n",
       "    <tr>\n",
       "      <th>3</th>\n",
       "      <td>100026</td>\n",
       "      <td>LOCAL CATERING</td>\n",
       "      <td>1566 CARROLL AVE</td>\n",
       "      <td>San Francisco</td>\n",
       "      <td>CA</td>\n",
       "      <td>94124</td>\n",
       "      <td>-9999.000000</td>\n",
       "      <td>-9999.000000</td>\n",
       "      <td>14155860315</td>\n",
       "    </tr>\n",
       "    <tr>\n",
       "      <th>4</th>\n",
       "      <td>100030</td>\n",
       "      <td>OUI OUI! MACARON</td>\n",
       "      <td>2200 JERROLD AVE STE C</td>\n",
       "      <td>San Francisco</td>\n",
       "      <td>CA</td>\n",
       "      <td>94124</td>\n",
       "      <td>-9999.000000</td>\n",
       "      <td>-9999.000000</td>\n",
       "      <td>14159702675</td>\n",
       "    </tr>\n",
       "  </tbody>\n",
       "</table>\n",
       "</div>"
      ],
      "text/plain": [
       "   business id column                         name                 address  \\\n",
       "0                1000        HEUNG YUEN RESTAURANT            3279 22nd St   \n",
       "1              100010        ILLY CAFFE SF_PIER 39        PIER 39  K-106-B   \n",
       "2              100017  AMICI'S EAST COAST PIZZERIA             475 06th St   \n",
       "3              100026               LOCAL CATERING        1566 CARROLL AVE   \n",
       "4              100030             OUI OUI! MACARON  2200 JERROLD AVE STE C   \n",
       "\n",
       "            city state postal_code     latitude    longitude  phone_number  \n",
       "0  San Francisco    CA       94110    37.755282  -122.420493         -9999  \n",
       "1  San Francisco    CA       94133 -9999.000000 -9999.000000   14154827284  \n",
       "2  San Francisco    CA       94103 -9999.000000 -9999.000000   14155279839  \n",
       "3  San Francisco    CA       94124 -9999.000000 -9999.000000   14155860315  \n",
       "4  San Francisco    CA       94124 -9999.000000 -9999.000000   14159702675  "
      ]
     },
     "execution_count": 11,
     "metadata": {},
     "output_type": "execute_result"
    }
   ],
   "source": [
    "bus.head() # SOLUTION"
   ]
  },
  {
   "cell_type": "markdown",
   "metadata": {},
   "source": [
    "The `DataFrame.describe` method can also be handy for computing summaries of numeric columns of our dataframes. Try it out with each of our 4 dataframes."
   ]
  },
  {
   "cell_type": "code",
   "execution_count": 12,
   "metadata": {},
   "outputs": [
    {
     "data": {
      "text/html": [
       "<div>\n",
       "<style scoped>\n",
       "    .dataframe tbody tr th:only-of-type {\n",
       "        vertical-align: middle;\n",
       "    }\n",
       "\n",
       "    .dataframe tbody tr th {\n",
       "        vertical-align: top;\n",
       "    }\n",
       "\n",
       "    .dataframe thead th {\n",
       "        text-align: right;\n",
       "    }\n",
       "</style>\n",
       "<table border=\"1\" class=\"dataframe\">\n",
       "  <thead>\n",
       "    <tr style=\"text-align: right;\">\n",
       "      <th></th>\n",
       "      <th>business id column</th>\n",
       "      <th>latitude</th>\n",
       "      <th>longitude</th>\n",
       "      <th>phone_number</th>\n",
       "    </tr>\n",
       "  </thead>\n",
       "  <tbody>\n",
       "    <tr>\n",
       "      <th>count</th>\n",
       "      <td>6253.000000</td>\n",
       "      <td>6253.000000</td>\n",
       "      <td>6253.000000</td>\n",
       "      <td>6.253000e+03</td>\n",
       "    </tr>\n",
       "    <tr>\n",
       "      <th>mean</th>\n",
       "      <td>60448.948984</td>\n",
       "      <td>-5575.337966</td>\n",
       "      <td>-5645.817699</td>\n",
       "      <td>4.701819e+09</td>\n",
       "    </tr>\n",
       "    <tr>\n",
       "      <th>std</th>\n",
       "      <td>36480.132445</td>\n",
       "      <td>4983.390142</td>\n",
       "      <td>4903.993683</td>\n",
       "      <td>6.667508e+09</td>\n",
       "    </tr>\n",
       "    <tr>\n",
       "      <th>min</th>\n",
       "      <td>19.000000</td>\n",
       "      <td>-9999.000000</td>\n",
       "      <td>-9999.000000</td>\n",
       "      <td>-9.999000e+03</td>\n",
       "    </tr>\n",
       "    <tr>\n",
       "      <th>25%</th>\n",
       "      <td>18399.000000</td>\n",
       "      <td>-9999.000000</td>\n",
       "      <td>-9999.000000</td>\n",
       "      <td>-9.999000e+03</td>\n",
       "    </tr>\n",
       "    <tr>\n",
       "      <th>50%</th>\n",
       "      <td>75685.000000</td>\n",
       "      <td>-9999.000000</td>\n",
       "      <td>-9999.000000</td>\n",
       "      <td>-9.999000e+03</td>\n",
       "    </tr>\n",
       "    <tr>\n",
       "      <th>75%</th>\n",
       "      <td>90886.000000</td>\n",
       "      <td>37.776494</td>\n",
       "      <td>-122.421553</td>\n",
       "      <td>1.415533e+10</td>\n",
       "    </tr>\n",
       "    <tr>\n",
       "      <th>max</th>\n",
       "      <td>102705.000000</td>\n",
       "      <td>37.824494</td>\n",
       "      <td>0.000000</td>\n",
       "      <td>1.415988e+10</td>\n",
       "    </tr>\n",
       "  </tbody>\n",
       "</table>\n",
       "</div>"
      ],
      "text/plain": [
       "       business id column     latitude    longitude  phone_number\n",
       "count         6253.000000  6253.000000  6253.000000  6.253000e+03\n",
       "mean         60448.948984 -5575.337966 -5645.817699  4.701819e+09\n",
       "std          36480.132445  4983.390142  4903.993683  6.667508e+09\n",
       "min             19.000000 -9999.000000 -9999.000000 -9.999000e+03\n",
       "25%          18399.000000 -9999.000000 -9999.000000 -9.999000e+03\n",
       "50%          75685.000000 -9999.000000 -9999.000000 -9.999000e+03\n",
       "75%          90886.000000    37.776494  -122.421553  1.415533e+10\n",
       "max         102705.000000    37.824494     0.000000  1.415988e+10"
      ]
     },
     "execution_count": 12,
     "metadata": {},
     "output_type": "execute_result"
    }
   ],
   "source": [
    "bus.describe() # SOLUTION"
   ]
  },
  {
   "cell_type": "markdown",
   "metadata": {},
   "source": [
    "Now, we perform some sanity checks for you to verify that you loaded the data with the right structure. Run the following cells to load some basic utilities (you do not need to change these at all):"
   ]
  },
  {
   "cell_type": "markdown",
   "metadata": {},
   "source": [
    "First, we check the basic structure of the data frames you created:"
   ]
  },
  {
   "cell_type": "code",
   "execution_count": 13,
   "metadata": {},
   "outputs": [],
   "source": [
    "assert all(bus.columns == ['business id column', 'name', 'address', 'city', 'state', 'postal_code',\n",
    "                           'latitude', 'longitude', 'phone_number'])\n",
    "assert 6250 <= len(bus) <= 6260\n",
    "\n",
    "assert all(ins.columns == ['iid', 'date', 'score', 'type'])\n",
    "assert 26660 <= len(ins) <= 26670\n",
    "\n",
    "assert all(vio.columns == ['description', 'risk_category', 'vid'])\n",
    "assert 60 <= len(vio) <= 65\n",
    "\n",
    "assert all(ins2vio.columns == ['iid', 'vid'])\n",
    "assert 40210 <= len(ins2vio) <= 40220"
   ]
  },
  {
   "cell_type": "markdown",
   "metadata": {},
   "source": [
    "Next we'll check that the statistics match what we expect. The following are hard-coded statistical summaries of the correct data."
   ]
  },
  {
   "cell_type": "code",
   "execution_count": 14,
   "metadata": {},
   "outputs": [
    {
     "name": "stdout",
     "output_type": "stream",
     "text": [
      "What we expect from your Businesses dataframe:\n"
     ]
    },
    {
     "data": {
      "text/html": [
       "<div>\n",
       "<style scoped>\n",
       "    .dataframe tbody tr th:only-of-type {\n",
       "        vertical-align: middle;\n",
       "    }\n",
       "\n",
       "    .dataframe tbody tr th {\n",
       "        vertical-align: top;\n",
       "    }\n",
       "\n",
       "    .dataframe thead th {\n",
       "        text-align: right;\n",
       "    }\n",
       "</style>\n",
       "<table border=\"1\" class=\"dataframe\">\n",
       "  <thead>\n",
       "    <tr style=\"text-align: right;\">\n",
       "      <th></th>\n",
       "      <th>business id column</th>\n",
       "      <th>latitude</th>\n",
       "      <th>longitude</th>\n",
       "    </tr>\n",
       "  </thead>\n",
       "  <tbody>\n",
       "    <tr>\n",
       "      <th>min</th>\n",
       "      <td>19.0</td>\n",
       "      <td>-9999.000000</td>\n",
       "      <td>-9999.0</td>\n",
       "    </tr>\n",
       "    <tr>\n",
       "      <th>50%</th>\n",
       "      <td>75685.0</td>\n",
       "      <td>-9999.000000</td>\n",
       "      <td>-9999.0</td>\n",
       "    </tr>\n",
       "    <tr>\n",
       "      <th>max</th>\n",
       "      <td>102705.0</td>\n",
       "      <td>37.824494</td>\n",
       "      <td>0.0</td>\n",
       "    </tr>\n",
       "  </tbody>\n",
       "</table>\n",
       "</div>"
      ],
      "text/plain": [
       "     business id column     latitude  longitude\n",
       "min                19.0 -9999.000000    -9999.0\n",
       "50%             75685.0 -9999.000000    -9999.0\n",
       "max            102705.0    37.824494        0.0"
      ]
     },
     "metadata": {},
     "output_type": "display_data"
    },
    {
     "name": "stdout",
     "output_type": "stream",
     "text": [
      "What we expect from your Inspections dataframe:\n"
     ]
    },
    {
     "data": {
      "text/html": [
       "<div>\n",
       "<style scoped>\n",
       "    .dataframe tbody tr th:only-of-type {\n",
       "        vertical-align: middle;\n",
       "    }\n",
       "\n",
       "    .dataframe tbody tr th {\n",
       "        vertical-align: top;\n",
       "    }\n",
       "\n",
       "    .dataframe thead th {\n",
       "        text-align: right;\n",
       "    }\n",
       "</style>\n",
       "<table border=\"1\" class=\"dataframe\">\n",
       "  <thead>\n",
       "    <tr style=\"text-align: right;\">\n",
       "      <th></th>\n",
       "      <th>score</th>\n",
       "    </tr>\n",
       "  </thead>\n",
       "  <tbody>\n",
       "    <tr>\n",
       "      <th>min</th>\n",
       "      <td>-1.0</td>\n",
       "    </tr>\n",
       "    <tr>\n",
       "      <th>50%</th>\n",
       "      <td>76.0</td>\n",
       "    </tr>\n",
       "    <tr>\n",
       "      <th>max</th>\n",
       "      <td>100.0</td>\n",
       "    </tr>\n",
       "  </tbody>\n",
       "</table>\n",
       "</div>"
      ],
      "text/plain": [
       "     score\n",
       "min   -1.0\n",
       "50%   76.0\n",
       "max  100.0"
      ]
     },
     "metadata": {},
     "output_type": "display_data"
    },
    {
     "name": "stdout",
     "output_type": "stream",
     "text": [
      "What we expect from your Violations dataframe:\n"
     ]
    },
    {
     "data": {
      "text/html": [
       "<div>\n",
       "<style scoped>\n",
       "    .dataframe tbody tr th:only-of-type {\n",
       "        vertical-align: middle;\n",
       "    }\n",
       "\n",
       "    .dataframe tbody tr th {\n",
       "        vertical-align: top;\n",
       "    }\n",
       "\n",
       "    .dataframe thead th {\n",
       "        text-align: right;\n",
       "    }\n",
       "</style>\n",
       "<table border=\"1\" class=\"dataframe\">\n",
       "  <thead>\n",
       "    <tr style=\"text-align: right;\">\n",
       "      <th></th>\n",
       "      <th>vid</th>\n",
       "    </tr>\n",
       "  </thead>\n",
       "  <tbody>\n",
       "    <tr>\n",
       "      <th>min</th>\n",
       "      <td>103102.0</td>\n",
       "    </tr>\n",
       "    <tr>\n",
       "      <th>50%</th>\n",
       "      <td>103135.0</td>\n",
       "    </tr>\n",
       "    <tr>\n",
       "      <th>max</th>\n",
       "      <td>103177.0</td>\n",
       "    </tr>\n",
       "  </tbody>\n",
       "</table>\n",
       "</div>"
      ],
      "text/plain": [
       "          vid\n",
       "min  103102.0\n",
       "50%  103135.0\n",
       "max  103177.0"
      ]
     },
     "metadata": {},
     "output_type": "display_data"
    }
   ],
   "source": [
    "bus_summary = pd.DataFrame(**{'columns': ['business id column', 'latitude', 'longitude'],\n",
    " 'data': {'business id column': {'50%': 75685.0, 'max': 102705.0, 'min': 19.0},\n",
    "  'latitude': {'50%': -9999.0, 'max': 37.824494, 'min': -9999.0},\n",
    "  'longitude': {'50%': -9999.0,\n",
    "   'max': 0.0,\n",
    "   'min': -9999.0}},\n",
    " 'index': ['min', '50%', 'max']})\n",
    "\n",
    "ins_summary = pd.DataFrame(**{'columns': ['score'],\n",
    " 'data': {'score': {'50%': 76.0, 'max': 100.0, 'min': -1.0}},\n",
    " 'index': ['min', '50%', 'max']})\n",
    "\n",
    "vio_summary = pd.DataFrame(**{'columns': ['vid'],\n",
    " 'data': {'vid': {'50%': 103135.0, 'max': 103177.0, 'min': 103102.0}},\n",
    " 'index': ['min', '50%', 'max']})\n",
    "\n",
    "from IPython.display import display\n",
    "\n",
    "print('What we expect from your Businesses dataframe:')\n",
    "display(bus_summary)\n",
    "print('What we expect from your Inspections dataframe:')\n",
    "display(ins_summary)\n",
    "print('What we expect from your Violations dataframe:')\n",
    "display(vio_summary)"
   ]
  },
  {
   "cell_type": "markdown",
   "metadata": {},
   "source": [
    "The code below defines a testing function that we'll use to verify that your data has the same statistics as what we expect. Run these cells to define the function. The `df_allclose` function has this name because we are verifying that all of the statistics for your dataframe are close to the expected values. Why not `df_allequal`? It's a bad idea in almost all cases to compare two floating point values like 37.780435, as rounding error can cause spurious failures."
   ]
  },
  {
   "cell_type": "markdown",
   "metadata": {
    "deletable": false,
    "editable": false
   },
   "source": [
    "## Question 1d: Verifying the data\n",
    "\n",
    "Now let's run the automated tests. If your dataframes are correct, then the following cell will seem to do nothing, which is a good thing! However, if your variables don't match the correct answers in the main summary statistics shown above, an exception will be raised.\n",
    "\n",
    "<!--\n",
    "BEGIN QUESTION\n",
    "name: q1d\n",
    "points: 3\n",
    "-->"
   ]
  },
  {
   "cell_type": "code",
   "execution_count": 15,
   "metadata": {},
   "outputs": [],
   "source": [
    "\"\"\"Run this cell to load this utility comparison function that we will use in various\n",
    "tests below (both tests you can see and those we run internally for grading).\n",
    "\n",
    "Do not modify the function in any way.\n",
    "\"\"\"\n",
    "\n",
    "\n",
    "def df_allclose(actual, desired, columns=None, rtol=5e-2):\n",
    "    \"\"\"Compare selected columns of two dataframes on a few summary statistics.\n",
    "    \n",
    "    Compute the min, median and max of the two dataframes on the given columns, and compare\n",
    "    that they match numerically to the given relative tolerance.\n",
    "    \n",
    "    If they don't match, an AssertionError is raised (by `numpy.testing`).\n",
    "    \"\"\"    \n",
    "    # summary statistics to compare on\n",
    "    stats = ['min', '50%', 'max']\n",
    "    \n",
    "    # For the desired values, we can provide a full DF with the same structure as\n",
    "    # the actual data, or pre-computed summary statistics.\n",
    "    # We assume a pre-computed summary was provided if columns is None. In that case, \n",
    "    # `desired` *must* have the same structure as the actual's summary\n",
    "    if columns is None:\n",
    "        des = desired\n",
    "        columns = desired.columns\n",
    "    else:\n",
    "        des = desired[columns].describe().loc[stats]\n",
    "\n",
    "    # Extract summary stats from actual DF\n",
    "    act = actual[columns].describe().loc[stats]\n",
    "\n",
    "    return np.allclose(act, des, rtol)"
   ]
  },
  {
   "cell_type": "code",
   "execution_count": 16,
   "metadata": {
    "deletable": false,
    "editable": false
   },
   "outputs": [
    {
     "data": {
      "text/html": [
       "\n",
       "    <p><strong>q1d</strong> passed!</p>\n",
       "    "
      ],
      "text/plain": [
       "q1d passed!"
      ]
     },
     "execution_count": 16,
     "metadata": {},
     "output_type": "execute_result"
    }
   ],
   "source": [
    "grader.check(\"q1d\")"
   ]
  },
  {
   "cell_type": "markdown",
   "metadata": {},
   "source": [
    "### Question 1e: Identifying Issues with the Data"
   ]
  },
  {
   "cell_type": "markdown",
   "metadata": {
    "deletable": false,
    "editable": false
   },
   "source": [
    "<!-- BEGIN QUESTION -->\n",
    "\n",
    "Use the `head` command on your three files again. This time, describe at least one potential problem with the data you see. Consider issues with missing values and bad data.\n",
    "\n",
    "<!--\n",
    "BEGIN QUESTION\n",
    "name: q1e\n",
    "manual: True\n",
    "points: 1\n",
    "-->"
   ]
  },
  {
   "cell_type": "markdown",
   "metadata": {},
   "source": [
    "_Type your answer here, replacing this text._"
   ]
  },
  {
   "cell_type": "markdown",
   "metadata": {},
   "source": [
    "**SOLUTION:**  \n",
    "There appears to be a missing phone number for NORMAN'S ICE CREAM AND FREEZES."
   ]
  },
  {
   "cell_type": "markdown",
   "metadata": {},
   "source": [
    "<!-- END QUESTION -->\n",
    "\n",
    "\n",
    "\n",
    "We will explore each file in turn, including determining its granularity and primary keys and exploring many of the variables individually. Let's begin with the businesses file, which has been read into the `bus` dataframe."
   ]
  },
  {
   "cell_type": "markdown",
   "metadata": {
    "nbgrader": {
     "grade": false,
     "grade_id": "business-data",
     "locked": true,
     "schema_version": 2,
     "solution": false
    }
   },
   "source": [
    "<br/><br/><br/>\n",
    "\n",
    "---\n",
    "\n",
    "<br/><br/><br/>\n",
    "\n",
    "# 2: Examining the Business Data File\n",
    "\n",
    "From its name alone, we expect the `bus.csv` file to contain information about the restaurants. Let's investigate the granularity of this dataset."
   ]
  },
  {
   "cell_type": "code",
   "execution_count": 17,
   "metadata": {},
   "outputs": [
    {
     "data": {
      "text/html": [
       "<div>\n",
       "<style scoped>\n",
       "    .dataframe tbody tr th:only-of-type {\n",
       "        vertical-align: middle;\n",
       "    }\n",
       "\n",
       "    .dataframe tbody tr th {\n",
       "        vertical-align: top;\n",
       "    }\n",
       "\n",
       "    .dataframe thead th {\n",
       "        text-align: right;\n",
       "    }\n",
       "</style>\n",
       "<table border=\"1\" class=\"dataframe\">\n",
       "  <thead>\n",
       "    <tr style=\"text-align: right;\">\n",
       "      <th></th>\n",
       "      <th>business id column</th>\n",
       "      <th>name</th>\n",
       "      <th>address</th>\n",
       "      <th>city</th>\n",
       "      <th>state</th>\n",
       "      <th>postal_code</th>\n",
       "      <th>latitude</th>\n",
       "      <th>longitude</th>\n",
       "      <th>phone_number</th>\n",
       "    </tr>\n",
       "  </thead>\n",
       "  <tbody>\n",
       "    <tr>\n",
       "      <th>0</th>\n",
       "      <td>1000</td>\n",
       "      <td>HEUNG YUEN RESTAURANT</td>\n",
       "      <td>3279 22nd St</td>\n",
       "      <td>San Francisco</td>\n",
       "      <td>CA</td>\n",
       "      <td>94110</td>\n",
       "      <td>37.755282</td>\n",
       "      <td>-122.420493</td>\n",
       "      <td>-9999</td>\n",
       "    </tr>\n",
       "    <tr>\n",
       "      <th>1</th>\n",
       "      <td>100010</td>\n",
       "      <td>ILLY CAFFE SF_PIER 39</td>\n",
       "      <td>PIER 39  K-106-B</td>\n",
       "      <td>San Francisco</td>\n",
       "      <td>CA</td>\n",
       "      <td>94133</td>\n",
       "      <td>-9999.000000</td>\n",
       "      <td>-9999.000000</td>\n",
       "      <td>14154827284</td>\n",
       "    </tr>\n",
       "    <tr>\n",
       "      <th>2</th>\n",
       "      <td>100017</td>\n",
       "      <td>AMICI'S EAST COAST PIZZERIA</td>\n",
       "      <td>475 06th St</td>\n",
       "      <td>San Francisco</td>\n",
       "      <td>CA</td>\n",
       "      <td>94103</td>\n",
       "      <td>-9999.000000</td>\n",
       "      <td>-9999.000000</td>\n",
       "      <td>14155279839</td>\n",
       "    </tr>\n",
       "    <tr>\n",
       "      <th>3</th>\n",
       "      <td>100026</td>\n",
       "      <td>LOCAL CATERING</td>\n",
       "      <td>1566 CARROLL AVE</td>\n",
       "      <td>San Francisco</td>\n",
       "      <td>CA</td>\n",
       "      <td>94124</td>\n",
       "      <td>-9999.000000</td>\n",
       "      <td>-9999.000000</td>\n",
       "      <td>14155860315</td>\n",
       "    </tr>\n",
       "    <tr>\n",
       "      <th>4</th>\n",
       "      <td>100030</td>\n",
       "      <td>OUI OUI! MACARON</td>\n",
       "      <td>2200 JERROLD AVE STE C</td>\n",
       "      <td>San Francisco</td>\n",
       "      <td>CA</td>\n",
       "      <td>94124</td>\n",
       "      <td>-9999.000000</td>\n",
       "      <td>-9999.000000</td>\n",
       "      <td>14159702675</td>\n",
       "    </tr>\n",
       "  </tbody>\n",
       "</table>\n",
       "</div>"
      ],
      "text/plain": [
       "   business id column                         name                 address  \\\n",
       "0                1000        HEUNG YUEN RESTAURANT            3279 22nd St   \n",
       "1              100010        ILLY CAFFE SF_PIER 39        PIER 39  K-106-B   \n",
       "2              100017  AMICI'S EAST COAST PIZZERIA             475 06th St   \n",
       "3              100026               LOCAL CATERING        1566 CARROLL AVE   \n",
       "4              100030             OUI OUI! MACARON  2200 JERROLD AVE STE C   \n",
       "\n",
       "            city state postal_code     latitude    longitude  phone_number  \n",
       "0  San Francisco    CA       94110    37.755282  -122.420493         -9999  \n",
       "1  San Francisco    CA       94133 -9999.000000 -9999.000000   14154827284  \n",
       "2  San Francisco    CA       94103 -9999.000000 -9999.000000   14155279839  \n",
       "3  San Francisco    CA       94124 -9999.000000 -9999.000000   14155860315  \n",
       "4  San Francisco    CA       94124 -9999.000000 -9999.000000   14159702675  "
      ]
     },
     "execution_count": 17,
     "metadata": {},
     "output_type": "execute_result"
    }
   ],
   "source": [
    "bus.head()"
   ]
  },
  {
   "cell_type": "markdown",
   "metadata": {
    "deletable": false,
    "editable": false
   },
   "source": [
    "<br/><br/><br/>\n",
    "\n",
    "---\n",
    "\n",
    "## Question 2a\n",
    "\n",
    "The `bus` dataframe contains a column called `business id column` which probably corresponds to a unique business id.  However, let's first rename that column to `bid`.  Modify the `bus` dataframe by renaming that column to `bid`.\n",
    "\n",
    "**Note**: In practice we might want to do this renaming when the table is loaded but for grading purposes we will do it here.\n",
    "\n",
    "<!--\n",
    "BEGIN QUESTION\n",
    "name: q2a\n",
    "points: 1\n",
    "-->"
   ]
  },
  {
   "cell_type": "code",
   "execution_count": 18,
   "metadata": {},
   "outputs": [],
   "source": [
    "bus = bus.rename(columns={\"business id column\": \"bid\"})  # SOLUTION"
   ]
  },
  {
   "cell_type": "code",
   "execution_count": 19,
   "metadata": {
    "deletable": false,
    "editable": false
   },
   "outputs": [
    {
     "data": {
      "text/html": [
       "\n",
       "    <p><strong>q2a</strong> passed!</p>\n",
       "    "
      ],
      "text/plain": [
       "q2a passed!"
      ]
     },
     "execution_count": 19,
     "metadata": {},
     "output_type": "execute_result"
    }
   ],
   "source": [
    "grader.check(\"q2a\")"
   ]
  },
  {
   "cell_type": "markdown",
   "metadata": {
    "deletable": false,
    "editable": false,
    "nbgrader": {
     "grade": false,
     "grade_id": "q2a",
     "locked": true,
     "schema_version": 2,
     "solution": false
    }
   },
   "source": [
    "<br/><br/><br/>\n",
    "\n",
    "---\n",
    "\n",
    "## Question 2b\n",
    "\n",
    "Examining the entries in `bus`, is the `bid` unique for each record (i.e. each row of data)? Your code should compute the answer, i.e. don't just hard code `True` or `False`.\n",
    "\n",
    "Hint: use `value_counts()` or `unique()` to determine if the `bid` series has any duplicates.\n",
    "\n",
    "<!--\n",
    "BEGIN QUESTION\n",
    "name: q2b\n",
    "points: 1\n",
    "-->"
   ]
  },
  {
   "cell_type": "code",
   "execution_count": 20,
   "metadata": {
    "ExecuteTime": {
     "end_time": "2018-08-18T01:21:53.936572Z",
     "start_time": "2018-08-18T01:21:53.927344Z"
    },
    "nbgrader": {
     "grade": false,
     "grade_id": "q2a-answer",
     "locked": false,
     "schema_version": 2,
     "solution": true
    },
    "tags": [
     "solution"
    ]
   },
   "outputs": [],
   "source": [
    "is_bid_unique = bus['bid'].value_counts().max() == 1 # SOLUTION"
   ]
  },
  {
   "cell_type": "code",
   "execution_count": 21,
   "metadata": {
    "deletable": false,
    "editable": false
   },
   "outputs": [
    {
     "data": {
      "text/html": [
       "\n",
       "    <p><strong>q2b</strong> passed!</p>\n",
       "    "
      ],
      "text/plain": [
       "q2b passed!"
      ]
     },
     "execution_count": 21,
     "metadata": {},
     "output_type": "execute_result"
    }
   ],
   "source": [
    "grader.check(\"q2b\")"
   ]
  },
  {
   "cell_type": "markdown",
   "metadata": {
    "deletable": false,
    "editable": false
   },
   "source": [
    "<br/><br/><br/>\n",
    "\n",
    "---\n",
    "\n",
    "\n",
    "## Question 2c\n",
    "\n",
    "In the two cells below create two **series** \n",
    "\n",
    "1. where the index is the `name` of the business and the value is the number of records with that `name`\n",
    "2. where the index is the `address` of the business and the value is the number of records with that `address`\n",
    "\n",
    "Order both series in descending order by count. You may need to use `groupby()`, `size()`, `sort_values()`, or `value_counts()`. \n",
    "\n",
    "**Step 1**\n",
    "\n",
    "<!--\n",
    "BEGIN QUESTION\n",
    "name: q2ci\n",
    "points: 1\n",
    "-->"
   ]
  },
  {
   "cell_type": "code",
   "execution_count": 22,
   "metadata": {},
   "outputs": [
    {
     "data": {
      "text/plain": [
       "Peet's Coffee & Tea                                       20\n",
       "Starbucks Coffee                                          13\n",
       "Jamba Juice                                               10\n",
       "McDonald's                                                10\n",
       "Proper Food                                                9\n",
       "STARBUCKS                                                  9\n",
       "Specialty's Cafe & Bakery                                  8\n",
       "Mixt Greens/Mixt                                           8\n",
       "Starbucks                                                  7\n",
       "The Organic Coup                                           7\n",
       "Blue Bottle Coffee                                         7\n",
       "Whole Foods Market                                         7\n",
       "Philz Coffee                                               7\n",
       "Lee's Deli                                                 6\n",
       "Bon Appetit @ Twitter                                      6\n",
       "BlueStar Refreshment Services @ Uber Technologies, Inc     6\n",
       "JW Marriott SF Union Square                                5\n",
       "Bon Appetit Management Co                                  5\n",
       "Annie's Hot Dogs & Pretzels                                5\n",
       "PEET'S COFFEE & TEA                                        5\n",
       "Name: name, dtype: int64"
      ]
     },
     "execution_count": 22,
     "metadata": {},
     "output_type": "execute_result"
    }
   ],
   "source": [
    "name_counts = bus['name'].value_counts() # SOLUTION\n",
    "name_counts.head(20)"
   ]
  },
  {
   "cell_type": "code",
   "execution_count": 23,
   "metadata": {
    "deletable": false,
    "editable": false
   },
   "outputs": [
    {
     "data": {
      "text/html": [
       "\n",
       "    <p><strong>q2ci</strong> passed!</p>\n",
       "    "
      ],
      "text/plain": [
       "q2ci passed!"
      ]
     },
     "execution_count": 23,
     "metadata": {},
     "output_type": "execute_result"
    }
   ],
   "source": [
    "grader.check(\"q2ci\")"
   ]
  },
  {
   "cell_type": "markdown",
   "metadata": {
    "deletable": false,
    "editable": false
   },
   "source": [
    "**Step 2**\n",
    "\n",
    "<!--\n",
    "BEGIN QUESTION\n",
    "name: q2cii\n",
    "points: 1\n",
    "-->"
   ]
  },
  {
   "cell_type": "code",
   "execution_count": 24,
   "metadata": {},
   "outputs": [
    {
     "data": {
      "text/plain": [
       "Off The Grid              39\n",
       "428 11th St               34\n",
       "3251 20th Ave             17\n",
       "2948 Folsom St            17\n",
       "Pier 41                   16\n",
       "103 Horne Ave             14\n",
       "24 Willie Mays Plaza      13\n",
       "Off the Grid              11\n",
       "2948 Folsom St.           10\n",
       "1 United Nations Plaza    10\n",
       "Name: address, dtype: int64"
      ]
     },
     "execution_count": 24,
     "metadata": {},
     "output_type": "execute_result"
    }
   ],
   "source": [
    "address_counts = bus['address'].value_counts() # SOLUTION\n",
    "address_counts.head(10)"
   ]
  },
  {
   "cell_type": "code",
   "execution_count": 25,
   "metadata": {
    "deletable": false,
    "editable": false
   },
   "outputs": [
    {
     "data": {
      "text/html": [
       "\n",
       "    <p><strong>q2cii</strong> passed!</p>\n",
       "    "
      ],
      "text/plain": [
       "q2cii passed!"
      ]
     },
     "execution_count": 25,
     "metadata": {},
     "output_type": "execute_result"
    }
   ],
   "source": [
    "grader.check(\"q2cii\")"
   ]
  },
  {
   "cell_type": "markdown",
   "metadata": {
    "nbgrader": {
     "grade": false,
     "grade_id": "business-data",
     "locked": true,
     "schema_version": 2,
     "solution": false
    }
   },
   "source": [
    "<br/><br/><br/>\n",
    "\n",
    "---\n",
    "\n",
    "<br/><br/><br/>\n",
    "\n",
    "# 3: Cleaning the Business Data Postal Codes\n",
    "\n",
    "The business data contains postal code information that we can use to aggregate the ratings over regions of the city.  Let's examine and clean the postal code field.  The postal code (sometimes also called a ZIP code) partitions the city into regions:\n",
    "\n",
    "<img src=\"https://www.usmapguide.com/wp-content/uploads/2019/03/printable-san-francisco-zip-code-map.jpg\" alt=\"ZIP Code Map\" style=\"width: 600px\">"
   ]
  },
  {
   "cell_type": "markdown",
   "metadata": {
    "deletable": false,
    "editable": false,
    "nbgrader": {
     "grade": false,
     "grade_id": "cell-a4c4a09f1ecf2f4b",
     "locked": true,
     "schema_version": 2,
     "solution": false
    }
   },
   "source": [
    "<br/><br/><br/>\n",
    "\n",
    "---\n",
    "\n",
    "\n",
    "## Question 3a\n",
    "\n",
    "How many restaurants are in each ZIP code? \n",
    "\n",
    "In the cell below, create a **series** where the index is the postal code and the value is the number of records with that postal code in descending order of count. You may need to use `groupby()`, `size()`, or `value_counts()`. Do you notice any odd/invalid zip codes?\n",
    "\n",
    "<!--\n",
    "BEGIN QUESTION\n",
    "name: q3a\n",
    "points: 1\n",
    "-->"
   ]
  },
  {
   "cell_type": "code",
   "execution_count": 26,
   "metadata": {
    "nbgrader": {
     "grade": false,
     "grade_id": "cell-d2151d673e6c36a1",
     "locked": false,
     "schema_version": 2,
     "solution": true
    }
   },
   "outputs": [
    {
     "name": "stdout",
     "output_type": "stream",
     "text": [
      "postal_code\n",
      "94103         562\n",
      "94110         555\n",
      "94102         456\n",
      "94107         408\n",
      "94133         398\n",
      "94109         382\n",
      "94111         259\n",
      "94122         255\n",
      "94105         249\n",
      "94118         231\n",
      "94115         230\n",
      "94108         229\n",
      "94124         218\n",
      "94114         200\n",
      "-9999         194\n",
      "94112         192\n",
      "94117         189\n",
      "94123         177\n",
      "94121         157\n",
      "94104         142\n",
      "94132         132\n",
      "94116          97\n",
      "94158          90\n",
      "94134          82\n",
      "94127          67\n",
      "94131          49\n",
      "94130           8\n",
      "94143           5\n",
      "94101           2\n",
      "CA              2\n",
      "94188           2\n",
      "94301           2\n",
      "94013           2\n",
      "94518           1\n",
      "95133           1\n",
      "95132           1\n",
      "94602           1\n",
      "94544           1\n",
      "95122           1\n",
      "94621           1\n",
      "95105           1\n",
      "95109           1\n",
      "95112           1\n",
      "95117           1\n",
      "94901           1\n",
      "94105-2907      1\n",
      "64110           1\n",
      "94120           1\n",
      "941102019       1\n",
      "941033148       1\n",
      "94102-5917      1\n",
      "941             1\n",
      "94117-3504      1\n",
      "94080           1\n",
      "00000           1\n",
      "94105-1420      1\n",
      "94014           1\n",
      "94122-1909      1\n",
      "94123-3106      1\n",
      "92672           1\n",
      "94124-1917      1\n",
      "94129           1\n",
      "Ca              1\n"
     ]
    }
   ],
   "source": [
    "zip_counts = bus.groupby(\"postal_code\").size().sort_values(ascending=False) # SOLUTION\n",
    "print(zip_counts.to_string())"
   ]
  },
  {
   "cell_type": "code",
   "execution_count": 27,
   "metadata": {
    "deletable": false,
    "editable": false
   },
   "outputs": [
    {
     "data": {
      "text/html": [
       "\n",
       "    <p><strong>q3a</strong> passed!</p>\n",
       "    "
      ],
      "text/plain": [
       "q3a passed!"
      ]
     },
     "execution_count": 27,
     "metadata": {},
     "output_type": "execute_result"
    }
   ],
   "source": [
    "grader.check(\"q3a\")"
   ]
  },
  {
   "cell_type": "markdown",
   "metadata": {
    "deletable": false,
    "editable": false
   },
   "source": [
    "<br/><br/><br/>\n",
    "\n",
    "--- \n",
    "\n",
    "## Question 3b\n",
    "\n",
    "Answer the following questions about the `postal_code` column in the `bus` dataframe.\n",
    "\n",
    "1. The ZIP code column is which of the following type of data:\n",
    "    1. Quantitative Continuous\n",
    "    1. Quantitative Discrete\n",
    "    1. Qualitative Ordinal\n",
    "    1. Qualitative Nominal    \n",
    "1. What Python data type is used to represent a ZIP code?\n",
    "\n",
    "*Note*: ZIP codes and postal codes are the same thing.\n",
    "\n",
    "Please write your answers in the variables below:\n",
    "\n",
    "<!--\n",
    "BEGIN QUESTION\n",
    "name: q3b\n",
    "points: 2\n",
    "-->"
   ]
  },
  {
   "cell_type": "code",
   "execution_count": 28,
   "metadata": {},
   "outputs": [],
   "source": [
    "# The ZIP code column is which of the following type of data:\n",
    "#   \"Quantitative Continuous\" \n",
    "#   \"Quantitative Discrete\"\n",
    "#   \"Qualitative Ordinal\"\n",
    "#   \"Qualitative Nominal\"\n",
    "q3b_part1 = \"Qualitative Nominal\" # SOLUTION\n",
    "\n",
    "# What Python data type is used to represent a ZIP code? \n",
    "#    \"str\"\n",
    "#    \"int\"\n",
    "#    \"bool\"\n",
    "#    \"float\"\n",
    "q3b_part2 = \"str\" # SOLUTION"
   ]
  },
  {
   "cell_type": "code",
   "execution_count": 29,
   "metadata": {
    "deletable": false,
    "editable": false
   },
   "outputs": [
    {
     "data": {
      "text/html": [
       "\n",
       "    <p><strong>q3b</strong> passed!</p>\n",
       "    "
      ],
      "text/plain": [
       "q3b passed!"
      ]
     },
     "execution_count": 29,
     "metadata": {},
     "output_type": "execute_result"
    }
   ],
   "source": [
    "grader.check(\"q3b\")"
   ]
  },
  {
   "cell_type": "markdown",
   "metadata": {},
   "source": [
    "<br/><br/><br/>\n",
    "\n",
    "--- \n",
    "\n",
    "## Question 3c\n",
    "\n",
    "In question 3a we noticed a large number of potentially invalid ZIP codes (e.g., \"Ca\").  These are likely due to data entry errors.  To get a better understanding of the potential errors in the zip codes we will:\n",
    "\n",
    "1. Import a list of valid San Francisco ZIP codes by using `pd.read_json` to load the file `data/sf_zipcodes.json` and extract a **series** of type `str` containing the valid ZIP codes.  *Hint: set `dtype` when invoking `read_json`.*\n",
    "1. Construct a `DataFrame` containing only the businesses which DO NOT have valid ZIP codes.  You will probably want to use the `Series.isin` function. \n"
   ]
  },
  {
   "cell_type": "markdown",
   "metadata": {
    "deletable": false,
    "editable": false
   },
   "source": [
    "**Step 1**\n",
    "\n",
    "<!--\n",
    "BEGIN QUESTION\n",
    "name: q3ci\n",
    "points: 1\n",
    "-->"
   ]
  },
  {
   "cell_type": "code",
   "execution_count": 30,
   "metadata": {},
   "outputs": [
    {
     "data": {
      "text/plain": [
       "0    94102\n",
       "1    94103\n",
       "2    94104\n",
       "3    94105\n",
       "4    94107\n",
       "Name: zip_codes, dtype: object"
      ]
     },
     "execution_count": 30,
     "metadata": {},
     "output_type": "execute_result"
    }
   ],
   "source": [
    "valid_zips = pd.read_json(\"data/sf_zipcodes.json\", dtype=\"str\")['zip_codes'] # SOLUTION\n",
    "valid_zips.head()"
   ]
  },
  {
   "cell_type": "code",
   "execution_count": 31,
   "metadata": {
    "deletable": false,
    "editable": false
   },
   "outputs": [
    {
     "data": {
      "text/html": [
       "\n",
       "    <p><strong>q3ci</strong> passed!</p>\n",
       "    "
      ],
      "text/plain": [
       "q3ci passed!"
      ]
     },
     "execution_count": 31,
     "metadata": {},
     "output_type": "execute_result"
    }
   ],
   "source": [
    "grader.check(\"q3ci\")"
   ]
  },
  {
   "cell_type": "markdown",
   "metadata": {
    "deletable": false,
    "editable": false
   },
   "source": [
    "**Step 2**\n",
    "\n",
    "<!--\n",
    "BEGIN QUESTION\n",
    "name: q3cii\n",
    "points: 1\n",
    "-->"
   ]
  },
  {
   "cell_type": "code",
   "execution_count": 32,
   "metadata": {},
   "outputs": [
    {
     "data": {
      "text/html": [
       "<div>\n",
       "<style scoped>\n",
       "    .dataframe tbody tr th:only-of-type {\n",
       "        vertical-align: middle;\n",
       "    }\n",
       "\n",
       "    .dataframe tbody tr th {\n",
       "        vertical-align: top;\n",
       "    }\n",
       "\n",
       "    .dataframe thead th {\n",
       "        text-align: right;\n",
       "    }\n",
       "</style>\n",
       "<table border=\"1\" class=\"dataframe\">\n",
       "  <thead>\n",
       "    <tr style=\"text-align: right;\">\n",
       "      <th></th>\n",
       "      <th>bid</th>\n",
       "      <th>name</th>\n",
       "      <th>address</th>\n",
       "      <th>city</th>\n",
       "      <th>state</th>\n",
       "      <th>postal_code</th>\n",
       "      <th>latitude</th>\n",
       "      <th>longitude</th>\n",
       "      <th>phone_number</th>\n",
       "    </tr>\n",
       "  </thead>\n",
       "  <tbody>\n",
       "    <tr>\n",
       "      <th>22</th>\n",
       "      <td>100126</td>\n",
       "      <td>Lamas Peruvian Food Truck</td>\n",
       "      <td>Private Location</td>\n",
       "      <td>San Francisco</td>\n",
       "      <td>CA</td>\n",
       "      <td>-9999</td>\n",
       "      <td>-9999.000000</td>\n",
       "      <td>-9999.000000</td>\n",
       "      <td>-9999</td>\n",
       "    </tr>\n",
       "    <tr>\n",
       "      <th>68</th>\n",
       "      <td>100417</td>\n",
       "      <td>COMPASS ONE, LLC</td>\n",
       "      <td>1 MARKET ST. FL</td>\n",
       "      <td>San Francisco</td>\n",
       "      <td>CA</td>\n",
       "      <td>94105-1420</td>\n",
       "      <td>-9999.000000</td>\n",
       "      <td>-9999.000000</td>\n",
       "      <td>14154324000</td>\n",
       "    </tr>\n",
       "    <tr>\n",
       "      <th>96</th>\n",
       "      <td>100660</td>\n",
       "      <td>TEAPENTER</td>\n",
       "      <td>1518 IRVING ST</td>\n",
       "      <td>San Francisco</td>\n",
       "      <td>CA</td>\n",
       "      <td>94122-1909</td>\n",
       "      <td>-9999.000000</td>\n",
       "      <td>-9999.000000</td>\n",
       "      <td>14155868318</td>\n",
       "    </tr>\n",
       "    <tr>\n",
       "      <th>109</th>\n",
       "      <td>100781</td>\n",
       "      <td>LE CAFE DU SOLEIL</td>\n",
       "      <td>200 FILLMORE ST</td>\n",
       "      <td>San Francisco</td>\n",
       "      <td>CA</td>\n",
       "      <td>94117-3504</td>\n",
       "      <td>-9999.000000</td>\n",
       "      <td>-9999.000000</td>\n",
       "      <td>14155614215</td>\n",
       "    </tr>\n",
       "    <tr>\n",
       "      <th>144</th>\n",
       "      <td>101084</td>\n",
       "      <td>Deli North 200</td>\n",
       "      <td>1 Warriors Way Level 300 North East</td>\n",
       "      <td>San Francisco</td>\n",
       "      <td>CA</td>\n",
       "      <td>94518</td>\n",
       "      <td>-9999.000000</td>\n",
       "      <td>-9999.000000</td>\n",
       "      <td>-9999</td>\n",
       "    </tr>\n",
       "    <tr>\n",
       "      <th>156</th>\n",
       "      <td>101129</td>\n",
       "      <td>Vendor Room 200</td>\n",
       "      <td>1 Warriors Way Level 300 South West</td>\n",
       "      <td>San Francisco</td>\n",
       "      <td>CA</td>\n",
       "      <td>-9999</td>\n",
       "      <td>-9999.000000</td>\n",
       "      <td>-9999.000000</td>\n",
       "      <td>-9999</td>\n",
       "    </tr>\n",
       "    <tr>\n",
       "      <th>177</th>\n",
       "      <td>101192</td>\n",
       "      <td>Cochinita #2</td>\n",
       "      <td>2 Marina Blvd Fort Mason</td>\n",
       "      <td>San Francisco</td>\n",
       "      <td>CA</td>\n",
       "      <td>-9999</td>\n",
       "      <td>-9999.000000</td>\n",
       "      <td>-9999.000000</td>\n",
       "      <td>14150429222</td>\n",
       "    </tr>\n",
       "    <tr>\n",
       "      <th>276</th>\n",
       "      <td>102014</td>\n",
       "      <td>DROPBOX (Section 3, Floor 7)</td>\n",
       "      <td>1800 Owens St</td>\n",
       "      <td>San Francisco</td>\n",
       "      <td>CA</td>\n",
       "      <td>-9999</td>\n",
       "      <td>-9999.000000</td>\n",
       "      <td>-9999.000000</td>\n",
       "      <td>-9999</td>\n",
       "    </tr>\n",
       "    <tr>\n",
       "      <th>295</th>\n",
       "      <td>102245</td>\n",
       "      <td>Vessell CA Operations (#4)</td>\n",
       "      <td>2351 Mission St</td>\n",
       "      <td>San Francisco</td>\n",
       "      <td>CA</td>\n",
       "      <td>-9999</td>\n",
       "      <td>-9999.000000</td>\n",
       "      <td>-9999.000000</td>\n",
       "      <td>-9999</td>\n",
       "    </tr>\n",
       "    <tr>\n",
       "      <th>298</th>\n",
       "      <td>10227</td>\n",
       "      <td>The Napper Tandy</td>\n",
       "      <td>3200 24th St</td>\n",
       "      <td>San Francisco</td>\n",
       "      <td>CA</td>\n",
       "      <td>-9999</td>\n",
       "      <td>37.752581</td>\n",
       "      <td>-122.416482</td>\n",
       "      <td>-9999</td>\n",
       "    </tr>\n",
       "    <tr>\n",
       "      <th>320</th>\n",
       "      <td>10372</td>\n",
       "      <td>BERNAL HEIGHTS NEIGBORHOOD CENTER</td>\n",
       "      <td>515 CORTLAND AVE</td>\n",
       "      <td>San Francisco</td>\n",
       "      <td>CA</td>\n",
       "      <td>-9999</td>\n",
       "      <td>37.739110</td>\n",
       "      <td>-122.416404</td>\n",
       "      <td>14155202142</td>\n",
       "    </tr>\n",
       "    <tr>\n",
       "      <th>321</th>\n",
       "      <td>10373</td>\n",
       "      <td>El Tonayense #1</td>\n",
       "      <td>1717 Harrison St</td>\n",
       "      <td>San Francisco</td>\n",
       "      <td>CA</td>\n",
       "      <td>-9999</td>\n",
       "      <td>37.769426</td>\n",
       "      <td>-122.413446</td>\n",
       "      <td>14155556127</td>\n",
       "    </tr>\n",
       "    <tr>\n",
       "      <th>322</th>\n",
       "      <td>10376</td>\n",
       "      <td>Good Frikin Chicken</td>\n",
       "      <td>10 29th St</td>\n",
       "      <td>San Francisco</td>\n",
       "      <td>CA</td>\n",
       "      <td>-9999</td>\n",
       "      <td>37.744369</td>\n",
       "      <td>-122.420967</td>\n",
       "      <td>-9999</td>\n",
       "    </tr>\n",
       "    <tr>\n",
       "      <th>324</th>\n",
       "      <td>10406</td>\n",
       "      <td>Sunset Youth Services</td>\n",
       "      <td>3918 Judah St</td>\n",
       "      <td>San Francisco</td>\n",
       "      <td>CA</td>\n",
       "      <td>-9999</td>\n",
       "      <td>37.760560</td>\n",
       "      <td>-122.504027</td>\n",
       "      <td>-9999</td>\n",
       "    </tr>\n",
       "    <tr>\n",
       "      <th>357</th>\n",
       "      <td>11416</td>\n",
       "      <td>El Beach Burrito</td>\n",
       "      <td>3914 Judah St</td>\n",
       "      <td>San Francisco</td>\n",
       "      <td>CA</td>\n",
       "      <td>-9999</td>\n",
       "      <td>37.760851</td>\n",
       "      <td>-122.503998</td>\n",
       "      <td>-9999</td>\n",
       "    </tr>\n",
       "    <tr>\n",
       "      <th>381</th>\n",
       "      <td>12199</td>\n",
       "      <td>El Gallo Giro</td>\n",
       "      <td>3055 23rd St</td>\n",
       "      <td>San Francisco</td>\n",
       "      <td>CA</td>\n",
       "      <td>-9999</td>\n",
       "      <td>37.754218</td>\n",
       "      <td>-122.413285</td>\n",
       "      <td>14155553048</td>\n",
       "    </tr>\n",
       "    <tr>\n",
       "      <th>384</th>\n",
       "      <td>12344</td>\n",
       "      <td>The Village Market &amp; Pizza</td>\n",
       "      <td>750 Font Blvd</td>\n",
       "      <td>San Francisco</td>\n",
       "      <td>CA</td>\n",
       "      <td>-9999</td>\n",
       "      <td>37.723462</td>\n",
       "      <td>-122.483012</td>\n",
       "      <td>14155374525</td>\n",
       "    </tr>\n",
       "    <tr>\n",
       "      <th>406</th>\n",
       "      <td>13062</td>\n",
       "      <td>Everett Middle School</td>\n",
       "      <td>450 Church St</td>\n",
       "      <td>San Francisco</td>\n",
       "      <td>CA</td>\n",
       "      <td>-9999</td>\n",
       "      <td>37.763794</td>\n",
       "      <td>-122.428617</td>\n",
       "      <td>-9999</td>\n",
       "    </tr>\n",
       "    <tr>\n",
       "      <th>434</th>\n",
       "      <td>13753</td>\n",
       "      <td>Taboun</td>\n",
       "      <td>203 Parnassus Ave</td>\n",
       "      <td>San Francisco</td>\n",
       "      <td>CA</td>\n",
       "      <td>-9999</td>\n",
       "      <td>37.764574</td>\n",
       "      <td>-122.452950</td>\n",
       "      <td>-9999</td>\n",
       "    </tr>\n",
       "    <tr>\n",
       "      <th>548</th>\n",
       "      <td>17423</td>\n",
       "      <td>Project Open Hand</td>\n",
       "      <td>100 Diamond St</td>\n",
       "      <td>San Francisco</td>\n",
       "      <td>CA</td>\n",
       "      <td>-9999</td>\n",
       "      <td>37.760689</td>\n",
       "      <td>-122.437252</td>\n",
       "      <td>-9999</td>\n",
       "    </tr>\n",
       "  </tbody>\n",
       "</table>\n",
       "</div>"
      ],
      "text/plain": [
       "        bid                               name  \\\n",
       "22   100126          Lamas Peruvian Food Truck   \n",
       "68   100417                   COMPASS ONE, LLC   \n",
       "96   100660                          TEAPENTER   \n",
       "109  100781                  LE CAFE DU SOLEIL   \n",
       "144  101084                     Deli North 200   \n",
       "156  101129                    Vendor Room 200   \n",
       "177  101192                       Cochinita #2   \n",
       "276  102014       DROPBOX (Section 3, Floor 7)   \n",
       "295  102245         Vessell CA Operations (#4)   \n",
       "298   10227                   The Napper Tandy   \n",
       "320   10372  BERNAL HEIGHTS NEIGBORHOOD CENTER   \n",
       "321   10373                    El Tonayense #1   \n",
       "322   10376                Good Frikin Chicken   \n",
       "324   10406              Sunset Youth Services   \n",
       "357   11416                   El Beach Burrito   \n",
       "381   12199                      El Gallo Giro   \n",
       "384   12344         The Village Market & Pizza   \n",
       "406   13062              Everett Middle School   \n",
       "434   13753                             Taboun   \n",
       "548   17423                  Project Open Hand   \n",
       "\n",
       "                                 address           city state postal_code  \\\n",
       "22                      Private Location  San Francisco    CA       -9999   \n",
       "68                       1 MARKET ST. FL  San Francisco    CA  94105-1420   \n",
       "96                        1518 IRVING ST  San Francisco    CA  94122-1909   \n",
       "109                      200 FILLMORE ST  San Francisco    CA  94117-3504   \n",
       "144  1 Warriors Way Level 300 North East  San Francisco    CA       94518   \n",
       "156  1 Warriors Way Level 300 South West  San Francisco    CA       -9999   \n",
       "177             2 Marina Blvd Fort Mason  San Francisco    CA       -9999   \n",
       "276                        1800 Owens St  San Francisco    CA       -9999   \n",
       "295                      2351 Mission St  San Francisco    CA       -9999   \n",
       "298                         3200 24th St  San Francisco    CA       -9999   \n",
       "320                     515 CORTLAND AVE  San Francisco    CA       -9999   \n",
       "321                     1717 Harrison St  San Francisco    CA       -9999   \n",
       "322                           10 29th St  San Francisco    CA       -9999   \n",
       "324                        3918 Judah St  San Francisco    CA       -9999   \n",
       "357                        3914 Judah St  San Francisco    CA       -9999   \n",
       "381                         3055 23rd St  San Francisco    CA       -9999   \n",
       "384                        750 Font Blvd  San Francisco    CA       -9999   \n",
       "406                        450 Church St  San Francisco    CA       -9999   \n",
       "434                    203 Parnassus Ave  San Francisco    CA       -9999   \n",
       "548                       100 Diamond St  San Francisco    CA       -9999   \n",
       "\n",
       "        latitude    longitude  phone_number  \n",
       "22  -9999.000000 -9999.000000         -9999  \n",
       "68  -9999.000000 -9999.000000   14154324000  \n",
       "96  -9999.000000 -9999.000000   14155868318  \n",
       "109 -9999.000000 -9999.000000   14155614215  \n",
       "144 -9999.000000 -9999.000000         -9999  \n",
       "156 -9999.000000 -9999.000000         -9999  \n",
       "177 -9999.000000 -9999.000000   14150429222  \n",
       "276 -9999.000000 -9999.000000         -9999  \n",
       "295 -9999.000000 -9999.000000         -9999  \n",
       "298    37.752581  -122.416482         -9999  \n",
       "320    37.739110  -122.416404   14155202142  \n",
       "321    37.769426  -122.413446   14155556127  \n",
       "322    37.744369  -122.420967         -9999  \n",
       "324    37.760560  -122.504027         -9999  \n",
       "357    37.760851  -122.503998         -9999  \n",
       "381    37.754218  -122.413285   14155553048  \n",
       "384    37.723462  -122.483012   14155374525  \n",
       "406    37.763794  -122.428617         -9999  \n",
       "434    37.764574  -122.452950         -9999  \n",
       "548    37.760689  -122.437252         -9999  "
      ]
     },
     "execution_count": 32,
     "metadata": {},
     "output_type": "execute_result"
    }
   ],
   "source": [
    "invalid_zip_bus = bus[~bus['postal_code'].isin(valid_zips)] # SOLUTION\n",
    "invalid_zip_bus.head(20)"
   ]
  },
  {
   "cell_type": "code",
   "execution_count": 33,
   "metadata": {
    "deletable": false,
    "editable": false
   },
   "outputs": [
    {
     "data": {
      "text/html": [
       "\n",
       "    <p><strong>q3cii</strong> passed!</p>\n",
       "    "
      ],
      "text/plain": [
       "q3cii passed!"
      ]
     },
     "execution_count": 33,
     "metadata": {},
     "output_type": "execute_result"
    }
   ],
   "source": [
    "grader.check(\"q3cii\")"
   ]
  },
  {
   "cell_type": "markdown",
   "metadata": {
    "deletable": false,
    "editable": false
   },
   "source": [
    "<br/><br/><br/>\n",
    "\n",
    "--- \n",
    "\n",
    "## Question 3d\n",
    "\n",
    "In the previous question, many of the businesses had a common invalid postal code that was likely used to encode a MISSING postal code.  Do they all share a potentially \"interesting address\"?\n",
    "\n",
    "In the following cell, construct a **series** that counts the number of businesses at each `address` that have this single likely MISSING postal code value.  Order the series in descending order by count. \n",
    "\n",
    "After examining the output.  Answer the following question by filling in the appropriate variable. If we were to drop businesses with MISSING postal code values would a particular class of business be affected?  If you are unsure try to search the web for the most common addresses.\n",
    "\n",
    "\n",
    "<!--\n",
    "BEGIN QUESTION\n",
    "name: q3d\n",
    "points: 3\n",
    "-->"
   ]
  },
  {
   "cell_type": "code",
   "execution_count": 34,
   "metadata": {},
   "outputs": [
    {
     "data": {
      "text/plain": [
       "Off The Grid                  39\n",
       "Off the Grid                  10\n",
       "OTG                            4\n",
       "OFF THE GRID                   3\n",
       "Approved Private Locations     3\n",
       "Name: address, dtype: int64"
      ]
     },
     "execution_count": 34,
     "metadata": {},
     "output_type": "execute_result"
    }
   ],
   "source": [
    "missing_zip_address_count = bus[bus['postal_code'] == \"-9999\"]['address'].value_counts() # SOLUTION\n",
    "missing_zip_address_count.head()"
   ]
  },
  {
   "cell_type": "code",
   "execution_count": 35,
   "metadata": {
    "deletable": false,
    "editable": false
   },
   "outputs": [
    {
     "data": {
      "text/html": [
       "\n",
       "    <p><strong>q3d</strong> passed!</p>\n",
       "    "
      ],
      "text/plain": [
       "q3d passed!"
      ]
     },
     "execution_count": 35,
     "metadata": {},
     "output_type": "execute_result"
    }
   ],
   "source": [
    "grader.check(\"q3d\")"
   ]
  },
  {
   "cell_type": "markdown",
   "metadata": {
    "deletable": false,
    "editable": false
   },
   "source": [
    "<br/><br/><br/>\n",
    "\n",
    "--- \n",
    "\n",
    "## Question 3e\n",
    "\n",
    "**True or False**:  *If we were to drop businesses with MISSING postal code values, a particular class of business will be affected.*\n",
    "\n",
    "<!--\n",
    "BEGIN QUESTION\n",
    "name: q3e\n",
    "points: 2\n",
    "-->"
   ]
  },
  {
   "cell_type": "code",
   "execution_count": 36,
   "metadata": {},
   "outputs": [],
   "source": [
    "# True or False: \n",
    "#  If we were to drop businesses with MISSING postal code values \n",
    "#   a particular class of business be affected.\n",
    "q3d_true_or_false = True # SOLUTION"
   ]
  },
  {
   "cell_type": "code",
   "execution_count": 37,
   "metadata": {
    "deletable": false,
    "editable": false
   },
   "outputs": [
    {
     "data": {
      "text/html": [
       "\n",
       "    <p><strong>q3e</strong> passed!</p>\n",
       "    "
      ],
      "text/plain": [
       "q3e passed!"
      ]
     },
     "execution_count": 37,
     "metadata": {},
     "output_type": "execute_result"
    }
   ],
   "source": [
    "grader.check(\"q3e\")"
   ]
  },
  {
   "cell_type": "markdown",
   "metadata": {
    "deletable": false,
    "editable": false
   },
   "source": [
    "<br/><br/><br/>\n",
    "\n",
    "--- \n",
    "\n",
    "## Question 3f\n",
    "\n",
    "Examine the `invalid_zip_bus` dataframe we computed above and look at the businesses that DO NOT have the special MISSING ZIP code value.  Some of the invalid postal codes are just the full 9 digit code rather than the first 5 digits.  Create a new column named `postal5` in the original `bus` dataframe which contains only the first 5 digits of the `postal_code` column.   Finally, for any of the `postal5` ZIP code entries that were not a valid San Fransisco ZIP Code (according to `valid_zips`) set the entry to `None`.  \n",
    "\n",
    "\n",
    "<!--\n",
    "BEGIN QUESTION\n",
    "name: q3f\n",
    "points: 2\n",
    "-->"
   ]
  },
  {
   "cell_type": "code",
   "execution_count": 38,
   "metadata": {},
   "outputs": [
    {
     "data": {
      "text/html": [
       "<div>\n",
       "<style scoped>\n",
       "    .dataframe tbody tr th:only-of-type {\n",
       "        vertical-align: middle;\n",
       "    }\n",
       "\n",
       "    .dataframe tbody tr th {\n",
       "        vertical-align: top;\n",
       "    }\n",
       "\n",
       "    .dataframe thead th {\n",
       "        text-align: right;\n",
       "    }\n",
       "</style>\n",
       "<table border=\"1\" class=\"dataframe\">\n",
       "  <thead>\n",
       "    <tr style=\"text-align: right;\">\n",
       "      <th></th>\n",
       "      <th>bid</th>\n",
       "      <th>name</th>\n",
       "      <th>postal_code</th>\n",
       "      <th>postal5</th>\n",
       "    </tr>\n",
       "  </thead>\n",
       "  <tbody>\n",
       "    <tr>\n",
       "      <th>22</th>\n",
       "      <td>100126</td>\n",
       "      <td>Lamas Peruvian Food Truck</td>\n",
       "      <td>-9999</td>\n",
       "      <td>None</td>\n",
       "    </tr>\n",
       "    <tr>\n",
       "      <th>68</th>\n",
       "      <td>100417</td>\n",
       "      <td>COMPASS ONE, LLC</td>\n",
       "      <td>94105-1420</td>\n",
       "      <td>94105</td>\n",
       "    </tr>\n",
       "    <tr>\n",
       "      <th>96</th>\n",
       "      <td>100660</td>\n",
       "      <td>TEAPENTER</td>\n",
       "      <td>94122-1909</td>\n",
       "      <td>94122</td>\n",
       "    </tr>\n",
       "    <tr>\n",
       "      <th>109</th>\n",
       "      <td>100781</td>\n",
       "      <td>LE CAFE DU SOLEIL</td>\n",
       "      <td>94117-3504</td>\n",
       "      <td>94117</td>\n",
       "    </tr>\n",
       "    <tr>\n",
       "      <th>144</th>\n",
       "      <td>101084</td>\n",
       "      <td>Deli North 200</td>\n",
       "      <td>94518</td>\n",
       "      <td>None</td>\n",
       "    </tr>\n",
       "    <tr>\n",
       "      <th>...</th>\n",
       "      <td>...</td>\n",
       "      <td>...</td>\n",
       "      <td>...</td>\n",
       "      <td>...</td>\n",
       "    </tr>\n",
       "    <tr>\n",
       "      <th>6173</th>\n",
       "      <td>99369</td>\n",
       "      <td>HOTEL BIRON</td>\n",
       "      <td>94102-5917</td>\n",
       "      <td>94102</td>\n",
       "    </tr>\n",
       "    <tr>\n",
       "      <th>6174</th>\n",
       "      <td>99376</td>\n",
       "      <td>Mashallah Halal Food truck Ind</td>\n",
       "      <td>-9999</td>\n",
       "      <td>None</td>\n",
       "    </tr>\n",
       "    <tr>\n",
       "      <th>6199</th>\n",
       "      <td>99536</td>\n",
       "      <td>FAITH SANDWICH #2</td>\n",
       "      <td>94105-2907</td>\n",
       "      <td>94105</td>\n",
       "    </tr>\n",
       "    <tr>\n",
       "      <th>6204</th>\n",
       "      <td>99681</td>\n",
       "      <td>Twister</td>\n",
       "      <td>95112</td>\n",
       "      <td>None</td>\n",
       "    </tr>\n",
       "    <tr>\n",
       "      <th>6241</th>\n",
       "      <td>99819</td>\n",
       "      <td>CHESTNUT DINER</td>\n",
       "      <td>94123-3106</td>\n",
       "      <td>94123</td>\n",
       "    </tr>\n",
       "  </tbody>\n",
       "</table>\n",
       "<p>230 rows × 4 columns</p>\n",
       "</div>"
      ],
      "text/plain": [
       "         bid                            name postal_code postal5\n",
       "22    100126       Lamas Peruvian Food Truck       -9999    None\n",
       "68    100417                COMPASS ONE, LLC  94105-1420   94105\n",
       "96    100660                       TEAPENTER  94122-1909   94122\n",
       "109   100781               LE CAFE DU SOLEIL  94117-3504   94117\n",
       "144   101084                  Deli North 200       94518    None\n",
       "...      ...                             ...         ...     ...\n",
       "6173   99369                     HOTEL BIRON  94102-5917   94102\n",
       "6174   99376  Mashallah Halal Food truck Ind       -9999    None\n",
       "6199   99536               FAITH SANDWICH #2  94105-2907   94105\n",
       "6204   99681                         Twister       95112    None\n",
       "6241   99819                  CHESTNUT DINER  94123-3106   94123\n",
       "\n",
       "[230 rows x 4 columns]"
      ]
     },
     "execution_count": 38,
     "metadata": {},
     "output_type": "execute_result"
    }
   ],
   "source": [
    "bus['postal5'] = None\n",
    "# BEGIN SOLUTION\n",
    "bus['postal5'] = bus['postal_code'].str[:5]\n",
    "bus.loc[~bus['postal5'].isin(valid_zips), 'postal5'] = None \n",
    "# END SOLUTION\n",
    "\n",
    "# Checking the corrected postal5 column\n",
    "bus.loc[invalid_zip_bus.index, ['bid', 'name', 'postal_code', 'postal5']]"
   ]
  },
  {
   "cell_type": "code",
   "execution_count": 39,
   "metadata": {
    "deletable": false,
    "editable": false
   },
   "outputs": [
    {
     "data": {
      "text/html": [
       "\n",
       "    <p><strong>q3f</strong> passed!</p>\n",
       "    "
      ],
      "text/plain": [
       "q3f passed!"
      ]
     },
     "execution_count": 39,
     "metadata": {},
     "output_type": "execute_result"
    }
   ],
   "source": [
    "grader.check(\"q3f\")"
   ]
  },
  {
   "cell_type": "markdown",
   "metadata": {
    "nbgrader": {
     "grade": false,
     "grade_id": "business-data",
     "locked": true,
     "schema_version": 2,
     "solution": false
    }
   },
   "source": [
    "<br/><br/><br/>\n",
    "\n",
    "---\n",
    "\n",
    "<br/><br/><br/>\n",
    "\n",
    "# 4: Investigate the Inspection Data\n",
    "\n",
    "Let's now turn to the inspection DataFrame. Earlier, we found that `ins` has 4 columns named \n",
    "`iid`, `score`, `date` and `type`.  In this section, we determine the granularity of `ins` and investigate the kinds of information provided for the inspections. "
   ]
  },
  {
   "cell_type": "markdown",
   "metadata": {
    "nbgrader": {
     "grade": false,
     "grade_id": "cell-174ed23c543ad9da",
     "locked": true,
     "schema_version": 2,
     "solution": false
    }
   },
   "source": [
    "Let's start by looking again at the first 5 rows of `ins` to see what we're working with."
   ]
  },
  {
   "cell_type": "code",
   "execution_count": 40,
   "metadata": {
    "nbgrader": {
     "grade": false,
     "grade_id": "cell-f0fbe724a2783e33",
     "locked": true,
     "schema_version": 2,
     "solution": false
    }
   },
   "outputs": [
    {
     "data": {
      "text/html": [
       "<div>\n",
       "<style scoped>\n",
       "    .dataframe tbody tr th:only-of-type {\n",
       "        vertical-align: middle;\n",
       "    }\n",
       "\n",
       "    .dataframe tbody tr th {\n",
       "        vertical-align: top;\n",
       "    }\n",
       "\n",
       "    .dataframe thead th {\n",
       "        text-align: right;\n",
       "    }\n",
       "</style>\n",
       "<table border=\"1\" class=\"dataframe\">\n",
       "  <thead>\n",
       "    <tr style=\"text-align: right;\">\n",
       "      <th></th>\n",
       "      <th>iid</th>\n",
       "      <th>date</th>\n",
       "      <th>score</th>\n",
       "      <th>type</th>\n",
       "    </tr>\n",
       "  </thead>\n",
       "  <tbody>\n",
       "    <tr>\n",
       "      <th>0</th>\n",
       "      <td>100010_20190329</td>\n",
       "      <td>03/29/2019 12:00:00 AM</td>\n",
       "      <td>-1</td>\n",
       "      <td>New Construction</td>\n",
       "    </tr>\n",
       "    <tr>\n",
       "      <th>1</th>\n",
       "      <td>100010_20190403</td>\n",
       "      <td>04/03/2019 12:00:00 AM</td>\n",
       "      <td>100</td>\n",
       "      <td>Routine - Unscheduled</td>\n",
       "    </tr>\n",
       "    <tr>\n",
       "      <th>2</th>\n",
       "      <td>100017_20190417</td>\n",
       "      <td>04/17/2019 12:00:00 AM</td>\n",
       "      <td>-1</td>\n",
       "      <td>New Ownership</td>\n",
       "    </tr>\n",
       "    <tr>\n",
       "      <th>3</th>\n",
       "      <td>100017_20190816</td>\n",
       "      <td>08/16/2019 12:00:00 AM</td>\n",
       "      <td>91</td>\n",
       "      <td>Routine - Unscheduled</td>\n",
       "    </tr>\n",
       "    <tr>\n",
       "      <th>4</th>\n",
       "      <td>100017_20190826</td>\n",
       "      <td>08/26/2019 12:00:00 AM</td>\n",
       "      <td>-1</td>\n",
       "      <td>Reinspection/Followup</td>\n",
       "    </tr>\n",
       "  </tbody>\n",
       "</table>\n",
       "</div>"
      ],
      "text/plain": [
       "               iid                    date  score                   type\n",
       "0  100010_20190329  03/29/2019 12:00:00 AM     -1       New Construction\n",
       "1  100010_20190403  04/03/2019 12:00:00 AM    100  Routine - Unscheduled\n",
       "2  100017_20190417  04/17/2019 12:00:00 AM     -1          New Ownership\n",
       "3  100017_20190816  08/16/2019 12:00:00 AM     91  Routine - Unscheduled\n",
       "4  100017_20190826  08/26/2019 12:00:00 AM     -1  Reinspection/Followup"
      ]
     },
     "execution_count": 40,
     "metadata": {},
     "output_type": "execute_result"
    }
   ],
   "source": [
    "ins.head(5)"
   ]
  },
  {
   "cell_type": "markdown",
   "metadata": {
    "deletable": false,
    "editable": false
   },
   "source": [
    "<br/><br/><br/>\n",
    "\n",
    "---\n",
    "\n",
    "## Question 4a\n",
    "\n",
    "The column `iid` probably corresponds to an inspection id.  Is it a primary key?  Write an expression (line of code) that evaluates to 'True' or 'False' based on whether all the values are unique.\n",
    "\n",
    "\n",
    "<!--\n",
    "BEGIN QUESTION\n",
    "name: q4a\n",
    "points: 1\n",
    "-->"
   ]
  },
  {
   "cell_type": "code",
   "execution_count": 41,
   "metadata": {},
   "outputs": [],
   "source": [
    "is_ins_iid_a_primary_key = ins['iid'].value_counts().max() == 1 # SOLUTION"
   ]
  },
  {
   "cell_type": "code",
   "execution_count": 42,
   "metadata": {
    "deletable": false,
    "editable": false
   },
   "outputs": [
    {
     "data": {
      "text/html": [
       "\n",
       "    <p><strong>q4a</strong> passed!</p>\n",
       "    "
      ],
      "text/plain": [
       "q4a passed!"
      ]
     },
     "execution_count": 42,
     "metadata": {},
     "output_type": "execute_result"
    }
   ],
   "source": [
    "grader.check(\"q4a\")"
   ]
  },
  {
   "cell_type": "markdown",
   "metadata": {},
   "source": [
    "<br/><br/><br/>\n",
    "\n",
    "---\n",
    "\n",
    "## Question 4b\n",
    "\n",
    "The column `iid` appears to be the composition of two numbers and the first number looks like a business id.  \n",
    "\n",
    "**Part 1.**: Create a new column called `bid` in the `ins` dataframe containing just the business id.  You will want to use `ins['iid'].str` operations to do this.  Also be sure to convert the type of this column to `int`\n",
    "\n",
    "**Part 2.**: Then compute how many values in this new column are invalid business ids (i.e. do not appear in the `bus['bid']` column). This is verifying a foreign key relationship. Consider using the `pd.Series.isin` function.\n",
    "\n",
    "**Part 3.**: Answer True or False, `ins['bid']` is a foreign key reference to `bus['bid']`.\n",
    "\n",
    "\n",
    "**No python `for` loops or list comprehensions required!**"
   ]
  },
  {
   "cell_type": "markdown",
   "metadata": {
    "deletable": false,
    "editable": false
   },
   "source": [
    "**Part 1**\n",
    "\n",
    "<!--\n",
    "BEGIN QUESTION\n",
    "name: q4bi\n",
    "points: 1\n",
    "-->"
   ]
  },
  {
   "cell_type": "code",
   "execution_count": 43,
   "metadata": {},
   "outputs": [],
   "source": [
    "ins['bid'] = ins['iid'].str.split(\"_\", expand=True)[0].astype(int) # SOLUTION"
   ]
  },
  {
   "cell_type": "code",
   "execution_count": 44,
   "metadata": {
    "deletable": false,
    "editable": false
   },
   "outputs": [
    {
     "data": {
      "text/html": [
       "\n",
       "    <p><strong>q4bi</strong> passed!</p>\n",
       "    "
      ],
      "text/plain": [
       "q4bi passed!"
      ]
     },
     "execution_count": 44,
     "metadata": {},
     "output_type": "execute_result"
    }
   ],
   "source": [
    "grader.check(\"q4bi\")"
   ]
  },
  {
   "cell_type": "markdown",
   "metadata": {
    "deletable": false,
    "editable": false
   },
   "source": [
    "**Part 2**\n",
    "\n",
    "<!--\n",
    "BEGIN QUESTION\n",
    "name: q4bii\n",
    "points: 1\n",
    "-->"
   ]
  },
  {
   "cell_type": "code",
   "execution_count": 45,
   "metadata": {},
   "outputs": [],
   "source": [
    "invalid_bid_count = (~ins['bid'].isin(bus['bid'])).sum() # SOLUTION"
   ]
  },
  {
   "cell_type": "code",
   "execution_count": 46,
   "metadata": {
    "deletable": false,
    "editable": false
   },
   "outputs": [
    {
     "data": {
      "text/html": [
       "\n",
       "    <p><strong>q4bii</strong> passed!</p>\n",
       "    "
      ],
      "text/plain": [
       "q4bii passed!"
      ]
     },
     "execution_count": 46,
     "metadata": {},
     "output_type": "execute_result"
    }
   ],
   "source": [
    "grader.check(\"q4bii\")"
   ]
  },
  {
   "cell_type": "markdown",
   "metadata": {
    "deletable": false,
    "editable": false
   },
   "source": [
    "**Part 3**\n",
    "\n",
    "<!--\n",
    "BEGIN QUESTION\n",
    "name: q4biii\n",
    "points: 1\n",
    "-->"
   ]
  },
  {
   "cell_type": "code",
   "execution_count": 47,
   "metadata": {},
   "outputs": [],
   "source": [
    "# True or False: The column ins['bid'] is a foreign key \n",
    "#   referencing the bus['bid'] primary key.\n",
    "\n",
    "q4b_is_foreign_key = True # SOLUTION"
   ]
  },
  {
   "cell_type": "code",
   "execution_count": 48,
   "metadata": {
    "deletable": false,
    "editable": false
   },
   "outputs": [
    {
     "data": {
      "text/html": [
       "\n",
       "    <p><strong>q4biii</strong> passed!</p>\n",
       "    "
      ],
      "text/plain": [
       "q4biii passed!"
      ]
     },
     "execution_count": 48,
     "metadata": {},
     "output_type": "execute_result"
    }
   ],
   "source": [
    "grader.check(\"q4biii\")"
   ]
  },
  {
   "cell_type": "markdown",
   "metadata": {},
   "source": [
    "<br/><br/><br/>\n",
    "\n",
    "---\n",
    "\n",
    "## Question 4c\n",
    "\n",
    "What if we are interested in a time component of the inspection data?  We need to examine the date column of each inspection. \n",
    "\n",
    "**Part 1:** What is the type of the individual `ins['date']` entries. You may want to grab the very first entry and use the `type` function in python. \n",
    "\n",
    "**Part 2:** Use `pd.to_datetime` to create a new `ins['timestamp']` column containing of `pd.Timestamp` objects.  These will allow us to do more date manipulation.\n",
    "\n",
    "**Part 3:** What are the earliest and latest dates in our inspection data?  *Hint: you can use `min` and `max` on dates of the correct type.*\n",
    "\n",
    "**Part 4:** We probably want to examine the inspections by year. Create an additional `ins['year']` column containing just the year of the inspection.  Consider using `pd.Series.dt.year` to do this.\n",
    "\n",
    "**No python `for` loops or list comprehensions required!**"
   ]
  },
  {
   "cell_type": "markdown",
   "metadata": {
    "deletable": false,
    "editable": false
   },
   "source": [
    "**Part 1**\n",
    "\n",
    "<!--\n",
    "BEGIN QUESTION\n",
    "name: q4ci\n",
    "points: 1\n",
    "-->"
   ]
  },
  {
   "cell_type": "code",
   "execution_count": 49,
   "metadata": {},
   "outputs": [
    {
     "data": {
      "text/plain": [
       "str"
      ]
     },
     "execution_count": 49,
     "metadata": {},
     "output_type": "execute_result"
    }
   ],
   "source": [
    "ins_date_type = type(ins['date'][0]) # SOLUTION\n",
    "ins_date_type"
   ]
  },
  {
   "cell_type": "code",
   "execution_count": 50,
   "metadata": {
    "deletable": false,
    "editable": false
   },
   "outputs": [
    {
     "data": {
      "text/html": [
       "\n",
       "    <p><strong>q4ci</strong> passed!</p>\n",
       "    "
      ],
      "text/plain": [
       "q4ci passed!"
      ]
     },
     "execution_count": 50,
     "metadata": {},
     "output_type": "execute_result"
    }
   ],
   "source": [
    "grader.check(\"q4ci\")"
   ]
  },
  {
   "cell_type": "markdown",
   "metadata": {
    "deletable": false,
    "editable": false
   },
   "source": [
    "**Part 2**\n",
    "\n",
    "<!--\n",
    "BEGIN QUESTION\n",
    "name: q4cii\n",
    "points: 1\n",
    "-->"
   ]
  },
  {
   "cell_type": "code",
   "execution_count": 51,
   "metadata": {},
   "outputs": [],
   "source": [
    "ins['timestamp'] = pd.to_datetime(ins['date']) # SOLUTION"
   ]
  },
  {
   "cell_type": "code",
   "execution_count": 52,
   "metadata": {
    "deletable": false,
    "editable": false
   },
   "outputs": [
    {
     "data": {
      "text/html": [
       "\n",
       "    <p><strong>q4cii</strong> passed!</p>\n",
       "    "
      ],
      "text/plain": [
       "q4cii passed!"
      ]
     },
     "execution_count": 52,
     "metadata": {},
     "output_type": "execute_result"
    }
   ],
   "source": [
    "grader.check(\"q4cii\")"
   ]
  },
  {
   "cell_type": "markdown",
   "metadata": {
    "deletable": false,
    "editable": false
   },
   "source": [
    "**Part 3**\n",
    "\n",
    "<!--\n",
    "BEGIN QUESTION\n",
    "name: q4ciii\n",
    "points: 1\n",
    "-->"
   ]
  },
  {
   "cell_type": "code",
   "execution_count": 53,
   "metadata": {},
   "outputs": [
    {
     "name": "stdout",
     "output_type": "stream",
     "text": [
      "Earliest Date: 2016-10-04 00:00:00\n",
      "Latest Date: 2019-11-28 00:00:00\n"
     ]
    }
   ],
   "source": [
    "earliest_date = ins['timestamp'].min() # SOLUTION\n",
    "latest_date = ins['timestamp'].max() # SOLUTION\n",
    "\n",
    "print(\"Earliest Date:\", earliest_date)\n",
    "print(\"Latest Date:\", latest_date)"
   ]
  },
  {
   "cell_type": "code",
   "execution_count": 54,
   "metadata": {
    "deletable": false,
    "editable": false
   },
   "outputs": [
    {
     "data": {
      "text/html": [
       "\n",
       "    <p><strong>q4ciii</strong> passed!</p>\n",
       "    "
      ],
      "text/plain": [
       "q4ciii passed!"
      ]
     },
     "execution_count": 54,
     "metadata": {},
     "output_type": "execute_result"
    }
   ],
   "source": [
    "grader.check(\"q4ciii\")"
   ]
  },
  {
   "cell_type": "markdown",
   "metadata": {
    "deletable": false,
    "editable": false
   },
   "source": [
    "**Part 4**\n",
    "\n",
    "<!--\n",
    "BEGIN QUESTION\n",
    "name: q4civ\n",
    "points: 1\n",
    "-->"
   ]
  },
  {
   "cell_type": "code",
   "execution_count": 55,
   "metadata": {},
   "outputs": [],
   "source": [
    "ins['year'] = ins['timestamp'].dt.year # SOLUTION"
   ]
  },
  {
   "cell_type": "code",
   "execution_count": 56,
   "metadata": {
    "deletable": false,
    "editable": false
   },
   "outputs": [
    {
     "data": {
      "text/html": [
       "\n",
       "    <p><strong>q4civ</strong> passed!</p>\n",
       "    "
      ],
      "text/plain": [
       "q4civ passed!"
      ]
     },
     "execution_count": 56,
     "metadata": {},
     "output_type": "execute_result"
    }
   ],
   "source": [
    "grader.check(\"q4civ\")"
   ]
  },
  {
   "cell_type": "code",
   "execution_count": 57,
   "metadata": {},
   "outputs": [
    {
     "data": {
      "text/html": [
       "<div>\n",
       "<style scoped>\n",
       "    .dataframe tbody tr th:only-of-type {\n",
       "        vertical-align: middle;\n",
       "    }\n",
       "\n",
       "    .dataframe tbody tr th {\n",
       "        vertical-align: top;\n",
       "    }\n",
       "\n",
       "    .dataframe thead th {\n",
       "        text-align: right;\n",
       "    }\n",
       "</style>\n",
       "<table border=\"1\" class=\"dataframe\">\n",
       "  <thead>\n",
       "    <tr style=\"text-align: right;\">\n",
       "      <th></th>\n",
       "      <th>iid</th>\n",
       "      <th>date</th>\n",
       "      <th>score</th>\n",
       "      <th>type</th>\n",
       "      <th>bid</th>\n",
       "      <th>timestamp</th>\n",
       "      <th>year</th>\n",
       "    </tr>\n",
       "  </thead>\n",
       "  <tbody>\n",
       "    <tr>\n",
       "      <th>0</th>\n",
       "      <td>100010_20190329</td>\n",
       "      <td>03/29/2019 12:00:00 AM</td>\n",
       "      <td>-1</td>\n",
       "      <td>New Construction</td>\n",
       "      <td>100010</td>\n",
       "      <td>2019-03-29</td>\n",
       "      <td>2019</td>\n",
       "    </tr>\n",
       "    <tr>\n",
       "      <th>1</th>\n",
       "      <td>100010_20190403</td>\n",
       "      <td>04/03/2019 12:00:00 AM</td>\n",
       "      <td>100</td>\n",
       "      <td>Routine - Unscheduled</td>\n",
       "      <td>100010</td>\n",
       "      <td>2019-04-03</td>\n",
       "      <td>2019</td>\n",
       "    </tr>\n",
       "    <tr>\n",
       "      <th>2</th>\n",
       "      <td>100017_20190417</td>\n",
       "      <td>04/17/2019 12:00:00 AM</td>\n",
       "      <td>-1</td>\n",
       "      <td>New Ownership</td>\n",
       "      <td>100017</td>\n",
       "      <td>2019-04-17</td>\n",
       "      <td>2019</td>\n",
       "    </tr>\n",
       "    <tr>\n",
       "      <th>3</th>\n",
       "      <td>100017_20190816</td>\n",
       "      <td>08/16/2019 12:00:00 AM</td>\n",
       "      <td>91</td>\n",
       "      <td>Routine - Unscheduled</td>\n",
       "      <td>100017</td>\n",
       "      <td>2019-08-16</td>\n",
       "      <td>2019</td>\n",
       "    </tr>\n",
       "    <tr>\n",
       "      <th>4</th>\n",
       "      <td>100017_20190826</td>\n",
       "      <td>08/26/2019 12:00:00 AM</td>\n",
       "      <td>-1</td>\n",
       "      <td>Reinspection/Followup</td>\n",
       "      <td>100017</td>\n",
       "      <td>2019-08-26</td>\n",
       "      <td>2019</td>\n",
       "    </tr>\n",
       "  </tbody>\n",
       "</table>\n",
       "</div>"
      ],
      "text/plain": [
       "               iid                    date  score                   type  \\\n",
       "0  100010_20190329  03/29/2019 12:00:00 AM     -1       New Construction   \n",
       "1  100010_20190403  04/03/2019 12:00:00 AM    100  Routine - Unscheduled   \n",
       "2  100017_20190417  04/17/2019 12:00:00 AM     -1          New Ownership   \n",
       "3  100017_20190816  08/16/2019 12:00:00 AM     91  Routine - Unscheduled   \n",
       "4  100017_20190826  08/26/2019 12:00:00 AM     -1  Reinspection/Followup   \n",
       "\n",
       "      bid  timestamp  year  \n",
       "0  100010 2019-03-29  2019  \n",
       "1  100010 2019-04-03  2019  \n",
       "2  100017 2019-04-17  2019  \n",
       "3  100017 2019-08-16  2019  \n",
       "4  100017 2019-08-26  2019  "
      ]
     },
     "execution_count": 57,
     "metadata": {},
     "output_type": "execute_result"
    }
   ],
   "source": [
    "ins.head()"
   ]
  },
  {
   "cell_type": "markdown",
   "metadata": {},
   "source": [
    "<br/><br/><br/>\n",
    "\n",
    "---\n",
    "\n",
    "## Question 4d\n",
    "\n",
    "What is the relationship between the type of inspection over the 2016 to 2019 timeframe? \n",
    "\n",
    "**Part 1**\n",
    "\n",
    "Construct the following table by\n",
    "1. Using the `pivot_table` containing the number (`size`) of inspections for the given `type` and `year`.\n",
    "1. Adding an extra `Total` column to the result using `sum`\n",
    "1. Sort the results in descending order by the `Total`.\n",
    "\n",
    "<table border=\"1\" class=\"dataframe\">  <thead>    <tr style=\"text-align: right;\">      <th>year</th>      <th>2016</th>      <th>2017</th>      <th>2018</th>      <th>2019</th>      <th>Total</th>    </tr>    <tr>      <th>type</th>      <th></th>      <th></th>      <th></th>      <th></th>      <th></th>    </tr>  </thead>  <tbody>    <tr>      <th>Routine - Unscheduled</th>      <td>966</td>      <td>4057</td>      <td>4373</td>      <td>4681</td>      <td>14077</td>    </tr>    <tr>      <th>Reinspection/Followup</th>      <td>445</td>      <td>1767</td>      <td>1935</td>      <td>2292</td>      <td>6439</td>    </tr>    <tr>      <th>New Ownership</th>      <td>99</td>      <td>506</td>      <td>528</td>      <td>459</td>      <td>1592</td>    </tr>    <tr>      <th>Complaint</th>      <td>91</td>      <td>418</td>      <td>512</td>      <td>437</td>      <td>1458</td>    </tr>    <tr>      <th>New Construction</th>      <td>102</td>      <td>485</td>      <td>218</td>      <td>189</td>      <td>994</td>    </tr>    <tr>      <th>Non-inspection site visit</th>      <td>51</td>      <td>276</td>      <td>253</td>      <td>231</td>      <td>811</td>    </tr>    <tr>      <th>New Ownership - Followup</th>      <td>0</td>      <td>45</td>      <td>219</td>      <td>235</td>      <td>499</td>    </tr>    <tr>      <th>Structural Inspection</th>      <td>1</td>      <td>153</td>      <td>50</td>      <td>190</td>      <td>394</td>    </tr>    <tr>      <th>Complaint Reinspection/Followup</th>      <td>19</td>      <td>68</td>      <td>70</td>      <td>70</td>      <td>227</td>    </tr>    <tr>      <th>Foodborne Illness Investigation</th>      <td>1</td>      <td>29</td>      <td>50</td>      <td>35</td>      <td>115</td>    </tr>    <tr>      <th>Routine - Scheduled</th>      <td>0</td>      <td>9</td>      <td>8</td>      <td>29</td>      <td>46</td>    </tr>    <tr>      <th>Administrative or Document Review</th>      <td>2</td>      <td>1</td>      <td>1</td>      <td>0</td>      <td>4</td>    </tr>    <tr>      <th>Multi-agency Investigation</th>      <td>0</td>      <td>0</td>      <td>1</td>      <td>2</td>      <td>3</td>    </tr>    <tr>      <th>Special Event</th>      <td>0</td>      <td>3</td>      <td>0</td>      <td>0</td>      <td>3</td>    </tr>    <tr>      <th>Community Health Assessment</th>      <td>1</td>      <td>0</td>      <td>0</td>      <td>0</td>      <td>1</td>    </tr>  </tbody></table>\n",
    "\n",
    "**No python `for` loops or list comprehensions required!**"
   ]
  },
  {
   "cell_type": "code",
   "execution_count": 58,
   "metadata": {},
   "outputs": [
    {
     "data": {
      "text/html": [
       "<div>\n",
       "<style scoped>\n",
       "    .dataframe tbody tr th:only-of-type {\n",
       "        vertical-align: middle;\n",
       "    }\n",
       "\n",
       "    .dataframe tbody tr th {\n",
       "        vertical-align: top;\n",
       "    }\n",
       "\n",
       "    .dataframe thead th {\n",
       "        text-align: right;\n",
       "    }\n",
       "</style>\n",
       "<table border=\"1\" class=\"dataframe\">\n",
       "  <thead>\n",
       "    <tr style=\"text-align: right;\">\n",
       "      <th>year</th>\n",
       "      <th>2016</th>\n",
       "      <th>2017</th>\n",
       "      <th>2018</th>\n",
       "      <th>2019</th>\n",
       "      <th>Total</th>\n",
       "    </tr>\n",
       "    <tr>\n",
       "      <th>type</th>\n",
       "      <th></th>\n",
       "      <th></th>\n",
       "      <th></th>\n",
       "      <th></th>\n",
       "      <th></th>\n",
       "    </tr>\n",
       "  </thead>\n",
       "  <tbody>\n",
       "    <tr>\n",
       "      <th>Routine - Unscheduled</th>\n",
       "      <td>966</td>\n",
       "      <td>4057</td>\n",
       "      <td>4373</td>\n",
       "      <td>4681</td>\n",
       "      <td>14077</td>\n",
       "    </tr>\n",
       "    <tr>\n",
       "      <th>Reinspection/Followup</th>\n",
       "      <td>445</td>\n",
       "      <td>1767</td>\n",
       "      <td>1935</td>\n",
       "      <td>2292</td>\n",
       "      <td>6439</td>\n",
       "    </tr>\n",
       "    <tr>\n",
       "      <th>New Ownership</th>\n",
       "      <td>99</td>\n",
       "      <td>506</td>\n",
       "      <td>528</td>\n",
       "      <td>459</td>\n",
       "      <td>1592</td>\n",
       "    </tr>\n",
       "    <tr>\n",
       "      <th>Complaint</th>\n",
       "      <td>91</td>\n",
       "      <td>418</td>\n",
       "      <td>512</td>\n",
       "      <td>437</td>\n",
       "      <td>1458</td>\n",
       "    </tr>\n",
       "    <tr>\n",
       "      <th>New Construction</th>\n",
       "      <td>102</td>\n",
       "      <td>485</td>\n",
       "      <td>218</td>\n",
       "      <td>189</td>\n",
       "      <td>994</td>\n",
       "    </tr>\n",
       "    <tr>\n",
       "      <th>Non-inspection site visit</th>\n",
       "      <td>51</td>\n",
       "      <td>276</td>\n",
       "      <td>253</td>\n",
       "      <td>231</td>\n",
       "      <td>811</td>\n",
       "    </tr>\n",
       "    <tr>\n",
       "      <th>New Ownership - Followup</th>\n",
       "      <td>0</td>\n",
       "      <td>45</td>\n",
       "      <td>219</td>\n",
       "      <td>235</td>\n",
       "      <td>499</td>\n",
       "    </tr>\n",
       "    <tr>\n",
       "      <th>Structural Inspection</th>\n",
       "      <td>1</td>\n",
       "      <td>153</td>\n",
       "      <td>50</td>\n",
       "      <td>190</td>\n",
       "      <td>394</td>\n",
       "    </tr>\n",
       "    <tr>\n",
       "      <th>Complaint Reinspection/Followup</th>\n",
       "      <td>19</td>\n",
       "      <td>68</td>\n",
       "      <td>70</td>\n",
       "      <td>70</td>\n",
       "      <td>227</td>\n",
       "    </tr>\n",
       "    <tr>\n",
       "      <th>Foodborne Illness Investigation</th>\n",
       "      <td>1</td>\n",
       "      <td>29</td>\n",
       "      <td>50</td>\n",
       "      <td>35</td>\n",
       "      <td>115</td>\n",
       "    </tr>\n",
       "    <tr>\n",
       "      <th>Routine - Scheduled</th>\n",
       "      <td>0</td>\n",
       "      <td>9</td>\n",
       "      <td>8</td>\n",
       "      <td>29</td>\n",
       "      <td>46</td>\n",
       "    </tr>\n",
       "    <tr>\n",
       "      <th>Administrative or Document Review</th>\n",
       "      <td>2</td>\n",
       "      <td>1</td>\n",
       "      <td>1</td>\n",
       "      <td>0</td>\n",
       "      <td>4</td>\n",
       "    </tr>\n",
       "    <tr>\n",
       "      <th>Multi-agency Investigation</th>\n",
       "      <td>0</td>\n",
       "      <td>0</td>\n",
       "      <td>1</td>\n",
       "      <td>2</td>\n",
       "      <td>3</td>\n",
       "    </tr>\n",
       "    <tr>\n",
       "      <th>Special Event</th>\n",
       "      <td>0</td>\n",
       "      <td>3</td>\n",
       "      <td>0</td>\n",
       "      <td>0</td>\n",
       "      <td>3</td>\n",
       "    </tr>\n",
       "    <tr>\n",
       "      <th>Community Health Assessment</th>\n",
       "      <td>1</td>\n",
       "      <td>0</td>\n",
       "      <td>0</td>\n",
       "      <td>0</td>\n",
       "      <td>1</td>\n",
       "    </tr>\n",
       "  </tbody>\n",
       "</table>\n",
       "</div>"
      ],
      "text/plain": [
       "year                               2016  2017  2018  2019  Total\n",
       "type                                                            \n",
       "Routine - Unscheduled               966  4057  4373  4681  14077\n",
       "Reinspection/Followup               445  1767  1935  2292   6439\n",
       "New Ownership                        99   506   528   459   1592\n",
       "Complaint                            91   418   512   437   1458\n",
       "New Construction                    102   485   218   189    994\n",
       "Non-inspection site visit            51   276   253   231    811\n",
       "New Ownership - Followup              0    45   219   235    499\n",
       "Structural Inspection                 1   153    50   190    394\n",
       "Complaint Reinspection/Followup      19    68    70    70    227\n",
       "Foodborne Illness Investigation       1    29    50    35    115\n",
       "Routine - Scheduled                   0     9     8    29     46\n",
       "Administrative or Document Review     2     1     1     0      4\n",
       "Multi-agency Investigation            0     0     1     2      3\n",
       "Special Event                         0     3     0     0      3\n",
       "Community Health Assessment           1     0     0     0      1"
      ]
     },
     "execution_count": 58,
     "metadata": {},
     "output_type": "execute_result"
    }
   ],
   "source": [
    "ins_pivot = ins.pivot_table(columns = \"year\", index = \"type\", aggfunc = len, fill_value = 0) # SOLUTION\n",
    "ins_pivot = ins_pivot[\"bid\"] # SOLUTION\n",
    "ins_pivot['Total'] = ins_pivot.sum(axis=1) # SOLUTION\n",
    "ins_pivot_sorted = ins_pivot.sort_values('Total', ascending=False) # SOLUTION\n",
    "ins_pivot_sorted"
   ]
  },
  {
   "cell_type": "code",
   "execution_count": 59,
   "metadata": {
    "deletable": false,
    "editable": false
   },
   "outputs": [
    {
     "data": {
      "text/html": [
       "\n",
       "    <p><strong>q4di</strong> passed!</p>\n",
       "    "
      ],
      "text/plain": [
       "q4di passed!"
      ]
     },
     "execution_count": 59,
     "metadata": {},
     "output_type": "execute_result"
    }
   ],
   "source": [
    "grader.check(\"q4di\")"
   ]
  },
  {
   "cell_type": "markdown",
   "metadata": {
    "deletable": false,
    "editable": false
   },
   "source": [
    "**Part 2**\n",
    "\n",
    "Based on the above analysis, which year appears to have had a lot of businesses in newly constructed buildings?\n",
    "<!--\n",
    "BEGIN QUESTION\n",
    "name: q4dii\n",
    "points: 2\n",
    "-->"
   ]
  },
  {
   "cell_type": "code",
   "execution_count": 60,
   "metadata": {},
   "outputs": [],
   "source": [
    "year_of_new_construction = 2017 # SOLUTION"
   ]
  },
  {
   "cell_type": "code",
   "execution_count": 61,
   "metadata": {
    "deletable": false,
    "editable": false
   },
   "outputs": [
    {
     "data": {
      "text/html": [
       "\n",
       "    <p><strong>q4dii</strong> passed!</p>\n",
       "    "
      ],
      "text/plain": [
       "q4dii passed!"
      ]
     },
     "execution_count": 61,
     "metadata": {},
     "output_type": "execute_result"
    }
   ],
   "source": [
    "grader.check(\"q4dii\")"
   ]
  },
  {
   "cell_type": "markdown",
   "metadata": {},
   "source": [
    "<br/><br/><br/>\n",
    "\n",
    "---\n",
    "\n",
    "## Question 4e\n",
    "\n",
    "Let's examine the inspection scores `ins['score']`\n",
    "\n"
   ]
  },
  {
   "cell_type": "code",
   "execution_count": 62,
   "metadata": {},
   "outputs": [
    {
     "data": {
      "text/plain": [
       "-1      12632\n",
       " 100     1993\n",
       " 96      1681\n",
       " 92      1260\n",
       " 94      1250\n",
       "Name: score, dtype: int64"
      ]
     },
     "execution_count": 62,
     "metadata": {},
     "output_type": "execute_result"
    }
   ],
   "source": [
    "ins['score'].value_counts().head()"
   ]
  },
  {
   "cell_type": "markdown",
   "metadata": {},
   "source": [
    "There are a large number of inspections with the `'score'` of `-1`.   These are probably missing values.  Let's see what type of inspections have scores and which do not. Create the following dataframe using steps similar to the previous question, and assign it to to the variable `ins_missing_score_pivot`.\n",
    "\n",
    "You should observe that inspection scores appear only to be assigned to `Routine - Unscheduled` inspections.\n",
    "\n",
    "\n",
    "<table border=\"1\" class=\"dataframe\">  <thead>    <tr style=\"text-align: right;\">      <th>Missing Score</th>      <th>False</th>      <th>True</th>      <th>Total</th>    </tr>    <tr>      <th>type</th>      <th></th>      <th></th>      <th></th>    </tr>  </thead>  <tbody>    <tr>      <th>Routine - Unscheduled</th>      <td>14031</td>      <td>46</td>      <td>14077</td>    </tr>    <tr>      <th>Reinspection/Followup</th>      <td>0</td>      <td>6439</td>      <td>6439</td>    </tr>    <tr>      <th>New Ownership</th>      <td>0</td>      <td>1592</td>      <td>1592</td>    </tr>    <tr>      <th>Complaint</th>      <td>0</td>      <td>1458</td>      <td>1458</td>    </tr>    <tr>      <th>New Construction</th>      <td>0</td>      <td>994</td>      <td>994</td>    </tr>    <tr>      <th>Non-inspection site visit</th>      <td>0</td>      <td>811</td>      <td>811</td>    </tr>    <tr>      <th>New Ownership - Followup</th>      <td>0</td>      <td>499</td>      <td>499</td>    </tr>    <tr>      <th>Structural Inspection</th>      <td>0</td>      <td>394</td>      <td>394</td>    </tr>    <tr>      <th>Complaint Reinspection/Followup</th>      <td>0</td>      <td>227</td>      <td>227</td>    </tr>    <tr>      <th>Foodborne Illness Investigation</th>      <td>0</td>      <td>115</td>      <td>115</td>    </tr>    <tr>      <th>Routine - Scheduled</th>      <td>0</td>      <td>46</td>      <td>46</td>    </tr>    <tr>      <th>Administrative or Document Review</th>      <td>0</td>      <td>4</td>      <td>4</td>    </tr>    <tr>      <th>Multi-agency Investigation</th>      <td>0</td>      <td>3</td>      <td>3</td>    </tr>    <tr>      <th>Special Event</th>      <td>0</td>      <td>3</td>      <td>3</td>    </tr>    <tr>      <th>Community Health Assessment</th>      <td>0</td>      <td>1</td>      <td>1</td>    </tr>  </tbody></table>\n",
    "\n"
   ]
  },
  {
   "cell_type": "code",
   "execution_count": 63,
   "metadata": {},
   "outputs": [
    {
     "data": {
      "text/html": [
       "<div>\n",
       "<style scoped>\n",
       "    .dataframe tbody tr th:only-of-type {\n",
       "        vertical-align: middle;\n",
       "    }\n",
       "\n",
       "    .dataframe tbody tr th {\n",
       "        vertical-align: top;\n",
       "    }\n",
       "\n",
       "    .dataframe thead th {\n",
       "        text-align: right;\n",
       "    }\n",
       "</style>\n",
       "<table border=\"1\" class=\"dataframe\">\n",
       "  <thead>\n",
       "    <tr style=\"text-align: right;\">\n",
       "      <th>Missing Score</th>\n",
       "      <th>False</th>\n",
       "      <th>True</th>\n",
       "      <th>Total</th>\n",
       "    </tr>\n",
       "    <tr>\n",
       "      <th>type</th>\n",
       "      <th></th>\n",
       "      <th></th>\n",
       "      <th></th>\n",
       "    </tr>\n",
       "  </thead>\n",
       "  <tbody>\n",
       "    <tr>\n",
       "      <th>Routine - Unscheduled</th>\n",
       "      <td>14031</td>\n",
       "      <td>46</td>\n",
       "      <td>14077</td>\n",
       "    </tr>\n",
       "    <tr>\n",
       "      <th>Reinspection/Followup</th>\n",
       "      <td>0</td>\n",
       "      <td>6439</td>\n",
       "      <td>6439</td>\n",
       "    </tr>\n",
       "    <tr>\n",
       "      <th>New Ownership</th>\n",
       "      <td>0</td>\n",
       "      <td>1592</td>\n",
       "      <td>1592</td>\n",
       "    </tr>\n",
       "    <tr>\n",
       "      <th>Complaint</th>\n",
       "      <td>0</td>\n",
       "      <td>1458</td>\n",
       "      <td>1458</td>\n",
       "    </tr>\n",
       "    <tr>\n",
       "      <th>New Construction</th>\n",
       "      <td>0</td>\n",
       "      <td>994</td>\n",
       "      <td>994</td>\n",
       "    </tr>\n",
       "    <tr>\n",
       "      <th>Non-inspection site visit</th>\n",
       "      <td>0</td>\n",
       "      <td>811</td>\n",
       "      <td>811</td>\n",
       "    </tr>\n",
       "    <tr>\n",
       "      <th>New Ownership - Followup</th>\n",
       "      <td>0</td>\n",
       "      <td>499</td>\n",
       "      <td>499</td>\n",
       "    </tr>\n",
       "    <tr>\n",
       "      <th>Structural Inspection</th>\n",
       "      <td>0</td>\n",
       "      <td>394</td>\n",
       "      <td>394</td>\n",
       "    </tr>\n",
       "    <tr>\n",
       "      <th>Complaint Reinspection/Followup</th>\n",
       "      <td>0</td>\n",
       "      <td>227</td>\n",
       "      <td>227</td>\n",
       "    </tr>\n",
       "    <tr>\n",
       "      <th>Foodborne Illness Investigation</th>\n",
       "      <td>0</td>\n",
       "      <td>115</td>\n",
       "      <td>115</td>\n",
       "    </tr>\n",
       "    <tr>\n",
       "      <th>Routine - Scheduled</th>\n",
       "      <td>0</td>\n",
       "      <td>46</td>\n",
       "      <td>46</td>\n",
       "    </tr>\n",
       "    <tr>\n",
       "      <th>Administrative or Document Review</th>\n",
       "      <td>0</td>\n",
       "      <td>4</td>\n",
       "      <td>4</td>\n",
       "    </tr>\n",
       "    <tr>\n",
       "      <th>Multi-agency Investigation</th>\n",
       "      <td>0</td>\n",
       "      <td>3</td>\n",
       "      <td>3</td>\n",
       "    </tr>\n",
       "    <tr>\n",
       "      <th>Special Event</th>\n",
       "      <td>0</td>\n",
       "      <td>3</td>\n",
       "      <td>3</td>\n",
       "    </tr>\n",
       "    <tr>\n",
       "      <th>Community Health Assessment</th>\n",
       "      <td>0</td>\n",
       "      <td>1</td>\n",
       "      <td>1</td>\n",
       "    </tr>\n",
       "  </tbody>\n",
       "</table>\n",
       "</div>"
      ],
      "text/plain": [
       "Missing Score                      False  True  Total\n",
       "type                                                 \n",
       "Routine - Unscheduled              14031    46  14077\n",
       "Reinspection/Followup                  0  6439   6439\n",
       "New Ownership                          0  1592   1592\n",
       "Complaint                              0  1458   1458\n",
       "New Construction                       0   994    994\n",
       "Non-inspection site visit              0   811    811\n",
       "New Ownership - Followup               0   499    499\n",
       "Structural Inspection                  0   394    394\n",
       "Complaint Reinspection/Followup        0   227    227\n",
       "Foodborne Illness Investigation        0   115    115\n",
       "Routine - Scheduled                    0    46     46\n",
       "Administrative or Document Review      0     4      4\n",
       "Multi-agency Investigation             0     3      3\n",
       "Special Event                          0     3      3\n",
       "Community Health Assessment            0     1      1"
      ]
     },
     "execution_count": 63,
     "metadata": {},
     "output_type": "execute_result"
    }
   ],
   "source": [
    "ins_missing_score_pivot = ...\n",
    "\n",
    "# BEGIN SOLUTION\n",
    "ins['Missing Score'] = (ins['score'] == -1).astype(\"str\")\n",
    "\n",
    "ins_missing_score_pivot = ins.pivot_table(\n",
    "    index = \"type\", \n",
    "    columns = \"Missing Score\",\n",
    "    aggfunc = 'size',\n",
    "    fill_value = 0\n",
    ")\n",
    "ins_missing_score_pivot['Total'] = ins_missing_score_pivot.sum(axis=1)\n",
    "ins_missing_score_pivot.sort_values('Total', inplace=True, ascending=False)\n",
    "ins_missing_score_pivot\n",
    "# END SOLUTION"
   ]
  },
  {
   "cell_type": "code",
   "execution_count": 64,
   "metadata": {
    "deletable": false,
    "editable": false
   },
   "outputs": [
    {
     "data": {
      "text/html": [
       "\n",
       "    <p><strong>q4e</strong> passed!</p>\n",
       "    "
      ],
      "text/plain": [
       "q4e passed!"
      ]
     },
     "execution_count": 64,
     "metadata": {},
     "output_type": "execute_result"
    }
   ],
   "source": [
    "grader.check(\"q4e\")"
   ]
  },
  {
   "cell_type": "markdown",
   "metadata": {},
   "source": [
    "Notice that inspection scores appear only to be assigned to `Routine - Unscheduled` inspections. It is reasonable that for inspection types such as `New Ownership` and `Complaint` to have no associated inspection scores, but we might be curious why there are no inspection scores for the `Reinspection/Followup` inspection type."
   ]
  },
  {
   "cell_type": "markdown",
   "metadata": {
    "nbgrader": {
     "grade": false,
     "grade_id": "business-data",
     "locked": true,
     "schema_version": 2,
     "solution": false
    }
   },
   "source": [
    "<br/><br/><br/>\n",
    "\n",
    "---\n",
    "\n",
    "<br/><br/><br/>\n",
    "\n",
    "# 5: Joining Data Across Tables\n",
    "\n",
    "In this question we will start to connect data across mulitple tables.  We will be using the `merge` function. "
   ]
  },
  {
   "cell_type": "markdown",
   "metadata": {},
   "source": [
    "<br/><br/><br/>\n",
    "\n",
    "--- \n",
    "\n",
    "## Question 5a\n",
    "\n",
    "Let's figure out which restaurants had the lowest scores. Before we proceed, let's filter out missing scores from `ins` so that negative scores don't influence our results."
   ]
  },
  {
   "cell_type": "code",
   "execution_count": 65,
   "metadata": {},
   "outputs": [],
   "source": [
    "ins = ins[ins[\"score\"] > 0]"
   ]
  },
  {
   "cell_type": "markdown",
   "metadata": {
    "deletable": false,
    "editable": false
   },
   "source": [
    "We'll start by creating a new dataframe called `ins_named`. It should be exactly the same as `ins`, except that it should have the name and address of every business, as determined by the `bus` dataframe. If a `business_id` in `ins` does not exist in `bus`, the name and address should be given as `NaN`. \n",
    "\n",
    "*Hint*: Use the merge method to join the `ins` dataframe with the appropriate portion of the `bus` dataframe. See the official [documentation](https://pandas.pydata.org/pandas-docs/stable/user_guide/merging.html) on how to use `merge`.\n",
    "\n",
    "*Note*: For quick reference, a pandas 'left' join keeps the keys from the left frame, so if `ins` is the left frame, all the keys from `ins` are kept and if a set of these keys don't have matches in the other frame, the columns from the other frame for these \"unmatched\" key rows contains NaNs.\n",
    "\n",
    "<!--\n",
    "BEGIN QUESTION\n",
    "name: q5a\n",
    "points: 2\n",
    "-->"
   ]
  },
  {
   "cell_type": "code",
   "execution_count": 66,
   "metadata": {},
   "outputs": [
    {
     "data": {
      "text/html": [
       "<div>\n",
       "<style scoped>\n",
       "    .dataframe tbody tr th:only-of-type {\n",
       "        vertical-align: middle;\n",
       "    }\n",
       "\n",
       "    .dataframe tbody tr th {\n",
       "        vertical-align: top;\n",
       "    }\n",
       "\n",
       "    .dataframe thead th {\n",
       "        text-align: right;\n",
       "    }\n",
       "</style>\n",
       "<table border=\"1\" class=\"dataframe\">\n",
       "  <thead>\n",
       "    <tr style=\"text-align: right;\">\n",
       "      <th></th>\n",
       "      <th>iid</th>\n",
       "      <th>date</th>\n",
       "      <th>score</th>\n",
       "      <th>type</th>\n",
       "      <th>bid</th>\n",
       "      <th>timestamp</th>\n",
       "      <th>year</th>\n",
       "      <th>Missing Score</th>\n",
       "      <th>name</th>\n",
       "      <th>address</th>\n",
       "    </tr>\n",
       "  </thead>\n",
       "  <tbody>\n",
       "    <tr>\n",
       "      <th>0</th>\n",
       "      <td>100010_20190403</td>\n",
       "      <td>04/03/2019 12:00:00 AM</td>\n",
       "      <td>100</td>\n",
       "      <td>Routine - Unscheduled</td>\n",
       "      <td>100010</td>\n",
       "      <td>2019-04-03</td>\n",
       "      <td>2019</td>\n",
       "      <td>False</td>\n",
       "      <td>ILLY CAFFE SF_PIER 39</td>\n",
       "      <td>PIER 39  K-106-B</td>\n",
       "    </tr>\n",
       "    <tr>\n",
       "      <th>1</th>\n",
       "      <td>100017_20190816</td>\n",
       "      <td>08/16/2019 12:00:00 AM</td>\n",
       "      <td>91</td>\n",
       "      <td>Routine - Unscheduled</td>\n",
       "      <td>100017</td>\n",
       "      <td>2019-08-16</td>\n",
       "      <td>2019</td>\n",
       "      <td>False</td>\n",
       "      <td>AMICI'S EAST COAST PIZZERIA</td>\n",
       "      <td>475 06th St</td>\n",
       "    </tr>\n",
       "    <tr>\n",
       "      <th>2</th>\n",
       "      <td>100041_20190520</td>\n",
       "      <td>05/20/2019 12:00:00 AM</td>\n",
       "      <td>83</td>\n",
       "      <td>Routine - Unscheduled</td>\n",
       "      <td>100041</td>\n",
       "      <td>2019-05-20</td>\n",
       "      <td>2019</td>\n",
       "      <td>False</td>\n",
       "      <td>UNCLE LEE CAFE</td>\n",
       "      <td>3608 BALBOA ST</td>\n",
       "    </tr>\n",
       "    <tr>\n",
       "      <th>3</th>\n",
       "      <td>100055_20190425</td>\n",
       "      <td>04/25/2019 12:00:00 AM</td>\n",
       "      <td>98</td>\n",
       "      <td>Routine - Unscheduled</td>\n",
       "      <td>100055</td>\n",
       "      <td>2019-04-25</td>\n",
       "      <td>2019</td>\n",
       "      <td>False</td>\n",
       "      <td>Twirl and Dip</td>\n",
       "      <td>335 Martin Luther King Jr. Dr</td>\n",
       "    </tr>\n",
       "    <tr>\n",
       "      <th>4</th>\n",
       "      <td>100055_20190912</td>\n",
       "      <td>09/12/2019 12:00:00 AM</td>\n",
       "      <td>82</td>\n",
       "      <td>Routine - Unscheduled</td>\n",
       "      <td>100055</td>\n",
       "      <td>2019-09-12</td>\n",
       "      <td>2019</td>\n",
       "      <td>False</td>\n",
       "      <td>Twirl and Dip</td>\n",
       "      <td>335 Martin Luther King Jr. Dr</td>\n",
       "    </tr>\n",
       "  </tbody>\n",
       "</table>\n",
       "</div>"
      ],
      "text/plain": [
       "               iid                    date  score                   type  \\\n",
       "0  100010_20190403  04/03/2019 12:00:00 AM    100  Routine - Unscheduled   \n",
       "1  100017_20190816  08/16/2019 12:00:00 AM     91  Routine - Unscheduled   \n",
       "2  100041_20190520  05/20/2019 12:00:00 AM     83  Routine - Unscheduled   \n",
       "3  100055_20190425  04/25/2019 12:00:00 AM     98  Routine - Unscheduled   \n",
       "4  100055_20190912  09/12/2019 12:00:00 AM     82  Routine - Unscheduled   \n",
       "\n",
       "      bid  timestamp  year Missing Score                         name  \\\n",
       "0  100010 2019-04-03  2019         False        ILLY CAFFE SF_PIER 39   \n",
       "1  100017 2019-08-16  2019         False  AMICI'S EAST COAST PIZZERIA   \n",
       "2  100041 2019-05-20  2019         False               UNCLE LEE CAFE   \n",
       "3  100055 2019-04-25  2019         False                Twirl and Dip   \n",
       "4  100055 2019-09-12  2019         False                Twirl and Dip   \n",
       "\n",
       "                         address  \n",
       "0               PIER 39  K-106-B  \n",
       "1                    475 06th St  \n",
       "2                 3608 BALBOA ST  \n",
       "3  335 Martin Luther King Jr. Dr  \n",
       "4  335 Martin Luther King Jr. Dr  "
      ]
     },
     "execution_count": 66,
     "metadata": {},
     "output_type": "execute_result"
    }
   ],
   "source": [
    "ins_named = ...\n",
    "# BEGIN SOLUTION\n",
    "ins_named = ins.merge(bus[[\"bid\", \"name\", \"address\"]], how=\"left\", on = \"bid\") \n",
    "# END SOLUTION\n",
    "ins_named.head()"
   ]
  },
  {
   "cell_type": "code",
   "execution_count": 67,
   "metadata": {
    "deletable": false,
    "editable": false
   },
   "outputs": [
    {
     "data": {
      "text/html": [
       "\n",
       "    <p><strong>q5a</strong> passed!</p>\n",
       "    "
      ],
      "text/plain": [
       "q5a passed!"
      ]
     },
     "execution_count": 67,
     "metadata": {},
     "output_type": "execute_result"
    }
   ],
   "source": [
    "grader.check(\"q5a\")"
   ]
  },
  {
   "cell_type": "markdown",
   "metadata": {
    "deletable": false,
    "editable": false
   },
   "source": [
    "<br/><br/><br/>\n",
    "\n",
    "--- \n",
    "\n",
    "## Question 5b\n",
    "\n",
    "Let's look at the 20 businesses with the lowest **median** score.  Order your results by the median score followed by the business id to break ties. The resulting table should look like:\n",
    "\n",
    "\n",
    "*Hint: You may find the `as_index` argument important*\n",
    "\n",
    "<table border=\"1\" class=\"dataframe\">  <thead>    <tr style=\"text-align: right;\">      <th></th>      <th>bid</th>      <th>name</th>      <th>median score</th>    </tr>  </thead>  <tbody>    <tr>      <th>3876</th>      <td>84590</td>      <td>Chaat Corner</td>      <td>54.0</td>    </tr>    <tr>      <th>4564</th>      <td>90622</td>      <td>Taqueria Lolita</td>      <td>57.0</td>    </tr>    <tr>      <th>4990</th>      <td>94351</td>      <td>VBowls LLC</td>      <td>58.0</td>    </tr>    <tr>      <th>2719</th>      <td>69282</td>      <td>New Jumbo Seafood Restaurant</td>      <td>60.5</td>    </tr>    <tr>      <th>222</th>      <td>1154</td>      <td>SUNFLOWER RESTAURANT</td>      <td>63.5</td>    </tr>    <tr>      <th>1991</th>      <td>39776</td>      <td>Duc Loi Supermarket</td>      <td>64.0</td>    </tr>    <tr>      <th>2734</th>      <td>69397</td>      <td>Minna SF Group LLC</td>      <td>64.0</td>    </tr>    <tr>      <th>3291</th>      <td>78328</td>      <td>Golden Wok</td>      <td>64.0</td>    </tr>    <tr>      <th>4870</th>      <td>93150</td>      <td>Chez Beesen</td>      <td>64.0</td>    </tr>    <tr>      <th>4911</th>      <td>93502</td>      <td>Smoky Man</td>      <td>64.0</td>    </tr>    <tr>      <th>5510</th>      <td>98995</td>      <td>Vallarta's Taco Bar</td>      <td>64.0</td>    </tr>    <tr>      <th>1457</th>      <td>10877</td>      <td>CHINA FIRST INC.</td>      <td>64.5</td>    </tr>    <tr>      <th>2890</th>      <td>71310</td>      <td>Golden King Vietnamese Restaurant</td>      <td>64.5</td>    </tr>    <tr>      <th>4352</th>      <td>89070</td>      <td>Lafayette Coffee Shop</td>      <td>64.5</td>    </tr>    <tr>      <th>505</th>      <td>2542</td>      <td>PETER D'S RESTAURANT</td>      <td>65.0</td>    </tr>    <tr>      <th>2874</th>      <td>71008</td>      <td>House of Pancakes</td>      <td>65.0</td>    </tr>    <tr>      <th>818</th>      <td>3862</td>      <td>IMPERIAL GARDEN SEAFOOD RESTAURANT</td>      <td>66.0</td>    </tr>    <tr>      <th>2141</th>      <td>61427</td>      <td>Nick's Foods</td>      <td>66.0</td>    </tr>    <tr>      <th>2954</th>      <td>72176</td>      <td>Wolfes Lunch</td>      <td>66.0</td>    </tr>    <tr>      <th>4367</th>      <td>89141</td>      <td>Cha Cha Cha on Mission</td>      <td>66.5</td>    </tr>  </tbody></table>\n",
    "\n",
    "\n",
    "<!--\n",
    "BEGIN QUESTION\n",
    "name: q5b\n",
    "points: 3\n",
    "-->"
   ]
  },
  {
   "cell_type": "code",
   "execution_count": 68,
   "metadata": {},
   "outputs": [
    {
     "data": {
      "text/html": [
       "<div>\n",
       "<style scoped>\n",
       "    .dataframe tbody tr th:only-of-type {\n",
       "        vertical-align: middle;\n",
       "    }\n",
       "\n",
       "    .dataframe tbody tr th {\n",
       "        vertical-align: top;\n",
       "    }\n",
       "\n",
       "    .dataframe thead th {\n",
       "        text-align: right;\n",
       "    }\n",
       "</style>\n",
       "<table border=\"1\" class=\"dataframe\">\n",
       "  <thead>\n",
       "    <tr style=\"text-align: right;\">\n",
       "      <th></th>\n",
       "      <th>bid</th>\n",
       "      <th>name</th>\n",
       "      <th>median score</th>\n",
       "    </tr>\n",
       "  </thead>\n",
       "  <tbody>\n",
       "    <tr>\n",
       "      <th>3876</th>\n",
       "      <td>84590</td>\n",
       "      <td>Chaat Corner</td>\n",
       "      <td>54.0</td>\n",
       "    </tr>\n",
       "    <tr>\n",
       "      <th>4564</th>\n",
       "      <td>90622</td>\n",
       "      <td>Taqueria Lolita</td>\n",
       "      <td>57.0</td>\n",
       "    </tr>\n",
       "    <tr>\n",
       "      <th>4990</th>\n",
       "      <td>94351</td>\n",
       "      <td>VBowls LLC</td>\n",
       "      <td>58.0</td>\n",
       "    </tr>\n",
       "    <tr>\n",
       "      <th>2719</th>\n",
       "      <td>69282</td>\n",
       "      <td>New Jumbo Seafood Restaurant</td>\n",
       "      <td>60.5</td>\n",
       "    </tr>\n",
       "    <tr>\n",
       "      <th>222</th>\n",
       "      <td>1154</td>\n",
       "      <td>SUNFLOWER RESTAURANT</td>\n",
       "      <td>63.5</td>\n",
       "    </tr>\n",
       "    <tr>\n",
       "      <th>1991</th>\n",
       "      <td>39776</td>\n",
       "      <td>Duc Loi Supermarket</td>\n",
       "      <td>64.0</td>\n",
       "    </tr>\n",
       "    <tr>\n",
       "      <th>2734</th>\n",
       "      <td>69397</td>\n",
       "      <td>Minna SF Group LLC</td>\n",
       "      <td>64.0</td>\n",
       "    </tr>\n",
       "    <tr>\n",
       "      <th>3291</th>\n",
       "      <td>78328</td>\n",
       "      <td>Golden Wok</td>\n",
       "      <td>64.0</td>\n",
       "    </tr>\n",
       "    <tr>\n",
       "      <th>4870</th>\n",
       "      <td>93150</td>\n",
       "      <td>Chez Beesen</td>\n",
       "      <td>64.0</td>\n",
       "    </tr>\n",
       "    <tr>\n",
       "      <th>4911</th>\n",
       "      <td>93502</td>\n",
       "      <td>Smoky Man</td>\n",
       "      <td>64.0</td>\n",
       "    </tr>\n",
       "    <tr>\n",
       "      <th>5510</th>\n",
       "      <td>98995</td>\n",
       "      <td>Vallarta's Taco Bar</td>\n",
       "      <td>64.0</td>\n",
       "    </tr>\n",
       "    <tr>\n",
       "      <th>1457</th>\n",
       "      <td>10877</td>\n",
       "      <td>CHINA FIRST INC.</td>\n",
       "      <td>64.5</td>\n",
       "    </tr>\n",
       "    <tr>\n",
       "      <th>2890</th>\n",
       "      <td>71310</td>\n",
       "      <td>Golden King Vietnamese Restaurant</td>\n",
       "      <td>64.5</td>\n",
       "    </tr>\n",
       "    <tr>\n",
       "      <th>4352</th>\n",
       "      <td>89070</td>\n",
       "      <td>Lafayette Coffee Shop</td>\n",
       "      <td>64.5</td>\n",
       "    </tr>\n",
       "    <tr>\n",
       "      <th>505</th>\n",
       "      <td>2542</td>\n",
       "      <td>PETER D'S RESTAURANT</td>\n",
       "      <td>65.0</td>\n",
       "    </tr>\n",
       "    <tr>\n",
       "      <th>2874</th>\n",
       "      <td>71008</td>\n",
       "      <td>House of Pancakes</td>\n",
       "      <td>65.0</td>\n",
       "    </tr>\n",
       "    <tr>\n",
       "      <th>818</th>\n",
       "      <td>3862</td>\n",
       "      <td>IMPERIAL GARDEN SEAFOOD RESTAURANT</td>\n",
       "      <td>66.0</td>\n",
       "    </tr>\n",
       "    <tr>\n",
       "      <th>2141</th>\n",
       "      <td>61427</td>\n",
       "      <td>Nick's Foods</td>\n",
       "      <td>66.0</td>\n",
       "    </tr>\n",
       "    <tr>\n",
       "      <th>2954</th>\n",
       "      <td>72176</td>\n",
       "      <td>Wolfes Lunch</td>\n",
       "      <td>66.0</td>\n",
       "    </tr>\n",
       "    <tr>\n",
       "      <th>4367</th>\n",
       "      <td>89141</td>\n",
       "      <td>Cha Cha Cha on Mission</td>\n",
       "      <td>66.5</td>\n",
       "    </tr>\n",
       "  </tbody>\n",
       "</table>\n",
       "</div>"
      ],
      "text/plain": [
       "        bid                                name  median score\n",
       "3876  84590                        Chaat Corner          54.0\n",
       "4564  90622                     Taqueria Lolita          57.0\n",
       "4990  94351                          VBowls LLC          58.0\n",
       "2719  69282        New Jumbo Seafood Restaurant          60.5\n",
       "222    1154                SUNFLOWER RESTAURANT          63.5\n",
       "1991  39776                 Duc Loi Supermarket          64.0\n",
       "2734  69397                  Minna SF Group LLC          64.0\n",
       "3291  78328                          Golden Wok          64.0\n",
       "4870  93150                         Chez Beesen          64.0\n",
       "4911  93502                           Smoky Man          64.0\n",
       "5510  98995                 Vallarta's Taco Bar          64.0\n",
       "1457  10877                    CHINA FIRST INC.          64.5\n",
       "2890  71310   Golden King Vietnamese Restaurant          64.5\n",
       "4352  89070               Lafayette Coffee Shop          64.5\n",
       "505    2542                PETER D'S RESTAURANT          65.0\n",
       "2874  71008                   House of Pancakes          65.0\n",
       "818    3862  IMPERIAL GARDEN SEAFOOD RESTAURANT          66.0\n",
       "2141  61427                        Nick's Foods          66.0\n",
       "2954  72176                        Wolfes Lunch          66.0\n",
       "4367  89141              Cha Cha Cha on Mission          66.5"
      ]
     },
     "execution_count": 68,
     "metadata": {},
     "output_type": "execute_result"
    }
   ],
   "source": [
    "twenty_lowest_scoring = ... \n",
    "# BEGIN SOLUTION\n",
    "twenty_lowest_scoring = (\n",
    "    ins_named.groupby('bid', as_index=False)\n",
    "        .aggregate({'name': 'first', 'score': 'median'})\n",
    "        .sort_values(['score', 'bid'] )\n",
    "        .rename(columns={'score': 'median score'})\n",
    "        .head(20)\n",
    ")\n",
    "# END SOLUTION\n",
    "\n",
    "twenty_lowest_scoring"
   ]
  },
  {
   "cell_type": "code",
   "execution_count": 69,
   "metadata": {
    "deletable": false,
    "editable": false
   },
   "outputs": [
    {
     "data": {
      "text/html": [
       "\n",
       "    <p><strong>q5b</strong> passed!</p>\n",
       "    "
      ],
      "text/plain": [
       "q5b passed!"
      ]
     },
     "execution_count": 69,
     "metadata": {},
     "output_type": "execute_result"
    }
   ],
   "source": [
    "grader.check(\"q5b\")"
   ]
  },
  {
   "cell_type": "markdown",
   "metadata": {
    "deletable": false,
    "editable": false
   },
   "source": [
    "<br/><br/><br/>\n",
    "\n",
    "--- \n",
    "\n",
    "## Question 5c\n",
    "\n",
    "Let's now examine the descriptions of violations for inspections with `score > 0` and `score < 65`.  Construct a **Series** indexed by the `description` of the violation from the `vio` table with the value being the number of times that violation occured for inspections with the above score range.  Sort the results in descending order of the count.\n",
    "\n",
    "The first few entries should look like:\n",
    "\n",
    "```\n",
    "Unclean or unsanitary food contact surfaces                                  43\n",
    "High risk food holding temperature                                           42\n",
    "Unclean or degraded floors walls or ceilings                                 40\n",
    "Unapproved or unmaintained equipment or utensils                             39\n",
    "```\n",
    "You will need to use `merge` twice.\n",
    "\n",
    "<!--\n",
    "BEGIN QUESTION\n",
    "name: q5c\n",
    "points: 2\n",
    "-->"
   ]
  },
  {
   "cell_type": "code",
   "execution_count": 70,
   "metadata": {},
   "outputs": [
    {
     "data": {
      "text/plain": [
       "Unclean or unsanitary food contact surfaces                                  43\n",
       "High risk food holding temperature                                           42\n",
       "Unclean or degraded floors walls or ceilings                                 40\n",
       "Unapproved or unmaintained equipment or utensils                             39\n",
       "Foods not protected from contamination                                       37\n",
       "High risk vermin infestation                                                 37\n",
       "Inadequate and inaccessible handwashing facilities                           35\n",
       "Inadequate food safety knowledge or lack of certified food safety manager    35\n",
       "Improper thawing methods                                                     30\n",
       "Unclean hands or improper use of gloves                                      27\n",
       "Improper cooling methods                                                     25\n",
       "Unclean nonfood contact surfaces                                             21\n",
       "Inadequately cleaned or sanitized food contact surfaces                      20\n",
       "Improper food storage                                                        20\n",
       "Contaminated or adulterated food                                             18\n",
       "Moderate risk vermin infestation                                             15\n",
       "Moderate risk food holding temperature                                       13\n",
       "Permit license or inspection report not posted                               13\n",
       "Food safety certificate or food handler card not available                   12\n",
       "Improper storage use or identification of toxic substances                   10\n",
       "Name: description, dtype: int64"
      ]
     },
     "execution_count": 70,
     "metadata": {},
     "output_type": "execute_result"
    }
   ],
   "source": [
    "low_score_violations = ...\n",
    "\n",
    "# BEGIN SOLUTION\n",
    "low_score_violations = (\n",
    "    ins_named[ins_named['score'] < 65]\n",
    "        .merge(ins2vio, on='iid')\n",
    "        .merge(vio, on='vid')\n",
    "        .loc[:,'description']\n",
    "        .value_counts()\n",
    "        .sort_values(ascending=False)\n",
    ")\n",
    "# END SOLUTION\n",
    "\n",
    "low_score_violations.head(20)"
   ]
  },
  {
   "cell_type": "code",
   "execution_count": 71,
   "metadata": {
    "deletable": false,
    "editable": false
   },
   "outputs": [
    {
     "data": {
      "text/html": [
       "\n",
       "    <p><strong>q5c</strong> passed!</p>\n",
       "    "
      ],
      "text/plain": [
       "q5c passed!"
      ]
     },
     "execution_count": 71,
     "metadata": {},
     "output_type": "execute_result"
    }
   ],
   "source": [
    "grader.check(\"q5c\")"
   ]
  },
  {
   "cell_type": "markdown",
   "metadata": {},
   "source": [
    "### Question 5d\n",
    "Let's figure out which restaurant had the worst scores ever (single lowest score). "
   ]
  },
  {
   "cell_type": "code",
   "execution_count": 72,
   "metadata": {},
   "outputs": [
    {
     "data": {
      "text/plain": [
       "'Lollipot'"
      ]
     },
     "execution_count": 72,
     "metadata": {},
     "output_type": "execute_result"
    }
   ],
   "source": [
    "worst_restaurant = ...\n",
    "# BEGIN SOLUTION NO PROMPT\n",
    "worst_restaurant = ins_named.sort_values('score', ascending=False).tail(1)['name'].iloc[0]\n",
    "# END SOLUTION\n",
    "worst_restaurant"
   ]
  },
  {
   "cell_type": "markdown",
   "metadata": {
    "deletable": false,
    "editable": false
   },
   "source": [
    "<!-- BEGIN QUESTION -->\n",
    "\n",
    "**In the cell below, write the name of the restaurant** with the lowest inspection scores ever. You can also head to yelp.com and look up the reviews page for this restaurant. Feel free to add anything interesting you want to share.\n",
    "\n",
    "<!--\n",
    "BEGIN QUESTION\n",
    "name: q5d\n",
    "points: 2\n",
    "manual: True\n",
    "-->"
   ]
  },
  {
   "cell_type": "markdown",
   "metadata": {},
   "source": [
    "_Type your answer here, replacing this text._"
   ]
  },
  {
   "cell_type": "markdown",
   "metadata": {},
   "source": [
    "**SOLUTION:**\n",
    "\n",
    "The restaurant with the worst score is Lollipot.\n",
    "\n",
    "Just for fun you can also look up the restaurants with the best scores."
   ]
  },
  {
   "cell_type": "markdown",
   "metadata": {},
   "source": [
    "<!-- END QUESTION -->\n",
    "\n",
    "\n",
    "\n",
    "<br/><br/><br/><br/>\n",
    "\n",
    "---\n",
    "\n",
    "<br/><br/>\n",
    "\n",
    "## 6: Explore Inspection Scores\n",
    "\n",
    "In this part we explore some of the basic inspection score values visually."
   ]
  },
  {
   "cell_type": "markdown",
   "metadata": {
    "collapsed": true,
    "deletable": false,
    "editable": false,
    "jupyter": {
     "outputs_hidden": true
    }
   },
   "source": [
    "<!-- BEGIN QUESTION -->\n",
    "\n",
    "<br/><br/><br/>\n",
    "\n",
    "---\n",
    "\n",
    "\n",
    "## Question 6a\n",
    "Let's look at the distribution of inspection scores. As we saw before when we called head on this data frame, inspection scores appear to be integer values. The discreteness of this variable means that we can use a barplot to visualize the distribution of the inspection score. Make a bar plot of the counts of the number of inspections receiving each score.\n",
    "\n",
    "It should look like the image below. It does not need to look exactly the same (e.g., no grid), but make sure that all labels and axes are correct.\n",
    "\n",
    "![](pics/6a.png)\n",
    "\n",
    "You might find this [matplotlib.pyplot tutorial](https://matplotlib.org/tutorials/introductory/pyplot.html) useful. Key syntax that you'll need:\n",
    "\n",
    "```\n",
    "plt.bar\n",
    "plt.xlabel\n",
    "plt.ylabel\n",
    "plt.title\n",
    "```\n",
    "\n",
    "*Note*: If you want to use another plotting library for your plots (e.g. plotly, sns) you are welcome to use that library instead so long as it works on DataHub. If you use seaborn sns.countplot(), you may need to manually set what to display on xticks.\n",
    "\n",
    "\n",
    "<!--\n",
    "BEGIN QUESTION\n",
    "name: q6a\n",
    "points: 1\n",
    "manual: True\n",
    "-->"
   ]
  },
  {
   "cell_type": "code",
   "execution_count": 73,
   "metadata": {
    "scrolled": false
   },
   "outputs": [
    {
     "data": {
      "image/png": "[encoded data removed]",
      "text/plain": [
       "<Figure size 432x288 with 1 Axes>"
      ]
     },
     "metadata": {},
     "output_type": "display_data"
    }
   ],
   "source": [
    "# BEGIN SOLUTION\n",
    "score_counts = ins.loc[ins[\"score\"] > 0, 'score'].value_counts()\n",
    "plt.bar(score_counts.keys(), score_counts, edgecolor='black')\n",
    "plt.xlabel(\"Score\")\n",
    "plt.ylabel(\"Count\")\n",
    "plt.title(\"Distribution of Inspection Scores\");\n",
    "# END SOLUTION"
   ]
  },
  {
   "cell_type": "markdown",
   "metadata": {
    "deletable": false,
    "editable": false
   },
   "source": [
    "<!-- END QUESTION -->"
   ]
  },
  {
   "cell_type": "code",
   "execution_count": 74,
   "metadata": {},
   "outputs": [
    {
     "data": {
      "text/plain": [
       "100    1993\n",
       "96     1681\n",
       "92     1260\n",
       "94     1250\n",
       "90     1085\n",
       "98     1080\n",
       "88      659\n",
       "86      516\n",
       "87      513\n",
       "85      453\n",
       "89      395\n",
       "83      367\n",
       "81      286\n",
       "93      277\n",
       "84      276\n",
       "91      268\n",
       "82      240\n",
       "80      197\n",
       "79      178\n",
       "78      149\n",
       "77      128\n",
       "75      120\n",
       "76      111\n",
       "74      101\n",
       "72       77\n",
       "73       69\n",
       "71       63\n",
       "70       48\n",
       "68       29\n",
       "69       28\n",
       "65       25\n",
       "67       24\n",
       "66       16\n",
       "64       15\n",
       "63       11\n",
       "62       10\n",
       "60        7\n",
       "61        5\n",
       "59        5\n",
       "58        4\n",
       "57        4\n",
       "55        3\n",
       "54        1\n",
       "46        1\n",
       "45        1\n",
       "51        1\n",
       "48        1\n",
       "Name: score, dtype: int64"
      ]
     },
     "execution_count": 74,
     "metadata": {},
     "output_type": "execute_result"
    }
   ],
   "source": [
    "score_counts"
   ]
  },
  {
   "cell_type": "markdown",
   "metadata": {
    "deletable": false,
    "editable": false
   },
   "source": [
    "<!-- BEGIN QUESTION -->\n",
    "\n",
    "<br/><br/><br/>\n",
    "\n",
    "---\n",
    "\n",
    "### Question 6b\n",
    "Describe the qualities of the distribution of the inspections scores based on your bar plot. Consider the mode(s), symmetry, tails, gaps, and anomalous values. Are there any unusual features of this distribution? What do your observations imply about the scores?\n",
    "\n",
    "<!--\n",
    "BEGIN QUESTION\n",
    "name: q6b\n",
    "points: 2\n",
    "manual: True\n",
    "-->"
   ]
  },
  {
   "cell_type": "markdown",
   "metadata": {},
   "source": [
    "_Type your answer here, replacing this text._"
   ]
  },
  {
   "cell_type": "markdown",
   "metadata": {},
   "source": [
    "**SOLUTION**:\n",
    "\n",
    "The distribution is unimodal with a peak at 100. It is skewed left (as expected with a variable bounded on the right). The distribution has a long left tail with some restaurants receiving scores that are in the 50s, 60s, and 70s. One unusual feature of the distribution is the bumpiness with even numbers having higher counts than odd. This may be because the violations result in penalties of 2, 4, 10, etc. points."
   ]
  },
  {
   "cell_type": "markdown",
   "metadata": {
    "deletable": false,
    "editable": false
   },
   "source": [
    "<!-- END QUESTION -->"
   ]
  },
  {
   "cell_type": "code",
   "execution_count": 75,
   "metadata": {},
   "outputs": [],
   "source": [
    "# THIS CELL AND ANY CELLS ADDED BELOW WILL NOT BE GRADED"
   ]
  },
  {
   "cell_type": "markdown",
   "metadata": {},
   "source": [
    "## Congratulations! You have finished Homework 2! \n",
    "## Please remember to submit the homework before Tuesday, February 16, 11:59 PM"
   ]
  },
  {
   "cell_type": "markdown",
   "metadata": {
    "deletable": false,
    "editable": false
   },
   "source": [
    "---\n",
    "\n",
    "To double-check your work, the cell below will rerun all of the autograder tests."
   ]
  },
  {
   "cell_type": "code",
   "execution_count": 76,
   "metadata": {
    "deletable": false,
    "editable": false
   },
   "outputs": [
    {
     "data": {
      "text/html": [
       "\n",
       "    <p><strong>q1a</strong> passed!</p>\n",
       "    \n",
       "\n",
       "\n",
       "    <p><strong>q1d</strong> passed!</p>\n",
       "    \n",
       "\n",
       "\n",
       "    <p><strong>q2a</strong> passed!</p>\n",
       "    \n",
       "\n",
       "\n",
       "    <p><strong>q2b</strong> passed!</p>\n",
       "    \n",
       "\n",
       "\n",
       "    <p><strong>q2ci</strong> passed!</p>\n",
       "    \n",
       "\n",
       "\n",
       "    <p><strong>q2cii</strong> passed!</p>\n",
       "    \n",
       "\n",
       "\n",
       "    <p><strong>q3a</strong> passed!</p>\n",
       "    \n",
       "\n",
       "\n",
       "    <p><strong>q3b</strong> passed!</p>\n",
       "    \n",
       "\n",
       "\n",
       "    <p><strong>q3ci</strong> passed!</p>\n",
       "    \n",
       "\n",
       "\n",
       "    <p><strong>q3cii</strong> passed!</p>\n",
       "    \n",
       "\n",
       "\n",
       "    <p><strong>q3d</strong> passed!</p>\n",
       "    \n",
       "\n",
       "\n",
       "    <p><strong>q3e</strong> passed!</p>\n",
       "    \n",
       "\n",
       "\n",
       "    <p><strong>q3f</strong> passed!</p>\n",
       "    \n",
       "\n",
       "\n",
       "    <p><strong>q4a</strong> passed!</p>\n",
       "    \n",
       "\n",
       "\n",
       "    <p><strong>q4bi</strong> passed!</p>\n",
       "    \n",
       "\n",
       "\n",
       "    <p><strong>q4bii</strong> passed!</p>\n",
       "    \n",
       "\n",
       "\n",
       "    <p><strong>q4biii</strong> passed!</p>\n",
       "    \n",
       "\n",
       "\n",
       "    <p><strong>q4ci</strong> passed!</p>\n",
       "    \n",
       "\n",
       "\n",
       "    <p><strong>q4cii</strong> passed!</p>\n",
       "    \n",
       "\n",
       "\n",
       "    <p><strong>q4ciii</strong> passed!</p>\n",
       "    \n",
       "\n",
       "\n",
       "    <p><strong>q4civ</strong> passed!</p>\n",
       "    \n",
       "\n",
       "\n",
       "    <p><strong>q4di</strong> passed!</p>\n",
       "    \n",
       "\n",
       "\n",
       "    <p><strong>q4dii</strong> passed!</p>\n",
       "    \n",
       "\n",
       "\n",
       "    <p><strong>q4e</strong> passed!</p>\n",
       "    \n",
       "\n",
       "\n",
       "    <p><strong>q5a</strong> passed!</p>\n",
       "    \n",
       "\n",
       "\n",
       "    <p><strong>q5b</strong> passed!</p>\n",
       "    \n",
       "\n",
       "\n",
       "    <p><strong>q5c</strong> passed!</p>\n",
       "    \n",
       "\n"
      ],
      "text/plain": [
       "q1a passed!\n",
       "\n",
       "q1d passed!\n",
       "\n",
       "q2a passed!\n",
       "\n",
       "q2b passed!\n",
       "\n",
       "q2ci passed!\n",
       "\n",
       "q2cii passed!\n",
       "\n",
       "q3a passed!\n",
       "\n",
       "q3b passed!\n",
       "\n",
       "q3ci passed!\n",
       "\n",
       "q3cii passed!\n",
       "\n",
       "q3d passed!\n",
       "\n",
       "q3e passed!\n",
       "\n",
       "q3f passed!\n",
       "\n",
       "q4a passed!\n",
       "\n",
       "q4bi passed!\n",
       "\n",
       "q4bii passed!\n",
       "\n",
       "q4biii passed!\n",
       "\n",
       "q4ci passed!\n",
       "\n",
       "q4cii passed!\n",
       "\n",
       "q4ciii passed!\n",
       "\n",
       "q4civ passed!\n",
       "\n",
       "q4di passed!\n",
       "\n",
       "q4dii passed!\n",
       "\n",
       "q4e passed!\n",
       "\n",
       "q5a passed!\n",
       "\n",
       "q5b passed!\n",
       "\n",
       "q5c passed!\n"
      ]
     },
     "execution_count": 76,
     "metadata": {},
     "output_type": "execute_result"
    }
   ],
   "source": [
    "grader.check_all()"
   ]
  },
  {
   "cell_type": "markdown",
   "metadata": {
    "deletable": false,
    "editable": false
   },
   "source": [
    "## Submission\n",
    "\n",
    "Make sure you have run all cells in your notebook in order before running the cell below, so that all images/graphs appear in the output. The cell below will generate a zip file for you to submit. **Please save before exporting!**"
   ]
  },
  {
   "cell_type": "code",
   "execution_count": 77,
   "metadata": {
    "deletable": false,
    "editable": false
   },
   "outputs": [
    {
     "data": {
      "application/javascript": [
       "Jupyter.notebook.save_checkpoint();"
      ],
      "text/plain": [
       "<IPython.core.display.Javascript object>"
      ]
     },
     "metadata": {},
     "output_type": "display_data"
    },
    {
     "data": {
      "text/html": [
       "\n",
       "                <p>Your submission has been exported. Click <a href=\"hw2.zip\" target=\"_blank\">here</a>\n",
       "                to download the zip file.</p>\n",
       "                "
      ],
      "text/plain": [
       "<IPython.core.display.HTML object>"
      ]
     },
     "metadata": {},
     "output_type": "display_data"
    }
   ],
   "source": [
    "# Save your notebook first, then run this cell to export your submission.\n",
    "grader.export()"
   ]
  },
  {
   "cell_type": "markdown",
   "metadata": {},
   "source": [
    " "
   ]
  }
 ],
 "metadata": {
  "celltoolbar": "Create Assignment",
  "history": [
   {
    "code": "import numpy as np\nimport pandas as pd\n\nimport matplotlib\nimport matplotlib.pyplot as plt\nimport seaborn as sns\nsns.set()\nplt.style.use('fivethirtyeight')\n\nimport zipfile\nimport os # Used to interact with the file system",
    "id": "34c355799a0d4d1f82f25f8dc0b960f3",
    "idx": 5,
    "time": "2021-02-06T02:01:20.300Z",
    "type": "execution"
   },
   {
    "id": "34c355799a0d4d1f82f25f8dc0b960f3",
    "time": "2021-02-06T02:01:21.574Z",
    "type": "completion"
   },
   {
    "code": "from pathlib import Path\ndata_dir = Path('.')\ndata_dir.mkdir(exist_ok = True)\nfile_path = data_dir / Path('data.zip')\ndest_path = file_path",
    "id": "9d54ae787071465aa5e558f1dd653889",
    "idx": 8,
    "time": "2021-02-06T02:01:56.605Z",
    "type": "execution"
   },
   {
    "id": "9d54ae787071465aa5e558f1dd653889",
    "time": "2021-02-06T02:01:56.711Z",
    "type": "completion"
   },
   {
    "code": "!ls ",
    "id": "3aa023f3a8454a7fa99b11ca051539e3",
    "idx": 10,
    "time": "2021-02-06T02:02:01.539Z",
    "type": "execution"
   },
   {
    "id": "3aa023f3a8454a7fa99b11ca051539e3",
    "time": "2021-02-06T02:02:02.366Z",
    "type": "completion"
   },
   {
    "code": "my_zip = zipfile.ZipFile(dest_path, 'r') # SOLUTION\nlist_names = [f.filename for f in my_zip.filelist] # SOLUTION\nlist_names",
    "id": "03be475ad8e8481487be5f1c5a195e6b",
    "idx": 13,
    "time": "2021-02-06T02:03:07.986Z",
    "type": "execution"
   },
   {
    "id": "03be475ad8e8481487be5f1c5a195e6b",
    "time": "2021-02-06T02:03:08.154Z",
    "type": "completion"
   },
   {
    "code": "# TEST\nisinstance(my_zip, zipfile.ZipFile)",
    "id": "e95d6c76ace54b4c8ba6d60b79a1bc60",
    "idx": 14,
    "time": "2021-02-06T02:03:22.103Z",
    "type": "execution"
   },
   {
    "id": "e95d6c76ace54b4c8ba6d60b79a1bc60",
    "time": "2021-02-06T02:03:22.222Z",
    "type": "completion"
   },
   {
    "code": "# TEST\nisinstance(list_names, list)",
    "id": "4d39d69e129643db8435f089df604411",
    "idx": 15,
    "time": "2021-02-06T02:03:23.872Z",
    "type": "execution"
   },
   {
    "id": "4d39d69e129643db8435f089df604411",
    "time": "2021-02-06T02:03:24.005Z",
    "type": "completion"
   },
   {
    "code": "# TEST\nall([isinstance(file, str) for file in list_names]) ",
    "id": "748eb75a4f67423e9a3b4117c345244b",
    "idx": 16,
    "time": "2021-02-06T02:03:29.602Z",
    "type": "execution"
   },
   {
    "id": "748eb75a4f67423e9a3b4117c345244b",
    "time": "2021-02-06T02:03:29.720Z",
    "type": "completion"
   },
   {
    "code": "# HIDDEN TEST\nanswer = set(['data/',\n 'data/bus.csv',\n 'data/ins.csv',\n 'data/ins2vio.csv',\n 'data/vio.csv',\n 'data/sf_zipcodes.json',\n 'data/legend.csv'])\nlen(answer - set(list_names)) == 0 # Check that all the file names match",
    "id": "2b0d6d9fc2044ac085dee7d4b8a716b9",
    "idx": 17,
    "time": "2021-02-06T02:03:34.450Z",
    "type": "execution"
   },
   {
    "id": "2b0d6d9fc2044ac085dee7d4b8a716b9",
    "time": "2021-02-06T02:03:34.602Z",
    "type": "completion"
   },
   {
    "code": "# BEGIN SOLUTION\nmy_zip = zipfile.ZipFile(dest_path, 'r')\nfor file in my_zip.filelist:\n    print('{}\\t{}'.format(file.filename, file.file_size))\n# END SOLUTION",
    "id": "3355f4924ece4295abf44c33ac4b156a",
    "idx": 20,
    "time": "2021-02-06T02:04:47.647Z",
    "type": "execution"
   },
   {
    "id": "3355f4924ece4295abf44c33ac4b156a",
    "time": "2021-02-06T02:04:47.822Z",
    "type": "completion"
   },
   {
    "code": "data_dir = Path('.')\nmy_zip.extractall(data_dir)\n!ls {data_dir / Path(\"data\")}",
    "id": "4917e8e501f145898abecb91f51f7e4f",
    "idx": 22,
    "time": "2021-02-06T02:05:17.201Z",
    "type": "execution"
   },
   {
    "id": "4917e8e501f145898abecb91f51f7e4f",
    "time": "2021-02-06T02:05:18.213Z",
    "type": "completion"
   },
   {
    "code": "import ds100_utils\n# BEGIN SOLUTION\ndata_dir = \"./\"\nfor f in list_names:\n    if not os.path.isdir(f):\n        print(ds100_utils.head(data_dir + f, 5), \"\\n\")\n# END SOLUTION",
    "id": "9132572d784d45188c3989004c2794fd",
    "idx": 25,
    "time": "2021-02-06T02:07:05.181Z",
    "type": "execution"
   },
   {
    "id": "9132572d784d45188c3989004c2794fd",
    "time": "2021-02-06T02:07:05.452Z",
    "type": "completion"
   },
   {
    "code": "# path to directory containing data\ndsDir = Path('data')\n\nbus = pd.read_csv(dsDir/'bus.csv', encoding='ISO-8859-1') # SOLUTION\nins2vio = pd.read_csv(dsDir/'ins2vio.csv') # SOLUTION\nins = pd.read_csv(dsDir/'ins.csv') # SOLUTION\nvio = pd.read_csv(dsDir/'vio.csv') # SOLUTION\n\n\n#This code is essential for the autograder to function properly. Do not edit\nins_test = ins",
    "id": "5e624ba428624cdc84eb8d10a8ad3da0",
    "idx": 27,
    "time": "2021-02-06T02:08:03.410Z",
    "type": "execution"
   },
   {
    "id": "5e624ba428624cdc84eb8d10a8ad3da0",
    "time": "2021-02-06T02:08:03.572Z",
    "type": "completion"
   },
   {
    "code": "bus.head() # SOLUTION",
    "id": "269517ba0b1d4ea3826c27425d526cd3",
    "idx": 29,
    "time": "2021-02-06T02:08:34.891Z",
    "type": "execution"
   },
   {
    "id": "269517ba0b1d4ea3826c27425d526cd3",
    "time": "2021-02-06T02:08:35.159Z",
    "type": "completion"
   },
   {
    "code": "bus.describe() # SOLUTION",
    "id": "e1a29e1e80ff4c68addc7b176113f25f",
    "idx": 31,
    "time": "2021-02-06T02:08:53.539Z",
    "type": "execution"
   },
   {
    "id": "e1a29e1e80ff4c68addc7b176113f25f",
    "time": "2021-02-06T02:08:53.784Z",
    "type": "completion"
   },
   {
    "code": "assert all(bus.columns == ['business id column', 'name', 'address', 'city', 'state', 'postal_code',\n                           'latitude', 'longitude', 'phone_number'])\nassert 6250 <= len(bus) <= 6260\n\nassert all(ins.columns == ['iid', 'date', 'score', 'type'])\nassert 26660 <= len(ins) <= 26670\n\nassert all(vio.columns == ['description', 'risk_category', 'vid'])\nassert 60 <= len(vio) <= 65\n\nassert all(ins2vio.columns == ['iid', 'vid'])\nassert 40210 <= len(ins2vio) <= 40220",
    "id": "c7eafc418c62433c99a6f13e5ffcc348",
    "idx": 34,
    "time": "2021-02-06T02:09:42.737Z",
    "type": "execution"
   },
   {
    "id": "c7eafc418c62433c99a6f13e5ffcc348",
    "time": "2021-02-06T02:09:42.879Z",
    "type": "completion"
   },
   {
    "code": "bus_summary = pd.DataFrame(**{'columns': ['business id column', 'latitude', 'longitude'],\n 'data': {'business id column': {'50%': 75685.0, 'max': 102705.0, 'min': 19.0},\n  'latitude': {'50%': -9999.0, 'max': 37.824494, 'min': -9999.0},\n  'longitude': {'50%': -9999.0,\n   'max': 0.0,\n   'min': -9999.0}},\n 'index': ['min', '50%', 'max']})\n\nins_summary = pd.DataFrame(**{'columns': ['score'],\n 'data': {'score': {'50%': 76.0, 'max': 100.0, 'min': -1.0}},\n 'index': ['min', '50%', 'max']})\n\nvio_summary = pd.DataFrame(**{'columns': ['vid'],\n 'data': {'vid': {'50%': 103135.0, 'max': 103177.0, 'min': 103102.0}},\n 'index': ['min', '50%', 'max']})\n\nfrom IPython.display import display\n\nprint('What we expect from your Businesses dataframe:')\ndisplay(bus_summary)\nprint('What we expect from your Inspections dataframe:')\ndisplay(ins_summary)\nprint('What we expect from your Violations dataframe:')\ndisplay(vio_summary)",
    "id": "4602630ff4bc41ea8612b5c0af49bbe6",
    "idx": 36,
    "time": "2021-02-06T02:09:57.278Z",
    "type": "execution"
   },
   {
    "id": "4602630ff4bc41ea8612b5c0af49bbe6",
    "time": "2021-02-06T02:09:57.583Z",
    "type": "completion"
   },
   {
    "code": "\"\"\"Run this cell to load this utility comparison function that we will use in various\ntests below (both tests you can see and those we run internally for grading).\n\nDo not modify the function in any way.\n\"\"\"\n\n\ndef df_allclose(actual, desired, columns=None, rtol=5e-2):\n    \"\"\"Compare selected columns of two dataframes on a few summary statistics.\n    \n    Compute the min, median and max of the two dataframes on the given columns, and compare\n    that they match numerically to the given relative tolerance.\n    \n    If they don't match, an AssertionError is raised (by `numpy.testing`).\n    \"\"\"    \n    # summary statistics to compare on\n    stats = ['min', '50%', 'max']\n    \n    # For the desired values, we can provide a full DF with the same structure as\n    # the actual data, or pre-computed summary statistics.\n    # We assume a pre-computed summary was provided if columns is None. In that case, \n    # `desired` *must* have the same structure as the actual's summary\n    if columns is None:\n        des = desired\n        columns = desired.columns\n    else:\n        des = desired[columns].describe().loc[stats]\n\n    # Extract summary stats from actual DF\n    act = actual[columns].describe().loc[stats]\n\n    return np.allclose(act, des, rtol)",
    "id": "0aa1a204dcf9403f885b5db33191e701",
    "idx": 39,
    "time": "2021-02-06T02:10:48.546Z",
    "type": "execution"
   },
   {
    "id": "0aa1a204dcf9403f885b5db33191e701",
    "time": "2021-02-06T02:10:48.692Z",
    "type": "completion"
   },
   {
    "code": "# TEST\ndf_allclose(bus.rename(columns = {\"bid\" : \"business id column\"}), bus_summary)",
    "id": "1b398428c63f4f5db6cb69117987decf",
    "idx": 40,
    "time": "2021-02-06T02:11:31.189Z",
    "type": "execution"
   },
   {
    "id": "1b398428c63f4f5db6cb69117987decf",
    "time": "2021-02-06T02:11:31.440Z",
    "type": "completion"
   },
   {
    "code": "# TEST\ndf_allclose(ins_test, ins_summary)",
    "id": "46d854736c8a44b9b2c9c589904259c1",
    "idx": 41,
    "time": "2021-02-06T02:11:36.077Z",
    "type": "execution"
   },
   {
    "id": "46d854736c8a44b9b2c9c589904259c1",
    "time": "2021-02-06T02:11:36.311Z",
    "type": "completion"
   },
   {
    "code": "# TEST\ndf_allclose(vio, vio_summary)",
    "id": "59a74aeb9d604e9bbe35c2ddae390a74",
    "idx": 42,
    "time": "2021-02-06T02:11:39.843Z",
    "type": "execution"
   },
   {
    "id": "59a74aeb9d604e9bbe35c2ddae390a74",
    "time": "2021-02-06T02:11:40.081Z",
    "type": "completion"
   },
   {
    "code": "# TEST\ndf_allclose(ins2vio, vio_summary)",
    "id": "135bcc521d154a4a9fb172919103550d",
    "idx": 43,
    "time": "2021-02-06T02:11:41.899Z",
    "type": "execution"
   },
   {
    "id": "135bcc521d154a4a9fb172919103550d",
    "time": "2021-02-06T02:11:42.146Z",
    "type": "completion"
   },
   {
    "code": "# HIDDEN TEST\ndf_allclose(bus.rename(columns = {\"bid\" : \"business id column\"}), pd.read_csv(dsDir/'bus.csv', encoding='ISO-8859-1'), ['business id column', 'latitude', 'longitude'])",
    "id": "79386714f2de4b0c8a40edc8f1c922fe",
    "idx": 44,
    "time": "2021-02-06T02:11:48.806Z",
    "type": "execution"
   },
   {
    "id": "79386714f2de4b0c8a40edc8f1c922fe",
    "time": "2021-02-06T02:11:49.114Z",
    "type": "completion"
   },
   {
    "code": "# HIDDEN TEST\ndf_allclose(ins_test, pd.read_csv(dsDir/'ins.csv'), ['iid', 'score'])",
    "id": "08a06277b3db40858f6e6281ddcdd84b",
    "idx": 45,
    "time": "2021-02-06T02:11:51.021Z",
    "type": "execution"
   },
   {
    "id": "08a06277b3db40858f6e6281ddcdd84b",
    "time": "2021-02-06T02:11:51.298Z",
    "type": "completion"
   },
   {
    "code": "# HIDDEN TEST\ndf_allclose(vio, pd.read_csv(dsDir/'vio.csv'), ['vid'])",
    "id": "dcdfefea3fe14647aa785b0427477c50",
    "idx": 46,
    "time": "2021-02-06T02:11:52.845Z",
    "type": "execution"
   },
   {
    "id": "dcdfefea3fe14647aa785b0427477c50",
    "time": "2021-02-06T02:11:53.142Z",
    "type": "completion"
   },
   {
    "code": "# HIDDEN TEST\ndf_allclose(ins2vio, pd.read_csv(dsDir/'ins2vio.csv'), ['vid'])",
    "id": "5c9ec6a5b40e44938fcac73122177f70",
    "idx": 47,
    "time": "2021-02-06T02:11:54.786Z",
    "type": "execution"
   },
   {
    "id": "5c9ec6a5b40e44938fcac73122177f70",
    "time": "2021-02-06T02:11:55.243Z",
    "type": "completion"
   },
   {
    "code": "bus.head()",
    "id": "d7afd70f8b9d4bc8805d8954858cdd28",
    "idx": 53,
    "time": "2021-02-06T02:12:42.607Z",
    "type": "execution"
   },
   {
    "id": "d7afd70f8b9d4bc8805d8954858cdd28",
    "time": "2021-02-06T02:12:42.852Z",
    "type": "completion"
   },
   {
    "code": "bus = bus.rename(columns={\"business id column\": \"bid\"})  # SOLUTION",
    "id": "197c1f1466d4400bab0d22080ecc3d81",
    "idx": 55,
    "time": "2021-02-06T02:13:09.392Z",
    "type": "execution"
   },
   {
    "id": "197c1f1466d4400bab0d22080ecc3d81",
    "time": "2021-02-06T02:13:09.509Z",
    "type": "completion"
   },
   {
    "code": "# TEST\n\"bid\" in set(bus.columns)",
    "id": "a96923e86a62459e8a2c0367c6f4367e",
    "idx": 56,
    "time": "2021-02-06T02:13:11.733Z",
    "type": "execution"
   },
   {
    "id": "a96923e86a62459e8a2c0367c6f4367e",
    "time": "2021-02-06T02:13:11.974Z",
    "type": "completion"
   },
   {
    "code": "is_bid_unique = bus['bid'].value_counts().max() == 1 # SOLUTION",
    "id": "62936a030b6e4e3c82e3387f262f1372",
    "idx": 58,
    "time": "2021-02-06T02:13:30.678Z",
    "type": "execution"
   },
   {
    "id": "62936a030b6e4e3c82e3387f262f1372",
    "time": "2021-02-06T02:13:30.783Z",
    "type": "completion"
   },
   {
    "code": "# TEST\nis_bid_unique or ~is_bid_unique",
    "id": "535d0cc8b7d44ed99ce588d1298008ff",
    "idx": 59,
    "time": "2021-02-06T02:13:34.650Z",
    "type": "execution"
   },
   {
    "id": "535d0cc8b7d44ed99ce588d1298008ff",
    "time": "2021-02-06T02:13:34.862Z",
    "type": "completion"
   },
   {
    "code": "# HIDDEN TEST\nis_bid_unique",
    "id": "0f437e60dd6349f88ee92b0a7b1bfb81",
    "idx": 60,
    "time": "2021-02-06T02:13:37.233Z",
    "type": "execution"
   },
   {
    "id": "0f437e60dd6349f88ee92b0a7b1bfb81",
    "time": "2021-02-06T02:13:37.466Z",
    "type": "completion"
   },
   {
    "code": "name_counts = bus['name'].value_counts() # SOLUTION\nname_counts.head(20)",
    "id": "ec18b65078c14030b541d0dfdc10b009",
    "idx": 62,
    "time": "2021-02-06T02:14:23.252Z",
    "type": "execution"
   },
   {
    "id": "ec18b65078c14030b541d0dfdc10b009",
    "time": "2021-02-06T02:14:23.502Z",
    "type": "completion"
   },
   {
    "code": "# TEST\nlen(name_counts) == 5775",
    "id": "11005a8458034f4c88b489db6b9084a5",
    "idx": 63,
    "time": "2021-02-06T02:14:29.747Z",
    "type": "execution"
   },
   {
    "id": "11005a8458034f4c88b489db6b9084a5",
    "time": "2021-02-06T02:14:30.029Z",
    "type": "completion"
   },
   {
    "code": "# HIDDEN TEST\nnp.all(name_counts.head().reset_index(drop=True) == bus['name'].value_counts().head().reset_index(drop=True))",
    "id": "cc70bab7adc847ab88092d2d27df40f4",
    "idx": 65,
    "time": "2021-02-06T02:14:53.044Z",
    "type": "execution"
   },
   {
    "id": "cc70bab7adc847ab88092d2d27df40f4",
    "time": "2021-02-06T02:14:53.272Z",
    "type": "completion"
   },
   {
    "code": "address_counts = bus['address'].value_counts() # SOLUTION\naddress_counts.head(10)",
    "id": "d350501a35fb49c28d66563c48d6bf9f",
    "idx": 67,
    "time": "2021-02-06T02:14:58.997Z",
    "type": "execution"
   },
   {
    "id": "d350501a35fb49c28d66563c48d6bf9f",
    "time": "2021-02-06T02:14:59.225Z",
    "type": "completion"
   },
   {
    "code": "# TEST \nlen(address_counts) == 5673",
    "id": "1c45fb7da15d402684fb6a3cdca351ba",
    "idx": 68,
    "time": "2021-02-06T02:15:04.279Z",
    "type": "execution"
   },
   {
    "id": "1c45fb7da15d402684fb6a3cdca351ba",
    "time": "2021-02-06T02:15:04.508Z",
    "type": "completion"
   },
   {
    "code": "# TEST \naddress_counts[\"428 11th St\"] == 34",
    "id": "30888b9ee9b345568e66df8a0143564d",
    "idx": 69,
    "time": "2021-02-06T02:15:10.847Z",
    "type": "execution"
   },
   {
    "id": "30888b9ee9b345568e66df8a0143564d",
    "time": "2021-02-06T02:15:11.071Z",
    "type": "completion"
   },
   {
    "code": "# HIDDEN TEST\nnp.all(address_counts.head().reset_index(drop=True) == bus['address'].value_counts().head().reset_index(drop=True))",
    "id": "ef7e8740cc424a66804a5cc7af0c2865",
    "idx": 70,
    "time": "2021-02-06T02:15:13.429Z",
    "type": "execution"
   },
   {
    "id": "ef7e8740cc424a66804a5cc7af0c2865",
    "time": "2021-02-06T02:15:13.670Z",
    "type": "completion"
   },
   {
    "code": "zip_counts = bus.groupby(\"postal_code\").size().sort_values(ascending=False) # SOLUTION\nprint(zip_counts.to_string())",
    "id": "66e608c55a04480c8fc4cbf75460304e",
    "idx": 73,
    "time": "2021-02-06T02:17:04.345Z",
    "type": "execution"
   },
   {
    "id": "66e608c55a04480c8fc4cbf75460304e",
    "time": "2021-02-06T02:17:04.571Z",
    "type": "completion"
   },
   {
    "code": "# TEST\ntype(zip_counts) == pd.Series",
    "id": "edfcc4fde05e44bcb0957ff21a7250fa",
    "idx": 74,
    "time": "2021-02-06T02:17:21.187Z",
    "type": "execution"
   },
   {
    "id": "edfcc4fde05e44bcb0957ff21a7250fa",
    "time": "2021-02-06T02:17:21.409Z",
    "type": "completion"
   },
   {
    "code": "# TEST\nzip_counts.shape[0] == 63",
    "id": "466f3d28472e470c8309bb7fe4e30df8",
    "idx": 75,
    "time": "2021-02-06T02:17:23.940Z",
    "type": "execution"
   },
   {
    "id": "466f3d28472e470c8309bb7fe4e30df8",
    "time": "2021-02-06T02:17:24.151Z",
    "type": "completion"
   },
   {
    "code": "# TEST\nzip_counts[\"94103\"] == 562",
    "id": "0e4879792b12452385ec0ce9c5c4407c",
    "idx": 76,
    "time": "2021-02-06T02:17:28.995Z",
    "type": "execution"
   },
   {
    "id": "0e4879792b12452385ec0ce9c5c4407c",
    "time": "2021-02-06T02:17:29.206Z",
    "type": "completion"
   },
   {
    "code": "# HIDDEN TEST\nnp.isclose(zip_counts.var(), bus['postal_code'].value_counts().var())",
    "id": "0dcac50d9cf547e0ab5b989cc17e3a31",
    "idx": 77,
    "time": "2021-02-06T02:17:31.479Z",
    "type": "execution"
   },
   {
    "id": "0dcac50d9cf547e0ab5b989cc17e3a31",
    "time": "2021-02-06T02:17:31.668Z",
    "type": "completion"
   },
   {
    "code": "# HIDDEN TEST\nnp.isclose(zip_counts.mean(), bus['postal_code'].value_counts().mean())",
    "id": "e8d8e6bccf1444cc98e6738ff778b590",
    "idx": 78,
    "time": "2021-02-06T02:17:34.351Z",
    "type": "execution"
   },
   {
    "id": "e8d8e6bccf1444cc98e6738ff778b590",
    "time": "2021-02-06T02:17:34.616Z",
    "type": "completion"
   },
   {
    "code": "# The ZIP code column is which of the following type of data:\n#   \"Quantitative Continuous\" \n#   \"Quantitative Discrete\"\n#   \"Qualitative Ordinal\"\n#   \"Qualitative Nominal\"\nq3b_part1 = \"Qualitative Nominal\" # SOLUTION\n\n# What Python data type is used to represent a ZIP code? \n#    \"str\"\n#    \"int\"\n#    \"bool\"\n#    \"float\"\nq3b_part2 = \"str\" # SOLUTION",
    "id": "9307af6d90264839b6b8cf7e887939e5",
    "idx": 80,
    "time": "2021-02-06T02:18:29.639Z",
    "type": "execution"
   },
   {
    "id": "9307af6d90264839b6b8cf7e887939e5",
    "time": "2021-02-06T02:18:29.748Z",
    "type": "completion"
   },
   {
    "code": "# TEST\nq3b_part1 in set([\"Quantitative Continuous\", \"Quantitative Discrete\", \n                  \"Qualitative Ordinal\", \"Qualitative Nominal\"])",
    "id": "9026e695fae94d6399768dd6836b6a83",
    "idx": 81,
    "time": "2021-02-06T02:18:32.163Z",
    "type": "execution"
   },
   {
    "id": "9026e695fae94d6399768dd6836b6a83",
    "time": "2021-02-06T02:18:32.667Z",
    "type": "completion"
   },
   {
    "code": "# TEST\nq3b_part2 in set([\"str\", \"int\", \"bool\", \"float\"])",
    "id": "0f3127a57e4f4e278964aa34e150a287",
    "idx": 82,
    "time": "2021-02-06T02:18:34.474Z",
    "type": "execution"
   },
   {
    "id": "0f3127a57e4f4e278964aa34e150a287",
    "time": "2021-02-06T02:18:34.956Z",
    "type": "completion"
   },
   {
    "code": "# HIDDEN TEST\nq3b_part1 == \"Qualitative Nominal\"",
    "id": "14762b286bb3497aa246d2981b83cd3e",
    "idx": 83,
    "time": "2021-02-06T02:18:36.591Z",
    "type": "execution"
   },
   {
    "id": "14762b286bb3497aa246d2981b83cd3e",
    "time": "2021-02-06T02:18:37.019Z",
    "type": "completion"
   },
   {
    "code": "# HIDDEN TEST\nq3b_part2 == \"str\"",
    "id": "926949fae38a4d929dfc439b16465c97",
    "idx": 84,
    "time": "2021-02-06T02:18:38.816Z",
    "type": "execution"
   },
   {
    "id": "926949fae38a4d929dfc439b16465c97",
    "time": "2021-02-06T02:18:39.086Z",
    "type": "completion"
   },
   {
    "code": "valid_zips = pd.read_json(\"data/sf_zipcodes.json\", dtype=\"str\")['zip_codes'] # SOLUTION\nvalid_zips.head()",
    "id": "891812063ab14af48eec4c9d299ac89a",
    "idx": 87,
    "time": "2021-02-06T02:19:26.579Z",
    "type": "execution"
   },
   {
    "id": "891812063ab14af48eec4c9d299ac89a",
    "time": "2021-02-06T02:19:26.784Z",
    "type": "completion"
   },
   {
    "code": "# TEST\nvalid_zips.dtype == object ",
    "id": "95a1c519b52c49818964a93ac09a68f0",
    "idx": 88,
    "time": "2021-02-06T02:19:29.099Z",
    "type": "execution"
   },
   {
    "id": "95a1c519b52c49818964a93ac09a68f0",
    "time": "2021-02-06T02:19:29.314Z",
    "type": "completion"
   },
   {
    "code": "# TEST\ntype(valid_zips) == pd.Series",
    "id": "df738dc5d19c426483b99ea029bd14b9",
    "idx": 89,
    "time": "2021-02-06T02:19:33.492Z",
    "type": "execution"
   },
   {
    "id": "df738dc5d19c426483b99ea029bd14b9",
    "time": "2021-02-06T02:19:33.718Z",
    "type": "completion"
   },
   {
    "code": "# HIDDEN TEST\nnp.all(valid_zips.sort_values() == pd.read_json(\"data/sf_zipcodes.json\", dtype=\"str\")['zip_codes'].sort_values()) ",
    "id": "646a2cfe836f4a258511a210a0805afe",
    "idx": 90,
    "time": "2021-02-06T02:19:38.432Z",
    "type": "execution"
   },
   {
    "id": "646a2cfe836f4a258511a210a0805afe",
    "time": "2021-02-06T02:19:38.634Z",
    "type": "completion"
   },
   {
    "code": "invalid_zip_bus = bus[~bus['postal_code'].isin(valid_zips)] # SOLUTION\ninvalid_zip_bus.head(20)",
    "id": "62b5539d3d654801882fdf9a6063f747",
    "idx": 92,
    "time": "2021-02-06T02:19:54.531Z",
    "type": "execution"
   },
   {
    "id": "62b5539d3d654801882fdf9a6063f747",
    "time": "2021-02-06T02:19:54.744Z",
    "type": "completion"
   },
   {
    "code": "# TEST\ntype(invalid_zip_bus) == pd.DataFrame",
    "id": "854fe47b867a44a98fc9107b44c1da2a",
    "idx": 93,
    "time": "2021-02-06T02:20:04.306Z",
    "type": "execution"
   },
   {
    "id": "854fe47b867a44a98fc9107b44c1da2a",
    "time": "2021-02-06T02:20:04.482Z",
    "type": "completion"
   },
   {
    "code": "# TEST\nlen(invalid_zip_bus) == 230",
    "id": "99db918bbc9a4a7d9b04e3a208277892",
    "idx": 94,
    "time": "2021-02-06T02:20:06.070Z",
    "type": "execution"
   },
   {
    "id": "99db918bbc9a4a7d9b04e3a208277892",
    "time": "2021-02-06T02:20:06.247Z",
    "type": "completion"
   },
   {
    "code": "# HIDDEN TEST\nset(invalid_zip_bus['postal_code']) == set(bus[~bus['postal_code'].isin(valid_zips)]['postal_code'])",
    "id": "208b5a96a19544918a5978999b44f426",
    "idx": 95,
    "time": "2021-02-06T02:20:08.174Z",
    "type": "execution"
   },
   {
    "id": "208b5a96a19544918a5978999b44f426",
    "time": "2021-02-06T02:20:08.350Z",
    "type": "completion"
   },
   {
    "code": "missing_zip_address_count = bus[bus['postal_code'] == \"-9999\"]['address'].value_counts() # SOLUTION\nmissing_zip_address_count.head()",
    "id": "321c000d34834b7ab1d030ecabea6f38",
    "idx": 97,
    "time": "2021-02-06T02:20:43.794Z",
    "type": "execution"
   },
   {
    "id": "321c000d34834b7ab1d030ecabea6f38",
    "time": "2021-02-06T02:20:44.018Z",
    "type": "completion"
   },
   {
    "code": "# TEST\ntype(missing_zip_address_count) == pd.Series",
    "id": "1aa8d350f31e43c48fc5b54fb38f1e98",
    "idx": 98,
    "time": "2021-02-06T02:21:11.008Z",
    "type": "execution"
   },
   {
    "id": "1aa8d350f31e43c48fc5b54fb38f1e98",
    "time": "2021-02-06T02:21:11.234Z",
    "type": "completion"
   },
   {
    "code": "# TEST\nlen(missing_zip_address_count) == 135",
    "id": "d6d2f6a5ca7644979e698a51e903276b",
    "idx": 99,
    "time": "2021-02-06T02:21:15.972Z",
    "type": "execution"
   },
   {
    "id": "d6d2f6a5ca7644979e698a51e903276b",
    "time": "2021-02-06T02:21:16.165Z",
    "type": "completion"
   },
   {
    "code": "# TEST\nmissing_zip_address_count['3914 Judah St'] == 1",
    "id": "98e029d7b65143828cecca3120062f43",
    "idx": 100,
    "time": "2021-02-06T02:21:19.182Z",
    "type": "execution"
   },
   {
    "id": "98e029d7b65143828cecca3120062f43",
    "time": "2021-02-06T02:21:19.373Z",
    "type": "completion"
   },
   {
    "code": "# HIDDEN TEST\nmissing_zip_address_count['Off The Grid'] == 39",
    "id": "6989cacf6e9946c687c9726a4186f1b9",
    "idx": 101,
    "time": "2021-02-06T02:21:24.493Z",
    "type": "execution"
   },
   {
    "id": "6989cacf6e9946c687c9726a4186f1b9",
    "time": "2021-02-06T02:21:24.687Z",
    "type": "completion"
   },
   {
    "code": "missing_zip_address_count",
    "id": "9f51651d1ba94eea8884f00443033f9f",
    "idx": 102,
    "time": "2021-02-06T02:22:25.495Z",
    "type": "execution"
   },
   {
    "id": "9f51651d1ba94eea8884f00443033f9f",
    "time": "2021-02-06T02:22:25.618Z",
    "type": "completion"
   },
   {
    "code": "# True or False: \n#  If we were to drop businesses with MISSING postal code values \n#   a particular class of business be affected.\nq3d_true_or_false = True # SOLUTION",
    "id": "acb3f209c13244d7a61f7eb5237f416b",
    "idx": 103,
    "time": "2021-02-06T02:22:41.204Z",
    "type": "execution"
   },
   {
    "id": "acb3f209c13244d7a61f7eb5237f416b",
    "time": "2021-02-06T02:22:41.292Z",
    "type": "completion"
   },
   {
    "code": "# TEST\ntype(q3d_true_or_false) == bool",
    "id": "c87be7b39db74ec4b16ba3cdb7d685c1",
    "idx": 104,
    "time": "2021-02-06T02:22:42.826Z",
    "type": "execution"
   },
   {
    "id": "c87be7b39db74ec4b16ba3cdb7d685c1",
    "time": "2021-02-06T02:22:43.008Z",
    "type": "completion"
   },
   {
    "code": "# HIDDEN TEST\nq3d_true_or_false == True",
    "id": "fe988787049c48f783089208e26729bc",
    "idx": 105,
    "time": "2021-02-06T02:22:45.145Z",
    "type": "execution"
   },
   {
    "id": "fe988787049c48f783089208e26729bc",
    "time": "2021-02-06T02:22:45.314Z",
    "type": "completion"
   },
   {
    "code": "bus['postal5'] = None\n# BEGIN SOLUTION\nbus['postal5'] = bus['postal_code'].str[:5]\nbus.loc[~bus['postal5'].isin(valid_zips), 'postal5'] = None \n# END SOLUTION\n\n# Checking the corrected postal5 column\nbus.loc[invalid_zip_bus.index, ['bid', 'name', 'postal_code', 'postal5']]",
    "id": "a42c8b580d3f418981278d15758a07e9",
    "idx": 107,
    "time": "2021-02-06T02:23:37.031Z",
    "type": "execution"
   },
   {
    "id": "a42c8b580d3f418981278d15758a07e9",
    "time": "2021-02-06T02:23:37.246Z",
    "type": "completion"
   },
   {
    "code": "# TEST\n'postal5' in bus.columns",
    "id": "436cd504418a436ba0af510827ddc588",
    "idx": 108,
    "time": "2021-02-06T02:24:07.618Z",
    "type": "execution"
   },
   {
    "id": "436cd504418a436ba0af510827ddc588",
    "time": "2021-02-06T02:24:07.824Z",
    "type": "completion"
   },
   {
    "code": "# TEST\n(bus['postal5'].str.len() != 5).sum() == 221",
    "id": "c6543ca21e754c3d8f94c3febafb9bc6",
    "idx": 109,
    "time": "2021-02-06T02:24:09.911Z",
    "type": "execution"
   },
   {
    "id": "c6543ca21e754c3d8f94c3febafb9bc6",
    "time": "2021-02-06T02:24:10.087Z",
    "type": "completion"
   },
   {
    "code": "# TEST\nbus['postal5'].isin(valid_zips).sum() == 6032",
    "id": "0fd031a8966d411e835d9b3d86735fac",
    "idx": 110,
    "time": "2021-02-06T02:24:12.237Z",
    "type": "execution"
   },
   {
    "id": "0fd031a8966d411e835d9b3d86735fac",
    "time": "2021-02-06T02:24:12.396Z",
    "type": "completion"
   },
   {
    "code": "# TEST\nbus['postal5'].isna().sum() == 221",
    "id": "fa576760e0a24fc68fbf00cfa1feb653",
    "idx": 111,
    "time": "2021-02-06T02:24:14.028Z",
    "type": "execution"
   },
   {
    "id": "fa576760e0a24fc68fbf00cfa1feb653",
    "time": "2021-02-06T02:24:14.217Z",
    "type": "completion"
   },
   {
    "code": "# HIDDEN TEST\n(bus['postal5'] == \"-9999\").sum() == 0",
    "id": "933dd4e6b3944a3d8c32c63cc9f0dde5",
    "idx": 112,
    "time": "2021-02-06T02:24:15.746Z",
    "type": "execution"
   },
   {
    "id": "933dd4e6b3944a3d8c32c63cc9f0dde5",
    "time": "2021-02-06T02:24:15.935Z",
    "type": "completion"
   },
   {
    "code": "# HIDDEN TEST\nbus['postal5'].isna().sum() == 221",
    "id": "04c744e6ba5e4d7581bf2e98aaeba8a0",
    "idx": 113,
    "time": "2021-02-06T02:24:17.980Z",
    "type": "execution"
   },
   {
    "id": "04c744e6ba5e4d7581bf2e98aaeba8a0",
    "time": "2021-02-06T02:24:18.178Z",
    "type": "completion"
   },
   {
    "code": "ins.head(5)",
    "id": "65fdbff8567546138b3aad2dd269ea4b",
    "idx": 116,
    "time": "2021-02-06T02:24:44.200Z",
    "type": "execution"
   },
   {
    "id": "65fdbff8567546138b3aad2dd269ea4b",
    "time": "2021-02-06T02:24:44.386Z",
    "type": "completion"
   },
   {
    "code": "is_ins_iid_a_primary_key = ins['iid'].value_counts().max() == 1 # SOLUTION",
    "id": "8abe856f55cd46f68ccb03a0574be0b6",
    "idx": 118,
    "time": "2021-02-06T02:24:59.920Z",
    "type": "execution"
   },
   {
    "id": "8abe856f55cd46f68ccb03a0574be0b6",
    "time": "2021-02-06T02:25:00.008Z",
    "type": "completion"
   },
   {
    "code": "# TEST\ntype(is_ins_iid_a_primary_key) == bool or type(is_ins_iid_a_primary_key) == np.bool_",
    "id": "c8a99b18ef4d447e881cd851eda43610",
    "idx": 119,
    "time": "2021-02-06T02:25:02.161Z",
    "type": "execution"
   },
   {
    "id": "c8a99b18ef4d447e881cd851eda43610",
    "time": "2021-02-06T02:25:02.337Z",
    "type": "completion"
   },
   {
    "code": "# HIDDEN TEST\nis_ins_iid_a_primary_key == True",
    "id": "827f616904a84aff8ac94d10810a8a02",
    "idx": 120,
    "time": "2021-02-06T02:25:05.829Z",
    "type": "execution"
   },
   {
    "id": "827f616904a84aff8ac94d10810a8a02",
    "time": "2021-02-06T02:25:05.994Z",
    "type": "completion"
   },
   {
    "code": "ins['bid'] = ins['iid'].str.split(\"_\", expand=True)[0].astype(int) # SOLUTION",
    "id": "96fccc5a2f9342b4803c0fd15927a048",
    "idx": 123,
    "time": "2021-02-06T02:25:59.169Z",
    "type": "execution"
   },
   {
    "id": "96fccc5a2f9342b4803c0fd15927a048",
    "time": "2021-02-06T02:25:59.287Z",
    "type": "completion"
   },
   {
    "code": "# TEST\n'bid' in ins.columns",
    "id": "4d980bf27d63464d8195a074be08c16f",
    "idx": 124,
    "time": "2021-02-06T02:26:03.401Z",
    "type": "execution"
   },
   {
    "id": "4d980bf27d63464d8195a074be08c16f",
    "time": "2021-02-06T02:26:03.584Z",
    "type": "completion"
   },
   {
    "code": "# TEST\nins['bid'].dtype == int",
    "id": "d82a369d94ca494b8ab66211cf5c4062",
    "idx": 125,
    "time": "2021-02-06T02:26:07.329Z",
    "type": "execution"
   },
   {
    "id": "d82a369d94ca494b8ab66211cf5c4062",
    "time": "2021-02-06T02:26:07.507Z",
    "type": "completion"
   },
   {
    "code": "# TEST\nlen(ins[ins['score'] > 0]['bid'].unique()) == 5724",
    "id": "c03d14bf53174b7c82357d2a1efad19c",
    "idx": 126,
    "time": "2021-02-06T02:26:11.767Z",
    "type": "execution"
   },
   {
    "id": "c03d14bf53174b7c82357d2a1efad19c",
    "time": "2021-02-06T02:26:11.929Z",
    "type": "completion"
   },
   {
    "code": "# HIDDEN TEST\nins['bid'].equals(ins['iid'].str.split(\"_\", expand=True)[0].astype(\"int\"))",
    "id": "d241fd9e7a914395be5d114d7b3fe122",
    "idx": 127,
    "time": "2021-02-06T02:26:13.960Z",
    "type": "execution"
   },
   {
    "id": "d241fd9e7a914395be5d114d7b3fe122",
    "time": "2021-02-06T02:26:14.113Z",
    "type": "completion"
   },
   {
    "code": "invalid_bid_count = (~ins['bid'].isin(bus['bid'])).sum() # SOLUTION",
    "id": "5bc37c4478ce4db9b5f25acc7b2622b6",
    "idx": 129,
    "time": "2021-02-06T02:26:18.578Z",
    "type": "execution"
   },
   {
    "id": "5bc37c4478ce4db9b5f25acc7b2622b6",
    "time": "2021-02-06T02:26:18.659Z",
    "type": "completion"
   },
   {
    "code": "# TEST\ninvalid_bid_count >= 0 ",
    "id": "9cfeafeae8fb42b089325ad9a386633c",
    "idx": 130,
    "time": "2021-02-06T02:26:20.996Z",
    "type": "execution"
   },
   {
    "id": "9cfeafeae8fb42b089325ad9a386633c",
    "time": "2021-02-06T02:26:21.155Z",
    "type": "completion"
   },
   {
    "code": "# HIDDEN TEST\ninvalid_bid_count == 0",
    "id": "e7559d463b794f5880831653897b0694",
    "idx": 131,
    "time": "2021-02-06T02:26:27.331Z",
    "type": "execution"
   },
   {
    "id": "e7559d463b794f5880831653897b0694",
    "time": "2021-02-06T02:26:27.494Z",
    "type": "completion"
   },
   {
    "code": "# True or False: The column ins['bid'] is a foreign key \n#   referencing the bus['bid'] primary key.\n\nq4b_is_foreign_key = True # SOLUTION",
    "id": "a9016731aada4f23895ce329238be01b",
    "idx": 133,
    "time": "2021-02-06T02:26:30.702Z",
    "type": "execution"
   },
   {
    "id": "a9016731aada4f23895ce329238be01b",
    "time": "2021-02-06T02:26:30.782Z",
    "type": "completion"
   },
   {
    "code": "# TEST\ntype(q4b_is_foreign_key) == bool",
    "id": "36e6728e3a9c4b16896689e06415f5ca",
    "idx": 134,
    "time": "2021-02-06T02:26:32.528Z",
    "type": "execution"
   },
   {
    "id": "36e6728e3a9c4b16896689e06415f5ca",
    "time": "2021-02-06T02:26:33.255Z",
    "type": "completion"
   },
   {
    "code": "# HIDDEN TEST\nq4b_is_foreign_key == True",
    "id": "874320aecb844f8aa69af880919ed82b",
    "idx": 135,
    "time": "2021-02-06T02:26:34.326Z",
    "type": "execution"
   },
   {
    "id": "874320aecb844f8aa69af880919ed82b",
    "time": "2021-02-06T02:26:34.480Z",
    "type": "completion"
   },
   {
    "code": "ins_date_type = type(ins['date'][0]) # SOLUTION\nins_date_type",
    "id": "deb406c4109b44758c57851f5f39178f",
    "idx": 138,
    "time": "2021-02-06T02:28:07.941Z",
    "type": "execution"
   },
   {
    "id": "deb406c4109b44758c57851f5f39178f",
    "time": "2021-02-06T02:28:08.171Z",
    "type": "completion"
   },
   {
    "code": "# TEST\ntype(ins_date_type) == type",
    "id": "46618170c874404c9906bf80e78c3946",
    "idx": 139,
    "time": "2021-02-06T02:28:12.341Z",
    "type": "execution"
   },
   {
    "id": "46618170c874404c9906bf80e78c3946",
    "time": "2021-02-06T02:28:12.498Z",
    "type": "completion"
   },
   {
    "code": "# HIDDEN TEST\nins_date_type == str",
    "id": "e05bcfb872454b87888c24eeb61c3c3d",
    "idx": 140,
    "time": "2021-02-06T02:28:17.528Z",
    "type": "execution"
   },
   {
    "id": "e05bcfb872454b87888c24eeb61c3c3d",
    "time": "2021-02-06T02:28:17.677Z",
    "type": "completion"
   },
   {
    "code": "ins['timestamp'] = pd.to_datetime(ins['date']) # SOLUTION",
    "id": "917f6c02481e44ad80e0eedcebcd0367",
    "idx": 142,
    "time": "2021-02-06T02:28:25.536Z",
    "type": "execution"
   },
   {
    "id": "917f6c02481e44ad80e0eedcebcd0367",
    "time": "2021-02-06T02:28:25.712Z",
    "type": "completion"
   },
   {
    "code": "# TEST\ntype(ins['timestamp'][1]) == pd.Timestamp",
    "id": "a0504875aa7e452fb2313398ffcb2c61",
    "idx": 143,
    "time": "2021-02-06T02:28:27.830Z",
    "type": "execution"
   },
   {
    "id": "a0504875aa7e452fb2313398ffcb2c61",
    "time": "2021-02-06T02:28:28.012Z",
    "type": "completion"
   },
   {
    "code": "earliest_date = ins['timestamp'].min() # SOLUTION\nlatest_date = ins['timestamp'].max() # SOLUTION\n\nprint(\"Earliest Date:\", earliest_date)\nprint(\"Latest Date:\", latest_date)",
    "id": "edfaf76d65d54960a325aa9e188abef0",
    "idx": 145,
    "time": "2021-02-06T02:28:33.682Z",
    "type": "execution"
   },
   {
    "id": "edfaf76d65d54960a325aa9e188abef0",
    "time": "2021-02-06T02:28:33.868Z",
    "type": "completion"
   },
   {
    "code": "# TEST\ntype(earliest_date) == pd.Timestamp",
    "id": "3ab4cd1bf5a345c8861b5d88bc3eddf8",
    "idx": 146,
    "time": "2021-02-06T02:28:36.732Z",
    "type": "execution"
   },
   {
    "id": "3ab4cd1bf5a345c8861b5d88bc3eddf8",
    "time": "2021-02-06T02:28:37.006Z",
    "type": "completion"
   },
   {
    "code": "# TEST\ntype(latest_date) == pd.Timestamp",
    "id": "22d2e0c4468243c6800b85972240b771",
    "idx": 147,
    "time": "2021-02-06T02:28:38.484Z",
    "type": "execution"
   },
   {
    "id": "22d2e0c4468243c6800b85972240b771",
    "time": "2021-02-06T02:28:38.638Z",
    "type": "completion"
   },
   {
    "code": "# HIDDEN TEST\nearliest_date == pd.Timestamp('2016-10-04 00:00:00')",
    "id": "323b46fbb8f54032bcb0af5f5fe7476a",
    "idx": 148,
    "time": "2021-02-06T02:28:40.782Z",
    "type": "execution"
   },
   {
    "id": "323b46fbb8f54032bcb0af5f5fe7476a",
    "time": "2021-02-06T02:28:40.968Z",
    "type": "completion"
   },
   {
    "code": "# HIDDEN TEST\nlatest_date == pd.Timestamp('2019-11-28 00:00:00')",
    "id": "5f9e022ca4754843ba5d5f21ccfd117d",
    "idx": 149,
    "time": "2021-02-06T02:28:44.587Z",
    "type": "execution"
   },
   {
    "id": "5f9e022ca4754843ba5d5f21ccfd117d",
    "time": "2021-02-06T02:28:44.750Z",
    "type": "completion"
   },
   {
    "code": "ins['year'] = ins['timestamp'].dt.year # SOLUTION",
    "id": "b137825ef42849bfbb854491abd44c5d",
    "idx": 151,
    "time": "2021-02-06T02:29:18.517Z",
    "type": "execution"
   },
   {
    "id": "b137825ef42849bfbb854491abd44c5d",
    "time": "2021-02-06T02:29:18.632Z",
    "type": "completion"
   },
   {
    "code": "# TEST\n'year' in ins.columns",
    "id": "4888a67e4b164a3089d82cedd877215c",
    "idx": 152,
    "time": "2021-02-06T02:29:20.692Z",
    "type": "execution"
   },
   {
    "id": "4888a67e4b164a3089d82cedd877215c",
    "time": "2021-02-06T02:29:20.862Z",
    "type": "completion"
   },
   {
    "code": "# HIDDEN TEST\nset(ins[ins['score'] > 0]['year'].value_counts()) == {959, 4043, 4355, 4674}",
    "id": "580f56be66dd47c687e44c7fb573304a",
    "idx": 153,
    "time": "2021-02-06T02:29:25.404Z",
    "type": "execution"
   },
   {
    "id": "580f56be66dd47c687e44c7fb573304a",
    "time": "2021-02-06T02:29:25.587Z",
    "type": "completion"
   },
   {
    "code": "ins.head()",
    "id": "6cd0a31d838e42e885d878f8a4930012",
    "idx": 154,
    "time": "2021-02-06T02:29:28.482Z",
    "type": "execution"
   },
   {
    "id": "6cd0a31d838e42e885d878f8a4930012",
    "time": "2021-02-06T02:29:28.638Z",
    "type": "completion"
   },
   {
    "code": "ins_pivot = ins.pivot_table(columns = \"year\", index = \"type\", aggfunc = len, fill_value = 0) # SOLUTION\nins_pivot = ins_pivot[\"bid\"] # SOLUTION\nins_pivot['Total'] = ins_pivot.sum(axis=1) # SOLUTION\nins_pivot_sorted = ins_pivot.sort_values('Total', ascending=False) # SOLUTION\nins_pivot_sorted",
    "id": "36fe8c15ca904cb193165243b353dce8",
    "idx": 157,
    "time": "2021-02-06T02:30:42.339Z",
    "type": "execution"
   },
   {
    "id": "36fe8c15ca904cb193165243b353dce8",
    "time": "2021-02-06T02:30:42.532Z",
    "type": "completion"
   },
   {
    "code": "ins.pivot_table(columns = \"year\", index = \"type\", aggfunc = len, fill_value = 0)",
    "id": "79590880fbd347c0947a76658ddc0737",
    "idx": 157,
    "time": "2021-02-06T02:31:14.647Z",
    "type": "execution"
   },
   {
    "id": "79590880fbd347c0947a76658ddc0737",
    "time": "2021-02-06T02:31:14.828Z",
    "type": "completion"
   },
   {
    "code": "ins_pivot = ins.pivot_table(columns = \"year\", index = \"type\", aggfunc = len, fill_value = 0) # SOLUTION\nins_pivot = ins_pivot[\"bid\"] # SOLUTION\nins_pivot['Total'] = ins_pivot.sum(axis=1) # SOLUTION\nins_pivot_sorted = ins_pivot.sort_values('Total', ascending=False) # SOLUTION\nins_pivot_sorted",
    "id": "36fe8c15ca904cb193165243b353dce8",
    "idx": 157,
    "time": "2021-02-06T02:31:23.857Z",
    "type": "execution"
   },
   {
    "id": "36fe8c15ca904cb193165243b353dce8",
    "time": "2021-02-06T02:31:24.033Z",
    "type": "completion"
   },
   {
    "code": "# TEST\nset(ins_pivot_sorted.columns) == {2016, 2017, 2018, 2019, 'Total'}",
    "id": "ce8b80b7a45f44bfb8dcefa8650977d7",
    "idx": 158,
    "time": "2021-02-06T02:31:28.449Z",
    "type": "execution"
   },
   {
    "id": "ce8b80b7a45f44bfb8dcefa8650977d7",
    "time": "2021-02-06T02:31:28.618Z",
    "type": "completion"
   },
   {
    "code": "# TEST\nlen(ins_pivot_sorted) == 15",
    "id": "dd4b2d5d454b49088e95c09196cbbfc8",
    "idx": 159,
    "time": "2021-02-06T02:31:31.387Z",
    "type": "execution"
   },
   {
    "id": "dd4b2d5d454b49088e95c09196cbbfc8",
    "time": "2021-02-06T02:31:31.529Z",
    "type": "completion"
   },
   {
    "code": "# HIDDEN TEST\nins_pivot_sorted.loc[\"Routine - Unscheduled\", 2016] == 966",
    "id": "637d8d7828e248b8889fcf0020f1dc8f",
    "idx": 160,
    "time": "2021-02-06T02:31:33.097Z",
    "type": "execution"
   },
   {
    "id": "637d8d7828e248b8889fcf0020f1dc8f",
    "time": "2021-02-06T02:31:33.237Z",
    "type": "completion"
   },
   {
    "code": "# HIDDEN TEST\nins_pivot_sorted.iloc[0,4] == 14077",
    "id": "3924979e6bf54eb78e4aeee317a73d27",
    "idx": 161,
    "time": "2021-02-06T02:31:34.958Z",
    "type": "execution"
   },
   {
    "id": "3924979e6bf54eb78e4aeee317a73d27",
    "time": "2021-02-06T02:31:35.112Z",
    "type": "completion"
   },
   {
    "code": "# HIDDEN TEST\nins_pivot_sorted.loc[\"New Ownership - Followup\", 2016] == 0",
    "id": "a8232fb63390455fa75dc1f55494b443",
    "idx": 162,
    "time": "2021-02-06T02:31:36.753Z",
    "type": "execution"
   },
   {
    "id": "a8232fb63390455fa75dc1f55494b443",
    "time": "2021-02-06T02:31:36.910Z",
    "type": "completion"
   },
   {
    "code": "year_of_new_construction = 2017 # SOLUTION",
    "id": "3f136332a69f4889a04f359e96f4ee5b",
    "idx": 164,
    "time": "2021-02-06T02:31:58.190Z",
    "type": "execution"
   },
   {
    "id": "3f136332a69f4889a04f359e96f4ee5b",
    "time": "2021-02-06T02:31:58.295Z",
    "type": "completion"
   },
   {
    "code": "# TEST\ntype(year_of_new_construction) == int",
    "id": "815956a3e3b8442d8823eb24ae59018f",
    "idx": 165,
    "time": "2021-02-06T02:32:00.336Z",
    "type": "execution"
   },
   {
    "id": "815956a3e3b8442d8823eb24ae59018f",
    "time": "2021-02-06T02:32:00.484Z",
    "type": "completion"
   },
   {
    "code": "# HIDDEN TEST\nyear_of_new_construction == 2017",
    "id": "4d65b39fe8cc4ebb9071abcbd14edb37",
    "idx": 166,
    "time": "2021-02-06T02:32:01.971Z",
    "type": "execution"
   },
   {
    "id": "4d65b39fe8cc4ebb9071abcbd14edb37",
    "time": "2021-02-06T02:32:02.104Z",
    "type": "completion"
   },
   {
    "code": "ins['score'].value_counts().head()",
    "id": "fb12e0c1376b4b6bb5f4cdec26099d1b",
    "idx": 168,
    "time": "2021-02-06T02:32:10.211Z",
    "type": "execution"
   },
   {
    "id": "fb12e0c1376b4b6bb5f4cdec26099d1b",
    "time": "2021-02-06T02:32:10.347Z",
    "type": "completion"
   },
   {
    "code": "ins_missing_score_pivot = ...\n\n# BEGIN SOLUTION\nins['Missing Score'] = (ins['score'] == -1).astype(\"str\")\n\nins_missing_score_pivot = ins.pivot_table(\n    index = \"type\", \n    columns = \"Missing Score\",\n    aggfunc = 'size',\n    fill_value = 0\n)\nins_missing_score_pivot['Total'] = ins_missing_score_pivot.sum(axis=1)\nins_missing_score_pivot.sort_values('Total', inplace=True, ascending=False)\nins_missing_score_pivot\n# END SOLUTION",
    "id": "ae18fb008ba842b98c232f286cf53648",
    "idx": 171,
    "time": "2021-02-06T02:33:02.389Z",
    "type": "execution"
   },
   {
    "id": "ae18fb008ba842b98c232f286cf53648",
    "time": "2021-02-06T02:33:02.655Z",
    "type": "completion"
   },
   {
    "code": "# TEST\nif type(ins_missing_score_pivot) == pd.DataFrame:\n    if False in ins_missing_score_pivot.columns: \n        ins_missing_score_pivot.rename(columns={False:\"False\"}, errors=\"raise\",inplace=True)\n    if True in ins_missing_score_pivot.columns:\n        ins_missing_score_pivot.rename(columns={True:\"True\"}, errors=\"raise\",inplace=True)\ntype(ins_missing_score_pivot) == pd.DataFrame",
    "id": "a51dd93fe1d840e7a036375dc9f05fea",
    "idx": 172,
    "time": "2021-02-06T02:33:08.720Z",
    "type": "execution"
   },
   {
    "id": "a51dd93fe1d840e7a036375dc9f05fea",
    "time": "2021-02-06T02:33:08.880Z",
    "type": "completion"
   },
   {
    "code": "# HIDDEN TEST\nset(ins_missing_score_pivot.columns) == {'False', 'Total', 'True'}",
    "id": "492f31b0174b4baaa037cd10c53c57ad",
    "idx": 173,
    "time": "2021-02-06T02:33:10.791Z",
    "type": "execution"
   },
   {
    "id": "492f31b0174b4baaa037cd10c53c57ad",
    "time": "2021-02-06T02:33:10.922Z",
    "type": "completion"
   },
   {
    "code": "# HIDDEN TEST\nlen(ins_missing_score_pivot) == 15",
    "id": "e3e2e174b45144b08c44ffbe0092ee83",
    "idx": 174,
    "time": "2021-02-06T02:33:12.663Z",
    "type": "execution"
   },
   {
    "id": "e3e2e174b45144b08c44ffbe0092ee83",
    "time": "2021-02-06T02:33:12.803Z",
    "type": "completion"
   },
   {
    "code": "# HIDDEN TEST\nins_missing_score_pivot[\"False\"][\"Routine - Unscheduled\"] == 14031 ",
    "id": "678cba902224430391b7daede724f380",
    "idx": 175,
    "time": "2021-02-06T02:33:14.464Z",
    "type": "execution"
   },
   {
    "id": "678cba902224430391b7daede724f380",
    "time": "2021-02-06T02:33:14.605Z",
    "type": "completion"
   },
   {
    "code": "# HIDDEN TEST\nins_missing_score_pivot.iloc[0,2] == 14077",
    "id": "ab4fe14ff77a4ca8935a32415a0af8bc",
    "idx": 176,
    "time": "2021-02-06T02:33:19.595Z",
    "type": "execution"
   },
   {
    "id": "ab4fe14ff77a4ca8935a32415a0af8bc",
    "time": "2021-02-06T02:33:19.722Z",
    "type": "completion"
   },
   {
    "code": "ins = ins[ins[\"score\"] > 0]",
    "id": "3076581e37b448568baf6a2b3ac9126a",
    "idx": 180,
    "time": "2021-02-06T02:34:04.278Z",
    "type": "execution"
   },
   {
    "id": "3076581e37b448568baf6a2b3ac9126a",
    "time": "2021-02-06T02:34:04.390Z",
    "type": "completion"
   },
   {
    "code": "ins_named = ...\n# BEGIN SOLUTION\nins_named = ins.merge(bus[[\"bid\", \"name\", \"address\"]], how=\"left\", on = \"bid\") \n# END SOLUTION\nins_named.head()",
    "id": "f5ea96a42dd444e98b94e47538b512a1",
    "idx": 182,
    "time": "2021-02-06T02:34:45.426Z",
    "type": "execution"
   },
   {
    "id": "f5ea96a42dd444e98b94e47538b512a1",
    "time": "2021-02-06T02:34:45.581Z",
    "type": "completion"
   },
   {
    "code": "# TEST\n\"name\" in ins_named and \"address\" in ins_named",
    "id": "e4ed58d31754472383d967dc19f5c9d9",
    "idx": 183,
    "time": "2021-02-06T02:34:49.722Z",
    "type": "execution"
   },
   {
    "id": "e4ed58d31754472383d967dc19f5c9d9",
    "time": "2021-02-06T02:34:49.859Z",
    "type": "completion"
   },
   {
    "code": "# TEST\nins_named[ins_named[\"Missing Score\"] == True].shape[0] == 0",
    "id": "f3206e390cae40c689a38a6eb245b0f9",
    "idx": 184,
    "time": "2021-02-06T02:34:51.605Z",
    "type": "execution"
   },
   {
    "id": "f3206e390cae40c689a38a6eb245b0f9",
    "time": "2021-02-06T02:34:51.743Z",
    "type": "completion"
   },
   {
    "code": "# TEST\nins_named.reset_index()['date'].equals(ins[ins['score'] > 0].reset_index()['date'])",
    "id": "f5a9999456344df88772db814e176112",
    "idx": 185,
    "time": "2021-02-06T02:34:53.523Z",
    "type": "execution"
   },
   {
    "id": "f5a9999456344df88772db814e176112",
    "time": "2021-02-06T02:34:53.662Z",
    "type": "completion"
   },
   {
    "code": "# HIDDEN TEST\nnp.isclose(sum(ins_named['name'].isnull()), 0, rtol=5)",
    "id": "c99ae9c0e7ed4632875f1d141eb92f3a",
    "idx": 186,
    "time": "2021-02-06T02:34:57.004Z",
    "type": "execution"
   },
   {
    "id": "c99ae9c0e7ed4632875f1d141eb92f3a",
    "time": "2021-02-06T02:34:57.136Z",
    "type": "completion"
   },
   {
    "code": "# HIDDEN TEST\nsol_merged = ins.merge(bus[[\"bid\", \"name\", \"address\"]], how=\"left\", left_on = \"bid\", right_on = \"bid\")\nins_named.equals(sol_merged[sol_merged[\"score\"] > 0])",
    "id": "573a49a717f14bdc8daa51b3f5d0cffc",
    "idx": 187,
    "time": "2021-02-06T02:34:58.822Z",
    "type": "execution"
   },
   {
    "id": "573a49a717f14bdc8daa51b3f5d0cffc",
    "time": "2021-02-06T02:34:58.956Z",
    "type": "completion"
   },
   {
    "code": "twenty_lowest_scoring = ... \n# BEGIN SOLUTION\ntwenty_lowest_scoring = (\n    ins_named.groupby('bid', as_index=False)\n        .aggregate({'name': 'first', 'score': 'median'})\n        .sort_values(['score', 'bid'] )\n        .rename(columns={'score': 'median score'})\n        .head(20)\n)\n# END SOLUTION\n\ntwenty_lowest_scoring",
    "id": "7fb17b7080a149d78a61ef29cb5277db",
    "idx": 189,
    "time": "2021-02-06T02:36:01.863Z",
    "type": "execution"
   },
   {
    "id": "7fb17b7080a149d78a61ef29cb5277db",
    "time": "2021-02-06T02:36:02.039Z",
    "type": "completion"
   },
   {
    "code": "# TEST\ntwenty_lowest_scoring.shape == (20, 3)",
    "id": "fe54f70f2ec3477e9b41172c08d14701",
    "idx": 190,
    "time": "2021-02-06T02:36:09.695Z",
    "type": "execution"
   },
   {
    "id": "fe54f70f2ec3477e9b41172c08d14701",
    "time": "2021-02-06T02:36:09.830Z",
    "type": "completion"
   },
   {
    "code": "# TEST\nset(twenty_lowest_scoring.columns) == {'bid', 'median score', 'name'}",
    "id": "68915877fa90445b8ddf9e831754b5ac",
    "idx": 191,
    "time": "2021-02-06T02:36:11.584Z",
    "type": "execution"
   },
   {
    "id": "68915877fa90445b8ddf9e831754b5ac",
    "time": "2021-02-06T02:36:11.717Z",
    "type": "completion"
   },
   {
    "code": "# HIDDEN TEST\n# print(twenty_lowest_scoring.to_html().replace(\"\\n\",\"\"))\nset(twenty_lowest_scoring[\"median score\"].values) == {54 , 57 , 58 , 60.5, 63.5, 64, \n                                                      64 , 64 , 64 , 64 , 64, 64.5, \n                                                      64.5, 64.5, 65, 65, 66, 66, 66, 66.5\n                                                      }",
    "id": "a74ae8d8ace442828e0945a27383d51e",
    "idx": 192,
    "time": "2021-02-06T02:36:13.446Z",
    "type": "execution"
   },
   {
    "id": "a74ae8d8ace442828e0945a27383d51e",
    "time": "2021-02-06T02:36:13.576Z",
    "type": "completion"
   },
   {
    "code": "low_score_violations = ...\n\n# BEGIN SOLUTION\nlow_score_violations = (\n    ins_named[ins_named['score'] < 65]\n        .merge(ins2vio, on='iid')\n        .merge(vio, on='vid')\n        .loc[:,'description']\n        .value_counts()\n        .sort_values(ascending=False)\n)\n# END SOLUTION\n\nlow_score_violations.head(20)",
    "id": "5c4465ab8d5241938b5b4aa60f634cc1",
    "idx": 194,
    "time": "2021-02-06T02:37:06.363Z",
    "type": "execution"
   },
   {
    "id": "5c4465ab8d5241938b5b4aa60f634cc1",
    "time": "2021-02-06T02:37:06.561Z",
    "type": "completion"
   },
   {
    "code": "# TEST\ntype(low_score_violations) == pd.Series",
    "id": "2fe38c8d2236497db59e3cdf11d538f5",
    "idx": 195,
    "time": "2021-02-06T02:37:21.544Z",
    "type": "execution"
   },
   {
    "id": "2fe38c8d2236497db59e3cdf11d538f5",
    "time": "2021-02-06T02:37:21.673Z",
    "type": "completion"
   },
   {
    "code": "# TEST\nlen(low_score_violations) == 50",
    "id": "ddd78752c0ab44048a34279fd6b15a54",
    "idx": 196,
    "time": "2021-02-06T02:37:23.150Z",
    "type": "execution"
   },
   {
    "id": "ddd78752c0ab44048a34279fd6b15a54",
    "time": "2021-02-06T02:37:23.299Z",
    "type": "completion"
   },
   {
    "code": "# TEST\nlow_score_violations[0] == 43",
    "id": "d85f43a6e27c48d28dccfab2d227237a",
    "idx": 197,
    "time": "2021-02-06T02:37:24.781Z",
    "type": "execution"
   },
   {
    "id": "d85f43a6e27c48d28dccfab2d227237a",
    "time": "2021-02-06T02:37:24.906Z",
    "type": "completion"
   },
   {
    "code": "# HIDDEN TEST\nnp.all(low_score_violations.head().values == np.array([43, 42, 40, 39, 37]))",
    "id": "ac584ba0e955403287d5b2272b15228a",
    "idx": 198,
    "time": "2021-02-06T02:37:26.629Z",
    "type": "execution"
   },
   {
    "id": "ac584ba0e955403287d5b2272b15228a",
    "time": "2021-02-06T02:37:26.773Z",
    "type": "completion"
   },
   {
    "code": "worst_restaurant = ...\n# BEGIN SOLUTION NO PROMPT\nworst_restaurant = ins_named.sort_values('score', ascending=False).tail(1)['name'].iloc[0]\n# END SOLUTION\nworst_restaurant",
    "id": "239bba4df8214704bcc4bae5ef6611e2",
    "idx": 200,
    "time": "2021-02-06T02:37:36.061Z",
    "type": "execution"
   },
   {
    "id": "239bba4df8214704bcc4bae5ef6611e2",
    "time": "2021-02-06T02:37:36.213Z",
    "type": "completion"
   },
   {
    "code": "# BEGIN SOLUTION\nscore_counts = ins.loc[ins[\"score\"] > 0, 'score'].value_counts()\nplt.bar(score_counts.keys(), score_counts, edgecolor='black')\nplt.xlabel(\"Score\")\nplt.ylabel(\"Count\")\nplt.title(\"Distribution of Inspection Scores\");\n# END SOLUTION",
    "id": "e848df57098849558eb8ff5f139279d7",
    "idx": 205,
    "time": "2021-02-06T02:39:43.680Z",
    "type": "execution"
   },
   {
    "id": "e848df57098849558eb8ff5f139279d7",
    "time": "2021-02-06T02:39:44.285Z",
    "type": "completion"
   },
   {
    "code": "score_counts",
    "id": "b58b8c05d82140d2ba3dbfe36161f511",
    "idx": 206,
    "time": "2021-02-06T02:39:51.510Z",
    "type": "execution"
   },
   {
    "id": "b58b8c05d82140d2ba3dbfe36161f511",
    "time": "2021-02-06T02:39:51.637Z",
    "type": "completion"
   },
   {
    "code": "# Initialize Otter\nimport otter\ngrader = otter.Notebook(\"hw2.ipynb\")",
    "id": "2f37e8a61ad4415c80af94caaa1091e2",
    "idx": 0,
    "time": "2021-02-07T22:33:19.582Z",
    "type": "execution"
   },
   {
    "code": "import numpy as np\nimport pandas as pd\n\nimport matplotlib\nimport matplotlib.pyplot as plt\nimport seaborn as sns\nsns.set()\nplt.style.use('fivethirtyeight')\n\nimport zipfile\nimport os # Used to interact with the file system",
    "id": "a0580a9eae9f475a8de9fa2d7536332c",
    "idx": 5,
    "time": "2021-02-07T22:33:19.602Z",
    "type": "execution"
   },
   {
    "code": "from pathlib import Path\ndata_dir = Path('.')\ndata_dir.mkdir(exist_ok = True)\nfile_path = data_dir / Path('data.zip')\ndest_path = file_path",
    "id": "3b5a93242ae649358fc7de11357ea507",
    "idx": 8,
    "time": "2021-02-07T22:33:19.607Z",
    "type": "execution"
   },
   {
    "code": "!ls ",
    "id": "777b46c0101b41af8d7cfb84f44b8444",
    "idx": 10,
    "time": "2021-02-07T22:33:19.615Z",
    "type": "execution"
   },
   {
    "code": "my_zip = zipfile.ZipFile(dest_path, 'r') # SOLUTION\nlist_names = [f.filename for f in my_zip.filelist] # SOLUTION\nlist_names",
    "id": "ea8cc4b827da4d05846d8e6d053d2d6d",
    "idx": 13,
    "time": "2021-02-07T22:33:19.622Z",
    "type": "execution"
   },
   {
    "code": "grader.check(\"q1a\")",
    "id": "0f6dc2d2abc74b5085c62dcce043432c",
    "idx": 14,
    "time": "2021-02-07T22:33:19.626Z",
    "type": "execution"
   },
   {
    "code": "# BEGIN SOLUTION\nmy_zip = zipfile.ZipFile(dest_path, 'r')\nfor file in my_zip.filelist:\n    print('{}\\t{}'.format(file.filename, file.file_size))\n# END SOLUTION",
    "id": "9d070929e9de42fb870436683f732e27",
    "idx": 17,
    "time": "2021-02-07T22:33:19.636Z",
    "type": "execution"
   },
   {
    "code": "data_dir = Path('.')\nmy_zip.extractall(data_dir)\n!ls {data_dir / Path(\"data\")}",
    "id": "9ac1c76d5eb44f95ac8a47740d49e56b",
    "idx": 19,
    "time": "2021-02-07T22:33:19.641Z",
    "type": "execution"
   },
   {
    "code": "import ds100_utils\n# BEGIN SOLUTION\ndata_dir = \"./\"\nfor f in list_names:\n    if not os.path.isdir(f):\n        print(ds100_utils.head(data_dir + f, 5), \"\\n\")\n# END SOLUTION",
    "id": "7b2429cd32e84272881ebf423a24681d",
    "idx": 22,
    "time": "2021-02-07T22:33:19.648Z",
    "type": "execution"
   },
   {
    "code": "# path to directory containing data\ndsDir = Path('data')\n\nbus = pd.read_csv(dsDir/'bus.csv', encoding='ISO-8859-1') # SOLUTION\nins2vio = pd.read_csv(dsDir/'ins2vio.csv') # SOLUTION\nins = pd.read_csv(dsDir/'ins.csv') # SOLUTION\nvio = pd.read_csv(dsDir/'vio.csv') # SOLUTION\n\n\n#This code is essential for the autograder to function properly. Do not edit\nins_test = ins",
    "id": "5016a54aab3142c0827d38ebcb2b0151",
    "idx": 24,
    "time": "2021-02-07T22:33:19.655Z",
    "type": "execution"
   },
   {
    "code": "bus.head() # SOLUTION",
    "id": "d7ca173d25024f8ebbfa117abfc82f25",
    "idx": 26,
    "time": "2021-02-07T22:33:19.664Z",
    "type": "execution"
   },
   {
    "code": "bus.describe() # SOLUTION",
    "id": "a1d8c5ba9e0c4ff09fe4da65880a3a0e",
    "idx": 28,
    "time": "2021-02-07T22:33:19.672Z",
    "type": "execution"
   },
   {
    "code": "assert all(bus.columns == ['business id column', 'name', 'address', 'city', 'state', 'postal_code',\n                           'latitude', 'longitude', 'phone_number'])\nassert 6250 <= len(bus) <= 6260\n\nassert all(ins.columns == ['iid', 'date', 'score', 'type'])\nassert 26660 <= len(ins) <= 26670\n\nassert all(vio.columns == ['description', 'risk_category', 'vid'])\nassert 60 <= len(vio) <= 65\n\nassert all(ins2vio.columns == ['iid', 'vid'])\nassert 40210 <= len(ins2vio) <= 40220",
    "id": "37061a444e014a3a8d3f86e0afa84764",
    "idx": 31,
    "time": "2021-02-07T22:33:19.687Z",
    "type": "execution"
   },
   {
    "code": "bus_summary = pd.DataFrame(**{'columns': ['business id column', 'latitude', 'longitude'],\n 'data': {'business id column': {'50%': 75685.0, 'max': 102705.0, 'min': 19.0},\n  'latitude': {'50%': -9999.0, 'max': 37.824494, 'min': -9999.0},\n  'longitude': {'50%': -9999.0,\n   'max': 0.0,\n   'min': -9999.0}},\n 'index': ['min', '50%', 'max']})\n\nins_summary = pd.DataFrame(**{'columns': ['score'],\n 'data': {'score': {'50%': 76.0, 'max': 100.0, 'min': -1.0}},\n 'index': ['min', '50%', 'max']})\n\nvio_summary = pd.DataFrame(**{'columns': ['vid'],\n 'data': {'vid': {'50%': 103135.0, 'max': 103177.0, 'min': 103102.0}},\n 'index': ['min', '50%', 'max']})\n\nfrom IPython.display import display\n\nprint('What we expect from your Businesses dataframe:')\ndisplay(bus_summary)\nprint('What we expect from your Inspections dataframe:')\ndisplay(ins_summary)\nprint('What we expect from your Violations dataframe:')\ndisplay(vio_summary)",
    "id": "59e501775cfe42bc8fa3789273bcc50a",
    "idx": 33,
    "time": "2021-02-07T22:33:19.697Z",
    "type": "execution"
   },
   {
    "code": "\"\"\"Run this cell to load this utility comparison function that we will use in various\ntests below (both tests you can see and those we run internally for grading).\n\nDo not modify the function in any way.\n\"\"\"\n\n\ndef df_allclose(actual, desired, columns=None, rtol=5e-2):\n    \"\"\"Compare selected columns of two dataframes on a few summary statistics.\n    \n    Compute the min, median and max of the two dataframes on the given columns, and compare\n    that they match numerically to the given relative tolerance.\n    \n    If they don't match, an AssertionError is raised (by `numpy.testing`).\n    \"\"\"    \n    # summary statistics to compare on\n    stats = ['min', '50%', 'max']\n    \n    # For the desired values, we can provide a full DF with the same structure as\n    # the actual data, or pre-computed summary statistics.\n    # We assume a pre-computed summary was provided if columns is None. In that case, \n    # `desired` *must* have the same structure as the actual's summary\n    if columns is None:\n        des = desired\n        columns = desired.columns\n    else:\n        des = desired[columns].describe().loc[stats]\n\n    # Extract summary stats from actual DF\n    act = actual[columns].describe().loc[stats]\n\n    return np.allclose(act, des, rtol)",
    "id": "d5ffdf0bbd8a4c3e95d2e7ac33e7860d",
    "idx": 36,
    "time": "2021-02-07T22:33:19.709Z",
    "type": "execution"
   },
   {
    "code": "grader.check(\"q1d\")",
    "id": "99733a788f95438787ffd8a70b4b9ced",
    "idx": 37,
    "time": "2021-02-07T22:33:19.722Z",
    "type": "execution"
   },
   {
    "code": "bus.head()",
    "id": "62f37994dcc6468c83c8d3d0b6558f6e",
    "idx": 44,
    "time": "2021-02-07T22:33:19.743Z",
    "type": "execution"
   },
   {
    "code": "bus = bus.rename(columns={\"business id column\": \"bid\"})  # SOLUTION",
    "id": "aa96d3bb426c4a8682d5657f79f9e756",
    "idx": 46,
    "time": "2021-02-07T22:33:19.752Z",
    "type": "execution"
   },
   {
    "code": "grader.check(\"q2a\")",
    "id": "75a9fa5d133342e3838045cf0756582f",
    "idx": 47,
    "time": "2021-02-07T22:33:19.760Z",
    "type": "execution"
   },
   {
    "code": "is_bid_unique = bus['bid'].value_counts().max() == 1 # SOLUTION",
    "id": "0d76b635be6447cf9732fba1f562377e",
    "idx": 49,
    "time": "2021-02-07T22:33:19.769Z",
    "type": "execution"
   },
   {
    "code": "grader.check(\"q2b\")",
    "id": "14fadb2f84a140cb8e6931f7065b98df",
    "idx": 50,
    "time": "2021-02-07T22:33:19.779Z",
    "type": "execution"
   },
   {
    "code": "name_counts = bus['name'].value_counts() # SOLUTION\nname_counts.head(20)",
    "id": "2a99fc89691b48f9907e6d6643c75237",
    "idx": 52,
    "time": "2021-02-07T22:33:19.790Z",
    "type": "execution"
   },
   {
    "code": "grader.check(\"q2ci\")",
    "id": "4f747d8340394c688d787bf724083c03",
    "idx": 53,
    "time": "2021-02-07T22:33:19.800Z",
    "type": "execution"
   },
   {
    "code": "address_counts = bus['address'].value_counts() # SOLUTION\naddress_counts.head(10)",
    "id": "183a5dadb159486b8434be732698e4d3",
    "idx": 55,
    "time": "2021-02-07T22:33:19.811Z",
    "type": "execution"
   },
   {
    "code": "grader.check(\"q2cii\")",
    "id": "49513908495f4f7788bd0d03f9449377",
    "idx": 56,
    "time": "2021-02-07T22:33:19.820Z",
    "type": "execution"
   },
   {
    "code": "zip_counts = bus.groupby(\"postal_code\").size().sort_values(ascending=False) # SOLUTION\nprint(zip_counts.to_string())",
    "id": "5804006bd014428a88d10527b34a43ea",
    "idx": 59,
    "time": "2021-02-07T22:33:19.833Z",
    "type": "execution"
   },
   {
    "code": "grader.check(\"q3a\")",
    "id": "c53d7f6be265433b85a56eaedd584b12",
    "idx": 60,
    "time": "2021-02-07T22:33:19.842Z",
    "type": "execution"
   },
   {
    "code": "# The ZIP code column is which of the following type of data:\n#   \"Quantitative Continuous\" \n#   \"Quantitative Discrete\"\n#   \"Qualitative Ordinal\"\n#   \"Qualitative Nominal\"\nq3b_part1 = \"Qualitative Nominal\" # SOLUTION\n\n# What Python data type is used to represent a ZIP code? \n#    \"str\"\n#    \"int\"\n#    \"bool\"\n#    \"float\"\nq3b_part2 = \"str\" # SOLUTION",
    "id": "d99fce53dfdf46b1890129d0b93766e0",
    "idx": 62,
    "time": "2021-02-07T22:33:19.852Z",
    "type": "execution"
   },
   {
    "code": "grader.check(\"q3b\")",
    "id": "1a967d65a0b6424f84525e47b199be4a",
    "idx": 63,
    "time": "2021-02-07T22:33:19.859Z",
    "type": "execution"
   },
   {
    "code": "valid_zips = pd.read_json(\"data/sf_zipcodes.json\", dtype=\"str\")['zip_codes'] # SOLUTION\nvalid_zips.head()",
    "id": "70fd88793c5643cb896c1aa0de89ae3f",
    "idx": 66,
    "time": "2021-02-07T22:33:19.868Z",
    "type": "execution"
   },
   {
    "code": "grader.check(\"q3ci\")",
    "id": "3a8df0edcf99423c82f186d302959a0c",
    "idx": 67,
    "time": "2021-02-07T22:33:19.880Z",
    "type": "execution"
   },
   {
    "code": "invalid_zip_bus = bus[~bus['postal_code'].isin(valid_zips)] # SOLUTION\ninvalid_zip_bus.head(20)",
    "id": "6ab9072474554202a2946d36398e7878",
    "idx": 69,
    "time": "2021-02-07T22:33:19.890Z",
    "type": "execution"
   },
   {
    "code": "grader.check(\"q3cii\")",
    "id": "9c63e04344e646f791c39c86047099ea",
    "idx": 70,
    "time": "2021-02-07T22:33:19.896Z",
    "type": "execution"
   },
   {
    "code": "missing_zip_address_count = bus[bus['postal_code'] == \"-9999\"]['address'].value_counts() # SOLUTION\nmissing_zip_address_count.head()",
    "id": "75185c29ae374e8ca3dc10416f56d249",
    "idx": 72,
    "time": "2021-02-07T22:33:19.904Z",
    "type": "execution"
   },
   {
    "code": "grader.check(\"q3d\")",
    "id": "801d53d4a8aa4c1386a9bf1de4c84e66",
    "idx": 73,
    "time": "2021-02-07T22:33:19.910Z",
    "type": "execution"
   },
   {
    "code": "# True or False: \n#  If we were to drop businesses with MISSING postal code values \n#   a particular class of business be affected.\nq3d_true_or_false = True # SOLUTION",
    "id": "0dd0783471e84514886805b3558ad02d",
    "idx": 75,
    "time": "2021-02-07T22:33:19.918Z",
    "type": "execution"
   },
   {
    "code": "grader.check(\"q3e\")",
    "id": "3e2b15686a124fc7b8f6c210dc4dd204",
    "idx": 76,
    "time": "2021-02-07T22:33:19.923Z",
    "type": "execution"
   },
   {
    "code": "bus['postal5'] = None\n# BEGIN SOLUTION\nbus['postal5'] = bus['postal_code'].str[:5]\nbus.loc[~bus['postal5'].isin(valid_zips), 'postal5'] = None \n# END SOLUTION\n\n# Checking the corrected postal5 column\nbus.loc[invalid_zip_bus.index, ['bid', 'name', 'postal_code', 'postal5']]",
    "id": "a0f80ff489ff4d97805943a55098ea29",
    "idx": 78,
    "time": "2021-02-07T22:33:19.929Z",
    "type": "execution"
   },
   {
    "code": "grader.check(\"q3f\")",
    "id": "567ee95340f1414d9d6e3bf430ad87f8",
    "idx": 79,
    "time": "2021-02-07T22:33:19.936Z",
    "type": "execution"
   },
   {
    "code": "ins.head(5)",
    "id": "b8881d7c9dcd44fe8074439b93ac254a",
    "idx": 82,
    "time": "2021-02-07T22:33:19.942Z",
    "type": "execution"
   },
   {
    "code": "is_ins_iid_a_primary_key = ins['iid'].value_counts().max() == 1 # SOLUTION",
    "id": "e88f5c68cff5450686988169bad58d61",
    "idx": 84,
    "time": "2021-02-07T22:33:19.949Z",
    "type": "execution"
   },
   {
    "code": "grader.check(\"q4a\")",
    "id": "745164ade91b40ed9df5f6d7d940b2de",
    "idx": 85,
    "time": "2021-02-07T22:33:19.953Z",
    "type": "execution"
   },
   {
    "code": "ins['bid'] = ins['iid'].str.split(\"_\", expand=True)[0].astype(int) # SOLUTION",
    "id": "9d0e325ab1b2400395deaa359b5b1648",
    "idx": 88,
    "time": "2021-02-07T22:33:19.958Z",
    "type": "execution"
   },
   {
    "code": "grader.check(\"q4bi\")",
    "id": "d4168b810ba843098bb816fb9cdf8b17",
    "idx": 89,
    "time": "2021-02-07T22:33:19.966Z",
    "type": "execution"
   },
   {
    "code": "invalid_bid_count = (~ins['bid'].isin(bus['bid'])).sum() # SOLUTION",
    "id": "dd2df581ec8d45d686c6ab631553c663",
    "idx": 91,
    "time": "2021-02-07T22:33:19.971Z",
    "type": "execution"
   },
   {
    "code": "grader.check(\"q4bii\")",
    "id": "3a3a0231850a4d36bc69be43dc121cd9",
    "idx": 92,
    "time": "2021-02-07T22:33:19.978Z",
    "type": "execution"
   },
   {
    "code": "# True or False: The column ins['bid'] is a foreign key \n#   referencing the bus['bid'] primary key.\n\nq4b_is_foreign_key = True # SOLUTION",
    "id": "4a029b570aaa4483a45a04a361b7e5d7",
    "idx": 94,
    "time": "2021-02-07T22:33:19.983Z",
    "type": "execution"
   },
   {
    "code": "grader.check(\"q4biii\")",
    "id": "056dfdd3ae4747ba88ab82a6c10972b2",
    "idx": 95,
    "time": "2021-02-07T22:33:19.988Z",
    "type": "execution"
   },
   {
    "code": "ins_date_type = type(ins['date'][0]) # SOLUTION\nins_date_type",
    "id": "33ac1b0e4feb463287689fa996e1a5a5",
    "idx": 98,
    "time": "2021-02-07T22:33:19.997Z",
    "type": "execution"
   },
   {
    "code": "grader.check(\"q4ci\")",
    "id": "8a9c6f7e038041cb963f8e6c3b47ba44",
    "idx": 99,
    "time": "2021-02-07T22:33:20.002Z",
    "type": "execution"
   },
   {
    "code": "ins['timestamp'] = pd.to_datetime(ins['date']) # SOLUTION",
    "id": "14da3c29c99740a2844ac15e91d6f9c0",
    "idx": 101,
    "time": "2021-02-07T22:33:20.007Z",
    "type": "execution"
   },
   {
    "code": "grader.check(\"q4cii\")",
    "id": "098bb3c2c931469987797e896d341362",
    "idx": 102,
    "time": "2021-02-07T22:33:20.011Z",
    "type": "execution"
   },
   {
    "code": "earliest_date = ins['timestamp'].min() # SOLUTION\nlatest_date = ins['timestamp'].max() # SOLUTION\n\nprint(\"Earliest Date:\", earliest_date)\nprint(\"Latest Date:\", latest_date)",
    "id": "45b6404cd77d42b3bd7be1ffd984db96",
    "idx": 104,
    "time": "2021-02-07T22:33:20.017Z",
    "type": "execution"
   },
   {
    "code": "grader.check(\"q4ciii\")",
    "id": "f001915d69a548eb86a2796facd55b0b",
    "idx": 105,
    "time": "2021-02-07T22:33:20.022Z",
    "type": "execution"
   },
   {
    "code": "ins['year'] = ins['timestamp'].dt.year # SOLUTION",
    "id": "2d8807c491d54df4890fd69737b65748",
    "idx": 107,
    "time": "2021-02-07T22:33:20.027Z",
    "type": "execution"
   },
   {
    "code": "grader.check(\"q4civ\")",
    "id": "25b4908d2a204327b77144dbf1bb28bc",
    "idx": 108,
    "time": "2021-02-07T22:33:20.031Z",
    "type": "execution"
   },
   {
    "code": "ins.head()",
    "id": "620eed656e0d43da9f47d12ee1cfef4b",
    "idx": 109,
    "time": "2021-02-07T22:33:20.038Z",
    "type": "execution"
   },
   {
    "code": "ins_pivot = ins.pivot_table(columns = \"year\", index = \"type\", aggfunc = len, fill_value = 0) # SOLUTION\nins_pivot = ins_pivot[\"bid\"] # SOLUTION\nins_pivot['Total'] = ins_pivot.sum(axis=1) # SOLUTION\nins_pivot_sorted = ins_pivot.sort_values('Total', ascending=False) # SOLUTION\nins_pivot_sorted",
    "id": "e2365508afe04ca5b9b9b5de258fa266",
    "idx": 111,
    "time": "2021-02-07T22:33:20.044Z",
    "type": "execution"
   },
   {
    "code": "grader.check(\"q4di\")",
    "id": "048160e22248434795511cf8fbf37076",
    "idx": 112,
    "time": "2021-02-07T22:33:20.050Z",
    "type": "execution"
   },
   {
    "code": "year_of_new_construction = 2017 # SOLUTION",
    "id": "65671083466f474688a641ca04af2d57",
    "idx": 114,
    "time": "2021-02-07T22:33:20.055Z",
    "type": "execution"
   },
   {
    "code": "grader.check(\"q4dii\")",
    "id": "eae4ed7e2db14dbe82908de6f9b01311",
    "idx": 115,
    "time": "2021-02-07T22:33:20.060Z",
    "type": "execution"
   },
   {
    "code": "ins['score'].value_counts().head()",
    "id": "0fbbbd056f54448282418be1abced4e4",
    "idx": 117,
    "time": "2021-02-07T22:33:20.065Z",
    "type": "execution"
   },
   {
    "code": "ins_missing_score_pivot = ...\n\n# BEGIN SOLUTION\nins['Missing Score'] = (ins['score'] == -1).astype(\"str\")\n\nins_missing_score_pivot = ins.pivot_table(\n    index = \"type\", \n    columns = \"Missing Score\",\n    aggfunc = 'size',\n    fill_value = 0\n)\nins_missing_score_pivot['Total'] = ins_missing_score_pivot.sum(axis=1)\nins_missing_score_pivot.sort_values('Total', inplace=True, ascending=False)\nins_missing_score_pivot\n# END SOLUTION",
    "id": "e819438d4509469e852b078a77238558",
    "idx": 119,
    "time": "2021-02-07T22:33:20.072Z",
    "type": "execution"
   },
   {
    "code": "grader.check(\"q4e\")",
    "id": "81120ac4f7c34d45915b5ab4a848e80a",
    "idx": 120,
    "time": "2021-02-07T22:33:20.076Z",
    "type": "execution"
   },
   {
    "code": "ins = ins[ins[\"score\"] > 0]",
    "id": "8b9928913666405e809a1f03562289dd",
    "idx": 124,
    "time": "2021-02-07T22:33:20.085Z",
    "type": "execution"
   },
   {
    "code": "ins_named = ...\n# BEGIN SOLUTION\nins_named = ins.merge(bus[[\"bid\", \"name\", \"address\"]], how=\"left\", on = \"bid\") \n# END SOLUTION\nins_named.head()",
    "id": "736e453cd2d9429e828035aecf9296e7",
    "idx": 126,
    "time": "2021-02-07T22:33:20.091Z",
    "type": "execution"
   },
   {
    "code": "grader.check(\"q5a\")",
    "id": "183f05f99ed944268e0ff01040c9c449",
    "idx": 127,
    "time": "2021-02-07T22:33:20.095Z",
    "type": "execution"
   },
   {
    "code": "twenty_lowest_scoring = ... \n# BEGIN SOLUTION\ntwenty_lowest_scoring = (\n    ins_named.groupby('bid', as_index=False)\n        .aggregate({'name': 'first', 'score': 'median'})\n        .sort_values(['score', 'bid'] )\n        .rename(columns={'score': 'median score'})\n        .head(20)\n)\n# END SOLUTION\n\ntwenty_lowest_scoring",
    "id": "e3b09b4fc3fe4c4b8d37885b87abeda3",
    "idx": 129,
    "time": "2021-02-07T22:33:20.102Z",
    "type": "execution"
   },
   {
    "code": "grader.check(\"q5b\")",
    "id": "07af4e1ac9b64a40bca581e389649548",
    "idx": 130,
    "time": "2021-02-07T22:33:20.106Z",
    "type": "execution"
   },
   {
    "code": "low_score_violations = ...\n\n# BEGIN SOLUTION\nlow_score_violations = (\n    ins_named[ins_named['score'] < 65]\n        .merge(ins2vio, on='iid')\n        .merge(vio, on='vid')\n        .loc[:,'description']\n        .value_counts()\n        .sort_values(ascending=False)\n)\n# END SOLUTION\n\nlow_score_violations.head(20)",
    "id": "611b7e37a4a84f2c82dfcff8c12f0a33",
    "idx": 132,
    "time": "2021-02-07T22:33:20.113Z",
    "type": "execution"
   },
   {
    "code": "grader.check(\"q5c\")",
    "id": "aec4289285664b898ee53e6831b3f1fb",
    "idx": 133,
    "time": "2021-02-07T22:33:20.117Z",
    "type": "execution"
   },
   {
    "code": "worst_restaurant = ...\n# BEGIN SOLUTION NO PROMPT\nworst_restaurant = ins_named.sort_values('score', ascending=False).tail(1)['name'].iloc[0]\n# END SOLUTION\nworst_restaurant",
    "id": "093c2fac289c4c778c93b1350500cc02",
    "idx": 135,
    "time": "2021-02-07T22:33:20.122Z",
    "type": "execution"
   },
   {
    "code": "# BEGIN SOLUTION\nscore_counts = ins.loc[ins[\"score\"] > 0, 'score'].value_counts()\nplt.bar(score_counts.keys(), score_counts, edgecolor='black')\nplt.xlabel(\"Score\")\nplt.ylabel(\"Count\")\nplt.title(\"Distribution of Inspection Scores\");\n# END SOLUTION",
    "id": "23ad5d99268a42288ce351cd32ec69f3",
    "idx": 141,
    "time": "2021-02-07T22:33:20.131Z",
    "type": "execution"
   },
   {
    "code": "score_counts",
    "id": "94f8894c24aa4d739dca74fe09de0037",
    "idx": 143,
    "time": "2021-02-07T22:33:20.136Z",
    "type": "execution"
   },
   {
    "code": "# THIS CELL AND ANY CELLS ADDED BELOW WILL NOT BE GRADED",
    "id": "d33c6685987740508eb5a7f61a843c47",
    "idx": 148,
    "time": "2021-02-07T22:33:20.144Z",
    "type": "execution"
   },
   {
    "code": "grader.check_all()",
    "id": "7a1fd441cebb40cd8dd9866c7dbd14ed",
    "idx": 151,
    "time": "2021-02-07T22:33:20.149Z",
    "type": "execution"
   },
   {
    "code": "# Save your notebook first, then run this cell to export your submission.\ngrader.export()",
    "id": "c2d20742e9be4c10b15039292ab7e6a7",
    "idx": 153,
    "time": "2021-02-07T22:33:20.155Z",
    "type": "execution"
   },
   {
    "id": "2f37e8a61ad4415c80af94caaa1091e2",
    "time": "2021-02-07T22:33:20.721Z",
    "type": "completion"
   },
   {
    "id": "a0580a9eae9f475a8de9fa2d7536332c",
    "time": "2021-02-07T22:33:21.384Z",
    "type": "completion"
   },
   {
    "id": "3b5a93242ae649358fc7de11357ea507",
    "time": "2021-02-07T22:33:21.399Z",
    "type": "completion"
   },
   {
    "id": "777b46c0101b41af8d7cfb84f44b8444",
    "time": "2021-02-07T22:33:22.164Z",
    "type": "completion"
   },
   {
    "id": "ea8cc4b827da4d05846d8e6d053d2d6d",
    "time": "2021-02-07T22:33:22.191Z",
    "type": "completion"
   },
   {
    "id": "0f6dc2d2abc74b5085c62dcce043432c",
    "time": "2021-02-07T22:33:22.302Z",
    "type": "completion"
   },
   {
    "id": "9d070929e9de42fb870436683f732e27",
    "time": "2021-02-07T22:33:22.308Z",
    "type": "completion"
   },
   {
    "id": "9ac1c76d5eb44f95ac8a47740d49e56b",
    "time": "2021-02-07T22:33:23.202Z",
    "type": "completion"
   },
   {
    "id": "7b2429cd32e84272881ebf423a24681d",
    "time": "2021-02-07T22:33:23.269Z",
    "type": "completion"
   },
   {
    "id": "5016a54aab3142c0827d38ebcb2b0151",
    "time": "2021-02-07T22:33:23.347Z",
    "type": "completion"
   },
   {
    "id": "d7ca173d25024f8ebbfa117abfc82f25",
    "time": "2021-02-07T22:33:23.359Z",
    "type": "completion"
   },
   {
    "id": "a1d8c5ba9e0c4ff09fe4da65880a3a0e",
    "time": "2021-02-07T22:33:23.414Z",
    "type": "completion"
   },
   {
    "id": "37061a444e014a3a8d3f86e0afa84764",
    "time": "2021-02-07T22:33:23.416Z",
    "type": "completion"
   },
   {
    "id": "59e501775cfe42bc8fa3789273bcc50a",
    "time": "2021-02-07T22:33:23.502Z",
    "type": "completion"
   },
   {
    "id": "d5ffdf0bbd8a4c3e95d2e7ac33e7860d",
    "time": "2021-02-07T22:33:23.505Z",
    "type": "completion"
   },
   {
    "id": "99733a788f95438787ffd8a70b4b9ced",
    "time": "2021-02-07T22:33:23.770Z",
    "type": "completion"
   },
   {
    "id": "62f37994dcc6468c83c8d3d0b6558f6e",
    "time": "2021-02-07T22:33:23.779Z",
    "type": "completion"
   },
   {
    "id": "aa96d3bb426c4a8682d5657f79f9e756",
    "time": "2021-02-07T22:33:23.825Z",
    "type": "completion"
   },
   {
    "id": "75a9fa5d133342e3838045cf0756582f",
    "time": "2021-02-07T22:33:23.831Z",
    "type": "completion"
   },
   {
    "id": "0d76b635be6447cf9732fba1f562377e",
    "time": "2021-02-07T22:33:23.834Z",
    "type": "completion"
   },
   {
    "id": "14fadb2f84a140cb8e6931f7065b98df",
    "time": "2021-02-07T22:33:23.891Z",
    "type": "completion"
   },
   {
    "id": "2a99fc89691b48f9907e6d6643c75237",
    "time": "2021-02-07T22:33:23.897Z",
    "type": "completion"
   },
   {
    "id": "4f747d8340394c688d787bf724083c03",
    "time": "2021-02-07T22:33:24.006Z",
    "type": "completion"
   },
   {
    "id": "183a5dadb159486b8434be732698e4d3",
    "time": "2021-02-07T22:33:24.010Z",
    "type": "completion"
   },
   {
    "id": "49513908495f4f7788bd0d03f9449377",
    "time": "2021-02-07T22:33:24.047Z",
    "type": "completion"
   },
   {
    "id": "5804006bd014428a88d10527b34a43ea",
    "time": "2021-02-07T22:33:24.054Z",
    "type": "completion"
   },
   {
    "id": "c53d7f6be265433b85a56eaedd584b12",
    "time": "2021-02-07T22:33:24.088Z",
    "type": "completion"
   },
   {
    "id": "d99fce53dfdf46b1890129d0b93766e0",
    "time": "2021-02-07T22:33:24.091Z",
    "type": "completion"
   },
   {
    "id": "1a967d65a0b6424f84525e47b199be4a",
    "time": "2021-02-07T22:33:24.136Z",
    "type": "completion"
   },
   {
    "id": "70fd88793c5643cb896c1aa0de89ae3f",
    "time": "2021-02-07T22:33:24.169Z",
    "type": "completion"
   },
   {
    "id": "3a8df0edcf99423c82f186d302959a0c",
    "time": "2021-02-07T22:33:24.193Z",
    "type": "completion"
   },
   {
    "id": "6ab9072474554202a2946d36398e7878",
    "time": "2021-02-07T22:33:24.309Z",
    "type": "completion"
   },
   {
    "id": "9c63e04344e646f791c39c86047099ea",
    "time": "2021-02-07T22:33:24.319Z",
    "type": "completion"
   },
   {
    "id": "75185c29ae374e8ca3dc10416f56d249",
    "time": "2021-02-07T22:33:24.325Z",
    "type": "completion"
   },
   {
    "id": "801d53d4a8aa4c1386a9bf1de4c84e66",
    "time": "2021-02-07T22:33:24.387Z",
    "type": "completion"
   },
   {
    "id": "0dd0783471e84514886805b3558ad02d",
    "time": "2021-02-07T22:33:24.402Z",
    "type": "completion"
   },
   {
    "id": "3e2b15686a124fc7b8f6c210dc4dd204",
    "time": "2021-02-07T22:33:24.412Z",
    "type": "completion"
   },
   {
    "id": "a0f80ff489ff4d97805943a55098ea29",
    "time": "2021-02-07T22:33:24.444Z",
    "type": "completion"
   },
   {
    "id": "567ee95340f1414d9d6e3bf430ad87f8",
    "time": "2021-02-07T22:33:24.677Z",
    "type": "completion"
   },
   {
    "id": "b8881d7c9dcd44fe8074439b93ac254a",
    "time": "2021-02-07T22:33:24.684Z",
    "type": "completion"
   },
   {
    "id": "e88f5c68cff5450686988169bad58d61",
    "time": "2021-02-07T22:33:24.724Z",
    "type": "completion"
   },
   {
    "id": "745164ade91b40ed9df5f6d7d940b2de",
    "time": "2021-02-07T22:33:24.730Z",
    "type": "completion"
   },
   {
    "id": "9d0e325ab1b2400395deaa359b5b1648",
    "time": "2021-02-07T22:33:24.734Z",
    "type": "completion"
   },
   {
    "id": "d4168b810ba843098bb816fb9cdf8b17",
    "time": "2021-02-07T22:33:24.787Z",
    "type": "completion"
   },
   {
    "id": "dd2df581ec8d45d686c6ab631553c663",
    "time": "2021-02-07T22:33:24.794Z",
    "type": "completion"
   },
   {
    "id": "3a3a0231850a4d36bc69be43dc121cd9",
    "time": "2021-02-07T22:33:24.842Z",
    "type": "completion"
   },
   {
    "id": "4a029b570aaa4483a45a04a361b7e5d7",
    "time": "2021-02-07T22:33:24.847Z",
    "type": "completion"
   },
   {
    "id": "056dfdd3ae4747ba88ab82a6c10972b2",
    "time": "2021-02-07T22:33:25.023Z",
    "type": "completion"
   },
   {
    "id": "33ac1b0e4feb463287689fa996e1a5a5",
    "time": "2021-02-07T22:33:25.264Z",
    "type": "completion"
   },
   {
    "id": "8a9c6f7e038041cb963f8e6c3b47ba44",
    "time": "2021-02-07T22:33:25.288Z",
    "type": "completion"
   },
   {
    "id": "14da3c29c99740a2844ac15e91d6f9c0",
    "time": "2021-02-07T22:33:25.295Z",
    "type": "completion"
   },
   {
    "id": "098bb3c2c931469987797e896d341362",
    "time": "2021-02-07T22:33:25.310Z",
    "type": "completion"
   },
   {
    "id": "45b6404cd77d42b3bd7be1ffd984db96",
    "time": "2021-02-07T22:33:25.328Z",
    "type": "completion"
   },
   {
    "id": "f001915d69a548eb86a2796facd55b0b",
    "time": "2021-02-07T22:33:25.346Z",
    "type": "completion"
   },
   {
    "id": "2d8807c491d54df4890fd69737b65748",
    "time": "2021-02-07T22:33:25.446Z",
    "type": "completion"
   },
   {
    "id": "25b4908d2a204327b77144dbf1bb28bc",
    "time": "2021-02-07T22:33:25.457Z",
    "type": "completion"
   },
   {
    "id": "620eed656e0d43da9f47d12ee1cfef4b",
    "time": "2021-02-07T22:33:25.468Z",
    "type": "completion"
   },
   {
    "id": "e2365508afe04ca5b9b9b5de258fa266",
    "time": "2021-02-07T22:33:25.668Z",
    "type": "completion"
   },
   {
    "id": "048160e22248434795511cf8fbf37076",
    "time": "2021-02-07T22:33:25.684Z",
    "type": "completion"
   },
   {
    "id": "65671083466f474688a641ca04af2d57",
    "time": "2021-02-07T22:33:26.047Z",
    "type": "completion"
   },
   {
    "id": "eae4ed7e2db14dbe82908de6f9b01311",
    "time": "2021-02-07T22:33:26.075Z",
    "type": "completion"
   },
   {
    "id": "0fbbbd056f54448282418be1abced4e4",
    "time": "2021-02-07T22:33:26.085Z",
    "type": "completion"
   },
   {
    "id": "e819438d4509469e852b078a77238558",
    "time": "2021-02-07T22:33:26.200Z",
    "type": "completion"
   },
   {
    "id": "81120ac4f7c34d45915b5ab4a848e80a",
    "time": "2021-02-07T22:33:26.220Z",
    "type": "completion"
   },
   {
    "id": "8b9928913666405e809a1f03562289dd",
    "time": "2021-02-07T22:33:26.252Z",
    "type": "completion"
   },
   {
    "id": "736e453cd2d9429e828035aecf9296e7",
    "time": "2021-02-07T22:33:26.300Z",
    "type": "completion"
   },
   {
    "id": "183f05f99ed944268e0ff01040c9c449",
    "time": "2021-02-07T22:33:26.378Z",
    "type": "completion"
   },
   {
    "id": "e3b09b4fc3fe4c4b8d37885b87abeda3",
    "time": "2021-02-07T22:33:26.391Z",
    "type": "completion"
   },
   {
    "id": "07af4e1ac9b64a40bca581e389649548",
    "time": "2021-02-07T22:33:26.399Z",
    "type": "completion"
   },
   {
    "id": "611b7e37a4a84f2c82dfcff8c12f0a33",
    "time": "2021-02-07T22:33:26.410Z",
    "type": "completion"
   },
   {
    "id": "aec4289285664b898ee53e6831b3f1fb",
    "time": "2021-02-07T22:33:26.418Z",
    "type": "completion"
   },
   {
    "id": "093c2fac289c4c778c93b1350500cc02",
    "time": "2021-02-07T22:33:26.426Z",
    "type": "completion"
   },
   {
    "id": "23ad5d99268a42288ce351cd32ec69f3",
    "time": "2021-02-07T22:33:26.557Z",
    "type": "completion"
   },
   {
    "id": "94f8894c24aa4d739dca74fe09de0037",
    "time": "2021-02-07T22:33:26.571Z",
    "type": "completion"
   },
   {
    "id": "d33c6685987740508eb5a7f61a843c47",
    "time": "2021-02-07T22:33:26.578Z",
    "type": "completion"
   },
   {
    "id": "7a1fd441cebb40cd8dd9866c7dbd14ed",
    "time": "2021-02-07T22:33:26.973Z",
    "type": "completion"
   },
   {
    "id": "c2d20742e9be4c10b15039292ab7e6a7",
    "time": "2021-02-07T22:33:32.877Z",
    "type": "completion"
   }
  ],
  "kernelspec": {
   "display_name": "Python 3",
   "language": "python",
   "name": "python3"
  },
  "language_info": {
   "codemirror_mode": {
    "name": "ipython",
    "version": 3
   },
   "file_extension": ".py",
   "mimetype": "text/x-python",
   "name": "python",
   "nbconvert_exporter": "python",
   "pygments_lexer": "ipython3",
   "version": "3.8.6"
  }
 },
 "nbformat": 4,
 "nbformat_minor": 4
}
