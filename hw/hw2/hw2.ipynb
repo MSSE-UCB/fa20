{
 "cells": [
  {
   "cell_type": "code",
   "execution_count": null,
   "metadata": {
    "deletable": false,
    "editable": false
   },
   "outputs": [],
   "source": [
    "# Initialize Otter\n",
    "import otter\n",
    "grader = otter.Notebook(\"hw2.ipynb\")"
   ]
  },
  {
   "cell_type": "markdown",
   "metadata": {
    "nbgrader": {
     "grade": false,
     "grade_id": "intro-hw2",
     "locked": true,
     "schema_version": 2,
     "solution": false
    }
   },
   "source": [
    "# Homework 2: Food Safety\n",
    "## Cleaning and Exploring Data with Pandas\n",
    "## Due Date: Tuesday, February 16, 11:59 PM\n",
    "## Collaboration Policy\n",
    "\n",
    "Data science is a collaborative activity. While you may talk with others about\n",
    "the project, we ask that you **write your solutions individually**. If you do\n",
    "discuss the assignments with others please **include their names** at the top\n",
    "of your notebook."
   ]
  },
  {
   "cell_type": "markdown",
   "metadata": {},
   "source": [
    "**Collaborators**: *list collaborators here*"
   ]
  },
  {
   "cell_type": "markdown",
   "metadata": {},
   "source": [
    "\n",
    "## This Assignment\n",
    "\n",
    "In this project, we will investigate restaurant food safety scores for restaurants in San Francisco. The scores and violation information have been [made available by the San Francisco Department of Public Health](https://data.sfgov.org/Health-and-Social-Services/Restaurant-Scores-LIVES-Standard/pyih-qa8i). The main goal for this assignment is to walk through the process of Data Cleaning and EDA. \n",
    "\n",
    "\n",
    "As we clean and explore these data, you will gain practice with:\n",
    "* Reading simple csv files and using Pandas\n",
    "* Working with data at different levels of granularity\n",
    "* Identifying the type of data collected, missing values, anomalies, etc.\n",
    "* Exploring characteristics and distributions of individual variables\n",
    "\n",
    "## Score Breakdown \n",
    "Question | Points\n",
    "--- | ---\n",
    "1a | 1\n",
    "1b | 0\n",
    "1c | 0\n",
    "1d | 3\n",
    "1e | 1\n",
    "2a | 1\n",
    "2b | 1\n",
    "2ci | 1\n",
    "2cii | 1\n",
    "3a | 1\n",
    "3b | 2\n",
    "3ci | 1\n",
    "3cii | 1\n",
    "3d | 3\n",
    "3e | 2\n",
    "3f | 2\n",
    "4a | 1\n",
    "4bi | 1\n",
    "4bii | 1\n",
    "4biii | 1\n",
    "4ci | 1\n",
    "4cii | 1\n",
    "4ciii | 1\n",
    "4civ | 1\n",
    "4di | 2\n",
    "4dii | 2\n",
    "4e | 2\n",
    "5a | 2\n",
    "5b | 3\n",
    "5c | 2\n",
    "5d | 2\n",
    "6a|1\n",
    "6b|2\n",
    "Total | 47"
   ]
  },
  {
   "cell_type": "markdown",
   "metadata": {},
   "source": [
    "## Before You Start\n",
    "\n",
    "For each question in the assignment, please write down your answer in the answer cell(s) right below the question. \n",
    "\n",
    "We understand that it is helpful to have extra cells breaking down the process towards reaching your final answer. If you happen to create new cells below your answer to run codes, **NEVER** add cells between a question cell and the answer cell below it. It will cause errors when we run the autograder, and it will sometimes cause a failure to generate the PDF file.\n",
    "\n",
    "**Important note: The local autograder tests will not be comprehensive. You can pass the automated tests in your notebook but still fail tests in the autograder.** Please be sure to check your results carefully.\n",
    "\n",
    "Finally, unless we state otherwise, try to avoid using python for loops or list comprehensions.  The majority of this assignment can be done using builtin commands in Pandas and numpy.  \n"
   ]
  },
  {
   "cell_type": "code",
   "execution_count": 1,
   "metadata": {
    "nbgrader": {
     "grade": false,
     "grade_id": "import",
     "locked": true,
     "schema_version": 2,
     "solution": false
    }
   },
   "outputs": [],
   "source": [
    "import numpy as np\n",
    "import pandas as pd\n",
    "\n",
    "import matplotlib\n",
    "import matplotlib.pyplot as plt\n",
    "import seaborn as sns\n",
    "sns.set()\n",
    "plt.style.use('fivethirtyeight')\n",
    "\n",
    "import zipfile\n",
    "import os # Used to interact with the file system"
   ]
  },
  {
   "cell_type": "markdown",
   "metadata": {
    "nbgrader": {
     "grade": false,
     "grade_id": "download",
     "locked": true,
     "schema_version": 2,
     "solution": false
    }
   },
   "source": [
    "## Obtaining the Data\n",
    "\n",
    "### File Systems and I/O\n",
    "\n"
   ]
  },
  {
   "cell_type": "markdown",
   "metadata": {},
   "source": [
    "In general, we will focus on using python commands to investigate files.  However, it can sometimes be easier to use shell commands in your local operating system.  The following cells demonstrate how to do this."
   ]
  },
  {
   "cell_type": "code",
   "execution_count": 2,
   "metadata": {},
   "outputs": [],
   "source": [
    "from pathlib import Path\n",
    "data_dir = Path('.')\n",
    "data_dir.mkdir(exist_ok = True)\n",
    "file_path = data_dir / Path('data.zip')\n",
    "dest_path = file_path"
   ]
  },
  {
   "cell_type": "markdown",
   "metadata": {},
   "source": [
    "After running the cell above, if you list the contents of the directory containing this notebook, you should see `data.zip`.\n",
    "\n",
    "*Note*: The command below starts with an `!`. This tells our Jupyter notebook to pass this command to the operating system. In this case, the command is the `ls` Unix command which lists files in the current directory."
   ]
  },
  {
   "cell_type": "code",
   "execution_count": 3,
   "metadata": {},
   "outputs": [],
   "source": [
    "!ls "
   ]
  },
  {
   "cell_type": "markdown",
   "metadata": {},
   "source": [
    "## 1: Loading Food Safety Data\n",
    "\n",
    "We have data, but we don't have any specific questions about the data yet. Let's focus on understanding the structure of the data; this involves answering questions such as:\n",
    "\n",
    "* Is the data in a standard format or encoding?\n",
    "* Is the data organized in records?\n",
    "* What are the fields in each record?\n",
    "\n",
    "Let's start by looking at the contents of `data.zip`. It's not a just single file but rather a compressed directory of multiple files. We could inspect it by uncompressing it using a shell command such as `!unzip data.zip`, but in this project we're going to do almost everything in Python for maximum portability."
   ]
  },
  {
   "cell_type": "markdown",
   "metadata": {
    "deletable": false,
    "editable": false
   },
   "source": [
    "## Question 1a: Looking Inside and Extracting the Zip Files\n",
    "\n",
    "Assign `my_zip` to a `zipfile.Zipfile` object representing `data.zip`, and assign `list_names` to a list of all the names of the contents in `data.zip`.\n",
    "\n",
    "Hint: The [Python docs](https://docs.python.org/3/library/zipfile.html) describe how to create a `zipfile.ZipFile` object.\n",
    "\n",
    "<!--\n",
    "BEGIN QUESTION\n",
    "name: q1a\n",
    "points: 1\n",
    "-->"
   ]
  },
  {
   "cell_type": "code",
   "execution_count": 4,
   "metadata": {},
   "outputs": [],
   "source": [
    "my_zip = ...\n",
    "list_names = ...\n",
    "list_names"
   ]
  },
  {
   "cell_type": "code",
   "execution_count": null,
   "metadata": {
    "deletable": false,
    "editable": false
   },
   "outputs": [],
   "source": [
    "grader.check(\"q1a\")"
   ]
  },
  {
   "cell_type": "markdown",
   "metadata": {},
   "source": [
    "In your answer above, if you have written something like `zipfile.ZipFile('data.zip', ...)`, we suggest changing it to read `zipfile.ZipFile(dest_path, ...)`. In general, we **strongly suggest having your filenames hard coded as string literals only once** in a notebook. It is very dangerous to hard code things twice because if you change one but forget to change the other, you can end up with bugs that are very hard to find."
   ]
  },
  {
   "cell_type": "markdown",
   "metadata": {},
   "source": [
    "Now display the files' names and their sizes. Format your solution by printing each file and its size on a new line.\n",
    "\n",
    "If you're not sure how to proceed, read about the attributes of a `ZipFile` object in the Python docs linked above."
   ]
  },
  {
   "cell_type": "code",
   "execution_count": 9,
   "metadata": {},
   "outputs": [],
   "source": [
    "..."
   ]
  },
  {
   "cell_type": "markdown",
   "metadata": {},
   "source": [
    "Often when working with zipped data, we'll never unzip the actual zipfile. This saves space on our local computer. However, for this project the files are small, so we're just going to unzip everything. This has the added benefit that you can look inside the csv files using a text editor, which might be handy for understanding the structure of the files. The cell below will unzip the csv files into a subdirectory called `data`. Simply run this cell, i.e. don't modify it."
   ]
  },
  {
   "cell_type": "code",
   "execution_count": 10,
   "metadata": {},
   "outputs": [],
   "source": [
    "data_dir = Path('.')\n",
    "my_zip.extractall(data_dir)\n",
    "!ls {data_dir / Path(\"data\")}"
   ]
  },
  {
   "cell_type": "markdown",
   "metadata": {},
   "source": [
    "The cell above created a folder called `data`, and in it there should be five CSV files. Let's open up `legend.csv` to see its contents. To do this, click on 'Jupyter' in the top left, then navigate to `fa20/proj/proj1/data/` and click on `legend.csv`. The file will open up in another tab. You should see something that looks like:\n",
    "\n",
    "    \"Minimum_Score\",\"Maximum_Score\",\"Description\"\n",
    "    0,70,\"Poor\"\n",
    "    71,85,\"Needs Improvement\"\n",
    "    86,90,\"Adequate\"\n",
    "    91,100,\"Good\""
   ]
  },
  {
   "cell_type": "markdown",
   "metadata": {},
   "source": [
    "## Question 1b\n",
    "\n",
    "The `legend.csv` file does indeed look like a well-formed CSV file. Let's check the other three files. Rather than opening up each file manually, let's use Python to print out the first 5 lines of each. The `ds100_utils` library has a method called `head` that will allow you to retrieve the first N lines of a file as a list. For example `ds100_utils.head('data/legend.csv', 5)` will return the first 5 lines of \"data/legend.csv\". Try using this function to print out the first 5 lines of all six files that we just extracted from the zipfile."
   ]
  },
  {
   "cell_type": "code",
   "execution_count": 11,
   "metadata": {},
   "outputs": [],
   "source": [
    "import ds100_utils\n",
    "..."
   ]
  },
  {
   "cell_type": "markdown",
   "metadata": {},
   "source": [
    "## Question 1c: Reading in the Files\n",
    "\n",
    "Based on the above information, let's attempt to load `bus.csv`, `ins2vio.csv`, `ins.csv`, and `vio.csv` into pandas dataframes with the following names: `bus`, `ins2vio`, `ins`, and `vio` respectively.\n",
    "\n",
    "*Note:* Because of character encoding issues one of the files (`bus`) will require an additional argument `encoding='ISO-8859-1'` when calling `pd.read_csv`. At some point in your future, you should read all about [character encodings](https://diveintopython3.problemsolving.io/strings.html). We won't discuss these in detail in DS100."
   ]
  },
  {
   "cell_type": "code",
   "execution_count": 12,
   "metadata": {},
   "outputs": [],
   "source": [
    "# path to directory containing data\n",
    "dsDir = Path('data')\n",
    "\n",
    "bus = ...\n",
    "ins2vio = ...\n",
    "ins = ...\n",
    "vio = ...\n",
    "\n",
    "\n",
    "#This code is essential for the autograder to function properly. Do not edit\n",
    "ins_test = ins"
   ]
  },
  {
   "cell_type": "markdown",
   "metadata": {},
   "source": [
    "Now that you've read in the files, let's try some `pd.DataFrame` methods ([docs](https://pandas.pydata.org/pandas-docs/version/0.21/generated/pandas.DataFrame.html)).\n",
    "Use the `DataFrame.head` method to show the top few lines of the `bus`, `ins`, and `vio` dataframes. To show multiple return outputs in one single cell, you can use `display()`. "
   ]
  },
  {
   "cell_type": "code",
   "execution_count": 13,
   "metadata": {},
   "outputs": [],
   "source": [
    "..."
   ]
  },
  {
   "cell_type": "markdown",
   "metadata": {},
   "source": [
    "The `DataFrame.describe` method can also be handy for computing summaries of numeric columns of our dataframes. Try it out with each of our 4 dataframes."
   ]
  },
  {
   "cell_type": "code",
   "execution_count": 14,
   "metadata": {},
   "outputs": [],
   "source": [
    "..."
   ]
  },
  {
   "cell_type": "markdown",
   "metadata": {},
   "source": [
    "Now, we perform some sanity checks for you to verify that you loaded the data with the right structure. Run the following cells to load some basic utilities (you do not need to change these at all):"
   ]
  },
  {
   "cell_type": "markdown",
   "metadata": {},
   "source": [
    "First, we check the basic structure of the data frames you created:"
   ]
  },
  {
   "cell_type": "code",
   "execution_count": 15,
   "metadata": {},
   "outputs": [],
   "source": [
    "assert all(bus.columns == ['business id column', 'name', 'address', 'city', 'state', 'postal_code',\n",
    "                           'latitude', 'longitude', 'phone_number'])\n",
    "assert 6250 <= len(bus) <= 6260\n",
    "\n",
    "assert all(ins.columns == ['iid', 'date', 'score', 'type'])\n",
    "assert 26660 <= len(ins) <= 26670\n",
    "\n",
    "assert all(vio.columns == ['description', 'risk_category', 'vid'])\n",
    "assert 60 <= len(vio) <= 65\n",
    "\n",
    "assert all(ins2vio.columns == ['iid', 'vid'])\n",
    "assert 40210 <= len(ins2vio) <= 40220"
   ]
  },
  {
   "cell_type": "markdown",
   "metadata": {},
   "source": [
    "Next we'll check that the statistics match what we expect. The following are hard-coded statistical summaries of the correct data."
   ]
  },
  {
   "cell_type": "code",
   "execution_count": 16,
   "metadata": {},
   "outputs": [],
   "source": [
    "bus_summary = pd.DataFrame(**{'columns': ['business id column', 'latitude', 'longitude'],\n",
    " 'data': {'business id column': {'50%': 75685.0, 'max': 102705.0, 'min': 19.0},\n",
    "  'latitude': {'50%': -9999.0, 'max': 37.824494, 'min': -9999.0},\n",
    "  'longitude': {'50%': -9999.0,\n",
    "   'max': 0.0,\n",
    "   'min': -9999.0}},\n",
    " 'index': ['min', '50%', 'max']})\n",
    "\n",
    "ins_summary = pd.DataFrame(**{'columns': ['score'],\n",
    " 'data': {'score': {'50%': 76.0, 'max': 100.0, 'min': -1.0}},\n",
    " 'index': ['min', '50%', 'max']})\n",
    "\n",
    "vio_summary = pd.DataFrame(**{'columns': ['vid'],\n",
    " 'data': {'vid': {'50%': 103135.0, 'max': 103177.0, 'min': 103102.0}},\n",
    " 'index': ['min', '50%', 'max']})\n",
    "\n",
    "from IPython.display import display\n",
    "\n",
    "print('What we expect from your Businesses dataframe:')\n",
    "display(bus_summary)\n",
    "print('What we expect from your Inspections dataframe:')\n",
    "display(ins_summary)\n",
    "print('What we expect from your Violations dataframe:')\n",
    "display(vio_summary)"
   ]
  },
  {
   "cell_type": "markdown",
   "metadata": {},
   "source": [
    "The code below defines a testing function that we'll use to verify that your data has the same statistics as what we expect. Run these cells to define the function. The `df_allclose` function has this name because we are verifying that all of the statistics for your dataframe are close to the expected values. Why not `df_allequal`? It's a bad idea in almost all cases to compare two floating point values like 37.780435, as rounding error can cause spurious failures."
   ]
  },
  {
   "cell_type": "markdown",
   "metadata": {
    "deletable": false,
    "editable": false
   },
   "source": [
    "## Question 1d: Verifying the data\n",
    "\n",
    "Now let's run the automated tests. If your dataframes are correct, then the following cell will seem to do nothing, which is a good thing! However, if your variables don't match the correct answers in the main summary statistics shown above, an exception will be raised.\n",
    "\n",
    "<!--\n",
    "BEGIN QUESTION\n",
    "name: q1d\n",
    "points: 3\n",
    "-->"
   ]
  },
  {
   "cell_type": "code",
   "execution_count": 17,
   "metadata": {},
   "outputs": [],
   "source": [
    "\"\"\"Run this cell to load this utility comparison function that we will use in various\n",
    "tests below (both tests you can see and those we run internally for grading).\n",
    "\n",
    "Do not modify the function in any way.\n",
    "\"\"\"\n",
    "\n",
    "\n",
    "def df_allclose(actual, desired, columns=None, rtol=5e-2):\n",
    "    \"\"\"Compare selected columns of two dataframes on a few summary statistics.\n",
    "    \n",
    "    Compute the min, median and max of the two dataframes on the given columns, and compare\n",
    "    that they match numerically to the given relative tolerance.\n",
    "    \n",
    "    If they don't match, an AssertionError is raised (by `numpy.testing`).\n",
    "    \"\"\"    \n",
    "    # summary statistics to compare on\n",
    "    stats = ['min', '50%', 'max']\n",
    "    \n",
    "    # For the desired values, we can provide a full DF with the same structure as\n",
    "    # the actual data, or pre-computed summary statistics.\n",
    "    # We assume a pre-computed summary was provided if columns is None. In that case, \n",
    "    # `desired` *must* have the same structure as the actual's summary\n",
    "    if columns is None:\n",
    "        des = desired\n",
    "        columns = desired.columns\n",
    "    else:\n",
    "        des = desired[columns].describe().loc[stats]\n",
    "\n",
    "    # Extract summary stats from actual DF\n",
    "    act = actual[columns].describe().loc[stats]\n",
    "\n",
    "    return np.allclose(act, des, rtol)"
   ]
  },
  {
   "cell_type": "code",
   "execution_count": null,
   "metadata": {
    "deletable": false,
    "editable": false
   },
   "outputs": [],
   "source": [
    "grader.check(\"q1d\")"
   ]
  },
  {
   "cell_type": "markdown",
   "metadata": {},
   "source": [
    "### Question 1e: Identifying Issues with the Data"
   ]
  },
  {
   "cell_type": "markdown",
   "metadata": {
    "deletable": false,
    "editable": false
   },
   "source": [
    "<!-- BEGIN QUESTION -->\n",
    "\n",
    "Use the `head` command on your three files again. This time, describe at least one potential problem with the data you see. Consider issues with missing values and bad data.\n",
    "\n",
    "<!--\n",
    "BEGIN QUESTION\n",
    "name: q1e\n",
    "manual: True\n",
    "points: 1\n",
    "-->"
   ]
  },
  {
   "cell_type": "markdown",
   "metadata": {},
   "source": [
    "_Type your answer here, replacing this text._"
   ]
  },
  {
   "cell_type": "markdown",
   "metadata": {},
   "source": [
    "<!-- END QUESTION -->\n",
    "\n",
    "\n",
    "\n",
    "We will explore each file in turn, including determining its granularity and primary keys and exploring many of the variables individually. Let's begin with the businesses file, which has been read into the `bus` dataframe."
   ]
  },
  {
   "cell_type": "markdown",
   "metadata": {
    "nbgrader": {
     "grade": false,
     "grade_id": "business-data",
     "locked": true,
     "schema_version": 2,
     "solution": false
    }
   },
   "source": [
    "<br/><br/><br/>\n",
    "\n",
    "---\n",
    "\n",
    "<br/><br/><br/>\n",
    "\n",
    "# 2: Examining the Business Data File\n",
    "\n",
    "From its name alone, we expect the `bus.csv` file to contain information about the restaurants. Let's investigate the granularity of this dataset."
   ]
  },
  {
   "cell_type": "code",
   "execution_count": 26,
   "metadata": {},
   "outputs": [],
   "source": [
    "bus.head()"
   ]
  },
  {
   "cell_type": "markdown",
   "metadata": {
    "deletable": false,
    "editable": false
   },
   "source": [
    "<br/><br/><br/>\n",
    "\n",
    "---\n",
    "\n",
    "## Question 2a\n",
    "\n",
    "The `bus` dataframe contains a column called `business id column` which probably corresponds to a unique business id.  However, let's first rename that column to `bid`.  Modify the `bus` dataframe by renaming that column to `bid`.\n",
    "\n",
    "**Note**: In practice we might want to do this renaming when the table is loaded but for grading purposes we will do it here.\n",
    "\n",
    "<!--\n",
    "BEGIN QUESTION\n",
    "name: q2a\n",
    "points: 1\n",
    "-->"
   ]
  },
  {
   "cell_type": "code",
   "execution_count": 27,
   "metadata": {},
   "outputs": [],
   "source": [
    "bus = ..."
   ]
  },
  {
   "cell_type": "code",
   "execution_count": null,
   "metadata": {
    "deletable": false,
    "editable": false
   },
   "outputs": [],
   "source": [
    "grader.check(\"q2a\")"
   ]
  },
  {
   "cell_type": "markdown",
   "metadata": {
    "deletable": false,
    "editable": false,
    "nbgrader": {
     "grade": false,
     "grade_id": "q2a",
     "locked": true,
     "schema_version": 2,
     "solution": false
    }
   },
   "source": [
    "<br/><br/><br/>\n",
    "\n",
    "---\n",
    "\n",
    "## Question 2b\n",
    "\n",
    "Examining the entries in `bus`, is the `bid` unique for each record (i.e. each row of data)? Your code should compute the answer, i.e. don't just hard code `True` or `False`.\n",
    "\n",
    "Hint: use `value_counts()` or `unique()` to determine if the `bid` series has any duplicates.\n",
    "\n",
    "<!--\n",
    "BEGIN QUESTION\n",
    "name: q2b\n",
    "points: 1\n",
    "-->"
   ]
  },
  {
   "cell_type": "code",
   "execution_count": 29,
   "metadata": {
    "ExecuteTime": {
     "end_time": "2018-08-18T01:21:53.936572Z",
     "start_time": "2018-08-18T01:21:53.927344Z"
    },
    "nbgrader": {
     "grade": false,
     "grade_id": "q2a-answer",
     "locked": false,
     "schema_version": 2,
     "solution": true
    },
    "tags": [
     "solution"
    ]
   },
   "outputs": [],
   "source": [
    "is_bid_unique = ..."
   ]
  },
  {
   "cell_type": "code",
   "execution_count": null,
   "metadata": {
    "deletable": false,
    "editable": false
   },
   "outputs": [],
   "source": [
    "grader.check(\"q2b\")"
   ]
  },
  {
   "cell_type": "markdown",
   "metadata": {
    "deletable": false,
    "editable": false
   },
   "source": [
    "<br/><br/><br/>\n",
    "\n",
    "---\n",
    "\n",
    "\n",
    "## Question 2c\n",
    "\n",
    "In the two cells below create two **series** \n",
    "\n",
    "1. where the index is the `name` of the business and the value is the number of records with that `name`\n",
    "2. where the index is the `address` of the business and the value is the number of records with that `address`\n",
    "\n",
    "Order both series in descending order by count. You may need to use `groupby()`, `size()`, `sort_values()`, or `value_counts()`. \n",
    "\n",
    "**Step 1**\n",
    "\n",
    "<!--\n",
    "BEGIN QUESTION\n",
    "name: q2ci\n",
    "points: 1\n",
    "-->"
   ]
  },
  {
   "cell_type": "code",
   "execution_count": 32,
   "metadata": {},
   "outputs": [],
   "source": [
    "name_counts = ...\n",
    "name_counts.head(20)"
   ]
  },
  {
   "cell_type": "code",
   "execution_count": null,
   "metadata": {
    "deletable": false,
    "editable": false
   },
   "outputs": [],
   "source": [
    "grader.check(\"q2ci\")"
   ]
  },
  {
   "cell_type": "markdown",
   "metadata": {
    "deletable": false,
    "editable": false
   },
   "source": [
    "**Step 2**\n",
    "\n",
    "<!--\n",
    "BEGIN QUESTION\n",
    "name: q2cii\n",
    "points: 1\n",
    "-->"
   ]
  },
  {
   "cell_type": "code",
   "execution_count": 35,
   "metadata": {},
   "outputs": [],
   "source": [
    "address_counts = ...\n",
    "address_counts.head(10)"
   ]
  },
  {
   "cell_type": "code",
   "execution_count": null,
   "metadata": {
    "deletable": false,
    "editable": false
   },
   "outputs": [],
   "source": [
    "grader.check(\"q2cii\")"
   ]
  },
  {
   "cell_type": "markdown",
   "metadata": {
    "nbgrader": {
     "grade": false,
     "grade_id": "business-data",
     "locked": true,
     "schema_version": 2,
     "solution": false
    }
   },
   "source": [
    "<br/><br/><br/>\n",
    "\n",
    "---\n",
    "\n",
    "<br/><br/><br/>\n",
    "\n",
    "# 3: Cleaning the Business Data Postal Codes\n",
    "\n",
    "The business data contains postal code information that we can use to aggregate the ratings over regions of the city.  Let's examine and clean the postal code field.  The postal code (sometimes also called a ZIP code) partitions the city into regions:\n",
    "\n",
    "<img src=\"https://www.usmapguide.com/wp-content/uploads/2019/03/printable-san-francisco-zip-code-map.jpg\" alt=\"ZIP Code Map\" style=\"width: 600px\">"
   ]
  },
  {
   "cell_type": "markdown",
   "metadata": {
    "deletable": false,
    "editable": false,
    "nbgrader": {
     "grade": false,
     "grade_id": "cell-a4c4a09f1ecf2f4b",
     "locked": true,
     "schema_version": 2,
     "solution": false
    }
   },
   "source": [
    "<br/><br/><br/>\n",
    "\n",
    "---\n",
    "\n",
    "\n",
    "## Question 3a\n",
    "\n",
    "How many restaurants are in each ZIP code? \n",
    "\n",
    "In the cell below, create a **series** where the index is the postal code and the value is the number of records with that postal code in descending order of count. You may need to use `groupby()`, `size()`, or `value_counts()`. Do you notice any odd/invalid zip codes?\n",
    "\n",
    "<!--\n",
    "BEGIN QUESTION\n",
    "name: q3a\n",
    "points: 1\n",
    "-->"
   ]
  },
  {
   "cell_type": "code",
   "execution_count": 39,
   "metadata": {
    "nbgrader": {
     "grade": false,
     "grade_id": "cell-d2151d673e6c36a1",
     "locked": false,
     "schema_version": 2,
     "solution": true
    }
   },
   "outputs": [],
   "source": [
    "zip_counts = ...\n",
    "print(zip_counts.to_string())"
   ]
  },
  {
   "cell_type": "code",
   "execution_count": null,
   "metadata": {
    "deletable": false,
    "editable": false
   },
   "outputs": [],
   "source": [
    "grader.check(\"q3a\")"
   ]
  },
  {
   "cell_type": "markdown",
   "metadata": {
    "deletable": false,
    "editable": false
   },
   "source": [
    "<br/><br/><br/>\n",
    "\n",
    "--- \n",
    "\n",
    "## Question 3b\n",
    "\n",
    "Answer the following questions about the `postal_code` column in the `bus` dataframe.\n",
    "\n",
    "1. The ZIP code column is which of the following type of data:\n",
    "    1. Quantitative Continuous\n",
    "    1. Quantitative Discrete\n",
    "    1. Qualitative Ordinal\n",
    "    1. Qualitative Nominal    \n",
    "1. What Python data type is used to represent a ZIP code?\n",
    "\n",
    "*Note*: ZIP codes and postal codes are the same thing.\n",
    "\n",
    "Please write your answers in the variables below:\n",
    "\n",
    "<!--\n",
    "BEGIN QUESTION\n",
    "name: q3b\n",
    "points: 2\n",
    "-->"
   ]
  },
  {
   "cell_type": "code",
   "execution_count": 45,
   "metadata": {},
   "outputs": [],
   "source": [
    "# The ZIP code column is which of the following type of data:\n",
    "#   \"Quantitative Continuous\" \n",
    "#   \"Quantitative Discrete\"\n",
    "#   \"Qualitative Ordinal\"\n",
    "#   \"Qualitative Nominal\"\n",
    "q3b_part1 = ...\n",
    "\n",
    "# What Python data type is used to represent a ZIP code? \n",
    "#    \"str\"\n",
    "#    \"int\"\n",
    "#    \"bool\"\n",
    "#    \"float\"\n",
    "q3b_part2 = ..."
   ]
  },
  {
   "cell_type": "code",
   "execution_count": null,
   "metadata": {
    "deletable": false,
    "editable": false
   },
   "outputs": [],
   "source": [
    "grader.check(\"q3b\")"
   ]
  },
  {
   "cell_type": "markdown",
   "metadata": {},
   "source": [
    "<br/><br/><br/>\n",
    "\n",
    "--- \n",
    "\n",
    "## Question 3c\n",
    "\n",
    "In question 3a we noticed a large number of potentially invalid ZIP codes (e.g., \"Ca\").  These are likely due to data entry errors.  To get a better understanding of the potential errors in the zip codes we will:\n",
    "\n",
    "1. Import a list of valid San Francisco ZIP codes by using `pd.read_json` to load the file `data/sf_zipcodes.json` and extract a **series** of type `str` containing the valid ZIP codes.  *Hint: set `dtype` when invoking `read_json`.*\n",
    "1. Construct a `DataFrame` containing only the businesses which DO NOT have valid ZIP codes.  You will probably want to use the `Series.isin` function. \n"
   ]
  },
  {
   "cell_type": "markdown",
   "metadata": {
    "deletable": false,
    "editable": false
   },
   "source": [
    "**Step 1**\n",
    "\n",
    "<!--\n",
    "BEGIN QUESTION\n",
    "name: q3ci\n",
    "points: 1\n",
    "-->"
   ]
  },
  {
   "cell_type": "code",
   "execution_count": 50,
   "metadata": {},
   "outputs": [],
   "source": [
    "valid_zips = ...\n",
    "valid_zips.head()"
   ]
  },
  {
   "cell_type": "code",
   "execution_count": null,
   "metadata": {
    "deletable": false,
    "editable": false
   },
   "outputs": [],
   "source": [
    "grader.check(\"q3ci\")"
   ]
  },
  {
   "cell_type": "markdown",
   "metadata": {
    "deletable": false,
    "editable": false
   },
   "source": [
    "**Step 2**\n",
    "\n",
    "<!--\n",
    "BEGIN QUESTION\n",
    "name: q3cii\n",
    "points: 1\n",
    "-->"
   ]
  },
  {
   "cell_type": "code",
   "execution_count": 54,
   "metadata": {},
   "outputs": [],
   "source": [
    "invalid_zip_bus = ...\n",
    "invalid_zip_bus.head(20)"
   ]
  },
  {
   "cell_type": "code",
   "execution_count": null,
   "metadata": {
    "deletable": false,
    "editable": false
   },
   "outputs": [],
   "source": [
    "grader.check(\"q3cii\")"
   ]
  },
  {
   "cell_type": "markdown",
   "metadata": {
    "deletable": false,
    "editable": false
   },
   "source": [
    "<br/><br/><br/>\n",
    "\n",
    "--- \n",
    "\n",
    "## Question 3d\n",
    "\n",
    "In the previous question, many of the businesses had a common invalid postal code that was likely used to encode a MISSING postal code.  Do they all share a potentially \"interesting address\"?\n",
    "\n",
    "In the following cell, construct a **series** that counts the number of businesses at each `address` that have this single likely MISSING postal code value.  Order the series in descending order by count. \n",
    "\n",
    "After examining the output.  Answer the following question by filling in the appropriate variable. If we were to drop businesses with MISSING postal code values would a particular class of business be affected?  If you are unsure try to search the web for the most common addresses.\n",
    "\n",
    "\n",
    "<!--\n",
    "BEGIN QUESTION\n",
    "name: q3d\n",
    "points: 3\n",
    "-->"
   ]
  },
  {
   "cell_type": "code",
   "execution_count": 58,
   "metadata": {},
   "outputs": [],
   "source": [
    "missing_zip_address_count = ...\n",
    "missing_zip_address_count.head()"
   ]
  },
  {
   "cell_type": "code",
   "execution_count": null,
   "metadata": {
    "deletable": false,
    "editable": false
   },
   "outputs": [],
   "source": [
    "grader.check(\"q3d\")"
   ]
  },
  {
   "cell_type": "markdown",
   "metadata": {
    "deletable": false,
    "editable": false
   },
   "source": [
    "<br/><br/><br/>\n",
    "\n",
    "--- \n",
    "\n",
    "## Question 3e\n",
    "\n",
    "**True or False**:  *If we were to drop businesses with MISSING postal code values, a particular class of business will be affected.*\n",
    "\n",
    "<!--\n",
    "BEGIN QUESTION\n",
    "name: q3e\n",
    "points: 2\n",
    "-->"
   ]
  },
  {
   "cell_type": "code",
   "execution_count": 64,
   "metadata": {},
   "outputs": [],
   "source": [
    "# True or False: \n",
    "#  If we were to drop businesses with MISSING postal code values \n",
    "#   a particular class of business be affected.\n",
    "q3d_true_or_false = ..."
   ]
  },
  {
   "cell_type": "code",
   "execution_count": null,
   "metadata": {
    "deletable": false,
    "editable": false
   },
   "outputs": [],
   "source": [
    "grader.check(\"q3e\")"
   ]
  },
  {
   "cell_type": "markdown",
   "metadata": {
    "deletable": false,
    "editable": false
   },
   "source": [
    "<br/><br/><br/>\n",
    "\n",
    "--- \n",
    "\n",
    "## Question 3f\n",
    "\n",
    "Examine the `invalid_zip_bus` dataframe we computed above and look at the businesses that DO NOT have the special MISSING ZIP code value.  Some of the invalid postal codes are just the full 9 digit code rather than the first 5 digits.  Create a new column named `postal5` in the original `bus` dataframe which contains only the first 5 digits of the `postal_code` column.   Finally, for any of the `postal5` ZIP code entries that were not a valid San Fransisco ZIP Code (according to `valid_zips`) set the entry to `None`.  \n",
    "\n",
    "\n",
    "<!--\n",
    "BEGIN QUESTION\n",
    "name: q3f\n",
    "points: 2\n",
    "-->"
   ]
  },
  {
   "cell_type": "code",
   "execution_count": 67,
   "metadata": {},
   "outputs": [],
   "source": [
    "bus['postal5'] = None\n",
    "...\n",
    "\n",
    "# Checking the corrected postal5 column\n",
    "bus.loc[invalid_zip_bus.index, ['bid', 'name', 'postal_code', 'postal5']]"
   ]
  },
  {
   "cell_type": "code",
   "execution_count": null,
   "metadata": {
    "deletable": false,
    "editable": false
   },
   "outputs": [],
   "source": [
    "grader.check(\"q3f\")"
   ]
  },
  {
   "cell_type": "markdown",
   "metadata": {
    "nbgrader": {
     "grade": false,
     "grade_id": "business-data",
     "locked": true,
     "schema_version": 2,
     "solution": false
    }
   },
   "source": [
    "<br/><br/><br/>\n",
    "\n",
    "---\n",
    "\n",
    "<br/><br/><br/>\n",
    "\n",
    "# 4: Investigate the Inspection Data\n",
    "\n",
    "Let's now turn to the inspection DataFrame. Earlier, we found that `ins` has 4 columns named \n",
    "`iid`, `score`, `date` and `type`.  In this section, we determine the granularity of `ins` and investigate the kinds of information provided for the inspections. "
   ]
  },
  {
   "cell_type": "markdown",
   "metadata": {
    "nbgrader": {
     "grade": false,
     "grade_id": "cell-174ed23c543ad9da",
     "locked": true,
     "schema_version": 2,
     "solution": false
    }
   },
   "source": [
    "Let's start by looking again at the first 5 rows of `ins` to see what we're working with."
   ]
  },
  {
   "cell_type": "code",
   "execution_count": 74,
   "metadata": {
    "nbgrader": {
     "grade": false,
     "grade_id": "cell-f0fbe724a2783e33",
     "locked": true,
     "schema_version": 2,
     "solution": false
    }
   },
   "outputs": [],
   "source": [
    "ins.head(5)"
   ]
  },
  {
   "cell_type": "markdown",
   "metadata": {
    "deletable": false,
    "editable": false
   },
   "source": [
    "<br/><br/><br/>\n",
    "\n",
    "---\n",
    "\n",
    "## Question 4a\n",
    "\n",
    "The column `iid` probably corresponds to an inspection id.  Is it a primary key?  Write an expression (line of code) that evaluates to 'True' or 'False' based on whether all the values are unique.\n",
    "\n",
    "\n",
    "<!--\n",
    "BEGIN QUESTION\n",
    "name: q4a\n",
    "points: 1\n",
    "-->"
   ]
  },
  {
   "cell_type": "code",
   "execution_count": 75,
   "metadata": {},
   "outputs": [],
   "source": [
    "is_ins_iid_a_primary_key = ..."
   ]
  },
  {
   "cell_type": "code",
   "execution_count": null,
   "metadata": {
    "deletable": false,
    "editable": false
   },
   "outputs": [],
   "source": [
    "grader.check(\"q4a\")"
   ]
  },
  {
   "cell_type": "markdown",
   "metadata": {},
   "source": [
    "<br/><br/><br/>\n",
    "\n",
    "---\n",
    "\n",
    "## Question 4b\n",
    "\n",
    "The column `iid` appears to be the composition of two numbers and the first number looks like a business id.  \n",
    "\n",
    "**Part 1.**: Create a new column called `bid` in the `ins` dataframe containing just the business id.  You will want to use `ins['iid'].str` operations to do this.  Also be sure to convert the type of this column to `int`\n",
    "\n",
    "**Part 2.**: Then compute how many values in this new column are invalid business ids (i.e. do not appear in the `bus['bid']` column). This is verifying a foreign key relationship. Consider using the `pd.Series.isin` function.\n",
    "\n",
    "**Part 3.**: Answer True or False, `ins['bid']` is a foreign key reference to `bus['bid']`.\n",
    "\n",
    "\n",
    "**No python `for` loops or list comprehensions required!**"
   ]
  },
  {
   "cell_type": "markdown",
   "metadata": {
    "deletable": false,
    "editable": false
   },
   "source": [
    "**Part 1**\n",
    "\n",
    "<!--\n",
    "BEGIN QUESTION\n",
    "name: q4bi\n",
    "points: 1\n",
    "-->"
   ]
  },
  {
   "cell_type": "code",
   "execution_count": 78,
   "metadata": {},
   "outputs": [],
   "source": [
    "..."
   ]
  },
  {
   "cell_type": "code",
   "execution_count": null,
   "metadata": {
    "deletable": false,
    "editable": false
   },
   "outputs": [],
   "source": [
    "grader.check(\"q4bi\")"
   ]
  },
  {
   "cell_type": "markdown",
   "metadata": {
    "deletable": false,
    "editable": false
   },
   "source": [
    "**Part 2**\n",
    "\n",
    "<!--\n",
    "BEGIN QUESTION\n",
    "name: q4bii\n",
    "points: 1\n",
    "-->"
   ]
  },
  {
   "cell_type": "code",
   "execution_count": 83,
   "metadata": {},
   "outputs": [],
   "source": [
    "invalid_bid_count = ..."
   ]
  },
  {
   "cell_type": "code",
   "execution_count": null,
   "metadata": {
    "deletable": false,
    "editable": false
   },
   "outputs": [],
   "source": [
    "grader.check(\"q4bii\")"
   ]
  },
  {
   "cell_type": "markdown",
   "metadata": {
    "deletable": false,
    "editable": false
   },
   "source": [
    "**Part 3**\n",
    "\n",
    "<!--\n",
    "BEGIN QUESTION\n",
    "name: q4biii\n",
    "points: 1\n",
    "-->"
   ]
  },
  {
   "cell_type": "code",
   "execution_count": 86,
   "metadata": {},
   "outputs": [],
   "source": [
    "# True or False: The column ins['bid'] is a foreign key \n",
    "#   referencing the bus['bid'] primary key.\n",
    "\n",
    "q4b_is_foreign_key = ..."
   ]
  },
  {
   "cell_type": "code",
   "execution_count": null,
   "metadata": {
    "deletable": false,
    "editable": false
   },
   "outputs": [],
   "source": [
    "grader.check(\"q4biii\")"
   ]
  },
  {
   "cell_type": "markdown",
   "metadata": {},
   "source": [
    "<br/><br/><br/>\n",
    "\n",
    "---\n",
    "\n",
    "## Question 4c\n",
    "\n",
    "What if we are interested in a time component of the inspection data?  We need to examine the date column of each inspection. \n",
    "\n",
    "**Part 1:** What is the type of the individual `ins['date']` entries. You may want to grab the very first entry and use the `type` function in python. \n",
    "\n",
    "**Part 2:** Use `pd.to_datetime` to create a new `ins['timestamp']` column containing of `pd.Timestamp` objects.  These will allow us to do more date manipulation.\n",
    "\n",
    "**Part 3:** What are the earliest and latest dates in our inspection data?  *Hint: you can use `min` and `max` on dates of the correct type.*\n",
    "\n",
    "**Part 4:** We probably want to examine the inspections by year. Create an additional `ins['year']` column containing just the year of the inspection.  Consider using `pd.Series.dt.year` to do this.\n",
    "\n",
    "**No python `for` loops or list comprehensions required!**"
   ]
  },
  {
   "cell_type": "markdown",
   "metadata": {
    "deletable": false,
    "editable": false
   },
   "source": [
    "**Part 1**\n",
    "\n",
    "<!--\n",
    "BEGIN QUESTION\n",
    "name: q4ci\n",
    "points: 1\n",
    "-->"
   ]
  },
  {
   "cell_type": "code",
   "execution_count": 89,
   "metadata": {},
   "outputs": [],
   "source": [
    "ins_date_type = ...\n",
    "ins_date_type"
   ]
  },
  {
   "cell_type": "code",
   "execution_count": null,
   "metadata": {
    "deletable": false,
    "editable": false
   },
   "outputs": [],
   "source": [
    "grader.check(\"q4ci\")"
   ]
  },
  {
   "cell_type": "markdown",
   "metadata": {
    "deletable": false,
    "editable": false
   },
   "source": [
    "**Part 2**\n",
    "\n",
    "<!--\n",
    "BEGIN QUESTION\n",
    "name: q4cii\n",
    "points: 1\n",
    "-->"
   ]
  },
  {
   "cell_type": "code",
   "execution_count": 92,
   "metadata": {},
   "outputs": [],
   "source": [
    "..."
   ]
  },
  {
   "cell_type": "code",
   "execution_count": null,
   "metadata": {
    "deletable": false,
    "editable": false
   },
   "outputs": [],
   "source": [
    "grader.check(\"q4cii\")"
   ]
  },
  {
   "cell_type": "markdown",
   "metadata": {
    "deletable": false,
    "editable": false
   },
   "source": [
    "**Part 3**\n",
    "\n",
    "<!--\n",
    "BEGIN QUESTION\n",
    "name: q4ciii\n",
    "points: 1\n",
    "-->"
   ]
  },
  {
   "cell_type": "code",
   "execution_count": 94,
   "metadata": {},
   "outputs": [],
   "source": [
    "earliest_date = ...\n",
    "latest_date = ...\n",
    "\n",
    "print(\"Earliest Date:\", earliest_date)\n",
    "print(\"Latest Date:\", latest_date)"
   ]
  },
  {
   "cell_type": "code",
   "execution_count": null,
   "metadata": {
    "deletable": false,
    "editable": false
   },
   "outputs": [],
   "source": [
    "grader.check(\"q4ciii\")"
   ]
  },
  {
   "cell_type": "markdown",
   "metadata": {
    "deletable": false,
    "editable": false
   },
   "source": [
    "**Part 4**\n",
    "\n",
    "<!--\n",
    "BEGIN QUESTION\n",
    "name: q4civ\n",
    "points: 1\n",
    "-->"
   ]
  },
  {
   "cell_type": "code",
   "execution_count": 99,
   "metadata": {},
   "outputs": [],
   "source": [
    "..."
   ]
  },
  {
   "cell_type": "code",
   "execution_count": null,
   "metadata": {
    "deletable": false,
    "editable": false
   },
   "outputs": [],
   "source": [
    "grader.check(\"q4civ\")"
   ]
  },
  {
   "cell_type": "code",
   "execution_count": 102,
   "metadata": {},
   "outputs": [],
   "source": [
    "ins.head()"
   ]
  },
  {
   "cell_type": "markdown",
   "metadata": {},
   "source": [
    "<br/><br/><br/>\n",
    "\n",
    "---\n",
    "\n",
    "## Question 4d\n",
    "\n",
    "What is the relationship between the type of inspection over the 2016 to 2019 timeframe? \n",
    "\n",
    "**Part 1**\n",
    "\n",
    "Construct the following table by\n",
    "1. Using the `pivot_table` containing the number (`size`) of inspections for the given `type` and `year`.\n",
    "1. Adding an extra `Total` column to the result using `sum`\n",
    "1. Sort the results in descending order by the `Total`.\n",
    "\n",
    "<table border=\"1\" class=\"dataframe\">  <thead>    <tr style=\"text-align: right;\">      <th>year</th>      <th>2016</th>      <th>2017</th>      <th>2018</th>      <th>2019</th>      <th>Total</th>    </tr>    <tr>      <th>type</th>      <th></th>      <th></th>      <th></th>      <th></th>      <th></th>    </tr>  </thead>  <tbody>    <tr>      <th>Routine - Unscheduled</th>      <td>966</td>      <td>4057</td>      <td>4373</td>      <td>4681</td>      <td>14077</td>    </tr>    <tr>      <th>Reinspection/Followup</th>      <td>445</td>      <td>1767</td>      <td>1935</td>      <td>2292</td>      <td>6439</td>    </tr>    <tr>      <th>New Ownership</th>      <td>99</td>      <td>506</td>      <td>528</td>      <td>459</td>      <td>1592</td>    </tr>    <tr>      <th>Complaint</th>      <td>91</td>      <td>418</td>      <td>512</td>      <td>437</td>      <td>1458</td>    </tr>    <tr>      <th>New Construction</th>      <td>102</td>      <td>485</td>      <td>218</td>      <td>189</td>      <td>994</td>    </tr>    <tr>      <th>Non-inspection site visit</th>      <td>51</td>      <td>276</td>      <td>253</td>      <td>231</td>      <td>811</td>    </tr>    <tr>      <th>New Ownership - Followup</th>      <td>0</td>      <td>45</td>      <td>219</td>      <td>235</td>      <td>499</td>    </tr>    <tr>      <th>Structural Inspection</th>      <td>1</td>      <td>153</td>      <td>50</td>      <td>190</td>      <td>394</td>    </tr>    <tr>      <th>Complaint Reinspection/Followup</th>      <td>19</td>      <td>68</td>      <td>70</td>      <td>70</td>      <td>227</td>    </tr>    <tr>      <th>Foodborne Illness Investigation</th>      <td>1</td>      <td>29</td>      <td>50</td>      <td>35</td>      <td>115</td>    </tr>    <tr>      <th>Routine - Scheduled</th>      <td>0</td>      <td>9</td>      <td>8</td>      <td>29</td>      <td>46</td>    </tr>    <tr>      <th>Administrative or Document Review</th>      <td>2</td>      <td>1</td>      <td>1</td>      <td>0</td>      <td>4</td>    </tr>    <tr>      <th>Multi-agency Investigation</th>      <td>0</td>      <td>0</td>      <td>1</td>      <td>2</td>      <td>3</td>    </tr>    <tr>      <th>Special Event</th>      <td>0</td>      <td>3</td>      <td>0</td>      <td>0</td>      <td>3</td>    </tr>    <tr>      <th>Community Health Assessment</th>      <td>1</td>      <td>0</td>      <td>0</td>      <td>0</td>      <td>1</td>    </tr>  </tbody></table>\n",
    "\n",
    "**No python `for` loops or list comprehensions required!**"
   ]
  },
  {
   "cell_type": "code",
   "execution_count": 105,
   "metadata": {},
   "outputs": [],
   "source": [
    "ins_pivot = ...\n",
    "ins_pivot = ...\n",
    "...\n",
    "ins_pivot_sorted = ...\n",
    "ins_pivot_sorted"
   ]
  },
  {
   "cell_type": "code",
   "execution_count": null,
   "metadata": {
    "deletable": false,
    "editable": false
   },
   "outputs": [],
   "source": [
    "grader.check(\"q4di\")"
   ]
  },
  {
   "cell_type": "markdown",
   "metadata": {
    "deletable": false,
    "editable": false
   },
   "source": [
    "**Part 2**\n",
    "\n",
    "Based on the above analysis, which year appears to have had a lot of businesses in newly constructed buildings?\n",
    "<!--\n",
    "BEGIN QUESTION\n",
    "name: q4dii\n",
    "points: 2\n",
    "-->"
   ]
  },
  {
   "cell_type": "code",
   "execution_count": 111,
   "metadata": {},
   "outputs": [],
   "source": [
    "year_of_new_construction = ..."
   ]
  },
  {
   "cell_type": "code",
   "execution_count": null,
   "metadata": {
    "deletable": false,
    "editable": false
   },
   "outputs": [],
   "source": [
    "grader.check(\"q4dii\")"
   ]
  },
  {
   "cell_type": "markdown",
   "metadata": {},
   "source": [
    "<br/><br/><br/>\n",
    "\n",
    "---\n",
    "\n",
    "## Question 4e\n",
    "\n",
    "Let's examine the inspection scores `ins['score']`\n",
    "\n"
   ]
  },
  {
   "cell_type": "code",
   "execution_count": 114,
   "metadata": {},
   "outputs": [],
   "source": [
    "ins['score'].value_counts().head()"
   ]
  },
  {
   "cell_type": "markdown",
   "metadata": {},
   "source": [
    "There are a large number of inspections with the `'score'` of `-1`.   These are probably missing values.  Let's see what type of inspections have scores and which do not. Create the following dataframe using steps similar to the previous question, and assign it to to the variable `ins_missing_score_pivot`.\n",
    "\n",
    "You should observe that inspection scores appear only to be assigned to `Routine - Unscheduled` inspections.\n",
    "\n",
    "\n",
    "<table border=\"1\" class=\"dataframe\">  <thead>    <tr style=\"text-align: right;\">      <th>Missing Score</th>      <th>False</th>      <th>True</th>      <th>Total</th>    </tr>    <tr>      <th>type</th>      <th></th>      <th></th>      <th></th>    </tr>  </thead>  <tbody>    <tr>      <th>Routine - Unscheduled</th>      <td>14031</td>      <td>46</td>      <td>14077</td>    </tr>    <tr>      <th>Reinspection/Followup</th>      <td>0</td>      <td>6439</td>      <td>6439</td>    </tr>    <tr>      <th>New Ownership</th>      <td>0</td>      <td>1592</td>      <td>1592</td>    </tr>    <tr>      <th>Complaint</th>      <td>0</td>      <td>1458</td>      <td>1458</td>    </tr>    <tr>      <th>New Construction</th>      <td>0</td>      <td>994</td>      <td>994</td>    </tr>    <tr>      <th>Non-inspection site visit</th>      <td>0</td>      <td>811</td>      <td>811</td>    </tr>    <tr>      <th>New Ownership - Followup</th>      <td>0</td>      <td>499</td>      <td>499</td>    </tr>    <tr>      <th>Structural Inspection</th>      <td>0</td>      <td>394</td>      <td>394</td>    </tr>    <tr>      <th>Complaint Reinspection/Followup</th>      <td>0</td>      <td>227</td>      <td>227</td>    </tr>    <tr>      <th>Foodborne Illness Investigation</th>      <td>0</td>      <td>115</td>      <td>115</td>    </tr>    <tr>      <th>Routine - Scheduled</th>      <td>0</td>      <td>46</td>      <td>46</td>    </tr>    <tr>      <th>Administrative or Document Review</th>      <td>0</td>      <td>4</td>      <td>4</td>    </tr>    <tr>      <th>Multi-agency Investigation</th>      <td>0</td>      <td>3</td>      <td>3</td>    </tr>    <tr>      <th>Special Event</th>      <td>0</td>      <td>3</td>      <td>3</td>    </tr>    <tr>      <th>Community Health Assessment</th>      <td>0</td>      <td>1</td>      <td>1</td>    </tr>  </tbody></table>\n",
    "\n"
   ]
  },
  {
   "cell_type": "code",
   "execution_count": 115,
   "metadata": {},
   "outputs": [],
   "source": [
    "ins_missing_score_pivot = ...\n",
    "\n",
    "..."
   ]
  },
  {
   "cell_type": "code",
   "execution_count": null,
   "metadata": {
    "deletable": false,
    "editable": false
   },
   "outputs": [],
   "source": [
    "grader.check(\"q4e\")"
   ]
  },
  {
   "cell_type": "markdown",
   "metadata": {},
   "source": [
    "Notice that inspection scores appear only to be assigned to `Routine - Unscheduled` inspections. It is reasonable that for inspection types such as `New Ownership` and `Complaint` to have no associated inspection scores, but we might be curious why there are no inspection scores for the `Reinspection/Followup` inspection type."
   ]
  },
  {
   "cell_type": "markdown",
   "metadata": {
    "nbgrader": {
     "grade": false,
     "grade_id": "business-data",
     "locked": true,
     "schema_version": 2,
     "solution": false
    }
   },
   "source": [
    "<br/><br/><br/>\n",
    "\n",
    "---\n",
    "\n",
    "<br/><br/><br/>\n",
    "\n",
    "# 5: Joining Data Across Tables\n",
    "\n",
    "In this question we will start to connect data across mulitple tables.  We will be using the `merge` function. "
   ]
  },
  {
   "cell_type": "markdown",
   "metadata": {},
   "source": [
    "<br/><br/><br/>\n",
    "\n",
    "--- \n",
    "\n",
    "## Question 5a\n",
    "\n",
    "Let's figure out which restaurants had the lowest scores. Before we proceed, let's filter out missing scores from `ins` so that negative scores don't influence our results."
   ]
  },
  {
   "cell_type": "code",
   "execution_count": 121,
   "metadata": {},
   "outputs": [],
   "source": [
    "ins = ins[ins[\"score\"] > 0]"
   ]
  },
  {
   "cell_type": "markdown",
   "metadata": {
    "deletable": false,
    "editable": false
   },
   "source": [
    "We'll start by creating a new dataframe called `ins_named`. It should be exactly the same as `ins`, except that it should have the name and address of every business, as determined by the `bus` dataframe. If a `business_id` in `ins` does not exist in `bus`, the name and address should be given as `NaN`. \n",
    "\n",
    "*Hint*: Use the merge method to join the `ins` dataframe with the appropriate portion of the `bus` dataframe. See the official [documentation](https://pandas.pydata.org/pandas-docs/stable/user_guide/merging.html) on how to use `merge`.\n",
    "\n",
    "*Note*: For quick reference, a pandas 'left' join keeps the keys from the left frame, so if `ins` is the left frame, all the keys from `ins` are kept and if a set of these keys don't have matches in the other frame, the columns from the other frame for these \"unmatched\" key rows contains NaNs.\n",
    "\n",
    "<!--\n",
    "BEGIN QUESTION\n",
    "name: q5a\n",
    "points: 2\n",
    "-->"
   ]
  },
  {
   "cell_type": "code",
   "execution_count": 122,
   "metadata": {},
   "outputs": [],
   "source": [
    "ins_named = ...\n",
    "...\n",
    "ins_named.head()"
   ]
  },
  {
   "cell_type": "code",
   "execution_count": null,
   "metadata": {
    "deletable": false,
    "editable": false
   },
   "outputs": [],
   "source": [
    "grader.check(\"q5a\")"
   ]
  },
  {
   "cell_type": "markdown",
   "metadata": {
    "deletable": false,
    "editable": false
   },
   "source": [
    "<br/><br/><br/>\n",
    "\n",
    "--- \n",
    "\n",
    "## Question 5b\n",
    "\n",
    "Let's look at the 20 businesses with the lowest **median** score.  Order your results by the median score followed by the business id to break ties. The resulting table should look like:\n",
    "\n",
    "\n",
    "*Hint: You may find the `as_index` argument important*\n",
    "\n",
    "<table border=\"1\" class=\"dataframe\">  <thead>    <tr style=\"text-align: right;\">      <th></th>      <th>bid</th>      <th>name</th>      <th>median score</th>    </tr>  </thead>  <tbody>    <tr>      <th>3876</th>      <td>84590</td>      <td>Chaat Corner</td>      <td>54.0</td>    </tr>    <tr>      <th>4564</th>      <td>90622</td>      <td>Taqueria Lolita</td>      <td>57.0</td>    </tr>    <tr>      <th>4990</th>      <td>94351</td>      <td>VBowls LLC</td>      <td>58.0</td>    </tr>    <tr>      <th>2719</th>      <td>69282</td>      <td>New Jumbo Seafood Restaurant</td>      <td>60.5</td>    </tr>    <tr>      <th>222</th>      <td>1154</td>      <td>SUNFLOWER RESTAURANT</td>      <td>63.5</td>    </tr>    <tr>      <th>1991</th>      <td>39776</td>      <td>Duc Loi Supermarket</td>      <td>64.0</td>    </tr>    <tr>      <th>2734</th>      <td>69397</td>      <td>Minna SF Group LLC</td>      <td>64.0</td>    </tr>    <tr>      <th>3291</th>      <td>78328</td>      <td>Golden Wok</td>      <td>64.0</td>    </tr>    <tr>      <th>4870</th>      <td>93150</td>      <td>Chez Beesen</td>      <td>64.0</td>    </tr>    <tr>      <th>4911</th>      <td>93502</td>      <td>Smoky Man</td>      <td>64.0</td>    </tr>    <tr>      <th>5510</th>      <td>98995</td>      <td>Vallarta's Taco Bar</td>      <td>64.0</td>    </tr>    <tr>      <th>1457</th>      <td>10877</td>      <td>CHINA FIRST INC.</td>      <td>64.5</td>    </tr>    <tr>      <th>2890</th>      <td>71310</td>      <td>Golden King Vietnamese Restaurant</td>      <td>64.5</td>    </tr>    <tr>      <th>4352</th>      <td>89070</td>      <td>Lafayette Coffee Shop</td>      <td>64.5</td>    </tr>    <tr>      <th>505</th>      <td>2542</td>      <td>PETER D'S RESTAURANT</td>      <td>65.0</td>    </tr>    <tr>      <th>2874</th>      <td>71008</td>      <td>House of Pancakes</td>      <td>65.0</td>    </tr>    <tr>      <th>818</th>      <td>3862</td>      <td>IMPERIAL GARDEN SEAFOOD RESTAURANT</td>      <td>66.0</td>    </tr>    <tr>      <th>2141</th>      <td>61427</td>      <td>Nick's Foods</td>      <td>66.0</td>    </tr>    <tr>      <th>2954</th>      <td>72176</td>      <td>Wolfes Lunch</td>      <td>66.0</td>    </tr>    <tr>      <th>4367</th>      <td>89141</td>      <td>Cha Cha Cha on Mission</td>      <td>66.5</td>    </tr>  </tbody></table>\n",
    "\n",
    "\n",
    "<!--\n",
    "BEGIN QUESTION\n",
    "name: q5b\n",
    "points: 3\n",
    "-->"
   ]
  },
  {
   "cell_type": "code",
   "execution_count": 128,
   "metadata": {},
   "outputs": [],
   "source": [
    "twenty_lowest_scoring = ... \n",
    "...\n",
    "\n",
    "twenty_lowest_scoring"
   ]
  },
  {
   "cell_type": "code",
   "execution_count": null,
   "metadata": {
    "deletable": false,
    "editable": false
   },
   "outputs": [],
   "source": [
    "grader.check(\"q5b\")"
   ]
  },
  {
   "cell_type": "markdown",
   "metadata": {
    "deletable": false,
    "editable": false
   },
   "source": [
    "<br/><br/><br/>\n",
    "\n",
    "--- \n",
    "\n",
    "## Question 5c\n",
    "\n",
    "Let's now examine the descriptions of violations for inspections with `score > 0` and `score < 65`.  Construct a **Series** indexed by the `description` of the violation from the `vio` table with the value being the number of times that violation occured for inspections with the above score range.  Sort the results in descending order of the count.\n",
    "\n",
    "The first few entries should look like:\n",
    "\n",
    "```\n",
    "Unclean or unsanitary food contact surfaces                                  43\n",
    "High risk food holding temperature                                           42\n",
    "Unclean or degraded floors walls or ceilings                                 40\n",
    "Unapproved or unmaintained equipment or utensils                             39\n",
    "```\n",
    "You will need to use `merge` twice.\n",
    "\n",
    "<!--\n",
    "BEGIN QUESTION\n",
    "name: q5c\n",
    "points: 2\n",
    "-->"
   ]
  },
  {
   "cell_type": "code",
   "execution_count": 132,
   "metadata": {},
   "outputs": [],
   "source": [
    "low_score_violations = ...\n",
    "\n",
    "...\n",
    "\n",
    "low_score_violations.head(20)"
   ]
  },
  {
   "cell_type": "code",
   "execution_count": null,
   "metadata": {
    "deletable": false,
    "editable": false
   },
   "outputs": [],
   "source": [
    "grader.check(\"q5c\")"
   ]
  },
  {
   "cell_type": "markdown",
   "metadata": {},
   "source": [
    "### Question 5d\n",
    "Let's figure out which restaurant had the worst scores ever (single lowest score). "
   ]
  },
  {
   "cell_type": "code",
   "execution_count": 137,
   "metadata": {},
   "outputs": [],
   "source": [
    "worst_restaurant = ...\n",
    "worst_restaurant"
   ]
  },
  {
   "cell_type": "markdown",
   "metadata": {
    "deletable": false,
    "editable": false
   },
   "source": [
    "<!-- BEGIN QUESTION -->\n",
    "\n",
    "**In the cell below, write the name of the restaurant** with the lowest inspection scores ever. You can also head to yelp.com and look up the reviews page for this restaurant. Feel free to add anything interesting you want to share.\n",
    "\n",
    "<!--\n",
    "BEGIN QUESTION\n",
    "name: q5d\n",
    "points: 2\n",
    "manual: True\n",
    "-->"
   ]
  },
  {
   "cell_type": "markdown",
   "metadata": {},
   "source": [
    "_Type your answer here, replacing this text._"
   ]
  },
  {
   "cell_type": "markdown",
   "metadata": {},
   "source": [
    "<!-- END QUESTION -->\n",
    "\n",
    "\n",
    "\n",
    "<br/><br/><br/><br/>\n",
    "\n",
    "---\n",
    "\n",
    "<br/><br/>\n",
    "\n",
    "## 6: Explore Inspection Scores\n",
    "\n",
    "In this part we explore some of the basic inspection score values visually."
   ]
  },
  {
   "cell_type": "markdown",
   "metadata": {
    "collapsed": true,
    "deletable": false,
    "editable": false,
    "jupyter": {
     "outputs_hidden": true
    }
   },
   "source": [
    "<!-- BEGIN QUESTION -->\n",
    "\n",
    "<br/><br/><br/>\n",
    "\n",
    "---\n",
    "\n",
    "\n",
    "## Question 6a\n",
    "Let's look at the distribution of inspection scores. As we saw before when we called head on this data frame, inspection scores appear to be integer values. The discreteness of this variable means that we can use a barplot to visualize the distribution of the inspection score. Make a bar plot of the counts of the number of inspections receiving each score.\n",
    "\n",
    "It should look like the image below. It does not need to look exactly the same (e.g., no grid), but make sure that all labels and axes are correct.\n",
    "\n",
    "![](pics/6a.png)\n",
    "\n",
    "You might find this [matplotlib.pyplot tutorial](https://matplotlib.org/tutorials/introductory/pyplot.html) useful. Key syntax that you'll need:\n",
    "\n",
    "```\n",
    "plt.bar\n",
    "plt.xlabel\n",
    "plt.ylabel\n",
    "plt.title\n",
    "```\n",
    "\n",
    "*Note*: If you want to use another plotting library for your plots (e.g. plotly, sns) you are welcome to use that library instead so long as it works on DataHub. If you use seaborn sns.countplot(), you may need to manually set what to display on xticks.\n",
    "\n",
    "\n",
    "<!--\n",
    "BEGIN QUESTION\n",
    "name: q6a\n",
    "points: 1\n",
    "manual: True\n",
    "-->"
   ]
  },
  {
   "cell_type": "code",
   "execution_count": 138,
   "metadata": {
    "scrolled": false
   },
   "outputs": [],
   "source": [
    "..."
   ]
  },
  {
   "cell_type": "markdown",
   "metadata": {
    "deletable": false,
    "editable": false
   },
   "source": [
    "<!-- END QUESTION -->"
   ]
  },
  {
   "cell_type": "code",
   "execution_count": 139,
   "metadata": {},
   "outputs": [],
   "source": [
    "score_counts"
   ]
  },
  {
   "cell_type": "markdown",
   "metadata": {
    "deletable": false,
    "editable": false
   },
   "source": [
    "<!-- BEGIN QUESTION -->\n",
    "\n",
    "<br/><br/><br/>\n",
    "\n",
    "---\n",
    "\n",
    "### Question 6b\n",
    "Describe the qualities of the distribution of the inspections scores based on your bar plot. Consider the mode(s), symmetry, tails, gaps, and anomalous values. Are there any unusual features of this distribution? What do your observations imply about the scores?\n",
    "\n",
    "<!--\n",
    "BEGIN QUESTION\n",
    "name: q6b\n",
    "points: 2\n",
    "manual: True\n",
    "-->"
   ]
  },
  {
   "cell_type": "markdown",
   "metadata": {},
   "source": [
    "_Type your answer here, replacing this text._"
   ]
  },
  {
   "cell_type": "markdown",
   "metadata": {
    "deletable": false,
    "editable": false
   },
   "source": [
    "<!-- END QUESTION -->"
   ]
  },
  {
   "cell_type": "code",
   "execution_count": 716,
   "metadata": {},
   "outputs": [],
   "source": [
    "# THIS CELL AND ANY CELLS ADDED BELOW WILL NOT BE GRADED"
   ]
  },
  {
   "cell_type": "markdown",
   "metadata": {},
   "source": [
    "## Congratulations! You have finished Homework 2! \n",
    "## Please remember to submit the homework before Tuesday, February 16, 11:59 PM"
   ]
  },
  {
   "cell_type": "markdown",
   "metadata": {
    "deletable": false,
    "editable": false
   },
   "source": [
    "---\n",
    "\n",
    "To double-check your work, the cell below will rerun all of the autograder tests."
   ]
  },
  {
   "cell_type": "code",
   "execution_count": null,
   "metadata": {
    "deletable": false,
    "editable": false
   },
   "outputs": [],
   "source": [
    "grader.check_all()"
   ]
  },
  {
   "cell_type": "markdown",
   "metadata": {
    "deletable": false,
    "editable": false
   },
   "source": [
    "## Submission\n",
    "\n",
    "Make sure you have run all cells in your notebook in order before running the cell below, so that all images/graphs appear in the output. The cell below will generate a zip file for you to submit. **Please save before exporting!**"
   ]
  },
  {
   "cell_type": "code",
   "execution_count": null,
   "metadata": {
    "deletable": false,
    "editable": false
   },
   "outputs": [],
   "source": [
    "# Save your notebook first, then run this cell to export your submission.\n",
    "grader.export()"
   ]
  },
  {
   "cell_type": "markdown",
   "metadata": {},
   "source": [
    " "
   ]
  }
 ],
 "metadata": {
  "celltoolbar": "Create Assignment",
  "history": [
   {
    "code": "import numpy as np\nimport pandas as pd\n\nimport matplotlib\nimport matplotlib.pyplot as plt\nimport seaborn as sns\nsns.set()\nplt.style.use('fivethirtyeight')\n\nimport zipfile\nimport os # Used to interact with the file system",
    "id": "34c355799a0d4d1f82f25f8dc0b960f3",
    "idx": 5,
    "time": "2021-02-06T02:01:20.300Z",
    "type": "execution"
   },
   {
    "id": "34c355799a0d4d1f82f25f8dc0b960f3",
    "time": "2021-02-06T02:01:21.574Z",
    "type": "completion"
   },
   {
    "code": "from pathlib import Path\ndata_dir = Path('.')\ndata_dir.mkdir(exist_ok = True)\nfile_path = data_dir / Path('data.zip')\ndest_path = file_path",
    "id": "9d54ae787071465aa5e558f1dd653889",
    "idx": 8,
    "time": "2021-02-06T02:01:56.605Z",
    "type": "execution"
   },
   {
    "id": "9d54ae787071465aa5e558f1dd653889",
    "time": "2021-02-06T02:01:56.711Z",
    "type": "completion"
   },
   {
    "code": "!ls ",
    "id": "3aa023f3a8454a7fa99b11ca051539e3",
    "idx": 10,
    "time": "2021-02-06T02:02:01.539Z",
    "type": "execution"
   },
   {
    "id": "3aa023f3a8454a7fa99b11ca051539e3",
    "time": "2021-02-06T02:02:02.366Z",
    "type": "completion"
   },
   {
    "code": "my_zip = zipfile.ZipFile(dest_path, 'r') # SOLUTION\nlist_names = [f.filename for f in my_zip.filelist] # SOLUTION\nlist_names",
    "id": "03be475ad8e8481487be5f1c5a195e6b",
    "idx": 13,
    "time": "2021-02-06T02:03:07.986Z",
    "type": "execution"
   },
   {
    "id": "03be475ad8e8481487be5f1c5a195e6b",
    "time": "2021-02-06T02:03:08.154Z",
    "type": "completion"
   },
   {
    "code": "# TEST\nisinstance(my_zip, zipfile.ZipFile)",
    "id": "e95d6c76ace54b4c8ba6d60b79a1bc60",
    "idx": 14,
    "time": "2021-02-06T02:03:22.103Z",
    "type": "execution"
   },
   {
    "id": "e95d6c76ace54b4c8ba6d60b79a1bc60",
    "time": "2021-02-06T02:03:22.222Z",
    "type": "completion"
   },
   {
    "code": "# TEST\nisinstance(list_names, list)",
    "id": "4d39d69e129643db8435f089df604411",
    "idx": 15,
    "time": "2021-02-06T02:03:23.872Z",
    "type": "execution"
   },
   {
    "id": "4d39d69e129643db8435f089df604411",
    "time": "2021-02-06T02:03:24.005Z",
    "type": "completion"
   },
   {
    "code": "# TEST\nall([isinstance(file, str) for file in list_names]) ",
    "id": "748eb75a4f67423e9a3b4117c345244b",
    "idx": 16,
    "time": "2021-02-06T02:03:29.602Z",
    "type": "execution"
   },
   {
    "id": "748eb75a4f67423e9a3b4117c345244b",
    "time": "2021-02-06T02:03:29.720Z",
    "type": "completion"
   },
   {
    "code": "# HIDDEN TEST\nanswer = set(['data/',\n 'data/bus.csv',\n 'data/ins.csv',\n 'data/ins2vio.csv',\n 'data/vio.csv',\n 'data/sf_zipcodes.json',\n 'data/legend.csv'])\nlen(answer - set(list_names)) == 0 # Check that all the file names match",
    "id": "2b0d6d9fc2044ac085dee7d4b8a716b9",
    "idx": 17,
    "time": "2021-02-06T02:03:34.450Z",
    "type": "execution"
   },
   {
    "id": "2b0d6d9fc2044ac085dee7d4b8a716b9",
    "time": "2021-02-06T02:03:34.602Z",
    "type": "completion"
   },
   {
    "code": "# BEGIN SOLUTION\nmy_zip = zipfile.ZipFile(dest_path, 'r')\nfor file in my_zip.filelist:\n    print('{}\\t{}'.format(file.filename, file.file_size))\n# END SOLUTION",
    "id": "3355f4924ece4295abf44c33ac4b156a",
    "idx": 20,
    "time": "2021-02-06T02:04:47.647Z",
    "type": "execution"
   },
   {
    "id": "3355f4924ece4295abf44c33ac4b156a",
    "time": "2021-02-06T02:04:47.822Z",
    "type": "completion"
   },
   {
    "code": "data_dir = Path('.')\nmy_zip.extractall(data_dir)\n!ls {data_dir / Path(\"data\")}",
    "id": "4917e8e501f145898abecb91f51f7e4f",
    "idx": 22,
    "time": "2021-02-06T02:05:17.201Z",
    "type": "execution"
   },
   {
    "id": "4917e8e501f145898abecb91f51f7e4f",
    "time": "2021-02-06T02:05:18.213Z",
    "type": "completion"
   },
   {
    "code": "import ds100_utils\n# BEGIN SOLUTION\ndata_dir = \"./\"\nfor f in list_names:\n    if not os.path.isdir(f):\n        print(ds100_utils.head(data_dir + f, 5), \"\\n\")\n# END SOLUTION",
    "id": "9132572d784d45188c3989004c2794fd",
    "idx": 25,
    "time": "2021-02-06T02:07:05.181Z",
    "type": "execution"
   },
   {
    "id": "9132572d784d45188c3989004c2794fd",
    "time": "2021-02-06T02:07:05.452Z",
    "type": "completion"
   },
   {
    "code": "# path to directory containing data\ndsDir = Path('data')\n\nbus = pd.read_csv(dsDir/'bus.csv', encoding='ISO-8859-1') # SOLUTION\nins2vio = pd.read_csv(dsDir/'ins2vio.csv') # SOLUTION\nins = pd.read_csv(dsDir/'ins.csv') # SOLUTION\nvio = pd.read_csv(dsDir/'vio.csv') # SOLUTION\n\n\n#This code is essential for the autograder to function properly. Do not edit\nins_test = ins",
    "id": "5e624ba428624cdc84eb8d10a8ad3da0",
    "idx": 27,
    "time": "2021-02-06T02:08:03.410Z",
    "type": "execution"
   },
   {
    "id": "5e624ba428624cdc84eb8d10a8ad3da0",
    "time": "2021-02-06T02:08:03.572Z",
    "type": "completion"
   },
   {
    "code": "bus.head() # SOLUTION",
    "id": "269517ba0b1d4ea3826c27425d526cd3",
    "idx": 29,
    "time": "2021-02-06T02:08:34.891Z",
    "type": "execution"
   },
   {
    "id": "269517ba0b1d4ea3826c27425d526cd3",
    "time": "2021-02-06T02:08:35.159Z",
    "type": "completion"
   },
   {
    "code": "bus.describe() # SOLUTION",
    "id": "e1a29e1e80ff4c68addc7b176113f25f",
    "idx": 31,
    "time": "2021-02-06T02:08:53.539Z",
    "type": "execution"
   },
   {
    "id": "e1a29e1e80ff4c68addc7b176113f25f",
    "time": "2021-02-06T02:08:53.784Z",
    "type": "completion"
   },
   {
    "code": "assert all(bus.columns == ['business id column', 'name', 'address', 'city', 'state', 'postal_code',\n                           'latitude', 'longitude', 'phone_number'])\nassert 6250 <= len(bus) <= 6260\n\nassert all(ins.columns == ['iid', 'date', 'score', 'type'])\nassert 26660 <= len(ins) <= 26670\n\nassert all(vio.columns == ['description', 'risk_category', 'vid'])\nassert 60 <= len(vio) <= 65\n\nassert all(ins2vio.columns == ['iid', 'vid'])\nassert 40210 <= len(ins2vio) <= 40220",
    "id": "c7eafc418c62433c99a6f13e5ffcc348",
    "idx": 34,
    "time": "2021-02-06T02:09:42.737Z",
    "type": "execution"
   },
   {
    "id": "c7eafc418c62433c99a6f13e5ffcc348",
    "time": "2021-02-06T02:09:42.879Z",
    "type": "completion"
   },
   {
    "code": "bus_summary = pd.DataFrame(**{'columns': ['business id column', 'latitude', 'longitude'],\n 'data': {'business id column': {'50%': 75685.0, 'max': 102705.0, 'min': 19.0},\n  'latitude': {'50%': -9999.0, 'max': 37.824494, 'min': -9999.0},\n  'longitude': {'50%': -9999.0,\n   'max': 0.0,\n   'min': -9999.0}},\n 'index': ['min', '50%', 'max']})\n\nins_summary = pd.DataFrame(**{'columns': ['score'],\n 'data': {'score': {'50%': 76.0, 'max': 100.0, 'min': -1.0}},\n 'index': ['min', '50%', 'max']})\n\nvio_summary = pd.DataFrame(**{'columns': ['vid'],\n 'data': {'vid': {'50%': 103135.0, 'max': 103177.0, 'min': 103102.0}},\n 'index': ['min', '50%', 'max']})\n\nfrom IPython.display import display\n\nprint('What we expect from your Businesses dataframe:')\ndisplay(bus_summary)\nprint('What we expect from your Inspections dataframe:')\ndisplay(ins_summary)\nprint('What we expect from your Violations dataframe:')\ndisplay(vio_summary)",
    "id": "4602630ff4bc41ea8612b5c0af49bbe6",
    "idx": 36,
    "time": "2021-02-06T02:09:57.278Z",
    "type": "execution"
   },
   {
    "id": "4602630ff4bc41ea8612b5c0af49bbe6",
    "time": "2021-02-06T02:09:57.583Z",
    "type": "completion"
   },
   {
    "code": "\"\"\"Run this cell to load this utility comparison function that we will use in various\ntests below (both tests you can see and those we run internally for grading).\n\nDo not modify the function in any way.\n\"\"\"\n\n\ndef df_allclose(actual, desired, columns=None, rtol=5e-2):\n    \"\"\"Compare selected columns of two dataframes on a few summary statistics.\n    \n    Compute the min, median and max of the two dataframes on the given columns, and compare\n    that they match numerically to the given relative tolerance.\n    \n    If they don't match, an AssertionError is raised (by `numpy.testing`).\n    \"\"\"    \n    # summary statistics to compare on\n    stats = ['min', '50%', 'max']\n    \n    # For the desired values, we can provide a full DF with the same structure as\n    # the actual data, or pre-computed summary statistics.\n    # We assume a pre-computed summary was provided if columns is None. In that case, \n    # `desired` *must* have the same structure as the actual's summary\n    if columns is None:\n        des = desired\n        columns = desired.columns\n    else:\n        des = desired[columns].describe().loc[stats]\n\n    # Extract summary stats from actual DF\n    act = actual[columns].describe().loc[stats]\n\n    return np.allclose(act, des, rtol)",
    "id": "0aa1a204dcf9403f885b5db33191e701",
    "idx": 39,
    "time": "2021-02-06T02:10:48.546Z",
    "type": "execution"
   },
   {
    "id": "0aa1a204dcf9403f885b5db33191e701",
    "time": "2021-02-06T02:10:48.692Z",
    "type": "completion"
   },
   {
    "code": "# TEST\ndf_allclose(bus.rename(columns = {\"bid\" : \"business id column\"}), bus_summary)",
    "id": "1b398428c63f4f5db6cb69117987decf",
    "idx": 40,
    "time": "2021-02-06T02:11:31.189Z",
    "type": "execution"
   },
   {
    "id": "1b398428c63f4f5db6cb69117987decf",
    "time": "2021-02-06T02:11:31.440Z",
    "type": "completion"
   },
   {
    "code": "# TEST\ndf_allclose(ins_test, ins_summary)",
    "id": "46d854736c8a44b9b2c9c589904259c1",
    "idx": 41,
    "time": "2021-02-06T02:11:36.077Z",
    "type": "execution"
   },
   {
    "id": "46d854736c8a44b9b2c9c589904259c1",
    "time": "2021-02-06T02:11:36.311Z",
    "type": "completion"
   },
   {
    "code": "# TEST\ndf_allclose(vio, vio_summary)",
    "id": "59a74aeb9d604e9bbe35c2ddae390a74",
    "idx": 42,
    "time": "2021-02-06T02:11:39.843Z",
    "type": "execution"
   },
   {
    "id": "59a74aeb9d604e9bbe35c2ddae390a74",
    "time": "2021-02-06T02:11:40.081Z",
    "type": "completion"
   },
   {
    "code": "# TEST\ndf_allclose(ins2vio, vio_summary)",
    "id": "135bcc521d154a4a9fb172919103550d",
    "idx": 43,
    "time": "2021-02-06T02:11:41.899Z",
    "type": "execution"
   },
   {
    "id": "135bcc521d154a4a9fb172919103550d",
    "time": "2021-02-06T02:11:42.146Z",
    "type": "completion"
   },
   {
    "code": "# HIDDEN TEST\ndf_allclose(bus.rename(columns = {\"bid\" : \"business id column\"}), pd.read_csv(dsDir/'bus.csv', encoding='ISO-8859-1'), ['business id column', 'latitude', 'longitude'])",
    "id": "79386714f2de4b0c8a40edc8f1c922fe",
    "idx": 44,
    "time": "2021-02-06T02:11:48.806Z",
    "type": "execution"
   },
   {
    "id": "79386714f2de4b0c8a40edc8f1c922fe",
    "time": "2021-02-06T02:11:49.114Z",
    "type": "completion"
   },
   {
    "code": "# HIDDEN TEST\ndf_allclose(ins_test, pd.read_csv(dsDir/'ins.csv'), ['iid', 'score'])",
    "id": "08a06277b3db40858f6e6281ddcdd84b",
    "idx": 45,
    "time": "2021-02-06T02:11:51.021Z",
    "type": "execution"
   },
   {
    "id": "08a06277b3db40858f6e6281ddcdd84b",
    "time": "2021-02-06T02:11:51.298Z",
    "type": "completion"
   },
   {
    "code": "# HIDDEN TEST\ndf_allclose(vio, pd.read_csv(dsDir/'vio.csv'), ['vid'])",
    "id": "dcdfefea3fe14647aa785b0427477c50",
    "idx": 46,
    "time": "2021-02-06T02:11:52.845Z",
    "type": "execution"
   },
   {
    "id": "dcdfefea3fe14647aa785b0427477c50",
    "time": "2021-02-06T02:11:53.142Z",
    "type": "completion"
   },
   {
    "code": "# HIDDEN TEST\ndf_allclose(ins2vio, pd.read_csv(dsDir/'ins2vio.csv'), ['vid'])",
    "id": "5c9ec6a5b40e44938fcac73122177f70",
    "idx": 47,
    "time": "2021-02-06T02:11:54.786Z",
    "type": "execution"
   },
   {
    "id": "5c9ec6a5b40e44938fcac73122177f70",
    "time": "2021-02-06T02:11:55.243Z",
    "type": "completion"
   },
   {
    "code": "bus.head()",
    "id": "d7afd70f8b9d4bc8805d8954858cdd28",
    "idx": 53,
    "time": "2021-02-06T02:12:42.607Z",
    "type": "execution"
   },
   {
    "id": "d7afd70f8b9d4bc8805d8954858cdd28",
    "time": "2021-02-06T02:12:42.852Z",
    "type": "completion"
   },
   {
    "code": "bus = bus.rename(columns={\"business id column\": \"bid\"})  # SOLUTION",
    "id": "197c1f1466d4400bab0d22080ecc3d81",
    "idx": 55,
    "time": "2021-02-06T02:13:09.392Z",
    "type": "execution"
   },
   {
    "id": "197c1f1466d4400bab0d22080ecc3d81",
    "time": "2021-02-06T02:13:09.509Z",
    "type": "completion"
   },
   {
    "code": "# TEST\n\"bid\" in set(bus.columns)",
    "id": "a96923e86a62459e8a2c0367c6f4367e",
    "idx": 56,
    "time": "2021-02-06T02:13:11.733Z",
    "type": "execution"
   },
   {
    "id": "a96923e86a62459e8a2c0367c6f4367e",
    "time": "2021-02-06T02:13:11.974Z",
    "type": "completion"
   },
   {
    "code": "is_bid_unique = bus['bid'].value_counts().max() == 1 # SOLUTION",
    "id": "62936a030b6e4e3c82e3387f262f1372",
    "idx": 58,
    "time": "2021-02-06T02:13:30.678Z",
    "type": "execution"
   },
   {
    "id": "62936a030b6e4e3c82e3387f262f1372",
    "time": "2021-02-06T02:13:30.783Z",
    "type": "completion"
   },
   {
    "code": "# TEST\nis_bid_unique or ~is_bid_unique",
    "id": "535d0cc8b7d44ed99ce588d1298008ff",
    "idx": 59,
    "time": "2021-02-06T02:13:34.650Z",
    "type": "execution"
   },
   {
    "id": "535d0cc8b7d44ed99ce588d1298008ff",
    "time": "2021-02-06T02:13:34.862Z",
    "type": "completion"
   },
   {
    "code": "# HIDDEN TEST\nis_bid_unique",
    "id": "0f437e60dd6349f88ee92b0a7b1bfb81",
    "idx": 60,
    "time": "2021-02-06T02:13:37.233Z",
    "type": "execution"
   },
   {
    "id": "0f437e60dd6349f88ee92b0a7b1bfb81",
    "time": "2021-02-06T02:13:37.466Z",
    "type": "completion"
   },
   {
    "code": "name_counts = bus['name'].value_counts() # SOLUTION\nname_counts.head(20)",
    "id": "ec18b65078c14030b541d0dfdc10b009",
    "idx": 62,
    "time": "2021-02-06T02:14:23.252Z",
    "type": "execution"
   },
   {
    "id": "ec18b65078c14030b541d0dfdc10b009",
    "time": "2021-02-06T02:14:23.502Z",
    "type": "completion"
   },
   {
    "code": "# TEST\nlen(name_counts) == 5775",
    "id": "11005a8458034f4c88b489db6b9084a5",
    "idx": 63,
    "time": "2021-02-06T02:14:29.747Z",
    "type": "execution"
   },
   {
    "id": "11005a8458034f4c88b489db6b9084a5",
    "time": "2021-02-06T02:14:30.029Z",
    "type": "completion"
   },
   {
    "code": "# HIDDEN TEST\nnp.all(name_counts.head().reset_index(drop=True) == bus['name'].value_counts().head().reset_index(drop=True))",
    "id": "cc70bab7adc847ab88092d2d27df40f4",
    "idx": 65,
    "time": "2021-02-06T02:14:53.044Z",
    "type": "execution"
   },
   {
    "id": "cc70bab7adc847ab88092d2d27df40f4",
    "time": "2021-02-06T02:14:53.272Z",
    "type": "completion"
   },
   {
    "code": "address_counts = bus['address'].value_counts() # SOLUTION\naddress_counts.head(10)",
    "id": "d350501a35fb49c28d66563c48d6bf9f",
    "idx": 67,
    "time": "2021-02-06T02:14:58.997Z",
    "type": "execution"
   },
   {
    "id": "d350501a35fb49c28d66563c48d6bf9f",
    "time": "2021-02-06T02:14:59.225Z",
    "type": "completion"
   },
   {
    "code": "# TEST \nlen(address_counts) == 5673",
    "id": "1c45fb7da15d402684fb6a3cdca351ba",
    "idx": 68,
    "time": "2021-02-06T02:15:04.279Z",
    "type": "execution"
   },
   {
    "id": "1c45fb7da15d402684fb6a3cdca351ba",
    "time": "2021-02-06T02:15:04.508Z",
    "type": "completion"
   },
   {
    "code": "# TEST \naddress_counts[\"428 11th St\"] == 34",
    "id": "30888b9ee9b345568e66df8a0143564d",
    "idx": 69,
    "time": "2021-02-06T02:15:10.847Z",
    "type": "execution"
   },
   {
    "id": "30888b9ee9b345568e66df8a0143564d",
    "time": "2021-02-06T02:15:11.071Z",
    "type": "completion"
   },
   {
    "code": "# HIDDEN TEST\nnp.all(address_counts.head().reset_index(drop=True) == bus['address'].value_counts().head().reset_index(drop=True))",
    "id": "ef7e8740cc424a66804a5cc7af0c2865",
    "idx": 70,
    "time": "2021-02-06T02:15:13.429Z",
    "type": "execution"
   },
   {
    "id": "ef7e8740cc424a66804a5cc7af0c2865",
    "time": "2021-02-06T02:15:13.670Z",
    "type": "completion"
   },
   {
    "code": "zip_counts = bus.groupby(\"postal_code\").size().sort_values(ascending=False) # SOLUTION\nprint(zip_counts.to_string())",
    "id": "66e608c55a04480c8fc4cbf75460304e",
    "idx": 73,
    "time": "2021-02-06T02:17:04.345Z",
    "type": "execution"
   },
   {
    "id": "66e608c55a04480c8fc4cbf75460304e",
    "time": "2021-02-06T02:17:04.571Z",
    "type": "completion"
   },
   {
    "code": "# TEST\ntype(zip_counts) == pd.Series",
    "id": "edfcc4fde05e44bcb0957ff21a7250fa",
    "idx": 74,
    "time": "2021-02-06T02:17:21.187Z",
    "type": "execution"
   },
   {
    "id": "edfcc4fde05e44bcb0957ff21a7250fa",
    "time": "2021-02-06T02:17:21.409Z",
    "type": "completion"
   },
   {
    "code": "# TEST\nzip_counts.shape[0] == 63",
    "id": "466f3d28472e470c8309bb7fe4e30df8",
    "idx": 75,
    "time": "2021-02-06T02:17:23.940Z",
    "type": "execution"
   },
   {
    "id": "466f3d28472e470c8309bb7fe4e30df8",
    "time": "2021-02-06T02:17:24.151Z",
    "type": "completion"
   },
   {
    "code": "# TEST\nzip_counts[\"94103\"] == 562",
    "id": "0e4879792b12452385ec0ce9c5c4407c",
    "idx": 76,
    "time": "2021-02-06T02:17:28.995Z",
    "type": "execution"
   },
   {
    "id": "0e4879792b12452385ec0ce9c5c4407c",
    "time": "2021-02-06T02:17:29.206Z",
    "type": "completion"
   },
   {
    "code": "# HIDDEN TEST\nnp.isclose(zip_counts.var(), bus['postal_code'].value_counts().var())",
    "id": "0dcac50d9cf547e0ab5b989cc17e3a31",
    "idx": 77,
    "time": "2021-02-06T02:17:31.479Z",
    "type": "execution"
   },
   {
    "id": "0dcac50d9cf547e0ab5b989cc17e3a31",
    "time": "2021-02-06T02:17:31.668Z",
    "type": "completion"
   },
   {
    "code": "# HIDDEN TEST\nnp.isclose(zip_counts.mean(), bus['postal_code'].value_counts().mean())",
    "id": "e8d8e6bccf1444cc98e6738ff778b590",
    "idx": 78,
    "time": "2021-02-06T02:17:34.351Z",
    "type": "execution"
   },
   {
    "id": "e8d8e6bccf1444cc98e6738ff778b590",
    "time": "2021-02-06T02:17:34.616Z",
    "type": "completion"
   },
   {
    "code": "# The ZIP code column is which of the following type of data:\n#   \"Quantitative Continuous\" \n#   \"Quantitative Discrete\"\n#   \"Qualitative Ordinal\"\n#   \"Qualitative Nominal\"\nq3b_part1 = \"Qualitative Nominal\" # SOLUTION\n\n# What Python data type is used to represent a ZIP code? \n#    \"str\"\n#    \"int\"\n#    \"bool\"\n#    \"float\"\nq3b_part2 = \"str\" # SOLUTION",
    "id": "9307af6d90264839b6b8cf7e887939e5",
    "idx": 80,
    "time": "2021-02-06T02:18:29.639Z",
    "type": "execution"
   },
   {
    "id": "9307af6d90264839b6b8cf7e887939e5",
    "time": "2021-02-06T02:18:29.748Z",
    "type": "completion"
   },
   {
    "code": "# TEST\nq3b_part1 in set([\"Quantitative Continuous\", \"Quantitative Discrete\", \n                  \"Qualitative Ordinal\", \"Qualitative Nominal\"])",
    "id": "9026e695fae94d6399768dd6836b6a83",
    "idx": 81,
    "time": "2021-02-06T02:18:32.163Z",
    "type": "execution"
   },
   {
    "id": "9026e695fae94d6399768dd6836b6a83",
    "time": "2021-02-06T02:18:32.667Z",
    "type": "completion"
   },
   {
    "code": "# TEST\nq3b_part2 in set([\"str\", \"int\", \"bool\", \"float\"])",
    "id": "0f3127a57e4f4e278964aa34e150a287",
    "idx": 82,
    "time": "2021-02-06T02:18:34.474Z",
    "type": "execution"
   },
   {
    "id": "0f3127a57e4f4e278964aa34e150a287",
    "time": "2021-02-06T02:18:34.956Z",
    "type": "completion"
   },
   {
    "code": "# HIDDEN TEST\nq3b_part1 == \"Qualitative Nominal\"",
    "id": "14762b286bb3497aa246d2981b83cd3e",
    "idx": 83,
    "time": "2021-02-06T02:18:36.591Z",
    "type": "execution"
   },
   {
    "id": "14762b286bb3497aa246d2981b83cd3e",
    "time": "2021-02-06T02:18:37.019Z",
    "type": "completion"
   },
   {
    "code": "# HIDDEN TEST\nq3b_part2 == \"str\"",
    "id": "926949fae38a4d929dfc439b16465c97",
    "idx": 84,
    "time": "2021-02-06T02:18:38.816Z",
    "type": "execution"
   },
   {
    "id": "926949fae38a4d929dfc439b16465c97",
    "time": "2021-02-06T02:18:39.086Z",
    "type": "completion"
   },
   {
    "code": "valid_zips = pd.read_json(\"data/sf_zipcodes.json\", dtype=\"str\")['zip_codes'] # SOLUTION\nvalid_zips.head()",
    "id": "891812063ab14af48eec4c9d299ac89a",
    "idx": 87,
    "time": "2021-02-06T02:19:26.579Z",
    "type": "execution"
   },
   {
    "id": "891812063ab14af48eec4c9d299ac89a",
    "time": "2021-02-06T02:19:26.784Z",
    "type": "completion"
   },
   {
    "code": "# TEST\nvalid_zips.dtype == object ",
    "id": "95a1c519b52c49818964a93ac09a68f0",
    "idx": 88,
    "time": "2021-02-06T02:19:29.099Z",
    "type": "execution"
   },
   {
    "id": "95a1c519b52c49818964a93ac09a68f0",
    "time": "2021-02-06T02:19:29.314Z",
    "type": "completion"
   },
   {
    "code": "# TEST\ntype(valid_zips) == pd.Series",
    "id": "df738dc5d19c426483b99ea029bd14b9",
    "idx": 89,
    "time": "2021-02-06T02:19:33.492Z",
    "type": "execution"
   },
   {
    "id": "df738dc5d19c426483b99ea029bd14b9",
    "time": "2021-02-06T02:19:33.718Z",
    "type": "completion"
   },
   {
    "code": "# HIDDEN TEST\nnp.all(valid_zips.sort_values() == pd.read_json(\"data/sf_zipcodes.json\", dtype=\"str\")['zip_codes'].sort_values()) ",
    "id": "646a2cfe836f4a258511a210a0805afe",
    "idx": 90,
    "time": "2021-02-06T02:19:38.432Z",
    "type": "execution"
   },
   {
    "id": "646a2cfe836f4a258511a210a0805afe",
    "time": "2021-02-06T02:19:38.634Z",
    "type": "completion"
   },
   {
    "code": "invalid_zip_bus = bus[~bus['postal_code'].isin(valid_zips)] # SOLUTION\ninvalid_zip_bus.head(20)",
    "id": "62b5539d3d654801882fdf9a6063f747",
    "idx": 92,
    "time": "2021-02-06T02:19:54.531Z",
    "type": "execution"
   },
   {
    "id": "62b5539d3d654801882fdf9a6063f747",
    "time": "2021-02-06T02:19:54.744Z",
    "type": "completion"
   },
   {
    "code": "# TEST\ntype(invalid_zip_bus) == pd.DataFrame",
    "id": "854fe47b867a44a98fc9107b44c1da2a",
    "idx": 93,
    "time": "2021-02-06T02:20:04.306Z",
    "type": "execution"
   },
   {
    "id": "854fe47b867a44a98fc9107b44c1da2a",
    "time": "2021-02-06T02:20:04.482Z",
    "type": "completion"
   },
   {
    "code": "# TEST\nlen(invalid_zip_bus) == 230",
    "id": "99db918bbc9a4a7d9b04e3a208277892",
    "idx": 94,
    "time": "2021-02-06T02:20:06.070Z",
    "type": "execution"
   },
   {
    "id": "99db918bbc9a4a7d9b04e3a208277892",
    "time": "2021-02-06T02:20:06.247Z",
    "type": "completion"
   },
   {
    "code": "# HIDDEN TEST\nset(invalid_zip_bus['postal_code']) == set(bus[~bus['postal_code'].isin(valid_zips)]['postal_code'])",
    "id": "208b5a96a19544918a5978999b44f426",
    "idx": 95,
    "time": "2021-02-06T02:20:08.174Z",
    "type": "execution"
   },
   {
    "id": "208b5a96a19544918a5978999b44f426",
    "time": "2021-02-06T02:20:08.350Z",
    "type": "completion"
   },
   {
    "code": "missing_zip_address_count = bus[bus['postal_code'] == \"-9999\"]['address'].value_counts() # SOLUTION\nmissing_zip_address_count.head()",
    "id": "321c000d34834b7ab1d030ecabea6f38",
    "idx": 97,
    "time": "2021-02-06T02:20:43.794Z",
    "type": "execution"
   },
   {
    "id": "321c000d34834b7ab1d030ecabea6f38",
    "time": "2021-02-06T02:20:44.018Z",
    "type": "completion"
   },
   {
    "code": "# TEST\ntype(missing_zip_address_count) == pd.Series",
    "id": "1aa8d350f31e43c48fc5b54fb38f1e98",
    "idx": 98,
    "time": "2021-02-06T02:21:11.008Z",
    "type": "execution"
   },
   {
    "id": "1aa8d350f31e43c48fc5b54fb38f1e98",
    "time": "2021-02-06T02:21:11.234Z",
    "type": "completion"
   },
   {
    "code": "# TEST\nlen(missing_zip_address_count) == 135",
    "id": "d6d2f6a5ca7644979e698a51e903276b",
    "idx": 99,
    "time": "2021-02-06T02:21:15.972Z",
    "type": "execution"
   },
   {
    "id": "d6d2f6a5ca7644979e698a51e903276b",
    "time": "2021-02-06T02:21:16.165Z",
    "type": "completion"
   },
   {
    "code": "# TEST\nmissing_zip_address_count['3914 Judah St'] == 1",
    "id": "98e029d7b65143828cecca3120062f43",
    "idx": 100,
    "time": "2021-02-06T02:21:19.182Z",
    "type": "execution"
   },
   {
    "id": "98e029d7b65143828cecca3120062f43",
    "time": "2021-02-06T02:21:19.373Z",
    "type": "completion"
   },
   {
    "code": "# HIDDEN TEST\nmissing_zip_address_count['Off The Grid'] == 39",
    "id": "6989cacf6e9946c687c9726a4186f1b9",
    "idx": 101,
    "time": "2021-02-06T02:21:24.493Z",
    "type": "execution"
   },
   {
    "id": "6989cacf6e9946c687c9726a4186f1b9",
    "time": "2021-02-06T02:21:24.687Z",
    "type": "completion"
   },
   {
    "code": "missing_zip_address_count",
    "id": "9f51651d1ba94eea8884f00443033f9f",
    "idx": 102,
    "time": "2021-02-06T02:22:25.495Z",
    "type": "execution"
   },
   {
    "id": "9f51651d1ba94eea8884f00443033f9f",
    "time": "2021-02-06T02:22:25.618Z",
    "type": "completion"
   },
   {
    "code": "# True or False: \n#  If we were to drop businesses with MISSING postal code values \n#   a particular class of business be affected.\nq3d_true_or_false = True # SOLUTION",
    "id": "acb3f209c13244d7a61f7eb5237f416b",
    "idx": 103,
    "time": "2021-02-06T02:22:41.204Z",
    "type": "execution"
   },
   {
    "id": "acb3f209c13244d7a61f7eb5237f416b",
    "time": "2021-02-06T02:22:41.292Z",
    "type": "completion"
   },
   {
    "code": "# TEST\ntype(q3d_true_or_false) == bool",
    "id": "c87be7b39db74ec4b16ba3cdb7d685c1",
    "idx": 104,
    "time": "2021-02-06T02:22:42.826Z",
    "type": "execution"
   },
   {
    "id": "c87be7b39db74ec4b16ba3cdb7d685c1",
    "time": "2021-02-06T02:22:43.008Z",
    "type": "completion"
   },
   {
    "code": "# HIDDEN TEST\nq3d_true_or_false == True",
    "id": "fe988787049c48f783089208e26729bc",
    "idx": 105,
    "time": "2021-02-06T02:22:45.145Z",
    "type": "execution"
   },
   {
    "id": "fe988787049c48f783089208e26729bc",
    "time": "2021-02-06T02:22:45.314Z",
    "type": "completion"
   },
   {
    "code": "bus['postal5'] = None\n# BEGIN SOLUTION\nbus['postal5'] = bus['postal_code'].str[:5]\nbus.loc[~bus['postal5'].isin(valid_zips), 'postal5'] = None \n# END SOLUTION\n\n# Checking the corrected postal5 column\nbus.loc[invalid_zip_bus.index, ['bid', 'name', 'postal_code', 'postal5']]",
    "id": "a42c8b580d3f418981278d15758a07e9",
    "idx": 107,
    "time": "2021-02-06T02:23:37.031Z",
    "type": "execution"
   },
   {
    "id": "a42c8b580d3f418981278d15758a07e9",
    "time": "2021-02-06T02:23:37.246Z",
    "type": "completion"
   },
   {
    "code": "# TEST\n'postal5' in bus.columns",
    "id": "436cd504418a436ba0af510827ddc588",
    "idx": 108,
    "time": "2021-02-06T02:24:07.618Z",
    "type": "execution"
   },
   {
    "id": "436cd504418a436ba0af510827ddc588",
    "time": "2021-02-06T02:24:07.824Z",
    "type": "completion"
   },
   {
    "code": "# TEST\n(bus['postal5'].str.len() != 5).sum() == 221",
    "id": "c6543ca21e754c3d8f94c3febafb9bc6",
    "idx": 109,
    "time": "2021-02-06T02:24:09.911Z",
    "type": "execution"
   },
   {
    "id": "c6543ca21e754c3d8f94c3febafb9bc6",
    "time": "2021-02-06T02:24:10.087Z",
    "type": "completion"
   },
   {
    "code": "# TEST\nbus['postal5'].isin(valid_zips).sum() == 6032",
    "id": "0fd031a8966d411e835d9b3d86735fac",
    "idx": 110,
    "time": "2021-02-06T02:24:12.237Z",
    "type": "execution"
   },
   {
    "id": "0fd031a8966d411e835d9b3d86735fac",
    "time": "2021-02-06T02:24:12.396Z",
    "type": "completion"
   },
   {
    "code": "# TEST\nbus['postal5'].isna().sum() == 221",
    "id": "fa576760e0a24fc68fbf00cfa1feb653",
    "idx": 111,
    "time": "2021-02-06T02:24:14.028Z",
    "type": "execution"
   },
   {
    "id": "fa576760e0a24fc68fbf00cfa1feb653",
    "time": "2021-02-06T02:24:14.217Z",
    "type": "completion"
   },
   {
    "code": "# HIDDEN TEST\n(bus['postal5'] == \"-9999\").sum() == 0",
    "id": "933dd4e6b3944a3d8c32c63cc9f0dde5",
    "idx": 112,
    "time": "2021-02-06T02:24:15.746Z",
    "type": "execution"
   },
   {
    "id": "933dd4e6b3944a3d8c32c63cc9f0dde5",
    "time": "2021-02-06T02:24:15.935Z",
    "type": "completion"
   },
   {
    "code": "# HIDDEN TEST\nbus['postal5'].isna().sum() == 221",
    "id": "04c744e6ba5e4d7581bf2e98aaeba8a0",
    "idx": 113,
    "time": "2021-02-06T02:24:17.980Z",
    "type": "execution"
   },
   {
    "id": "04c744e6ba5e4d7581bf2e98aaeba8a0",
    "time": "2021-02-06T02:24:18.178Z",
    "type": "completion"
   },
   {
    "code": "ins.head(5)",
    "id": "65fdbff8567546138b3aad2dd269ea4b",
    "idx": 116,
    "time": "2021-02-06T02:24:44.200Z",
    "type": "execution"
   },
   {
    "id": "65fdbff8567546138b3aad2dd269ea4b",
    "time": "2021-02-06T02:24:44.386Z",
    "type": "completion"
   },
   {
    "code": "is_ins_iid_a_primary_key = ins['iid'].value_counts().max() == 1 # SOLUTION",
    "id": "8abe856f55cd46f68ccb03a0574be0b6",
    "idx": 118,
    "time": "2021-02-06T02:24:59.920Z",
    "type": "execution"
   },
   {
    "id": "8abe856f55cd46f68ccb03a0574be0b6",
    "time": "2021-02-06T02:25:00.008Z",
    "type": "completion"
   },
   {
    "code": "# TEST\ntype(is_ins_iid_a_primary_key) == bool or type(is_ins_iid_a_primary_key) == np.bool_",
    "id": "c8a99b18ef4d447e881cd851eda43610",
    "idx": 119,
    "time": "2021-02-06T02:25:02.161Z",
    "type": "execution"
   },
   {
    "id": "c8a99b18ef4d447e881cd851eda43610",
    "time": "2021-02-06T02:25:02.337Z",
    "type": "completion"
   },
   {
    "code": "# HIDDEN TEST\nis_ins_iid_a_primary_key == True",
    "id": "827f616904a84aff8ac94d10810a8a02",
    "idx": 120,
    "time": "2021-02-06T02:25:05.829Z",
    "type": "execution"
   },
   {
    "id": "827f616904a84aff8ac94d10810a8a02",
    "time": "2021-02-06T02:25:05.994Z",
    "type": "completion"
   },
   {
    "code": "ins['bid'] = ins['iid'].str.split(\"_\", expand=True)[0].astype(int) # SOLUTION",
    "id": "96fccc5a2f9342b4803c0fd15927a048",
    "idx": 123,
    "time": "2021-02-06T02:25:59.169Z",
    "type": "execution"
   },
   {
    "id": "96fccc5a2f9342b4803c0fd15927a048",
    "time": "2021-02-06T02:25:59.287Z",
    "type": "completion"
   },
   {
    "code": "# TEST\n'bid' in ins.columns",
    "id": "4d980bf27d63464d8195a074be08c16f",
    "idx": 124,
    "time": "2021-02-06T02:26:03.401Z",
    "type": "execution"
   },
   {
    "id": "4d980bf27d63464d8195a074be08c16f",
    "time": "2021-02-06T02:26:03.584Z",
    "type": "completion"
   },
   {
    "code": "# TEST\nins['bid'].dtype == int",
    "id": "d82a369d94ca494b8ab66211cf5c4062",
    "idx": 125,
    "time": "2021-02-06T02:26:07.329Z",
    "type": "execution"
   },
   {
    "id": "d82a369d94ca494b8ab66211cf5c4062",
    "time": "2021-02-06T02:26:07.507Z",
    "type": "completion"
   },
   {
    "code": "# TEST\nlen(ins[ins['score'] > 0]['bid'].unique()) == 5724",
    "id": "c03d14bf53174b7c82357d2a1efad19c",
    "idx": 126,
    "time": "2021-02-06T02:26:11.767Z",
    "type": "execution"
   },
   {
    "id": "c03d14bf53174b7c82357d2a1efad19c",
    "time": "2021-02-06T02:26:11.929Z",
    "type": "completion"
   },
   {
    "code": "# HIDDEN TEST\nins['bid'].equals(ins['iid'].str.split(\"_\", expand=True)[0].astype(\"int\"))",
    "id": "d241fd9e7a914395be5d114d7b3fe122",
    "idx": 127,
    "time": "2021-02-06T02:26:13.960Z",
    "type": "execution"
   },
   {
    "id": "d241fd9e7a914395be5d114d7b3fe122",
    "time": "2021-02-06T02:26:14.113Z",
    "type": "completion"
   },
   {
    "code": "invalid_bid_count = (~ins['bid'].isin(bus['bid'])).sum() # SOLUTION",
    "id": "5bc37c4478ce4db9b5f25acc7b2622b6",
    "idx": 129,
    "time": "2021-02-06T02:26:18.578Z",
    "type": "execution"
   },
   {
    "id": "5bc37c4478ce4db9b5f25acc7b2622b6",
    "time": "2021-02-06T02:26:18.659Z",
    "type": "completion"
   },
   {
    "code": "# TEST\ninvalid_bid_count >= 0 ",
    "id": "9cfeafeae8fb42b089325ad9a386633c",
    "idx": 130,
    "time": "2021-02-06T02:26:20.996Z",
    "type": "execution"
   },
   {
    "id": "9cfeafeae8fb42b089325ad9a386633c",
    "time": "2021-02-06T02:26:21.155Z",
    "type": "completion"
   },
   {
    "code": "# HIDDEN TEST\ninvalid_bid_count == 0",
    "id": "e7559d463b794f5880831653897b0694",
    "idx": 131,
    "time": "2021-02-06T02:26:27.331Z",
    "type": "execution"
   },
   {
    "id": "e7559d463b794f5880831653897b0694",
    "time": "2021-02-06T02:26:27.494Z",
    "type": "completion"
   },
   {
    "code": "# True or False: The column ins['bid'] is a foreign key \n#   referencing the bus['bid'] primary key.\n\nq4b_is_foreign_key = True # SOLUTION",
    "id": "a9016731aada4f23895ce329238be01b",
    "idx": 133,
    "time": "2021-02-06T02:26:30.702Z",
    "type": "execution"
   },
   {
    "id": "a9016731aada4f23895ce329238be01b",
    "time": "2021-02-06T02:26:30.782Z",
    "type": "completion"
   },
   {
    "code": "# TEST\ntype(q4b_is_foreign_key) == bool",
    "id": "36e6728e3a9c4b16896689e06415f5ca",
    "idx": 134,
    "time": "2021-02-06T02:26:32.528Z",
    "type": "execution"
   },
   {
    "id": "36e6728e3a9c4b16896689e06415f5ca",
    "time": "2021-02-06T02:26:33.255Z",
    "type": "completion"
   },
   {
    "code": "# HIDDEN TEST\nq4b_is_foreign_key == True",
    "id": "874320aecb844f8aa69af880919ed82b",
    "idx": 135,
    "time": "2021-02-06T02:26:34.326Z",
    "type": "execution"
   },
   {
    "id": "874320aecb844f8aa69af880919ed82b",
    "time": "2021-02-06T02:26:34.480Z",
    "type": "completion"
   },
   {
    "code": "ins_date_type = type(ins['date'][0]) # SOLUTION\nins_date_type",
    "id": "deb406c4109b44758c57851f5f39178f",
    "idx": 138,
    "time": "2021-02-06T02:28:07.941Z",
    "type": "execution"
   },
   {
    "id": "deb406c4109b44758c57851f5f39178f",
    "time": "2021-02-06T02:28:08.171Z",
    "type": "completion"
   },
   {
    "code": "# TEST\ntype(ins_date_type) == type",
    "id": "46618170c874404c9906bf80e78c3946",
    "idx": 139,
    "time": "2021-02-06T02:28:12.341Z",
    "type": "execution"
   },
   {
    "id": "46618170c874404c9906bf80e78c3946",
    "time": "2021-02-06T02:28:12.498Z",
    "type": "completion"
   },
   {
    "code": "# HIDDEN TEST\nins_date_type == str",
    "id": "e05bcfb872454b87888c24eeb61c3c3d",
    "idx": 140,
    "time": "2021-02-06T02:28:17.528Z",
    "type": "execution"
   },
   {
    "id": "e05bcfb872454b87888c24eeb61c3c3d",
    "time": "2021-02-06T02:28:17.677Z",
    "type": "completion"
   },
   {
    "code": "ins['timestamp'] = pd.to_datetime(ins['date']) # SOLUTION",
    "id": "917f6c02481e44ad80e0eedcebcd0367",
    "idx": 142,
    "time": "2021-02-06T02:28:25.536Z",
    "type": "execution"
   },
   {
    "id": "917f6c02481e44ad80e0eedcebcd0367",
    "time": "2021-02-06T02:28:25.712Z",
    "type": "completion"
   },
   {
    "code": "# TEST\ntype(ins['timestamp'][1]) == pd.Timestamp",
    "id": "a0504875aa7e452fb2313398ffcb2c61",
    "idx": 143,
    "time": "2021-02-06T02:28:27.830Z",
    "type": "execution"
   },
   {
    "id": "a0504875aa7e452fb2313398ffcb2c61",
    "time": "2021-02-06T02:28:28.012Z",
    "type": "completion"
   },
   {
    "code": "earliest_date = ins['timestamp'].min() # SOLUTION\nlatest_date = ins['timestamp'].max() # SOLUTION\n\nprint(\"Earliest Date:\", earliest_date)\nprint(\"Latest Date:\", latest_date)",
    "id": "edfaf76d65d54960a325aa9e188abef0",
    "idx": 145,
    "time": "2021-02-06T02:28:33.682Z",
    "type": "execution"
   },
   {
    "id": "edfaf76d65d54960a325aa9e188abef0",
    "time": "2021-02-06T02:28:33.868Z",
    "type": "completion"
   },
   {
    "code": "# TEST\ntype(earliest_date) == pd.Timestamp",
    "id": "3ab4cd1bf5a345c8861b5d88bc3eddf8",
    "idx": 146,
    "time": "2021-02-06T02:28:36.732Z",
    "type": "execution"
   },
   {
    "id": "3ab4cd1bf5a345c8861b5d88bc3eddf8",
    "time": "2021-02-06T02:28:37.006Z",
    "type": "completion"
   },
   {
    "code": "# TEST\ntype(latest_date) == pd.Timestamp",
    "id": "22d2e0c4468243c6800b85972240b771",
    "idx": 147,
    "time": "2021-02-06T02:28:38.484Z",
    "type": "execution"
   },
   {
    "id": "22d2e0c4468243c6800b85972240b771",
    "time": "2021-02-06T02:28:38.638Z",
    "type": "completion"
   },
   {
    "code": "# HIDDEN TEST\nearliest_date == pd.Timestamp('2016-10-04 00:00:00')",
    "id": "323b46fbb8f54032bcb0af5f5fe7476a",
    "idx": 148,
    "time": "2021-02-06T02:28:40.782Z",
    "type": "execution"
   },
   {
    "id": "323b46fbb8f54032bcb0af5f5fe7476a",
    "time": "2021-02-06T02:28:40.968Z",
    "type": "completion"
   },
   {
    "code": "# HIDDEN TEST\nlatest_date == pd.Timestamp('2019-11-28 00:00:00')",
    "id": "5f9e022ca4754843ba5d5f21ccfd117d",
    "idx": 149,
    "time": "2021-02-06T02:28:44.587Z",
    "type": "execution"
   },
   {
    "id": "5f9e022ca4754843ba5d5f21ccfd117d",
    "time": "2021-02-06T02:28:44.750Z",
    "type": "completion"
   },
   {
    "code": "ins['year'] = ins['timestamp'].dt.year # SOLUTION",
    "id": "b137825ef42849bfbb854491abd44c5d",
    "idx": 151,
    "time": "2021-02-06T02:29:18.517Z",
    "type": "execution"
   },
   {
    "id": "b137825ef42849bfbb854491abd44c5d",
    "time": "2021-02-06T02:29:18.632Z",
    "type": "completion"
   },
   {
    "code": "# TEST\n'year' in ins.columns",
    "id": "4888a67e4b164a3089d82cedd877215c",
    "idx": 152,
    "time": "2021-02-06T02:29:20.692Z",
    "type": "execution"
   },
   {
    "id": "4888a67e4b164a3089d82cedd877215c",
    "time": "2021-02-06T02:29:20.862Z",
    "type": "completion"
   },
   {
    "code": "# HIDDEN TEST\nset(ins[ins['score'] > 0]['year'].value_counts()) == {959, 4043, 4355, 4674}",
    "id": "580f56be66dd47c687e44c7fb573304a",
    "idx": 153,
    "time": "2021-02-06T02:29:25.404Z",
    "type": "execution"
   },
   {
    "id": "580f56be66dd47c687e44c7fb573304a",
    "time": "2021-02-06T02:29:25.587Z",
    "type": "completion"
   },
   {
    "code": "ins.head()",
    "id": "6cd0a31d838e42e885d878f8a4930012",
    "idx": 154,
    "time": "2021-02-06T02:29:28.482Z",
    "type": "execution"
   },
   {
    "id": "6cd0a31d838e42e885d878f8a4930012",
    "time": "2021-02-06T02:29:28.638Z",
    "type": "completion"
   },
   {
    "code": "ins_pivot = ins.pivot_table(columns = \"year\", index = \"type\", aggfunc = len, fill_value = 0) # SOLUTION\nins_pivot = ins_pivot[\"bid\"] # SOLUTION\nins_pivot['Total'] = ins_pivot.sum(axis=1) # SOLUTION\nins_pivot_sorted = ins_pivot.sort_values('Total', ascending=False) # SOLUTION\nins_pivot_sorted",
    "id": "36fe8c15ca904cb193165243b353dce8",
    "idx": 157,
    "time": "2021-02-06T02:30:42.339Z",
    "type": "execution"
   },
   {
    "id": "36fe8c15ca904cb193165243b353dce8",
    "time": "2021-02-06T02:30:42.532Z",
    "type": "completion"
   },
   {
    "code": "ins.pivot_table(columns = \"year\", index = \"type\", aggfunc = len, fill_value = 0)",
    "id": "79590880fbd347c0947a76658ddc0737",
    "idx": 157,
    "time": "2021-02-06T02:31:14.647Z",
    "type": "execution"
   },
   {
    "id": "79590880fbd347c0947a76658ddc0737",
    "time": "2021-02-06T02:31:14.828Z",
    "type": "completion"
   },
   {
    "code": "ins_pivot = ins.pivot_table(columns = \"year\", index = \"type\", aggfunc = len, fill_value = 0) # SOLUTION\nins_pivot = ins_pivot[\"bid\"] # SOLUTION\nins_pivot['Total'] = ins_pivot.sum(axis=1) # SOLUTION\nins_pivot_sorted = ins_pivot.sort_values('Total', ascending=False) # SOLUTION\nins_pivot_sorted",
    "id": "36fe8c15ca904cb193165243b353dce8",
    "idx": 157,
    "time": "2021-02-06T02:31:23.857Z",
    "type": "execution"
   },
   {
    "id": "36fe8c15ca904cb193165243b353dce8",
    "time": "2021-02-06T02:31:24.033Z",
    "type": "completion"
   },
   {
    "code": "# TEST\nset(ins_pivot_sorted.columns) == {2016, 2017, 2018, 2019, 'Total'}",
    "id": "ce8b80b7a45f44bfb8dcefa8650977d7",
    "idx": 158,
    "time": "2021-02-06T02:31:28.449Z",
    "type": "execution"
   },
   {
    "id": "ce8b80b7a45f44bfb8dcefa8650977d7",
    "time": "2021-02-06T02:31:28.618Z",
    "type": "completion"
   },
   {
    "code": "# TEST\nlen(ins_pivot_sorted) == 15",
    "id": "dd4b2d5d454b49088e95c09196cbbfc8",
    "idx": 159,
    "time": "2021-02-06T02:31:31.387Z",
    "type": "execution"
   },
   {
    "id": "dd4b2d5d454b49088e95c09196cbbfc8",
    "time": "2021-02-06T02:31:31.529Z",
    "type": "completion"
   },
   {
    "code": "# HIDDEN TEST\nins_pivot_sorted.loc[\"Routine - Unscheduled\", 2016] == 966",
    "id": "637d8d7828e248b8889fcf0020f1dc8f",
    "idx": 160,
    "time": "2021-02-06T02:31:33.097Z",
    "type": "execution"
   },
   {
    "id": "637d8d7828e248b8889fcf0020f1dc8f",
    "time": "2021-02-06T02:31:33.237Z",
    "type": "completion"
   },
   {
    "code": "# HIDDEN TEST\nins_pivot_sorted.iloc[0,4] == 14077",
    "id": "3924979e6bf54eb78e4aeee317a73d27",
    "idx": 161,
    "time": "2021-02-06T02:31:34.958Z",
    "type": "execution"
   },
   {
    "id": "3924979e6bf54eb78e4aeee317a73d27",
    "time": "2021-02-06T02:31:35.112Z",
    "type": "completion"
   },
   {
    "code": "# HIDDEN TEST\nins_pivot_sorted.loc[\"New Ownership - Followup\", 2016] == 0",
    "id": "a8232fb63390455fa75dc1f55494b443",
    "idx": 162,
    "time": "2021-02-06T02:31:36.753Z",
    "type": "execution"
   },
   {
    "id": "a8232fb63390455fa75dc1f55494b443",
    "time": "2021-02-06T02:31:36.910Z",
    "type": "completion"
   },
   {
    "code": "year_of_new_construction = 2017 # SOLUTION",
    "id": "3f136332a69f4889a04f359e96f4ee5b",
    "idx": 164,
    "time": "2021-02-06T02:31:58.190Z",
    "type": "execution"
   },
   {
    "id": "3f136332a69f4889a04f359e96f4ee5b",
    "time": "2021-02-06T02:31:58.295Z",
    "type": "completion"
   },
   {
    "code": "# TEST\ntype(year_of_new_construction) == int",
    "id": "815956a3e3b8442d8823eb24ae59018f",
    "idx": 165,
    "time": "2021-02-06T02:32:00.336Z",
    "type": "execution"
   },
   {
    "id": "815956a3e3b8442d8823eb24ae59018f",
    "time": "2021-02-06T02:32:00.484Z",
    "type": "completion"
   },
   {
    "code": "# HIDDEN TEST\nyear_of_new_construction == 2017",
    "id": "4d65b39fe8cc4ebb9071abcbd14edb37",
    "idx": 166,
    "time": "2021-02-06T02:32:01.971Z",
    "type": "execution"
   },
   {
    "id": "4d65b39fe8cc4ebb9071abcbd14edb37",
    "time": "2021-02-06T02:32:02.104Z",
    "type": "completion"
   },
   {
    "code": "ins['score'].value_counts().head()",
    "id": "fb12e0c1376b4b6bb5f4cdec26099d1b",
    "idx": 168,
    "time": "2021-02-06T02:32:10.211Z",
    "type": "execution"
   },
   {
    "id": "fb12e0c1376b4b6bb5f4cdec26099d1b",
    "time": "2021-02-06T02:32:10.347Z",
    "type": "completion"
   },
   {
    "code": "ins_missing_score_pivot = ...\n\n# BEGIN SOLUTION\nins['Missing Score'] = (ins['score'] == -1).astype(\"str\")\n\nins_missing_score_pivot = ins.pivot_table(\n    index = \"type\", \n    columns = \"Missing Score\",\n    aggfunc = 'size',\n    fill_value = 0\n)\nins_missing_score_pivot['Total'] = ins_missing_score_pivot.sum(axis=1)\nins_missing_score_pivot.sort_values('Total', inplace=True, ascending=False)\nins_missing_score_pivot\n# END SOLUTION",
    "id": "ae18fb008ba842b98c232f286cf53648",
    "idx": 171,
    "time": "2021-02-06T02:33:02.389Z",
    "type": "execution"
   },
   {
    "id": "ae18fb008ba842b98c232f286cf53648",
    "time": "2021-02-06T02:33:02.655Z",
    "type": "completion"
   },
   {
    "code": "# TEST\nif type(ins_missing_score_pivot) == pd.DataFrame:\n    if False in ins_missing_score_pivot.columns: \n        ins_missing_score_pivot.rename(columns={False:\"False\"}, errors=\"raise\",inplace=True)\n    if True in ins_missing_score_pivot.columns:\n        ins_missing_score_pivot.rename(columns={True:\"True\"}, errors=\"raise\",inplace=True)\ntype(ins_missing_score_pivot) == pd.DataFrame",
    "id": "a51dd93fe1d840e7a036375dc9f05fea",
    "idx": 172,
    "time": "2021-02-06T02:33:08.720Z",
    "type": "execution"
   },
   {
    "id": "a51dd93fe1d840e7a036375dc9f05fea",
    "time": "2021-02-06T02:33:08.880Z",
    "type": "completion"
   },
   {
    "code": "# HIDDEN TEST\nset(ins_missing_score_pivot.columns) == {'False', 'Total', 'True'}",
    "id": "492f31b0174b4baaa037cd10c53c57ad",
    "idx": 173,
    "time": "2021-02-06T02:33:10.791Z",
    "type": "execution"
   },
   {
    "id": "492f31b0174b4baaa037cd10c53c57ad",
    "time": "2021-02-06T02:33:10.922Z",
    "type": "completion"
   },
   {
    "code": "# HIDDEN TEST\nlen(ins_missing_score_pivot) == 15",
    "id": "e3e2e174b45144b08c44ffbe0092ee83",
    "idx": 174,
    "time": "2021-02-06T02:33:12.663Z",
    "type": "execution"
   },
   {
    "id": "e3e2e174b45144b08c44ffbe0092ee83",
    "time": "2021-02-06T02:33:12.803Z",
    "type": "completion"
   },
   {
    "code": "# HIDDEN TEST\nins_missing_score_pivot[\"False\"][\"Routine - Unscheduled\"] == 14031 ",
    "id": "678cba902224430391b7daede724f380",
    "idx": 175,
    "time": "2021-02-06T02:33:14.464Z",
    "type": "execution"
   },
   {
    "id": "678cba902224430391b7daede724f380",
    "time": "2021-02-06T02:33:14.605Z",
    "type": "completion"
   },
   {
    "code": "# HIDDEN TEST\nins_missing_score_pivot.iloc[0,2] == 14077",
    "id": "ab4fe14ff77a4ca8935a32415a0af8bc",
    "idx": 176,
    "time": "2021-02-06T02:33:19.595Z",
    "type": "execution"
   },
   {
    "id": "ab4fe14ff77a4ca8935a32415a0af8bc",
    "time": "2021-02-06T02:33:19.722Z",
    "type": "completion"
   },
   {
    "code": "ins = ins[ins[\"score\"] > 0]",
    "id": "3076581e37b448568baf6a2b3ac9126a",
    "idx": 180,
    "time": "2021-02-06T02:34:04.278Z",
    "type": "execution"
   },
   {
    "id": "3076581e37b448568baf6a2b3ac9126a",
    "time": "2021-02-06T02:34:04.390Z",
    "type": "completion"
   },
   {
    "code": "ins_named = ...\n# BEGIN SOLUTION\nins_named = ins.merge(bus[[\"bid\", \"name\", \"address\"]], how=\"left\", on = \"bid\") \n# END SOLUTION\nins_named.head()",
    "id": "f5ea96a42dd444e98b94e47538b512a1",
    "idx": 182,
    "time": "2021-02-06T02:34:45.426Z",
    "type": "execution"
   },
   {
    "id": "f5ea96a42dd444e98b94e47538b512a1",
    "time": "2021-02-06T02:34:45.581Z",
    "type": "completion"
   },
   {
    "code": "# TEST\n\"name\" in ins_named and \"address\" in ins_named",
    "id": "e4ed58d31754472383d967dc19f5c9d9",
    "idx": 183,
    "time": "2021-02-06T02:34:49.722Z",
    "type": "execution"
   },
   {
    "id": "e4ed58d31754472383d967dc19f5c9d9",
    "time": "2021-02-06T02:34:49.859Z",
    "type": "completion"
   },
   {
    "code": "# TEST\nins_named[ins_named[\"Missing Score\"] == True].shape[0] == 0",
    "id": "f3206e390cae40c689a38a6eb245b0f9",
    "idx": 184,
    "time": "2021-02-06T02:34:51.605Z",
    "type": "execution"
   },
   {
    "id": "f3206e390cae40c689a38a6eb245b0f9",
    "time": "2021-02-06T02:34:51.743Z",
    "type": "completion"
   },
   {
    "code": "# TEST\nins_named.reset_index()['date'].equals(ins[ins['score'] > 0].reset_index()['date'])",
    "id": "f5a9999456344df88772db814e176112",
    "idx": 185,
    "time": "2021-02-06T02:34:53.523Z",
    "type": "execution"
   },
   {
    "id": "f5a9999456344df88772db814e176112",
    "time": "2021-02-06T02:34:53.662Z",
    "type": "completion"
   },
   {
    "code": "# HIDDEN TEST\nnp.isclose(sum(ins_named['name'].isnull()), 0, rtol=5)",
    "id": "c99ae9c0e7ed4632875f1d141eb92f3a",
    "idx": 186,
    "time": "2021-02-06T02:34:57.004Z",
    "type": "execution"
   },
   {
    "id": "c99ae9c0e7ed4632875f1d141eb92f3a",
    "time": "2021-02-06T02:34:57.136Z",
    "type": "completion"
   },
   {
    "code": "# HIDDEN TEST\nsol_merged = ins.merge(bus[[\"bid\", \"name\", \"address\"]], how=\"left\", left_on = \"bid\", right_on = \"bid\")\nins_named.equals(sol_merged[sol_merged[\"score\"] > 0])",
    "id": "573a49a717f14bdc8daa51b3f5d0cffc",
    "idx": 187,
    "time": "2021-02-06T02:34:58.822Z",
    "type": "execution"
   },
   {
    "id": "573a49a717f14bdc8daa51b3f5d0cffc",
    "time": "2021-02-06T02:34:58.956Z",
    "type": "completion"
   },
   {
    "code": "twenty_lowest_scoring = ... \n# BEGIN SOLUTION\ntwenty_lowest_scoring = (\n    ins_named.groupby('bid', as_index=False)\n        .aggregate({'name': 'first', 'score': 'median'})\n        .sort_values(['score', 'bid'] )\n        .rename(columns={'score': 'median score'})\n        .head(20)\n)\n# END SOLUTION\n\ntwenty_lowest_scoring",
    "id": "7fb17b7080a149d78a61ef29cb5277db",
    "idx": 189,
    "time": "2021-02-06T02:36:01.863Z",
    "type": "execution"
   },
   {
    "id": "7fb17b7080a149d78a61ef29cb5277db",
    "time": "2021-02-06T02:36:02.039Z",
    "type": "completion"
   },
   {
    "code": "# TEST\ntwenty_lowest_scoring.shape == (20, 3)",
    "id": "fe54f70f2ec3477e9b41172c08d14701",
    "idx": 190,
    "time": "2021-02-06T02:36:09.695Z",
    "type": "execution"
   },
   {
    "id": "fe54f70f2ec3477e9b41172c08d14701",
    "time": "2021-02-06T02:36:09.830Z",
    "type": "completion"
   },
   {
    "code": "# TEST\nset(twenty_lowest_scoring.columns) == {'bid', 'median score', 'name'}",
    "id": "68915877fa90445b8ddf9e831754b5ac",
    "idx": 191,
    "time": "2021-02-06T02:36:11.584Z",
    "type": "execution"
   },
   {
    "id": "68915877fa90445b8ddf9e831754b5ac",
    "time": "2021-02-06T02:36:11.717Z",
    "type": "completion"
   },
   {
    "code": "# HIDDEN TEST\n# print(twenty_lowest_scoring.to_html().replace(\"\\n\",\"\"))\nset(twenty_lowest_scoring[\"median score\"].values) == {54 , 57 , 58 , 60.5, 63.5, 64, \n                                                      64 , 64 , 64 , 64 , 64, 64.5, \n                                                      64.5, 64.5, 65, 65, 66, 66, 66, 66.5\n                                                      }",
    "id": "a74ae8d8ace442828e0945a27383d51e",
    "idx": 192,
    "time": "2021-02-06T02:36:13.446Z",
    "type": "execution"
   },
   {
    "id": "a74ae8d8ace442828e0945a27383d51e",
    "time": "2021-02-06T02:36:13.576Z",
    "type": "completion"
   },
   {
    "code": "low_score_violations = ...\n\n# BEGIN SOLUTION\nlow_score_violations = (\n    ins_named[ins_named['score'] < 65]\n        .merge(ins2vio, on='iid')\n        .merge(vio, on='vid')\n        .loc[:,'description']\n        .value_counts()\n        .sort_values(ascending=False)\n)\n# END SOLUTION\n\nlow_score_violations.head(20)",
    "id": "5c4465ab8d5241938b5b4aa60f634cc1",
    "idx": 194,
    "time": "2021-02-06T02:37:06.363Z",
    "type": "execution"
   },
   {
    "id": "5c4465ab8d5241938b5b4aa60f634cc1",
    "time": "2021-02-06T02:37:06.561Z",
    "type": "completion"
   },
   {
    "code": "# TEST\ntype(low_score_violations) == pd.Series",
    "id": "2fe38c8d2236497db59e3cdf11d538f5",
    "idx": 195,
    "time": "2021-02-06T02:37:21.544Z",
    "type": "execution"
   },
   {
    "id": "2fe38c8d2236497db59e3cdf11d538f5",
    "time": "2021-02-06T02:37:21.673Z",
    "type": "completion"
   },
   {
    "code": "# TEST\nlen(low_score_violations) == 50",
    "id": "ddd78752c0ab44048a34279fd6b15a54",
    "idx": 196,
    "time": "2021-02-06T02:37:23.150Z",
    "type": "execution"
   },
   {
    "id": "ddd78752c0ab44048a34279fd6b15a54",
    "time": "2021-02-06T02:37:23.299Z",
    "type": "completion"
   },
   {
    "code": "# TEST\nlow_score_violations[0] == 43",
    "id": "d85f43a6e27c48d28dccfab2d227237a",
    "idx": 197,
    "time": "2021-02-06T02:37:24.781Z",
    "type": "execution"
   },
   {
    "id": "d85f43a6e27c48d28dccfab2d227237a",
    "time": "2021-02-06T02:37:24.906Z",
    "type": "completion"
   },
   {
    "code": "# HIDDEN TEST\nnp.all(low_score_violations.head().values == np.array([43, 42, 40, 39, 37]))",
    "id": "ac584ba0e955403287d5b2272b15228a",
    "idx": 198,
    "time": "2021-02-06T02:37:26.629Z",
    "type": "execution"
   },
   {
    "id": "ac584ba0e955403287d5b2272b15228a",
    "time": "2021-02-06T02:37:26.773Z",
    "type": "completion"
   },
   {
    "code": "worst_restaurant = ...\n# BEGIN SOLUTION NO PROMPT\nworst_restaurant = ins_named.sort_values('score', ascending=False).tail(1)['name'].iloc[0]\n# END SOLUTION\nworst_restaurant",
    "id": "239bba4df8214704bcc4bae5ef6611e2",
    "idx": 200,
    "time": "2021-02-06T02:37:36.061Z",
    "type": "execution"
   },
   {
    "id": "239bba4df8214704bcc4bae5ef6611e2",
    "time": "2021-02-06T02:37:36.213Z",
    "type": "completion"
   },
   {
    "code": "# BEGIN SOLUTION\nscore_counts = ins.loc[ins[\"score\"] > 0, 'score'].value_counts()\nplt.bar(score_counts.keys(), score_counts, edgecolor='black')\nplt.xlabel(\"Score\")\nplt.ylabel(\"Count\")\nplt.title(\"Distribution of Inspection Scores\");\n# END SOLUTION",
    "id": "e848df57098849558eb8ff5f139279d7",
    "idx": 205,
    "time": "2021-02-06T02:39:43.680Z",
    "type": "execution"
   },
   {
    "id": "e848df57098849558eb8ff5f139279d7",
    "time": "2021-02-06T02:39:44.285Z",
    "type": "completion"
   },
   {
    "code": "score_counts",
    "id": "b58b8c05d82140d2ba3dbfe36161f511",
    "idx": 206,
    "time": "2021-02-06T02:39:51.510Z",
    "type": "execution"
   },
   {
    "id": "b58b8c05d82140d2ba3dbfe36161f511",
    "time": "2021-02-06T02:39:51.637Z",
    "type": "completion"
   }
  ],
  "kernelspec": {
   "display_name": "Python 3",
   "language": "python",
   "name": "python3"
  },
  "language_info": {
   "codemirror_mode": {
    "name": "ipython",
    "version": 3
   },
   "file_extension": ".py",
   "mimetype": "text/x-python",
   "name": "python",
   "nbconvert_exporter": "python",
   "pygments_lexer": "ipython3",
   "version": "3.8.6"
  }
 },
 "nbformat": 4,
 "nbformat_minor": 4
}
